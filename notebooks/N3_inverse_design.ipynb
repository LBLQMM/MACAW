{
 "cells": [
  {
   "cell_type": "markdown",
   "id": "9e32d88e",
   "metadata": {},
   "source": [
    "# Notebook 3 - Inverse design: molecules on specification"
   ]
  },
  {
   "cell_type": "markdown",
   "id": "46f8ff1a",
   "metadata": {},
   "source": [
    "By Vincent Blay, December 2021"
   ]
  },
  {
   "cell_type": "markdown",
   "id": "ea0af0e7",
   "metadata": {},
   "source": [
    "In this notebook we demonstrate two approaches to the generation of new molecules with a desired property specification by leveraging MACAW embeddings. \n",
    "\n",
    "In the first approach we generate a single large library throughout the MACAW embedding space and then retrieve promising molecules using the `hit_finder` functions.\n",
    "\n",
    "In the second approach we generate a series of small libraries using an evolutionary strategy using the `library_evolver` function.\n",
    "\n",
    "In both cases, the user is returned a list of promising SMILES molecules and their predicted property values."
   ]
  },
  {
   "cell_type": "code",
   "execution_count": 1,
   "id": "d3b44194",
   "metadata": {},
   "outputs": [
    {
     "name": "stdout",
     "output_type": "stream",
     "text": [
      "0.1.14\n"
     ]
    }
   ],
   "source": [
    "import numpy as np\n",
    "import pandas as pd\n",
    "import pickle\n",
    "\n",
    "#Needed to show molecules\n",
    "from rdkit import Chem\n",
    "from rdkit.Chem import Draw\n",
    "from rdkit.Chem.Draw import IPythonConsole \n",
    "\n",
    "import sys\n",
    "import os\n",
    "from rdkit import Chem\n",
    "from rdkit.Chem import RDConfig\n",
    "\n",
    "sys.path.append('../')\n",
    "sys.path.append(os.path.join(RDConfig.RDContribDir, 'SA_Score'))\n",
    "import sascorer\n",
    "\n",
    "import macaw\n",
    "print(macaw.__version__)\n",
    "\n",
    "from macaw import *"
   ]
  },
  {
   "cell_type": "code",
   "execution_count": 2,
   "id": "88a7f9c1",
   "metadata": {},
   "outputs": [],
   "source": [
    "%config InlineBackend.figure_format = 'retina'"
   ]
  },
  {
   "cell_type": "code",
   "execution_count": 3,
   "id": "689bfc49",
   "metadata": {},
   "outputs": [],
   "source": [
    "np.random.seed(123)"
   ]
  },
  {
   "cell_type": "markdown",
   "id": "767b8da9",
   "metadata": {},
   "source": [
    "In this example we will use the RON dataset, so let us load it"
   ]
  },
  {
   "cell_type": "code",
   "execution_count": 4,
   "id": "ce4d4f37",
   "metadata": {},
   "outputs": [],
   "source": [
    "df = pd.read_csv('./data/data_RON.csv')\n",
    "smiles = df.Smiles\n",
    "Y = df.RON"
   ]
  },
  {
   "cell_type": "markdown",
   "id": "083d64f1",
   "metadata": {},
   "source": [
    "We will also use the RON property model, so let us load it. In this case we are generating new molecules, so we will not split the dataset"
   ]
  },
  {
   "cell_type": "code",
   "execution_count": 5,
   "id": "8dbbf20b",
   "metadata": {},
   "outputs": [],
   "source": [
    "file = open('./results/macaw/RON_model_RVR.pickle', 'rb') \n",
    "mcw, regr = pickle.load(file)\n",
    "file.close()"
   ]
  },
  {
   "cell_type": "code",
   "execution_count": 6,
   "id": "ff3ac91e",
   "metadata": {},
   "outputs": [
    {
     "data": {
      "text/plain": [
       "194"
      ]
     },
     "execution_count": 6,
     "metadata": {},
     "output_type": "execute_result"
    }
   ],
   "source": [
    "len(smiles)"
   ]
  },
  {
   "cell_type": "code",
   "execution_count": 7,
   "id": "2feefa9f",
   "metadata": {},
   "outputs": [
    {
     "data": {
      "text/plain": [
       "array([[-0.37294356, -0.16228976, -0.11992277, ...,  0.04854571,\n",
       "         0.15096801, -0.20686424],\n",
       "       [-0.16341966,  0.09488168, -0.21971061, ..., -0.08187208,\n",
       "        -0.00823156, -0.12705621],\n",
       "       [-0.06303536,  0.37059225,  0.37029903, ..., -0.02565884,\n",
       "         0.02522118, -0.03009937],\n",
       "       ...,\n",
       "       [-0.29886838,  0.02393131,  0.03956538, ..., -0.01424329,\n",
       "        -0.18140393,  0.128053  ],\n",
       "       [ 0.18440676,  0.20625235,  0.10676658, ..., -0.23138202,\n",
       "        -0.02068631,  0.10850851],\n",
       "       [ 0.43964201,  0.20332516,  0.35694922, ..., -0.13639917,\n",
       "        -0.04441494, -0.0877567 ]])"
      ]
     },
     "execution_count": 7,
     "metadata": {},
     "output_type": "execute_result"
    }
   ],
   "source": [
    "mcw.transform(list(smiles))"
   ]
  },
  {
   "cell_type": "code",
   "execution_count": 8,
   "id": "c53fa6ef",
   "metadata": {},
   "outputs": [
    {
     "name": "stdout",
     "output_type": "stream",
     "text": [
      "0.9964073927469146\n"
     ]
    }
   ],
   "source": [
    "X = mcw.transform(smiles)\n",
    "\n",
    "print(np.corrcoef(Y,regr.predict(X))[0,1])"
   ]
  },
  {
   "cell_type": "markdown",
   "id": "e14339b0",
   "metadata": {},
   "source": [
    "##  Approach 1. Molecular design by generating and screening a single large library"
   ]
  },
  {
   "cell_type": "markdown",
   "id": "02faa819",
   "metadata": {},
   "source": [
    "The library generation involves computing a noisy probability matrix from which  molecules will be drawn. Molecules will have a length of up to 20 SELFIES tokens. The method only considers robust SELFIES tokens (i.e., those for which there are state-dependent derivation rules implemented)."
   ]
  },
  {
   "cell_type": "code",
   "execution_count": 9,
   "id": "f66d0c35",
   "metadata": {},
   "outputs": [
    {
     "name": "stdout",
     "output_type": "stream",
     "text": [
      "10000 molecules generated.\n",
      "20000 molecules generated.\n",
      "30000 molecules generated.\n",
      "40000 molecules generated.\n",
      "50000 molecules generated.\n",
      "60000 molecules generated.\n",
      "70000 molecules generated.\n",
      "80000 molecules generated.\n",
      "90000 molecules generated.\n",
      "100000 molecules generated.\n",
      "110000 molecules generated.\n",
      "120000 molecules generated.\n",
      "130000 molecules generated.\n",
      "140000 molecules generated.\n",
      "150000 molecules generated.\n",
      "160000 molecules generated.\n",
      "170000 molecules generated.\n",
      "180000 molecules generated.\n",
      "190000 molecules generated.\n",
      "200000 molecules generated.\n",
      "151916 unique molecules generated.\n"
     ]
    }
   ],
   "source": [
    "smiles_lib = library_maker(smiles, max_len=20, n_gen=200000, algorithm='position', noise_factor=0.5)"
   ]
  },
  {
   "cell_type": "markdown",
   "id": "e2de806c",
   "metadata": {},
   "source": [
    "We first embed the library molecules in the MACAW space:"
   ]
  },
  {
   "cell_type": "code",
   "execution_count": 10,
   "id": "fa022a1e",
   "metadata": {},
   "outputs": [
    {
     "data": {
      "text/plain": [
       "151916"
      ]
     },
     "execution_count": 10,
     "metadata": {},
     "output_type": "execute_result"
    }
   ],
   "source": [
    "len(smiles_lib)"
   ]
  },
  {
   "cell_type": "code",
   "execution_count": 11,
   "id": "3a4d4493",
   "metadata": {},
   "outputs": [
    {
     "name": "stdout",
     "output_type": "stream",
     "text": [
      "50000\n",
      "100000\n",
      "150000\n"
     ]
    }
   ],
   "source": [
    "X_lib = mcw.transform(smiles_lib)"
   ]
  },
  {
   "cell_type": "code",
   "execution_count": 12,
   "id": "94059907",
   "metadata": {},
   "outputs": [
    {
     "data": {
      "text/plain": [
       "(151916, 15)"
      ]
     },
     "execution_count": 12,
     "metadata": {},
     "output_type": "execute_result"
    }
   ],
   "source": [
    "X_lib.shape"
   ]
  },
  {
   "cell_type": "markdown",
   "id": "79df933b",
   "metadata": {},
   "source": [
    "And then we find promising molecular designs according to the desired specification (in this example, RON=110). \n",
    "\n",
    "For retrieving molecules from the 20-dimensional MACAW space, we will use our custom V-distance metric (`p=0.5`). If not specified, it will use `p=1` by default (Manhattan distance)."
   ]
  },
  {
   "cell_type": "code",
   "execution_count": 13,
   "id": "5ddba37e",
   "metadata": {},
   "outputs": [
    {
     "name": "stdout",
     "output_type": "stream",
     "text": [
      "['[C-]CO', '[C-][C+][O-]', 'CC[PH](=[P+])CC[O-]', 'O=C([C-]P)[P-]C[S+]', 'CCC(C)(C)C(C)C']\n",
      "[108.38088491 108.38088491 108.57025916 109.17289292 109.54862639]\n"
     ]
    }
   ],
   "source": [
    "spec = 110. # desired RON design specification\n",
    "\n",
    "idx, Y_hits_pred = hit_finder(X_lib, model=regr, spec=spec, X=X, Y=Y, n_hits=5, k1=5, k2=10, p=0.5, n_rounds=2)\n",
    "smiles_hits = [smiles_lib[i] for i in idx]\n",
    "\n",
    "print(smiles_hits)\n",
    "print(Y_hits_pred)"
   ]
  },
  {
   "cell_type": "markdown",
   "id": "e30d056a",
   "metadata": {},
   "source": [
    "Let us visualize the molecules:"
   ]
  },
  {
   "cell_type": "code",
   "execution_count": 14,
   "id": "4e6ed66d",
   "metadata": {},
   "outputs": [
    {
     "data": {
      "image/svg+xml": [
       "<svg xmlns=\"http://www.w3.org/2000/svg\" xmlns:rdkit=\"http://www.rdkit.org/xml\" xmlns:xlink=\"http://www.w3.org/1999/xlink\" version=\"1.1\" baseProfile=\"full\" xml:space=\"preserve\" width=\"600px\" height=\"400px\" viewBox=\"0 0 600 400\">\n",
       "<!-- END OF HEADER -->\n",
       "<rect style=\"opacity:1.0;fill:#FFFFFF;stroke:none\" width=\"600\" height=\"400\" x=\"0\" y=\"0\"> </rect>\n",
       "<rect style=\"opacity:1.0;fill:#FFFFFF;stroke:none\" width=\"600\" height=\"400\" x=\"0\" y=\"0\"> </rect>\n",
       "<rect style=\"opacity:1.0;fill:#FFFFFF;stroke:none\" width=\"600\" height=\"400\" x=\"0\" y=\"0\"> </rect>\n",
       "<rect style=\"opacity:1.0;fill:#FFFFFF;stroke:none\" width=\"600\" height=\"400\" x=\"0\" y=\"0\"> </rect>\n",
       "<rect style=\"opacity:1.0;fill:#FFFFFF;stroke:none\" width=\"600\" height=\"400\" x=\"0\" y=\"0\"> </rect>\n",
       "<rect style=\"opacity:1.0;fill:#FFFFFF;stroke:none\" width=\"600\" height=\"400\" x=\"0\" y=\"0\"> </rect>\n",
       "<path class=\"bond-0\" d=\"M 28.0923,98.2958 L 33.4714,95.1902\" style=\"fill:none;fill-rule:evenodd;stroke:#000000;stroke-width:2.0px;stroke-linecap:butt;stroke-linejoin:miter;stroke-opacity:1\"/>\n",
       "<path class=\"bond-1\" d=\"M 33.4714,95.1902 L 36.5282,96.9551\" style=\"fill:none;fill-rule:evenodd;stroke:#000000;stroke-width:2.0px;stroke-linecap:butt;stroke-linejoin:miter;stroke-opacity:1\"/>\n",
       "<path class=\"bond-1\" d=\"M 36.5282,96.9551 L 39.585,98.7199\" style=\"fill:none;fill-rule:evenodd;stroke:#FF0000;stroke-width:2.0px;stroke-linecap:butt;stroke-linejoin:miter;stroke-opacity:1\"/>\n",
       "<path class=\"atom-0\" d=\"M 23.53 100.002 Q 23.53 98.9462, 24.022 98.3942 Q 24.52 97.8362, 25.462 97.8362 Q 26.338 97.8362, 26.806 98.4542 L 26.41 98.7782 Q 26.068 98.3282, 25.462 98.3282 Q 24.82 98.3282, 24.478 98.7602 Q 24.142 99.1862, 24.142 100.002 Q 24.142 100.842, 24.49 101.274 Q 24.844 101.706, 25.528 101.706 Q 25.996 101.706, 26.542 101.424 L 26.71 101.874 Q 26.488 102.018, 26.152 102.102 Q 25.816 102.186, 25.444 102.186 Q 24.52 102.186, 24.022 101.622 Q 23.53 101.058, 23.53 100.002 \" fill=\"#000000\"/>\n",
       "<path class=\"atom-0\" d=\"M 27.004 98.5355 L 28.4574 98.5355 L 28.4574 98.8523 L 27.004 98.8523 L 27.004 98.5355 \" fill=\"#000000\"/>\n",
       "<path class=\"atom-2\" d=\"M 39.8247 99.9962 Q 39.8247 98.9762, 40.3287 98.4062 Q 40.8327 97.8362, 41.7747 97.8362 Q 42.7167 97.8362, 43.2207 98.4062 Q 43.7247 98.9762, 43.7247 99.9962 Q 43.7247 101.028, 43.2147 101.616 Q 42.7047 102.198, 41.7747 102.198 Q 40.8387 102.198, 40.3287 101.616 Q 39.8247 101.034, 39.8247 99.9962 M 41.7747 101.718 Q 42.4227 101.718, 42.7707 101.286 Q 43.1247 100.848, 43.1247 99.9962 Q 43.1247 99.1622, 42.7707 98.7422 Q 42.4227 98.3162, 41.7747 98.3162 Q 41.1267 98.3162, 40.7727 98.7362 Q 40.4247 99.1562, 40.4247 99.9962 Q 40.4247 100.854, 40.7727 101.286 Q 41.1267 101.718, 41.7747 101.718 \" fill=\"#FF0000\"/>\n",
       "<path class=\"atom-2\" d=\"M 44.2347 97.8842 L 44.8107 97.8842 L 44.8107 99.6902 L 46.9827 99.6902 L 46.9827 97.8842 L 47.5587 97.8842 L 47.5587 102.132 L 46.9827 102.132 L 46.9827 100.17 L 44.8107 100.17 L 44.8107 102.132 L 44.2347 102.132 L 44.2347 97.8842 \" fill=\"#FF0000\"/>\n",
       "<path d=\"M 22.93,99.3842 L 22.9289,99.3584 L 22.9256,99.3328 L 22.9201,99.3076 L 22.9124,99.2829 L 22.9027,99.259 L 22.8909,99.236 L 22.8772,99.2142 L 22.8617,99.1935 L 22.8444,99.1743 L 22.8256,99.1567 L 22.8053,99.1407 L 22.7837,99.1265 L 22.761,99.1143 L 22.7373,99.104 L 22.7129,99.0958 L 22.6878,99.0898 L 22.6622,99.0859 L 22.6365,99.0842 L 22.6107,99.0848 L 22.585,99.0876 L 22.5597,99.0925 L 22.5349,99.0997 L 22.5108,99.1089 L 22.4875,99.1202 L 22.4654,99.1334 L 22.4444,99.1485 L 22.4249,99.1653 L 22.4068,99.1838 L 22.3904,99.2037 L 22.3758,99.225 L 22.363,99.2474 L 22.3523,99.2709 L 22.3435,99.2952 L 22.337,99.3201 L 22.3325,99.3455 L 22.3303,99.3713 L 22.3303,99.3971 L 22.3325,99.4228 L 22.337,99.4482 L 22.3435,99.4732 L 22.3523,99.4975 L 22.363,99.5209 L 22.3758,99.5434 L 22.3904,99.5647 L 22.4068,99.5846 L 22.4249,99.603 L 22.4444,99.6199 L 22.4654,99.6349 L 22.4875,99.6482 L 22.5108,99.6594 L 22.5349,99.6687 L 22.5597,99.6758 L 22.585,99.6808 L 22.6107,99.6835 L 22.6365,99.6841 L 22.6622,99.6824 L 22.6878,99.6786 L 22.7129,99.6725 L 22.7373,99.6643 L 22.761,99.6541 L 22.7837,99.6418 L 22.8053,99.6276 L 22.8256,99.6117 L 22.8444,99.594 L 22.8617,99.5748 L 22.8772,99.5542 L 22.8909,99.5323 L 22.9027,99.5093 L 22.9124,99.4854 L 22.9201,99.4608 L 22.9256,99.4356 L 22.9289,99.41 L 22.93,99.3842 L 22.63,99.3842 Z\" style=\"fill:#000000;fill-rule:evenodd;fill-opacity:1;stroke:#000000;stroke-width:0px;stroke-linecap:butt;stroke-linejoin:miter;stroke-opacity:1;\"/>\n",
       "<path d=\"M 22.93,100.584 L 22.9289,100.558 L 22.9256,100.533 L 22.9201,100.508 L 22.9124,100.483 L 22.9027,100.459 L 22.8909,100.436 L 22.8772,100.414 L 22.8617,100.394 L 22.8444,100.374 L 22.8256,100.357 L 22.8053,100.341 L 22.7837,100.327 L 22.761,100.314 L 22.7373,100.304 L 22.7129,100.296 L 22.6878,100.29 L 22.6622,100.286 L 22.6365,100.284 L 22.6107,100.285 L 22.585,100.288 L 22.5597,100.293 L 22.5349,100.3 L 22.5108,100.309 L 22.4875,100.32 L 22.4654,100.333 L 22.4444,100.348 L 22.4249,100.365 L 22.4068,100.384 L 22.3904,100.404 L 22.3758,100.425 L 22.363,100.447 L 22.3523,100.471 L 22.3435,100.495 L 22.337,100.52 L 22.3325,100.546 L 22.3303,100.571 L 22.3303,100.597 L 22.3325,100.623 L 22.337,100.648 L 22.3435,100.673 L 22.3523,100.697 L 22.363,100.721 L 22.3758,100.743 L 22.3904,100.765 L 22.4068,100.785 L 22.4249,100.803 L 22.4444,100.82 L 22.4654,100.835 L 22.4875,100.848 L 22.5108,100.859 L 22.5349,100.869 L 22.5597,100.876 L 22.585,100.881 L 22.6107,100.884 L 22.6365,100.884 L 22.6622,100.882 L 22.6878,100.879 L 22.7129,100.873 L 22.7373,100.864 L 22.761,100.854 L 22.7837,100.842 L 22.8053,100.828 L 22.8256,100.812 L 22.8444,100.794 L 22.8617,100.775 L 22.8772,100.754 L 22.8909,100.732 L 22.9027,100.709 L 22.9124,100.685 L 22.9201,100.661 L 22.9256,100.636 L 22.9289,100.61 L 22.93,100.584 L 22.63,100.584 Z\" style=\"fill:#000000;fill-rule:evenodd;fill-opacity:1;stroke:#000000;stroke-width:0px;stroke-linecap:butt;stroke-linejoin:miter;stroke-opacity:1;\"/>\n",
       "<path class=\"bond-0\" d=\"M 228.092,98.2958 L 231.678,96.2256\" style=\"fill:none;fill-rule:evenodd;stroke:#000000;stroke-width:2.0px;stroke-linecap:butt;stroke-linejoin:miter;stroke-opacity:1\"/>\n",
       "<path class=\"bond-1\" d=\"M 235.349,96.2743 L 237.494,97.5128\" style=\"fill:none;fill-rule:evenodd;stroke:#000000;stroke-width:2.0px;stroke-linecap:butt;stroke-linejoin:miter;stroke-opacity:1\"/>\n",
       "<path class=\"bond-1\" d=\"M 237.494,97.5128 L 239.639,98.7512\" style=\"fill:none;fill-rule:evenodd;stroke:#FF0000;stroke-width:2.0px;stroke-linecap:butt;stroke-linejoin:miter;stroke-opacity:1\"/>\n",
       "<path class=\"atom-0\" d=\"M 223.53 100.002 Q 223.53 98.9462, 224.022 98.3942 Q 224.52 97.8362, 225.462 97.8362 Q 226.338 97.8362, 226.806 98.4542 L 226.41 98.7782 Q 226.068 98.3282, 225.462 98.3282 Q 224.82 98.3282, 224.478 98.7602 Q 224.142 99.1862, 224.142 100.002 Q 224.142 100.842, 224.49 101.274 Q 224.844 101.706, 225.528 101.706 Q 225.996 101.706, 226.542 101.424 L 226.71 101.874 Q 226.488 102.018, 226.152 102.102 Q 225.816 102.186, 225.444 102.186 Q 224.52 102.186, 224.022 101.622 Q 223.53 101.058, 223.53 100.002 \" fill=\"#000000\"/>\n",
       "<path class=\"atom-0\" d=\"M 227.004 98.5355 L 228.457 98.5355 L 228.457 98.8523 L 227.004 98.8523 L 227.004 98.5355 \" fill=\"#000000\"/>\n",
       "<path class=\"atom-1\" d=\"M 231.833 95.2082 Q 231.833 94.1522, 232.325 93.6002 Q 232.823 93.0422, 233.765 93.0422 Q 234.641 93.0422, 235.109 93.6602 L 234.713 93.9842 Q 234.371 93.5342, 233.765 93.5342 Q 233.123 93.5342, 232.781 93.9662 Q 232.445 94.3922, 232.445 95.2082 Q 232.445 96.0482, 232.793 96.4802 Q 233.147 96.9122, 233.831 96.9122 Q 234.299 96.9122, 234.845 96.6302 L 235.013 97.0802 Q 234.791 97.2242, 234.455 97.3082 Q 234.119 97.3922, 233.747 97.3922 Q 232.823 97.3922, 232.325 96.8282 Q 231.833 96.2642, 231.833 95.2082 \" fill=\"#000000\"/>\n",
       "<path class=\"atom-1\" d=\"M 235.466 93.805 L 236.214 93.805 L 236.214 93.0169 L 236.547 93.0169 L 236.547 93.805 L 237.315 93.805 L 237.315 94.0901 L 236.547 94.0901 L 236.547 94.8821 L 236.214 94.8821 L 236.214 94.0901 L 235.466 94.0901 L 235.466 93.805 \" fill=\"#000000\"/>\n",
       "<path class=\"atom-2\" d=\"M 239.825 99.9962 Q 239.825 98.9762, 240.329 98.4062 Q 240.833 97.8362, 241.775 97.8362 Q 242.717 97.8362, 243.221 98.4062 Q 243.725 98.9762, 243.725 99.9962 Q 243.725 101.028, 243.215 101.616 Q 242.705 102.198, 241.775 102.198 Q 240.839 102.198, 240.329 101.616 Q 239.825 101.034, 239.825 99.9962 M 241.775 101.718 Q 242.423 101.718, 242.771 101.286 Q 243.125 100.848, 243.125 99.9962 Q 243.125 99.1622, 242.771 98.7422 Q 242.423 98.3162, 241.775 98.3162 Q 241.127 98.3162, 240.773 98.7362 Q 240.425 99.1562, 240.425 99.9962 Q 240.425 100.854, 240.773 101.286 Q 241.127 101.718, 241.775 101.718 \" fill=\"#FF0000\"/>\n",
       "<path class=\"atom-2\" d=\"M 243.923 98.5295 L 245.376 98.5295 L 245.376 98.8463 L 243.923 98.8463 L 243.923 98.5295 \" fill=\"#FF0000\"/>\n",
       "<path d=\"M 222.93,99.3842 L 222.929,99.3584 L 222.926,99.3328 L 222.92,99.3076 L 222.912,99.2829 L 222.903,99.259 L 222.891,99.236 L 222.877,99.2142 L 222.862,99.1935 L 222.844,99.1743 L 222.826,99.1567 L 222.805,99.1407 L 222.784,99.1265 L 222.761,99.1143 L 222.737,99.104 L 222.713,99.0958 L 222.688,99.0898 L 222.662,99.0859 L 222.636,99.0842 L 222.611,99.0848 L 222.585,99.0876 L 222.56,99.0925 L 222.535,99.0997 L 222.511,99.1089 L 222.488,99.1202 L 222.465,99.1334 L 222.444,99.1485 L 222.425,99.1653 L 222.407,99.1838 L 222.39,99.2037 L 222.376,99.225 L 222.363,99.2474 L 222.352,99.2709 L 222.344,99.2952 L 222.337,99.3201 L 222.333,99.3455 L 222.33,99.3713 L 222.33,99.3971 L 222.333,99.4228 L 222.337,99.4482 L 222.344,99.4732 L 222.352,99.4975 L 222.363,99.5209 L 222.376,99.5434 L 222.39,99.5647 L 222.407,99.5846 L 222.425,99.603 L 222.444,99.6199 L 222.465,99.6349 L 222.488,99.6482 L 222.511,99.6594 L 222.535,99.6687 L 222.56,99.6758 L 222.585,99.6808 L 222.611,99.6835 L 222.636,99.6841 L 222.662,99.6824 L 222.688,99.6786 L 222.713,99.6725 L 222.737,99.6643 L 222.761,99.6541 L 222.784,99.6418 L 222.805,99.6276 L 222.826,99.6117 L 222.844,99.594 L 222.862,99.5748 L 222.877,99.5542 L 222.891,99.5323 L 222.903,99.5093 L 222.912,99.4854 L 222.92,99.4608 L 222.926,99.4356 L 222.929,99.41 L 222.93,99.3842 L 222.63,99.3842 Z\" style=\"fill:#000000;fill-rule:evenodd;fill-opacity:1;stroke:#000000;stroke-width:0px;stroke-linecap:butt;stroke-linejoin:miter;stroke-opacity:1;\"/>\n",
       "<path d=\"M 222.93,100.584 L 222.929,100.558 L 222.926,100.533 L 222.92,100.508 L 222.912,100.483 L 222.903,100.459 L 222.891,100.436 L 222.877,100.414 L 222.862,100.394 L 222.844,100.374 L 222.826,100.357 L 222.805,100.341 L 222.784,100.327 L 222.761,100.314 L 222.737,100.304 L 222.713,100.296 L 222.688,100.29 L 222.662,100.286 L 222.636,100.284 L 222.611,100.285 L 222.585,100.288 L 222.56,100.293 L 222.535,100.3 L 222.511,100.309 L 222.488,100.32 L 222.465,100.333 L 222.444,100.348 L 222.425,100.365 L 222.407,100.384 L 222.39,100.404 L 222.376,100.425 L 222.363,100.447 L 222.352,100.471 L 222.344,100.495 L 222.337,100.52 L 222.333,100.546 L 222.33,100.571 L 222.33,100.597 L 222.333,100.623 L 222.337,100.648 L 222.344,100.673 L 222.352,100.697 L 222.363,100.721 L 222.376,100.743 L 222.39,100.765 L 222.407,100.785 L 222.425,100.803 L 222.444,100.82 L 222.465,100.835 L 222.488,100.848 L 222.511,100.859 L 222.535,100.869 L 222.56,100.876 L 222.585,100.881 L 222.611,100.884 L 222.636,100.884 L 222.662,100.882 L 222.688,100.879 L 222.713,100.873 L 222.737,100.864 L 222.761,100.854 L 222.784,100.842 L 222.805,100.828 L 222.826,100.812 L 222.844,100.794 L 222.862,100.775 L 222.877,100.754 L 222.891,100.732 L 222.903,100.709 L 222.912,100.685 L 222.92,100.661 L 222.926,100.636 L 222.929,100.61 L 222.93,100.584 L 222.63,100.584 Z\" style=\"fill:#000000;fill-rule:evenodd;fill-opacity:1;stroke:#000000;stroke-width:0px;stroke-linecap:butt;stroke-linejoin:miter;stroke-opacity:1;\"/>\n",
       "<path d=\"M 233.771,92.5669 L 233.77,92.5411 L 233.767,92.5155 L 233.761,92.4903 L 233.754,92.4657 L 233.744,92.4418 L 233.732,92.4188 L 233.719,92.3969 L 233.703,92.3763 L 233.686,92.3571 L 233.667,92.3394 L 233.647,92.3235 L 233.625,92.3093 L 233.602,92.297 L 233.579,92.2868 L 233.554,92.2786 L 233.529,92.2725 L 233.504,92.2687 L 233.478,92.267 L 233.452,92.2676 L 233.426,92.2703 L 233.401,92.2753 L 233.376,92.2824 L 233.352,92.2917 L 233.329,92.3029 L 233.307,92.3161 L 233.286,92.3312 L 233.266,92.3481 L 233.248,92.3665 L 233.232,92.3864 L 233.217,92.4077 L 233.204,92.4302 L 233.194,92.4536 L 233.185,92.4779 L 233.178,92.5029 L 233.174,92.5283 L 233.172,92.554 L 233.172,92.5798 L 233.174,92.6055 L 233.178,92.631 L 233.185,92.6559 L 233.194,92.6802 L 233.204,92.7037 L 233.217,92.7261 L 233.232,92.7474 L 233.248,92.7673 L 233.266,92.7858 L 233.286,92.8026 L 233.307,92.8177 L 233.329,92.8309 L 233.352,92.8422 L 233.376,92.8514 L 233.401,92.8586 L 233.426,92.8635 L 233.452,92.8663 L 233.478,92.8669 L 233.504,92.8652 L 233.529,92.8613 L 233.554,92.8553 L 233.579,92.8471 L 233.602,92.8368 L 233.625,92.8246 L 233.647,92.8104 L 233.667,92.7944 L 233.686,92.7768 L 233.703,92.7576 L 233.719,92.7369 L 233.732,92.7151 L 233.744,92.6921 L 233.754,92.6682 L 233.761,92.6435 L 233.767,92.6183 L 233.77,92.5927 L 233.771,92.5669 L 233.471,92.5669 Z\" style=\"fill:#000000;fill-rule:evenodd;fill-opacity:1;stroke:#000000;stroke-width:0px;stroke-linecap:butt;stroke-linejoin:miter;stroke-opacity:1;\"/>\n",
       "<path class=\"bond-0\" d=\"M 413.332,97.1539 L 422.053,93.1697\" style=\"fill:none;fill-rule:evenodd;stroke:#000000;stroke-width:2.0px;stroke-linecap:butt;stroke-linejoin:miter;stroke-opacity:1\"/>\n",
       "<path class=\"bond-1\" d=\"M 422.053,93.1697 L 425.161,95.382\" style=\"fill:none;fill-rule:evenodd;stroke:#000000;stroke-width:2.0px;stroke-linecap:butt;stroke-linejoin:miter;stroke-opacity:1\"/>\n",
       "<path class=\"bond-1\" d=\"M 425.161,95.382 L 428.268,97.5942\" style=\"fill:none;fill-rule:evenodd;stroke:#FF7F00;stroke-width:2.0px;stroke-linecap:butt;stroke-linejoin:miter;stroke-opacity:1\"/>\n",
       "<path class=\"bond-2\" d=\"M 428.238,105.676 L 428.208,105.997\" style=\"fill:none;fill-rule:evenodd;stroke:#FF7F00;stroke-width:2.0px;stroke-linecap:butt;stroke-linejoin:miter;stroke-opacity:1\"/>\n",
       "<path class=\"bond-2\" d=\"M 430.147,105.858 L 430.117,106.179\" style=\"fill:none;fill-rule:evenodd;stroke:#FF7F00;stroke-width:2.0px;stroke-linecap:butt;stroke-linejoin:miter;stroke-opacity:1\"/>\n",
       "<path class=\"bond-3\" d=\"M 431.46,98.0012 L 435.022,96.3736\" style=\"fill:none;fill-rule:evenodd;stroke:#FF7F00;stroke-width:2.0px;stroke-linecap:butt;stroke-linejoin:miter;stroke-opacity:1\"/>\n",
       "<path class=\"bond-3\" d=\"M 435.022,96.3736 L 438.585,94.746\" style=\"fill:none;fill-rule:evenodd;stroke:#000000;stroke-width:2.0px;stroke-linecap:butt;stroke-linejoin:miter;stroke-opacity:1\"/>\n",
       "<path class=\"bond-4\" d=\"M 438.585,94.746 L 446.396,100.306\" style=\"fill:none;fill-rule:evenodd;stroke:#000000;stroke-width:2.0px;stroke-linecap:butt;stroke-linejoin:miter;stroke-opacity:1\"/>\n",
       "<path class=\"bond-5\" d=\"M 446.396,100.306 L 449.661,98.8146\" style=\"fill:none;fill-rule:evenodd;stroke:#000000;stroke-width:2.0px;stroke-linecap:butt;stroke-linejoin:miter;stroke-opacity:1\"/>\n",
       "<path class=\"bond-5\" d=\"M 449.661,98.8146 L 452.927,97.3227\" style=\"fill:none;fill-rule:evenodd;stroke:#FF0000;stroke-width:2.0px;stroke-linecap:butt;stroke-linejoin:miter;stroke-opacity:1\"/>\n",
       "<path class=\"atom-2\" d=\"M 429.762 96.6062 Q 430.488 96.6062, 430.854 96.9362 Q 431.22 97.2602, 431.22 97.8542 Q 431.22 98.4422, 430.842 98.7782 Q 430.47 99.1082, 429.762 99.1082 L 429.084 99.1082 L 429.084 100.854 L 428.508 100.854 L 428.508 96.6062 L 429.762 96.6062 M 429.762 98.6282 Q 430.176 98.6282, 430.398 98.4302 Q 430.62 98.2322, 430.62 97.8542 Q 430.62 97.4762, 430.398 97.2842 Q 430.182 97.0862, 429.762 97.0862 L 429.084 97.0862 L 429.084 98.6282 L 429.762 98.6282 \" fill=\"#FF7F00\"/>\n",
       "<path class=\"atom-2\" d=\"M 428.202 101.279 L 428.778 101.279 L 428.778 103.085 L 430.95 103.085 L 430.95 101.279 L 431.526 101.279 L 431.526 105.527 L 430.95 105.527 L 430.95 103.565 L 428.778 103.565 L 428.778 105.527 L 428.202 105.527 L 428.202 101.279 \" fill=\"#FF7F00\"/>\n",
       "<path class=\"atom-3\" d=\"M 428.852 106.151 Q 429.578 106.151, 429.944 106.481 Q 430.31 106.805, 430.31 107.399 Q 430.31 107.987, 429.932 108.323 Q 429.56 108.653, 428.852 108.653 L 428.174 108.653 L 428.174 110.399 L 427.598 110.399 L 427.598 106.151 L 428.852 106.151 M 428.852 108.173 Q 429.266 108.173, 429.488 107.975 Q 429.71 107.777, 429.71 107.399 Q 429.71 107.021, 429.488 106.829 Q 429.272 106.631, 428.852 106.631 L 428.174 106.631 L 428.174 108.173 L 428.852 108.173 \" fill=\"#FF7F00\"/>\n",
       "<path class=\"atom-3\" d=\"M 430.666 106.916 L 431.415 106.916 L 431.415 106.128 L 431.747 106.128 L 431.747 106.916 L 432.515 106.916 L 432.515 107.202 L 431.747 107.202 L 431.747 107.994 L 431.415 107.994 L 431.415 107.202 L 430.666 107.202 L 430.666 106.916 \" fill=\"#FF7F00\"/>\n",
       "<path class=\"atom-6\" d=\"M 453.166 96.3343 Q 453.166 95.3143, 453.67 94.7443 Q 454.174 94.1743, 455.116 94.1743 Q 456.058 94.1743, 456.562 94.7443 Q 457.066 95.3143, 457.066 96.3343 Q 457.066 97.3663, 456.556 97.9543 Q 456.046 98.5363, 455.116 98.5363 Q 454.18 98.5363, 453.67 97.9543 Q 453.166 97.3723, 453.166 96.3343 M 455.116 98.0563 Q 455.764 98.0563, 456.112 97.6243 Q 456.466 97.1863, 456.466 96.3343 Q 456.466 95.5003, 456.112 95.0803 Q 455.764 94.6543, 455.116 94.6543 Q 454.468 94.6543, 454.114 95.0743 Q 453.766 95.4943, 453.766 96.3343 Q 453.766 97.1923, 454.114 97.6243 Q 454.468 98.0563, 455.116 98.0563 \" fill=\"#FF0000\"/>\n",
       "<path class=\"atom-6\" d=\"M 457.264 94.8677 L 458.718 94.8677 L 458.718 95.1845 L 457.264 95.1845 L 457.264 94.8677 \" fill=\"#FF0000\"/>\n",
       "<path d=\"M 433.715,107.675 L 433.714,107.649 L 433.711,107.623 L 433.706,107.598 L 433.698,107.573 L 433.688,107.55 L 433.676,107.527 L 433.663,107.505 L 433.647,107.484 L 433.63,107.465 L 433.611,107.447 L 433.591,107.431 L 433.569,107.417 L 433.546,107.405 L 433.523,107.395 L 433.498,107.386 L 433.473,107.38 L 433.448,107.376 L 433.422,107.375 L 433.396,107.375 L 433.37,107.378 L 433.345,107.383 L 433.32,107.39 L 433.296,107.399 L 433.273,107.411 L 433.251,107.424 L 433.23,107.439 L 433.21,107.456 L 433.192,107.474 L 433.176,107.494 L 433.161,107.516 L 433.148,107.538 L 433.138,107.561 L 433.129,107.586 L 433.122,107.611 L 433.118,107.636 L 433.116,107.662 L 433.116,107.688 L 433.118,107.713 L 433.122,107.739 L 433.129,107.764 L 433.138,107.788 L 433.148,107.812 L 433.161,107.834 L 433.176,107.855 L 433.192,107.875 L 433.21,107.894 L 433.23,107.91 L 433.251,107.926 L 433.273,107.939 L 433.296,107.95 L 433.32,107.959 L 433.345,107.966 L 433.37,107.971 L 433.396,107.974 L 433.422,107.975 L 433.448,107.973 L 433.473,107.969 L 433.498,107.963 L 433.523,107.955 L 433.546,107.945 L 433.569,107.932 L 433.591,107.918 L 433.611,107.902 L 433.63,107.885 L 433.647,107.865 L 433.663,107.845 L 433.676,107.823 L 433.688,107.8 L 433.698,107.776 L 433.706,107.751 L 433.711,107.726 L 433.714,107.701 L 433.715,107.675 L 433.415,107.675 Z\" style=\"fill:#000000;fill-rule:evenodd;fill-opacity:1;stroke:#000000;stroke-width:0px;stroke-linecap:butt;stroke-linejoin:miter;stroke-opacity:1;\"/>\n",
       "<path d=\"M 433.715,108.875 L 433.714,108.849 L 433.711,108.823 L 433.706,108.798 L 433.698,108.773 L 433.688,108.75 L 433.676,108.727 L 433.663,108.705 L 433.647,108.684 L 433.63,108.665 L 433.611,108.647 L 433.591,108.631 L 433.569,108.617 L 433.546,108.605 L 433.523,108.595 L 433.498,108.586 L 433.473,108.58 L 433.448,108.576 L 433.422,108.575 L 433.396,108.575 L 433.37,108.578 L 433.345,108.583 L 433.32,108.59 L 433.296,108.599 L 433.273,108.611 L 433.251,108.624 L 433.23,108.639 L 433.21,108.656 L 433.192,108.674 L 433.176,108.694 L 433.161,108.716 L 433.148,108.738 L 433.138,108.761 L 433.129,108.786 L 433.122,108.811 L 433.118,108.836 L 433.116,108.862 L 433.116,108.888 L 433.118,108.913 L 433.122,108.939 L 433.129,108.964 L 433.138,108.988 L 433.148,109.012 L 433.161,109.034 L 433.176,109.055 L 433.192,109.075 L 433.21,109.094 L 433.23,109.11 L 433.251,109.126 L 433.273,109.139 L 433.296,109.15 L 433.32,109.159 L 433.345,109.166 L 433.37,109.171 L 433.396,109.174 L 433.422,109.175 L 433.448,109.173 L 433.473,109.169 L 433.498,109.163 L 433.523,109.155 L 433.546,109.145 L 433.569,109.132 L 433.591,109.118 L 433.611,109.102 L 433.63,109.085 L 433.647,109.065 L 433.663,109.045 L 433.676,109.023 L 433.688,109 L 433.698,108.976 L 433.706,108.951 L 433.711,108.926 L 433.714,108.901 L 433.715,108.875 L 433.415,108.875 Z\" style=\"fill:#000000;fill-rule:evenodd;fill-opacity:1;stroke:#000000;stroke-width:0px;stroke-linecap:butt;stroke-linejoin:miter;stroke-opacity:1;\"/>\n",
       "<path class=\"bond-0\" d=\"M 31.1115,308.734 L 30.6089,305.182\" style=\"fill:none;fill-rule:evenodd;stroke:#FF0000;stroke-width:2.0px;stroke-linecap:butt;stroke-linejoin:miter;stroke-opacity:1\"/>\n",
       "<path class=\"bond-0\" d=\"M 30.6089,305.182 L 30.1064,301.629\" style=\"fill:none;fill-rule:evenodd;stroke:#000000;stroke-width:2.0px;stroke-linecap:butt;stroke-linejoin:miter;stroke-opacity:1\"/>\n",
       "<path class=\"bond-0\" d=\"M 29.2128,309.003 L 28.7102,305.45\" style=\"fill:none;fill-rule:evenodd;stroke:#FF0000;stroke-width:2.0px;stroke-linecap:butt;stroke-linejoin:miter;stroke-opacity:1\"/>\n",
       "<path class=\"bond-0\" d=\"M 28.7102,305.45 L 28.2077,301.897\" style=\"fill:none;fill-rule:evenodd;stroke:#000000;stroke-width:2.0px;stroke-linecap:butt;stroke-linejoin:miter;stroke-opacity:1\"/>\n",
       "<path class=\"bond-1\" d=\"M 29.157,301.763 L 22.1418,298.936\" style=\"fill:none;fill-rule:evenodd;stroke:#000000;stroke-width:2.0px;stroke-linecap:butt;stroke-linejoin:miter;stroke-opacity:1\"/>\n",
       "<path class=\"bond-3\" d=\"M 29.157,301.763 L 32.1342,299.433\" style=\"fill:none;fill-rule:evenodd;stroke:#000000;stroke-width:2.0px;stroke-linecap:butt;stroke-linejoin:miter;stroke-opacity:1\"/>\n",
       "<path class=\"bond-3\" d=\"M 32.1342,299.433 L 35.1114,297.102\" style=\"fill:none;fill-rule:evenodd;stroke:#FF7F00;stroke-width:2.0px;stroke-linecap:butt;stroke-linejoin:miter;stroke-opacity:1\"/>\n",
       "<path class=\"bond-2\" d=\"M 19.9264,295.792 L 19.5868,293.391\" style=\"fill:none;fill-rule:evenodd;stroke:#000000;stroke-width:2.0px;stroke-linecap:butt;stroke-linejoin:miter;stroke-opacity:1\"/>\n",
       "<path class=\"bond-2\" d=\"M 19.5868,293.391 L 19.2471,290.989\" style=\"fill:none;fill-rule:evenodd;stroke:#FF7F00;stroke-width:2.0px;stroke-linecap:butt;stroke-linejoin:miter;stroke-opacity:1\"/>\n",
       "<path class=\"bond-4\" d=\"M 38.3028,296.497 L 41.9514,297.967\" style=\"fill:none;fill-rule:evenodd;stroke:#FF7F00;stroke-width:2.0px;stroke-linecap:butt;stroke-linejoin:miter;stroke-opacity:1\"/>\n",
       "<path class=\"bond-4\" d=\"M 41.9514,297.967 L 45.6,299.437\" style=\"fill:none;fill-rule:evenodd;stroke:#000000;stroke-width:2.0px;stroke-linecap:butt;stroke-linejoin:miter;stroke-opacity:1\"/>\n",
       "<path class=\"bond-5\" d=\"M 45.6,299.437 L 48.5742,297.109\" style=\"fill:none;fill-rule:evenodd;stroke:#000000;stroke-width:2.0px;stroke-linecap:butt;stroke-linejoin:miter;stroke-opacity:1\"/>\n",
       "<path class=\"bond-5\" d=\"M 48.5742,297.109 L 51.5484,294.781\" style=\"fill:none;fill-rule:evenodd;stroke:#CCCC00;stroke-width:2.0px;stroke-linecap:butt;stroke-linejoin:miter;stroke-opacity:1\"/>\n",
       "<path class=\"atom-0\" d=\"M 28.5499 311.268 Q 28.5499 310.248, 29.0539 309.678 Q 29.5579 309.108, 30.4999 309.108 Q 31.4419 309.108, 31.9459 309.678 Q 32.4499 310.248, 32.4499 311.268 Q 32.4499 312.3, 31.9399 312.888 Q 31.4299 313.47, 30.4999 313.47 Q 29.5639 313.47, 29.0539 312.888 Q 28.5499 312.306, 28.5499 311.268 M 30.4999 312.99 Q 31.1479 312.99, 31.4959 312.558 Q 31.8499 312.12, 31.8499 311.268 Q 31.8499 310.434, 31.4959 310.014 Q 31.1479 309.588, 30.4999 309.588 Q 29.8519 309.588, 29.4979 310.008 Q 29.1499 310.428, 29.1499 311.268 Q 29.1499 312.126, 29.4979 312.558 Q 29.8519 312.99, 30.4999 312.99 \" fill=\"#FF0000\"/>\n",
       "<path class=\"atom-2\" d=\"M 18.6261 298.197 Q 18.6261 297.141, 19.1181 296.589 Q 19.6161 296.031, 20.5581 296.031 Q 21.4341 296.031, 21.9021 296.649 L 21.5061 296.973 Q 21.1641 296.523, 20.5581 296.523 Q 19.9161 296.523, 19.5741 296.955 Q 19.2381 297.381, 19.2381 298.197 Q 19.2381 299.037, 19.5861 299.469 Q 19.9401 299.901, 20.6241 299.901 Q 21.0921 299.901, 21.6381 299.619 L 21.8061 300.069 Q 21.5841 300.213, 21.2481 300.297 Q 20.9121 300.381, 20.5401 300.381 Q 19.6161 300.381, 19.1181 299.817 Q 18.6261 299.253, 18.6261 298.197 \" fill=\"#000000\"/>\n",
       "<path class=\"atom-2\" d=\"M 22.1001 296.731 L 23.5535 296.731 L 23.5535 297.048 L 22.1001 297.048 L 22.1001 296.731 \" fill=\"#000000\"/>\n",
       "<path class=\"atom-3\" d=\"M 18.8193 286.562 Q 19.5453 286.562, 19.9113 286.892 Q 20.2773 287.216, 20.2773 287.81 Q 20.2773 288.398, 19.8993 288.734 Q 19.5273 289.064, 18.8193 289.064 L 18.1413 289.064 L 18.1413 290.81 L 17.5653 290.81 L 17.5653 286.562 L 18.8193 286.562 M 18.8193 288.584 Q 19.2333 288.584, 19.4553 288.386 Q 19.6773 288.188, 19.6773 287.81 Q 19.6773 287.432, 19.4553 287.24 Q 19.2393 287.042, 18.8193 287.042 L 18.1413 287.042 L 18.1413 288.584 L 18.8193 288.584 \" fill=\"#FF7F00\"/>\n",
       "<path class=\"atom-3\" d=\"M 20.7873 286.562 L 21.3633 286.562 L 21.3633 288.368 L 23.5353 288.368 L 23.5353 286.562 L 24.1113 286.562 L 24.1113 290.81 L 23.5353 290.81 L 23.5353 288.848 L 21.3633 288.848 L 21.3633 290.81 L 20.7873 290.81 L 20.7873 286.562 \" fill=\"#FF7F00\"/>\n",
       "<path class=\"atom-3\" d=\"M 24.3172 290.661 Q 24.4202 290.396, 24.6657 290.249 Q 24.9112 290.099, 25.2518 290.099 Q 25.6755 290.099, 25.9131 290.328 Q 26.1507 290.558, 26.1507 290.966 Q 26.1507 291.382, 25.8418 291.77 Q 25.5369 292.158, 24.9033 292.617 L 26.1982 292.617 L 26.1982 292.934 L 24.3093 292.934 L 24.3093 292.669 Q 24.832 292.296, 25.1409 292.019 Q 25.4537 291.742, 25.6042 291.493 Q 25.7547 291.243, 25.7547 290.986 Q 25.7547 290.716, 25.6201 290.566 Q 25.4854 290.415, 25.2518 290.415 Q 25.0261 290.415, 24.8756 290.507 Q 24.7251 290.598, 24.6182 290.8 L 24.3172 290.661 \" fill=\"#FF7F00\"/>\n",
       "<path class=\"atom-4\" d=\"M 36.6051 293.73 Q 37.3311 293.73, 37.6971 294.06 Q 38.0631 294.384, 38.0631 294.978 Q 38.0631 295.566, 37.6851 295.902 Q 37.3131 296.232, 36.6051 296.232 L 35.9271 296.232 L 35.9271 297.978 L 35.3511 297.978 L 35.3511 293.73 L 36.6051 293.73 M 36.6051 295.752 Q 37.0191 295.752, 37.2411 295.554 Q 37.4631 295.356, 37.4631 294.978 Q 37.4631 294.6, 37.2411 294.408 Q 37.0251 294.21, 36.6051 294.21 L 35.9271 294.21 L 35.9271 295.752 L 36.6051 295.752 \" fill=\"#FF7F00\"/>\n",
       "<path class=\"atom-4\" d=\"M 38.2611 294.432 L 39.7144 294.432 L 39.7144 294.749 L 38.2611 294.749 L 38.2611 294.432 \" fill=\"#FF7F00\"/>\n",
       "<path class=\"atom-6\" d=\"M 51.9501 294.986 Q 51.9981 295.004, 52.1961 295.088 Q 52.3941 295.172, 52.6101 295.226 Q 52.8321 295.274, 53.0481 295.274 Q 53.4501 295.274, 53.6841 295.082 Q 53.9181 294.884, 53.9181 294.542 Q 53.9181 294.308, 53.7981 294.164 Q 53.6841 294.02, 53.5041 293.942 Q 53.3241 293.864, 53.0241 293.774 Q 52.6461 293.66, 52.4181 293.552 Q 52.1961 293.444, 52.0341 293.216 Q 51.8781 292.988, 51.8781 292.604 Q 51.8781 292.07, 52.2381 291.74 Q 52.6041 291.41, 53.3241 291.41 Q 53.8161 291.41, 54.3741 291.644 L 54.2361 292.106 Q 53.7261 291.896, 53.3421 291.896 Q 52.9281 291.896, 52.7001 292.07 Q 52.4721 292.238, 52.4781 292.532 Q 52.4781 292.76, 52.5921 292.898 Q 52.7121 293.036, 52.8801 293.114 Q 53.0541 293.192, 53.3421 293.282 Q 53.7261 293.402, 53.9541 293.522 Q 54.1821 293.642, 54.3441 293.888 Q 54.5121 294.128, 54.5121 294.542 Q 54.5121 295.13, 54.1161 295.448 Q 53.7261 295.76, 53.0721 295.76 Q 52.6941 295.76, 52.4061 295.676 Q 52.1241 295.598, 51.7881 295.46 L 51.9501 294.986 \" fill=\"#CCCC00\"/>\n",
       "<path class=\"atom-6\" d=\"M 54.8685 292.112 L 55.6169 292.112 L 55.6169 291.324 L 55.9495 291.324 L 55.9495 292.112 L 56.7178 292.112 L 56.7178 292.397 L 55.9495 292.397 L 55.9495 293.189 L 55.6169 293.189 L 55.6169 292.397 L 54.8685 292.397 L 54.8685 292.112 \" fill=\"#CCCC00\"/>\n",
       "<path d=\"M 18.0261,298.179 L 18.025,298.154 L 18.0217,298.128 L 18.0162,298.103 L 18.0085,298.078 L 17.9988,298.054 L 17.987,298.031 L 17.9733,298.009 L 17.9578,297.989 L 17.9405,297.97 L 17.9217,297.952 L 17.9014,297.936 L 17.8798,297.922 L 17.8571,297.909 L 17.8334,297.899 L 17.809,297.891 L 17.7839,297.885 L 17.7583,297.881 L 17.7326,297.879 L 17.7068,297.88 L 17.6811,297.883 L 17.6558,297.888 L 17.631,297.895 L 17.6069,297.904 L 17.5836,297.915 L 17.5615,297.929 L 17.5405,297.944 L 17.521,297.96 L 17.5029,297.979 L 17.4865,297.999 L 17.4719,298.02 L 17.4591,298.043 L 17.4484,298.066 L 17.4396,298.09 L 17.4331,298.115 L 17.4286,298.141 L 17.4264,298.166 L 17.4264,298.192 L 17.4286,298.218 L 17.4331,298.243 L 17.4396,298.268 L 17.4484,298.293 L 17.4591,298.316 L 17.4719,298.339 L 17.4865,298.36 L 17.5029,298.38 L 17.521,298.398 L 17.5405,298.415 L 17.5615,298.43 L 17.5836,298.443 L 17.6069,298.455 L 17.631,298.464 L 17.6558,298.471 L 17.6811,298.476 L 17.7068,298.479 L 17.7326,298.479 L 17.7583,298.478 L 17.7839,298.474 L 17.809,298.468 L 17.8334,298.46 L 17.8571,298.449 L 17.8798,298.437 L 17.9014,298.423 L 17.9217,298.407 L 17.9405,298.389 L 17.9578,298.37 L 17.9733,298.349 L 17.987,298.327 L 17.9988,298.305 L 18.0085,298.281 L 18.0162,298.256 L 18.0217,298.231 L 18.025,298.205 L 18.0261,298.179 L 17.7261,298.179 Z\" style=\"fill:#000000;fill-rule:evenodd;fill-opacity:1;stroke:#000000;stroke-width:0px;stroke-linecap:butt;stroke-linejoin:miter;stroke-opacity:1;\"/>\n",
       "<path d=\"M 57.9178,292.928 L 57.9167,292.902 L 57.9134,292.876 L 57.9078,292.851 L 57.9002,292.826 L 57.8904,292.802 L 57.8787,292.78 L 57.865,292.758 L 57.8494,292.737 L 57.8322,292.718 L 57.8134,292.7 L 57.7931,292.684 L 57.7715,292.67 L 57.7488,292.658 L 57.7251,292.648 L 57.7006,292.639 L 57.6755,292.633 L 57.65,292.629 L 57.6242,292.628 L 57.5984,292.628 L 57.5728,292.631 L 57.5474,292.636 L 57.5226,292.643 L 57.4985,292.652 L 57.4753,292.664 L 57.4531,292.677 L 57.4322,292.692 L 57.4126,292.709 L 57.3946,292.727 L 57.3782,292.747 L 57.3635,292.768 L 57.3508,292.791 L 57.34,292.814 L 57.3313,292.839 L 57.3247,292.864 L 57.3203,292.889 L 57.3181,292.915 L 57.3181,292.941 L 57.3203,292.966 L 57.3247,292.992 L 57.3313,293.017 L 57.34,293.041 L 57.3508,293.064 L 57.3635,293.087 L 57.3782,293.108 L 57.3946,293.128 L 57.4126,293.147 L 57.4322,293.163 L 57.4531,293.178 L 57.4753,293.192 L 57.4985,293.203 L 57.5226,293.212 L 57.5474,293.219 L 57.5728,293.224 L 57.5984,293.227 L 57.6242,293.228 L 57.65,293.226 L 57.6755,293.222 L 57.7006,293.216 L 57.7251,293.208 L 57.7488,293.198 L 57.7715,293.185 L 57.7931,293.171 L 57.8134,293.155 L 57.8322,293.137 L 57.8494,293.118 L 57.865,293.098 L 57.8787,293.076 L 57.8904,293.053 L 57.9002,293.029 L 57.9078,293.004 L 57.9134,292.979 L 57.9167,292.953 L 57.9178,292.928 L 57.6178,292.928 Z\" style=\"fill:#000000;fill-rule:evenodd;fill-opacity:1;stroke:#000000;stroke-width:0px;stroke-linecap:butt;stroke-linejoin:miter;stroke-opacity:1;\"/>\n",
       "<path d=\"M 57.9178,294.128 L 57.9167,294.102 L 57.9134,294.076 L 57.9078,294.051 L 57.9002,294.026 L 57.8904,294.002 L 57.8787,293.98 L 57.865,293.958 L 57.8494,293.937 L 57.8322,293.918 L 57.8134,293.9 L 57.7931,293.884 L 57.7715,293.87 L 57.7488,293.858 L 57.7251,293.848 L 57.7006,293.839 L 57.6755,293.833 L 57.65,293.829 L 57.6242,293.828 L 57.5984,293.828 L 57.5728,293.831 L 57.5474,293.836 L 57.5226,293.843 L 57.4985,293.852 L 57.4753,293.864 L 57.4531,293.877 L 57.4322,293.892 L 57.4126,293.909 L 57.3946,293.927 L 57.3782,293.947 L 57.3635,293.968 L 57.3508,293.991 L 57.34,294.014 L 57.3313,294.039 L 57.3247,294.064 L 57.3203,294.089 L 57.3181,294.115 L 57.3181,294.141 L 57.3203,294.166 L 57.3247,294.192 L 57.3313,294.217 L 57.34,294.241 L 57.3508,294.264 L 57.3635,294.287 L 57.3782,294.308 L 57.3946,294.328 L 57.4126,294.347 L 57.4322,294.363 L 57.4531,294.378 L 57.4753,294.392 L 57.4985,294.403 L 57.5226,294.412 L 57.5474,294.419 L 57.5728,294.424 L 57.5984,294.427 L 57.6242,294.428 L 57.65,294.426 L 57.6755,294.422 L 57.7006,294.416 L 57.7251,294.408 L 57.7488,294.398 L 57.7715,294.385 L 57.7931,294.371 L 57.8134,294.355 L 57.8322,294.337 L 57.8494,294.318 L 57.865,294.298 L 57.8787,294.276 L 57.8904,294.253 L 57.9002,294.229 L 57.9078,294.204 L 57.9134,294.179 L 57.9167,294.153 L 57.9178,294.128 L 57.6178,294.128 Z\" style=\"fill:#000000;fill-rule:evenodd;fill-opacity:1;stroke:#000000;stroke-width:0px;stroke-linecap:butt;stroke-linejoin:miter;stroke-opacity:1;\"/>\n",
       "<path class=\"bond-0\" d=\"M 251.071,296.188 L 244.051,302.719\" style=\"fill:none;fill-rule:evenodd;stroke:#000000;stroke-width:2.0px;stroke-linecap:butt;stroke-linejoin:miter;stroke-opacity:1\"/>\n",
       "<path class=\"bond-1\" d=\"M 244.051,302.719 L 234.885,299.906\" style=\"fill:none;fill-rule:evenodd;stroke:#000000;stroke-width:2.0px;stroke-linecap:butt;stroke-linejoin:miter;stroke-opacity:1\"/>\n",
       "<path class=\"bond-2\" d=\"M 234.885,299.906 L 237.699,290.74\" style=\"fill:none;fill-rule:evenodd;stroke:#000000;stroke-width:2.0px;stroke-linecap:butt;stroke-linejoin:miter;stroke-opacity:1\"/>\n",
       "<path class=\"bond-3\" d=\"M 234.885,299.906 L 232.072,309.072\" style=\"fill:none;fill-rule:evenodd;stroke:#000000;stroke-width:2.0px;stroke-linecap:butt;stroke-linejoin:miter;stroke-opacity:1\"/>\n",
       "<path class=\"bond-4\" d=\"M 234.885,299.906 L 225.72,297.092\" style=\"fill:none;fill-rule:evenodd;stroke:#000000;stroke-width:2.0px;stroke-linecap:butt;stroke-linejoin:miter;stroke-opacity:1\"/>\n",
       "<path class=\"bond-5\" d=\"M 225.72,297.092 L 223.573,287.748\" style=\"fill:none;fill-rule:evenodd;stroke:#000000;stroke-width:2.0px;stroke-linecap:butt;stroke-linejoin:miter;stroke-opacity:1\"/>\n",
       "<path class=\"bond-6\" d=\"M 225.72,297.092 L 218.7,303.624\" style=\"fill:none;fill-rule:evenodd;stroke:#000000;stroke-width:2.0px;stroke-linecap:butt;stroke-linejoin:miter;stroke-opacity:1\"/>\n",
       "</svg>"
      ],
      "text/plain": [
       "<IPython.core.display.SVG object>"
      ]
     },
     "execution_count": 14,
     "metadata": {},
     "output_type": "execute_result"
    }
   ],
   "source": [
    "molecules = [Chem.MolFromSmiles(smi) for smi in smiles_hits]\n",
    "\n",
    "Draw.MolsToGridImage(molecules, subImgSize=(200,200), molsPerRow=3, useSVG=True)"
   ]
  },
  {
   "cell_type": "markdown",
   "id": "f32beee5",
   "metadata": {},
   "source": [
    "We can double check that we get the desired property specification for the molecules designed:"
   ]
  },
  {
   "cell_type": "code",
   "execution_count": 15,
   "id": "0bafa2e0",
   "metadata": {},
   "outputs": [
    {
     "name": "stdout",
     "output_type": "stream",
     "text": [
      "[108.38088491 108.38088491 108.57025916 109.17289292 109.54862639]\n"
     ]
    }
   ],
   "source": [
    "X_hits = mcw.transform(smiles_hits)\n",
    "Y_hits_pred = regr.predict(X_hits)\n",
    "print(Y_hits_pred)"
   ]
  },
  {
   "cell_type": "markdown",
   "id": "074e3be6",
   "metadata": {},
   "source": [
    "Since MACAW embeddings are smooth, we can also use a gradient-based method to navigate the embedding space and retrieve promising molecules. To this end, we use the function `hit_finder_grad`. If we do not provide the arguments `X` (the MACAW embedding of the molecules) or `Y` (property values for the molecules), we may want to increase the parameter `k1` (number of seed molecules to be used in the search)."
   ]
  },
  {
   "cell_type": "code",
   "execution_count": 16,
   "id": "75025809",
   "metadata": {},
   "outputs": [
    {
     "name": "stdout",
     "output_type": "stream",
     "text": [
      "['CCC(C)(C)C(C)C', 'C=CC(C)(C)Cl', 'C=C(CBr)COC', 'CP1C[P+]CPC1F', 'COC(=[S+])CC#P=[P+]C[C+]CS']\n",
      "[109.54862639 109.57906591 110.07009024 110.08961292 110.33734336]\n"
     ]
    }
   ],
   "source": [
    "idx, Y_hits_pred = hit_finder_grad(X_lib, regr, spec, X=X, n_hits=5, k1=100, k2=5)\n",
    "smiles_hits = [smiles_lib[i] for i in idx]\n",
    "print(smiles_hits)\n",
    "print(Y_hits_pred)"
   ]
  },
  {
   "cell_type": "code",
   "execution_count": 17,
   "id": "2d731566",
   "metadata": {},
   "outputs": [
    {
     "data": {
      "image/svg+xml": [
       "<svg xmlns=\"http://www.w3.org/2000/svg\" xmlns:rdkit=\"http://www.rdkit.org/xml\" xmlns:xlink=\"http://www.w3.org/1999/xlink\" version=\"1.1\" baseProfile=\"full\" xml:space=\"preserve\" width=\"600px\" height=\"400px\" viewBox=\"0 0 600 400\">\n",
       "<!-- END OF HEADER -->\n",
       "<rect style=\"opacity:1.0;fill:#FFFFFF;stroke:none\" width=\"600\" height=\"400\" x=\"0\" y=\"0\"> </rect>\n",
       "<rect style=\"opacity:1.0;fill:#FFFFFF;stroke:none\" width=\"600\" height=\"400\" x=\"0\" y=\"0\"> </rect>\n",
       "<rect style=\"opacity:1.0;fill:#FFFFFF;stroke:none\" width=\"600\" height=\"400\" x=\"0\" y=\"0\"> </rect>\n",
       "<rect style=\"opacity:1.0;fill:#FFFFFF;stroke:none\" width=\"600\" height=\"400\" x=\"0\" y=\"0\"> </rect>\n",
       "<rect style=\"opacity:1.0;fill:#FFFFFF;stroke:none\" width=\"600\" height=\"400\" x=\"0\" y=\"0\"> </rect>\n",
       "<rect style=\"opacity:1.0;fill:#FFFFFF;stroke:none\" width=\"600\" height=\"400\" x=\"0\" y=\"0\"> </rect>\n",
       "<path class=\"bond-0\" d=\"M 123.216,108.532 L 113.066,117.975\" style=\"fill:none;fill-rule:evenodd;stroke:#000000;stroke-width:2.0px;stroke-linecap:butt;stroke-linejoin:miter;stroke-opacity:1\"/>\n",
       "<path class=\"bond-1\" d=\"M 113.066,117.975 L 99.8134,113.907\" style=\"fill:none;fill-rule:evenodd;stroke:#000000;stroke-width:2.0px;stroke-linecap:butt;stroke-linejoin:miter;stroke-opacity:1\"/>\n",
       "<path class=\"bond-2\" d=\"M 99.8134,113.907 L 103.881,100.654\" style=\"fill:none;fill-rule:evenodd;stroke:#000000;stroke-width:2.0px;stroke-linecap:butt;stroke-linejoin:miter;stroke-opacity:1\"/>\n",
       "<path class=\"bond-3\" d=\"M 99.8134,113.907 L 95.7454,127.16\" style=\"fill:none;fill-rule:evenodd;stroke:#000000;stroke-width:2.0px;stroke-linecap:butt;stroke-linejoin:miter;stroke-opacity:1\"/>\n",
       "<path class=\"bond-4\" d=\"M 99.8134,113.907 L 86.5604,109.839\" style=\"fill:none;fill-rule:evenodd;stroke:#000000;stroke-width:2.0px;stroke-linecap:butt;stroke-linejoin:miter;stroke-opacity:1\"/>\n",
       "<path class=\"bond-5\" d=\"M 86.5604,109.839 L 83.457,96.3278\" style=\"fill:none;fill-rule:evenodd;stroke:#000000;stroke-width:2.0px;stroke-linecap:butt;stroke-linejoin:miter;stroke-opacity:1\"/>\n",
       "<path class=\"bond-6\" d=\"M 86.5604,109.839 L 76.411,119.283\" style=\"fill:none;fill-rule:evenodd;stroke:#000000;stroke-width:2.0px;stroke-linecap:butt;stroke-linejoin:miter;stroke-opacity:1\"/>\n",
       "<path class=\"bond-0\" d=\"M 278.452,112.91 L 290.458,105.979\" style=\"fill:none;fill-rule:evenodd;stroke:#000000;stroke-width:2.0px;stroke-linecap:butt;stroke-linejoin:miter;stroke-opacity:1\"/>\n",
       "<path class=\"bond-0\" d=\"M 277.066,110.509 L 289.072,103.578\" style=\"fill:none;fill-rule:evenodd;stroke:#000000;stroke-width:2.0px;stroke-linecap:butt;stroke-linejoin:miter;stroke-opacity:1\"/>\n",
       "<path class=\"bond-1\" d=\"M 289.765,104.778 L 301.771,111.71\" style=\"fill:none;fill-rule:evenodd;stroke:#000000;stroke-width:2.0px;stroke-linecap:butt;stroke-linejoin:miter;stroke-opacity:1\"/>\n",
       "<path class=\"bond-2\" d=\"M 301.771,111.71 L 294.839,123.716\" style=\"fill:none;fill-rule:evenodd;stroke:#000000;stroke-width:2.0px;stroke-linecap:butt;stroke-linejoin:miter;stroke-opacity:1\"/>\n",
       "<path class=\"bond-3\" d=\"M 301.771,111.71 L 308.702,99.7038\" style=\"fill:none;fill-rule:evenodd;stroke:#000000;stroke-width:2.0px;stroke-linecap:butt;stroke-linejoin:miter;stroke-opacity:1\"/>\n",
       "<path class=\"bond-4\" d=\"M 301.771,111.71 L 306.781,114.603\" style=\"fill:none;fill-rule:evenodd;stroke:#000000;stroke-width:2.0px;stroke-linecap:butt;stroke-linejoin:miter;stroke-opacity:1\"/>\n",
       "<path class=\"bond-4\" d=\"M 306.781,114.603 L 311.792,117.496\" style=\"fill:none;fill-rule:evenodd;stroke:#00CC00;stroke-width:2.0px;stroke-linecap:butt;stroke-linejoin:miter;stroke-opacity:1\"/>\n",
       "<path class=\"atom-5\" d=\"M 312.139 118.788 Q 312.139 117.732, 312.631 117.18 Q 313.129 116.622, 314.071 116.622 Q 314.947 116.622, 315.415 117.24 L 315.019 117.564 Q 314.677 117.114, 314.071 117.114 Q 313.429 117.114, 313.087 117.546 Q 312.751 117.972, 312.751 118.788 Q 312.751 119.628, 313.099 120.06 Q 313.453 120.492, 314.137 120.492 Q 314.605 120.492, 315.151 120.21 L 315.319 120.66 Q 315.097 120.804, 314.761 120.888 Q 314.425 120.972, 314.053 120.972 Q 313.129 120.972, 312.631 120.408 Q 312.139 119.844, 312.139 118.788 \" fill=\"#00CC00\"/>\n",
       "<path class=\"atom-5\" d=\"M 315.931 116.364 L 316.483 116.364 L 316.483 120.918 L 315.931 120.918 L 315.931 116.364 \" fill=\"#00CC00\"/>\n",
       "<path class=\"bond-0\" d=\"M 517.394,98.1519 L 506.705,106.98\" style=\"fill:none;fill-rule:evenodd;stroke:#000000;stroke-width:2.0px;stroke-linecap:butt;stroke-linejoin:miter;stroke-opacity:1\"/>\n",
       "<path class=\"bond-0\" d=\"M 519.16,100.29 L 508.471,109.118\" style=\"fill:none;fill-rule:evenodd;stroke:#000000;stroke-width:2.0px;stroke-linecap:butt;stroke-linejoin:miter;stroke-opacity:1\"/>\n",
       "<path class=\"bond-1\" d=\"M 507.588,108.049 L 509.889,121.72\" style=\"fill:none;fill-rule:evenodd;stroke:#000000;stroke-width:2.0px;stroke-linecap:butt;stroke-linejoin:miter;stroke-opacity:1\"/>\n",
       "<path class=\"bond-3\" d=\"M 507.588,108.049 L 494.598,103.206\" style=\"fill:none;fill-rule:evenodd;stroke:#000000;stroke-width:2.0px;stroke-linecap:butt;stroke-linejoin:miter;stroke-opacity:1\"/>\n",
       "<path class=\"bond-2\" d=\"M 509.889,121.72 L 505.16,125.625\" style=\"fill:none;fill-rule:evenodd;stroke:#000000;stroke-width:2.0px;stroke-linecap:butt;stroke-linejoin:miter;stroke-opacity:1\"/>\n",
       "<path class=\"bond-2\" d=\"M 505.16,125.625 L 500.432,129.531\" style=\"fill:none;fill-rule:evenodd;stroke:#7F4C19;stroke-width:2.0px;stroke-linecap:butt;stroke-linejoin:miter;stroke-opacity:1\"/>\n",
       "<path class=\"bond-4\" d=\"M 494.598,103.206 L 490.402,106.672\" style=\"fill:none;fill-rule:evenodd;stroke:#000000;stroke-width:2.0px;stroke-linecap:butt;stroke-linejoin:miter;stroke-opacity:1\"/>\n",
       "<path class=\"bond-4\" d=\"M 490.402,106.672 L 486.206,110.137\" style=\"fill:none;fill-rule:evenodd;stroke:#FF0000;stroke-width:2.0px;stroke-linecap:butt;stroke-linejoin:miter;stroke-opacity:1\"/>\n",
       "<path class=\"bond-5\" d=\"M 481.613,111.178 L 476.266,109.184\" style=\"fill:none;fill-rule:evenodd;stroke:#FF0000;stroke-width:2.0px;stroke-linecap:butt;stroke-linejoin:miter;stroke-opacity:1\"/>\n",
       "<path class=\"bond-5\" d=\"M 476.266,109.184 L 470.92,107.191\" style=\"fill:none;fill-rule:evenodd;stroke:#000000;stroke-width:2.0px;stroke-linecap:butt;stroke-linejoin:miter;stroke-opacity:1\"/>\n",
       "<path class=\"atom-3\" d=\"M 496.983 130.44 Q 497.391 130.554, 497.595 130.806 Q 497.805 131.052, 497.805 131.418 Q 497.805 132.006, 497.427 132.342 Q 497.055 132.672, 496.347 132.672 L 494.919 132.672 L 494.919 128.424 L 496.173 128.424 Q 496.899 128.424, 497.265 128.718 Q 497.631 129.012, 497.631 129.552 Q 497.631 130.194, 496.983 130.44 M 495.489 128.904 L 495.489 130.236 L 496.173 130.236 Q 496.593 130.236, 496.809 130.068 Q 497.031 129.894, 497.031 129.552 Q 497.031 128.904, 496.173 128.904 L 495.489 128.904 M 496.347 132.192 Q 496.761 132.192, 496.983 131.994 Q 497.205 131.796, 497.205 131.418 Q 497.205 131.07, 496.959 130.896 Q 496.719 130.716, 496.257 130.716 L 495.489 130.716 L 495.489 132.192 L 496.347 132.192 \" fill=\"#7F4C19\"/>\n",
       "<path class=\"atom-3\" d=\"M 498.771 129.588 L 498.837 130.014 Q 499.161 129.534, 499.689 129.534 Q 499.857 129.534, 500.085 129.594 L 499.995 130.098 Q 499.737 130.038, 499.593 130.038 Q 499.341 130.038, 499.173 130.14 Q 499.011 130.236, 498.879 130.47 L 498.879 132.672 L 498.315 132.672 L 498.315 129.588 L 498.771 129.588 \" fill=\"#7F4C19\"/>\n",
       "<path class=\"atom-5\" d=\"M 481.959 112.046 Q 481.959 111.026, 482.463 110.456 Q 482.967 109.886, 483.909 109.886 Q 484.851 109.886, 485.355 110.456 Q 485.859 111.026, 485.859 112.046 Q 485.859 113.078, 485.349 113.666 Q 484.839 114.248, 483.909 114.248 Q 482.973 114.248, 482.463 113.666 Q 481.959 113.084, 481.959 112.046 M 483.909 113.768 Q 484.557 113.768, 484.905 113.336 Q 485.259 112.898, 485.259 112.046 Q 485.259 111.212, 484.905 110.792 Q 484.557 110.366, 483.909 110.366 Q 483.261 110.366, 482.907 110.786 Q 482.559 111.206, 482.559 112.046 Q 482.559 112.904, 482.907 113.336 Q 483.261 113.768, 483.909 113.768 \" fill=\"#FF0000\"/>\n",
       "<path class=\"bond-0\" d=\"M 115.778,325.573 L 110.626,322.599\" style=\"fill:none;fill-rule:evenodd;stroke:#000000;stroke-width:2.0px;stroke-linecap:butt;stroke-linejoin:miter;stroke-opacity:1\"/>\n",
       "<path class=\"bond-0\" d=\"M 110.626,322.599 L 105.474,319.624\" style=\"fill:none;fill-rule:evenodd;stroke:#FF7F00;stroke-width:2.0px;stroke-linecap:butt;stroke-linejoin:miter;stroke-opacity:1\"/>\n",
       "<path class=\"bond-1\" d=\"M 102.069,319.624 L 96.9175,322.599\" style=\"fill:none;fill-rule:evenodd;stroke:#FF7F00;stroke-width:2.0px;stroke-linecap:butt;stroke-linejoin:miter;stroke-opacity:1\"/>\n",
       "<path class=\"bond-1\" d=\"M 96.9175,322.599 L 91.7659,325.573\" style=\"fill:none;fill-rule:evenodd;stroke:#000000;stroke-width:2.0px;stroke-linecap:butt;stroke-linejoin:miter;stroke-opacity:1\"/>\n",
       "<path class=\"bond-7\" d=\"M 103.772,316.171 L 103.772,310.474\" style=\"fill:none;fill-rule:evenodd;stroke:#FF7F00;stroke-width:2.0px;stroke-linecap:butt;stroke-linejoin:miter;stroke-opacity:1\"/>\n",
       "<path class=\"bond-7\" d=\"M 103.772,310.474 L 103.772,304.778\" style=\"fill:none;fill-rule:evenodd;stroke:#000000;stroke-width:2.0px;stroke-linecap:butt;stroke-linejoin:miter;stroke-opacity:1\"/>\n",
       "<path class=\"bond-2\" d=\"M 91.7659,325.573 L 86.6142,322.599\" style=\"fill:none;fill-rule:evenodd;stroke:#000000;stroke-width:2.0px;stroke-linecap:butt;stroke-linejoin:miter;stroke-opacity:1\"/>\n",
       "<path class=\"bond-2\" d=\"M 86.6142,322.599 L 81.4625,319.624\" style=\"fill:none;fill-rule:evenodd;stroke:#FF7F00;stroke-width:2.0px;stroke-linecap:butt;stroke-linejoin:miter;stroke-opacity:1\"/>\n",
       "<path class=\"bond-3\" d=\"M 79.76,316.171 L 79.76,310.474\" style=\"fill:none;fill-rule:evenodd;stroke:#FF7F00;stroke-width:2.0px;stroke-linecap:butt;stroke-linejoin:miter;stroke-opacity:1\"/>\n",
       "<path class=\"bond-3\" d=\"M 79.76,310.474 L 79.76,304.778\" style=\"fill:none;fill-rule:evenodd;stroke:#000000;stroke-width:2.0px;stroke-linecap:butt;stroke-linejoin:miter;stroke-opacity:1\"/>\n",
       "<path class=\"bond-4\" d=\"M 79.76,304.778 L 84.9116,301.804\" style=\"fill:none;fill-rule:evenodd;stroke:#000000;stroke-width:2.0px;stroke-linecap:butt;stroke-linejoin:miter;stroke-opacity:1\"/>\n",
       "<path class=\"bond-4\" d=\"M 84.9116,301.804 L 90.0633,298.829\" style=\"fill:none;fill-rule:evenodd;stroke:#FF7F00;stroke-width:2.0px;stroke-linecap:butt;stroke-linejoin:miter;stroke-opacity:1\"/>\n",
       "<path class=\"bond-5\" d=\"M 93.4685,298.829 L 98.6201,301.804\" style=\"fill:none;fill-rule:evenodd;stroke:#FF7F00;stroke-width:2.0px;stroke-linecap:butt;stroke-linejoin:miter;stroke-opacity:1\"/>\n",
       "<path class=\"bond-5\" d=\"M 98.6201,301.804 L 103.772,304.778\" style=\"fill:none;fill-rule:evenodd;stroke:#000000;stroke-width:2.0px;stroke-linecap:butt;stroke-linejoin:miter;stroke-opacity:1\"/>\n",
       "<path class=\"bond-6\" d=\"M 103.772,304.778 L 108.97,301.777\" style=\"fill:none;fill-rule:evenodd;stroke:#000000;stroke-width:2.0px;stroke-linecap:butt;stroke-linejoin:miter;stroke-opacity:1\"/>\n",
       "<path class=\"bond-6\" d=\"M 108.97,301.777 L 114.168,298.776\" style=\"fill:none;fill-rule:evenodd;stroke:#33CCCC;stroke-width:2.0px;stroke-linecap:butt;stroke-linejoin:miter;stroke-opacity:1\"/>\n",
       "<path class=\"atom-1\" d=\"M 103.67 316.517 Q 104.396 316.517, 104.762 316.847 Q 105.128 317.171, 105.128 317.765 Q 105.128 318.353, 104.75 318.689 Q 104.378 319.019, 103.67 319.019 L 102.992 319.019 L 102.992 320.765 L 102.416 320.765 L 102.416 316.517 L 103.67 316.517 M 103.67 318.539 Q 104.084 318.539, 104.306 318.341 Q 104.528 318.143, 104.528 317.765 Q 104.528 317.387, 104.306 317.195 Q 104.09 316.997, 103.67 316.997 L 102.992 316.997 L 102.992 318.539 L 103.67 318.539 \" fill=\"#FF7F00\"/>\n",
       "<path class=\"atom-3\" d=\"M 79.658 316.517 Q 80.384 316.517, 80.75 316.847 Q 81.116 317.171, 81.116 317.765 Q 81.116 318.353, 80.738 318.689 Q 80.366 319.019, 79.658 319.019 L 78.98 319.019 L 78.98 320.765 L 78.404 320.765 L 78.404 316.517 L 79.658 316.517 M 79.658 318.539 Q 80.072 318.539, 80.294 318.341 Q 80.516 318.143, 80.516 317.765 Q 80.516 317.387, 80.294 317.195 Q 80.078 316.997, 79.658 316.997 L 78.98 316.997 L 78.98 318.539 L 79.658 318.539 \" fill=\"#FF7F00\"/>\n",
       "<path class=\"atom-3\" d=\"M 81.4724 317.283 L 82.2208 317.283 L 82.2208 316.495 L 82.5534 316.495 L 82.5534 317.283 L 83.3217 317.283 L 83.3217 317.568 L 82.5534 317.568 L 82.5534 318.36 L 82.2208 318.36 L 82.2208 317.568 L 81.4724 317.568 L 81.4724 317.283 \" fill=\"#FF7F00\"/>\n",
       "<path class=\"atom-5\" d=\"M 91.6639 295.722 Q 92.3899 295.722, 92.7559 296.052 Q 93.1219 296.376, 93.1219 296.97 Q 93.1219 297.558, 92.7439 297.894 Q 92.3719 298.224, 91.6639 298.224 L 90.9859 298.224 L 90.9859 299.97 L 90.4099 299.97 L 90.4099 295.722 L 91.6639 295.722 M 91.6639 297.744 Q 92.0779 297.744, 92.2999 297.546 Q 92.5219 297.348, 92.5219 296.97 Q 92.5219 296.592, 92.2999 296.4 Q 92.0839 296.202, 91.6639 296.202 L 90.9859 296.202 L 90.9859 297.744 L 91.6639 297.744 \" fill=\"#FF7F00\"/>\n",
       "<path class=\"atom-5\" d=\"M 90.1039 291.05 L 90.6799 291.05 L 90.6799 292.856 L 92.8519 292.856 L 92.8519 291.05 L 93.4279 291.05 L 93.4279 295.298 L 92.8519 295.298 L 92.8519 293.336 L 90.6799 293.336 L 90.6799 295.298 L 90.1039 295.298 L 90.1039 291.05 \" fill=\"#FF7F00\"/>\n",
       "<path class=\"atom-7\" d=\"M 114.515 295.722 L 117.041 295.722 L 117.041 296.208 L 115.085 296.208 L 115.085 297.498 L 116.825 297.498 L 116.825 297.99 L 115.085 297.99 L 115.085 299.97 L 114.515 299.97 L 114.515 295.722 \" fill=\"#33CCCC\"/>\n",
       "<path d=\"M 77.804,318.041 L 77.8028,318.016 L 77.7995,317.99 L 77.794,317.965 L 77.7864,317.94 L 77.7766,317.916 L 77.7648,317.893 L 77.7511,317.871 L 77.7356,317.851 L 77.7184,317.832 L 77.6995,317.814 L 77.6792,317.798 L 77.6577,317.784 L 77.635,317.771 L 77.6113,317.761 L 77.5868,317.753 L 77.5617,317.747 L 77.5362,317.743 L 77.5104,317.741 L 77.4846,317.742 L 77.4589,317.745 L 77.4336,317.75 L 77.4088,317.757 L 77.3847,317.766 L 77.3615,317.777 L 77.3393,317.791 L 77.3184,317.806 L 77.2988,317.822 L 77.2807,317.841 L 77.2643,317.861 L 77.2497,317.882 L 77.2369,317.905 L 77.2262,317.928 L 77.2175,317.952 L 77.2109,317.977 L 77.2065,318.003 L 77.2042,318.028 L 77.2042,318.054 L 77.2065,318.08 L 77.2109,318.105 L 77.2175,318.13 L 77.2262,318.155 L 77.2369,318.178 L 77.2497,318.201 L 77.2643,318.222 L 77.2807,318.242 L 77.2988,318.26 L 77.3184,318.277 L 77.3393,318.292 L 77.3615,318.305 L 77.3847,318.317 L 77.4088,318.326 L 77.4336,318.333 L 77.4589,318.338 L 77.4846,318.341 L 77.5104,318.341 L 77.5362,318.34 L 77.5617,318.336 L 77.5868,318.33 L 77.6113,318.322 L 77.635,318.311 L 77.6577,318.299 L 77.6792,318.285 L 77.6995,318.269 L 77.7184,318.251 L 77.7356,318.232 L 77.7511,318.211 L 77.7648,318.189 L 77.7766,318.167 L 77.7864,318.143 L 77.794,318.118 L 77.7995,318.093 L 77.8028,318.067 L 77.804,318.041 L 77.504,318.041 Z\" style=\"fill:#000000;fill-rule:evenodd;fill-opacity:1;stroke:#000000;stroke-width:0px;stroke-linecap:butt;stroke-linejoin:miter;stroke-opacity:1;\"/>\n",
       "<path d=\"M 77.804,319.241 L 77.8028,319.216 L 77.7995,319.19 L 77.794,319.165 L 77.7864,319.14 L 77.7766,319.116 L 77.7648,319.093 L 77.7511,319.071 L 77.7356,319.051 L 77.7184,319.032 L 77.6995,319.014 L 77.6792,318.998 L 77.6577,318.984 L 77.635,318.971 L 77.6113,318.961 L 77.5868,318.953 L 77.5617,318.947 L 77.5362,318.943 L 77.5104,318.941 L 77.4846,318.942 L 77.4589,318.945 L 77.4336,318.95 L 77.4088,318.957 L 77.3847,318.966 L 77.3615,318.977 L 77.3393,318.991 L 77.3184,319.006 L 77.2988,319.022 L 77.2807,319.041 L 77.2643,319.061 L 77.2497,319.082 L 77.2369,319.105 L 77.2262,319.128 L 77.2175,319.152 L 77.2109,319.177 L 77.2065,319.203 L 77.2042,319.228 L 77.2042,319.254 L 77.2065,319.28 L 77.2109,319.305 L 77.2175,319.33 L 77.2262,319.355 L 77.2369,319.378 L 77.2497,319.401 L 77.2643,319.422 L 77.2807,319.442 L 77.2988,319.46 L 77.3184,319.477 L 77.3393,319.492 L 77.3615,319.505 L 77.3847,319.517 L 77.4088,319.526 L 77.4336,319.533 L 77.4589,319.538 L 77.4846,319.541 L 77.5104,319.541 L 77.5362,319.54 L 77.5617,319.536 L 77.5868,319.53 L 77.6113,319.522 L 77.635,319.511 L 77.6577,319.499 L 77.6792,319.485 L 77.6995,319.469 L 77.7184,319.451 L 77.7356,319.432 L 77.7511,319.411 L 77.7648,319.389 L 77.7766,319.367 L 77.7864,319.343 L 77.794,319.318 L 77.7995,319.293 L 77.8028,319.267 L 77.804,319.241 L 77.504,319.241 Z\" style=\"fill:#000000;fill-rule:evenodd;fill-opacity:1;stroke:#000000;stroke-width:0px;stroke-linecap:butt;stroke-linejoin:miter;stroke-opacity:1;\"/>\n",
       "<path class=\"bond-0\" d=\"M 354.989,309.444 L 350.636,312.781\" style=\"fill:none;fill-rule:evenodd;stroke:#000000;stroke-width:2.0px;stroke-linecap:butt;stroke-linejoin:miter;stroke-opacity:1\"/>\n",
       "<path class=\"bond-0\" d=\"M 350.636,312.781 L 346.283,316.118\" style=\"fill:none;fill-rule:evenodd;stroke:#FF0000;stroke-width:2.0px;stroke-linecap:butt;stroke-linejoin:miter;stroke-opacity:1\"/>\n",
       "<path class=\"bond-1\" d=\"M 341.69,316.927 L 336.435,314.747\" style=\"fill:none;fill-rule:evenodd;stroke:#FF0000;stroke-width:2.0px;stroke-linecap:butt;stroke-linejoin:miter;stroke-opacity:1\"/>\n",
       "<path class=\"bond-1\" d=\"M 336.435,314.747 L 331.181,312.568\" style=\"fill:none;fill-rule:evenodd;stroke:#000000;stroke-width:2.0px;stroke-linecap:butt;stroke-linejoin:miter;stroke-opacity:1\"/>\n",
       "<path class=\"bond-2\" d=\"M 332.555,312.388 L 331.823,306.805\" style=\"fill:none;fill-rule:evenodd;stroke:#000000;stroke-width:2.0px;stroke-linecap:butt;stroke-linejoin:miter;stroke-opacity:1\"/>\n",
       "<path class=\"bond-2\" d=\"M 331.823,306.805 L 331.09,301.221\" style=\"fill:none;fill-rule:evenodd;stroke:#CCCC00;stroke-width:2.0px;stroke-linecap:butt;stroke-linejoin:miter;stroke-opacity:1\"/>\n",
       "<path class=\"bond-2\" d=\"M 329.806,312.749 L 329.074,307.165\" style=\"fill:none;fill-rule:evenodd;stroke:#000000;stroke-width:2.0px;stroke-linecap:butt;stroke-linejoin:miter;stroke-opacity:1\"/>\n",
       "<path class=\"bond-2\" d=\"M 329.074,307.165 L 328.341,301.582\" style=\"fill:none;fill-rule:evenodd;stroke:#CCCC00;stroke-width:2.0px;stroke-linecap:butt;stroke-linejoin:miter;stroke-opacity:1\"/>\n",
       "<path class=\"bond-3\" d=\"M 331.181,312.568 L 320.179,321.003\" style=\"fill:none;fill-rule:evenodd;stroke:#000000;stroke-width:2.0px;stroke-linecap:butt;stroke-linejoin:miter;stroke-opacity:1\"/>\n",
       "<path class=\"bond-4\" d=\"M 320.179,321.003 L 307.373,315.693\" style=\"fill:none;fill-rule:evenodd;stroke:#000000;stroke-width:2.0px;stroke-linecap:butt;stroke-linejoin:miter;stroke-opacity:1\"/>\n",
       "<path class=\"bond-5\" d=\"M 307.373,315.693 L 301.822,313.39\" style=\"fill:none;fill-rule:evenodd;stroke:#000000;stroke-width:2.0px;stroke-linecap:butt;stroke-linejoin:miter;stroke-opacity:1\"/>\n",
       "<path class=\"bond-5\" d=\"M 301.822,313.39 L 296.27,311.088\" style=\"fill:none;fill-rule:evenodd;stroke:#FF7F00;stroke-width:2.0px;stroke-linecap:butt;stroke-linejoin:miter;stroke-opacity:1\"/>\n",
       "<path class=\"bond-5\" d=\"M 306.77,312.441 L 302.884,310.829\" style=\"fill:none;fill-rule:evenodd;stroke:#000000;stroke-width:2.0px;stroke-linecap:butt;stroke-linejoin:miter;stroke-opacity:1\"/>\n",
       "<path class=\"bond-5\" d=\"M 302.884,310.829 L 298.998,309.218\" style=\"fill:none;fill-rule:evenodd;stroke:#FF7F00;stroke-width:2.0px;stroke-linecap:butt;stroke-linejoin:miter;stroke-opacity:1\"/>\n",
       "<path class=\"bond-5\" d=\"M 304.646,317.563 L 300.759,315.952\" style=\"fill:none;fill-rule:evenodd;stroke:#000000;stroke-width:2.0px;stroke-linecap:butt;stroke-linejoin:miter;stroke-opacity:1\"/>\n",
       "<path class=\"bond-5\" d=\"M 300.759,315.952 L 296.873,314.34\" style=\"fill:none;fill-rule:evenodd;stroke:#FF7F00;stroke-width:2.0px;stroke-linecap:butt;stroke-linejoin:miter;stroke-opacity:1\"/>\n",
       "<path class=\"bond-6\" d=\"M 292.865,309.676 L 283.418,305.758\" style=\"fill:none;fill-rule:evenodd;stroke:#FF7F00;stroke-width:2.0px;stroke-linecap:butt;stroke-linejoin:miter;stroke-opacity:1\"/>\n",
       "<path class=\"bond-6\" d=\"M 290.386,311.65 L 283.773,308.907\" style=\"fill:none;fill-rule:evenodd;stroke:#FF7F00;stroke-width:2.0px;stroke-linecap:butt;stroke-linejoin:miter;stroke-opacity:1\"/>\n",
       "<path class=\"bond-7\" d=\"M 280.059,306.377 L 275.409,309.942\" style=\"fill:none;fill-rule:evenodd;stroke:#FF7F00;stroke-width:2.0px;stroke-linecap:butt;stroke-linejoin:miter;stroke-opacity:1\"/>\n",
       "<path class=\"bond-7\" d=\"M 275.409,309.942 L 270.76,313.506\" style=\"fill:none;fill-rule:evenodd;stroke:#000000;stroke-width:2.0px;stroke-linecap:butt;stroke-linejoin:miter;stroke-opacity:1\"/>\n",
       "<path class=\"bond-8\" d=\"M 270.76,313.506 L 259.939,309.019\" style=\"fill:none;fill-rule:evenodd;stroke:#000000;stroke-width:2.0px;stroke-linecap:butt;stroke-linejoin:miter;stroke-opacity:1\"/>\n",
       "<path class=\"bond-9\" d=\"M 255.969,309.717 L 246.952,316.631\" style=\"fill:none;fill-rule:evenodd;stroke:#000000;stroke-width:2.0px;stroke-linecap:butt;stroke-linejoin:miter;stroke-opacity:1\"/>\n",
       "<path class=\"bond-10\" d=\"M 246.952,316.631 L 241.403,314.33\" style=\"fill:none;fill-rule:evenodd;stroke:#000000;stroke-width:2.0px;stroke-linecap:butt;stroke-linejoin:miter;stroke-opacity:1\"/>\n",
       "<path class=\"bond-10\" d=\"M 241.403,314.33 L 235.855,312.029\" style=\"fill:none;fill-rule:evenodd;stroke:#CCCC00;stroke-width:2.0px;stroke-linecap:butt;stroke-linejoin:miter;stroke-opacity:1\"/>\n",
       "<path class=\"atom-1\" d=\"M 342.037 317.891 Q 342.037 316.871, 342.541 316.301 Q 343.045 315.731, 343.987 315.731 Q 344.929 315.731, 345.433 316.301 Q 345.937 316.871, 345.937 317.891 Q 345.937 318.923, 345.427 319.511 Q 344.917 320.093, 343.987 320.093 Q 343.051 320.093, 342.541 319.511 Q 342.037 318.929, 342.037 317.891 M 343.987 319.613 Q 344.635 319.613, 344.983 319.181 Q 345.337 318.743, 345.337 317.891 Q 345.337 317.057, 344.983 316.637 Q 344.635 316.211, 343.987 316.211 Q 343.339 316.211, 342.985 316.631 Q 342.637 317.051, 342.637 317.891 Q 342.637 318.749, 342.985 319.181 Q 343.339 319.613, 343.987 319.613 \" fill=\"#FF0000\"/>\n",
       "<path class=\"atom-3\" d=\"M 328.177 300.281 Q 328.225 300.299, 328.423 300.383 Q 328.621 300.467, 328.837 300.521 Q 329.059 300.569, 329.275 300.569 Q 329.677 300.569, 329.911 300.377 Q 330.145 300.179, 330.145 299.837 Q 330.145 299.603, 330.025 299.459 Q 329.911 299.315, 329.731 299.237 Q 329.551 299.159, 329.251 299.069 Q 328.873 298.955, 328.645 298.847 Q 328.423 298.739, 328.261 298.511 Q 328.105 298.283, 328.105 297.899 Q 328.105 297.365, 328.465 297.035 Q 328.831 296.705, 329.551 296.705 Q 330.043 296.705, 330.601 296.939 L 330.463 297.401 Q 329.953 297.191, 329.569 297.191 Q 329.155 297.191, 328.927 297.365 Q 328.699 297.533, 328.705 297.827 Q 328.705 298.055, 328.819 298.193 Q 328.939 298.331, 329.107 298.409 Q 329.281 298.487, 329.569 298.577 Q 329.953 298.697, 330.181 298.817 Q 330.409 298.937, 330.571 299.183 Q 330.739 299.423, 330.739 299.837 Q 330.739 300.425, 330.343 300.743 Q 329.953 301.055, 329.299 301.055 Q 328.921 301.055, 328.633 300.971 Q 328.351 300.893, 328.015 300.755 L 328.177 300.281 \" fill=\"#CCCC00\"/>\n",
       "<path class=\"atom-3\" d=\"M 331.095 297.408 L 331.844 297.408 L 331.844 296.62 L 332.177 296.62 L 332.177 297.408 L 332.945 297.408 L 332.945 297.693 L 332.177 297.693 L 332.177 298.485 L 331.844 298.485 L 331.844 297.693 L 331.095 297.693 L 331.095 297.408 \" fill=\"#CCCC00\"/>\n",
       "<path class=\"atom-6\" d=\"M 294.465 308.258 Q 295.191 308.258, 295.557 308.588 Q 295.923 308.912, 295.923 309.506 Q 295.923 310.094, 295.545 310.43 Q 295.173 310.76, 294.465 310.76 L 293.787 310.76 L 293.787 312.506 L 293.211 312.506 L 293.211 308.258 L 294.465 308.258 M 294.465 310.28 Q 294.879 310.28, 295.101 310.082 Q 295.323 309.884, 295.323 309.506 Q 295.323 309.128, 295.101 308.936 Q 294.885 308.738, 294.465 308.738 L 293.787 308.738 L 293.787 310.28 L 294.465 310.28 \" fill=\"#FF7F00\"/>\n",
       "<path class=\"atom-7\" d=\"M 281.66 302.948 Q 282.386 302.948, 282.752 303.278 Q 283.118 303.602, 283.118 304.196 Q 283.118 304.784, 282.74 305.12 Q 282.368 305.45, 281.66 305.45 L 280.982 305.45 L 280.982 307.196 L 280.406 307.196 L 280.406 302.948 L 281.66 302.948 M 281.66 304.97 Q 282.074 304.97, 282.296 304.772 Q 282.518 304.574, 282.518 304.196 Q 282.518 303.818, 282.296 303.626 Q 282.08 303.428, 281.66 303.428 L 280.982 303.428 L 280.982 304.97 L 281.66 304.97 \" fill=\"#FF7F00\"/>\n",
       "<path class=\"atom-7\" d=\"M 283.474 303.713 L 284.222 303.713 L 284.222 302.925 L 284.555 302.925 L 284.555 303.713 L 285.323 303.713 L 285.323 303.998 L 284.555 303.998 L 284.555 304.79 L 284.222 304.79 L 284.222 303.998 L 283.474 303.998 L 283.474 303.713 \" fill=\"#FF7F00\"/>\n",
       "<path class=\"atom-9\" d=\"M 256.316 308.214 Q 256.316 307.158, 256.808 306.606 Q 257.306 306.048, 258.248 306.048 Q 259.124 306.048, 259.592 306.666 L 259.196 306.99 Q 258.854 306.54, 258.248 306.54 Q 257.606 306.54, 257.264 306.972 Q 256.928 307.398, 256.928 308.214 Q 256.928 309.054, 257.276 309.486 Q 257.63 309.918, 258.314 309.918 Q 258.782 309.918, 259.328 309.636 L 259.496 310.086 Q 259.274 310.23, 258.938 310.314 Q 258.602 310.398, 258.23 310.398 Q 257.306 310.398, 256.808 309.834 Q 256.316 309.27, 256.316 308.214 \" fill=\"#000000\"/>\n",
       "<path class=\"atom-9\" d=\"M 259.948 306.81 L 260.697 306.81 L 260.697 306.022 L 261.029 306.022 L 261.029 306.81 L 261.798 306.81 L 261.798 307.096 L 261.029 307.096 L 261.029 307.888 L 260.697 307.888 L 260.697 307.096 L 259.948 307.096 L 259.948 306.81 \" fill=\"#000000\"/>\n",
       "<path class=\"atom-11\" d=\"M 229.178 309.196 L 229.754 309.196 L 229.754 311.002 L 231.926 311.002 L 231.926 309.196 L 232.502 309.196 L 232.502 313.444 L 231.926 313.444 L 231.926 311.482 L 229.754 311.482 L 229.754 313.444 L 229.178 313.444 L 229.178 309.196 \" fill=\"#CCCC00\"/>\n",
       "<path class=\"atom-11\" d=\"M 232.946 312.784 Q 232.994 312.802, 233.192 312.886 Q 233.39 312.97, 233.606 313.024 Q 233.828 313.072, 234.044 313.072 Q 234.446 313.072, 234.68 312.88 Q 234.914 312.682, 234.914 312.34 Q 234.914 312.106, 234.794 311.962 Q 234.68 311.818, 234.5 311.74 Q 234.32 311.662, 234.02 311.572 Q 233.642 311.458, 233.414 311.35 Q 233.192 311.242, 233.03 311.014 Q 232.874 310.786, 232.874 310.402 Q 232.874 309.868, 233.234 309.538 Q 233.6 309.208, 234.32 309.208 Q 234.812 309.208, 235.37 309.442 L 235.232 309.904 Q 234.722 309.694, 234.338 309.694 Q 233.924 309.694, 233.696 309.868 Q 233.468 310.036, 233.474 310.33 Q 233.474 310.558, 233.588 310.696 Q 233.708 310.834, 233.876 310.912 Q 234.05 310.99, 234.338 311.08 Q 234.722 311.2, 234.95 311.32 Q 235.178 311.44, 235.34 311.686 Q 235.508 311.926, 235.508 312.34 Q 235.508 312.928, 235.112 313.246 Q 234.722 313.558, 234.068 313.558 Q 233.69 313.558, 233.402 313.474 Q 233.12 313.396, 232.784 313.258 L 232.946 312.784 \" fill=\"#CCCC00\"/>\n",
       "<path d=\"M 334.145,298.823 L 334.144,298.797 L 334.14,298.772 L 334.135,298.746 L 334.127,298.722 L 334.117,298.698 L 334.106,298.675 L 334.092,298.653 L 334.076,298.632 L 334.059,298.613 L 334.04,298.596 L 334.02,298.58 L 333.999,298.565 L 333.976,298.553 L 333.952,298.543 L 333.928,298.535 L 333.903,298.529 L 333.877,298.525 L 333.851,298.523 L 333.825,298.524 L 333.8,298.526 L 333.774,298.531 L 333.75,298.539 L 333.726,298.548 L 333.702,298.559 L 333.68,298.572 L 333.659,298.587 L 333.64,298.604 L 333.622,298.623 L 333.605,298.643 L 333.591,298.664 L 333.578,298.686 L 333.567,298.71 L 333.558,298.734 L 333.552,298.759 L 333.547,298.784 L 333.545,298.81 L 333.545,298.836 L 333.547,298.862 L 333.552,298.887 L 333.558,298.912 L 333.567,298.936 L 333.578,298.96 L 333.591,298.982 L 333.605,299.003 L 333.622,299.023 L 333.64,299.042 L 333.659,299.059 L 333.68,299.074 L 333.702,299.087 L 333.726,299.098 L 333.75,299.108 L 333.774,299.115 L 333.8,299.12 L 333.825,299.122 L 333.851,299.123 L 333.877,299.121 L 333.903,299.117 L 333.928,299.111 L 333.952,299.103 L 333.976,299.093 L 333.999,299.081 L 334.02,299.066 L 334.04,299.051 L 334.059,299.033 L 334.076,299.014 L 334.092,298.993 L 334.106,298.971 L 334.117,298.948 L 334.127,298.924 L 334.135,298.9 L 334.14,298.874 L 334.144,298.849 L 334.145,298.823 L 333.845,298.823 Z\" style=\"fill:#000000;fill-rule:evenodd;fill-opacity:1;stroke:#000000;stroke-width:0px;stroke-linecap:butt;stroke-linejoin:miter;stroke-opacity:1;\"/>\n",
       "<path d=\"M 282.062,302.475 L 282.061,302.449 L 282.057,302.424 L 282.052,302.399 L 282.044,302.374 L 282.034,302.35 L 282.023,302.327 L 282.009,302.305 L 281.993,302.285 L 281.976,302.265 L 281.957,302.248 L 281.937,302.232 L 281.915,302.218 L 281.893,302.205 L 281.869,302.195 L 281.844,302.187 L 281.819,302.181 L 281.794,302.177 L 281.768,302.175 L 281.742,302.176 L 281.717,302.179 L 281.691,302.184 L 281.666,302.191 L 281.642,302.2 L 281.619,302.211 L 281.597,302.224 L 281.576,302.24 L 281.556,302.256 L 281.538,302.275 L 281.522,302.295 L 281.507,302.316 L 281.495,302.338 L 281.484,302.362 L 281.475,302.386 L 281.469,302.411 L 281.464,302.437 L 281.462,302.462 L 281.462,302.488 L 281.464,302.514 L 281.469,302.539 L 281.475,302.564 L 281.484,302.589 L 281.495,302.612 L 281.507,302.634 L 281.522,302.656 L 281.538,302.676 L 281.556,302.694 L 281.576,302.711 L 281.597,302.726 L 281.619,302.739 L 281.642,302.75 L 281.666,302.76 L 281.691,302.767 L 281.717,302.772 L 281.742,302.775 L 281.768,302.775 L 281.794,302.773 L 281.819,302.77 L 281.844,302.764 L 281.869,302.755 L 281.893,302.745 L 281.915,302.733 L 281.937,302.719 L 281.957,302.703 L 281.976,302.685 L 281.993,302.666 L 282.009,302.645 L 282.023,302.623 L 282.034,302.6 L 282.044,302.576 L 282.052,302.552 L 282.057,302.527 L 282.061,302.501 L 282.062,302.475 L 281.762,302.475 Z\" style=\"fill:#000000;fill-rule:evenodd;fill-opacity:1;stroke:#000000;stroke-width:0px;stroke-linecap:butt;stroke-linejoin:miter;stroke-opacity:1;\"/>\n",
       "<path d=\"M 258.254,305.572 L 258.253,305.547 L 258.249,305.521 L 258.244,305.496 L 258.236,305.471 L 258.227,305.447 L 258.215,305.424 L 258.201,305.402 L 258.186,305.382 L 258.168,305.363 L 258.149,305.345 L 258.129,305.329 L 258.108,305.315 L 258.085,305.303 L 258.061,305.292 L 258.037,305.284 L 258.012,305.278 L 257.986,305.274 L 257.96,305.273 L 257.935,305.273 L 257.909,305.276 L 257.884,305.281 L 257.859,305.288 L 257.835,305.297 L 257.811,305.308 L 257.789,305.322 L 257.768,305.337 L 257.749,305.354 L 257.731,305.372 L 257.714,305.392 L 257.7,305.413 L 257.687,305.436 L 257.676,305.459 L 257.667,305.483 L 257.661,305.508 L 257.656,305.534 L 257.654,305.56 L 257.654,305.585 L 257.656,305.611 L 257.661,305.637 L 257.667,305.661 L 257.676,305.686 L 257.687,305.709 L 257.7,305.732 L 257.714,305.753 L 257.731,305.773 L 257.749,305.791 L 257.768,305.808 L 257.789,305.823 L 257.811,305.836 L 257.835,305.848 L 257.859,305.857 L 257.884,305.864 L 257.909,305.869 L 257.935,305.872 L 257.96,305.872 L 257.986,305.871 L 258.012,305.867 L 258.037,305.861 L 258.061,305.853 L 258.085,305.842 L 258.108,305.83 L 258.129,305.816 L 258.149,305.8 L 258.168,305.782 L 258.186,305.763 L 258.201,305.742 L 258.215,305.721 L 258.227,305.698 L 258.236,305.674 L 258.244,305.649 L 258.249,305.624 L 258.253,305.598 L 258.254,305.572 L 257.954,305.572 Z\" style=\"fill:#000000;fill-rule:evenodd;fill-opacity:1;stroke:#000000;stroke-width:0px;stroke-linecap:butt;stroke-linejoin:miter;stroke-opacity:1;\"/>\n",
       "</svg>"
      ],
      "text/plain": [
       "<IPython.core.display.SVG object>"
      ]
     },
     "execution_count": 17,
     "metadata": {},
     "output_type": "execute_result"
    }
   ],
   "source": [
    "molecules = [Chem.MolFromSmiles(smi) for smi in smiles_hits]\n",
    "\n",
    "Draw.MolsToGridImage(molecules, subImgSize=(200,200), molsPerRow=3, useSVG=True)"
   ]
  },
  {
   "cell_type": "markdown",
   "id": "19eb3501",
   "metadata": {},
   "source": [
    "## Approach 2. Molecular design by evolving focused molecular libraries"
   ]
  },
  {
   "cell_type": "markdown",
   "id": "6acc53c4",
   "metadata": {},
   "source": [
    "Let us use MACAW's library evolver to generate molecules with a predicted RON specification of 40. \n",
    "\n",
    "By default, `library_evolver` will evolve 8 generations of molecules. This number can be controlled using the optional argument `n_rounds`. With the optional argument `n_hits` we specify the number of molecules that we want the algorithm to return in its output."
   ]
  },
  {
   "cell_type": "code",
   "execution_count": 18,
   "id": "8589263c",
   "metadata": {},
   "outputs": [],
   "source": [
    "%%capture\n",
    "smiles_hits, Y_hits_pred = library_evolver(smiles, regr, mcw, spec=40., n_hits=5, n_rounds=8)"
   ]
  },
  {
   "cell_type": "code",
   "execution_count": 19,
   "id": "6984fbb7",
   "metadata": {},
   "outputs": [
    {
     "name": "stdout",
     "output_type": "stream",
     "text": [
      "['C=CCC[N-]CCCCC#CCC(C)CC', 'CCCCCC#CCCC(CCCCPF)SCCC', 'CC(CC#[O+])CCCCCCS', 'C=[C-]CCCC=[C+]PCCCCCCC(C)PCNPF', 'CCCCCCC=[N-]']\n",
      "[39.98338668 40.00039454 40.00706591 40.00836729 40.01062488]\n"
     ]
    }
   ],
   "source": [
    "print(smiles_hits)\n",
    "print(Y_hits_pred)"
   ]
  },
  {
   "cell_type": "code",
   "execution_count": 20,
   "id": "ba6e24cf",
   "metadata": {},
   "outputs": [
    {
     "data": {
      "image/svg+xml": [
       "<svg xmlns=\"http://www.w3.org/2000/svg\" xmlns:rdkit=\"http://www.rdkit.org/xml\" xmlns:xlink=\"http://www.w3.org/1999/xlink\" version=\"1.1\" baseProfile=\"full\" xml:space=\"preserve\" width=\"600px\" height=\"400px\" viewBox=\"0 0 600 400\">\n",
       "<!-- END OF HEADER -->\n",
       "<rect style=\"opacity:1.0;fill:#FFFFFF;stroke:none\" width=\"600\" height=\"400\" x=\"0\" y=\"0\"> </rect>\n",
       "<rect style=\"opacity:1.0;fill:#FFFFFF;stroke:none\" width=\"600\" height=\"400\" x=\"0\" y=\"0\"> </rect>\n",
       "<rect style=\"opacity:1.0;fill:#FFFFFF;stroke:none\" width=\"600\" height=\"400\" x=\"0\" y=\"0\"> </rect>\n",
       "<rect style=\"opacity:1.0;fill:#FFFFFF;stroke:none\" width=\"600\" height=\"400\" x=\"0\" y=\"0\"> </rect>\n",
       "<rect style=\"opacity:1.0;fill:#FFFFFF;stroke:none\" width=\"600\" height=\"400\" x=\"0\" y=\"0\"> </rect>\n",
       "<rect style=\"opacity:1.0;fill:#FFFFFF;stroke:none\" width=\"600\" height=\"400\" x=\"0\" y=\"0\"> </rect>\n",
       "<path class=\"bond-0\" d=\"M 20.273,110.16 L 32.5167,103.941\" style=\"fill:none;fill-rule:evenodd;stroke:#000000;stroke-width:2.0px;stroke-linecap:butt;stroke-linejoin:miter;stroke-opacity:1\"/>\n",
       "<path class=\"bond-0\" d=\"M 19.0291,107.712 L 31.2728,101.492\" style=\"fill:none;fill-rule:evenodd;stroke:#000000;stroke-width:2.0px;stroke-linecap:butt;stroke-linejoin:miter;stroke-opacity:1\"/>\n",
       "<path class=\"bond-1\" d=\"M 31.8947,102.717 L 43.4028,110.21\" style=\"fill:none;fill-rule:evenodd;stroke:#000000;stroke-width:2.0px;stroke-linecap:butt;stroke-linejoin:miter;stroke-opacity:1\"/>\n",
       "<path class=\"bond-2\" d=\"M 43.4028,110.21 L 55.6465,103.991\" style=\"fill:none;fill-rule:evenodd;stroke:#000000;stroke-width:2.0px;stroke-linecap:butt;stroke-linejoin:miter;stroke-opacity:1\"/>\n",
       "<path class=\"bond-3\" d=\"M 55.6465,103.991 L 60.4234,107.101\" style=\"fill:none;fill-rule:evenodd;stroke:#000000;stroke-width:2.0px;stroke-linecap:butt;stroke-linejoin:miter;stroke-opacity:1\"/>\n",
       "<path class=\"bond-3\" d=\"M 60.4234,107.101 L 65.2003,110.212\" style=\"fill:none;fill-rule:evenodd;stroke:#0000FF;stroke-width:2.0px;stroke-linecap:butt;stroke-linejoin:miter;stroke-opacity:1\"/>\n",
       "<path class=\"bond-4\" d=\"M 70.6291,109.719 L 75.0137,107.492\" style=\"fill:none;fill-rule:evenodd;stroke:#0000FF;stroke-width:2.0px;stroke-linecap:butt;stroke-linejoin:miter;stroke-opacity:1\"/>\n",
       "<path class=\"bond-4\" d=\"M 75.0137,107.492 L 79.3983,105.265\" style=\"fill:none;fill-rule:evenodd;stroke:#000000;stroke-width:2.0px;stroke-linecap:butt;stroke-linejoin:miter;stroke-opacity:1\"/>\n",
       "<path class=\"bond-5\" d=\"M 79.3983,105.265 L 90.9064,112.758\" style=\"fill:none;fill-rule:evenodd;stroke:#000000;stroke-width:2.0px;stroke-linecap:butt;stroke-linejoin:miter;stroke-opacity:1\"/>\n",
       "<path class=\"bond-6\" d=\"M 90.9064,112.758 L 103.15,106.539\" style=\"fill:none;fill-rule:evenodd;stroke:#000000;stroke-width:2.0px;stroke-linecap:butt;stroke-linejoin:miter;stroke-opacity:1\"/>\n",
       "<path class=\"bond-7\" d=\"M 103.15,106.539 L 114.658,114.032\" style=\"fill:none;fill-rule:evenodd;stroke:#000000;stroke-width:2.0px;stroke-linecap:butt;stroke-linejoin:miter;stroke-opacity:1\"/>\n",
       "<path class=\"bond-8\" d=\"M 114.658,114.032 L 126.902,107.813\" style=\"fill:none;fill-rule:evenodd;stroke:#000000;stroke-width:2.0px;stroke-linecap:butt;stroke-linejoin:miter;stroke-opacity:1\"/>\n",
       "<path class=\"bond-9\" d=\"M 126.902,107.813 L 139.146,101.593\" style=\"fill:none;fill-rule:evenodd;stroke:#000000;stroke-width:2.0px;stroke-linecap:butt;stroke-linejoin:miter;stroke-opacity:1\"/>\n",
       "<path class=\"bond-9\" d=\"M 129.982,109.328 L 138.553,104.975\" style=\"fill:none;fill-rule:evenodd;stroke:#000000;stroke-width:2.0px;stroke-linecap:butt;stroke-linejoin:miter;stroke-opacity:1\"/>\n",
       "<path class=\"bond-9\" d=\"M 127.495,104.431 L 136.065,100.077\" style=\"fill:none;fill-rule:evenodd;stroke:#000000;stroke-width:2.0px;stroke-linecap:butt;stroke-linejoin:miter;stroke-opacity:1\"/>\n",
       "<path class=\"bond-10\" d=\"M 139.146,101.593 L 151.389,95.3736\" style=\"fill:none;fill-rule:evenodd;stroke:#000000;stroke-width:2.0px;stroke-linecap:butt;stroke-linejoin:miter;stroke-opacity:1\"/>\n",
       "<path class=\"bond-11\" d=\"M 151.389,95.3736 L 162.897,102.867\" style=\"fill:none;fill-rule:evenodd;stroke:#000000;stroke-width:2.0px;stroke-linecap:butt;stroke-linejoin:miter;stroke-opacity:1\"/>\n",
       "<path class=\"bond-12\" d=\"M 162.897,102.867 L 175.141,96.6476\" style=\"fill:none;fill-rule:evenodd;stroke:#000000;stroke-width:2.0px;stroke-linecap:butt;stroke-linejoin:miter;stroke-opacity:1\"/>\n",
       "<path class=\"bond-13\" d=\"M 162.897,102.867 L 162.162,116.58\" style=\"fill:none;fill-rule:evenodd;stroke:#000000;stroke-width:2.0px;stroke-linecap:butt;stroke-linejoin:miter;stroke-opacity:1\"/>\n",
       "<path class=\"bond-14\" d=\"M 162.162,116.58 L 173.67,124.074\" style=\"fill:none;fill-rule:evenodd;stroke:#000000;stroke-width:2.0px;stroke-linecap:butt;stroke-linejoin:miter;stroke-opacity:1\"/>\n",
       "<path class=\"atom-4\" d=\"M 66.2156 109.36 L 67.6076 111.61 Q 67.7456 111.832, 67.9676 112.234 Q 68.1896 112.636, 68.2016 112.66 L 68.2016 109.36 L 68.7656 109.36 L 68.7656 113.608 L 68.1836 113.608 L 66.6896 111.148 Q 66.5156 110.86, 66.3296 110.53 Q 66.1496 110.2, 66.0956 110.098 L 66.0956 113.608 L 65.5436 113.608 L 65.5436 109.36 L 66.2156 109.36 \" fill=\"#0000FF\"/>\n",
       "<path class=\"atom-4\" d=\"M 68.9636 110.063 L 70.4169 110.063 L 70.4169 110.379 L 68.9636 110.379 L 68.9636 110.063 \" fill=\"#0000FF\"/>\n",
       "<path class=\"bond-0\" d=\"M 209.013,108.722 L 221.977,104.191\" style=\"fill:none;fill-rule:evenodd;stroke:#000000;stroke-width:2.0px;stroke-linecap:butt;stroke-linejoin:miter;stroke-opacity:1\"/>\n",
       "<path class=\"bond-1\" d=\"M 221.977,104.191 L 232.383,113.152\" style=\"fill:none;fill-rule:evenodd;stroke:#000000;stroke-width:2.0px;stroke-linecap:butt;stroke-linejoin:miter;stroke-opacity:1\"/>\n",
       "<path class=\"bond-2\" d=\"M 232.383,113.152 L 245.347,108.621\" style=\"fill:none;fill-rule:evenodd;stroke:#000000;stroke-width:2.0px;stroke-linecap:butt;stroke-linejoin:miter;stroke-opacity:1\"/>\n",
       "<path class=\"bond-3\" d=\"M 245.347,108.621 L 255.753,117.583\" style=\"fill:none;fill-rule:evenodd;stroke:#000000;stroke-width:2.0px;stroke-linecap:butt;stroke-linejoin:miter;stroke-opacity:1\"/>\n",
       "<path class=\"bond-4\" d=\"M 255.753,117.583 L 268.716,113.052\" style=\"fill:none;fill-rule:evenodd;stroke:#000000;stroke-width:2.0px;stroke-linecap:butt;stroke-linejoin:miter;stroke-opacity:1\"/>\n",
       "<path class=\"bond-5\" d=\"M 268.716,113.052 L 281.68,108.521\" style=\"fill:none;fill-rule:evenodd;stroke:#000000;stroke-width:2.0px;stroke-linecap:butt;stroke-linejoin:miter;stroke-opacity:1\"/>\n",
       "<path class=\"bond-5\" d=\"M 271.567,114.965 L 280.642,111.794\" style=\"fill:none;fill-rule:evenodd;stroke:#000000;stroke-width:2.0px;stroke-linecap:butt;stroke-linejoin:miter;stroke-opacity:1\"/>\n",
       "<path class=\"bond-5\" d=\"M 269.755,109.78 L 278.829,106.608\" style=\"fill:none;fill-rule:evenodd;stroke:#000000;stroke-width:2.0px;stroke-linecap:butt;stroke-linejoin:miter;stroke-opacity:1\"/>\n",
       "<path class=\"bond-6\" d=\"M 281.68,108.521 L 294.644,103.99\" style=\"fill:none;fill-rule:evenodd;stroke:#000000;stroke-width:2.0px;stroke-linecap:butt;stroke-linejoin:miter;stroke-opacity:1\"/>\n",
       "<path class=\"bond-7\" d=\"M 294.644,103.99 L 305.05,112.952\" style=\"fill:none;fill-rule:evenodd;stroke:#000000;stroke-width:2.0px;stroke-linecap:butt;stroke-linejoin:miter;stroke-opacity:1\"/>\n",
       "<path class=\"bond-8\" d=\"M 305.05,112.952 L 318.014,108.421\" style=\"fill:none;fill-rule:evenodd;stroke:#000000;stroke-width:2.0px;stroke-linecap:butt;stroke-linejoin:miter;stroke-opacity:1\"/>\n",
       "<path class=\"bond-9\" d=\"M 318.014,108.421 L 328.419,117.383\" style=\"fill:none;fill-rule:evenodd;stroke:#000000;stroke-width:2.0px;stroke-linecap:butt;stroke-linejoin:miter;stroke-opacity:1\"/>\n",
       "<path class=\"bond-15\" d=\"M 318.014,108.421 L 319.049,102.962\" style=\"fill:none;fill-rule:evenodd;stroke:#000000;stroke-width:2.0px;stroke-linecap:butt;stroke-linejoin:miter;stroke-opacity:1\"/>\n",
       "<path class=\"bond-15\" d=\"M 319.049,102.962 L 320.084,97.5039\" style=\"fill:none;fill-rule:evenodd;stroke:#CCCC00;stroke-width:2.0px;stroke-linecap:butt;stroke-linejoin:miter;stroke-opacity:1\"/>\n",
       "<path class=\"bond-10\" d=\"M 328.419,117.383 L 341.383,112.852\" style=\"fill:none;fill-rule:evenodd;stroke:#000000;stroke-width:2.0px;stroke-linecap:butt;stroke-linejoin:miter;stroke-opacity:1\"/>\n",
       "<path class=\"bond-11\" d=\"M 341.383,112.852 L 351.789,121.813\" style=\"fill:none;fill-rule:evenodd;stroke:#000000;stroke-width:2.0px;stroke-linecap:butt;stroke-linejoin:miter;stroke-opacity:1\"/>\n",
       "<path class=\"bond-12\" d=\"M 351.789,121.813 L 364.753,117.282\" style=\"fill:none;fill-rule:evenodd;stroke:#000000;stroke-width:2.0px;stroke-linecap:butt;stroke-linejoin:miter;stroke-opacity:1\"/>\n",
       "<path class=\"bond-13\" d=\"M 364.753,117.282 L 369.106,121.032\" style=\"fill:none;fill-rule:evenodd;stroke:#000000;stroke-width:2.0px;stroke-linecap:butt;stroke-linejoin:miter;stroke-opacity:1\"/>\n",
       "<path class=\"bond-13\" d=\"M 369.106,121.032 L 373.459,124.781\" style=\"fill:none;fill-rule:evenodd;stroke:#FF7F00;stroke-width:2.0px;stroke-linecap:butt;stroke-linejoin:miter;stroke-opacity:1\"/>\n",
       "<path class=\"bond-14\" d=\"M 376.858,125.65 L 381.71,123.954\" style=\"fill:none;fill-rule:evenodd;stroke:#FF7F00;stroke-width:2.0px;stroke-linecap:butt;stroke-linejoin:miter;stroke-opacity:1\"/>\n",
       "<path class=\"bond-14\" d=\"M 381.71,123.954 L 386.561,122.259\" style=\"fill:none;fill-rule:evenodd;stroke:#33CCCC;stroke-width:2.0px;stroke-linecap:butt;stroke-linejoin:miter;stroke-opacity:1\"/>\n",
       "<path class=\"bond-16\" d=\"M 322.277,94.3326 L 327.906,92.3651\" style=\"fill:none;fill-rule:evenodd;stroke:#CCCC00;stroke-width:2.0px;stroke-linecap:butt;stroke-linejoin:miter;stroke-opacity:1\"/>\n",
       "<path class=\"bond-16\" d=\"M 327.906,92.3651 L 333.536,90.3977\" style=\"fill:none;fill-rule:evenodd;stroke:#000000;stroke-width:2.0px;stroke-linecap:butt;stroke-linejoin:miter;stroke-opacity:1\"/>\n",
       "<path class=\"bond-17\" d=\"M 333.536,90.3977 L 336.094,76.9052\" style=\"fill:none;fill-rule:evenodd;stroke:#000000;stroke-width:2.0px;stroke-linecap:butt;stroke-linejoin:miter;stroke-opacity:1\"/>\n",
       "<path class=\"bond-18\" d=\"M 336.094,76.9052 L 349.058,72.3744\" style=\"fill:none;fill-rule:evenodd;stroke:#000000;stroke-width:2.0px;stroke-linecap:butt;stroke-linejoin:miter;stroke-opacity:1\"/>\n",
       "<path class=\"atom-14\" d=\"M 375.057 124.12 Q 375.783 124.12, 376.149 124.45 Q 376.515 124.774, 376.515 125.368 Q 376.515 125.956, 376.137 126.292 Q 375.765 126.622, 375.057 126.622 L 374.379 126.622 L 374.379 128.368 L 373.803 128.368 L 373.803 124.12 L 375.057 124.12 M 375.057 126.142 Q 375.471 126.142, 375.693 125.944 Q 375.915 125.746, 375.915 125.368 Q 375.915 124.99, 375.693 124.798 Q 375.477 124.6, 375.057 124.6 L 374.379 124.6 L 374.379 126.142 L 375.057 126.142 \" fill=\"#FF7F00\"/>\n",
       "<path class=\"atom-14\" d=\"M 373.497 128.793 L 374.073 128.793 L 374.073 130.599 L 376.245 130.599 L 376.245 128.793 L 376.821 128.793 L 376.821 133.041 L 376.245 133.041 L 376.245 131.079 L 374.073 131.079 L 374.073 133.041 L 373.497 133.041 L 373.497 128.793 \" fill=\"#FF7F00\"/>\n",
       "<path class=\"atom-15\" d=\"M 386.86 119.589 L 389.386 119.589 L 389.386 120.075 L 387.43 120.075 L 387.43 121.365 L 389.17 121.365 L 389.17 121.857 L 387.43 121.857 L 387.43 123.837 L 386.86 123.837 L 386.86 119.589 \" fill=\"#33CCCC\"/>\n",
       "<path class=\"atom-16\" d=\"M 319.372 96.3866 Q 319.42 96.4046, 319.618 96.4886 Q 319.816 96.5726, 320.032 96.6266 Q 320.254 96.6746, 320.47 96.6746 Q 320.872 96.6746, 321.106 96.4826 Q 321.34 96.2846, 321.34 95.9426 Q 321.34 95.7086, 321.22 95.5646 Q 321.106 95.4206, 320.926 95.3426 Q 320.746 95.2646, 320.446 95.1746 Q 320.068 95.0606, 319.84 94.9526 Q 319.618 94.8446, 319.456 94.6166 Q 319.3 94.3886, 319.3 94.0046 Q 319.3 93.4706, 319.66 93.1406 Q 320.026 92.8106, 320.746 92.8106 Q 321.238 92.8106, 321.796 93.0446 L 321.658 93.5066 Q 321.148 93.2966, 320.764 93.2966 Q 320.35 93.2966, 320.122 93.4706 Q 319.894 93.6386, 319.9 93.9326 Q 319.9 94.1606, 320.014 94.2986 Q 320.134 94.4366, 320.302 94.5146 Q 320.476 94.5926, 320.764 94.6826 Q 321.148 94.8026, 321.376 94.9226 Q 321.604 95.0426, 321.766 95.2886 Q 321.934 95.5286, 321.934 95.9426 Q 321.934 96.5306, 321.538 96.8486 Q 321.148 97.1606, 320.494 97.1606 Q 320.116 97.1606, 319.828 97.0766 Q 319.546 96.9986, 319.21 96.8606 L 319.372 96.3866 \" fill=\"#CCCC00\"/>\n",
       "<path class=\"bond-0\" d=\"M 546.141,93.0265 L 535.25,101.391\" style=\"fill:none;fill-rule:evenodd;stroke:#000000;stroke-width:2.0px;stroke-linecap:butt;stroke-linejoin:miter;stroke-opacity:1\"/>\n",
       "<path class=\"bond-1\" d=\"M 535.25,101.391 L 537.048,115.006\" style=\"fill:none;fill-rule:evenodd;stroke:#000000;stroke-width:2.0px;stroke-linecap:butt;stroke-linejoin:miter;stroke-opacity:1\"/>\n",
       "<path class=\"bond-4\" d=\"M 535.25,101.391 L 522.56,96.142\" style=\"fill:none;fill-rule:evenodd;stroke:#000000;stroke-width:2.0px;stroke-linecap:butt;stroke-linejoin:miter;stroke-opacity:1\"/>\n",
       "<path class=\"bond-2\" d=\"M 537.048,115.006 L 526.157,123.371\" style=\"fill:none;fill-rule:evenodd;stroke:#000000;stroke-width:2.0px;stroke-linecap:butt;stroke-linejoin:miter;stroke-opacity:1\"/>\n",
       "<path class=\"bond-3\" d=\"M 526.157,123.371 L 522.354,126.292\" style=\"fill:none;fill-rule:evenodd;stroke:#000000;stroke-width:2.0px;stroke-linecap:butt;stroke-linejoin:miter;stroke-opacity:1\"/>\n",
       "<path class=\"bond-3\" d=\"M 522.354,126.292 L 518.55,129.213\" style=\"fill:none;fill-rule:evenodd;stroke:#FF0000;stroke-width:2.0px;stroke-linecap:butt;stroke-linejoin:miter;stroke-opacity:1\"/>\n",
       "<path class=\"bond-3\" d=\"M 523.343,122.069 L 520.11,124.552\" style=\"fill:none;fill-rule:evenodd;stroke:#000000;stroke-width:2.0px;stroke-linecap:butt;stroke-linejoin:miter;stroke-opacity:1\"/>\n",
       "<path class=\"bond-3\" d=\"M 520.11,124.552 L 516.877,127.035\" style=\"fill:none;fill-rule:evenodd;stroke:#FF0000;stroke-width:2.0px;stroke-linecap:butt;stroke-linejoin:miter;stroke-opacity:1\"/>\n",
       "<path class=\"bond-3\" d=\"M 526.689,126.426 L 523.456,128.909\" style=\"fill:none;fill-rule:evenodd;stroke:#000000;stroke-width:2.0px;stroke-linecap:butt;stroke-linejoin:miter;stroke-opacity:1\"/>\n",
       "<path class=\"bond-3\" d=\"M 523.456,128.909 L 520.223,131.392\" style=\"fill:none;fill-rule:evenodd;stroke:#FF0000;stroke-width:2.0px;stroke-linecap:butt;stroke-linejoin:miter;stroke-opacity:1\"/>\n",
       "<path class=\"bond-5\" d=\"M 522.56,96.142 L 511.669,104.507\" style=\"fill:none;fill-rule:evenodd;stroke:#000000;stroke-width:2.0px;stroke-linecap:butt;stroke-linejoin:miter;stroke-opacity:1\"/>\n",
       "<path class=\"bond-6\" d=\"M 511.669,104.507 L 498.979,99.2575\" style=\"fill:none;fill-rule:evenodd;stroke:#000000;stroke-width:2.0px;stroke-linecap:butt;stroke-linejoin:miter;stroke-opacity:1\"/>\n",
       "<path class=\"bond-7\" d=\"M 498.979,99.2575 L 488.088,107.622\" style=\"fill:none;fill-rule:evenodd;stroke:#000000;stroke-width:2.0px;stroke-linecap:butt;stroke-linejoin:miter;stroke-opacity:1\"/>\n",
       "<path class=\"bond-8\" d=\"M 488.088,107.622 L 475.398,102.373\" style=\"fill:none;fill-rule:evenodd;stroke:#000000;stroke-width:2.0px;stroke-linecap:butt;stroke-linejoin:miter;stroke-opacity:1\"/>\n",
       "<path class=\"bond-9\" d=\"M 475.398,102.373 L 464.507,110.738\" style=\"fill:none;fill-rule:evenodd;stroke:#000000;stroke-width:2.0px;stroke-linecap:butt;stroke-linejoin:miter;stroke-opacity:1\"/>\n",
       "<path class=\"bond-10\" d=\"M 464.507,110.738 L 459.014,108.466\" style=\"fill:none;fill-rule:evenodd;stroke:#000000;stroke-width:2.0px;stroke-linecap:butt;stroke-linejoin:miter;stroke-opacity:1\"/>\n",
       "<path class=\"bond-10\" d=\"M 459.014,108.466 L 453.522,106.194\" style=\"fill:none;fill-rule:evenodd;stroke:#CCCC00;stroke-width:2.0px;stroke-linecap:butt;stroke-linejoin:miter;stroke-opacity:1\"/>\n",
       "<path class=\"atom-4\" d=\"M 513.316 131.748 Q 513.316 130.728, 513.82 130.158 Q 514.324 129.588, 515.266 129.588 Q 516.208 129.588, 516.712 130.158 Q 517.216 130.728, 517.216 131.748 Q 517.216 132.78, 516.706 133.368 Q 516.196 133.95, 515.266 133.95 Q 514.33 133.95, 513.82 133.368 Q 513.316 132.786, 513.316 131.748 M 515.266 133.47 Q 515.914 133.47, 516.262 133.038 Q 516.616 132.6, 516.616 131.748 Q 516.616 130.914, 516.262 130.494 Q 515.914 130.068, 515.266 130.068 Q 514.618 130.068, 514.264 130.488 Q 513.916 130.908, 513.916 131.748 Q 513.916 132.606, 514.264 133.038 Q 514.618 133.47, 515.266 133.47 \" fill=\"#FF0000\"/>\n",
       "<path class=\"atom-4\" d=\"M 517.572 130.345 L 518.321 130.345 L 518.321 129.557 L 518.653 129.557 L 518.653 130.345 L 519.422 130.345 L 519.422 130.63 L 518.653 130.63 L 518.653 131.422 L 518.321 131.422 L 518.321 130.63 L 517.572 130.63 L 517.572 130.345 \" fill=\"#FF0000\"/>\n",
       "<path class=\"atom-11\" d=\"M 446.849 103.364 L 447.425 103.364 L 447.425 105.17 L 449.597 105.17 L 449.597 103.364 L 450.173 103.364 L 450.173 107.612 L 449.597 107.612 L 449.597 105.65 L 447.425 105.65 L 447.425 107.612 L 446.849 107.612 L 446.849 103.364 \" fill=\"#CCCC00\"/>\n",
       "<path class=\"atom-11\" d=\"M 450.617 106.952 Q 450.665 106.97, 450.863 107.054 Q 451.061 107.138, 451.277 107.192 Q 451.499 107.24, 451.715 107.24 Q 452.117 107.24, 452.351 107.048 Q 452.585 106.85, 452.585 106.508 Q 452.585 106.274, 452.465 106.13 Q 452.351 105.986, 452.171 105.908 Q 451.991 105.83, 451.691 105.74 Q 451.313 105.626, 451.085 105.518 Q 450.863 105.41, 450.701 105.182 Q 450.545 104.954, 450.545 104.57 Q 450.545 104.036, 450.905 103.706 Q 451.271 103.376, 451.991 103.376 Q 452.483 103.376, 453.041 103.61 L 452.903 104.072 Q 452.393 103.862, 452.009 103.862 Q 451.595 103.862, 451.367 104.036 Q 451.139 104.204, 451.145 104.498 Q 451.145 104.726, 451.259 104.864 Q 451.379 105.002, 451.547 105.08 Q 451.721 105.158, 452.009 105.248 Q 452.393 105.368, 452.621 105.488 Q 452.849 105.608, 453.011 105.854 Q 453.179 106.094, 453.179 106.508 Q 453.179 107.096, 452.783 107.414 Q 452.393 107.726, 451.739 107.726 Q 451.361 107.726, 451.073 107.642 Q 450.791 107.564, 450.455 107.426 L 450.617 106.952 \" fill=\"#CCCC00\"/>\n",
       "<path class=\"bond-0\" d=\"M 188.636,268.477 L 187.706,279.672\" style=\"fill:none;fill-rule:evenodd;stroke:#000000;stroke-width:2.0px;stroke-linecap:butt;stroke-linejoin:miter;stroke-opacity:1\"/>\n",
       "<path class=\"bond-0\" d=\"M 191.373,268.705 L 190.444,279.899\" style=\"fill:none;fill-rule:evenodd;stroke:#000000;stroke-width:2.0px;stroke-linecap:butt;stroke-linejoin:miter;stroke-opacity:1\"/>\n",
       "<path class=\"bond-1\" d=\"M 186.887,283.211 L 176.448,288.135\" style=\"fill:none;fill-rule:evenodd;stroke:#000000;stroke-width:2.0px;stroke-linecap:butt;stroke-linejoin:miter;stroke-opacity:1\"/>\n",
       "<path class=\"bond-2\" d=\"M 176.448,288.135 L 175.311,301.821\" style=\"fill:none;fill-rule:evenodd;stroke:#000000;stroke-width:2.0px;stroke-linecap:butt;stroke-linejoin:miter;stroke-opacity:1\"/>\n",
       "<path class=\"bond-3\" d=\"M 175.311,301.821 L 162.891,307.68\" style=\"fill:none;fill-rule:evenodd;stroke:#000000;stroke-width:2.0px;stroke-linecap:butt;stroke-linejoin:miter;stroke-opacity:1\"/>\n",
       "<path class=\"bond-4\" d=\"M 162.891,307.68 L 161.754,321.365\" style=\"fill:none;fill-rule:evenodd;stroke:#000000;stroke-width:2.0px;stroke-linecap:butt;stroke-linejoin:miter;stroke-opacity:1\"/>\n",
       "<path class=\"bond-5\" d=\"M 161.754,321.365 L 153.521,325.249\" style=\"fill:none;fill-rule:evenodd;stroke:#000000;stroke-width:2.0px;stroke-linecap:butt;stroke-linejoin:miter;stroke-opacity:1\"/>\n",
       "<path class=\"bond-5\" d=\"M 159.348,319.464 L 153.584,322.182\" style=\"fill:none;fill-rule:evenodd;stroke:#000000;stroke-width:2.0px;stroke-linecap:butt;stroke-linejoin:miter;stroke-opacity:1\"/>\n",
       "<path class=\"bond-6\" d=\"M 147.353,328.159 L 142.955,330.233\" style=\"fill:none;fill-rule:evenodd;stroke:#000000;stroke-width:2.0px;stroke-linecap:butt;stroke-linejoin:miter;stroke-opacity:1\"/>\n",
       "<path class=\"bond-6\" d=\"M 142.955,330.233 L 138.558,332.307\" style=\"fill:none;fill-rule:evenodd;stroke:#FF7F00;stroke-width:2.0px;stroke-linecap:butt;stroke-linejoin:miter;stroke-opacity:1\"/>\n",
       "<path class=\"bond-7\" d=\"M 135.214,331.904 L 130.422,328.58\" style=\"fill:none;fill-rule:evenodd;stroke:#FF7F00;stroke-width:2.0px;stroke-linecap:butt;stroke-linejoin:miter;stroke-opacity:1\"/>\n",
       "<path class=\"bond-7\" d=\"M 130.422,328.58 L 125.63,325.256\" style=\"fill:none;fill-rule:evenodd;stroke:#000000;stroke-width:2.0px;stroke-linecap:butt;stroke-linejoin:miter;stroke-opacity:1\"/>\n",
       "<path class=\"bond-8\" d=\"M 125.63,325.256 L 113.209,331.114\" style=\"fill:none;fill-rule:evenodd;stroke:#000000;stroke-width:2.0px;stroke-linecap:butt;stroke-linejoin:miter;stroke-opacity:1\"/>\n",
       "<path class=\"bond-9\" d=\"M 113.209,331.114 L 101.925,323.287\" style=\"fill:none;fill-rule:evenodd;stroke:#000000;stroke-width:2.0px;stroke-linecap:butt;stroke-linejoin:miter;stroke-opacity:1\"/>\n",
       "<path class=\"bond-10\" d=\"M 101.925,323.287 L 89.5049,329.146\" style=\"fill:none;fill-rule:evenodd;stroke:#000000;stroke-width:2.0px;stroke-linecap:butt;stroke-linejoin:miter;stroke-opacity:1\"/>\n",
       "<path class=\"bond-11\" d=\"M 89.5049,329.146 L 78.2209,321.319\" style=\"fill:none;fill-rule:evenodd;stroke:#000000;stroke-width:2.0px;stroke-linecap:butt;stroke-linejoin:miter;stroke-opacity:1\"/>\n",
       "<path class=\"bond-12\" d=\"M 78.2209,321.319 L 65.8005,327.178\" style=\"fill:none;fill-rule:evenodd;stroke:#000000;stroke-width:2.0px;stroke-linecap:butt;stroke-linejoin:miter;stroke-opacity:1\"/>\n",
       "<path class=\"bond-13\" d=\"M 65.8005,327.178 L 54.5166,319.35\" style=\"fill:none;fill-rule:evenodd;stroke:#000000;stroke-width:2.0px;stroke-linecap:butt;stroke-linejoin:miter;stroke-opacity:1\"/>\n",
       "<path class=\"bond-14\" d=\"M 54.5166,319.35 L 42.0962,325.209\" style=\"fill:none;fill-rule:evenodd;stroke:#000000;stroke-width:2.0px;stroke-linecap:butt;stroke-linejoin:miter;stroke-opacity:1\"/>\n",
       "<path class=\"bond-15\" d=\"M 54.5166,319.35 L 54.9824,313.741\" style=\"fill:none;fill-rule:evenodd;stroke:#000000;stroke-width:2.0px;stroke-linecap:butt;stroke-linejoin:miter;stroke-opacity:1\"/>\n",
       "<path class=\"bond-15\" d=\"M 54.9824,313.741 L 55.4482,308.132\" style=\"fill:none;fill-rule:evenodd;stroke:#FF7F00;stroke-width:2.0px;stroke-linecap:butt;stroke-linejoin:miter;stroke-opacity:1\"/>\n",
       "<path class=\"bond-16\" d=\"M 53.9537,304.486 L 49.1614,301.162\" style=\"fill:none;fill-rule:evenodd;stroke:#FF7F00;stroke-width:2.0px;stroke-linecap:butt;stroke-linejoin:miter;stroke-opacity:1\"/>\n",
       "<path class=\"bond-16\" d=\"M 49.1614,301.162 L 44.3691,297.838\" style=\"fill:none;fill-rule:evenodd;stroke:#000000;stroke-width:2.0px;stroke-linecap:butt;stroke-linejoin:miter;stroke-opacity:1\"/>\n",
       "<path class=\"bond-17\" d=\"M 44.3691,297.838 L 44.8349,292.229\" style=\"fill:none;fill-rule:evenodd;stroke:#000000;stroke-width:2.0px;stroke-linecap:butt;stroke-linejoin:miter;stroke-opacity:1\"/>\n",
       "<path class=\"bond-17\" d=\"M 44.8349,292.229 L 45.3007,286.619\" style=\"fill:none;fill-rule:evenodd;stroke:#0000FF;stroke-width:2.0px;stroke-linecap:butt;stroke-linejoin:miter;stroke-opacity:1\"/>\n",
       "<path class=\"bond-18\" d=\"M 43.5512,282.796 L 39.7063,280.129\" style=\"fill:none;fill-rule:evenodd;stroke:#0000FF;stroke-width:2.0px;stroke-linecap:butt;stroke-linejoin:miter;stroke-opacity:1\"/>\n",
       "<path class=\"bond-18\" d=\"M 39.7063,280.129 L 35.8615,277.462\" style=\"fill:none;fill-rule:evenodd;stroke:#FF7F00;stroke-width:2.0px;stroke-linecap:butt;stroke-linejoin:miter;stroke-opacity:1\"/>\n",
       "<path class=\"bond-19\" d=\"M 34.4265,273.858 L 34.7924,269.451\" style=\"fill:none;fill-rule:evenodd;stroke:#FF7F00;stroke-width:2.0px;stroke-linecap:butt;stroke-linejoin:miter;stroke-opacity:1\"/>\n",
       "<path class=\"bond-19\" d=\"M 34.7924,269.451 L 35.1583,265.045\" style=\"fill:none;fill-rule:evenodd;stroke:#33CCCC;stroke-width:2.0px;stroke-linecap:butt;stroke-linejoin:miter;stroke-opacity:1\"/>\n",
       "<path class=\"atom-1\" d=\"M 187.23 282.295 Q 187.23 281.239, 187.722 280.687 Q 188.22 280.129, 189.162 280.129 Q 190.038 280.129, 190.506 280.747 L 190.11 281.071 Q 189.768 280.621, 189.162 280.621 Q 188.52 280.621, 188.178 281.053 Q 187.842 281.479, 187.842 282.295 Q 187.842 283.135, 188.19 283.567 Q 188.544 283.999, 189.228 283.999 Q 189.696 283.999, 190.242 283.717 L 190.41 284.167 Q 190.188 284.311, 189.852 284.395 Q 189.516 284.479, 189.144 284.479 Q 188.22 284.479, 187.722 283.915 Q 187.23 283.351, 187.23 282.295 \" fill=\"#000000\"/>\n",
       "<path class=\"atom-1\" d=\"M 190.704 280.828 L 192.157 280.828 L 192.157 281.145 L 190.704 281.145 L 190.704 280.828 \" fill=\"#000000\"/>\n",
       "<path class=\"atom-6\" d=\"M 147.696 327.242 Q 147.696 326.186, 148.188 325.634 Q 148.686 325.076, 149.628 325.076 Q 150.504 325.076, 150.972 325.694 L 150.576 326.018 Q 150.234 325.568, 149.628 325.568 Q 148.986 325.568, 148.644 326 Q 148.308 326.426, 148.308 327.242 Q 148.308 328.082, 148.656 328.514 Q 149.01 328.946, 149.694 328.946 Q 150.162 328.946, 150.708 328.664 L 150.876 329.114 Q 150.654 329.258, 150.318 329.342 Q 149.982 329.426, 149.61 329.426 Q 148.686 329.426, 148.188 328.862 Q 147.696 328.298, 147.696 327.242 \" fill=\"#000000\"/>\n",
       "<path class=\"atom-6\" d=\"M 151.328 325.839 L 152.077 325.839 L 152.077 325.051 L 152.409 325.051 L 152.409 325.839 L 153.178 325.839 L 153.178 326.124 L 152.409 326.124 L 152.409 326.916 L 152.077 326.916 L 152.077 326.124 L 151.328 326.124 L 151.328 325.839 \" fill=\"#000000\"/>\n",
       "<path class=\"atom-7\" d=\"M 136.812 330.959 Q 137.538 330.959, 137.904 331.289 Q 138.27 331.613, 138.27 332.207 Q 138.27 332.795, 137.892 333.131 Q 137.52 333.461, 136.812 333.461 L 136.134 333.461 L 136.134 335.207 L 135.558 335.207 L 135.558 330.959 L 136.812 330.959 M 136.812 332.981 Q 137.226 332.981, 137.448 332.783 Q 137.67 332.585, 137.67 332.207 Q 137.67 331.829, 137.448 331.637 Q 137.232 331.439, 136.812 331.439 L 136.134 331.439 L 136.134 332.981 L 136.812 332.981 \" fill=\"#FF7F00\"/>\n",
       "<path class=\"atom-7\" d=\"M 135.252 335.632 L 135.828 335.632 L 135.828 337.438 L 138 337.438 L 138 335.632 L 138.576 335.632 L 138.576 339.88 L 138 339.88 L 138 337.918 L 135.828 337.918 L 135.828 339.88 L 135.252 339.88 L 135.252 335.632 \" fill=\"#FF7F00\"/>\n",
       "<path class=\"atom-16\" d=\"M 55.551 303.541 Q 56.277 303.541, 56.643 303.871 Q 57.009 304.195, 57.009 304.789 Q 57.009 305.377, 56.631 305.713 Q 56.259 306.043, 55.551 306.043 L 54.873 306.043 L 54.873 307.789 L 54.297 307.789 L 54.297 303.541 L 55.551 303.541 M 55.551 305.563 Q 55.965 305.563, 56.187 305.365 Q 56.409 305.167, 56.409 304.789 Q 56.409 304.411, 56.187 304.219 Q 55.971 304.021, 55.551 304.021 L 54.873 304.021 L 54.873 305.563 L 55.551 305.563 \" fill=\"#FF7F00\"/>\n",
       "<path class=\"atom-16\" d=\"M 57.519 303.541 L 58.095 303.541 L 58.095 305.347 L 60.267 305.347 L 60.267 303.541 L 60.843 303.541 L 60.843 307.789 L 60.267 307.789 L 60.267 305.827 L 58.095 305.827 L 58.095 307.789 L 57.519 307.789 L 57.519 303.541 \" fill=\"#FF7F00\"/>\n",
       "<path class=\"atom-18\" d=\"M 44.5666 282.028 L 45.9586 284.278 Q 46.0966 284.5, 46.3186 284.902 Q 46.5406 285.304, 46.5526 285.328 L 46.5526 282.028 L 47.1166 282.028 L 47.1166 286.276 L 46.5346 286.276 L 45.0406 283.816 Q 44.8666 283.528, 44.6806 283.198 Q 44.5006 282.868, 44.4466 282.766 L 44.4466 286.276 L 43.8946 286.276 L 43.8946 282.028 L 44.5666 282.028 \" fill=\"#0000FF\"/>\n",
       "<path class=\"atom-18\" d=\"M 47.6266 282.028 L 48.2026 282.028 L 48.2026 283.834 L 50.3746 283.834 L 50.3746 282.028 L 50.9506 282.028 L 50.9506 286.276 L 50.3746 286.276 L 50.3746 284.314 L 48.2026 284.314 L 48.2026 286.276 L 47.6266 286.276 L 47.6266 282.028 \" fill=\"#0000FF\"/>\n",
       "<path class=\"atom-19\" d=\"M 29.0316 274.201 L 29.6076 274.201 L 29.6076 276.007 L 31.7796 276.007 L 31.7796 274.201 L 32.3556 274.201 L 32.3556 278.449 L 31.7796 278.449 L 31.7796 276.487 L 29.6076 276.487 L 29.6076 278.449 L 29.0316 278.449 L 29.0316 274.201 \" fill=\"#FF7F00\"/>\n",
       "<path class=\"atom-19\" d=\"M 34.1196 274.201 Q 34.8456 274.201, 35.2116 274.531 Q 35.5776 274.855, 35.5776 275.449 Q 35.5776 276.037, 35.1996 276.373 Q 34.8276 276.703, 34.1196 276.703 L 33.4416 276.703 L 33.4416 278.449 L 32.8656 278.449 L 32.8656 274.201 L 34.1196 274.201 M 34.1196 276.223 Q 34.5336 276.223, 34.7556 276.025 Q 34.9776 275.827, 34.9776 275.449 Q 34.9776 275.071, 34.7556 274.879 Q 34.5396 274.681, 34.1196 274.681 L 33.4416 274.681 L 33.4416 276.223 L 34.1196 276.223 \" fill=\"#FF7F00\"/>\n",
       "<path class=\"atom-20\" d=\"M 34.0951 260.515 L 36.6211 260.515 L 36.6211 261.001 L 34.6651 261.001 L 34.6651 262.291 L 36.4051 262.291 L 36.4051 262.783 L 34.6651 262.783 L 34.6651 264.763 L 34.0951 264.763 L 34.0951 260.515 \" fill=\"#33CCCC\"/>\n",
       "<path class=\"bond-0\" d=\"M 264.368,309.825 L 276.448,303.293\" style=\"fill:none;fill-rule:evenodd;stroke:#000000;stroke-width:2.0px;stroke-linecap:butt;stroke-linejoin:miter;stroke-opacity:1\"/>\n",
       "<path class=\"bond-1\" d=\"M 276.448,303.293 L 288.145,310.489\" style=\"fill:none;fill-rule:evenodd;stroke:#000000;stroke-width:2.0px;stroke-linecap:butt;stroke-linejoin:miter;stroke-opacity:1\"/>\n",
       "<path class=\"bond-2\" d=\"M 288.145,310.489 L 300.225,303.957\" style=\"fill:none;fill-rule:evenodd;stroke:#000000;stroke-width:2.0px;stroke-linecap:butt;stroke-linejoin:miter;stroke-opacity:1\"/>\n",
       "<path class=\"bond-3\" d=\"M 300.225,303.957 L 311.921,311.153\" style=\"fill:none;fill-rule:evenodd;stroke:#000000;stroke-width:2.0px;stroke-linecap:butt;stroke-linejoin:miter;stroke-opacity:1\"/>\n",
       "<path class=\"bond-4\" d=\"M 311.921,311.153 L 324.001,304.621\" style=\"fill:none;fill-rule:evenodd;stroke:#000000;stroke-width:2.0px;stroke-linecap:butt;stroke-linejoin:miter;stroke-opacity:1\"/>\n",
       "<path class=\"bond-5\" d=\"M 324.001,304.621 L 335.698,311.816\" style=\"fill:none;fill-rule:evenodd;stroke:#000000;stroke-width:2.0px;stroke-linecap:butt;stroke-linejoin:miter;stroke-opacity:1\"/>\n",
       "<path class=\"bond-6\" d=\"M 336.351,313.024 L 341.414,310.287\" style=\"fill:none;fill-rule:evenodd;stroke:#000000;stroke-width:2.0px;stroke-linecap:butt;stroke-linejoin:miter;stroke-opacity:1\"/>\n",
       "<path class=\"bond-6\" d=\"M 341.414,310.287 L 346.477,307.549\" style=\"fill:none;fill-rule:evenodd;stroke:#0000FF;stroke-width:2.0px;stroke-linecap:butt;stroke-linejoin:miter;stroke-opacity:1\"/>\n",
       "<path class=\"bond-6\" d=\"M 335.045,310.608 L 340.108,307.871\" style=\"fill:none;fill-rule:evenodd;stroke:#000000;stroke-width:2.0px;stroke-linecap:butt;stroke-linejoin:miter;stroke-opacity:1\"/>\n",
       "<path class=\"bond-6\" d=\"M 340.108,307.871 L 345.171,305.133\" style=\"fill:none;fill-rule:evenodd;stroke:#0000FF;stroke-width:2.0px;stroke-linecap:butt;stroke-linejoin:miter;stroke-opacity:1\"/>\n",
       "<path class=\"atom-7\" d=\"M 346.839 303.161 L 348.231 305.411 Q 348.369 305.633, 348.591 306.035 Q 348.813 306.437, 348.825 306.461 L 348.825 303.161 L 349.389 303.161 L 349.389 307.409 L 348.807 307.409 L 347.313 304.949 Q 347.139 304.661, 346.953 304.331 Q 346.773 304.001, 346.719 303.899 L 346.719 307.409 L 346.167 307.409 L 346.167 303.161 L 346.839 303.161 \" fill=\"#0000FF\"/>\n",
       "<path class=\"atom-7\" d=\"M 349.587 303.863 L 351.04 303.863 L 351.04 304.18 L 349.587 304.18 L 349.587 303.863 \" fill=\"#0000FF\"/>\n",
       "</svg>"
      ],
      "text/plain": [
       "<IPython.core.display.SVG object>"
      ]
     },
     "execution_count": 20,
     "metadata": {},
     "output_type": "execute_result"
    }
   ],
   "source": [
    "molecules = [Chem.MolFromSmiles(smi) for smi in smiles_hits]\n",
    "\n",
    "Draw.MolsToGridImage(molecules, subImgSize=(200,200), molsPerRow=3, useSVG=True)"
   ]
  },
  {
   "cell_type": "markdown",
   "id": "42477648",
   "metadata": {},
   "source": [
    "Since we are working with a RVR model, we can also estimate the prediction errors:"
   ]
  },
  {
   "cell_type": "code",
   "execution_count": 21,
   "id": "dd6b73fd",
   "metadata": {},
   "outputs": [],
   "source": [
    "X = mcw.transform(smiles_hits)\n",
    "Y_hits_pred, Y_hits_pred_std = regr.predict(X, return_std=True)"
   ]
  },
  {
   "cell_type": "code",
   "execution_count": 22,
   "id": "5bed80b7",
   "metadata": {},
   "outputs": [
    {
     "name": "stdout",
     "output_type": "stream",
     "text": [
      "['C=CCC[N-]CCCCC#CCC(C)CC', 'CCCCCC#CCCC(CCCCPF)SCCC', 'CC(CC#[O+])CCCCCCS', 'C=[C-]CCCC=[C+]PCCCCCCC(C)PCNPF', 'CCCCCCC=[N-]']\n",
      "[39.98338668 40.00039454 40.00706591 40.00836729 40.01062488]\n",
      "[3.10199471 3.0868382  3.12468515 3.00143089 3.30378477]\n"
     ]
    }
   ],
   "source": [
    "print(smiles_hits)\n",
    "print(Y_hits_pred)\n",
    "print(Y_hits_pred_std)"
   ]
  },
  {
   "cell_type": "markdown",
   "id": "0d5f2ac4",
   "metadata": {},
   "source": [
    "Let us now try to design molecules with a RON design specification of 80:"
   ]
  },
  {
   "cell_type": "code",
   "execution_count": 23,
   "id": "6bfa8305",
   "metadata": {},
   "outputs": [],
   "source": [
    "%%capture\n",
    "smiles_hits, Y_hits_pred = library_evolver(smiles, regr, mcw, spec=80., n_hits=5)"
   ]
  },
  {
   "cell_type": "code",
   "execution_count": 24,
   "id": "3cf8b8c2",
   "metadata": {},
   "outputs": [
    {
     "data": {
      "image/svg+xml": [
       "<svg xmlns=\"http://www.w3.org/2000/svg\" xmlns:rdkit=\"http://www.rdkit.org/xml\" xmlns:xlink=\"http://www.w3.org/1999/xlink\" version=\"1.1\" baseProfile=\"full\" xml:space=\"preserve\" width=\"600px\" height=\"400px\" viewBox=\"0 0 600 400\">\n",
       "<!-- END OF HEADER -->\n",
       "<rect style=\"opacity:1.0;fill:#FFFFFF;stroke:none\" width=\"600\" height=\"400\" x=\"0\" y=\"0\"> </rect>\n",
       "<rect style=\"opacity:1.0;fill:#FFFFFF;stroke:none\" width=\"600\" height=\"400\" x=\"0\" y=\"0\"> </rect>\n",
       "<rect style=\"opacity:1.0;fill:#FFFFFF;stroke:none\" width=\"600\" height=\"400\" x=\"0\" y=\"0\"> </rect>\n",
       "<rect style=\"opacity:1.0;fill:#FFFFFF;stroke:none\" width=\"600\" height=\"400\" x=\"0\" y=\"0\"> </rect>\n",
       "<rect style=\"opacity:1.0;fill:#FFFFFF;stroke:none\" width=\"600\" height=\"400\" x=\"0\" y=\"0\"> </rect>\n",
       "<rect style=\"opacity:1.0;fill:#FFFFFF;stroke:none\" width=\"600\" height=\"400\" x=\"0\" y=\"0\"> </rect>\n",
       "<path class=\"bond-0\" d=\"M 178.68,73.2873 L 177.382,75.2748\" style=\"fill:none;fill-rule:evenodd;stroke:#000000;stroke-width:2.0px;stroke-linecap:butt;stroke-linejoin:miter;stroke-opacity:1\"/>\n",
       "<path class=\"bond-0\" d=\"M 177.382,75.2748 L 176.085,77.2624\" style=\"fill:none;fill-rule:evenodd;stroke:#FF0000;stroke-width:2.0px;stroke-linecap:butt;stroke-linejoin:miter;stroke-opacity:1\"/>\n",
       "<path class=\"bond-1\" d=\"M 172.348,79.4777 L 168.222,79.2516\" style=\"fill:none;fill-rule:evenodd;stroke:#FF0000;stroke-width:2.0px;stroke-linecap:butt;stroke-linejoin:miter;stroke-opacity:1\"/>\n",
       "<path class=\"bond-1\" d=\"M 168.222,79.2516 L 164.095,79.0256\" style=\"fill:none;fill-rule:evenodd;stroke:#000000;stroke-width:2.0px;stroke-linecap:butt;stroke-linejoin:miter;stroke-opacity:1\"/>\n",
       "<path class=\"bond-2\" d=\"M 164.095,79.0256 L 162.01,82.2204\" style=\"fill:none;fill-rule:evenodd;stroke:#000000;stroke-width:2.0px;stroke-linecap:butt;stroke-linejoin:miter;stroke-opacity:1\"/>\n",
       "<path class=\"bond-2\" d=\"M 162.01,82.2204 L 159.924,85.4152\" style=\"fill:none;fill-rule:evenodd;stroke:#0000FF;stroke-width:2.0px;stroke-linecap:butt;stroke-linejoin:miter;stroke-opacity:1\"/>\n",
       "<path class=\"bond-2\" d=\"M 165.225,81.1297 L 163.765,83.3661\" style=\"fill:none;fill-rule:evenodd;stroke:#000000;stroke-width:2.0px;stroke-linecap:butt;stroke-linejoin:miter;stroke-opacity:1\"/>\n",
       "<path class=\"bond-2\" d=\"M 163.765,83.3661 L 162.305,85.6024\" style=\"fill:none;fill-rule:evenodd;stroke:#0000FF;stroke-width:2.0px;stroke-linecap:butt;stroke-linejoin:miter;stroke-opacity:1\"/>\n",
       "<path class=\"bond-3\" d=\"M 156.494,87.6985 L 152.987,87.5064\" style=\"fill:none;fill-rule:evenodd;stroke:#0000FF;stroke-width:2.0px;stroke-linecap:butt;stroke-linejoin:miter;stroke-opacity:1\"/>\n",
       "<path class=\"bond-3\" d=\"M 152.987,87.5064 L 149.48,87.3143\" style=\"fill:none;fill-rule:evenodd;stroke:#CCCC00;stroke-width:2.0px;stroke-linecap:butt;stroke-linejoin:miter;stroke-opacity:1\"/>\n",
       "<path class=\"bond-4\" d=\"M 146.279,89.7156 L 144.226,92.8595\" style=\"fill:none;fill-rule:evenodd;stroke:#CCCC00;stroke-width:2.0px;stroke-linecap:butt;stroke-linejoin:miter;stroke-opacity:1\"/>\n",
       "<path class=\"bond-4\" d=\"M 144.226,92.8595 L 142.174,96.0035\" style=\"fill:none;fill-rule:evenodd;stroke:#000000;stroke-width:2.0px;stroke-linecap:butt;stroke-linejoin:miter;stroke-opacity:1\"/>\n",
       "<path class=\"bond-5\" d=\"M 142.174,96.0035 L 136.445,104.779\" style=\"fill:none;fill-rule:evenodd;stroke:#000000;stroke-width:2.0px;stroke-linecap:butt;stroke-linejoin:miter;stroke-opacity:1\"/>\n",
       "<path class=\"bond-5\" d=\"M 139.56,96.1741 L 135.55,102.317\" style=\"fill:none;fill-rule:evenodd;stroke:#000000;stroke-width:2.0px;stroke-linecap:butt;stroke-linejoin:miter;stroke-opacity:1\"/>\n",
       "<path class=\"bond-5\" d=\"M 143.07,98.4655 L 139.06,104.608\" style=\"fill:none;fill-rule:evenodd;stroke:#000000;stroke-width:2.0px;stroke-linecap:butt;stroke-linejoin:miter;stroke-opacity:1\"/>\n",
       "<path class=\"bond-6\" d=\"M 136.445,104.779 L 130.717,113.555\" style=\"fill:none;fill-rule:evenodd;stroke:#000000;stroke-width:2.0px;stroke-linecap:butt;stroke-linejoin:miter;stroke-opacity:1\"/>\n",
       "<path class=\"bond-7\" d=\"M 130.717,113.555 L 126.421,113.319\" style=\"fill:none;fill-rule:evenodd;stroke:#000000;stroke-width:2.0px;stroke-linecap:butt;stroke-linejoin:miter;stroke-opacity:1\"/>\n",
       "<path class=\"bond-7\" d=\"M 126.421,113.319 L 122.126,113.084\" style=\"fill:none;fill-rule:evenodd;stroke:#0000FF;stroke-width:2.0px;stroke-linecap:butt;stroke-linejoin:miter;stroke-opacity:1\"/>\n",
       "<path class=\"bond-8\" d=\"M 118.695,115.367 L 116.61,118.562\" style=\"fill:none;fill-rule:evenodd;stroke:#0000FF;stroke-width:2.0px;stroke-linecap:butt;stroke-linejoin:miter;stroke-opacity:1\"/>\n",
       "<path class=\"bond-8\" d=\"M 116.61,118.562 L 114.524,121.757\" style=\"fill:none;fill-rule:evenodd;stroke:#000000;stroke-width:2.0px;stroke-linecap:butt;stroke-linejoin:miter;stroke-opacity:1\"/>\n",
       "<path class=\"bond-8\" d=\"M 119.825,117.472 L 118.365,119.708\" style=\"fill:none;fill-rule:evenodd;stroke:#0000FF;stroke-width:2.0px;stroke-linecap:butt;stroke-linejoin:miter;stroke-opacity:1\"/>\n",
       "<path class=\"bond-8\" d=\"M 118.365,119.708 L 116.905,121.944\" style=\"fill:none;fill-rule:evenodd;stroke:#000000;stroke-width:2.0px;stroke-linecap:butt;stroke-linejoin:miter;stroke-opacity:1\"/>\n",
       "<path class=\"bond-9\" d=\"M 114.524,121.757 L 104.06,121.184\" style=\"fill:none;fill-rule:evenodd;stroke:#000000;stroke-width:2.0px;stroke-linecap:butt;stroke-linejoin:miter;stroke-opacity:1\"/>\n",
       "<path class=\"bond-10\" d=\"M 104.06,121.184 L 98.3313,129.959\" style=\"fill:none;fill-rule:evenodd;stroke:#000000;stroke-width:2.0px;stroke-linecap:butt;stroke-linejoin:miter;stroke-opacity:1\"/>\n",
       "<path class=\"bond-11\" d=\"M 104.06,121.184 L 99.3243,111.835\" style=\"fill:none;fill-rule:evenodd;stroke:#000000;stroke-width:2.0px;stroke-linecap:butt;stroke-linejoin:miter;stroke-opacity:1\"/>\n",
       "<path class=\"bond-11\" d=\"M 105.219,118.834 L 101.904,112.29\" style=\"fill:none;fill-rule:evenodd;stroke:#000000;stroke-width:2.0px;stroke-linecap:butt;stroke-linejoin:miter;stroke-opacity:1\"/>\n",
       "<path class=\"bond-12\" d=\"M 99.3243,111.835 L 88.8601,111.261\" style=\"fill:none;fill-rule:evenodd;stroke:#000000;stroke-width:2.0px;stroke-linecap:butt;stroke-linejoin:miter;stroke-opacity:1\"/>\n",
       "<path class=\"bond-13\" d=\"M 88.8601,111.261 L 84.1245,101.912\" style=\"fill:none;fill-rule:evenodd;stroke:#000000;stroke-width:2.0px;stroke-linecap:butt;stroke-linejoin:miter;stroke-opacity:1\"/>\n",
       "<path class=\"bond-14\" d=\"M 84.1245,101.912 L 73.6603,101.339\" style=\"fill:none;fill-rule:evenodd;stroke:#000000;stroke-width:2.0px;stroke-linecap:butt;stroke-linejoin:miter;stroke-opacity:1\"/>\n",
       "<path class=\"bond-15\" d=\"M 73.6603,101.339 L 68.9247,91.9903\" style=\"fill:none;fill-rule:evenodd;stroke:#000000;stroke-width:2.0px;stroke-linecap:butt;stroke-linejoin:miter;stroke-opacity:1\"/>\n",
       "<path class=\"bond-16\" d=\"M 68.9247,91.9903 L 58.4605,91.4169\" style=\"fill:none;fill-rule:evenodd;stroke:#000000;stroke-width:2.0px;stroke-linecap:butt;stroke-linejoin:miter;stroke-opacity:1\"/>\n",
       "<path class=\"bond-17\" d=\"M 58.4605,91.4169 L 53.7249,82.068\" style=\"fill:none;fill-rule:evenodd;stroke:#000000;stroke-width:2.0px;stroke-linecap:butt;stroke-linejoin:miter;stroke-opacity:1\"/>\n",
       "<path class=\"bond-18\" d=\"M 53.7249,82.068 L 49.3048,81.8259\" style=\"fill:none;fill-rule:evenodd;stroke:#000000;stroke-width:2.0px;stroke-linecap:butt;stroke-linejoin:miter;stroke-opacity:1\"/>\n",
       "<path class=\"bond-18\" d=\"M 49.3048,81.8259 L 44.8847,81.5837\" style=\"fill:none;fill-rule:evenodd;stroke:#CCCC00;stroke-width:2.0px;stroke-linecap:butt;stroke-linejoin:miter;stroke-opacity:1\"/>\n",
       "<path class=\"bond-19\" d=\"M 41.3367,77.6964 L 39.9309,74.9211\" style=\"fill:none;fill-rule:evenodd;stroke:#CCCC00;stroke-width:2.0px;stroke-linecap:butt;stroke-linejoin:miter;stroke-opacity:1\"/>\n",
       "<path class=\"bond-19\" d=\"M 39.9309,74.9211 L 38.5251,72.1458\" style=\"fill:none;fill-rule:evenodd;stroke:#000000;stroke-width:2.0px;stroke-linecap:butt;stroke-linejoin:miter;stroke-opacity:1\"/>\n",
       "<path class=\"bond-20\" d=\"M 41.6367,83.9825 L 39.5844,87.1264\" style=\"fill:none;fill-rule:evenodd;stroke:#CCCC00;stroke-width:2.0px;stroke-linecap:butt;stroke-linejoin:miter;stroke-opacity:1\"/>\n",
       "<path class=\"bond-20\" d=\"M 39.5844,87.1264 L 37.5321,90.2703\" style=\"fill:none;fill-rule:evenodd;stroke:#000000;stroke-width:2.0px;stroke-linecap:butt;stroke-linejoin:miter;stroke-opacity:1\"/>\n",
       "<path class=\"bond-21\" d=\"M 37.5894,89.2239 L 27.1252,88.6506\" style=\"fill:none;fill-rule:evenodd;stroke:#000000;stroke-width:2.0px;stroke-linecap:butt;stroke-linejoin:miter;stroke-opacity:1\"/>\n",
       "<path class=\"bond-21\" d=\"M 37.4747,91.3167 L 27.0105,90.7434\" style=\"fill:none;fill-rule:evenodd;stroke:#000000;stroke-width:2.0px;stroke-linecap:butt;stroke-linejoin:miter;stroke-opacity:1\"/>\n",
       "<path class=\"atom-0\" d=\"M 178.65 70.8413 Q 178.65 69.7853, 179.142 69.2333 Q 179.64 68.6753, 180.582 68.6753 Q 181.458 68.6753, 181.926 69.2933 L 181.53 69.6173 Q 181.188 69.1673, 180.582 69.1673 Q 179.94 69.1673, 179.598 69.5993 Q 179.262 70.0253, 179.262 70.8413 Q 179.262 71.6813, 179.61 72.1133 Q 179.964 72.5453, 180.648 72.5453 Q 181.116 72.5453, 181.662 72.2633 L 181.83 72.7133 Q 181.608 72.8573, 181.272 72.9413 Q 180.936 73.0253, 180.564 73.0253 Q 179.64 73.0253, 179.142 72.4613 Q 178.65 71.8973, 178.65 70.8413 \" fill=\"#000000\"/>\n",
       "<path class=\"atom-0\" d=\"M 182.283 69.438 L 183.031 69.438 L 183.031 68.6499 L 183.364 68.6499 L 183.364 69.438 L 184.132 69.438 L 184.132 69.7231 L 183.364 69.7231 L 183.364 70.5151 L 183.031 70.5151 L 183.031 69.7231 L 182.283 69.7231 L 182.283 69.438 \" fill=\"#000000\"/>\n",
       "<path class=\"atom-1\" d=\"M 172.61 79.6109 Q 172.61 78.5909, 173.114 78.0209 Q 173.618 77.4509, 174.56 77.4509 Q 175.502 77.4509, 176.006 78.0209 Q 176.51 78.5909, 176.51 79.6109 Q 176.51 80.6429, 176 81.2309 Q 175.49 81.8129, 174.56 81.8129 Q 173.624 81.8129, 173.114 81.2309 Q 172.61 80.6489, 172.61 79.6109 M 174.56 81.3329 Q 175.208 81.3329, 175.556 80.9009 Q 175.91 80.4629, 175.91 79.6109 Q 175.91 78.7769, 175.556 78.3569 Q 175.208 77.9309, 174.56 77.9309 Q 173.912 77.9309, 173.558 78.3509 Q 173.21 78.7709, 173.21 79.6109 Q 173.21 80.4689, 173.558 80.9009 Q 173.912 81.3329, 174.56 81.3329 \" fill=\"#FF0000\"/>\n",
       "<path class=\"atom-3\" d=\"M 157.428 85.6772 L 158.82 87.9272 Q 158.958 88.1492, 159.18 88.5512 Q 159.402 88.9532, 159.414 88.9772 L 159.414 85.6772 L 159.978 85.6772 L 159.978 89.9252 L 159.396 89.9252 L 157.902 87.4652 Q 157.728 87.1772, 157.542 86.8472 Q 157.362 86.5172, 157.308 86.4152 L 157.308 89.9252 L 156.756 89.9252 L 156.756 85.6772 L 157.428 85.6772 \" fill=\"#0000FF\"/>\n",
       "<path class=\"atom-4\" d=\"M 146.703 88.6858 Q 146.751 88.7038, 146.949 88.7878 Q 147.147 88.8718, 147.363 88.9258 Q 147.585 88.9738, 147.801 88.9738 Q 148.203 88.9738, 148.437 88.7818 Q 148.671 88.5838, 148.671 88.2418 Q 148.671 88.0078, 148.551 87.8638 Q 148.437 87.7198, 148.257 87.6418 Q 148.077 87.5638, 147.777 87.4738 Q 147.399 87.3598, 147.171 87.2518 Q 146.949 87.1438, 146.787 86.9158 Q 146.631 86.6878, 146.631 86.3038 Q 146.631 85.7698, 146.991 85.4398 Q 147.357 85.1098, 148.077 85.1098 Q 148.569 85.1098, 149.127 85.3438 L 148.989 85.8058 Q 148.479 85.5958, 148.095 85.5958 Q 147.681 85.5958, 147.453 85.7698 Q 147.225 85.9378, 147.231 86.2318 Q 147.231 86.4598, 147.345 86.5978 Q 147.465 86.7358, 147.633 86.8138 Q 147.807 86.8918, 148.095 86.9818 Q 148.479 87.1018, 148.707 87.2218 Q 148.935 87.3418, 149.097 87.5878 Q 149.265 87.8278, 149.265 88.2418 Q 149.265 88.8298, 148.869 89.1478 Q 148.479 89.4598, 147.825 89.4598 Q 147.447 89.4598, 147.159 89.3758 Q 146.877 89.2978, 146.541 89.1598 L 146.703 88.6858 \" fill=\"#CCCC00\"/>\n",
       "<path class=\"atom-8\" d=\"M 119.314 110.857 L 120.706 113.107 Q 120.844 113.329, 121.066 113.731 Q 121.288 114.133, 121.3 114.157 L 121.3 110.857 L 121.864 110.857 L 121.864 115.105 L 121.282 115.105 L 119.788 112.645 Q 119.614 112.357, 119.428 112.027 Q 119.248 111.697, 119.194 111.595 L 119.194 115.105 L 118.642 115.105 L 118.642 110.857 L 119.314 110.857 \" fill=\"#0000FF\"/>\n",
       "<path class=\"atom-19\" d=\"M 42.0607 82.9527 Q 42.1087 82.9707, 42.3067 83.0547 Q 42.5047 83.1387, 42.7207 83.1927 Q 42.9427 83.2407, 43.1587 83.2407 Q 43.5607 83.2407, 43.7947 83.0487 Q 44.0287 82.8507, 44.0287 82.5087 Q 44.0287 82.2747, 43.9087 82.1307 Q 43.7947 81.9867, 43.6147 81.9087 Q 43.4347 81.8307, 43.1347 81.7407 Q 42.7567 81.6267, 42.5287 81.5187 Q 42.3067 81.4107, 42.1447 81.1827 Q 41.9887 80.9547, 41.9887 80.5707 Q 41.9887 80.0367, 42.3487 79.7067 Q 42.7147 79.3767, 43.4347 79.3767 Q 43.9267 79.3767, 44.4847 79.6107 L 44.3467 80.0727 Q 43.8367 79.8627, 43.4527 79.8627 Q 43.0387 79.8627, 42.8107 80.0367 Q 42.5827 80.2047, 42.5887 80.4987 Q 42.5887 80.7267, 42.7027 80.8647 Q 42.8227 81.0027, 42.9907 81.0807 Q 43.1647 81.1587, 43.4527 81.2487 Q 43.8367 81.3687, 44.0647 81.4887 Q 44.2927 81.6087, 44.4547 81.8547 Q 44.6227 82.0947, 44.6227 82.5087 Q 44.6227 83.0967, 44.2267 83.4147 Q 43.8367 83.7267, 43.1827 83.7267 Q 42.8047 83.7267, 42.5167 83.6427 Q 42.2347 83.5647, 41.8987 83.4267 L 42.0607 82.9527 \" fill=\"#CCCC00\"/>\n",
       "<path class=\"atom-19\" d=\"M 41.5987 74.5857 L 42.1747 74.5857 L 42.1747 76.3917 L 44.3467 76.3917 L 44.3467 74.5857 L 44.9227 74.5857 L 44.9227 78.8337 L 44.3467 78.8337 L 44.3467 76.8717 L 42.1747 76.8717 L 42.1747 78.8337 L 41.5987 78.8337 L 41.5987 74.5857 \" fill=\"#CCCC00\"/>\n",
       "<path d=\"M 185.332,70.2233 L 185.331,70.1975 L 185.328,70.1719 L 185.322,70.1467 L 185.314,70.122 L 185.305,70.0981 L 185.293,70.0751 L 185.279,70.0533 L 185.264,70.0326 L 185.246,70.0134 L 185.228,69.9958 L 185.207,69.9798 L 185.186,69.9656 L 185.163,69.9534 L 185.139,69.9431 L 185.115,69.9349 L 185.09,69.9289 L 185.064,69.925 L 185.038,69.9233 L 185.013,69.9239 L 184.987,69.9267 L 184.962,69.9316 L 184.937,69.9388 L 184.913,69.948 L 184.89,69.9593 L 184.867,69.9725 L 184.846,69.9876 L 184.827,70.0044 L 184.809,70.0228 L 184.792,70.0428 L 184.778,70.064 L 184.765,70.0865 L 184.754,70.1099 L 184.746,70.1342 L 184.739,70.1592 L 184.735,70.1846 L 184.732,70.2104 L 184.732,70.2362 L 184.735,70.2619 L 184.739,70.2873 L 184.746,70.3123 L 184.754,70.3366 L 184.765,70.36 L 184.778,70.3825 L 184.792,70.4037 L 184.809,70.4237 L 184.827,70.4421 L 184.846,70.459 L 184.867,70.474 L 184.89,70.4873 L 184.913,70.4985 L 184.937,70.5078 L 184.962,70.5149 L 184.987,70.5199 L 185.013,70.5226 L 185.038,70.5232 L 185.064,70.5215 L 185.09,70.5177 L 185.115,70.5116 L 185.139,70.5034 L 185.163,70.4932 L 185.186,70.4809 L 185.207,70.4667 L 185.228,70.4508 L 185.246,70.4331 L 185.264,70.4139 L 185.279,70.3933 L 185.293,70.3714 L 185.305,70.3484 L 185.314,70.3245 L 185.322,70.2999 L 185.328,70.2746 L 185.331,70.2491 L 185.332,70.2233 L 185.032,70.2233 Z\" style=\"fill:#000000;fill-rule:evenodd;fill-opacity:1;stroke:#000000;stroke-width:0px;stroke-linecap:butt;stroke-linejoin:miter;stroke-opacity:1;\"/>\n",
       "<path d=\"M 185.332,71.4233 L 185.331,71.3975 L 185.328,71.3719 L 185.322,71.3467 L 185.314,71.322 L 185.305,71.2981 L 185.293,71.2751 L 185.279,71.2533 L 185.264,71.2326 L 185.246,71.2134 L 185.228,71.1958 L 185.207,71.1798 L 185.186,71.1656 L 185.163,71.1534 L 185.139,71.1431 L 185.115,71.1349 L 185.09,71.1289 L 185.064,71.125 L 185.038,71.1233 L 185.013,71.1239 L 184.987,71.1267 L 184.962,71.1316 L 184.937,71.1388 L 184.913,71.148 L 184.89,71.1593 L 184.867,71.1725 L 184.846,71.1876 L 184.827,71.2044 L 184.809,71.2228 L 184.792,71.2428 L 184.778,71.264 L 184.765,71.2865 L 184.754,71.3099 L 184.746,71.3342 L 184.739,71.3592 L 184.735,71.3846 L 184.732,71.4104 L 184.732,71.4362 L 184.735,71.4619 L 184.739,71.4873 L 184.746,71.5123 L 184.754,71.5366 L 184.765,71.56 L 184.778,71.5825 L 184.792,71.6037 L 184.809,71.6237 L 184.827,71.6421 L 184.846,71.659 L 184.867,71.674 L 184.89,71.6873 L 184.913,71.6985 L 184.937,71.7078 L 184.962,71.7149 L 184.987,71.7199 L 185.013,71.7226 L 185.038,71.7232 L 185.064,71.7215 L 185.09,71.7177 L 185.115,71.7116 L 185.139,71.7034 L 185.163,71.6932 L 185.186,71.6809 L 185.207,71.6667 L 185.228,71.6508 L 185.246,71.6331 L 185.264,71.6139 L 185.279,71.5933 L 185.293,71.5714 L 185.305,71.5484 L 185.314,71.5245 L 185.322,71.4999 L 185.328,71.4746 L 185.331,71.4491 L 185.332,71.4233 L 185.032,71.4233 Z\" style=\"fill:#000000;fill-rule:evenodd;fill-opacity:1;stroke:#000000;stroke-width:0px;stroke-linecap:butt;stroke-linejoin:miter;stroke-opacity:1;\"/>\n",
       "<path class=\"bond-0\" d=\"M 256.585,99.3438 L 265.661,94.1038\" style=\"fill:none;fill-rule:evenodd;stroke:#000000;stroke-width:2.0px;stroke-linecap:butt;stroke-linejoin:miter;stroke-opacity:1\"/>\n",
       "<path class=\"bond-1\" d=\"M 265.661,94.1038 L 274.737,99.3438\" style=\"fill:none;fill-rule:evenodd;stroke:#000000;stroke-width:2.0px;stroke-linecap:butt;stroke-linejoin:miter;stroke-opacity:1\"/>\n",
       "<path class=\"bond-2\" d=\"M 274.737,99.3438 L 281.913,95.2008\" style=\"fill:none;fill-rule:evenodd;stroke:#000000;stroke-width:2.0px;stroke-linecap:butt;stroke-linejoin:miter;stroke-opacity:1\"/>\n",
       "<path class=\"bond-3\" d=\"M 285.713,95.2008 L 292.889,99.3438\" style=\"fill:none;fill-rule:evenodd;stroke:#000000;stroke-width:2.0px;stroke-linecap:butt;stroke-linejoin:miter;stroke-opacity:1\"/>\n",
       "<path class=\"bond-4\" d=\"M 292.889,99.3438 L 301.964,94.1038\" style=\"fill:none;fill-rule:evenodd;stroke:#000000;stroke-width:2.0px;stroke-linecap:butt;stroke-linejoin:miter;stroke-opacity:1\"/>\n",
       "<path class=\"bond-5\" d=\"M 301.964,94.1038 L 311.04,99.3438\" style=\"fill:none;fill-rule:evenodd;stroke:#000000;stroke-width:2.0px;stroke-linecap:butt;stroke-linejoin:miter;stroke-opacity:1\"/>\n",
       "<path class=\"bond-6\" d=\"M 311.04,99.3438 L 314.472,97.3624\" style=\"fill:none;fill-rule:evenodd;stroke:#000000;stroke-width:2.0px;stroke-linecap:butt;stroke-linejoin:miter;stroke-opacity:1\"/>\n",
       "<path class=\"bond-6\" d=\"M 314.472,97.3624 L 317.904,95.3809\" style=\"fill:none;fill-rule:evenodd;stroke:#FF0000;stroke-width:2.0px;stroke-linecap:butt;stroke-linejoin:miter;stroke-opacity:1\"/>\n",
       "<path class=\"bond-7\" d=\"M 322.328,95.3809 L 324.98,96.912\" style=\"fill:none;fill-rule:evenodd;stroke:#FF0000;stroke-width:2.0px;stroke-linecap:butt;stroke-linejoin:miter;stroke-opacity:1\"/>\n",
       "<path class=\"bond-7\" d=\"M 324.98,96.912 L 327.632,98.443\" style=\"fill:none;fill-rule:evenodd;stroke:#CCCC00;stroke-width:2.0px;stroke-linecap:butt;stroke-linejoin:miter;stroke-opacity:1\"/>\n",
       "<path class=\"bond-8\" d=\"M 330.816,98.4062 L 334.542,96.255\" style=\"fill:none;fill-rule:evenodd;stroke:#CCCC00;stroke-width:2.0px;stroke-linecap:butt;stroke-linejoin:miter;stroke-opacity:1\"/>\n",
       "<path class=\"bond-8\" d=\"M 334.542,96.255 L 338.268,94.1038\" style=\"fill:none;fill-rule:evenodd;stroke:#000000;stroke-width:2.0px;stroke-linecap:butt;stroke-linejoin:miter;stroke-opacity:1\"/>\n",
       "<path class=\"bond-8\" d=\"M 330.886,95.9457 L 333.494,94.4398\" style=\"fill:none;fill-rule:evenodd;stroke:#CCCC00;stroke-width:2.0px;stroke-linecap:butt;stroke-linejoin:miter;stroke-opacity:1\"/>\n",
       "<path class=\"bond-8\" d=\"M 333.494,94.4398 L 336.102,92.934\" style=\"fill:none;fill-rule:evenodd;stroke:#000000;stroke-width:2.0px;stroke-linecap:butt;stroke-linejoin:miter;stroke-opacity:1\"/>\n",
       "<path class=\"bond-9\" d=\"M 338.268,94.1038 L 341.953,96.2316\" style=\"fill:none;fill-rule:evenodd;stroke:#000000;stroke-width:2.0px;stroke-linecap:butt;stroke-linejoin:miter;stroke-opacity:1\"/>\n",
       "<path class=\"bond-9\" d=\"M 341.953,96.2316 L 345.639,98.3594\" style=\"fill:none;fill-rule:evenodd;stroke:#7F4C19;stroke-width:2.0px;stroke-linecap:butt;stroke-linejoin:miter;stroke-opacity:1\"/>\n",
       "<path class=\"atom-3\" d=\"M 282.175 94.1218 Q 282.175 93.0658, 282.667 92.5138 Q 283.165 91.9558, 284.107 91.9558 Q 284.983 91.9558, 285.451 92.5738 L 285.055 92.8978 Q 284.713 92.4478, 284.107 92.4478 Q 283.465 92.4478, 283.123 92.8798 Q 282.787 93.3058, 282.787 94.1218 Q 282.787 94.9618, 283.135 95.3938 Q 283.489 95.8258, 284.173 95.8258 Q 284.641 95.8258, 285.187 95.5438 L 285.355 95.9938 Q 285.133 96.1378, 284.797 96.2218 Q 284.461 96.3058, 284.089 96.3058 Q 283.165 96.3058, 282.667 95.7418 Q 282.175 95.1778, 282.175 94.1218 \" fill=\"#000000\"/>\n",
       "<path class=\"atom-3\" d=\"M 285.649 92.6552 L 287.102 92.6552 L 287.102 92.972 L 285.649 92.972 L 285.649 92.6552 \" fill=\"#000000\"/>\n",
       "<path class=\"atom-7\" d=\"M 318.166 94.1158 Q 318.166 93.0958, 318.67 92.5258 Q 319.174 91.9558, 320.116 91.9558 Q 321.058 91.9558, 321.562 92.5258 Q 322.066 93.0958, 322.066 94.1158 Q 322.066 95.1478, 321.556 95.7358 Q 321.046 96.3178, 320.116 96.3178 Q 319.18 96.3178, 318.67 95.7358 Q 318.166 95.1538, 318.166 94.1158 M 320.116 95.8378 Q 320.764 95.8378, 321.112 95.4058 Q 321.466 94.9678, 321.466 94.1158 Q 321.466 93.2818, 321.112 92.8618 Q 320.764 92.4358, 320.116 92.4358 Q 319.468 92.4358, 319.114 92.8558 Q 318.766 93.2758, 318.766 94.1158 Q 318.766 94.9738, 319.114 95.4058 Q 319.468 95.8378, 320.116 95.8378 \" fill=\"#FF0000\"/>\n",
       "<path class=\"atom-8\" d=\"M 327.992 100.802 Q 328.04 100.82, 328.238 100.904 Q 328.436 100.988, 328.652 101.042 Q 328.874 101.09, 329.09 101.09 Q 329.492 101.09, 329.726 100.898 Q 329.96 100.7, 329.96 100.358 Q 329.96 100.124, 329.84 99.9798 Q 329.726 99.8358, 329.546 99.7578 Q 329.366 99.6798, 329.066 99.5898 Q 328.688 99.4758, 328.46 99.3678 Q 328.238 99.2598, 328.076 99.0318 Q 327.92 98.8038, 327.92 98.4198 Q 327.92 97.8858, 328.28 97.5558 Q 328.646 97.2258, 329.366 97.2258 Q 329.858 97.2258, 330.416 97.4598 L 330.278 97.9218 Q 329.768 97.7118, 329.384 97.7118 Q 328.97 97.7118, 328.742 97.8858 Q 328.514 98.0538, 328.52 98.3478 Q 328.52 98.5758, 328.634 98.7138 Q 328.754 98.8518, 328.922 98.9298 Q 329.096 99.0078, 329.384 99.0978 Q 329.768 99.2178, 329.996 99.3378 Q 330.224 99.4578, 330.386 99.7038 Q 330.554 99.9438, 330.554 100.358 Q 330.554 100.946, 330.158 101.264 Q 329.768 101.576, 329.114 101.576 Q 328.736 101.576, 328.448 101.492 Q 328.166 101.414, 327.83 101.276 L 327.992 100.802 \" fill=\"#CCCC00\"/>\n",
       "<path class=\"atom-8\" d=\"M 327.53 102.005 L 328.106 102.005 L 328.106 103.811 L 330.278 103.811 L 330.278 102.005 L 330.854 102.005 L 330.854 106.253 L 330.278 106.253 L 330.278 104.291 L 328.106 104.291 L 328.106 106.253 L 327.53 106.253 L 327.53 102.005 \" fill=\"#CCCC00\"/>\n",
       "<path class=\"atom-10\" d=\"M 347.965 99.2358 Q 348.373 99.3498, 348.577 99.6018 Q 348.787 99.8478, 348.787 100.214 Q 348.787 100.802, 348.409 101.138 Q 348.037 101.468, 347.329 101.468 L 345.901 101.468 L 345.901 97.2198 L 347.155 97.2198 Q 347.881 97.2198, 348.247 97.5138 Q 348.613 97.8078, 348.613 98.3478 Q 348.613 98.9898, 347.965 99.2358 M 346.471 97.6998 L 346.471 99.0318 L 347.155 99.0318 Q 347.575 99.0318, 347.791 98.8638 Q 348.013 98.6898, 348.013 98.3478 Q 348.013 97.6998, 347.155 97.6998 L 346.471 97.6998 M 347.329 100.988 Q 347.743 100.988, 347.965 100.79 Q 348.187 100.592, 348.187 100.214 Q 348.187 99.8658, 347.941 99.6918 Q 347.701 99.5118, 347.239 99.5118 L 346.471 99.5118 L 346.471 100.988 L 347.329 100.988 \" fill=\"#7F4C19\"/>\n",
       "<path class=\"atom-10\" d=\"M 349.753 98.3838 L 349.819 98.8098 Q 350.143 98.3298, 350.671 98.3298 Q 350.839 98.3298, 351.067 98.3898 L 350.977 98.8938 Q 350.719 98.8338, 350.575 98.8338 Q 350.323 98.8338, 350.155 98.9358 Q 349.993 99.0318, 349.861 99.2658 L 349.861 101.468 L 349.297 101.468 L 349.297 98.3838 L 349.753 98.3838 \" fill=\"#7F4C19\"/>\n",
       "<path d=\"M 284.113,91.5058 L 284.112,91.4801 L 284.108,91.4545 L 284.103,91.4292 L 284.095,91.4046 L 284.085,91.3807 L 284.074,91.3577 L 284.06,91.3358 L 284.044,91.3152 L 284.027,91.296 L 284.008,91.2784 L 283.988,91.2624 L 283.966,91.2482 L 283.944,91.236 L 283.92,91.2257 L 283.896,91.2175 L 283.87,91.2115 L 283.845,91.2076 L 283.819,91.2059 L 283.793,91.2065 L 283.768,91.2092 L 283.742,91.2142 L 283.718,91.2213 L 283.693,91.2306 L 283.67,91.2418 L 283.648,91.2551 L 283.627,91.2701 L 283.608,91.287 L 283.59,91.3054 L 283.573,91.3254 L 283.558,91.3466 L 283.546,91.3691 L 283.535,91.3925 L 283.526,91.4168 L 283.52,91.4418 L 283.515,91.4672 L 283.513,91.4929 L 283.513,91.5187 L 283.515,91.5445 L 283.52,91.5699 L 283.526,91.5949 L 283.535,91.6192 L 283.546,91.6426 L 283.558,91.6651 L 283.573,91.6863 L 283.59,91.7063 L 283.608,91.7247 L 283.627,91.7415 L 283.648,91.7566 L 283.67,91.7698 L 283.693,91.7811 L 283.718,91.7904 L 283.742,91.7975 L 283.768,91.8024 L 283.793,91.8052 L 283.819,91.8058 L 283.845,91.8041 L 283.87,91.8002 L 283.896,91.7942 L 283.92,91.786 L 283.944,91.7757 L 283.966,91.7635 L 283.988,91.7493 L 284.008,91.7333 L 284.027,91.7157 L 284.044,91.6965 L 284.06,91.6759 L 284.074,91.654 L 284.085,91.631 L 284.095,91.6071 L 284.103,91.5824 L 284.108,91.5572 L 284.112,91.5316 L 284.113,91.5058 L 283.813,91.5058 Z\" style=\"fill:#000000;fill-rule:evenodd;fill-opacity:1;stroke:#000000;stroke-width:0px;stroke-linecap:butt;stroke-linejoin:miter;stroke-opacity:1;\"/>\n",
       "<path class=\"bond-0\" d=\"M 453.073,93.7452 L 461.689,99.7111\" style=\"fill:none;fill-rule:evenodd;stroke:#000000;stroke-width:2.0px;stroke-linecap:butt;stroke-linejoin:miter;stroke-opacity:1\"/>\n",
       "<path class=\"bond-0\" d=\"M 454.266,92.022 L 462.882,97.9879\" style=\"fill:none;fill-rule:evenodd;stroke:#000000;stroke-width:2.0px;stroke-linecap:butt;stroke-linejoin:miter;stroke-opacity:1\"/>\n",
       "<path class=\"bond-1\" d=\"M 462.285,98.8495 L 471.76,94.3707\" style=\"fill:none;fill-rule:evenodd;stroke:#000000;stroke-width:2.0px;stroke-linecap:butt;stroke-linejoin:miter;stroke-opacity:1\"/>\n",
       "<path class=\"bond-2\" d=\"M 471.76,94.3707 L 480.376,100.337\" style=\"fill:none;fill-rule:evenodd;stroke:#000000;stroke-width:2.0px;stroke-linecap:butt;stroke-linejoin:miter;stroke-opacity:1\"/>\n",
       "<path class=\"bond-3\" d=\"M 480.376,100.337 L 489.851,95.8578\" style=\"fill:none;fill-rule:evenodd;stroke:#000000;stroke-width:2.0px;stroke-linecap:butt;stroke-linejoin:miter;stroke-opacity:1\"/>\n",
       "<path class=\"bond-4\" d=\"M 489.851,95.8578 L 498.467,101.824\" style=\"fill:none;fill-rule:evenodd;stroke:#000000;stroke-width:2.0px;stroke-linecap:butt;stroke-linejoin:miter;stroke-opacity:1\"/>\n",
       "<path class=\"bond-5\" d=\"M 498.467,101.824 L 507.941,97.3449\" style=\"fill:none;fill-rule:evenodd;stroke:#000000;stroke-width:2.0px;stroke-linecap:butt;stroke-linejoin:miter;stroke-opacity:1\"/>\n",
       "<path class=\"bond-6\" d=\"M 507.941,97.3449 L 516.557,103.311\" style=\"fill:none;fill-rule:evenodd;stroke:#000000;stroke-width:2.0px;stroke-linecap:butt;stroke-linejoin:miter;stroke-opacity:1\"/>\n",
       "<path class=\"bond-7\" d=\"M 516.557,103.311 L 526.032,98.8321\" style=\"fill:none;fill-rule:evenodd;stroke:#000000;stroke-width:2.0px;stroke-linecap:butt;stroke-linejoin:miter;stroke-opacity:1\"/>\n",
       "<path class=\"bond-8\" d=\"M 526.032,98.8321 L 530.511,108.307\" style=\"fill:none;fill-rule:evenodd;stroke:#000000;stroke-width:2.0px;stroke-linecap:butt;stroke-linejoin:miter;stroke-opacity:1\"/>\n",
       "<path class=\"bond-9\" d=\"M 526.032,98.8321 L 521.553,89.3574\" style=\"fill:none;fill-rule:evenodd;stroke:#000000;stroke-width:2.0px;stroke-linecap:butt;stroke-linejoin:miter;stroke-opacity:1\"/>\n",
       "<path class=\"bond-12\" d=\"M 526.032,98.8321 L 535.507,94.3533\" style=\"fill:none;fill-rule:evenodd;stroke:#000000;stroke-width:2.0px;stroke-linecap:butt;stroke-linejoin:miter;stroke-opacity:1\"/>\n",
       "<path class=\"bond-10\" d=\"M 521.553,89.3574 L 531.028,84.8786\" style=\"fill:none;fill-rule:evenodd;stroke:#000000;stroke-width:2.0px;stroke-linecap:butt;stroke-linejoin:miter;stroke-opacity:1\"/>\n",
       "<path class=\"bond-11\" d=\"M 531.028,84.8786 L 535.507,94.3533\" style=\"fill:none;fill-rule:evenodd;stroke:#000000;stroke-width:2.0px;stroke-linecap:butt;stroke-linejoin:miter;stroke-opacity:1\"/>\n",
       "<path class=\"bond-0\" d=\"M 190.909,273.862 L 184.687,282.295\" style=\"fill:none;fill-rule:evenodd;stroke:#000000;stroke-width:2.0px;stroke-linecap:butt;stroke-linejoin:miter;stroke-opacity:1\"/>\n",
       "<path class=\"bond-1\" d=\"M 184.687,282.295 L 180.586,281.834\" style=\"fill:none;fill-rule:evenodd;stroke:#000000;stroke-width:2.0px;stroke-linecap:butt;stroke-linejoin:miter;stroke-opacity:1\"/>\n",
       "<path class=\"bond-1\" d=\"M 180.586,281.834 L 176.485,281.372\" style=\"fill:none;fill-rule:evenodd;stroke:#FF0000;stroke-width:2.0px;stroke-linecap:butt;stroke-linejoin:miter;stroke-opacity:1\"/>\n",
       "<path class=\"bond-2\" d=\"M 172.446,283.599 L 170.249,286.578\" style=\"fill:none;fill-rule:evenodd;stroke:#FF0000;stroke-width:2.0px;stroke-linecap:butt;stroke-linejoin:miter;stroke-opacity:1\"/>\n",
       "<path class=\"bond-2\" d=\"M 170.249,286.578 L 168.051,289.556\" style=\"fill:none;fill-rule:evenodd;stroke:#000000;stroke-width:2.0px;stroke-linecap:butt;stroke-linejoin:miter;stroke-opacity:1\"/>\n",
       "<path class=\"bond-3\" d=\"M 168.051,289.556 L 157.637,288.385\" style=\"fill:none;fill-rule:evenodd;stroke:#000000;stroke-width:2.0px;stroke-linecap:butt;stroke-linejoin:miter;stroke-opacity:1\"/>\n",
       "<path class=\"bond-4\" d=\"M 157.637,288.385 L 151.415,296.818\" style=\"fill:none;fill-rule:evenodd;stroke:#000000;stroke-width:2.0px;stroke-linecap:butt;stroke-linejoin:miter;stroke-opacity:1\"/>\n",
       "<path class=\"bond-4\" d=\"M 158.39,290.894 L 154.035,296.797\" style=\"fill:none;fill-rule:evenodd;stroke:#000000;stroke-width:2.0px;stroke-linecap:butt;stroke-linejoin:miter;stroke-opacity:1\"/>\n",
       "<path class=\"bond-5\" d=\"M 151.415,296.818 L 141.001,295.646\" style=\"fill:none;fill-rule:evenodd;stroke:#000000;stroke-width:2.0px;stroke-linecap:butt;stroke-linejoin:miter;stroke-opacity:1\"/>\n",
       "<path class=\"bond-6\" d=\"M 141.001,295.646 L 134.779,304.079\" style=\"fill:none;fill-rule:evenodd;stroke:#000000;stroke-width:2.0px;stroke-linecap:butt;stroke-linejoin:miter;stroke-opacity:1\"/>\n",
       "<path class=\"bond-7\" d=\"M 134.779,304.079 L 136.356,307.691\" style=\"fill:none;fill-rule:evenodd;stroke:#000000;stroke-width:2.0px;stroke-linecap:butt;stroke-linejoin:miter;stroke-opacity:1\"/>\n",
       "<path class=\"bond-7\" d=\"M 136.356,307.691 L 137.933,311.304\" style=\"fill:none;fill-rule:evenodd;stroke:#CCCC00;stroke-width:2.0px;stroke-linecap:butt;stroke-linejoin:miter;stroke-opacity:1\"/>\n",
       "<path class=\"bond-8\" d=\"M 134.779,304.079 L 124.365,302.907\" style=\"fill:none;fill-rule:evenodd;stroke:#000000;stroke-width:2.0px;stroke-linecap:butt;stroke-linejoin:miter;stroke-opacity:1\"/>\n",
       "<path class=\"bond-9\" d=\"M 124.365,302.907 L 118.143,311.34\" style=\"fill:none;fill-rule:evenodd;stroke:#000000;stroke-width:2.0px;stroke-linecap:butt;stroke-linejoin:miter;stroke-opacity:1\"/>\n",
       "<path class=\"bond-10\" d=\"M 118.143,311.34 L 107.729,310.169\" style=\"fill:none;fill-rule:evenodd;stroke:#000000;stroke-width:2.0px;stroke-linecap:butt;stroke-linejoin:miter;stroke-opacity:1\"/>\n",
       "<path class=\"bond-11\" d=\"M 107.729,310.169 L 101.507,318.602\" style=\"fill:none;fill-rule:evenodd;stroke:#000000;stroke-width:2.0px;stroke-linecap:butt;stroke-linejoin:miter;stroke-opacity:1\"/>\n",
       "<path class=\"bond-11\" d=\"M 108.482,312.678 L 104.127,318.581\" style=\"fill:none;fill-rule:evenodd;stroke:#000000;stroke-width:2.0px;stroke-linecap:butt;stroke-linejoin:miter;stroke-opacity:1\"/>\n",
       "<path class=\"bond-12\" d=\"M 101.507,318.602 L 91.0928,317.43\" style=\"fill:none;fill-rule:evenodd;stroke:#000000;stroke-width:2.0px;stroke-linecap:butt;stroke-linejoin:miter;stroke-opacity:1\"/>\n",
       "<path class=\"bond-13\" d=\"M 91.0928,317.43 L 86.6948,316.935\" style=\"fill:none;fill-rule:evenodd;stroke:#000000;stroke-width:2.0px;stroke-linecap:butt;stroke-linejoin:miter;stroke-opacity:1\"/>\n",
       "<path class=\"bond-13\" d=\"M 86.6948,316.935 L 82.2967,316.44\" style=\"fill:none;fill-rule:evenodd;stroke:#FF7F00;stroke-width:2.0px;stroke-linecap:butt;stroke-linejoin:miter;stroke-opacity:1\"/>\n",
       "<path class=\"bond-13\" d=\"M 90.0078,315.199 L 86.9291,314.852\" style=\"fill:none;fill-rule:evenodd;stroke:#000000;stroke-width:2.0px;stroke-linecap:butt;stroke-linejoin:miter;stroke-opacity:1\"/>\n",
       "<path class=\"bond-13\" d=\"M 86.9291,314.852 L 83.8504,314.506\" style=\"fill:none;fill-rule:evenodd;stroke:#FF7F00;stroke-width:2.0px;stroke-linecap:butt;stroke-linejoin:miter;stroke-opacity:1\"/>\n",
       "<path class=\"bond-13\" d=\"M 89.5391,319.364 L 86.4604,319.018\" style=\"fill:none;fill-rule:evenodd;stroke:#000000;stroke-width:2.0px;stroke-linecap:butt;stroke-linejoin:miter;stroke-opacity:1\"/>\n",
       "<path class=\"bond-13\" d=\"M 86.4604,319.018 L 83.3817,318.672\" style=\"fill:none;fill-rule:evenodd;stroke:#FF7F00;stroke-width:2.0px;stroke-linecap:butt;stroke-linejoin:miter;stroke-opacity:1\"/>\n",
       "<path class=\"bond-14\" d=\"M 79.6372,313.872 L 78.0618,310.263\" style=\"fill:none;fill-rule:evenodd;stroke:#FF7F00;stroke-width:2.0px;stroke-linecap:butt;stroke-linejoin:miter;stroke-opacity:1\"/>\n",
       "<path class=\"bond-14\" d=\"M 78.0618,310.263 L 76.4863,306.653\" style=\"fill:none;fill-rule:evenodd;stroke:#000000;stroke-width:2.0px;stroke-linecap:butt;stroke-linejoin:miter;stroke-opacity:1\"/>\n",
       "<path class=\"bond-15\" d=\"M 76.4863,306.653 L 66.0722,305.482\" style=\"fill:none;fill-rule:evenodd;stroke:#000000;stroke-width:2.0px;stroke-linecap:butt;stroke-linejoin:miter;stroke-opacity:1\"/>\n",
       "<path class=\"bond-16\" d=\"M 66.0722,305.482 L 61.8798,295.877\" style=\"fill:none;fill-rule:evenodd;stroke:#000000;stroke-width:2.0px;stroke-linecap:butt;stroke-linejoin:miter;stroke-opacity:1\"/>\n",
       "<path class=\"bond-17\" d=\"M 61.8798,295.877 L 57.4817,295.382\" style=\"fill:none;fill-rule:evenodd;stroke:#000000;stroke-width:2.0px;stroke-linecap:butt;stroke-linejoin:miter;stroke-opacity:1\"/>\n",
       "<path class=\"bond-17\" d=\"M 57.4817,295.382 L 53.0837,294.887\" style=\"fill:none;fill-rule:evenodd;stroke:#FF7F00;stroke-width:2.0px;stroke-linecap:butt;stroke-linejoin:miter;stroke-opacity:1\"/>\n",
       "<path class=\"bond-17\" d=\"M 60.3261,297.811 L 57.2474,297.465\" style=\"fill:none;fill-rule:evenodd;stroke:#000000;stroke-width:2.0px;stroke-linecap:butt;stroke-linejoin:miter;stroke-opacity:1\"/>\n",
       "<path class=\"bond-17\" d=\"M 57.2474,297.465 L 54.1687,297.118\" style=\"fill:none;fill-rule:evenodd;stroke:#FF7F00;stroke-width:2.0px;stroke-linecap:butt;stroke-linejoin:miter;stroke-opacity:1\"/>\n",
       "<path class=\"bond-18\" d=\"M 49.8477,294.523 L 45.4496,294.028\" style=\"fill:none;fill-rule:evenodd;stroke:#FF7F00;stroke-width:2.0px;stroke-linecap:butt;stroke-linejoin:miter;stroke-opacity:1\"/>\n",
       "<path class=\"bond-18\" d=\"M 45.4496,294.028 L 41.0515,293.533\" style=\"fill:none;fill-rule:evenodd;stroke:#000000;stroke-width:2.0px;stroke-linecap:butt;stroke-linejoin:miter;stroke-opacity:1\"/>\n",
       "<path class=\"bond-18\" d=\"M 48.7626,292.292 L 45.6839,291.945\" style=\"fill:none;fill-rule:evenodd;stroke:#FF7F00;stroke-width:2.0px;stroke-linecap:butt;stroke-linejoin:miter;stroke-opacity:1\"/>\n",
       "<path class=\"bond-18\" d=\"M 45.6839,291.945 L 42.6053,291.599\" style=\"fill:none;fill-rule:evenodd;stroke:#000000;stroke-width:2.0px;stroke-linecap:butt;stroke-linejoin:miter;stroke-opacity:1\"/>\n",
       "<path class=\"bond-18\" d=\"M 48.2939,296.457 L 45.2152,296.111\" style=\"fill:none;fill-rule:evenodd;stroke:#FF7F00;stroke-width:2.0px;stroke-linecap:butt;stroke-linejoin:miter;stroke-opacity:1\"/>\n",
       "<path class=\"bond-18\" d=\"M 45.2152,296.111 L 42.1366,295.765\" style=\"fill:none;fill-rule:evenodd;stroke:#000000;stroke-width:2.0px;stroke-linecap:butt;stroke-linejoin:miter;stroke-opacity:1\"/>\n",
       "<path class=\"bond-19\" d=\"M 41.0515,293.533 L 30.6373,292.362\" style=\"fill:none;fill-rule:evenodd;stroke:#000000;stroke-width:2.0px;stroke-linecap:butt;stroke-linejoin:miter;stroke-opacity:1\"/>\n",
       "<path class=\"bond-20\" d=\"M 30.6373,292.362 L 29.0815,288.797\" style=\"fill:none;fill-rule:evenodd;stroke:#000000;stroke-width:2.0px;stroke-linecap:butt;stroke-linejoin:miter;stroke-opacity:1\"/>\n",
       "<path class=\"bond-20\" d=\"M 29.0815,288.797 L 27.5257,285.233\" style=\"fill:none;fill-rule:evenodd;stroke:#FF0000;stroke-width:2.0px;stroke-linecap:butt;stroke-linejoin:miter;stroke-opacity:1\"/>\n",
       "<path class=\"bond-21\" d=\"M 24.233,282.508 L 21.0406,282.149\" style=\"fill:none;fill-rule:evenodd;stroke:#FF0000;stroke-width:2.0px;stroke-linecap:butt;stroke-linejoin:miter;stroke-opacity:1\"/>\n",
       "<path class=\"bond-21\" d=\"M 21.0406,282.149 L 17.8481,281.789\" style=\"fill:none;fill-rule:evenodd;stroke:#0000FF;stroke-width:2.0px;stroke-linecap:butt;stroke-linejoin:miter;stroke-opacity:1\"/>\n",
       "<path class=\"bond-22\" d=\"M 15.9498,278.78 L 14.9005,276.376\" style=\"fill:none;fill-rule:evenodd;stroke:#0000FF;stroke-width:2.0px;stroke-linecap:butt;stroke-linejoin:miter;stroke-opacity:1\"/>\n",
       "<path class=\"bond-22\" d=\"M 14.9005,276.376 L 13.8513,273.972\" style=\"fill:none;fill-rule:evenodd;stroke:#FF0000;stroke-width:2.0px;stroke-linecap:butt;stroke-linejoin:miter;stroke-opacity:1\"/>\n",
       "<path class=\"bond-22\" d=\"M 14.0289,279.618 L 12.9796,277.214\" style=\"fill:none;fill-rule:evenodd;stroke:#0000FF;stroke-width:2.0px;stroke-linecap:butt;stroke-linejoin:miter;stroke-opacity:1\"/>\n",
       "<path class=\"bond-22\" d=\"M 12.9796,277.214 L 11.9303,274.81\" style=\"fill:none;fill-rule:evenodd;stroke:#FF0000;stroke-width:2.0px;stroke-linecap:butt;stroke-linejoin:miter;stroke-opacity:1\"/>\n",
       "<path class=\"atom-2\" d=\"M 172.323 281.135 Q 172.323 280.115, 172.827 279.545 Q 173.331 278.975, 174.273 278.975 Q 175.215 278.975, 175.719 279.545 Q 176.223 280.115, 176.223 281.135 Q 176.223 282.167, 175.713 282.755 Q 175.203 283.337, 174.273 283.337 Q 173.337 283.337, 172.827 282.755 Q 172.323 282.173, 172.323 281.135 M 174.273 282.857 Q 174.921 282.857, 175.269 282.425 Q 175.623 281.987, 175.623 281.135 Q 175.623 280.301, 175.269 279.881 Q 174.921 279.455, 174.273 279.455 Q 173.625 279.455, 173.271 279.875 Q 172.923 280.295, 172.923 281.135 Q 172.923 281.993, 173.271 282.425 Q 173.625 282.857, 174.273 282.857 \" fill=\"#FF0000\"/>\n",
       "<path class=\"atom-2\" d=\"M 176.579 279.732 L 177.328 279.732 L 177.328 278.944 L 177.661 278.944 L 177.661 279.732 L 178.429 279.732 L 178.429 280.017 L 177.661 280.017 L 177.661 280.809 L 177.328 280.809 L 177.328 280.017 L 176.579 280.017 L 176.579 279.732 \" fill=\"#FF0000\"/>\n",
       "<path class=\"atom-8\" d=\"M 137.771 315.142 Q 137.819 315.16, 138.017 315.244 Q 138.215 315.328, 138.431 315.382 Q 138.653 315.43, 138.869 315.43 Q 139.271 315.43, 139.505 315.238 Q 139.739 315.04, 139.739 314.698 Q 139.739 314.464, 139.619 314.32 Q 139.505 314.176, 139.325 314.098 Q 139.145 314.02, 138.845 313.93 Q 138.467 313.816, 138.239 313.708 Q 138.017 313.6, 137.855 313.372 Q 137.699 313.144, 137.699 312.76 Q 137.699 312.226, 138.059 311.896 Q 138.425 311.566, 139.145 311.566 Q 139.637 311.566, 140.195 311.8 L 140.057 312.262 Q 139.547 312.052, 139.163 312.052 Q 138.749 312.052, 138.521 312.226 Q 138.293 312.394, 138.299 312.688 Q 138.299 312.916, 138.413 313.054 Q 138.533 313.192, 138.701 313.27 Q 138.875 313.348, 139.163 313.438 Q 139.547 313.558, 139.775 313.678 Q 140.003 313.798, 140.165 314.044 Q 140.333 314.284, 140.333 314.698 Q 140.333 315.286, 139.937 315.604 Q 139.547 315.916, 138.893 315.916 Q 138.515 315.916, 138.227 315.832 Q 137.945 315.754, 137.609 315.616 L 137.771 315.142 \" fill=\"#CCCC00\"/>\n",
       "<path class=\"atom-8\" d=\"M 140.531 312.205 L 141.985 312.205 L 141.985 312.522 L 140.531 312.522 L 140.531 312.205 \" fill=\"#CCCC00\"/>\n",
       "<path class=\"atom-14\" d=\"M 80.5767 314.134 Q 81.3027 314.134, 81.6687 314.464 Q 82.0347 314.788, 82.0347 315.382 Q 82.0347 315.97, 81.6567 316.306 Q 81.2847 316.636, 80.5767 316.636 L 79.8987 316.636 L 79.8987 318.382 L 79.3227 318.382 L 79.3227 314.134 L 80.5767 314.134 M 80.5767 316.156 Q 80.9907 316.156, 81.2127 315.958 Q 81.4347 315.76, 81.4347 315.382 Q 81.4347 315.004, 81.2127 314.812 Q 80.9967 314.614, 80.5767 314.614 L 79.8987 314.614 L 79.8987 316.156 L 80.5767 316.156 \" fill=\"#FF7F00\"/>\n",
       "<path class=\"atom-14\" d=\"M 82.2327 314.837 L 83.686 314.837 L 83.686 315.153 L 82.2327 315.153 L 82.2327 314.837 \" fill=\"#FF7F00\"/>\n",
       "<path class=\"atom-18\" d=\"M 51.3637 292.581 Q 52.0897 292.581, 52.4557 292.911 Q 52.8217 293.235, 52.8217 293.829 Q 52.8217 294.417, 52.4437 294.753 Q 52.0717 295.083, 51.3637 295.083 L 50.6857 295.083 L 50.6857 296.829 L 50.1097 296.829 L 50.1097 292.581 L 51.3637 292.581 M 51.3637 294.603 Q 51.7777 294.603, 51.9997 294.405 Q 52.2217 294.207, 52.2217 293.829 Q 52.2217 293.451, 51.9997 293.259 Q 51.7837 293.061, 51.3637 293.061 L 50.6857 293.061 L 50.6857 294.603 L 51.3637 294.603 \" fill=\"#FF7F00\"/>\n",
       "<path class=\"atom-21\" d=\"M 24.495 282.769 Q 24.495 281.749, 24.999 281.179 Q 25.503 280.609, 26.445 280.609 Q 27.387 280.609, 27.891 281.179 Q 28.395 281.749, 28.395 282.769 Q 28.395 283.801, 27.885 284.389 Q 27.375 284.971, 26.445 284.971 Q 25.509 284.971, 24.999 284.389 Q 24.495 283.807, 24.495 282.769 M 26.445 284.491 Q 27.093 284.491, 27.441 284.059 Q 27.795 283.621, 27.795 282.769 Q 27.795 281.935, 27.441 281.515 Q 27.093 281.089, 26.445 281.089 Q 25.797 281.089, 25.443 281.509 Q 25.095 281.929, 25.095 282.769 Q 25.095 283.627, 25.443 284.059 Q 25.797 284.491, 26.445 284.491 \" fill=\"#FF0000\"/>\n",
       "<path class=\"atom-22\" d=\"M 15.0918 279.461 L 16.4838 281.711 Q 16.6218 281.933, 16.8438 282.335 Q 17.0658 282.737, 17.0778 282.761 L 17.0778 279.461 L 17.6418 279.461 L 17.6418 283.709 L 17.0598 283.709 L 15.5658 281.249 Q 15.3918 280.961, 15.2058 280.631 Q 15.0258 280.301, 14.9718 280.199 L 14.9718 283.709 L 14.4198 283.709 L 14.4198 279.461 L 15.0918 279.461 \" fill=\"#0000FF\"/>\n",
       "<path class=\"atom-23\" d=\"M 9.88847 271.992 Q 9.88847 270.972, 10.3925 270.402 Q 10.8965 269.832, 11.8385 269.832 Q 12.7805 269.832, 13.2845 270.402 Q 13.7885 270.972, 13.7885 271.992 Q 13.7885 273.024, 13.2785 273.612 Q 12.7685 274.194, 11.8385 274.194 Q 10.9025 274.194, 10.3925 273.612 Q 9.88847 273.03, 9.88847 271.992 M 11.8385 273.714 Q 12.4865 273.714, 12.8345 273.282 Q 13.1885 272.844, 13.1885 271.992 Q 13.1885 271.158, 12.8345 270.738 Q 12.4865 270.312, 11.8385 270.312 Q 11.1905 270.312, 10.8365 270.732 Q 10.4885 271.152, 10.4885 271.992 Q 10.4885 272.85, 10.8365 273.282 Q 11.1905 273.714, 11.8385 273.714 \" fill=\"#FF0000\"/>\n",
       "<path class=\"atom-23\" d=\"M 14.1449 270.589 L 14.8933 270.589 L 14.8933 269.801 L 15.2259 269.801 L 15.2259 270.589 L 15.9942 270.589 L 15.9942 270.874 L 15.2259 270.874 L 15.2259 271.666 L 14.8933 271.666 L 14.8933 270.874 L 14.1449 270.874 L 14.1449 270.589 \" fill=\"#FF0000\"/>\n",
       "<path d=\"M 171.723,281.123 L 171.722,281.098 L 171.719,281.072 L 171.713,281.047 L 171.705,281.022 L 171.696,280.998 L 171.684,280.975 L 171.67,280.953 L 171.655,280.933 L 171.637,280.914 L 171.619,280.896 L 171.598,280.88 L 171.577,280.866 L 171.554,280.853 L 171.53,280.843 L 171.506,280.835 L 171.481,280.829 L 171.455,280.825 L 171.43,280.823 L 171.404,280.824 L 171.378,280.827 L 171.353,280.832 L 171.328,280.839 L 171.304,280.848 L 171.281,280.859 L 171.258,280.873 L 171.237,280.888 L 171.218,280.905 L 171.2,280.923 L 171.183,280.943 L 171.169,280.964 L 171.156,280.987 L 171.145,281.01 L 171.137,281.034 L 171.13,281.059 L 171.126,281.085 L 171.123,281.11 L 171.123,281.136 L 171.126,281.162 L 171.13,281.187 L 171.137,281.212 L 171.145,281.237 L 171.156,281.26 L 171.169,281.283 L 171.183,281.304 L 171.2,281.324 L 171.218,281.342 L 171.237,281.359 L 171.258,281.374 L 171.281,281.387 L 171.304,281.399 L 171.328,281.408 L 171.353,281.415 L 171.378,281.42 L 171.404,281.423 L 171.43,281.423 L 171.455,281.422 L 171.481,281.418 L 171.506,281.412 L 171.53,281.404 L 171.554,281.393 L 171.577,281.381 L 171.598,281.367 L 171.619,281.351 L 171.637,281.333 L 171.655,281.314 L 171.67,281.293 L 171.684,281.272 L 171.696,281.249 L 171.705,281.225 L 171.713,281.2 L 171.719,281.175 L 171.722,281.149 L 171.723,281.123 L 171.423,281.123 Z\" style=\"fill:#000000;fill-rule:evenodd;fill-opacity:1;stroke:#000000;stroke-width:0px;stroke-linecap:butt;stroke-linejoin:miter;stroke-opacity:1;\"/>\n",
       "<path d=\"M 9.28847,271.98 L 9.28736,271.954 L 9.28403,271.929 L 9.27852,271.904 L 9.27086,271.879 L 9.26111,271.855 L 9.24934,271.832 L 9.23564,271.81 L 9.22011,271.789 L 9.20287,271.77 L 9.18404,271.753 L 9.16376,271.737 L 9.14218,271.722 L 9.11946,271.71 L 9.09578,271.7 L 9.0713,271.692 L 9.0462,271.686 L 9.02068,271.682 L 8.99492,271.68 L 8.96911,271.681 L 8.94345,271.684 L 8.91812,271.688 L 8.89331,271.696 L 8.8692,271.705 L 8.84598,271.716 L 8.82381,271.729 L 8.80287,271.744 L 8.78329,271.761 L 8.76524,271.78 L 8.74883,271.8 L 8.7342,271.821 L 8.72146,271.843 L 8.71069,271.867 L 8.70198,271.891 L 8.69538,271.916 L 8.69096,271.942 L 8.68874,271.967 L 8.68874,271.993 L 8.69096,272.019 L 8.69538,272.044 L 8.70198,272.069 L 8.71069,272.093 L 8.72146,272.117 L 8.7342,272.139 L 8.74883,272.161 L 8.76524,272.181 L 8.78329,272.199 L 8.80287,272.216 L 8.82381,272.231 L 8.84598,272.244 L 8.8692,272.255 L 8.89331,272.265 L 8.91812,272.272 L 8.94345,272.277 L 8.96911,272.28 L 8.99492,272.28 L 9.02068,272.278 L 9.0462,272.275 L 9.0713,272.268 L 9.09578,272.26 L 9.11946,272.25 L 9.14218,272.238 L 9.16376,272.224 L 9.18404,272.208 L 9.20287,272.19 L 9.22011,272.171 L 9.23564,272.15 L 9.24934,272.128 L 9.26111,272.105 L 9.27086,272.081 L 9.27852,272.057 L 9.28403,272.032 L 9.28736,272.006 L 9.28847,271.98 L 8.98847,271.98 Z\" style=\"fill:#000000;fill-rule:evenodd;fill-opacity:1;stroke:#000000;stroke-width:0px;stroke-linecap:butt;stroke-linejoin:miter;stroke-opacity:1;\"/>\n",
       "<path class=\"bond-0\" d=\"M 307.636,330.875 L 315.413,323.85\" style=\"fill:none;fill-rule:evenodd;stroke:#000000;stroke-width:2.0px;stroke-linecap:butt;stroke-linejoin:miter;stroke-opacity:1\"/>\n",
       "<path class=\"bond-1\" d=\"M 315.413,323.85 L 313.217,313.603\" style=\"fill:none;fill-rule:evenodd;stroke:#000000;stroke-width:2.0px;stroke-linecap:butt;stroke-linejoin:miter;stroke-opacity:1\"/>\n",
       "<path class=\"bond-2\" d=\"M 313.217,313.603 L 320.993,306.578\" style=\"fill:none;fill-rule:evenodd;stroke:#000000;stroke-width:2.0px;stroke-linecap:butt;stroke-linejoin:miter;stroke-opacity:1\"/>\n",
       "<path class=\"bond-3\" d=\"M 320.993,306.578 L 318.798,296.33\" style=\"fill:none;fill-rule:evenodd;stroke:#000000;stroke-width:2.0px;stroke-linecap:butt;stroke-linejoin:miter;stroke-opacity:1\"/>\n",
       "<path class=\"bond-4\" d=\"M 318.798,296.33 L 325.797,288.531\" style=\"fill:none;fill-rule:evenodd;stroke:#000000;stroke-width:2.0px;stroke-linecap:butt;stroke-linejoin:miter;stroke-opacity:1\"/>\n",
       "<path class=\"bond-15\" d=\"M 318.798,296.33 L 309.217,292.084\" style=\"fill:none;fill-rule:evenodd;stroke:#000000;stroke-width:2.0px;stroke-linecap:butt;stroke-linejoin:miter;stroke-opacity:1\"/>\n",
       "<path class=\"bond-5\" d=\"M 325.797,288.531 L 320.542,279.463\" style=\"fill:none;fill-rule:evenodd;stroke:#000000;stroke-width:2.0px;stroke-linecap:butt;stroke-linejoin:miter;stroke-opacity:1\"/>\n",
       "<path class=\"bond-6\" d=\"M 320.542,279.463 L 324.789,269.883\" style=\"fill:none;fill-rule:evenodd;stroke:#000000;stroke-width:2.0px;stroke-linecap:butt;stroke-linejoin:miter;stroke-opacity:1\"/>\n",
       "<path class=\"bond-7\" d=\"M 320.542,279.463 L 310.295,281.659\" style=\"fill:none;fill-rule:evenodd;stroke:#000000;stroke-width:2.0px;stroke-linecap:butt;stroke-linejoin:miter;stroke-opacity:1\"/>\n",
       "<path class=\"bond-8\" d=\"M 310.295,281.659 L 309.217,292.084\" style=\"fill:none;fill-rule:evenodd;stroke:#000000;stroke-width:2.0px;stroke-linecap:butt;stroke-linejoin:miter;stroke-opacity:1\"/>\n",
       "<path class=\"bond-9\" d=\"M 309.217,292.084 L 300.15,297.339\" style=\"fill:none;fill-rule:evenodd;stroke:#000000;stroke-width:2.0px;stroke-linecap:butt;stroke-linejoin:miter;stroke-opacity:1\"/>\n",
       "<path class=\"bond-10\" d=\"M 300.15,297.339 L 296.419,295.193\" style=\"fill:none;fill-rule:evenodd;stroke:#000000;stroke-width:2.0px;stroke-linecap:butt;stroke-linejoin:miter;stroke-opacity:1\"/>\n",
       "<path class=\"bond-10\" d=\"M 296.419,295.193 L 292.689,293.048\" style=\"fill:none;fill-rule:evenodd;stroke:#CCCC00;stroke-width:2.0px;stroke-linecap:butt;stroke-linejoin:miter;stroke-opacity:1\"/>\n",
       "<path class=\"bond-11\" d=\"M 289.441,293.055 L 285.719,295.212\" style=\"fill:none;fill-rule:evenodd;stroke:#CCCC00;stroke-width:2.0px;stroke-linecap:butt;stroke-linejoin:miter;stroke-opacity:1\"/>\n",
       "<path class=\"bond-11\" d=\"M 285.719,295.212 L 281.998,297.369\" style=\"fill:none;fill-rule:evenodd;stroke:#000000;stroke-width:2.0px;stroke-linecap:butt;stroke-linejoin:miter;stroke-opacity:1\"/>\n",
       "<path class=\"bond-11\" d=\"M 289.376,295.515 L 286.77,297.025\" style=\"fill:none;fill-rule:evenodd;stroke:#CCCC00;stroke-width:2.0px;stroke-linecap:butt;stroke-linejoin:miter;stroke-opacity:1\"/>\n",
       "<path class=\"bond-11\" d=\"M 286.77,297.025 L 284.165,298.535\" style=\"fill:none;fill-rule:evenodd;stroke:#000000;stroke-width:2.0px;stroke-linecap:butt;stroke-linejoin:miter;stroke-opacity:1\"/>\n",
       "<path class=\"bond-12\" d=\"M 281.998,297.369 L 272.913,292.144\" style=\"fill:none;fill-rule:evenodd;stroke:#000000;stroke-width:2.0px;stroke-linecap:butt;stroke-linejoin:miter;stroke-opacity:1\"/>\n",
       "<path class=\"bond-13\" d=\"M 272.913,292.144 L 269.189,294.302\" style=\"fill:none;fill-rule:evenodd;stroke:#000000;stroke-width:2.0px;stroke-linecap:butt;stroke-linejoin:miter;stroke-opacity:1\"/>\n",
       "<path class=\"bond-13\" d=\"M 269.189,294.302 L 265.464,296.461\" style=\"fill:none;fill-rule:evenodd;stroke:#FF7F00;stroke-width:2.0px;stroke-linecap:butt;stroke-linejoin:miter;stroke-opacity:1\"/>\n",
       "<path class=\"bond-13\" d=\"M 272.847,294.605 L 270.24,296.116\" style=\"fill:none;fill-rule:evenodd;stroke:#000000;stroke-width:2.0px;stroke-linecap:butt;stroke-linejoin:miter;stroke-opacity:1\"/>\n",
       "<path class=\"bond-13\" d=\"M 270.24,296.116 L 267.633,297.627\" style=\"fill:none;fill-rule:evenodd;stroke:#FF7F00;stroke-width:2.0px;stroke-linecap:butt;stroke-linejoin:miter;stroke-opacity:1\"/>\n",
       "<path class=\"bond-14\" d=\"M 262.228,296.468 L 258.495,294.321\" style=\"fill:none;fill-rule:evenodd;stroke:#FF7F00;stroke-width:2.0px;stroke-linecap:butt;stroke-linejoin:miter;stroke-opacity:1\"/>\n",
       "<path class=\"bond-14\" d=\"M 258.495,294.321 L 254.762,292.174\" style=\"fill:none;fill-rule:evenodd;stroke:#000000;stroke-width:2.0px;stroke-linecap:butt;stroke-linejoin:miter;stroke-opacity:1\"/>\n",
       "<path class=\"atom-11\" d=\"M 289.865 293.572 Q 289.913 293.59, 290.111 293.674 Q 290.309 293.758, 290.525 293.812 Q 290.747 293.86, 290.963 293.86 Q 291.365 293.86, 291.599 293.668 Q 291.833 293.47, 291.833 293.128 Q 291.833 292.894, 291.713 292.75 Q 291.599 292.606, 291.419 292.528 Q 291.239 292.45, 290.939 292.36 Q 290.561 292.246, 290.333 292.138 Q 290.111 292.03, 289.949 291.802 Q 289.793 291.574, 289.793 291.19 Q 289.793 290.656, 290.153 290.326 Q 290.519 289.996, 291.239 289.996 Q 291.731 289.996, 292.289 290.23 L 292.151 290.692 Q 291.641 290.482, 291.257 290.482 Q 290.843 290.482, 290.615 290.656 Q 290.387 290.824, 290.393 291.118 Q 290.393 291.346, 290.507 291.484 Q 290.627 291.622, 290.795 291.7 Q 290.969 291.778, 291.257 291.868 Q 291.641 291.988, 291.869 292.108 Q 292.097 292.228, 292.259 292.474 Q 292.427 292.714, 292.427 293.128 Q 292.427 293.716, 292.031 294.034 Q 291.641 294.346, 290.987 294.346 Q 290.609 294.346, 290.321 294.262 Q 290.039 294.184, 289.703 294.046 L 289.865 293.572 \" fill=\"#CCCC00\"/>\n",
       "<path class=\"atom-11\" d=\"M 289.403 285.205 L 289.979 285.205 L 289.979 287.011 L 292.151 287.011 L 292.151 285.205 L 292.727 285.205 L 292.727 289.453 L 292.151 289.453 L 292.151 287.491 L 289.979 287.491 L 289.979 289.453 L 289.403 289.453 L 289.403 285.205 \" fill=\"#CCCC00\"/>\n",
       "<path class=\"atom-14\" d=\"M 263.744 295.275 Q 264.47 295.275, 264.836 295.605 Q 265.202 295.929, 265.202 296.523 Q 265.202 297.111, 264.824 297.447 Q 264.452 297.777, 263.744 297.777 L 263.066 297.777 L 263.066 299.523 L 262.49 299.523 L 262.49 295.275 L 263.744 295.275 M 263.744 297.297 Q 264.158 297.297, 264.38 297.099 Q 264.602 296.901, 264.602 296.523 Q 264.602 296.145, 264.38 295.953 Q 264.164 295.755, 263.744 295.755 L 263.066 295.755 L 263.066 297.297 L 263.744 297.297 \" fill=\"#FF7F00\"/>\n",
       "</svg>"
      ],
      "text/plain": [
       "<IPython.core.display.SVG object>"
      ]
     },
     "execution_count": 24,
     "metadata": {},
     "output_type": "execute_result"
    }
   ],
   "source": [
    "molecules = [Chem.MolFromSmiles(smi) for smi in smiles_hits]\n",
    "\n",
    "Draw.MolsToGridImage(molecules, subImgSize=(200,200), molsPerRow=3, useSVG=True)"
   ]
  },
  {
   "cell_type": "code",
   "execution_count": 25,
   "id": "448d2fe4",
   "metadata": {},
   "outputs": [],
   "source": [
    "X = mcw.transform(smiles_hits)\n",
    "Y_hits_pred, Y_hits_pred_std = regr.predict(X, return_std=True)"
   ]
  },
  {
   "cell_type": "code",
   "execution_count": 26,
   "id": "ab300ba3",
   "metadata": {},
   "outputs": [
    {
     "name": "stdout",
     "output_type": "stream",
     "text": [
      "['[C+]OC=NSC#CCN=CC(C)=CCCCCCC[SH](C)C=C', 'CCC[C-]CCCO[SH]=CBr', 'C=CCCCCCCC1(C)CCC1', 'CC[O+]CC=CCC([S-])CCC=CC#[P-]CCC=P#CCON=[O+]', 'CCCCC1CC(C)CC1C[SH]=CC=PC']\n",
      "[79.99764409 79.99977026 80.00012366 80.00119586 80.00440197]\n",
      "[2.92475196 2.87252118 2.86541747 2.8832036  3.02981123]\n"
     ]
    }
   ],
   "source": [
    "print(smiles_hits)\n",
    "print(Y_hits_pred)\n",
    "print(Y_hits_pred_std)"
   ]
  },
  {
   "cell_type": "markdown",
   "id": "db780108",
   "metadata": {},
   "source": [
    "Let us now try to design molecules with a RON specification of 120:"
   ]
  },
  {
   "cell_type": "code",
   "execution_count": 27,
   "id": "5b1dfadf",
   "metadata": {},
   "outputs": [],
   "source": [
    "%%capture\n",
    "smiles_hits, Y_hits_pred = library_evolver(smiles, regr, mcw, spec=120., n_hits=5)"
   ]
  },
  {
   "cell_type": "code",
   "execution_count": 28,
   "id": "dfa4575e",
   "metadata": {},
   "outputs": [
    {
     "data": {
      "image/svg+xml": [
       "<svg xmlns=\"http://www.w3.org/2000/svg\" xmlns:rdkit=\"http://www.rdkit.org/xml\" xmlns:xlink=\"http://www.w3.org/1999/xlink\" version=\"1.1\" baseProfile=\"full\" xml:space=\"preserve\" width=\"600px\" height=\"400px\" viewBox=\"0 0 600 400\">\n",
       "<!-- END OF HEADER -->\n",
       "<rect style=\"opacity:1.0;fill:#FFFFFF;stroke:none\" width=\"600\" height=\"400\" x=\"0\" y=\"0\"> </rect>\n",
       "<rect style=\"opacity:1.0;fill:#FFFFFF;stroke:none\" width=\"600\" height=\"400\" x=\"0\" y=\"0\"> </rect>\n",
       "<rect style=\"opacity:1.0;fill:#FFFFFF;stroke:none\" width=\"600\" height=\"400\" x=\"0\" y=\"0\"> </rect>\n",
       "<rect style=\"opacity:1.0;fill:#FFFFFF;stroke:none\" width=\"600\" height=\"400\" x=\"0\" y=\"0\"> </rect>\n",
       "<rect style=\"opacity:1.0;fill:#FFFFFF;stroke:none\" width=\"600\" height=\"400\" x=\"0\" y=\"0\"> </rect>\n",
       "<rect style=\"opacity:1.0;fill:#FFFFFF;stroke:none\" width=\"600\" height=\"400\" x=\"0\" y=\"0\"> </rect>\n",
       "<path class=\"bond-0\" d=\"M 81.2271,93.4419 L 132.379,93.4419\" style=\"fill:none;fill-rule:evenodd;stroke:#000000;stroke-width:2.0px;stroke-linecap:butt;stroke-linejoin:miter;stroke-opacity:1\"/>\n",
       "<path class=\"bond-0\" d=\"M 208.77,100.933 L 256.247,81.8956\" style=\"fill:none;fill-rule:evenodd;stroke:#000000;stroke-width:2.0px;stroke-linecap:butt;stroke-linejoin:miter;stroke-opacity:1\"/>\n",
       "<path class=\"bond-1\" d=\"M 256.247,81.8956 L 272.396,94.5804\" style=\"fill:none;fill-rule:evenodd;stroke:#000000;stroke-width:2.0px;stroke-linecap:butt;stroke-linejoin:miter;stroke-opacity:1\"/>\n",
       "<path class=\"bond-1\" d=\"M 272.396,94.5804 L 288.544,107.265\" style=\"fill:none;fill-rule:evenodd;stroke:#FF0000;stroke-width:2.0px;stroke-linecap:butt;stroke-linejoin:miter;stroke-opacity:1\"/>\n",
       "<path class=\"bond-2\" d=\"M 304.401,110.314 L 324.176,102.385\" style=\"fill:none;fill-rule:evenodd;stroke:#FF0000;stroke-width:2.0px;stroke-linecap:butt;stroke-linejoin:miter;stroke-opacity:1\"/>\n",
       "<path class=\"bond-2\" d=\"M 324.176,102.385 L 343.95,94.4557\" style=\"fill:none;fill-rule:evenodd;stroke:#000000;stroke-width:2.0px;stroke-linecap:butt;stroke-linejoin:miter;stroke-opacity:1\"/>\n",
       "<path class=\"bond-3\" d=\"M 349.014,95.1809 L 352.007,74.2777\" style=\"fill:none;fill-rule:evenodd;stroke:#000000;stroke-width:2.0px;stroke-linecap:butt;stroke-linejoin:miter;stroke-opacity:1\"/>\n",
       "<path class=\"bond-3\" d=\"M 352.007,74.2777 L 355.001,53.3746\" style=\"fill:none;fill-rule:evenodd;stroke:#FF0000;stroke-width:2.0px;stroke-linecap:butt;stroke-linejoin:miter;stroke-opacity:1\"/>\n",
       "<path class=\"bond-3\" d=\"M 338.887,93.7306 L 341.88,72.8274\" style=\"fill:none;fill-rule:evenodd;stroke:#000000;stroke-width:2.0px;stroke-linecap:butt;stroke-linejoin:miter;stroke-opacity:1\"/>\n",
       "<path class=\"bond-3\" d=\"M 341.88,72.8274 L 344.874,51.9242\" style=\"fill:none;fill-rule:evenodd;stroke:#FF0000;stroke-width:2.0px;stroke-linecap:butt;stroke-linejoin:miter;stroke-opacity:1\"/>\n",
       "<path class=\"bond-4\" d=\"M 343.95,94.4557 L 384.176,126.053\" style=\"fill:none;fill-rule:evenodd;stroke:#000000;stroke-width:2.0px;stroke-linecap:butt;stroke-linejoin:miter;stroke-opacity:1\"/>\n",
       "<path class=\"atom-2\" d=\"M 289.823 113.534 Q 289.823 110.056, 291.542 108.112 Q 293.261 106.168, 296.473 106.168 Q 299.685 106.168, 301.404 108.112 Q 303.123 110.056, 303.123 113.534 Q 303.123 117.053, 301.383 119.059 Q 299.644 121.043, 296.473 121.043 Q 293.281 121.043, 291.542 119.059 Q 289.823 117.074, 289.823 113.534 M 296.473 119.406 Q 298.683 119.406, 299.869 117.933 Q 301.077 116.44, 301.077 113.534 Q 301.077 110.69, 299.869 109.258 Q 298.683 107.805, 296.473 107.805 Q 294.263 107.805, 293.056 109.237 Q 291.869 110.67, 291.869 113.534 Q 291.869 116.46, 293.056 117.933 Q 294.263 119.406, 296.473 119.406 \" fill=\"#FF0000\"/>\n",
       "<path class=\"atom-4\" d=\"M 344.552 43.8615 Q 344.552 40.3832, 346.271 38.4394 Q 347.989 36.4957, 351.202 36.4957 Q 354.414 36.4957, 356.133 38.4394 Q 357.851 40.3832, 357.851 43.8615 Q 357.851 47.3808, 356.112 49.3859 Q 354.373 51.3706, 351.202 51.3706 Q 348.01 51.3706, 346.271 49.3859 Q 344.552 47.4012, 344.552 43.8615 M 351.202 49.7337 Q 353.411 49.7337, 354.598 48.2606 Q 355.805 46.7669, 355.805 43.8615 Q 355.805 41.0175, 354.598 39.5852 Q 353.411 38.1325, 351.202 38.1325 Q 348.992 38.1325, 347.785 39.5648 Q 346.598 40.997, 346.598 43.8615 Q 346.598 46.7874, 347.785 48.2606 Q 348.992 49.7337, 351.202 49.7337 \" fill=\"#FF0000\"/>\n",
       "<path class=\"bond-0\" d=\"M 458.736,35.6274 L 457.707,86.7688\" style=\"fill:none;fill-rule:evenodd;stroke:#000000;stroke-width:2.0px;stroke-linecap:butt;stroke-linejoin:miter;stroke-opacity:1\"/>\n",
       "<path class=\"bond-1\" d=\"M 457.707,86.7688 L 412.902,111.448\" style=\"fill:none;fill-rule:evenodd;stroke:#000000;stroke-width:2.0px;stroke-linecap:butt;stroke-linejoin:miter;stroke-opacity:1\"/>\n",
       "<path class=\"bond-2\" d=\"M 457.707,86.7688 L 501.481,113.231\" style=\"fill:none;fill-rule:evenodd;stroke:#000000;stroke-width:2.0px;stroke-linecap:butt;stroke-linejoin:miter;stroke-opacity:1\"/>\n",
       "<path class=\"bond-3\" d=\"M 501.481,113.231 L 500.452,164.373\" style=\"fill:none;fill-rule:evenodd;stroke:#000000;stroke-width:2.0px;stroke-linecap:butt;stroke-linejoin:miter;stroke-opacity:1\"/>\n",
       "<path class=\"bond-4\" d=\"M 501.481,113.231 L 546.286,88.5521\" style=\"fill:none;fill-rule:evenodd;stroke:#000000;stroke-width:2.0px;stroke-linecap:butt;stroke-linejoin:miter;stroke-opacity:1\"/>\n",
       "<path class=\"bond-5\" d=\"M 546.286,88.5521 L 570.965,133.357\" style=\"fill:none;fill-rule:evenodd;stroke:#000000;stroke-width:2.0px;stroke-linecap:butt;stroke-linejoin:miter;stroke-opacity:1\"/>\n",
       "<path class=\"bond-6\" d=\"M 546.286,88.5521 L 521.607,43.7476\" style=\"fill:none;fill-rule:evenodd;stroke:#000000;stroke-width:2.0px;stroke-linecap:butt;stroke-linejoin:miter;stroke-opacity:1\"/>\n",
       "<path class=\"bond-7\" d=\"M 546.286,88.5521 L 591.091,63.873\" style=\"fill:none;fill-rule:evenodd;stroke:#000000;stroke-width:2.0px;stroke-linecap:butt;stroke-linejoin:miter;stroke-opacity:1\"/>\n",
       "<path class=\"bond-0\" d=\"M 173.251,344.594 L 128.952,319.018\" style=\"fill:none;fill-rule:evenodd;stroke:#000000;stroke-width:2.0px;stroke-linecap:butt;stroke-linejoin:miter;stroke-opacity:1\"/>\n",
       "<path class=\"bond-1\" d=\"M 128.952,319.018 L 84.6536,344.594\" style=\"fill:none;fill-rule:evenodd;stroke:#000000;stroke-width:2.0px;stroke-linecap:butt;stroke-linejoin:miter;stroke-opacity:1\"/>\n",
       "<path class=\"bond-1\" d=\"M 117.192,313.994 L 86.1832,331.898\" style=\"fill:none;fill-rule:evenodd;stroke:#000000;stroke-width:2.0px;stroke-linecap:butt;stroke-linejoin:miter;stroke-opacity:1\"/>\n",
       "<path class=\"bond-7\" d=\"M 128.952,319.018 L 128.952,267.866\" style=\"fill:none;fill-rule:evenodd;stroke:#000000;stroke-width:2.0px;stroke-linecap:butt;stroke-linejoin:miter;stroke-opacity:1\"/>\n",
       "<path class=\"bond-2\" d=\"M 84.6536,344.594 L 40.3549,319.018\" style=\"fill:none;fill-rule:evenodd;stroke:#000000;stroke-width:2.0px;stroke-linecap:butt;stroke-linejoin:miter;stroke-opacity:1\"/>\n",
       "<path class=\"bond-3\" d=\"M 40.3549,319.018 L 40.3549,267.866\" style=\"fill:none;fill-rule:evenodd;stroke:#000000;stroke-width:2.0px;stroke-linecap:butt;stroke-linejoin:miter;stroke-opacity:1\"/>\n",
       "<path class=\"bond-3\" d=\"M 50.5852,311.345 L 50.5852,275.539\" style=\"fill:none;fill-rule:evenodd;stroke:#000000;stroke-width:2.0px;stroke-linecap:butt;stroke-linejoin:miter;stroke-opacity:1\"/>\n",
       "<path class=\"bond-4\" d=\"M 40.3549,267.866 L 84.6536,242.29\" style=\"fill:none;fill-rule:evenodd;stroke:#000000;stroke-width:2.0px;stroke-linecap:butt;stroke-linejoin:miter;stroke-opacity:1\"/>\n",
       "<path class=\"bond-5\" d=\"M 84.6536,242.29 L 128.952,267.866\" style=\"fill:none;fill-rule:evenodd;stroke:#000000;stroke-width:2.0px;stroke-linecap:butt;stroke-linejoin:miter;stroke-opacity:1\"/>\n",
       "<path class=\"bond-5\" d=\"M 86.1832,254.986 L 117.192,272.889\" style=\"fill:none;fill-rule:evenodd;stroke:#000000;stroke-width:2.0px;stroke-linecap:butt;stroke-linejoin:miter;stroke-opacity:1\"/>\n",
       "<path class=\"bond-6\" d=\"M 128.952,267.866 L 173.251,242.29\" style=\"fill:none;fill-rule:evenodd;stroke:#000000;stroke-width:2.0px;stroke-linecap:butt;stroke-linejoin:miter;stroke-opacity:1\"/>\n",
       "<path class=\"bond-0\" d=\"M 244.785,319.018 L 289.083,293.442\" style=\"fill:none;fill-rule:evenodd;stroke:#000000;stroke-width:2.0px;stroke-linecap:butt;stroke-linejoin:miter;stroke-opacity:1\"/>\n",
       "<path class=\"bond-1\" d=\"M 294.199,293.442 L 294.199,272.28\" style=\"fill:none;fill-rule:evenodd;stroke:#000000;stroke-width:2.0px;stroke-linecap:butt;stroke-linejoin:miter;stroke-opacity:1\"/>\n",
       "<path class=\"bond-1\" d=\"M 294.199,272.28 L 294.199,251.119\" style=\"fill:none;fill-rule:evenodd;stroke:#FF0000;stroke-width:2.0px;stroke-linecap:butt;stroke-linejoin:miter;stroke-opacity:1\"/>\n",
       "<path class=\"bond-1\" d=\"M 283.968,293.442 L 283.968,272.28\" style=\"fill:none;fill-rule:evenodd;stroke:#000000;stroke-width:2.0px;stroke-linecap:butt;stroke-linejoin:miter;stroke-opacity:1\"/>\n",
       "<path class=\"bond-1\" d=\"M 283.968,272.28 L 283.968,251.119\" style=\"fill:none;fill-rule:evenodd;stroke:#FF0000;stroke-width:2.0px;stroke-linecap:butt;stroke-linejoin:miter;stroke-opacity:1\"/>\n",
       "<path class=\"bond-2\" d=\"M 289.083,293.442 L 307.269,303.941\" style=\"fill:none;fill-rule:evenodd;stroke:#000000;stroke-width:2.0px;stroke-linecap:butt;stroke-linejoin:miter;stroke-opacity:1\"/>\n",
       "<path class=\"bond-2\" d=\"M 307.269,303.941 L 325.454,314.44\" style=\"fill:none;fill-rule:evenodd;stroke:#FF0000;stroke-width:2.0px;stroke-linecap:butt;stroke-linejoin:miter;stroke-opacity:1\"/>\n",
       "<path class=\"bond-3\" d=\"M 341.311,314.44 L 359.496,303.941\" style=\"fill:none;fill-rule:evenodd;stroke:#FF0000;stroke-width:2.0px;stroke-linecap:butt;stroke-linejoin:miter;stroke-opacity:1\"/>\n",
       "<path class=\"bond-3\" d=\"M 359.496,303.941 L 377.681,293.442\" style=\"fill:none;fill-rule:evenodd;stroke:#000000;stroke-width:2.0px;stroke-linecap:butt;stroke-linejoin:miter;stroke-opacity:1\"/>\n",
       "<path class=\"atom-2\" d=\"M 282.434 242.331 Q 282.434 238.853, 284.152 236.909 Q 285.871 234.965, 289.083 234.965 Q 292.296 234.965, 294.014 236.909 Q 295.733 238.853, 295.733 242.331 Q 295.733 245.85, 293.994 247.855 Q 292.255 249.84, 289.083 249.84 Q 285.892 249.84, 284.152 247.855 Q 282.434 245.871, 282.434 242.331 M 289.083 248.203 Q 291.293 248.203, 292.48 246.73 Q 293.687 245.236, 293.687 242.331 Q 293.687 239.487, 292.48 238.055 Q 291.293 236.602, 289.083 236.602 Q 286.874 236.602, 285.667 238.034 Q 284.48 239.467, 284.48 242.331 Q 284.48 245.257, 285.667 246.73 Q 286.874 248.203, 289.083 248.203 \" fill=\"#FF0000\"/>\n",
       "<path class=\"atom-3\" d=\"M 326.732 319.059 Q 326.732 315.58, 328.451 313.637 Q 330.17 311.693, 333.382 311.693 Q 336.595 311.693, 338.313 313.637 Q 340.032 315.58, 340.032 319.059 Q 340.032 322.578, 338.293 324.583 Q 336.554 326.568, 333.382 326.568 Q 330.19 326.568, 328.451 324.583 Q 326.732 322.598, 326.732 319.059 M 333.382 324.931 Q 335.592 324.931, 336.779 323.458 Q 337.986 321.964, 337.986 319.059 Q 337.986 316.215, 336.779 314.782 Q 335.592 313.33, 333.382 313.33 Q 331.172 313.33, 329.965 314.762 Q 328.779 316.194, 328.779 319.059 Q 328.779 321.985, 329.965 323.458 Q 331.172 324.931, 333.382 324.931 \" fill=\"#FF0000\"/>\n",
       "</svg>"
      ],
      "text/plain": [
       "<IPython.core.display.SVG object>"
      ]
     },
     "execution_count": 28,
     "metadata": {},
     "output_type": "execute_result"
    }
   ],
   "source": [
    "molecules = [Chem.MolFromSmiles(smi) for smi in smiles_hits]\n",
    "\n",
    "Draw.MolsToGridImage(molecules, subImgSize=(200,200), molsPerRow=3, useSVG=True)"
   ]
  },
  {
   "cell_type": "code",
   "execution_count": 29,
   "id": "83e1772c",
   "metadata": {},
   "outputs": [],
   "source": [
    "X = mcw.transform(smiles_hits)\n",
    "Y_hits_pred, Y_hits_pred_std = regr.predict(X, return_std=True)"
   ]
  },
  {
   "cell_type": "code",
   "execution_count": 30,
   "id": "7eeec8d7",
   "metadata": {},
   "outputs": [
    {
     "name": "stdout",
     "output_type": "stream",
     "text": [
      "['CC', 'CCOC(=O)C', 'CC(C)C(C)C(C)(C)C', 'CC1=CC=CC=C1C', 'CC(=O)OC']\n",
      "[115.4210643  115.62406096 116.05603511 119.51765992 119.61420727]\n",
      "[3.59496995 3.50412822 3.59485002 3.82209182 3.65658289]\n"
     ]
    }
   ],
   "source": [
    "print(smiles_hits)\n",
    "print(Y_hits_pred)\n",
    "print(Y_hits_pred_std)"
   ]
  },
  {
   "cell_type": "markdown",
   "id": "fe732578",
   "metadata": {},
   "source": [
    "### Multi-objective optimization in molecular recommendation"
   ]
  },
  {
   "cell_type": "markdown",
   "id": "aaf01c06",
   "metadata": {},
   "source": [
    "We can also design molecules aiming to meet several specifications simultaneously. \n",
    "\n",
    "In the next example, we will encourage the recommendation of molecules whose property value is predicted with higher confidence and that have a better Synthetic Accessibility (SA) score. The SA score takes values greater than one, with smaller values indicating better synthetic accessibility. \n",
    "\n",
    "We define a custome objective function `f`, which returns a weighted sum of 1) the difference from the desired specification (in this case RON = 40.), 2) the prediction uncertainty, and 3) the SA score. Then we ask the `library_evolver` to try to make it zero, which will minimize the objective function."
   ]
  },
  {
   "cell_type": "code",
   "execution_count": 31,
   "id": "ac6c2256",
   "metadata": {},
   "outputs": [],
   "source": [
    "def SAscore_calc(smi):\n",
    "    return [sascorer.calculateScore(Chem.MolFromSmiles(s)) for s in smi]\n",
    "\n",
    "def F(smi, mcw, setpoint):\n",
    "    X = mcw.transform(smi)\n",
    "    Y_pred, Y_pred_std = regr.predict(X, return_std=True)\n",
    "        \n",
    "    SAScores = SAscore_calc(smi)\n",
    "    SAScores = np.array(SAScores)\n",
    "    \n",
    "    FO = np.abs(Y_pred - setpoint) + 1.*(Y_pred_std) + 2.*SAScores\n",
    "    return FO\n",
    "\n",
    "f = lambda smi: F(smi, mcw, setpoint=120.)"
   ]
  },
  {
   "cell_type": "markdown",
   "id": "9c45c8c2",
   "metadata": {},
   "source": [
    "Note that since the function `f` directly featurizes the SMILES molecules itself using `mcw`, we do not need the featurizer when calling `library_evolver` (`mcw=None`):"
   ]
  },
  {
   "cell_type": "code",
   "execution_count": 32,
   "id": "ff237fe0",
   "metadata": {},
   "outputs": [],
   "source": [
    "%%capture\n",
    "smiles_hits, Y_hits_pred = library_evolver(smiles, f, mcw=None, spec=0., n_hits=5, n_rounds=8)"
   ]
  },
  {
   "cell_type": "code",
   "execution_count": 33,
   "id": "fa4824a6",
   "metadata": {},
   "outputs": [],
   "source": [
    "X = mcw.transform(smiles_hits)\n",
    "Y_hits_pred, Y_hits_pred_std = regr.predict(X, return_std=True)"
   ]
  },
  {
   "cell_type": "code",
   "execution_count": 34,
   "id": "7c4e2f68",
   "metadata": {},
   "outputs": [
    {
     "name": "stdout",
     "output_type": "stream",
     "text": [
      "['CC1=CC=CC=C1C', 'CC(=O)OC', 'COC(C)=O', 'CCOC(=O)C', 'CCOC(C)=O']\n",
      "[119.51765992 119.61420727 119.61420727 115.62406096 115.62406096]\n",
      "[3.82209182 3.65658289 3.65658289 3.50412822 3.50412822]\n",
      "[1.0337432953498862, 1.7363164941764762, 1.7363164941764762, 1.7562997790553911, 1.7562997790553911]\n"
     ]
    }
   ],
   "source": [
    "print(smiles_hits)\n",
    "print(Y_hits_pred)\n",
    "print(Y_hits_pred_std)\n",
    "print(SAscore_calc(smiles_hits))"
   ]
  },
  {
   "cell_type": "markdown",
   "id": "59dd6310",
   "metadata": {},
   "source": [
    "The point estimates for the RON of these molecules are not as close to the desired specification as in the design example above, but the prediction errors are smaller and the SA scores are low (close to 1)."
   ]
  },
  {
   "cell_type": "code",
   "execution_count": 35,
   "id": "70a750db",
   "metadata": {
    "scrolled": true
   },
   "outputs": [
    {
     "data": {
      "image/svg+xml": [
       "<svg xmlns=\"http://www.w3.org/2000/svg\" xmlns:rdkit=\"http://www.rdkit.org/xml\" xmlns:xlink=\"http://www.w3.org/1999/xlink\" version=\"1.1\" baseProfile=\"full\" xml:space=\"preserve\" width=\"600px\" height=\"400px\" viewBox=\"0 0 600 400\">\n",
       "<!-- END OF HEADER -->\n",
       "<rect style=\"opacity:1.0;fill:#FFFFFF;stroke:none\" width=\"600\" height=\"400\" x=\"0\" y=\"0\"> </rect>\n",
       "<rect style=\"opacity:1.0;fill:#FFFFFF;stroke:none\" width=\"600\" height=\"400\" x=\"0\" y=\"0\"> </rect>\n",
       "<rect style=\"opacity:1.0;fill:#FFFFFF;stroke:none\" width=\"600\" height=\"400\" x=\"0\" y=\"0\"> </rect>\n",
       "<rect style=\"opacity:1.0;fill:#FFFFFF;stroke:none\" width=\"600\" height=\"400\" x=\"0\" y=\"0\"> </rect>\n",
       "<rect style=\"opacity:1.0;fill:#FFFFFF;stroke:none\" width=\"600\" height=\"400\" x=\"0\" y=\"0\"> </rect>\n",
       "<rect style=\"opacity:1.0;fill:#FFFFFF;stroke:none\" width=\"600\" height=\"400\" x=\"0\" y=\"0\"> </rect>\n",
       "<path class=\"bond-0\" d=\"M 179.585,152.905 L 133.667,126.394\" style=\"fill:none;fill-rule:evenodd;stroke:#000000;stroke-width:2.0px;stroke-linecap:butt;stroke-linejoin:miter;stroke-opacity:1\"/>\n",
       "<path class=\"bond-1\" d=\"M 133.667,126.394 L 87.7486,152.905\" style=\"fill:none;fill-rule:evenodd;stroke:#000000;stroke-width:2.0px;stroke-linecap:butt;stroke-linejoin:miter;stroke-opacity:1\"/>\n",
       "<path class=\"bond-1\" d=\"M 121.477,121.187 L 89.3341,139.745\" style=\"fill:none;fill-rule:evenodd;stroke:#000000;stroke-width:2.0px;stroke-linecap:butt;stroke-linejoin:miter;stroke-opacity:1\"/>\n",
       "<path class=\"bond-7\" d=\"M 133.667,126.394 L 133.667,73.3724\" style=\"fill:none;fill-rule:evenodd;stroke:#000000;stroke-width:2.0px;stroke-linecap:butt;stroke-linejoin:miter;stroke-opacity:1\"/>\n",
       "<path class=\"bond-2\" d=\"M 87.7486,152.905 L 41.8303,126.394\" style=\"fill:none;fill-rule:evenodd;stroke:#000000;stroke-width:2.0px;stroke-linecap:butt;stroke-linejoin:miter;stroke-opacity:1\"/>\n",
       "<path class=\"bond-3\" d=\"M 41.8303,126.394 L 41.8303,73.3724\" style=\"fill:none;fill-rule:evenodd;stroke:#000000;stroke-width:2.0px;stroke-linecap:butt;stroke-linejoin:miter;stroke-opacity:1\"/>\n",
       "<path class=\"bond-3\" d=\"M 52.4346,118.441 L 52.4346,81.3257\" style=\"fill:none;fill-rule:evenodd;stroke:#000000;stroke-width:2.0px;stroke-linecap:butt;stroke-linejoin:miter;stroke-opacity:1\"/>\n",
       "<path class=\"bond-4\" d=\"M 41.8303,73.3724 L 87.7486,46.8614\" style=\"fill:none;fill-rule:evenodd;stroke:#000000;stroke-width:2.0px;stroke-linecap:butt;stroke-linejoin:miter;stroke-opacity:1\"/>\n",
       "<path class=\"bond-5\" d=\"M 87.7486,46.8614 L 133.667,73.3724\" style=\"fill:none;fill-rule:evenodd;stroke:#000000;stroke-width:2.0px;stroke-linecap:butt;stroke-linejoin:miter;stroke-opacity:1\"/>\n",
       "<path class=\"bond-5\" d=\"M 89.3341,60.0218 L 121.477,78.5794\" style=\"fill:none;fill-rule:evenodd;stroke:#000000;stroke-width:2.0px;stroke-linecap:butt;stroke-linejoin:miter;stroke-opacity:1\"/>\n",
       "<path class=\"bond-6\" d=\"M 133.667,73.3724 L 179.585,46.8614\" style=\"fill:none;fill-rule:evenodd;stroke:#000000;stroke-width:2.0px;stroke-linecap:butt;stroke-linejoin:miter;stroke-opacity:1\"/>\n",
       "<path class=\"bond-0\" d=\"M 246.422,126.394 L 292.34,99.8834\" style=\"fill:none;fill-rule:evenodd;stroke:#000000;stroke-width:2.0px;stroke-linecap:butt;stroke-linejoin:miter;stroke-opacity:1\"/>\n",
       "<path class=\"bond-1\" d=\"M 297.643,99.8834 L 297.643,77.9482\" style=\"fill:none;fill-rule:evenodd;stroke:#000000;stroke-width:2.0px;stroke-linecap:butt;stroke-linejoin:miter;stroke-opacity:1\"/>\n",
       "<path class=\"bond-1\" d=\"M 297.643,77.9482 L 297.643,56.013\" style=\"fill:none;fill-rule:evenodd;stroke:#FF0000;stroke-width:2.0px;stroke-linecap:butt;stroke-linejoin:miter;stroke-opacity:1\"/>\n",
       "<path class=\"bond-1\" d=\"M 287.038,99.8834 L 287.038,77.9482\" style=\"fill:none;fill-rule:evenodd;stroke:#000000;stroke-width:2.0px;stroke-linecap:butt;stroke-linejoin:miter;stroke-opacity:1\"/>\n",
       "<path class=\"bond-1\" d=\"M 287.038,77.9482 L 287.038,56.013\" style=\"fill:none;fill-rule:evenodd;stroke:#FF0000;stroke-width:2.0px;stroke-linecap:butt;stroke-linejoin:miter;stroke-opacity:1\"/>\n",
       "<path class=\"bond-2\" d=\"M 292.34,99.8834 L 311.19,110.766\" style=\"fill:none;fill-rule:evenodd;stroke:#000000;stroke-width:2.0px;stroke-linecap:butt;stroke-linejoin:miter;stroke-opacity:1\"/>\n",
       "<path class=\"bond-2\" d=\"M 311.19,110.766 L 330.04,121.649\" style=\"fill:none;fill-rule:evenodd;stroke:#FF0000;stroke-width:2.0px;stroke-linecap:butt;stroke-linejoin:miter;stroke-opacity:1\"/>\n",
       "<path class=\"bond-3\" d=\"M 346.477,121.649 L 365.327,110.766\" style=\"fill:none;fill-rule:evenodd;stroke:#FF0000;stroke-width:2.0px;stroke-linecap:butt;stroke-linejoin:miter;stroke-opacity:1\"/>\n",
       "<path class=\"bond-3\" d=\"M 365.327,110.766 L 384.177,99.8834\" style=\"fill:none;fill-rule:evenodd;stroke:#000000;stroke-width:2.0px;stroke-linecap:butt;stroke-linejoin:miter;stroke-opacity:1\"/>\n",
       "<path class=\"atom-2\" d=\"M 285.448 46.9039 Q 285.448 43.2984, 287.229 41.2835 Q 289.011 39.2687, 292.34 39.2687 Q 295.67 39.2687, 297.452 41.2835 Q 299.233 43.2984, 299.233 46.9039 Q 299.233 50.5518, 297.431 52.6302 Q 295.628 54.6875, 292.34 54.6875 Q 289.032 54.6875, 287.229 52.6302 Q 285.448 50.573, 285.448 46.9039 M 292.34 52.9908 Q 294.631 52.9908, 295.861 51.4637 Q 297.112 49.9155, 297.112 46.9039 Q 297.112 43.9558, 295.861 42.4712 Q 294.631 40.9654, 292.34 40.9654 Q 290.05 40.9654, 288.799 42.45 Q 287.568 43.9346, 287.568 46.9039 Q 287.568 49.9367, 288.799 51.4637 Q 290.05 52.9908, 292.34 52.9908 \" fill=\"#FF0000\"/>\n",
       "<path class=\"atom-3\" d=\"M 331.366 126.437 Q 331.366 122.831, 333.147 120.816 Q 334.929 118.802, 338.259 118.802 Q 341.589 118.802, 343.37 120.816 Q 345.152 122.831, 345.152 126.437 Q 345.152 130.085, 343.349 132.163 Q 341.546 134.22, 338.259 134.22 Q 334.95 134.22, 333.147 132.163 Q 331.366 130.106, 331.366 126.437 M 338.259 132.524 Q 340.549 132.524, 341.779 130.997 Q 343.031 129.448, 343.031 126.437 Q 343.031 123.489, 341.779 122.004 Q 340.549 120.498, 338.259 120.498 Q 335.968 120.498, 334.717 121.983 Q 333.487 123.467, 333.487 126.437 Q 333.487 129.47, 334.717 130.997 Q 335.968 132.524, 338.259 132.524 \" fill=\"#FF0000\"/>\n",
       "<path class=\"bond-0\" d=\"M 437.238,99.8834 L 456.088,89.0003\" style=\"fill:none;fill-rule:evenodd;stroke:#000000;stroke-width:2.0px;stroke-linecap:butt;stroke-linejoin:miter;stroke-opacity:1\"/>\n",
       "<path class=\"bond-0\" d=\"M 456.088,89.0003 L 474.938,78.1173\" style=\"fill:none;fill-rule:evenodd;stroke:#FF0000;stroke-width:2.0px;stroke-linecap:butt;stroke-linejoin:miter;stroke-opacity:1\"/>\n",
       "<path class=\"bond-1\" d=\"M 491.375,78.1173 L 510.225,89.0003\" style=\"fill:none;fill-rule:evenodd;stroke:#FF0000;stroke-width:2.0px;stroke-linecap:butt;stroke-linejoin:miter;stroke-opacity:1\"/>\n",
       "<path class=\"bond-1\" d=\"M 510.225,89.0003 L 529.075,99.8834\" style=\"fill:none;fill-rule:evenodd;stroke:#000000;stroke-width:2.0px;stroke-linecap:butt;stroke-linejoin:miter;stroke-opacity:1\"/>\n",
       "<path class=\"bond-2\" d=\"M 529.075,99.8834 L 574.993,73.3724\" style=\"fill:none;fill-rule:evenodd;stroke:#000000;stroke-width:2.0px;stroke-linecap:butt;stroke-linejoin:miter;stroke-opacity:1\"/>\n",
       "<path class=\"bond-3\" d=\"M 523.773,99.8834 L 523.773,121.935\" style=\"fill:none;fill-rule:evenodd;stroke:#000000;stroke-width:2.0px;stroke-linecap:butt;stroke-linejoin:miter;stroke-opacity:1\"/>\n",
       "<path class=\"bond-3\" d=\"M 523.773,121.935 L 523.773,143.987\" style=\"fill:none;fill-rule:evenodd;stroke:#FF0000;stroke-width:2.0px;stroke-linecap:butt;stroke-linejoin:miter;stroke-opacity:1\"/>\n",
       "<path class=\"bond-3\" d=\"M 534.377,99.8834 L 534.377,121.935\" style=\"fill:none;fill-rule:evenodd;stroke:#000000;stroke-width:2.0px;stroke-linecap:butt;stroke-linejoin:miter;stroke-opacity:1\"/>\n",
       "<path class=\"bond-3\" d=\"M 534.377,121.935 L 534.377,143.987\" style=\"fill:none;fill-rule:evenodd;stroke:#FF0000;stroke-width:2.0px;stroke-linecap:butt;stroke-linejoin:miter;stroke-opacity:1\"/>\n",
       "<path class=\"atom-1\" d=\"M 476.264 73.4148 Q 476.264 69.8093, 478.045 67.7945 Q 479.827 65.7797, 483.157 65.7797 Q 486.487 65.7797, 488.268 67.7945 Q 490.05 69.8093, 490.05 73.4148 Q 490.05 77.0627, 488.247 79.1412 Q 486.444 81.1984, 483.157 81.1984 Q 479.848 81.1984, 478.045 79.1412 Q 476.264 77.0839, 476.264 73.4148 M 483.157 79.5017 Q 485.447 79.5017, 486.677 77.9747 Q 487.929 76.4265, 487.929 73.4148 Q 487.929 70.4668, 486.677 68.9822 Q 485.447 67.4764, 483.157 67.4764 Q 480.866 67.4764, 479.615 68.961 Q 478.385 70.4456, 478.385 73.4148 Q 478.385 76.4477, 479.615 77.9747 Q 480.866 79.5017, 483.157 79.5017 \" fill=\"#FF0000\"/>\n",
       "<path class=\"atom-4\" d=\"M 522.182 152.948 Q 522.182 149.342, 523.964 147.327 Q 525.745 145.313, 529.075 145.313 Q 532.405 145.313, 534.186 147.327 Q 535.968 149.342, 535.968 152.948 Q 535.968 156.596, 534.165 158.674 Q 532.362 160.731, 529.075 160.731 Q 525.766 160.731, 523.964 158.674 Q 522.182 156.617, 522.182 152.948 M 529.075 159.035 Q 531.366 159.035, 532.596 157.508 Q 533.847 155.959, 533.847 152.948 Q 533.847 150, 532.596 148.515 Q 531.366 147.009, 529.075 147.009 Q 526.785 147.009, 525.533 148.494 Q 524.303 149.978, 524.303 152.948 Q 524.303 155.981, 525.533 157.508 Q 526.785 159.035, 529.075 159.035 \" fill=\"#FF0000\"/>\n",
       "<path class=\"bond-0\" d=\"M 9.09091,307.648 L 58.3038,287.915\" style=\"fill:none;fill-rule:evenodd;stroke:#000000;stroke-width:2.0px;stroke-linecap:butt;stroke-linejoin:miter;stroke-opacity:1\"/>\n",
       "<path class=\"bond-1\" d=\"M 58.3038,287.915 L 75.0427,301.063\" style=\"fill:none;fill-rule:evenodd;stroke:#000000;stroke-width:2.0px;stroke-linecap:butt;stroke-linejoin:miter;stroke-opacity:1\"/>\n",
       "<path class=\"bond-1\" d=\"M 75.0427,301.063 L 91.7816,314.212\" style=\"fill:none;fill-rule:evenodd;stroke:#FF0000;stroke-width:2.0px;stroke-linecap:butt;stroke-linejoin:miter;stroke-opacity:1\"/>\n",
       "<path class=\"bond-2\" d=\"M 108.218,317.372 L 128.716,309.153\" style=\"fill:none;fill-rule:evenodd;stroke:#FF0000;stroke-width:2.0px;stroke-linecap:butt;stroke-linejoin:miter;stroke-opacity:1\"/>\n",
       "<path class=\"bond-2\" d=\"M 128.716,309.153 L 149.213,300.934\" style=\"fill:none;fill-rule:evenodd;stroke:#000000;stroke-width:2.0px;stroke-linecap:butt;stroke-linejoin:miter;stroke-opacity:1\"/>\n",
       "<path class=\"bond-3\" d=\"M 154.462,301.686 L 157.565,280.019\" style=\"fill:none;fill-rule:evenodd;stroke:#000000;stroke-width:2.0px;stroke-linecap:butt;stroke-linejoin:miter;stroke-opacity:1\"/>\n",
       "<path class=\"bond-3\" d=\"M 157.565,280.019 L 160.668,258.351\" style=\"fill:none;fill-rule:evenodd;stroke:#FF0000;stroke-width:2.0px;stroke-linecap:butt;stroke-linejoin:miter;stroke-opacity:1\"/>\n",
       "<path class=\"bond-3\" d=\"M 143.964,300.183 L 147.067,278.515\" style=\"fill:none;fill-rule:evenodd;stroke:#000000;stroke-width:2.0px;stroke-linecap:butt;stroke-linejoin:miter;stroke-opacity:1\"/>\n",
       "<path class=\"bond-3\" d=\"M 147.067,278.515 L 150.17,256.848\" style=\"fill:none;fill-rule:evenodd;stroke:#FF0000;stroke-width:2.0px;stroke-linecap:butt;stroke-linejoin:miter;stroke-opacity:1\"/>\n",
       "<path class=\"bond-4\" d=\"M 149.213,300.934 L 190.909,333.687\" style=\"fill:none;fill-rule:evenodd;stroke:#000000;stroke-width:2.0px;stroke-linecap:butt;stroke-linejoin:miter;stroke-opacity:1\"/>\n",
       "<path class=\"atom-2\" d=\"M 93.1072 320.71 Q 93.1072 317.105, 94.8887 315.09 Q 96.6702 313.075, 100 313.075 Q 103.33 313.075, 105.111 315.09 Q 106.893 317.105, 106.893 320.71 Q 106.893 324.358, 105.09 326.437 Q 103.287 328.494, 100 328.494 Q 96.6914 328.494, 94.8887 326.437 Q 93.1072 324.379, 93.1072 320.71 M 100 326.797 Q 102.291 326.797, 103.521 325.27 Q 104.772 323.722, 104.772 320.71 Q 104.772 317.762, 103.521 316.278 Q 102.291 314.772, 100 314.772 Q 97.7095 314.772, 96.4581 316.256 Q 95.228 317.741, 95.228 320.71 Q 95.228 323.743, 96.4581 325.27 Q 97.7095 326.797, 100 326.797 \" fill=\"#FF0000\"/>\n",
       "<path class=\"atom-4\" d=\"M 149.837 248.49 Q 149.837 244.885, 151.618 242.87 Q 153.4 240.855, 156.73 240.855 Q 160.059 240.855, 161.841 242.87 Q 163.623 244.885, 163.623 248.49 Q 163.623 252.138, 161.82 254.217 Q 160.017 256.274, 156.73 256.274 Q 153.421 256.274, 151.618 254.217 Q 149.837 252.159, 149.837 248.49 M 156.73 254.577 Q 159.02 254.577, 160.25 253.05 Q 161.502 251.502, 161.502 248.49 Q 161.502 245.542, 160.25 244.058 Q 159.02 242.552, 156.73 242.552 Q 154.439 242.552, 153.188 244.036 Q 151.958 245.521, 151.958 248.49 Q 151.958 251.523, 153.188 253.05 Q 154.439 254.577, 156.73 254.577 \" fill=\"#FF0000\"/>\n",
       "<path class=\"bond-0\" d=\"M 209.091,307.648 L 258.304,287.915\" style=\"fill:none;fill-rule:evenodd;stroke:#000000;stroke-width:2.0px;stroke-linecap:butt;stroke-linejoin:miter;stroke-opacity:1\"/>\n",
       "<path class=\"bond-1\" d=\"M 258.304,287.915 L 275.043,301.063\" style=\"fill:none;fill-rule:evenodd;stroke:#000000;stroke-width:2.0px;stroke-linecap:butt;stroke-linejoin:miter;stroke-opacity:1\"/>\n",
       "<path class=\"bond-1\" d=\"M 275.043,301.063 L 291.782,314.212\" style=\"fill:none;fill-rule:evenodd;stroke:#FF0000;stroke-width:2.0px;stroke-linecap:butt;stroke-linejoin:miter;stroke-opacity:1\"/>\n",
       "<path class=\"bond-2\" d=\"M 308.218,317.372 L 328.716,309.153\" style=\"fill:none;fill-rule:evenodd;stroke:#FF0000;stroke-width:2.0px;stroke-linecap:butt;stroke-linejoin:miter;stroke-opacity:1\"/>\n",
       "<path class=\"bond-2\" d=\"M 328.716,309.153 L 349.213,300.934\" style=\"fill:none;fill-rule:evenodd;stroke:#000000;stroke-width:2.0px;stroke-linecap:butt;stroke-linejoin:miter;stroke-opacity:1\"/>\n",
       "<path class=\"bond-3\" d=\"M 349.213,300.934 L 390.909,333.687\" style=\"fill:none;fill-rule:evenodd;stroke:#000000;stroke-width:2.0px;stroke-linecap:butt;stroke-linejoin:miter;stroke-opacity:1\"/>\n",
       "<path class=\"bond-4\" d=\"M 354.462,301.686 L 357.565,280.019\" style=\"fill:none;fill-rule:evenodd;stroke:#000000;stroke-width:2.0px;stroke-linecap:butt;stroke-linejoin:miter;stroke-opacity:1\"/>\n",
       "<path class=\"bond-4\" d=\"M 357.565,280.019 L 360.668,258.351\" style=\"fill:none;fill-rule:evenodd;stroke:#FF0000;stroke-width:2.0px;stroke-linecap:butt;stroke-linejoin:miter;stroke-opacity:1\"/>\n",
       "<path class=\"bond-4\" d=\"M 343.964,300.183 L 347.067,278.515\" style=\"fill:none;fill-rule:evenodd;stroke:#000000;stroke-width:2.0px;stroke-linecap:butt;stroke-linejoin:miter;stroke-opacity:1\"/>\n",
       "<path class=\"bond-4\" d=\"M 347.067,278.515 L 350.17,256.848\" style=\"fill:none;fill-rule:evenodd;stroke:#FF0000;stroke-width:2.0px;stroke-linecap:butt;stroke-linejoin:miter;stroke-opacity:1\"/>\n",
       "<path class=\"atom-2\" d=\"M 293.107 320.71 Q 293.107 317.105, 294.889 315.09 Q 296.67 313.075, 300 313.075 Q 303.33 313.075, 305.111 315.09 Q 306.893 317.105, 306.893 320.71 Q 306.893 324.358, 305.09 326.437 Q 303.287 328.494, 300 328.494 Q 296.691 328.494, 294.889 326.437 Q 293.107 324.379, 293.107 320.71 M 300 326.797 Q 302.291 326.797, 303.521 325.27 Q 304.772 323.722, 304.772 320.71 Q 304.772 317.762, 303.521 316.278 Q 302.291 314.772, 300 314.772 Q 297.709 314.772, 296.458 316.256 Q 295.228 317.741, 295.228 320.71 Q 295.228 323.743, 296.458 325.27 Q 297.709 326.797, 300 326.797 \" fill=\"#FF0000\"/>\n",
       "<path class=\"atom-5\" d=\"M 349.837 248.49 Q 349.837 244.885, 351.618 242.87 Q 353.4 240.855, 356.73 240.855 Q 360.059 240.855, 361.841 242.87 Q 363.623 244.885, 363.623 248.49 Q 363.623 252.138, 361.82 254.217 Q 360.017 256.274, 356.73 256.274 Q 353.421 256.274, 351.618 254.217 Q 349.837 252.159, 349.837 248.49 M 356.73 254.577 Q 359.02 254.577, 360.25 253.05 Q 361.502 251.502, 361.502 248.49 Q 361.502 245.542, 360.25 244.058 Q 359.02 242.552, 356.73 242.552 Q 354.439 242.552, 353.188 244.036 Q 351.958 245.521, 351.958 248.49 Q 351.958 251.523, 353.188 253.05 Q 354.439 254.577, 356.73 254.577 \" fill=\"#FF0000\"/>\n",
       "</svg>"
      ],
      "text/plain": [
       "<IPython.core.display.SVG object>"
      ]
     },
     "execution_count": 35,
     "metadata": {},
     "output_type": "execute_result"
    }
   ],
   "source": [
    "molecules = [Chem.MolFromSmiles(smi) for smi in smiles_hits]\n",
    "\n",
    "Draw.MolsToGridImage(molecules, subImgSize=(200,200), molsPerRow=3, useSVG=True)"
   ]
  },
  {
   "cell_type": "code",
   "execution_count": null,
   "id": "7b378b6a-f45a-4a4f-a463-10ad8f617bf2",
   "metadata": {},
   "outputs": [],
   "source": []
  }
 ],
 "metadata": {
  "kernelspec": {
   "display_name": "Python 3 (ipykernel)",
   "language": "python",
   "name": "python3"
  },
  "language_info": {
   "codemirror_mode": {
    "name": "ipython",
    "version": 3
   },
   "file_extension": ".py",
   "mimetype": "text/x-python",
   "name": "python",
   "nbconvert_exporter": "python",
   "pygments_lexer": "ipython3",
   "version": "3.9.7"
  }
 },
 "nbformat": 4,
 "nbformat_minor": 5
}
