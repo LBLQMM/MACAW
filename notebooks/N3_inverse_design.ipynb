{
 "cells": [
  {
   "cell_type": "markdown",
   "id": "9e32d88e",
   "metadata": {},
   "source": [
    "# Notebook 3 - Inverse design: molecules on specification"
   ]
  },
  {
   "cell_type": "markdown",
   "id": "46f8ff1a",
   "metadata": {},
   "source": [
    "By Vincent Blay, December 2021"
   ]
  },
  {
   "cell_type": "markdown",
   "id": "ea0af0e7",
   "metadata": {},
   "source": [
    "In this notebook we demonstrate two approaches to the generation of new molecules with a desired property specification by leveraging MACAW embeddings. \n",
    "\n",
    "In the first approach we generate a single large library throughout the MACAW embedding space and then retrieve promising molecules using the `hit_finder` functions.\n",
    "\n",
    "In the second approach we generate a series of small libraries using an evolutionary strategy using the `directed_molecular_evolution` function.\n",
    "\n",
    "In both cases, the user is returned a list of promising SMILES molecules and their predicted property values."
   ]
  },
  {
   "cell_type": "code",
   "execution_count": 1,
   "id": "d3b44194",
   "metadata": {},
   "outputs": [
    {
     "name": "stdout",
     "output_type": "stream",
     "text": [
      "0.1.14\n"
     ]
    }
   ],
   "source": [
    "import numpy as np\n",
    "import pandas as pd\n",
    "import pickle\n",
    "\n",
    "#Needed to show molecules\n",
    "from rdkit import Chem\n",
    "from rdkit.Chem import Draw\n",
    "from rdkit.Chem.Draw import IPythonConsole \n",
    "\n",
    "import macaw\n",
    "print(macaw.__version__)\n",
    "\n",
    "from macaw import *"
   ]
  },
  {
   "cell_type": "code",
   "execution_count": 2,
   "id": "88a7f9c1",
   "metadata": {},
   "outputs": [],
   "source": [
    "%config InlineBackend.figure_format = 'retina'"
   ]
  },
  {
   "cell_type": "code",
   "execution_count": 3,
   "id": "689bfc49",
   "metadata": {},
   "outputs": [],
   "source": [
    "np.random.seed(123)"
   ]
  },
  {
   "cell_type": "markdown",
   "id": "767b8da9",
   "metadata": {},
   "source": [
    "In this example we will use the RON dataset, so let us load it"
   ]
  },
  {
   "cell_type": "code",
   "execution_count": 4,
   "id": "ce4d4f37",
   "metadata": {},
   "outputs": [],
   "source": [
    "df = pd.read_csv('./data/data_RON.csv')\n",
    "smiles = df.Smiles\n",
    "Y = df.RON"
   ]
  },
  {
   "cell_type": "markdown",
   "id": "083d64f1",
   "metadata": {},
   "source": [
    "We will also use the RON property model, so let us load it. In this case we are generating new molecules, so we will not split the dataset"
   ]
  },
  {
   "cell_type": "code",
   "execution_count": 5,
   "id": "8dbbf20b",
   "metadata": {},
   "outputs": [],
   "source": [
    "file = open('./results/macaw/RON_model_RVR.pickle', 'rb') \n",
    "mcw, regr = pickle.load(file)\n",
    "file.close()"
   ]
  },
  {
   "cell_type": "code",
   "execution_count": 6,
   "id": "ff3ac91e",
   "metadata": {},
   "outputs": [
    {
     "data": {
      "text/plain": [
       "194"
      ]
     },
     "execution_count": 6,
     "metadata": {},
     "output_type": "execute_result"
    }
   ],
   "source": [
    "len(smiles)"
   ]
  },
  {
   "cell_type": "code",
   "execution_count": 7,
   "id": "2feefa9f",
   "metadata": {},
   "outputs": [
    {
     "data": {
      "text/plain": [
       "array([[ 0.42037285,  0.06961411,  0.0838933 , ..., -0.0442504 ,\n",
       "        -0.02479778, -0.00986333],\n",
       "       [ 0.04410784,  0.01107567,  0.24158394, ...,  0.07641157,\n",
       "         0.00242411,  0.03510653],\n",
       "       [-0.07433707,  0.23414213, -0.00207759, ...,  0.03633542,\n",
       "         0.20821371,  0.01867818],\n",
       "       ...,\n",
       "       [ 0.20423117, -0.05955342, -0.08059721, ...,  0.00245891,\n",
       "        -0.08204407,  0.03756517],\n",
       "       [ 0.30909945,  0.23170672,  0.15254119, ...,  0.21982397,\n",
       "         0.0428042 , -0.15638203],\n",
       "       [ 0.34420088,  0.26039054,  0.2446837 , ...,  0.17066445,\n",
       "         0.04486746, -0.13455727]])"
      ]
     },
     "execution_count": 7,
     "metadata": {},
     "output_type": "execute_result"
    }
   ],
   "source": [
    "mcw.transform(list(smiles))"
   ]
  },
  {
   "cell_type": "code",
   "execution_count": 8,
   "id": "c53fa6ef",
   "metadata": {},
   "outputs": [
    {
     "name": "stdout",
     "output_type": "stream",
     "text": [
      "0.9777705770632934\n"
     ]
    }
   ],
   "source": [
    "X = mcw.transform(smiles)\n",
    "\n",
    "print(np.corrcoef(Y,regr.predict(X))[0,1])"
   ]
  },
  {
   "cell_type": "markdown",
   "id": "e14339b0",
   "metadata": {},
   "source": [
    "##  Approach 1. Molecular design by generating and screening a single large library"
   ]
  },
  {
   "cell_type": "markdown",
   "id": "02faa819",
   "metadata": {},
   "source": [
    "The library generation involves computing a noisy probability matrix from which  molecules will be drawn. Molecules will have a length of up to 20 SELFIES tokens. The method only considers robust SELFIES tokens (i.e., those for which there are state-dependent derivation rules implemented)."
   ]
  },
  {
   "cell_type": "code",
   "execution_count": 9,
   "id": "f66d0c35",
   "metadata": {},
   "outputs": [
    {
     "name": "stdout",
     "output_type": "stream",
     "text": [
      "10000\n",
      "20000\n",
      "30000\n",
      "40000\n",
      "50000\n",
      "60000\n",
      "70000\n",
      "80000\n",
      "90000\n",
      "100000\n",
      "110000\n",
      "120000\n",
      "130000\n",
      "140000\n",
      "150000\n",
      "160000\n",
      "170000\n",
      "180000\n",
      "190000\n",
      "200000\n",
      "76338 unique molecules generated.\n"
     ]
    }
   ],
   "source": [
    "smiles_lib = library_maker(smiles, max_len=20, n_gen=200000, algorithm='position', noise_factor=0.5)"
   ]
  },
  {
   "cell_type": "markdown",
   "id": "e2de806c",
   "metadata": {},
   "source": [
    "We first embed the library molecules in the MACAW space:"
   ]
  },
  {
   "cell_type": "code",
   "execution_count": 10,
   "id": "fa022a1e",
   "metadata": {},
   "outputs": [
    {
     "data": {
      "text/plain": [
       "76338"
      ]
     },
     "execution_count": 10,
     "metadata": {},
     "output_type": "execute_result"
    }
   ],
   "source": [
    "len(smiles_lib)"
   ]
  },
  {
   "cell_type": "code",
   "execution_count": 11,
   "id": "3a4d4493",
   "metadata": {},
   "outputs": [],
   "source": [
    "X_lib = mcw.transform(smiles_lib)"
   ]
  },
  {
   "cell_type": "code",
   "execution_count": 12,
   "id": "94059907",
   "metadata": {},
   "outputs": [
    {
     "data": {
      "text/plain": [
       "(76338, 15)"
      ]
     },
     "execution_count": 12,
     "metadata": {},
     "output_type": "execute_result"
    }
   ],
   "source": [
    "X_lib.shape"
   ]
  },
  {
   "cell_type": "markdown",
   "id": "79df933b",
   "metadata": {},
   "source": [
    "And then we find promising molecular designs according to the desired specification (in this example, RON=110). \n",
    "\n",
    "For retrieving molecules from the 20-dimensional MACAW space, we will use our custom V-distance metric (`p=0.5`). If not specified, it will use `p=1` by default (Manhattan distance)."
   ]
  },
  {
   "cell_type": "code",
   "execution_count": 13,
   "id": "5ddba37e",
   "metadata": {},
   "outputs": [
    {
     "name": "stdout",
     "output_type": "stream",
     "text": [
      "['CCC(C)C(C)(C)C', 'C=C1CCC2C(C)C12', 'C=C(OCC)P=C=O', 'CPC(=O)OCP', 'CC(C)P(C)OO']\n",
      "[107.68389061 108.94371044 109.91378727 111.06105664 111.27881516]\n"
     ]
    }
   ],
   "source": [
    "spec = 110. # desired RON design specification\n",
    "\n",
    "idx, Y_hits_pred = hit_finder(X_lib, model= regr, spec = spec, X=X, Y=Y, n_hits=5, k1=5, k2=10, p=0.5, n_rounds=2)\n",
    "smiles_hits = [smiles_lib[i] for i in idx]\n",
    "\n",
    "print(smiles_hits)\n",
    "print(Y_hits_pred)"
   ]
  },
  {
   "cell_type": "markdown",
   "id": "e30d056a",
   "metadata": {},
   "source": [
    "Let us visualize the molecules:"
   ]
  },
  {
   "cell_type": "code",
   "execution_count": 14,
   "id": "4e6ed66d",
   "metadata": {},
   "outputs": [
    {
     "data": {
      "image/svg+xml": [
       "<svg xmlns=\"http://www.w3.org/2000/svg\" xmlns:rdkit=\"http://www.rdkit.org/xml\" xmlns:xlink=\"http://www.w3.org/1999/xlink\" version=\"1.1\" baseProfile=\"full\" xml:space=\"preserve\" width=\"600px\" height=\"400px\" viewBox=\"0 0 600 400\">\n",
       "<!-- END OF HEADER -->\n",
       "<rect style=\"opacity:1.0;fill:#FFFFFF;stroke:none\" width=\"600.0\" height=\"400.0\" x=\"0.0\" y=\"0.0\"> </rect>\n",
       "<rect style=\"opacity:1.0;fill:#FFFFFF;stroke:none\" width=\"600.0\" height=\"400.0\" x=\"0.0\" y=\"0.0\"> </rect>\n",
       "<rect style=\"opacity:1.0;fill:#FFFFFF;stroke:none\" width=\"600.0\" height=\"400.0\" x=\"0.0\" y=\"0.0\"> </rect>\n",
       "<rect style=\"opacity:1.0;fill:#FFFFFF;stroke:none\" width=\"600.0\" height=\"400.0\" x=\"0.0\" y=\"0.0\"> </rect>\n",
       "<rect style=\"opacity:1.0;fill:#FFFFFF;stroke:none\" width=\"600.0\" height=\"400.0\" x=\"0.0\" y=\"0.0\"> </rect>\n",
       "<rect style=\"opacity:1.0;fill:#FFFFFF;stroke:none\" width=\"600.0\" height=\"400.0\" x=\"0.0\" y=\"0.0\"> </rect>\n",
       "<path class=\"bond-0 atom-0 atom-1\" d=\"M 145.3,81.8 L 129.5,115.9\" style=\"fill:none;fill-rule:evenodd;stroke:#000000;stroke-width:2.0px;stroke-linecap:butt;stroke-linejoin:miter;stroke-opacity:1\"/>\n",
       "<path class=\"bond-1 atom-1 atom-2\" d=\"M 129.5,115.9 L 92.1,119.2\" style=\"fill:none;fill-rule:evenodd;stroke:#000000;stroke-width:2.0px;stroke-linecap:butt;stroke-linejoin:miter;stroke-opacity:1\"/>\n",
       "<path class=\"bond-2 atom-2 atom-3\" d=\"M 92.1,119.2 L 76.3,153.2\" style=\"fill:none;fill-rule:evenodd;stroke:#000000;stroke-width:2.0px;stroke-linecap:butt;stroke-linejoin:miter;stroke-opacity:1\"/>\n",
       "<path class=\"bond-3 atom-2 atom-4\" d=\"M 92.1,119.2 L 70.5,88.5\" style=\"fill:none;fill-rule:evenodd;stroke:#000000;stroke-width:2.0px;stroke-linecap:butt;stroke-linejoin:miter;stroke-opacity:1\"/>\n",
       "<path class=\"bond-4 atom-4 atom-5\" d=\"M 70.5,88.5 L 39.8,110.1\" style=\"fill:none;fill-rule:evenodd;stroke:#000000;stroke-width:2.0px;stroke-linecap:butt;stroke-linejoin:miter;stroke-opacity:1\"/>\n",
       "<path class=\"bond-5 atom-4 atom-6\" d=\"M 70.5,88.5 L 101.2,66.9\" style=\"fill:none;fill-rule:evenodd;stroke:#000000;stroke-width:2.0px;stroke-linecap:butt;stroke-linejoin:miter;stroke-opacity:1\"/>\n",
       "<path class=\"bond-6 atom-4 atom-7\" d=\"M 70.5,88.5 L 48.9,57.8\" style=\"fill:none;fill-rule:evenodd;stroke:#000000;stroke-width:2.0px;stroke-linecap:butt;stroke-linejoin:miter;stroke-opacity:1\"/>\n",
       "<path class=\"bond-0 atom-0 atom-1\" d=\"M 344.9,140.4 L 322.9,109.9\" style=\"fill:none;fill-rule:evenodd;stroke:#000000;stroke-width:2.0px;stroke-linecap:butt;stroke-linejoin:miter;stroke-opacity:1\"/>\n",
       "<path class=\"bond-0 atom-0 atom-1\" d=\"M 338.8,144.8 L 316.9,114.3\" style=\"fill:none;fill-rule:evenodd;stroke:#000000;stroke-width:2.0px;stroke-linecap:butt;stroke-linejoin:miter;stroke-opacity:1\"/>\n",
       "<path class=\"bond-1 atom-1 atom-2\" d=\"M 319.9,112.1 L 331.6,76.5\" style=\"fill:none;fill-rule:evenodd;stroke:#000000;stroke-width:2.0px;stroke-linecap:butt;stroke-linejoin:miter;stroke-opacity:1\"/>\n",
       "<path class=\"bond-7 atom-7 atom-1\" d=\"M 282.4,112.0 L 319.9,112.1\" style=\"fill:none;fill-rule:evenodd;stroke:#000000;stroke-width:2.0px;stroke-linecap:butt;stroke-linejoin:miter;stroke-opacity:1\"/>\n",
       "<path class=\"bond-2 atom-2 atom-3\" d=\"M 331.6,76.5 L 301.3,54.3\" style=\"fill:none;fill-rule:evenodd;stroke:#000000;stroke-width:2.0px;stroke-linecap:butt;stroke-linejoin:miter;stroke-opacity:1\"/>\n",
       "<path class=\"bond-3 atom-3 atom-4\" d=\"M 301.3,54.3 L 270.9,76.2\" style=\"fill:none;fill-rule:evenodd;stroke:#000000;stroke-width:2.0px;stroke-linecap:butt;stroke-linejoin:miter;stroke-opacity:1\"/>\n",
       "<path class=\"bond-4 atom-4 atom-5\" d=\"M 270.9,76.2 L 245.7,104.0\" style=\"fill:none;fill-rule:evenodd;stroke:#000000;stroke-width:2.0px;stroke-linecap:butt;stroke-linejoin:miter;stroke-opacity:1\"/>\n",
       "<path class=\"bond-8 atom-7 atom-4\" d=\"M 282.4,112.0 L 270.9,76.2\" style=\"fill:none;fill-rule:evenodd;stroke:#000000;stroke-width:2.0px;stroke-linecap:butt;stroke-linejoin:miter;stroke-opacity:1\"/>\n",
       "<path class=\"bond-5 atom-5 atom-6\" d=\"M 245.7,104.0 L 209.9,115.5\" style=\"fill:none;fill-rule:evenodd;stroke:#000000;stroke-width:2.0px;stroke-linecap:butt;stroke-linejoin:miter;stroke-opacity:1\"/>\n",
       "<path class=\"bond-6 atom-5 atom-7\" d=\"M 245.7,104.0 L 282.4,112.0\" style=\"fill:none;fill-rule:evenodd;stroke:#000000;stroke-width:2.0px;stroke-linecap:butt;stroke-linejoin:miter;stroke-opacity:1\"/>\n",
       "<path class=\"bond-0 atom-0 atom-1\" d=\"M 416.4,112.0 L 453.3,105.2\" style=\"fill:none;fill-rule:evenodd;stroke:#000000;stroke-width:2.0px;stroke-linecap:butt;stroke-linejoin:miter;stroke-opacity:1\"/>\n",
       "<path class=\"bond-0 atom-0 atom-1\" d=\"M 415.0,104.6 L 451.9,97.8\" style=\"fill:none;fill-rule:evenodd;stroke:#000000;stroke-width:2.0px;stroke-linecap:butt;stroke-linejoin:miter;stroke-opacity:1\"/>\n",
       "<path class=\"bond-1 atom-1 atom-2\" d=\"M 452.6,101.5 L 462.1,112.7\" style=\"fill:none;fill-rule:evenodd;stroke:#000000;stroke-width:2.0px;stroke-linecap:butt;stroke-linejoin:miter;stroke-opacity:1\"/>\n",
       "<path class=\"bond-1 atom-1 atom-2\" d=\"M 462.1,112.7 L 471.6,123.8\" style=\"fill:none;fill-rule:evenodd;stroke:#FF0000;stroke-width:2.0px;stroke-linecap:butt;stroke-linejoin:miter;stroke-opacity:1\"/>\n",
       "<path class=\"bond-4 atom-1 atom-5\" d=\"M 452.6,101.5 L 457.8,87.0\" style=\"fill:none;fill-rule:evenodd;stroke:#000000;stroke-width:2.0px;stroke-linecap:butt;stroke-linejoin:miter;stroke-opacity:1\"/>\n",
       "<path class=\"bond-4 atom-1 atom-5\" d=\"M 457.8,87.0 L 463.0,72.4\" style=\"fill:none;fill-rule:evenodd;stroke:#FF7F00;stroke-width:2.0px;stroke-linecap:butt;stroke-linejoin:miter;stroke-opacity:1\"/>\n",
       "<path class=\"bond-2 atom-2 atom-3\" d=\"M 482.8,129.0 L 498.3,126.2\" style=\"fill:none;fill-rule:evenodd;stroke:#FF0000;stroke-width:2.0px;stroke-linecap:butt;stroke-linejoin:miter;stroke-opacity:1\"/>\n",
       "<path class=\"bond-2 atom-2 atom-3\" d=\"M 498.3,126.2 L 513.9,123.3\" style=\"fill:none;fill-rule:evenodd;stroke:#000000;stroke-width:2.0px;stroke-linecap:butt;stroke-linejoin:miter;stroke-opacity:1\"/>\n",
       "<path class=\"bond-3 atom-3 atom-4\" d=\"M 513.9,123.3 L 538.2,151.9\" style=\"fill:none;fill-rule:evenodd;stroke:#000000;stroke-width:2.0px;stroke-linecap:butt;stroke-linejoin:miter;stroke-opacity:1\"/>\n",
       "<path class=\"bond-5 atom-5 atom-6\" d=\"M 470.2,69.1 L 484.0,66.5\" style=\"fill:none;fill-rule:evenodd;stroke:#FF7F00;stroke-width:2.0px;stroke-linecap:butt;stroke-linejoin:miter;stroke-opacity:1\"/>\n",
       "<path class=\"bond-5 atom-5 atom-6\" d=\"M 484.0,66.5 L 497.9,64.0\" style=\"fill:none;fill-rule:evenodd;stroke:#000000;stroke-width:2.0px;stroke-linecap:butt;stroke-linejoin:miter;stroke-opacity:1\"/>\n",
       "<path class=\"bond-5 atom-5 atom-6\" d=\"M 468.8,61.7 L 482.7,59.1\" style=\"fill:none;fill-rule:evenodd;stroke:#FF7F00;stroke-width:2.0px;stroke-linecap:butt;stroke-linejoin:miter;stroke-opacity:1\"/>\n",
       "<path class=\"bond-5 atom-5 atom-6\" d=\"M 482.7,59.1 L 496.5,56.6\" style=\"fill:none;fill-rule:evenodd;stroke:#000000;stroke-width:2.0px;stroke-linecap:butt;stroke-linejoin:miter;stroke-opacity:1\"/>\n",
       "<path class=\"bond-6 atom-6 atom-7\" d=\"M 507.8,62.1 L 520.9,59.7\" style=\"fill:none;fill-rule:evenodd;stroke:#000000;stroke-width:2.0px;stroke-linecap:butt;stroke-linejoin:miter;stroke-opacity:1\"/>\n",
       "<path class=\"bond-6 atom-6 atom-7\" d=\"M 520.9,59.7 L 534.0,57.3\" style=\"fill:none;fill-rule:evenodd;stroke:#FF0000;stroke-width:2.0px;stroke-linecap:butt;stroke-linejoin:miter;stroke-opacity:1\"/>\n",
       "<path class=\"bond-6 atom-6 atom-7\" d=\"M 506.5,54.8 L 519.6,52.4\" style=\"fill:none;fill-rule:evenodd;stroke:#000000;stroke-width:2.0px;stroke-linecap:butt;stroke-linejoin:miter;stroke-opacity:1\"/>\n",
       "<path class=\"bond-6 atom-6 atom-7\" d=\"M 519.6,52.4 L 532.7,49.9\" style=\"fill:none;fill-rule:evenodd;stroke:#FF0000;stroke-width:2.0px;stroke-linecap:butt;stroke-linejoin:miter;stroke-opacity:1\"/>\n",
       "<path class=\"atom-2\" d=\"M 472.1 130.1 Q 472.1 127.6, 473.3 126.2 Q 474.6 124.7, 476.9 124.7 Q 479.3 124.7, 480.6 126.2 Q 481.8 127.6, 481.8 130.1 Q 481.8 132.7, 480.5 134.2 Q 479.3 135.7, 476.9 135.7 Q 474.6 135.7, 473.3 134.2 Q 472.1 132.7, 472.1 130.1 M 476.9 134.5 Q 478.6 134.5, 479.4 133.4 Q 480.3 132.3, 480.3 130.1 Q 480.3 128.1, 479.4 127.0 Q 478.6 125.9, 476.9 125.9 Q 475.3 125.9, 474.4 127.0 Q 473.6 128.0, 473.6 130.1 Q 473.6 132.3, 474.4 133.4 Q 475.3 134.5, 476.9 134.5 \" fill=\"#FF0000\"/>\n",
       "<path class=\"atom-5\" d=\"M 464.9 60.8 Q 466.7 60.8, 467.7 61.7 Q 468.6 62.5, 468.6 64.0 Q 468.6 65.4, 467.6 66.3 Q 466.7 67.1, 464.9 67.1 L 463.2 67.1 L 463.2 71.5 L 461.8 71.5 L 461.8 60.8 L 464.9 60.8 M 464.9 65.9 Q 466.0 65.9, 466.5 65.4 Q 467.1 64.9, 467.1 64.0 Q 467.1 63.0, 466.5 62.5 Q 466.0 62.0, 464.9 62.0 L 463.2 62.0 L 463.2 65.9 L 464.9 65.9 \" fill=\"#FF7F00\"/>\n",
       "<path class=\"atom-6\" d=\"M 498.0 59.4 Q 498.0 56.8, 499.2 55.4 Q 500.5 54.0, 502.8 54.0 Q 505.0 54.0, 506.2 55.5 L 505.2 56.4 Q 504.4 55.2, 502.8 55.2 Q 501.2 55.2, 500.4 56.3 Q 499.5 57.4, 499.5 59.4 Q 499.5 61.5, 500.4 62.6 Q 501.3 63.7, 503.0 63.7 Q 504.2 63.7, 505.5 63.0 L 506.0 64.1 Q 505.4 64.5, 504.6 64.7 Q 503.7 64.9, 502.8 64.9 Q 500.5 64.9, 499.2 63.5 Q 498.0 62.1, 498.0 59.4 \" fill=\"#000000\"/>\n",
       "<path class=\"atom-7\" d=\"M 534.2 52.6 Q 534.2 50.1, 535.4 48.6 Q 536.7 47.2, 539.0 47.2 Q 541.4 47.2, 542.6 48.6 Q 543.9 50.1, 543.9 52.6 Q 543.9 55.2, 542.6 56.7 Q 541.4 58.1, 539.0 58.1 Q 536.7 58.1, 535.4 56.7 Q 534.2 55.2, 534.2 52.6 M 539.0 56.9 Q 540.7 56.9, 541.5 55.9 Q 542.4 54.8, 542.4 52.6 Q 542.4 50.5, 541.5 49.5 Q 540.7 48.4, 539.0 48.4 Q 537.4 48.4, 536.5 49.5 Q 535.7 50.5, 535.7 52.6 Q 535.7 54.8, 536.5 55.9 Q 537.4 56.9, 539.0 56.9 \" fill=\"#FF0000\"/>\n",
       "<path class=\"bond-0 atom-0 atom-1\" d=\"M 9.1,294.3 L 24.0,287.5\" style=\"fill:none;fill-rule:evenodd;stroke:#000000;stroke-width:2.0px;stroke-linecap:butt;stroke-linejoin:miter;stroke-opacity:1\"/>\n",
       "<path class=\"bond-0 atom-0 atom-1\" d=\"M 24.0,287.5 L 38.9,280.7\" style=\"fill:none;fill-rule:evenodd;stroke:#FF7F00;stroke-width:2.0px;stroke-linecap:butt;stroke-linejoin:miter;stroke-opacity:1\"/>\n",
       "<path class=\"bond-1 atom-1 atom-2\" d=\"M 47.6,281.8 L 60.7,291.2\" style=\"fill:none;fill-rule:evenodd;stroke:#FF7F00;stroke-width:2.0px;stroke-linecap:butt;stroke-linejoin:miter;stroke-opacity:1\"/>\n",
       "<path class=\"bond-1 atom-1 atom-2\" d=\"M 60.7,291.2 L 73.8,300.5\" style=\"fill:none;fill-rule:evenodd;stroke:#000000;stroke-width:2.0px;stroke-linecap:butt;stroke-linejoin:miter;stroke-opacity:1\"/>\n",
       "<path class=\"bond-2 atom-2 atom-3\" d=\"M 70.1,300.2 L 68.6,315.7\" style=\"fill:none;fill-rule:evenodd;stroke:#000000;stroke-width:2.0px;stroke-linecap:butt;stroke-linejoin:miter;stroke-opacity:1\"/>\n",
       "<path class=\"bond-2 atom-2 atom-3\" d=\"M 68.6,315.7 L 67.1,331.2\" style=\"fill:none;fill-rule:evenodd;stroke:#FF0000;stroke-width:2.0px;stroke-linecap:butt;stroke-linejoin:miter;stroke-opacity:1\"/>\n",
       "<path class=\"bond-2 atom-2 atom-3\" d=\"M 77.6,300.9 L 76.1,316.4\" style=\"fill:none;fill-rule:evenodd;stroke:#000000;stroke-width:2.0px;stroke-linecap:butt;stroke-linejoin:miter;stroke-opacity:1\"/>\n",
       "<path class=\"bond-2 atom-2 atom-3\" d=\"M 76.1,316.4 L 74.6,331.9\" style=\"fill:none;fill-rule:evenodd;stroke:#FF0000;stroke-width:2.0px;stroke-linecap:butt;stroke-linejoin:miter;stroke-opacity:1\"/>\n",
       "<path class=\"bond-3 atom-2 atom-4\" d=\"M 73.8,300.5 L 88.0,294.0\" style=\"fill:none;fill-rule:evenodd;stroke:#000000;stroke-width:2.0px;stroke-linecap:butt;stroke-linejoin:miter;stroke-opacity:1\"/>\n",
       "<path class=\"bond-3 atom-2 atom-4\" d=\"M 88.0,294.0 L 102.1,287.6\" style=\"fill:none;fill-rule:evenodd;stroke:#FF0000;stroke-width:2.0px;stroke-linecap:butt;stroke-linejoin:miter;stroke-opacity:1\"/>\n",
       "<path class=\"bond-4 atom-4 atom-5\" d=\"M 113.8,289.1 L 126.2,297.9\" style=\"fill:none;fill-rule:evenodd;stroke:#FF0000;stroke-width:2.0px;stroke-linecap:butt;stroke-linejoin:miter;stroke-opacity:1\"/>\n",
       "<path class=\"bond-4 atom-4 atom-5\" d=\"M 126.2,297.9 L 138.6,306.7\" style=\"fill:none;fill-rule:evenodd;stroke:#000000;stroke-width:2.0px;stroke-linecap:butt;stroke-linejoin:miter;stroke-opacity:1\"/>\n",
       "<path class=\"bond-5 atom-5 atom-6\" d=\"M 138.6,306.7 L 153.5,299.9\" style=\"fill:none;fill-rule:evenodd;stroke:#000000;stroke-width:2.0px;stroke-linecap:butt;stroke-linejoin:miter;stroke-opacity:1\"/>\n",
       "<path class=\"bond-5 atom-5 atom-6\" d=\"M 153.5,299.9 L 168.4,293.1\" style=\"fill:none;fill-rule:evenodd;stroke:#FF7F00;stroke-width:2.0px;stroke-linecap:butt;stroke-linejoin:miter;stroke-opacity:1\"/>\n",
       "<path class=\"atom-1\" d=\"M 43.0 273.4 Q 44.8 273.4, 45.7 274.2 Q 46.6 275.1, 46.6 276.5 Q 46.6 278.0, 45.7 278.9 Q 44.8 279.7, 43.0 279.7 L 41.3 279.7 L 41.3 284.1 L 39.8 284.1 L 39.8 273.4 L 43.0 273.4 M 43.0 278.5 Q 44.0 278.5, 44.6 278.0 Q 45.1 277.5, 45.1 276.5 Q 45.1 275.6, 44.6 275.1 Q 44.0 274.6, 43.0 274.6 L 41.3 274.6 L 41.3 278.5 L 43.0 278.5 \" fill=\"#FF7F00\"/>\n",
       "<path class=\"atom-1\" d=\"M 39.1 261.7 L 40.5 261.7 L 40.5 266.2 L 46.0 266.2 L 46.0 261.7 L 47.4 261.7 L 47.4 272.4 L 46.0 272.4 L 46.0 267.5 L 40.5 267.5 L 40.5 272.4 L 39.1 272.4 L 39.1 261.7 \" fill=\"#FF7F00\"/>\n",
       "<path class=\"atom-3\" d=\"M 65.4 337.9 Q 65.4 335.4, 66.6 333.9 Q 67.9 332.5, 70.3 332.5 Q 72.6 332.5, 73.9 333.9 Q 75.1 335.4, 75.1 337.9 Q 75.1 340.5, 73.9 342.0 Q 72.6 343.4, 70.3 343.4 Q 67.9 343.4, 66.6 342.0 Q 65.4 340.5, 65.4 337.9 M 70.3 342.2 Q 71.9 342.2, 72.7 341.1 Q 73.6 340.0, 73.6 337.9 Q 73.6 335.8, 72.7 334.8 Q 71.9 333.7, 70.3 333.7 Q 68.6 333.7, 67.7 334.8 Q 66.9 335.8, 66.9 337.9 Q 66.9 340.1, 67.7 341.1 Q 68.6 342.2, 70.3 342.2 \" fill=\"#FF0000\"/>\n",
       "<path class=\"atom-4\" d=\"M 103.1 284.9 Q 103.1 282.4, 104.3 281.0 Q 105.6 279.5, 108.0 279.5 Q 110.3 279.5, 111.6 281.0 Q 112.8 282.4, 112.8 284.9 Q 112.8 287.5, 111.6 289.0 Q 110.3 290.5, 108.0 290.5 Q 105.6 290.5, 104.3 289.0 Q 103.1 287.5, 103.1 284.9 M 108.0 289.3 Q 109.6 289.3, 110.5 288.2 Q 111.3 287.1, 111.3 284.9 Q 111.3 282.9, 110.5 281.8 Q 109.6 280.7, 108.0 280.7 Q 106.3 280.7, 105.5 281.8 Q 104.6 282.8, 104.6 284.9 Q 104.6 287.1, 105.5 288.2 Q 106.3 289.3, 108.0 289.3 \" fill=\"#FF0000\"/>\n",
       "<path class=\"atom-6\" d=\"M 172.4 285.8 Q 174.3 285.8, 175.2 286.6 Q 176.1 287.4, 176.1 288.9 Q 176.1 290.4, 175.1 291.2 Q 174.2 292.0, 172.4 292.0 L 170.7 292.0 L 170.7 296.4 L 169.3 296.4 L 169.3 285.8 L 172.4 285.8 M 172.4 290.8 Q 173.5 290.8, 174.0 290.3 Q 174.6 289.8, 174.6 288.9 Q 174.6 287.9, 174.0 287.5 Q 173.5 287.0, 172.4 287.0 L 170.7 287.0 L 170.7 290.8 L 172.4 290.8 \" fill=\"#FF7F00\"/>\n",
       "<path class=\"atom-6\" d=\"M 177.4 285.8 L 178.8 285.8 L 178.8 290.3 L 184.2 290.3 L 184.2 285.8 L 185.7 285.8 L 185.7 296.4 L 184.2 296.4 L 184.2 291.5 L 178.8 291.5 L 178.8 296.4 L 177.4 296.4 L 177.4 285.8 \" fill=\"#FF7F00\"/>\n",
       "<path class=\"atom-6\" d=\"M 186.2 296.0 Q 186.5 295.4, 187.1 295.0 Q 187.7 294.6, 188.5 294.6 Q 189.6 294.6, 190.2 295.2 Q 190.8 295.8, 190.8 296.8 Q 190.8 297.8, 190.0 298.8 Q 189.3 299.8, 187.7 300.9 L 190.9 300.9 L 190.9 301.7 L 186.2 301.7 L 186.2 301.1 Q 187.5 300.1, 188.3 299.4 Q 189.0 298.7, 189.4 298.1 Q 189.8 297.5, 189.8 296.8 Q 189.8 296.2, 189.5 295.8 Q 189.1 295.4, 188.5 295.4 Q 188.0 295.4, 187.6 295.6 Q 187.2 295.9, 187.0 296.4 L 186.2 296.0 \" fill=\"#FF7F00\"/>\n",
       "<path class=\"bond-0 atom-0 atom-1\" d=\"M 250.2,258.2 L 258.4,294.8\" style=\"fill:none;fill-rule:evenodd;stroke:#000000;stroke-width:2.0px;stroke-linecap:butt;stroke-linejoin:miter;stroke-opacity:1\"/>\n",
       "<path class=\"bond-1 atom-1 atom-2\" d=\"M 258.4,294.8 L 230.8,320.2\" style=\"fill:none;fill-rule:evenodd;stroke:#000000;stroke-width:2.0px;stroke-linecap:butt;stroke-linejoin:miter;stroke-opacity:1\"/>\n",
       "<path class=\"bond-2 atom-1 atom-3\" d=\"M 258.4,294.8 L 274.2,299.7\" style=\"fill:none;fill-rule:evenodd;stroke:#000000;stroke-width:2.0px;stroke-linecap:butt;stroke-linejoin:miter;stroke-opacity:1\"/>\n",
       "<path class=\"bond-2 atom-1 atom-3\" d=\"M 274.2,299.7 L 289.9,304.6\" style=\"fill:none;fill-rule:evenodd;stroke:#FF7F00;stroke-width:2.0px;stroke-linecap:butt;stroke-linejoin:miter;stroke-opacity:1\"/>\n",
       "<path class=\"bond-3 atom-3 atom-4\" d=\"M 295.6,312.3 L 299.0,327.4\" style=\"fill:none;fill-rule:evenodd;stroke:#FF7F00;stroke-width:2.0px;stroke-linecap:butt;stroke-linejoin:miter;stroke-opacity:1\"/>\n",
       "<path class=\"bond-3 atom-3 atom-4\" d=\"M 299.0,327.4 L 302.5,342.6\" style=\"fill:none;fill-rule:evenodd;stroke:#000000;stroke-width:2.0px;stroke-linecap:butt;stroke-linejoin:miter;stroke-opacity:1\"/>\n",
       "<path class=\"bond-4 atom-3 atom-5\" d=\"M 298.6,302.0 L 307.4,293.9\" style=\"fill:none;fill-rule:evenodd;stroke:#FF7F00;stroke-width:2.0px;stroke-linecap:butt;stroke-linejoin:miter;stroke-opacity:1\"/>\n",
       "<path class=\"bond-4 atom-3 atom-5\" d=\"M 307.4,293.9 L 316.2,285.8\" style=\"fill:none;fill-rule:evenodd;stroke:#FF0000;stroke-width:2.0px;stroke-linecap:butt;stroke-linejoin:miter;stroke-opacity:1\"/>\n",
       "<path class=\"bond-5 atom-5 atom-6\" d=\"M 327.7,282.4 L 352.0,290.0\" style=\"fill:none;fill-rule:evenodd;stroke:#FF0000;stroke-width:2.0px;stroke-linecap:butt;stroke-linejoin:miter;stroke-opacity:1\"/>\n",
       "<path class=\"atom-3\" d=\"M 294.0 300.7 Q 295.8 300.7, 296.7 301.5 Q 297.6 302.3, 297.6 303.8 Q 297.6 305.3, 296.7 306.1 Q 295.8 306.9, 294.0 306.9 L 292.3 306.9 L 292.3 311.3 L 290.8 311.3 L 290.8 300.7 L 294.0 300.7 M 294.0 305.7 Q 295.0 305.7, 295.6 305.2 Q 296.1 304.8, 296.1 303.8 Q 296.1 302.9, 295.6 302.4 Q 295.0 301.9, 294.0 301.9 L 292.3 301.9 L 292.3 305.7 L 294.0 305.7 \" fill=\"#FF7F00\"/>\n",
       "<path class=\"atom-5\" d=\"M 317.0 280.6 Q 317.0 278.0, 318.2 276.6 Q 319.5 275.2, 321.9 275.2 Q 324.2 275.2, 325.5 276.6 Q 326.7 278.0, 326.7 280.6 Q 326.7 283.2, 325.5 284.7 Q 324.2 286.1, 321.9 286.1 Q 319.5 286.1, 318.2 284.7 Q 317.0 283.2, 317.0 280.6 M 321.9 284.9 Q 323.5 284.9, 324.3 283.8 Q 325.2 282.7, 325.2 280.6 Q 325.2 278.5, 324.3 277.5 Q 323.5 276.4, 321.9 276.4 Q 320.2 276.4, 319.3 277.4 Q 318.5 278.5, 318.5 280.6 Q 318.5 282.7, 319.3 283.8 Q 320.2 284.9, 321.9 284.9 \" fill=\"#FF0000\"/>\n",
       "<path class=\"atom-6\" d=\"M 352.8 291.8 Q 352.8 289.2, 354.1 287.8 Q 355.3 286.4, 357.7 286.4 Q 360.0 286.4, 361.3 287.8 Q 362.6 289.2, 362.6 291.8 Q 362.6 294.4, 361.3 295.9 Q 360.0 297.3, 357.7 297.3 Q 355.3 297.3, 354.1 295.9 Q 352.8 294.4, 352.8 291.8 M 357.7 296.1 Q 359.3 296.1, 360.2 295.0 Q 361.1 293.9, 361.1 291.8 Q 361.1 289.7, 360.2 288.7 Q 359.3 287.6, 357.7 287.6 Q 356.1 287.6, 355.2 288.6 Q 354.3 289.7, 354.3 291.8 Q 354.3 293.9, 355.2 295.0 Q 356.1 296.1, 357.7 296.1 \" fill=\"#FF0000\"/>\n",
       "<path class=\"atom-6\" d=\"M 363.8 286.5 L 365.3 286.5 L 365.3 291.0 L 370.7 291.0 L 370.7 286.5 L 372.2 286.5 L 372.2 297.1 L 370.7 297.1 L 370.7 292.2 L 365.3 292.2 L 365.3 297.1 L 363.8 297.1 L 363.8 286.5 \" fill=\"#FF0000\"/>\n",
       "</svg>"
      ],
      "text/plain": [
       "<IPython.core.display.SVG object>"
      ]
     },
     "execution_count": 14,
     "metadata": {},
     "output_type": "execute_result"
    }
   ],
   "source": [
    "molecules = [Chem.MolFromSmiles(smi) for smi in smiles_hits]\n",
    "\n",
    "Draw.MolsToGridImage(molecules, subImgSize=(200,200), molsPerRow=3, useSVG=True)"
   ]
  },
  {
   "cell_type": "markdown",
   "id": "f32beee5",
   "metadata": {},
   "source": [
    "We can double check that we get the desired property specification for the molecules designed:"
   ]
  },
  {
   "cell_type": "code",
   "execution_count": 15,
   "id": "0bafa2e0",
   "metadata": {},
   "outputs": [
    {
     "name": "stdout",
     "output_type": "stream",
     "text": [
      "[107.68389061 108.94371044 109.91378727 111.06105664 111.27881516]\n"
     ]
    }
   ],
   "source": [
    "X_hits = mcw.transform(smiles_hits)\n",
    "Y_hits_pred = regr.predict(X_hits)\n",
    "print(Y_hits_pred)"
   ]
  },
  {
   "cell_type": "markdown",
   "id": "074e3be6",
   "metadata": {},
   "source": [
    "Since MACAW embeddings are smooth, we can also use a gradient-based method to navigate the embedding space and retrieve promising molecules. To this end, we use the function `hit_finder2`. If we do not provide the arguments `X` or `Y`, we may want to increase the parameter `k1`."
   ]
  },
  {
   "cell_type": "code",
   "execution_count": 16,
   "id": "75025809",
   "metadata": {},
   "outputs": [
    {
     "name": "stdout",
     "output_type": "stream",
     "text": [
      "['CCC(=O)OC(C)OC', 'CCC1=C(C)O1', 'CCC(C=CC=CP)=CO', 'CCOC(=P)OC', 'CC1C(C)P1OO']\n",
      "[109.66424193 109.74955001 109.96511547 110.07124303 110.18467996]\n"
     ]
    }
   ],
   "source": [
    "idx, Y_hits_pred = hit_finder2(X_lib, regr, spec, X=X, n_hits=5, k1=100, k2=5)\n",
    "smiles_hits = [smiles_lib[i] for i in idx]\n",
    "print(smiles_hits)\n",
    "print(Y_hits_pred)"
   ]
  },
  {
   "cell_type": "code",
   "execution_count": 17,
   "id": "2d731566",
   "metadata": {},
   "outputs": [
    {
     "data": {
      "image/svg+xml": [
       "<svg xmlns=\"http://www.w3.org/2000/svg\" xmlns:rdkit=\"http://www.rdkit.org/xml\" xmlns:xlink=\"http://www.w3.org/1999/xlink\" version=\"1.1\" baseProfile=\"full\" xml:space=\"preserve\" width=\"600px\" height=\"400px\" viewBox=\"0 0 600 400\">\n",
       "<!-- END OF HEADER -->\n",
       "<rect style=\"opacity:1.0;fill:#FFFFFF;stroke:none\" width=\"600.0\" height=\"400.0\" x=\"0.0\" y=\"0.0\"> </rect>\n",
       "<rect style=\"opacity:1.0;fill:#FFFFFF;stroke:none\" width=\"600.0\" height=\"400.0\" x=\"0.0\" y=\"0.0\"> </rect>\n",
       "<rect style=\"opacity:1.0;fill:#FFFFFF;stroke:none\" width=\"600.0\" height=\"400.0\" x=\"0.0\" y=\"0.0\"> </rect>\n",
       "<rect style=\"opacity:1.0;fill:#FFFFFF;stroke:none\" width=\"600.0\" height=\"400.0\" x=\"0.0\" y=\"0.0\"> </rect>\n",
       "<rect style=\"opacity:1.0;fill:#FFFFFF;stroke:none\" width=\"600.0\" height=\"400.0\" x=\"0.0\" y=\"0.0\"> </rect>\n",
       "<rect style=\"opacity:1.0;fill:#FFFFFF;stroke:none\" width=\"600.0\" height=\"400.0\" x=\"0.0\" y=\"0.0\"> </rect>\n",
       "<path class=\"bond-0 atom-0 atom-1\" d=\"M 156.9,93.2 L 136.0,111.3\" style=\"fill:none;fill-rule:evenodd;stroke:#000000;stroke-width:2.0px;stroke-linecap:butt;stroke-linejoin:miter;stroke-opacity:1\"/>\n",
       "<path class=\"bond-1 atom-1 atom-2\" d=\"M 136.0,111.3 L 109.8,102.2\" style=\"fill:none;fill-rule:evenodd;stroke:#000000;stroke-width:2.0px;stroke-linecap:butt;stroke-linejoin:miter;stroke-opacity:1\"/>\n",
       "<path class=\"bond-2 atom-2 atom-3\" d=\"M 112.5,101.7 L 110.4,90.4\" style=\"fill:none;fill-rule:evenodd;stroke:#000000;stroke-width:2.0px;stroke-linecap:butt;stroke-linejoin:miter;stroke-opacity:1\"/>\n",
       "<path class=\"bond-2 atom-2 atom-3\" d=\"M 110.4,90.4 L 108.3,79.2\" style=\"fill:none;fill-rule:evenodd;stroke:#FF0000;stroke-width:2.0px;stroke-linecap:butt;stroke-linejoin:miter;stroke-opacity:1\"/>\n",
       "<path class=\"bond-2 atom-2 atom-3\" d=\"M 107.1,102.7 L 105.0,91.5\" style=\"fill:none;fill-rule:evenodd;stroke:#000000;stroke-width:2.0px;stroke-linecap:butt;stroke-linejoin:miter;stroke-opacity:1\"/>\n",
       "<path class=\"bond-2 atom-2 atom-3\" d=\"M 105.0,91.5 L 102.8,80.3\" style=\"fill:none;fill-rule:evenodd;stroke:#FF0000;stroke-width:2.0px;stroke-linecap:butt;stroke-linejoin:miter;stroke-opacity:1\"/>\n",
       "<path class=\"bond-3 atom-2 atom-4\" d=\"M 109.8,102.2 L 101.5,109.4\" style=\"fill:none;fill-rule:evenodd;stroke:#000000;stroke-width:2.0px;stroke-linecap:butt;stroke-linejoin:miter;stroke-opacity:1\"/>\n",
       "<path class=\"bond-3 atom-2 atom-4\" d=\"M 101.5,109.4 L 93.2,116.6\" style=\"fill:none;fill-rule:evenodd;stroke:#FF0000;stroke-width:2.0px;stroke-linecap:butt;stroke-linejoin:miter;stroke-opacity:1\"/>\n",
       "<path class=\"bond-4 atom-4 atom-5\" d=\"M 84.6,118.8 L 73.6,115.0\" style=\"fill:none;fill-rule:evenodd;stroke:#FF0000;stroke-width:2.0px;stroke-linecap:butt;stroke-linejoin:miter;stroke-opacity:1\"/>\n",
       "<path class=\"bond-4 atom-4 atom-5\" d=\"M 73.6,115.0 L 62.7,111.1\" style=\"fill:none;fill-rule:evenodd;stroke:#000000;stroke-width:2.0px;stroke-linecap:butt;stroke-linejoin:miter;stroke-opacity:1\"/>\n",
       "<path class=\"bond-5 atom-5 atom-6\" d=\"M 62.7,111.1 L 41.8,129.2\" style=\"fill:none;fill-rule:evenodd;stroke:#000000;stroke-width:2.0px;stroke-linecap:butt;stroke-linejoin:miter;stroke-opacity:1\"/>\n",
       "<path class=\"bond-6 atom-5 atom-7\" d=\"M 62.7,111.1 L 60.6,99.9\" style=\"fill:none;fill-rule:evenodd;stroke:#000000;stroke-width:2.0px;stroke-linecap:butt;stroke-linejoin:miter;stroke-opacity:1\"/>\n",
       "<path class=\"bond-6 atom-5 atom-7\" d=\"M 60.6,99.9 L 58.4,88.7\" style=\"fill:none;fill-rule:evenodd;stroke:#FF0000;stroke-width:2.0px;stroke-linecap:butt;stroke-linejoin:miter;stroke-opacity:1\"/>\n",
       "<path class=\"bond-7 atom-7 atom-8\" d=\"M 53.2,82.5 L 42.3,78.6\" style=\"fill:none;fill-rule:evenodd;stroke:#FF0000;stroke-width:2.0px;stroke-linecap:butt;stroke-linejoin:miter;stroke-opacity:1\"/>\n",
       "<path class=\"bond-7 atom-7 atom-8\" d=\"M 42.3,78.6 L 31.4,74.8\" style=\"fill:none;fill-rule:evenodd;stroke:#000000;stroke-width:2.0px;stroke-linecap:butt;stroke-linejoin:miter;stroke-opacity:1\"/>\n",
       "<path class=\"atom-3\" d=\"M 101.0 75.0 Q 101.0 73.1, 102.0 72.1 Q 102.9 71.0, 104.6 71.0 Q 106.4 71.0, 107.3 72.1 Q 108.2 73.1, 108.2 75.0 Q 108.2 76.9, 107.3 78.0 Q 106.4 79.1, 104.6 79.1 Q 102.9 79.1, 102.0 78.0 Q 101.0 76.9, 101.0 75.0 M 104.6 78.2 Q 105.8 78.2, 106.5 77.4 Q 107.1 76.6, 107.1 75.0 Q 107.1 73.5, 106.5 72.7 Q 105.8 71.9, 104.6 71.9 Q 103.4 71.9, 102.8 72.7 Q 102.1 73.4, 102.1 75.0 Q 102.1 76.6, 102.8 77.4 Q 103.4 78.2, 104.6 78.2 \" fill=\"#FF0000\"/>\n",
       "<path class=\"atom-4\" d=\"M 85.3 120.3 Q 85.3 118.4, 86.2 117.3 Q 87.1 116.3, 88.9 116.3 Q 90.6 116.3, 91.5 117.3 Q 92.5 118.4, 92.5 120.3 Q 92.5 122.2, 91.5 123.3 Q 90.6 124.3, 88.9 124.3 Q 87.1 124.3, 86.2 123.3 Q 85.3 122.2, 85.3 120.3 M 88.9 123.5 Q 90.1 123.5, 90.7 122.7 Q 91.4 121.8, 91.4 120.3 Q 91.4 118.7, 90.7 118.0 Q 90.1 117.2, 88.9 117.2 Q 87.7 117.2, 87.0 118.0 Q 86.4 118.7, 86.4 120.3 Q 86.4 121.9, 87.0 122.7 Q 87.7 123.5, 88.9 123.5 \" fill=\"#FF0000\"/>\n",
       "<path class=\"atom-7\" d=\"M 53.9 84.0 Q 53.9 82.1, 54.9 81.0 Q 55.8 80.0, 57.5 80.0 Q 59.3 80.0, 60.2 81.0 Q 61.1 82.1, 61.1 84.0 Q 61.1 85.9, 60.2 87.0 Q 59.3 88.0, 57.5 88.0 Q 55.8 88.0, 54.9 87.0 Q 53.9 85.9, 53.9 84.0 M 57.5 87.2 Q 58.7 87.2, 59.4 86.4 Q 60.0 85.5, 60.0 84.0 Q 60.0 82.4, 59.4 81.7 Q 58.7 80.9, 57.5 80.9 Q 56.3 80.9, 55.7 81.6 Q 55.0 82.4, 55.0 84.0 Q 55.0 85.6, 55.7 86.4 Q 56.3 87.2, 57.5 87.2 \" fill=\"#FF0000\"/>\n",
       "<path class=\"bond-0 atom-0 atom-1\" d=\"M 236.2,99.9 L 260.3,113.5\" style=\"fill:none;fill-rule:evenodd;stroke:#000000;stroke-width:2.0px;stroke-linecap:butt;stroke-linejoin:miter;stroke-opacity:1\"/>\n",
       "<path class=\"bond-1 atom-1 atom-2\" d=\"M 260.3,113.5 L 284.2,99.5\" style=\"fill:none;fill-rule:evenodd;stroke:#000000;stroke-width:2.0px;stroke-linecap:butt;stroke-linejoin:miter;stroke-opacity:1\"/>\n",
       "<path class=\"bond-2 atom-2 atom-3\" d=\"M 284.2,99.5 L 311.9,99.3\" style=\"fill:none;fill-rule:evenodd;stroke:#000000;stroke-width:2.0px;stroke-linecap:butt;stroke-linejoin:miter;stroke-opacity:1\"/>\n",
       "<path class=\"bond-2 atom-2 atom-3\" d=\"M 288.3,94.0 L 307.7,93.8\" style=\"fill:none;fill-rule:evenodd;stroke:#000000;stroke-width:2.0px;stroke-linecap:butt;stroke-linejoin:miter;stroke-opacity:1\"/>\n",
       "<path class=\"bond-5 atom-5 atom-2\" d=\"M 295.1,80.2 L 289.7,89.9\" style=\"fill:none;fill-rule:evenodd;stroke:#FF0000;stroke-width:2.0px;stroke-linecap:butt;stroke-linejoin:miter;stroke-opacity:1\"/>\n",
       "<path class=\"bond-5 atom-5 atom-2\" d=\"M 289.7,89.9 L 284.2,99.5\" style=\"fill:none;fill-rule:evenodd;stroke:#000000;stroke-width:2.0px;stroke-linecap:butt;stroke-linejoin:miter;stroke-opacity:1\"/>\n",
       "<path class=\"bond-3 atom-3 atom-4\" d=\"M 311.9,99.3 L 335.9,113.0\" style=\"fill:none;fill-rule:evenodd;stroke:#000000;stroke-width:2.0px;stroke-linecap:butt;stroke-linejoin:miter;stroke-opacity:1\"/>\n",
       "<path class=\"bond-4 atom-3 atom-5\" d=\"M 311.9,99.3 L 306.3,89.8\" style=\"fill:none;fill-rule:evenodd;stroke:#000000;stroke-width:2.0px;stroke-linecap:butt;stroke-linejoin:miter;stroke-opacity:1\"/>\n",
       "<path class=\"bond-4 atom-3 atom-5\" d=\"M 306.3,89.8 L 300.7,80.2\" style=\"fill:none;fill-rule:evenodd;stroke:#FF0000;stroke-width:2.0px;stroke-linecap:butt;stroke-linejoin:miter;stroke-opacity:1\"/>\n",
       "<path class=\"atom-5\" d=\"M 294.3 75.5 Q 294.3 73.6, 295.2 72.5 Q 296.1 71.5, 297.9 71.5 Q 299.6 71.5, 300.5 72.5 Q 301.5 73.6, 301.5 75.5 Q 301.5 77.4, 300.5 78.5 Q 299.6 79.5, 297.9 79.5 Q 296.1 79.5, 295.2 78.5 Q 294.3 77.4, 294.3 75.5 M 297.9 78.7 Q 299.1 78.7, 299.7 77.9 Q 300.4 77.0, 300.4 75.5 Q 300.4 73.9, 299.7 73.2 Q 299.1 72.4, 297.9 72.4 Q 296.7 72.4, 296.0 73.1 Q 295.4 73.9, 295.4 75.5 Q 295.4 77.1, 296.0 77.9 Q 296.7 78.7, 297.9 78.7 \" fill=\"#FF0000\"/>\n",
       "<path class=\"bond-0 atom-0 atom-1\" d=\"M 409.1,91.4 L 434.3,79.8\" style=\"fill:none;fill-rule:evenodd;stroke:#000000;stroke-width:2.0px;stroke-linecap:butt;stroke-linejoin:miter;stroke-opacity:1\"/>\n",
       "<path class=\"bond-1 atom-1 atom-2\" d=\"M 434.3,79.8 L 456.8,95.8\" style=\"fill:none;fill-rule:evenodd;stroke:#000000;stroke-width:2.0px;stroke-linecap:butt;stroke-linejoin:miter;stroke-opacity:1\"/>\n",
       "<path class=\"bond-2 atom-2 atom-3\" d=\"M 456.8,95.8 L 482.0,84.3\" style=\"fill:none;fill-rule:evenodd;stroke:#000000;stroke-width:2.0px;stroke-linecap:butt;stroke-linejoin:miter;stroke-opacity:1\"/>\n",
       "<path class=\"bond-7 atom-2 atom-8\" d=\"M 456.8,95.8 L 454.2,123.4\" style=\"fill:none;fill-rule:evenodd;stroke:#000000;stroke-width:2.0px;stroke-linecap:butt;stroke-linejoin:miter;stroke-opacity:1\"/>\n",
       "<path class=\"bond-7 atom-2 atom-8\" d=\"M 450.9,99.4 L 449.1,118.7\" style=\"fill:none;fill-rule:evenodd;stroke:#000000;stroke-width:2.0px;stroke-linecap:butt;stroke-linejoin:miter;stroke-opacity:1\"/>\n",
       "<path class=\"bond-3 atom-3 atom-4\" d=\"M 482.0,84.3 L 504.6,100.3\" style=\"fill:none;fill-rule:evenodd;stroke:#000000;stroke-width:2.0px;stroke-linecap:butt;stroke-linejoin:miter;stroke-opacity:1\"/>\n",
       "<path class=\"bond-3 atom-3 atom-4\" d=\"M 482.2,91.2 L 498.0,102.4\" style=\"fill:none;fill-rule:evenodd;stroke:#000000;stroke-width:2.0px;stroke-linecap:butt;stroke-linejoin:miter;stroke-opacity:1\"/>\n",
       "<path class=\"bond-4 atom-4 atom-5\" d=\"M 504.6,100.3 L 529.7,88.8\" style=\"fill:none;fill-rule:evenodd;stroke:#000000;stroke-width:2.0px;stroke-linecap:butt;stroke-linejoin:miter;stroke-opacity:1\"/>\n",
       "<path class=\"bond-5 atom-5 atom-6\" d=\"M 529.7,88.8 L 552.3,104.8\" style=\"fill:none;fill-rule:evenodd;stroke:#000000;stroke-width:2.0px;stroke-linecap:butt;stroke-linejoin:miter;stroke-opacity:1\"/>\n",
       "<path class=\"bond-5 atom-5 atom-6\" d=\"M 529.9,95.7 L 545.7,106.9\" style=\"fill:none;fill-rule:evenodd;stroke:#000000;stroke-width:2.0px;stroke-linecap:butt;stroke-linejoin:miter;stroke-opacity:1\"/>\n",
       "<path class=\"bond-6 atom-6 atom-7\" d=\"M 552.3,104.8 L 563.3,99.7\" style=\"fill:none;fill-rule:evenodd;stroke:#000000;stroke-width:2.0px;stroke-linecap:butt;stroke-linejoin:miter;stroke-opacity:1\"/>\n",
       "<path class=\"bond-6 atom-6 atom-7\" d=\"M 563.3,99.7 L 574.3,94.7\" style=\"fill:none;fill-rule:evenodd;stroke:#FF7F00;stroke-width:2.0px;stroke-linecap:butt;stroke-linejoin:miter;stroke-opacity:1\"/>\n",
       "<path class=\"bond-8 atom-8 atom-9\" d=\"M 454.2,123.4 L 463.4,129.9\" style=\"fill:none;fill-rule:evenodd;stroke:#000000;stroke-width:2.0px;stroke-linecap:butt;stroke-linejoin:miter;stroke-opacity:1\"/>\n",
       "<path class=\"bond-8 atom-8 atom-9\" d=\"M 463.4,129.9 L 472.5,136.4\" style=\"fill:none;fill-rule:evenodd;stroke:#FF0000;stroke-width:2.0px;stroke-linecap:butt;stroke-linejoin:miter;stroke-opacity:1\"/>\n",
       "<path class=\"atom-7\" d=\"M 577.3 89.3 Q 578.6 89.3, 579.3 89.9 Q 580.0 90.5, 580.0 91.6 Q 580.0 92.7, 579.3 93.3 Q 578.6 93.9, 577.3 93.9 L 576.0 93.9 L 576.0 97.2 L 575.0 97.2 L 575.0 89.3 L 577.3 89.3 M 577.3 93.0 Q 578.1 93.0, 578.5 92.7 Q 578.9 92.3, 578.9 91.6 Q 578.9 90.9, 578.5 90.6 Q 578.1 90.2, 577.3 90.2 L 576.0 90.2 L 576.0 93.0 L 577.3 93.0 \" fill=\"#FF7F00\"/>\n",
       "<path class=\"atom-7\" d=\"M 580.9 89.3 L 582.0 89.3 L 582.0 92.6 L 586.0 92.6 L 586.0 89.3 L 587.1 89.3 L 587.1 97.2 L 586.0 97.2 L 586.0 93.5 L 582.0 93.5 L 582.0 97.2 L 580.9 97.2 L 580.9 89.3 \" fill=\"#FF7F00\"/>\n",
       "<path class=\"atom-7\" d=\"M 587.4 96.9 Q 587.6 96.4, 588.1 96.1 Q 588.5 95.8, 589.2 95.8 Q 589.9 95.8, 590.4 96.3 Q 590.8 96.7, 590.8 97.4 Q 590.8 98.2, 590.3 98.9 Q 589.7 99.6, 588.5 100.5 L 590.9 100.5 L 590.9 101.1 L 587.4 101.1 L 587.4 100.6 Q 588.4 99.9, 589.0 99.4 Q 589.5 98.9, 589.8 98.4 Q 590.1 98.0, 590.1 97.5 Q 590.1 97.0, 589.8 96.7 Q 589.6 96.4, 589.2 96.4 Q 588.7 96.4, 588.5 96.6 Q 588.2 96.8, 588.0 97.1 L 587.4 96.9 \" fill=\"#FF7F00\"/>\n",
       "<path class=\"atom-9\" d=\"M 473.2 139.4 Q 473.2 137.6, 474.2 136.5 Q 475.1 135.4, 476.8 135.4 Q 478.6 135.4, 479.5 136.5 Q 480.4 137.6, 480.4 139.4 Q 480.4 141.3, 479.5 142.4 Q 478.5 143.5, 476.8 143.5 Q 475.1 143.5, 474.2 142.4 Q 473.2 141.3, 473.2 139.4 M 476.8 142.6 Q 478.0 142.6, 478.7 141.8 Q 479.3 141.0, 479.3 139.4 Q 479.3 137.9, 478.7 137.1 Q 478.0 136.3, 476.8 136.3 Q 475.6 136.3, 475.0 137.1 Q 474.3 137.9, 474.3 139.4 Q 474.3 141.0, 475.0 141.8 Q 475.6 142.6, 476.8 142.6 \" fill=\"#FF0000\"/>\n",
       "<path class=\"atom-9\" d=\"M 481.4 135.5 L 482.4 135.5 L 482.4 138.9 L 486.4 138.9 L 486.4 135.5 L 487.5 135.5 L 487.5 143.4 L 486.4 143.4 L 486.4 139.8 L 482.4 139.8 L 482.4 143.4 L 481.4 143.4 L 481.4 135.5 \" fill=\"#FF0000\"/>\n",
       "<path class=\"bond-0 atom-0 atom-1\" d=\"M 25.2,306.1 L 50.4,294.6\" style=\"fill:none;fill-rule:evenodd;stroke:#000000;stroke-width:2.0px;stroke-linecap:butt;stroke-linejoin:miter;stroke-opacity:1\"/>\n",
       "<path class=\"bond-1 atom-1 atom-2\" d=\"M 50.4,294.6 L 59.5,301.1\" style=\"fill:none;fill-rule:evenodd;stroke:#000000;stroke-width:2.0px;stroke-linecap:butt;stroke-linejoin:miter;stroke-opacity:1\"/>\n",
       "<path class=\"bond-1 atom-1 atom-2\" d=\"M 59.5,301.1 L 68.7,307.6\" style=\"fill:none;fill-rule:evenodd;stroke:#FF0000;stroke-width:2.0px;stroke-linecap:butt;stroke-linejoin:miter;stroke-opacity:1\"/>\n",
       "<path class=\"bond-2 atom-2 atom-3\" d=\"M 77.3,308.7 L 87.7,303.9\" style=\"fill:none;fill-rule:evenodd;stroke:#FF0000;stroke-width:2.0px;stroke-linecap:butt;stroke-linejoin:miter;stroke-opacity:1\"/>\n",
       "<path class=\"bond-2 atom-2 atom-3\" d=\"M 87.7,303.9 L 98.2,299.1\" style=\"fill:none;fill-rule:evenodd;stroke:#000000;stroke-width:2.0px;stroke-linecap:butt;stroke-linejoin:miter;stroke-opacity:1\"/>\n",
       "<path class=\"bond-3 atom-3 atom-4\" d=\"M 100.9,299.4 L 102.0,287.9\" style=\"fill:none;fill-rule:evenodd;stroke:#000000;stroke-width:2.0px;stroke-linecap:butt;stroke-linejoin:miter;stroke-opacity:1\"/>\n",
       "<path class=\"bond-3 atom-3 atom-4\" d=\"M 102.0,287.9 L 103.1,276.4\" style=\"fill:none;fill-rule:evenodd;stroke:#FF7F00;stroke-width:2.0px;stroke-linecap:butt;stroke-linejoin:miter;stroke-opacity:1\"/>\n",
       "<path class=\"bond-3 atom-3 atom-4\" d=\"M 95.4,298.9 L 96.5,287.4\" style=\"fill:none;fill-rule:evenodd;stroke:#000000;stroke-width:2.0px;stroke-linecap:butt;stroke-linejoin:miter;stroke-opacity:1\"/>\n",
       "<path class=\"bond-3 atom-3 atom-4\" d=\"M 96.5,287.4 L 97.6,275.9\" style=\"fill:none;fill-rule:evenodd;stroke:#FF7F00;stroke-width:2.0px;stroke-linecap:butt;stroke-linejoin:miter;stroke-opacity:1\"/>\n",
       "<path class=\"bond-4 atom-3 atom-5\" d=\"M 98.2,299.1 L 107.3,305.6\" style=\"fill:none;fill-rule:evenodd;stroke:#000000;stroke-width:2.0px;stroke-linecap:butt;stroke-linejoin:miter;stroke-opacity:1\"/>\n",
       "<path class=\"bond-4 atom-3 atom-5\" d=\"M 107.3,305.6 L 116.4,312.1\" style=\"fill:none;fill-rule:evenodd;stroke:#FF0000;stroke-width:2.0px;stroke-linecap:butt;stroke-linejoin:miter;stroke-opacity:1\"/>\n",
       "<path class=\"bond-5 atom-5 atom-6\" d=\"M 125.0,313.2 L 135.4,308.4\" style=\"fill:none;fill-rule:evenodd;stroke:#FF0000;stroke-width:2.0px;stroke-linecap:butt;stroke-linejoin:miter;stroke-opacity:1\"/>\n",
       "<path class=\"bond-5 atom-5 atom-6\" d=\"M 135.4,308.4 L 145.9,303.7\" style=\"fill:none;fill-rule:evenodd;stroke:#000000;stroke-width:2.0px;stroke-linecap:butt;stroke-linejoin:miter;stroke-opacity:1\"/>\n",
       "<path class=\"atom-2\" d=\"M 69.4 310.6 Q 69.4 308.8, 70.3 307.7 Q 71.2 306.7, 73.0 306.7 Q 74.7 306.7, 75.6 307.7 Q 76.6 308.8, 76.6 310.6 Q 76.6 312.6, 75.6 313.6 Q 74.7 314.7, 73.0 314.7 Q 71.2 314.7, 70.3 313.6 Q 69.4 312.6, 69.4 310.6 M 73.0 313.8 Q 74.2 313.8, 74.8 313.0 Q 75.5 312.2, 75.5 310.6 Q 75.5 309.1, 74.8 308.3 Q 74.2 307.5, 73.0 307.5 Q 71.8 307.5, 71.1 308.3 Q 70.5 309.1, 70.5 310.6 Q 70.5 312.2, 71.1 313.0 Q 71.8 313.8, 73.0 313.8 \" fill=\"#FF0000\"/>\n",
       "<path class=\"atom-4\" d=\"M 100.6 267.6 Q 101.9 267.6, 102.6 268.3 Q 103.3 268.8, 103.3 269.9 Q 103.3 271.0, 102.6 271.7 Q 101.9 272.3, 100.6 272.3 L 99.3 272.3 L 99.3 275.5 L 98.3 275.5 L 98.3 267.6 L 100.6 267.6 M 100.6 271.4 Q 101.4 271.4, 101.8 271.0 Q 102.2 270.6, 102.2 269.9 Q 102.2 269.2, 101.8 268.9 Q 101.4 268.5, 100.6 268.5 L 99.3 268.5 L 99.3 271.4 L 100.6 271.4 \" fill=\"#FF7F00\"/>\n",
       "<path class=\"atom-4\" d=\"M 104.2 267.6 L 105.3 267.6 L 105.3 271.0 L 109.3 271.0 L 109.3 267.6 L 110.4 267.6 L 110.4 275.5 L 109.3 275.5 L 109.3 271.9 L 105.3 271.9 L 105.3 275.5 L 104.2 275.5 L 104.2 267.6 \" fill=\"#FF7F00\"/>\n",
       "<path class=\"atom-5\" d=\"M 117.1 315.2 Q 117.1 313.3, 118.0 312.3 Q 119.0 311.2, 120.7 311.2 Q 122.4 311.2, 123.4 312.3 Q 124.3 313.3, 124.3 315.2 Q 124.3 317.1, 123.4 318.2 Q 122.4 319.3, 120.7 319.3 Q 119.0 319.3, 118.0 318.2 Q 117.1 317.1, 117.1 315.2 M 120.7 318.4 Q 121.9 318.4, 122.5 317.6 Q 123.2 316.8, 123.2 315.2 Q 123.2 313.7, 122.5 312.9 Q 121.9 312.1, 120.7 312.1 Q 119.5 312.1, 118.9 312.9 Q 118.2 313.6, 118.2 315.2 Q 118.2 316.8, 118.9 317.6 Q 119.5 318.4, 120.7 318.4 \" fill=\"#FF0000\"/>\n",
       "<path class=\"bond-0 atom-0 atom-1\" d=\"M 331.3,326.6 L 309.3,309.8\" style=\"fill:none;fill-rule:evenodd;stroke:#000000;stroke-width:2.0px;stroke-linecap:butt;stroke-linejoin:miter;stroke-opacity:1\"/>\n",
       "<path class=\"bond-1 atom-1 atom-2\" d=\"M 309.3,309.8 L 298.7,284.3\" style=\"fill:none;fill-rule:evenodd;stroke:#000000;stroke-width:2.0px;stroke-linecap:butt;stroke-linejoin:miter;stroke-opacity:1\"/>\n",
       "<path class=\"bond-6 atom-4 atom-1\" d=\"M 285.1,306.7 L 297.2,308.2\" style=\"fill:none;fill-rule:evenodd;stroke:#FF7F00;stroke-width:2.0px;stroke-linecap:butt;stroke-linejoin:miter;stroke-opacity:1\"/>\n",
       "<path class=\"bond-6 atom-4 atom-1\" d=\"M 297.2,308.2 L 309.3,309.8\" style=\"fill:none;fill-rule:evenodd;stroke:#000000;stroke-width:2.0px;stroke-linecap:butt;stroke-linejoin:miter;stroke-opacity:1\"/>\n",
       "<path class=\"bond-2 atom-2 atom-3\" d=\"M 298.7,284.3 L 302.2,256.8\" style=\"fill:none;fill-rule:evenodd;stroke:#000000;stroke-width:2.0px;stroke-linecap:butt;stroke-linejoin:miter;stroke-opacity:1\"/>\n",
       "<path class=\"bond-3 atom-2 atom-4\" d=\"M 298.7,284.3 L 291.9,293.2\" style=\"fill:none;fill-rule:evenodd;stroke:#000000;stroke-width:2.0px;stroke-linecap:butt;stroke-linejoin:miter;stroke-opacity:1\"/>\n",
       "<path class=\"bond-3 atom-2 atom-4\" d=\"M 291.9,293.2 L 285.1,302.1\" style=\"fill:none;fill-rule:evenodd;stroke:#FF7F00;stroke-width:2.0px;stroke-linecap:butt;stroke-linejoin:miter;stroke-opacity:1\"/>\n",
       "<path class=\"bond-4 atom-4 atom-5\" d=\"M 278.7,307.6 L 269.6,311.4\" style=\"fill:none;fill-rule:evenodd;stroke:#FF7F00;stroke-width:2.0px;stroke-linecap:butt;stroke-linejoin:miter;stroke-opacity:1\"/>\n",
       "<path class=\"bond-4 atom-4 atom-5\" d=\"M 269.6,311.4 L 260.5,315.2\" style=\"fill:none;fill-rule:evenodd;stroke:#FF0000;stroke-width:2.0px;stroke-linecap:butt;stroke-linejoin:miter;stroke-opacity:1\"/>\n",
       "<path class=\"bond-5 atom-5 atom-6\" d=\"M 252.0,313.6 L 238.5,303.3\" style=\"fill:none;fill-rule:evenodd;stroke:#FF0000;stroke-width:2.0px;stroke-linecap:butt;stroke-linejoin:miter;stroke-opacity:1\"/>\n",
       "<path class=\"atom-4\" d=\"M 281.7 302.3 Q 283.0 302.3, 283.7 303.0 Q 284.4 303.6, 284.4 304.6 Q 284.4 305.7, 283.7 306.4 Q 283.0 307.0, 281.7 307.0 L 280.4 307.0 L 280.4 310.2 L 279.4 310.2 L 279.4 302.3 L 281.7 302.3 M 281.7 306.1 Q 282.5 306.1, 282.9 305.7 Q 283.3 305.3, 283.3 304.6 Q 283.3 304.0, 282.9 303.6 Q 282.5 303.2, 281.7 303.2 L 280.4 303.2 L 280.4 306.1 L 281.7 306.1 \" fill=\"#FF7F00\"/>\n",
       "<path class=\"atom-5\" d=\"M 252.7 316.9 Q 252.7 315.1, 253.7 314.0 Q 254.6 313.0, 256.3 313.0 Q 258.1 313.0, 259.0 314.0 Q 259.9 315.1, 259.9 316.9 Q 259.9 318.8, 259.0 319.9 Q 258.0 321.0, 256.3 321.0 Q 254.6 321.0, 253.7 319.9 Q 252.7 318.9, 252.7 316.9 M 256.3 320.1 Q 257.5 320.1, 258.2 319.3 Q 258.8 318.5, 258.8 316.9 Q 258.8 315.4, 258.2 314.6 Q 257.5 313.8, 256.3 313.8 Q 255.1 313.8, 254.5 314.6 Q 253.8 315.4, 253.8 316.9 Q 253.8 318.5, 254.5 319.3 Q 255.1 320.1, 256.3 320.1 \" fill=\"#FF0000\"/>\n",
       "<path class=\"atom-6\" d=\"M 224.0 296.2 L 225.1 296.2 L 225.1 299.6 L 229.1 299.6 L 229.1 296.2 L 230.2 296.2 L 230.2 304.1 L 229.1 304.1 L 229.1 300.5 L 225.1 300.5 L 225.1 304.1 L 224.0 304.1 L 224.0 296.2 \" fill=\"#FF0000\"/>\n",
       "<path class=\"atom-6\" d=\"M 230.7 300.1 Q 230.7 298.3, 231.7 297.2 Q 232.6 296.2, 234.3 296.2 Q 236.1 296.2, 237.0 297.2 Q 237.9 298.3, 237.9 300.1 Q 237.9 302.0, 237.0 303.1 Q 236.0 304.2, 234.3 304.2 Q 232.6 304.2, 231.7 303.1 Q 230.7 302.1, 230.7 300.1 M 234.3 303.3 Q 235.5 303.3, 236.2 302.5 Q 236.8 301.7, 236.8 300.1 Q 236.8 298.6, 236.2 297.8 Q 235.5 297.0, 234.3 297.0 Q 233.1 297.0, 232.5 297.8 Q 231.8 298.6, 231.8 300.1 Q 231.8 301.7, 232.5 302.5 Q 233.1 303.3, 234.3 303.3 \" fill=\"#FF0000\"/>\n",
       "</svg>"
      ],
      "text/plain": [
       "<IPython.core.display.SVG object>"
      ]
     },
     "execution_count": 17,
     "metadata": {},
     "output_type": "execute_result"
    }
   ],
   "source": [
    "molecules = [Chem.MolFromSmiles(smi) for smi in smiles_hits]\n",
    "\n",
    "Draw.MolsToGridImage(molecules, subImgSize=(200,200), molsPerRow=3, useSVG=True)"
   ]
  },
  {
   "cell_type": "markdown",
   "id": "19eb3501",
   "metadata": {},
   "source": [
    "## Approach 2. Molecular design by evolving focused molecular libraries"
   ]
  },
  {
   "cell_type": "markdown",
   "id": "6acc53c4",
   "metadata": {},
   "source": [
    "Let us use MACAW's library evolver to generate molecules with a predicted RON specification of 40. \n",
    "\n",
    "By default, `library_evolver` will evolve 8 generations of molecules. This number can be controlled using the optional argument `N_rounds`. With the optional argument `N_hits` we specify the number of molecules that we want the algorithm to return in its output."
   ]
  },
  {
   "cell_type": "code",
   "execution_count": 18,
   "id": "8589263c",
   "metadata": {},
   "outputs": [],
   "source": [
    "%%capture\n",
    "smiles_hits, Y_hits_pred = library_evolver(smiles, regr, mcw, spec=40., n_hits=5, n_rounds=8)"
   ]
  },
  {
   "cell_type": "code",
   "execution_count": 19,
   "id": "6984fbb7",
   "metadata": {},
   "outputs": [
    {
     "name": "stdout",
     "output_type": "stream",
     "text": [
      "['CC1CCC(CCCP)C1', 'CC(CCCCP)CPP', 'CCCCC(C)CC(C)CCCC', 'CCCCPCOCOC', 'CCCCCP=PPC']\n",
      "[39.93750044 39.99416007 40.01272262 40.05766901 40.06677939]\n"
     ]
    }
   ],
   "source": [
    "print(smiles_hits)\n",
    "print(Y_hits_pred)"
   ]
  },
  {
   "cell_type": "code",
   "execution_count": 20,
   "id": "ba6e24cf",
   "metadata": {},
   "outputs": [
    {
     "data": {
      "image/svg+xml": [
       "<svg xmlns=\"http://www.w3.org/2000/svg\" xmlns:rdkit=\"http://www.rdkit.org/xml\" xmlns:xlink=\"http://www.w3.org/1999/xlink\" version=\"1.1\" baseProfile=\"full\" xml:space=\"preserve\" width=\"600px\" height=\"400px\" viewBox=\"0 0 600 400\">\n",
       "<!-- END OF HEADER -->\n",
       "<rect style=\"opacity:1.0;fill:#FFFFFF;stroke:none\" width=\"600.0\" height=\"400.0\" x=\"0.0\" y=\"0.0\"> </rect>\n",
       "<rect style=\"opacity:1.0;fill:#FFFFFF;stroke:none\" width=\"600.0\" height=\"400.0\" x=\"0.0\" y=\"0.0\"> </rect>\n",
       "<rect style=\"opacity:1.0;fill:#FFFFFF;stroke:none\" width=\"600.0\" height=\"400.0\" x=\"0.0\" y=\"0.0\"> </rect>\n",
       "<rect style=\"opacity:1.0;fill:#FFFFFF;stroke:none\" width=\"600.0\" height=\"400.0\" x=\"0.0\" y=\"0.0\"> </rect>\n",
       "<rect style=\"opacity:1.0;fill:#FFFFFF;stroke:none\" width=\"600.0\" height=\"400.0\" x=\"0.0\" y=\"0.0\"> </rect>\n",
       "<rect style=\"opacity:1.0;fill:#FFFFFF;stroke:none\" width=\"600.0\" height=\"400.0\" x=\"0.0\" y=\"0.0\"> </rect>\n",
       "<path class=\"bond-0 atom-0 atom-1\" d=\"M 164.4,99.1 L 142.1,93.6\" style=\"fill:none;fill-rule:evenodd;stroke:#000000;stroke-width:2.0px;stroke-linecap:butt;stroke-linejoin:miter;stroke-opacity:1\"/>\n",
       "<path class=\"bond-1 atom-1 atom-2\" d=\"M 142.1,93.6 L 133.4,72.3\" style=\"fill:none;fill-rule:evenodd;stroke:#000000;stroke-width:2.0px;stroke-linecap:butt;stroke-linejoin:miter;stroke-opacity:1\"/>\n",
       "<path class=\"bond-9 atom-9 atom-1\" d=\"M 124.5,108.4 L 142.1,93.6\" style=\"fill:none;fill-rule:evenodd;stroke:#000000;stroke-width:2.0px;stroke-linecap:butt;stroke-linejoin:miter;stroke-opacity:1\"/>\n",
       "<path class=\"bond-2 atom-2 atom-3\" d=\"M 133.4,72.3 L 110.4,74.0\" style=\"fill:none;fill-rule:evenodd;stroke:#000000;stroke-width:2.0px;stroke-linecap:butt;stroke-linejoin:miter;stroke-opacity:1\"/>\n",
       "<path class=\"bond-3 atom-3 atom-4\" d=\"M 110.4,74.0 L 104.9,96.3\" style=\"fill:none;fill-rule:evenodd;stroke:#000000;stroke-width:2.0px;stroke-linecap:butt;stroke-linejoin:miter;stroke-opacity:1\"/>\n",
       "<path class=\"bond-4 atom-4 atom-5\" d=\"M 104.9,96.3 L 83.6,105.0\" style=\"fill:none;fill-rule:evenodd;stroke:#000000;stroke-width:2.0px;stroke-linecap:butt;stroke-linejoin:miter;stroke-opacity:1\"/>\n",
       "<path class=\"bond-8 atom-4 atom-9\" d=\"M 104.9,96.3 L 124.5,108.4\" style=\"fill:none;fill-rule:evenodd;stroke:#000000;stroke-width:2.0px;stroke-linecap:butt;stroke-linejoin:miter;stroke-opacity:1\"/>\n",
       "<path class=\"bond-5 atom-5 atom-6\" d=\"M 83.6,105.0 L 65.4,90.9\" style=\"fill:none;fill-rule:evenodd;stroke:#000000;stroke-width:2.0px;stroke-linecap:butt;stroke-linejoin:miter;stroke-opacity:1\"/>\n",
       "<path class=\"bond-6 atom-6 atom-7\" d=\"M 65.4,90.9 L 44.1,99.5\" style=\"fill:none;fill-rule:evenodd;stroke:#000000;stroke-width:2.0px;stroke-linecap:butt;stroke-linejoin:miter;stroke-opacity:1\"/>\n",
       "<path class=\"bond-7 atom-7 atom-8\" d=\"M 44.1,99.5 L 36.4,93.5\" style=\"fill:none;fill-rule:evenodd;stroke:#000000;stroke-width:2.0px;stroke-linecap:butt;stroke-linejoin:miter;stroke-opacity:1\"/>\n",
       "<path class=\"bond-7 atom-7 atom-8\" d=\"M 36.4,93.5 L 28.6,87.5\" style=\"fill:none;fill-rule:evenodd;stroke:#FF7F00;stroke-width:2.0px;stroke-linecap:butt;stroke-linejoin:miter;stroke-opacity:1\"/>\n",
       "<path class=\"atom-8\" d=\"M 14.8 82.1 L 15.7 82.1 L 15.7 84.9 L 19.0 84.9 L 19.0 82.1 L 19.9 82.1 L 19.9 88.7 L 19.0 88.7 L 19.0 85.7 L 15.7 85.7 L 15.7 88.7 L 14.8 88.7 L 14.8 82.1 \" fill=\"#FF7F00\"/>\n",
       "<path class=\"atom-8\" d=\"M 20.2 88.4 Q 20.4 88.0, 20.8 87.8 Q 21.1 87.6, 21.7 87.6 Q 22.3 87.6, 22.7 87.9 Q 23.0 88.3, 23.0 88.9 Q 23.0 89.5, 22.6 90.1 Q 22.1 90.7, 21.1 91.4 L 23.1 91.4 L 23.1 91.9 L 20.2 91.9 L 20.2 91.5 Q 21.0 90.9, 21.5 90.5 Q 22.0 90.1, 22.2 89.7 Q 22.4 89.3, 22.4 88.9 Q 22.4 88.5, 22.2 88.3 Q 22.0 88.1, 21.7 88.1 Q 21.3 88.1, 21.1 88.2 Q 20.8 88.3, 20.7 88.6 L 20.2 88.4 \" fill=\"#FF7F00\"/>\n",
       "<path class=\"atom-8\" d=\"M 25.8 82.1 Q 26.9 82.1, 27.5 82.7 Q 28.0 83.1, 28.0 84.1 Q 28.0 85.0, 27.5 85.5 Q 26.9 86.0, 25.8 86.0 L 24.8 86.0 L 24.8 88.7 L 23.9 88.7 L 23.9 82.1 L 25.8 82.1 M 25.8 85.2 Q 26.4 85.2, 26.8 84.9 Q 27.1 84.6, 27.1 84.1 Q 27.1 83.5, 26.8 83.2 Q 26.5 82.9, 25.8 82.9 L 24.8 82.9 L 24.8 85.2 L 25.8 85.2 \" fill=\"#FF7F00\"/>\n",
       "<path class=\"bond-0 atom-0 atom-1\" d=\"M 345.3,61.5 L 329.0,77.7\" style=\"fill:none;fill-rule:evenodd;stroke:#000000;stroke-width:2.0px;stroke-linecap:butt;stroke-linejoin:miter;stroke-opacity:1\"/>\n",
       "<path class=\"bond-1 atom-1 atom-2\" d=\"M 329.0,77.7 L 306.8,71.6\" style=\"fill:none;fill-rule:evenodd;stroke:#000000;stroke-width:2.0px;stroke-linecap:butt;stroke-linejoin:miter;stroke-opacity:1\"/>\n",
       "<path class=\"bond-6 atom-1 atom-7\" d=\"M 329.0,77.7 L 334.8,99.9\" style=\"fill:none;fill-rule:evenodd;stroke:#000000;stroke-width:2.0px;stroke-linecap:butt;stroke-linejoin:miter;stroke-opacity:1\"/>\n",
       "<path class=\"bond-2 atom-2 atom-3\" d=\"M 306.8,71.6 L 290.4,87.8\" style=\"fill:none;fill-rule:evenodd;stroke:#000000;stroke-width:2.0px;stroke-linecap:butt;stroke-linejoin:miter;stroke-opacity:1\"/>\n",
       "<path class=\"bond-3 atom-3 atom-4\" d=\"M 290.4,87.8 L 268.2,81.8\" style=\"fill:none;fill-rule:evenodd;stroke:#000000;stroke-width:2.0px;stroke-linecap:butt;stroke-linejoin:miter;stroke-opacity:1\"/>\n",
       "<path class=\"bond-4 atom-4 atom-5\" d=\"M 268.2,81.8 L 251.9,97.9\" style=\"fill:none;fill-rule:evenodd;stroke:#000000;stroke-width:2.0px;stroke-linecap:butt;stroke-linejoin:miter;stroke-opacity:1\"/>\n",
       "<path class=\"bond-5 atom-5 atom-6\" d=\"M 251.9,97.9 L 242.1,95.3\" style=\"fill:none;fill-rule:evenodd;stroke:#000000;stroke-width:2.0px;stroke-linecap:butt;stroke-linejoin:miter;stroke-opacity:1\"/>\n",
       "<path class=\"bond-5 atom-5 atom-6\" d=\"M 242.1,95.3 L 232.3,92.6\" style=\"fill:none;fill-rule:evenodd;stroke:#FF7F00;stroke-width:2.0px;stroke-linecap:butt;stroke-linejoin:miter;stroke-opacity:1\"/>\n",
       "<path class=\"bond-7 atom-7 atom-8\" d=\"M 334.8,99.9 L 328.0,106.7\" style=\"fill:none;fill-rule:evenodd;stroke:#000000;stroke-width:2.0px;stroke-linecap:butt;stroke-linejoin:miter;stroke-opacity:1\"/>\n",
       "<path class=\"bond-7 atom-7 atom-8\" d=\"M 328.0,106.7 L 321.1,113.5\" style=\"fill:none;fill-rule:evenodd;stroke:#FF7F00;stroke-width:2.0px;stroke-linecap:butt;stroke-linejoin:miter;stroke-opacity:1\"/>\n",
       "<path class=\"bond-8 atom-8 atom-9\" d=\"M 319.5,119.9 L 323.3,134.6\" style=\"fill:none;fill-rule:evenodd;stroke:#FF7F00;stroke-width:2.0px;stroke-linecap:butt;stroke-linejoin:miter;stroke-opacity:1\"/>\n",
       "<path class=\"atom-6\" d=\"M 218.5 88.6 L 219.4 88.6 L 219.4 91.4 L 222.7 91.4 L 222.7 88.6 L 223.6 88.6 L 223.6 95.2 L 222.7 95.2 L 222.7 92.1 L 219.4 92.1 L 219.4 95.2 L 218.5 95.2 L 218.5 88.6 \" fill=\"#FF7F00\"/>\n",
       "<path class=\"atom-6\" d=\"M 223.9 94.9 Q 224.1 94.5, 224.5 94.3 Q 224.8 94.1, 225.4 94.1 Q 226.0 94.1, 226.4 94.4 Q 226.7 94.8, 226.7 95.4 Q 226.7 96.0, 226.3 96.6 Q 225.8 97.2, 224.8 97.9 L 226.8 97.9 L 226.8 98.4 L 223.9 98.4 L 223.9 98.0 Q 224.7 97.4, 225.2 97.0 Q 225.7 96.6, 225.9 96.2 Q 226.1 95.8, 226.1 95.4 Q 226.1 95.0, 225.9 94.8 Q 225.7 94.5, 225.4 94.5 Q 225.0 94.5, 224.8 94.7 Q 224.6 94.8, 224.4 95.1 L 223.9 94.9 \" fill=\"#FF7F00\"/>\n",
       "<path class=\"atom-6\" d=\"M 229.5 88.6 Q 230.6 88.6, 231.2 89.1 Q 231.8 89.6, 231.8 90.6 Q 231.8 91.5, 231.2 92.0 Q 230.6 92.5, 229.5 92.5 L 228.5 92.5 L 228.5 95.2 L 227.6 95.2 L 227.6 88.6 L 229.5 88.6 M 229.5 91.7 Q 230.2 91.7, 230.5 91.4 Q 230.8 91.1, 230.8 90.6 Q 230.8 90.0, 230.5 89.7 Q 230.2 89.4, 229.5 89.4 L 228.5 89.4 L 228.5 91.7 L 229.5 91.7 \" fill=\"#FF7F00\"/>\n",
       "<path class=\"atom-8\" d=\"M 310.5 112.9 L 311.4 112.9 L 311.4 115.6 L 314.7 115.6 L 314.7 112.9 L 315.6 112.9 L 315.6 119.4 L 314.7 119.4 L 314.7 116.4 L 311.4 116.4 L 311.4 119.4 L 310.5 119.4 L 310.5 112.9 \" fill=\"#FF7F00\"/>\n",
       "<path class=\"atom-8\" d=\"M 318.3 112.9 Q 319.4 112.9, 320.0 113.4 Q 320.6 113.9, 320.6 114.8 Q 320.6 115.7, 320.0 116.2 Q 319.4 116.7, 318.3 116.7 L 317.3 116.7 L 317.3 119.4 L 316.4 119.4 L 316.4 112.9 L 318.3 112.9 M 318.3 116.0 Q 319.0 116.0, 319.3 115.7 Q 319.6 115.3, 319.6 114.8 Q 319.6 114.2, 319.3 113.9 Q 319.0 113.6, 318.3 113.6 L 317.3 113.6 L 317.3 116.0 L 318.3 116.0 \" fill=\"#FF7F00\"/>\n",
       "<path class=\"atom-9\" d=\"M 324.2 135.1 Q 325.3 135.1, 325.9 135.6 Q 326.4 136.1, 326.4 137.0 Q 326.4 137.9, 325.8 138.4 Q 325.3 138.9, 324.2 138.9 L 323.1 138.9 L 323.1 141.6 L 322.3 141.6 L 322.3 135.1 L 324.2 135.1 M 324.2 138.2 Q 324.8 138.2, 325.2 137.9 Q 325.5 137.6, 325.5 137.0 Q 325.5 136.4, 325.2 136.1 Q 324.8 135.8, 324.2 135.8 L 323.1 135.8 L 323.1 138.2 L 324.2 138.2 \" fill=\"#FF7F00\"/>\n",
       "<path class=\"atom-9\" d=\"M 327.2 135.1 L 328.1 135.1 L 328.1 137.9 L 331.4 137.9 L 331.4 135.1 L 332.3 135.1 L 332.3 141.6 L 331.4 141.6 L 331.4 138.6 L 328.1 138.6 L 328.1 141.6 L 327.2 141.6 L 327.2 135.1 \" fill=\"#FF7F00\"/>\n",
       "<path class=\"atom-9\" d=\"M 332.6 141.4 Q 332.8 141.0, 333.1 140.8 Q 333.5 140.5, 334.0 140.5 Q 334.7 140.5, 335.1 140.9 Q 335.4 141.2, 335.4 141.9 Q 335.4 142.5, 334.9 143.1 Q 334.5 143.7, 333.5 144.4 L 335.5 144.4 L 335.5 144.9 L 332.6 144.9 L 332.6 144.5 Q 333.4 143.9, 333.9 143.5 Q 334.4 143.1, 334.6 142.7 Q 334.8 142.3, 334.8 141.9 Q 334.8 141.5, 334.6 141.2 Q 334.4 141.0, 334.0 141.0 Q 333.7 141.0, 333.5 141.2 Q 333.2 141.3, 333.1 141.6 L 332.6 141.4 \" fill=\"#FF7F00\"/>\n",
       "<path class=\"bond-0 atom-0 atom-1\" d=\"M 590.9,81.5 L 575.0,98.1\" style=\"fill:none;fill-rule:evenodd;stroke:#000000;stroke-width:2.0px;stroke-linecap:butt;stroke-linejoin:miter;stroke-opacity:1\"/>\n",
       "<path class=\"bond-1 atom-1 atom-2\" d=\"M 575.0,98.1 L 552.7,92.7\" style=\"fill:none;fill-rule:evenodd;stroke:#000000;stroke-width:2.0px;stroke-linecap:butt;stroke-linejoin:miter;stroke-opacity:1\"/>\n",
       "<path class=\"bond-2 atom-2 atom-3\" d=\"M 552.7,92.7 L 536.8,109.3\" style=\"fill:none;fill-rule:evenodd;stroke:#000000;stroke-width:2.0px;stroke-linecap:butt;stroke-linejoin:miter;stroke-opacity:1\"/>\n",
       "<path class=\"bond-3 atom-3 atom-4\" d=\"M 536.8,109.3 L 514.4,103.9\" style=\"fill:none;fill-rule:evenodd;stroke:#000000;stroke-width:2.0px;stroke-linecap:butt;stroke-linejoin:miter;stroke-opacity:1\"/>\n",
       "<path class=\"bond-4 atom-4 atom-5\" d=\"M 514.4,103.9 L 498.5,120.5\" style=\"fill:none;fill-rule:evenodd;stroke:#000000;stroke-width:2.0px;stroke-linecap:butt;stroke-linejoin:miter;stroke-opacity:1\"/>\n",
       "<path class=\"bond-5 atom-4 atom-6\" d=\"M 514.4,103.9 L 507.9,81.8\" style=\"fill:none;fill-rule:evenodd;stroke:#000000;stroke-width:2.0px;stroke-linecap:butt;stroke-linejoin:miter;stroke-opacity:1\"/>\n",
       "<path class=\"bond-6 atom-6 atom-7\" d=\"M 507.9,81.8 L 485.6,76.3\" style=\"fill:none;fill-rule:evenodd;stroke:#000000;stroke-width:2.0px;stroke-linecap:butt;stroke-linejoin:miter;stroke-opacity:1\"/>\n",
       "<path class=\"bond-7 atom-7 atom-8\" d=\"M 485.6,76.3 L 479.1,54.3\" style=\"fill:none;fill-rule:evenodd;stroke:#000000;stroke-width:2.0px;stroke-linecap:butt;stroke-linejoin:miter;stroke-opacity:1\"/>\n",
       "<path class=\"bond-8 atom-7 atom-9\" d=\"M 485.6,76.3 L 469.7,93.0\" style=\"fill:none;fill-rule:evenodd;stroke:#000000;stroke-width:2.0px;stroke-linecap:butt;stroke-linejoin:miter;stroke-opacity:1\"/>\n",
       "<path class=\"bond-9 atom-9 atom-10\" d=\"M 469.7,93.0 L 447.3,87.5\" style=\"fill:none;fill-rule:evenodd;stroke:#000000;stroke-width:2.0px;stroke-linecap:butt;stroke-linejoin:miter;stroke-opacity:1\"/>\n",
       "<path class=\"bond-10 atom-10 atom-11\" d=\"M 447.3,87.5 L 431.4,104.2\" style=\"fill:none;fill-rule:evenodd;stroke:#000000;stroke-width:2.0px;stroke-linecap:butt;stroke-linejoin:miter;stroke-opacity:1\"/>\n",
       "<path class=\"bond-11 atom-11 atom-12\" d=\"M 431.4,104.2 L 409.1,98.7\" style=\"fill:none;fill-rule:evenodd;stroke:#000000;stroke-width:2.0px;stroke-linecap:butt;stroke-linejoin:miter;stroke-opacity:1\"/>\n",
       "<path class=\"bond-0 atom-0 atom-1\" d=\"M 10.1,296.6 L 30.3,285.5\" style=\"fill:none;fill-rule:evenodd;stroke:#000000;stroke-width:2.0px;stroke-linecap:butt;stroke-linejoin:miter;stroke-opacity:1\"/>\n",
       "<path class=\"bond-1 atom-1 atom-2\" d=\"M 30.3,285.5 L 50.0,297.3\" style=\"fill:none;fill-rule:evenodd;stroke:#000000;stroke-width:2.0px;stroke-linecap:butt;stroke-linejoin:miter;stroke-opacity:1\"/>\n",
       "<path class=\"bond-2 atom-2 atom-3\" d=\"M 50.0,297.3 L 70.1,286.2\" style=\"fill:none;fill-rule:evenodd;stroke:#000000;stroke-width:2.0px;stroke-linecap:butt;stroke-linejoin:miter;stroke-opacity:1\"/>\n",
       "<path class=\"bond-3 atom-3 atom-4\" d=\"M 70.1,286.2 L 78.6,291.3\" style=\"fill:none;fill-rule:evenodd;stroke:#000000;stroke-width:2.0px;stroke-linecap:butt;stroke-linejoin:miter;stroke-opacity:1\"/>\n",
       "<path class=\"bond-3 atom-3 atom-4\" d=\"M 78.6,291.3 L 87.2,296.4\" style=\"fill:none;fill-rule:evenodd;stroke:#FF7F00;stroke-width:2.0px;stroke-linecap:butt;stroke-linejoin:miter;stroke-opacity:1\"/>\n",
       "<path class=\"bond-4 atom-4 atom-5\" d=\"M 92.5,296.6 L 101.2,291.7\" style=\"fill:none;fill-rule:evenodd;stroke:#FF7F00;stroke-width:2.0px;stroke-linecap:butt;stroke-linejoin:miter;stroke-opacity:1\"/>\n",
       "<path class=\"bond-4 atom-4 atom-5\" d=\"M 101.2,291.7 L 109.9,286.9\" style=\"fill:none;fill-rule:evenodd;stroke:#000000;stroke-width:2.0px;stroke-linecap:butt;stroke-linejoin:miter;stroke-opacity:1\"/>\n",
       "<path class=\"bond-5 atom-5 atom-6\" d=\"M 109.9,286.9 L 118.0,291.7\" style=\"fill:none;fill-rule:evenodd;stroke:#000000;stroke-width:2.0px;stroke-linecap:butt;stroke-linejoin:miter;stroke-opacity:1\"/>\n",
       "<path class=\"bond-5 atom-5 atom-6\" d=\"M 118.0,291.7 L 126.1,296.6\" style=\"fill:none;fill-rule:evenodd;stroke:#FF0000;stroke-width:2.0px;stroke-linecap:butt;stroke-linejoin:miter;stroke-opacity:1\"/>\n",
       "<path class=\"bond-6 atom-6 atom-7\" d=\"M 133.2,296.8 L 141.5,292.2\" style=\"fill:none;fill-rule:evenodd;stroke:#FF0000;stroke-width:2.0px;stroke-linecap:butt;stroke-linejoin:miter;stroke-opacity:1\"/>\n",
       "<path class=\"bond-6 atom-6 atom-7\" d=\"M 141.5,292.2 L 149.8,287.6\" style=\"fill:none;fill-rule:evenodd;stroke:#000000;stroke-width:2.0px;stroke-linecap:butt;stroke-linejoin:miter;stroke-opacity:1\"/>\n",
       "<path class=\"bond-7 atom-7 atom-8\" d=\"M 149.8,287.6 L 157.9,292.4\" style=\"fill:none;fill-rule:evenodd;stroke:#000000;stroke-width:2.0px;stroke-linecap:butt;stroke-linejoin:miter;stroke-opacity:1\"/>\n",
       "<path class=\"bond-7 atom-7 atom-8\" d=\"M 157.9,292.4 L 166.0,297.3\" style=\"fill:none;fill-rule:evenodd;stroke:#FF0000;stroke-width:2.0px;stroke-linecap:butt;stroke-linejoin:miter;stroke-opacity:1\"/>\n",
       "<path class=\"bond-8 atom-8 atom-9\" d=\"M 173.1,297.5 L 181.4,292.9\" style=\"fill:none;fill-rule:evenodd;stroke:#FF0000;stroke-width:2.0px;stroke-linecap:butt;stroke-linejoin:miter;stroke-opacity:1\"/>\n",
       "<path class=\"bond-8 atom-8 atom-9\" d=\"M 181.4,292.9 L 189.6,288.3\" style=\"fill:none;fill-rule:evenodd;stroke:#000000;stroke-width:2.0px;stroke-linecap:butt;stroke-linejoin:miter;stroke-opacity:1\"/>\n",
       "<path class=\"atom-4\" d=\"M 89.7 294.8 Q 90.8 294.8, 91.3 295.3 Q 91.9 295.8, 91.9 296.7 Q 91.9 297.6, 91.3 298.1 Q 90.8 298.6, 89.7 298.6 L 88.6 298.6 L 88.6 301.3 L 87.7 301.3 L 87.7 294.8 L 89.7 294.8 M 89.7 297.9 Q 90.3 297.9, 90.6 297.6 Q 91.0 297.3, 91.0 296.7 Q 91.0 296.1, 90.6 295.8 Q 90.3 295.5, 89.7 295.5 L 88.6 295.5 L 88.6 297.9 L 89.7 297.9 \" fill=\"#FF7F00\"/>\n",
       "<path class=\"atom-4\" d=\"M 87.3 301.9 L 88.2 301.9 L 88.2 304.7 L 91.5 304.7 L 91.5 301.9 L 92.4 301.9 L 92.4 308.5 L 91.5 308.5 L 91.5 305.4 L 88.2 305.4 L 88.2 308.5 L 87.3 308.5 L 87.3 301.9 \" fill=\"#FF7F00\"/>\n",
       "<path class=\"atom-6\" d=\"M 126.7 298.7 Q 126.7 297.2, 127.5 296.3 Q 128.2 295.4, 129.7 295.4 Q 131.1 295.4, 131.9 296.3 Q 132.7 297.2, 132.7 298.7 Q 132.7 300.3, 131.9 301.2 Q 131.1 302.1, 129.7 302.1 Q 128.2 302.1, 127.5 301.2 Q 126.7 300.3, 126.7 298.7 M 129.7 301.4 Q 130.7 301.4, 131.2 300.7 Q 131.7 300.1, 131.7 298.7 Q 131.7 297.5, 131.2 296.8 Q 130.7 296.2, 129.7 296.2 Q 128.7 296.2, 128.1 296.8 Q 127.6 297.5, 127.6 298.7 Q 127.6 300.1, 128.1 300.7 Q 128.7 301.4, 129.7 301.4 \" fill=\"#FF0000\"/>\n",
       "<path class=\"atom-8\" d=\"M 166.5 299.5 Q 166.5 297.9, 167.3 297.0 Q 168.1 296.1, 169.5 296.1 Q 171.0 296.1, 171.7 297.0 Q 172.5 297.9, 172.5 299.5 Q 172.5 301.0, 171.7 301.9 Q 170.9 302.8, 169.5 302.8 Q 168.1 302.8, 167.3 301.9 Q 166.5 301.0, 166.5 299.5 M 169.5 302.1 Q 170.5 302.1, 171.0 301.4 Q 171.6 300.8, 171.6 299.5 Q 171.6 298.2, 171.0 297.5 Q 170.5 296.9, 169.5 296.9 Q 168.5 296.9, 168.0 297.5 Q 167.4 298.2, 167.4 299.5 Q 167.4 300.8, 168.0 301.4 Q 168.5 302.1, 169.5 302.1 \" fill=\"#FF0000\"/>\n",
       "<path class=\"bond-0 atom-0 atom-1\" d=\"M 220.2,297.6 L 240.1,286.1\" style=\"fill:none;fill-rule:evenodd;stroke:#000000;stroke-width:2.0px;stroke-linecap:butt;stroke-linejoin:miter;stroke-opacity:1\"/>\n",
       "<path class=\"bond-1 atom-1 atom-2\" d=\"M 240.1,286.1 L 260.0,297.6\" style=\"fill:none;fill-rule:evenodd;stroke:#000000;stroke-width:2.0px;stroke-linecap:butt;stroke-linejoin:miter;stroke-opacity:1\"/>\n",
       "<path class=\"bond-2 atom-2 atom-3\" d=\"M 260.0,297.6 L 280.0,286.1\" style=\"fill:none;fill-rule:evenodd;stroke:#000000;stroke-width:2.0px;stroke-linecap:butt;stroke-linejoin:miter;stroke-opacity:1\"/>\n",
       "<path class=\"bond-3 atom-3 atom-4\" d=\"M 280.0,286.1 L 299.9,297.6\" style=\"fill:none;fill-rule:evenodd;stroke:#000000;stroke-width:2.0px;stroke-linecap:butt;stroke-linejoin:miter;stroke-opacity:1\"/>\n",
       "<path class=\"bond-4 atom-4 atom-5\" d=\"M 299.9,297.6 L 308.5,292.6\" style=\"fill:none;fill-rule:evenodd;stroke:#000000;stroke-width:2.0px;stroke-linecap:butt;stroke-linejoin:miter;stroke-opacity:1\"/>\n",
       "<path class=\"bond-4 atom-4 atom-5\" d=\"M 308.5,292.6 L 317.2,287.6\" style=\"fill:none;fill-rule:evenodd;stroke:#FF7F00;stroke-width:2.0px;stroke-linecap:butt;stroke-linejoin:miter;stroke-opacity:1\"/>\n",
       "<path class=\"bond-5 atom-5 atom-6\" d=\"M 322.5,287.6 L 337.2,296.1\" style=\"fill:none;fill-rule:evenodd;stroke:#FF7F00;stroke-width:2.0px;stroke-linecap:butt;stroke-linejoin:miter;stroke-opacity:1\"/>\n",
       "<path class=\"bond-5 atom-5 atom-6\" d=\"M 322.4,292.9 L 332.7,298.8\" style=\"fill:none;fill-rule:evenodd;stroke:#FF7F00;stroke-width:2.0px;stroke-linecap:butt;stroke-linejoin:miter;stroke-opacity:1\"/>\n",
       "<path class=\"bond-6 atom-6 atom-7\" d=\"M 342.4,296.0 L 357.1,287.5\" style=\"fill:none;fill-rule:evenodd;stroke:#FF7F00;stroke-width:2.0px;stroke-linecap:butt;stroke-linejoin:miter;stroke-opacity:1\"/>\n",
       "<path class=\"bond-7 atom-7 atom-8\" d=\"M 362.3,287.6 L 371.0,292.6\" style=\"fill:none;fill-rule:evenodd;stroke:#FF7F00;stroke-width:2.0px;stroke-linecap:butt;stroke-linejoin:miter;stroke-opacity:1\"/>\n",
       "<path class=\"bond-7 atom-7 atom-8\" d=\"M 371.0,292.6 L 379.6,297.6\" style=\"fill:none;fill-rule:evenodd;stroke:#000000;stroke-width:2.0px;stroke-linecap:butt;stroke-linejoin:miter;stroke-opacity:1\"/>\n",
       "<path class=\"atom-5\" d=\"M 319.7 282.8 Q 320.8 282.8, 321.3 283.3 Q 321.9 283.8, 321.9 284.7 Q 321.9 285.6, 321.3 286.1 Q 320.7 286.6, 319.7 286.6 L 318.6 286.6 L 318.6 289.3 L 317.7 289.3 L 317.7 282.8 L 319.7 282.8 M 319.7 285.9 Q 320.3 285.9, 320.6 285.6 Q 321.0 285.3, 321.0 284.7 Q 321.0 284.1, 320.6 283.8 Q 320.3 283.5, 319.7 283.5 L 318.6 283.5 L 318.6 285.9 L 319.7 285.9 \" fill=\"#FF7F00\"/>\n",
       "<path class=\"atom-6\" d=\"M 339.6 294.3 Q 340.7 294.3, 341.3 294.8 Q 341.8 295.3, 341.8 296.2 Q 341.8 297.1, 341.2 297.6 Q 340.7 298.1, 339.6 298.1 L 338.5 298.1 L 338.5 300.8 L 337.7 300.8 L 337.7 294.3 L 339.6 294.3 M 339.6 297.4 Q 340.2 297.4, 340.6 297.1 Q 340.9 296.8, 340.9 296.2 Q 340.9 295.6, 340.6 295.3 Q 340.2 295.0, 339.6 295.0 L 338.5 295.0 L 338.5 297.4 L 339.6 297.4 \" fill=\"#FF7F00\"/>\n",
       "<path class=\"atom-7\" d=\"M 359.5 282.8 Q 360.6 282.8, 361.2 283.3 Q 361.7 283.8, 361.7 284.7 Q 361.7 285.6, 361.2 286.1 Q 360.6 286.6, 359.5 286.6 L 358.5 286.6 L 358.5 289.3 L 357.6 289.3 L 357.6 282.8 L 359.5 282.8 M 359.5 285.9 Q 360.1 285.9, 360.5 285.6 Q 360.8 285.3, 360.8 284.7 Q 360.8 284.1, 360.5 283.8 Q 360.2 283.5, 359.5 283.5 L 358.5 283.5 L 358.5 285.9 L 359.5 285.9 \" fill=\"#FF7F00\"/>\n",
       "<path class=\"atom-7\" d=\"M 357.1 275.6 L 358.0 275.6 L 358.0 278.4 L 361.3 278.4 L 361.3 275.6 L 362.2 275.6 L 362.2 282.2 L 361.3 282.2 L 361.3 279.1 L 358.0 279.1 L 358.0 282.2 L 357.1 282.2 L 357.1 275.6 \" fill=\"#FF7F00\"/>\n",
       "</svg>"
      ],
      "text/plain": [
       "<IPython.core.display.SVG object>"
      ]
     },
     "execution_count": 20,
     "metadata": {},
     "output_type": "execute_result"
    }
   ],
   "source": [
    "molecules = [Chem.MolFromSmiles(smi) for smi in smiles_hits]\n",
    "\n",
    "Draw.MolsToGridImage(molecules, subImgSize=(200,200), molsPerRow=3, useSVG=True)"
   ]
  },
  {
   "cell_type": "markdown",
   "id": "42477648",
   "metadata": {},
   "source": [
    "Since we are working with a RVR model, we can also estimate the prediction errors:"
   ]
  },
  {
   "cell_type": "code",
   "execution_count": 21,
   "id": "dd6b73fd",
   "metadata": {},
   "outputs": [],
   "source": [
    "X = mcw.transform(smiles_hits)\n",
    "Y_hits_pred, Y_hits_pred_std = regr.predict(X, return_std=True)"
   ]
  },
  {
   "cell_type": "code",
   "execution_count": 22,
   "id": "5bed80b7",
   "metadata": {},
   "outputs": [
    {
     "name": "stdout",
     "output_type": "stream",
     "text": [
      "['CC1CCC(CCCP)C1', 'CC(CCCCP)CPP', 'CCCCC(C)CC(C)CCCC', 'CCCCPCOCOC', 'CCCCCP=PPC']\n",
      "[39.93750044 39.99416007 40.01272262 40.05766901 40.06677939]\n",
      "[5.11750141 4.97621519 5.03689286 4.96823964 5.00579259]\n"
     ]
    }
   ],
   "source": [
    "print(smiles_hits)\n",
    "print(Y_hits_pred)\n",
    "print(Y_hits_pred_std)"
   ]
  },
  {
   "cell_type": "markdown",
   "id": "0d5f2ac4",
   "metadata": {},
   "source": [
    "Let us now try to design molecules with a RON design specification of 80:"
   ]
  },
  {
   "cell_type": "code",
   "execution_count": 23,
   "id": "6bfa8305",
   "metadata": {},
   "outputs": [],
   "source": [
    "%%capture\n",
    "smiles_hits, Y_hits_pred = library_evolver(smiles, regr, mcw, spec=80., n_hits=5)"
   ]
  },
  {
   "cell_type": "code",
   "execution_count": 24,
   "id": "3cf8b8c2",
   "metadata": {},
   "outputs": [
    {
     "data": {
      "image/svg+xml": [
       "<svg xmlns=\"http://www.w3.org/2000/svg\" xmlns:rdkit=\"http://www.rdkit.org/xml\" xmlns:xlink=\"http://www.w3.org/1999/xlink\" version=\"1.1\" baseProfile=\"full\" xml:space=\"preserve\" width=\"600px\" height=\"400px\" viewBox=\"0 0 600 400\">\n",
       "<!-- END OF HEADER -->\n",
       "<rect style=\"opacity:1.0;fill:#FFFFFF;stroke:none\" width=\"600.0\" height=\"400.0\" x=\"0.0\" y=\"0.0\"> </rect>\n",
       "<rect style=\"opacity:1.0;fill:#FFFFFF;stroke:none\" width=\"600.0\" height=\"400.0\" x=\"0.0\" y=\"0.0\"> </rect>\n",
       "<rect style=\"opacity:1.0;fill:#FFFFFF;stroke:none\" width=\"600.0\" height=\"400.0\" x=\"0.0\" y=\"0.0\"> </rect>\n",
       "<rect style=\"opacity:1.0;fill:#FFFFFF;stroke:none\" width=\"600.0\" height=\"400.0\" x=\"0.0\" y=\"0.0\"> </rect>\n",
       "<rect style=\"opacity:1.0;fill:#FFFFFF;stroke:none\" width=\"600.0\" height=\"400.0\" x=\"0.0\" y=\"0.0\"> </rect>\n",
       "<rect style=\"opacity:1.0;fill:#FFFFFF;stroke:none\" width=\"600.0\" height=\"400.0\" x=\"0.0\" y=\"0.0\"> </rect>\n",
       "<path class=\"bond-0 atom-0 atom-1\" d=\"M 35.2,95.2 L 51.5,86.4\" style=\"fill:none;fill-rule:evenodd;stroke:#000000;stroke-width:2.0px;stroke-linecap:butt;stroke-linejoin:miter;stroke-opacity:1\"/>\n",
       "<path class=\"bond-1 atom-1 atom-2\" d=\"M 51.5,86.4 L 67.3,96.1\" style=\"fill:none;fill-rule:evenodd;stroke:#000000;stroke-width:2.0px;stroke-linecap:butt;stroke-linejoin:miter;stroke-opacity:1\"/>\n",
       "<path class=\"bond-2 atom-2 atom-3\" d=\"M 67.3,96.1 L 83.6,87.3\" style=\"fill:none;fill-rule:evenodd;stroke:#000000;stroke-width:2.0px;stroke-linecap:butt;stroke-linejoin:miter;stroke-opacity:1\"/>\n",
       "<path class=\"bond-3 atom-3 atom-4\" d=\"M 83.6,87.3 L 99.3,97.0\" style=\"fill:none;fill-rule:evenodd;stroke:#000000;stroke-width:2.0px;stroke-linecap:butt;stroke-linejoin:miter;stroke-opacity:1\"/>\n",
       "<path class=\"bond-3 atom-3 atom-4\" d=\"M 84.0,91.9 L 95.0,98.7\" style=\"fill:none;fill-rule:evenodd;stroke:#000000;stroke-width:2.0px;stroke-linecap:butt;stroke-linejoin:miter;stroke-opacity:1\"/>\n",
       "<path class=\"bond-4 atom-4 atom-5\" d=\"M 99.3,97.0 L 115.7,88.2\" style=\"fill:none;fill-rule:evenodd;stroke:#000000;stroke-width:2.0px;stroke-linecap:butt;stroke-linejoin:miter;stroke-opacity:1\"/>\n",
       "<path class=\"bond-5 atom-5 atom-6\" d=\"M 115.7,88.2 L 122.3,92.3\" style=\"fill:none;fill-rule:evenodd;stroke:#000000;stroke-width:2.0px;stroke-linecap:butt;stroke-linejoin:miter;stroke-opacity:1\"/>\n",
       "<path class=\"bond-5 atom-5 atom-6\" d=\"M 122.3,92.3 L 129.0,96.4\" style=\"fill:none;fill-rule:evenodd;stroke:#0000FF;stroke-width:2.0px;stroke-linecap:butt;stroke-linejoin:miter;stroke-opacity:1\"/>\n",
       "<path class=\"bond-6 atom-6 atom-7\" d=\"M 134.8,98.2 L 140.3,95.2\" style=\"fill:none;fill-rule:evenodd;stroke:#0000FF;stroke-width:2.0px;stroke-linecap:butt;stroke-linejoin:miter;stroke-opacity:1\"/>\n",
       "<path class=\"bond-6 atom-6 atom-7\" d=\"M 140.3,95.2 L 145.8,92.2\" style=\"fill:none;fill-rule:evenodd;stroke:#FF0000;stroke-width:2.0px;stroke-linecap:butt;stroke-linejoin:miter;stroke-opacity:1\"/>\n",
       "<path class=\"bond-6 atom-6 atom-7\" d=\"M 133.0,94.9 L 138.5,92.0\" style=\"fill:none;fill-rule:evenodd;stroke:#0000FF;stroke-width:2.0px;stroke-linecap:butt;stroke-linejoin:miter;stroke-opacity:1\"/>\n",
       "<path class=\"bond-6 atom-6 atom-7\" d=\"M 138.5,92.0 L 144.1,89.0\" style=\"fill:none;fill-rule:evenodd;stroke:#FF0000;stroke-width:2.0px;stroke-linecap:butt;stroke-linejoin:miter;stroke-opacity:1\"/>\n",
       "<path class=\"atom-6\" d=\"M 130.3 95.3 L 132.0 98.1 Q 132.2 98.3, 132.4 98.8 Q 132.7 99.3, 132.7 99.4 L 132.7 95.3 L 133.4 95.3 L 133.4 100.5 L 132.7 100.5 L 130.9 97.5 Q 130.7 97.1, 130.4 96.7 Q 130.2 96.3, 130.1 96.2 L 130.1 100.5 L 129.5 100.5 L 129.5 95.3 L 130.3 95.3 \" fill=\"#0000FF\"/>\n",
       "<path class=\"atom-7\" d=\"M 145.3 89.1 Q 145.3 87.8, 146.0 87.1 Q 146.6 86.4, 147.7 86.4 Q 148.9 86.4, 149.5 87.1 Q 150.2 87.8, 150.2 89.1 Q 150.2 90.4, 149.5 91.1 Q 148.9 91.8, 147.7 91.8 Q 146.6 91.8, 146.0 91.1 Q 145.3 90.4, 145.3 89.1 M 147.7 91.2 Q 148.5 91.2, 149.0 90.7 Q 149.4 90.1, 149.4 89.1 Q 149.4 88.1, 149.0 87.5 Q 148.5 87.0, 147.7 87.0 Q 146.9 87.0, 146.5 87.5 Q 146.1 88.1, 146.1 89.1 Q 146.1 90.2, 146.5 90.7 Q 146.9 91.2, 147.7 91.2 \" fill=\"#FF0000\"/>\n",
       "<path class=\"bond-0 atom-0 atom-1\" d=\"M 227.2,96.3 L 243.3,87.0\" style=\"fill:none;fill-rule:evenodd;stroke:#000000;stroke-width:2.0px;stroke-linecap:butt;stroke-linejoin:miter;stroke-opacity:1\"/>\n",
       "<path class=\"bond-1 atom-1 atom-2\" d=\"M 243.3,87.0 L 259.4,96.3\" style=\"fill:none;fill-rule:evenodd;stroke:#000000;stroke-width:2.0px;stroke-linecap:butt;stroke-linejoin:miter;stroke-opacity:1\"/>\n",
       "<path class=\"bond-1 atom-1 atom-2\" d=\"M 243.9,91.6 L 255.1,98.1\" style=\"fill:none;fill-rule:evenodd;stroke:#000000;stroke-width:2.0px;stroke-linecap:butt;stroke-linejoin:miter;stroke-opacity:1\"/>\n",
       "<path class=\"bond-2 atom-2 atom-3\" d=\"M 259.4,96.3 L 275.4,87.0\" style=\"fill:none;fill-rule:evenodd;stroke:#000000;stroke-width:2.0px;stroke-linecap:butt;stroke-linejoin:miter;stroke-opacity:1\"/>\n",
       "<path class=\"bond-3 atom-3 atom-4\" d=\"M 275.4,87.0 L 291.5,96.3\" style=\"fill:none;fill-rule:evenodd;stroke:#000000;stroke-width:2.0px;stroke-linecap:butt;stroke-linejoin:miter;stroke-opacity:1\"/>\n",
       "<path class=\"bond-4 atom-4 atom-5\" d=\"M 291.5,96.3 L 307.5,87.0\" style=\"fill:none;fill-rule:evenodd;stroke:#000000;stroke-width:2.0px;stroke-linecap:butt;stroke-linejoin:miter;stroke-opacity:1\"/>\n",
       "<path class=\"bond-5 atom-5 atom-6\" d=\"M 307.5,87.0 L 323.6,96.3\" style=\"fill:none;fill-rule:evenodd;stroke:#000000;stroke-width:2.0px;stroke-linecap:butt;stroke-linejoin:miter;stroke-opacity:1\"/>\n",
       "<path class=\"bond-6 atom-6 atom-7\" d=\"M 323.6,96.3 L 339.6,87.0\" style=\"fill:none;fill-rule:evenodd;stroke:#000000;stroke-width:2.0px;stroke-linecap:butt;stroke-linejoin:miter;stroke-opacity:1\"/>\n",
       "<path class=\"bond-6 atom-6 atom-7\" d=\"M 324.1,91.7 L 335.4,85.2\" style=\"fill:none;fill-rule:evenodd;stroke:#000000;stroke-width:2.0px;stroke-linecap:butt;stroke-linejoin:miter;stroke-opacity:1\"/>\n",
       "<path class=\"bond-7 atom-7 atom-8\" d=\"M 339.6,87.0 L 355.7,96.3\" style=\"fill:none;fill-rule:evenodd;stroke:#000000;stroke-width:2.0px;stroke-linecap:butt;stroke-linejoin:miter;stroke-opacity:1\"/>\n",
       "<path class=\"bond-0 atom-0 atom-1\" d=\"M 506.4,131.5 L 498.0,115.0\" style=\"fill:none;fill-rule:evenodd;stroke:#000000;stroke-width:2.0px;stroke-linecap:butt;stroke-linejoin:miter;stroke-opacity:1\"/>\n",
       "<path class=\"bond-1 atom-1 atom-2\" d=\"M 498.0,115.0 L 479.5,114.0\" style=\"fill:none;fill-rule:evenodd;stroke:#000000;stroke-width:2.0px;stroke-linecap:butt;stroke-linejoin:miter;stroke-opacity:1\"/>\n",
       "<path class=\"bond-8 atom-1 atom-9\" d=\"M 498.0,115.0 L 508.1,99.4\" style=\"fill:none;fill-rule:evenodd;stroke:#000000;stroke-width:2.0px;stroke-linecap:butt;stroke-linejoin:miter;stroke-opacity:1\"/>\n",
       "<path class=\"bond-2 atom-2 atom-3\" d=\"M 479.5,114.0 L 471.1,97.5\" style=\"fill:none;fill-rule:evenodd;stroke:#000000;stroke-width:2.0px;stroke-linecap:butt;stroke-linejoin:miter;stroke-opacity:1\"/>\n",
       "<path class=\"bond-3 atom-3 atom-4\" d=\"M 471.1,97.5 L 452.5,96.6\" style=\"fill:none;fill-rule:evenodd;stroke:#000000;stroke-width:2.0px;stroke-linecap:butt;stroke-linejoin:miter;stroke-opacity:1\"/>\n",
       "<path class=\"bond-3 atom-3 atom-4\" d=\"M 468.1,101.1 L 455.1,100.4\" style=\"fill:none;fill-rule:evenodd;stroke:#000000;stroke-width:2.0px;stroke-linecap:butt;stroke-linejoin:miter;stroke-opacity:1\"/>\n",
       "<path class=\"bond-4 atom-4 atom-5\" d=\"M 452.5,96.6 L 444.1,80.1\" style=\"fill:none;fill-rule:evenodd;stroke:#000000;stroke-width:2.0px;stroke-linecap:butt;stroke-linejoin:miter;stroke-opacity:1\"/>\n",
       "<path class=\"bond-5 atom-5 atom-6\" d=\"M 444.1,80.1 L 425.6,79.1\" style=\"fill:none;fill-rule:evenodd;stroke:#000000;stroke-width:2.0px;stroke-linecap:butt;stroke-linejoin:miter;stroke-opacity:1\"/>\n",
       "<path class=\"bond-6 atom-6 atom-7\" d=\"M 425.6,79.1 L 410.0,69.0\" style=\"fill:none;fill-rule:evenodd;stroke:#000000;stroke-width:2.0px;stroke-linecap:butt;stroke-linejoin:miter;stroke-opacity:1\"/>\n",
       "<path class=\"bond-14 atom-8 atom-6\" d=\"M 409.1,87.6 L 425.6,79.1\" style=\"fill:none;fill-rule:evenodd;stroke:#000000;stroke-width:2.0px;stroke-linecap:butt;stroke-linejoin:miter;stroke-opacity:1\"/>\n",
       "<path class=\"bond-7 atom-7 atom-8\" d=\"M 410.0,69.0 L 409.1,87.6\" style=\"fill:none;fill-rule:evenodd;stroke:#000000;stroke-width:2.0px;stroke-linecap:butt;stroke-linejoin:miter;stroke-opacity:1\"/>\n",
       "<path class=\"bond-9 atom-9 atom-10\" d=\"M 508.1,99.4 L 526.6,100.4\" style=\"fill:none;fill-rule:evenodd;stroke:#000000;stroke-width:2.0px;stroke-linecap:butt;stroke-linejoin:miter;stroke-opacity:1\"/>\n",
       "<path class=\"bond-10 atom-10 atom-11\" d=\"M 526.6,100.4 L 530.6,94.2\" style=\"fill:none;fill-rule:evenodd;stroke:#000000;stroke-width:2.0px;stroke-linecap:butt;stroke-linejoin:miter;stroke-opacity:1\"/>\n",
       "<path class=\"bond-10 atom-10 atom-11\" d=\"M 530.6,94.2 L 534.6,88.0\" style=\"fill:none;fill-rule:evenodd;stroke:#FF0000;stroke-width:2.0px;stroke-linecap:butt;stroke-linejoin:miter;stroke-opacity:1\"/>\n",
       "<path class=\"bond-11 atom-11 atom-12\" d=\"M 539.5,85.0 L 546.2,85.3\" style=\"fill:none;fill-rule:evenodd;stroke:#FF0000;stroke-width:2.0px;stroke-linecap:butt;stroke-linejoin:miter;stroke-opacity:1\"/>\n",
       "<path class=\"bond-11 atom-11 atom-12\" d=\"M 546.2,85.3 L 552.8,85.6\" style=\"fill:none;fill-rule:evenodd;stroke:#0000FF;stroke-width:2.0px;stroke-linecap:butt;stroke-linejoin:miter;stroke-opacity:1\"/>\n",
       "<path class=\"bond-12 atom-12 atom-13\" d=\"M 557.2,82.7 L 561.2,76.4\" style=\"fill:none;fill-rule:evenodd;stroke:#0000FF;stroke-width:2.0px;stroke-linecap:butt;stroke-linejoin:miter;stroke-opacity:1\"/>\n",
       "<path class=\"bond-12 atom-12 atom-13\" d=\"M 561.2,76.4 L 565.3,70.2\" style=\"fill:none;fill-rule:evenodd;stroke:#000000;stroke-width:2.0px;stroke-linecap:butt;stroke-linejoin:miter;stroke-opacity:1\"/>\n",
       "<path class=\"bond-12 atom-12 atom-13\" d=\"M 555.3,78.8 L 558.1,74.4\" style=\"fill:none;fill-rule:evenodd;stroke:#0000FF;stroke-width:2.0px;stroke-linecap:butt;stroke-linejoin:miter;stroke-opacity:1\"/>\n",
       "<path class=\"bond-12 atom-12 atom-13\" d=\"M 558.1,74.4 L 560.9,70.1\" style=\"fill:none;fill-rule:evenodd;stroke:#000000;stroke-width:2.0px;stroke-linecap:butt;stroke-linejoin:miter;stroke-opacity:1\"/>\n",
       "<path class=\"bond-13 atom-13 atom-14\" d=\"M 565.3,70.2 L 573.1,70.6\" style=\"fill:none;fill-rule:evenodd;stroke:#000000;stroke-width:2.0px;stroke-linecap:butt;stroke-linejoin:miter;stroke-opacity:1\"/>\n",
       "<path class=\"bond-13 atom-13 atom-14\" d=\"M 573.1,70.6 L 580.9,71.0\" style=\"fill:none;fill-rule:evenodd;stroke:#FF0000;stroke-width:2.0px;stroke-linecap:butt;stroke-linejoin:miter;stroke-opacity:1\"/>\n",
       "<path class=\"atom-11\" d=\"M 534.3 84.8 Q 534.3 83.6, 534.9 82.9 Q 535.5 82.2, 536.7 82.2 Q 537.8 82.2, 538.4 82.9 Q 539.1 83.6, 539.1 84.8 Q 539.1 86.1, 538.4 86.8 Q 537.8 87.6, 536.7 87.6 Q 535.5 87.6, 534.9 86.8 Q 534.3 86.1, 534.3 84.8 M 536.7 87.0 Q 537.5 87.0, 537.9 86.4 Q 538.3 85.9, 538.3 84.8 Q 538.3 83.8, 537.9 83.3 Q 537.5 82.8, 536.7 82.8 Q 535.9 82.8, 535.4 83.3 Q 535.0 83.8, 535.0 84.8 Q 535.0 85.9, 535.4 86.4 Q 535.9 87.0, 536.7 87.0 \" fill=\"#FF0000\"/>\n",
       "<path class=\"atom-12\" d=\"M 554.0 83.1 L 555.7 85.9 Q 555.9 86.2, 556.2 86.7 Q 556.5 87.2, 556.5 87.2 L 556.5 83.1 L 557.2 83.1 L 557.2 88.4 L 556.4 88.4 L 554.6 85.4 Q 554.4 85.0, 554.2 84.6 Q 553.9 84.2, 553.9 84.1 L 553.9 88.4 L 553.2 88.4 L 553.2 83.1 L 554.0 83.1 \" fill=\"#0000FF\"/>\n",
       "<path class=\"atom-14\" d=\"M 581.4 71.2 Q 581.4 69.9, 582.0 69.2 Q 582.6 68.5, 583.8 68.5 Q 584.9 68.5, 585.5 69.2 Q 586.2 69.9, 586.2 71.2 Q 586.2 72.5, 585.5 73.2 Q 584.9 73.9, 583.8 73.9 Q 582.6 73.9, 582.0 73.2 Q 581.4 72.5, 581.4 71.2 M 583.8 73.3 Q 584.6 73.3, 585.0 72.8 Q 585.4 72.2, 585.4 71.2 Q 585.4 70.1, 585.0 69.6 Q 584.6 69.1, 583.8 69.1 Q 583.0 69.1, 582.5 69.6 Q 582.1 70.1, 582.1 71.2 Q 582.1 72.2, 582.5 72.8 Q 583.0 73.3, 583.8 73.3 \" fill=\"#FF0000\"/>\n",
       "<path class=\"atom-14\" d=\"M 586.8 68.6 L 587.5 68.6 L 587.5 70.8 L 590.2 70.8 L 590.2 68.6 L 590.9 68.6 L 590.9 73.8 L 590.2 73.8 L 590.2 71.4 L 587.5 71.4 L 587.5 73.8 L 586.8 73.8 L 586.8 68.6 \" fill=\"#FF0000\"/>\n",
       "<path class=\"bond-0 atom-0 atom-1\" d=\"M 19.5,292.7 L 36.6,285.6\" style=\"fill:none;fill-rule:evenodd;stroke:#000000;stroke-width:2.0px;stroke-linecap:butt;stroke-linejoin:miter;stroke-opacity:1\"/>\n",
       "<path class=\"bond-0 atom-0 atom-1\" d=\"M 18.0,289.3 L 35.2,282.2\" style=\"fill:none;fill-rule:evenodd;stroke:#000000;stroke-width:2.0px;stroke-linecap:butt;stroke-linejoin:miter;stroke-opacity:1\"/>\n",
       "<path class=\"bond-1 atom-1 atom-2\" d=\"M 35.9,283.9 L 50.6,295.2\" style=\"fill:none;fill-rule:evenodd;stroke:#000000;stroke-width:2.0px;stroke-linecap:butt;stroke-linejoin:miter;stroke-opacity:1\"/>\n",
       "<path class=\"bond-2 atom-2 atom-3\" d=\"M 50.6,295.2 L 57.7,292.2\" style=\"fill:none;fill-rule:evenodd;stroke:#000000;stroke-width:2.0px;stroke-linecap:butt;stroke-linejoin:miter;stroke-opacity:1\"/>\n",
       "<path class=\"bond-2 atom-2 atom-3\" d=\"M 57.7,292.2 L 64.8,289.3\" style=\"fill:none;fill-rule:evenodd;stroke:#FF0000;stroke-width:2.0px;stroke-linecap:butt;stroke-linejoin:miter;stroke-opacity:1\"/>\n",
       "<path class=\"bond-3 atom-3 atom-4\" d=\"M 70.6,290.3 L 76.5,294.8\" style=\"fill:none;fill-rule:evenodd;stroke:#FF0000;stroke-width:2.0px;stroke-linecap:butt;stroke-linejoin:miter;stroke-opacity:1\"/>\n",
       "<path class=\"bond-3 atom-3 atom-4\" d=\"M 76.5,294.8 L 82.4,299.4\" style=\"fill:none;fill-rule:evenodd;stroke:#000000;stroke-width:2.0px;stroke-linecap:butt;stroke-linejoin:miter;stroke-opacity:1\"/>\n",
       "<path class=\"bond-4 atom-4 atom-5\" d=\"M 82.4,299.4 L 99.5,292.3\" style=\"fill:none;fill-rule:evenodd;stroke:#000000;stroke-width:2.0px;stroke-linecap:butt;stroke-linejoin:miter;stroke-opacity:1\"/>\n",
       "<path class=\"bond-5 atom-5 atom-6\" d=\"M 99.5,292.3 L 114.2,303.6\" style=\"fill:none;fill-rule:evenodd;stroke:#000000;stroke-width:2.0px;stroke-linecap:butt;stroke-linejoin:miter;stroke-opacity:1\"/>\n",
       "<path class=\"bond-6 atom-6 atom-7\" d=\"M 114.2,303.6 L 121.7,300.5\" style=\"fill:none;fill-rule:evenodd;stroke:#000000;stroke-width:2.0px;stroke-linecap:butt;stroke-linejoin:miter;stroke-opacity:1\"/>\n",
       "<path class=\"bond-6 atom-6 atom-7\" d=\"M 121.7,300.5 L 129.2,297.4\" style=\"fill:none;fill-rule:evenodd;stroke:#FF7F00;stroke-width:2.0px;stroke-linecap:butt;stroke-linejoin:miter;stroke-opacity:1\"/>\n",
       "<path class=\"bond-6 atom-6 atom-7\" d=\"M 115.1,299.2 L 120.3,297.0\" style=\"fill:none;fill-rule:evenodd;stroke:#000000;stroke-width:2.0px;stroke-linecap:butt;stroke-linejoin:miter;stroke-opacity:1\"/>\n",
       "<path class=\"bond-6 atom-6 atom-7\" d=\"M 120.3,297.0 L 125.6,294.9\" style=\"fill:none;fill-rule:evenodd;stroke:#FF7F00;stroke-width:2.0px;stroke-linecap:butt;stroke-linejoin:miter;stroke-opacity:1\"/>\n",
       "<path class=\"bond-7 atom-7 atom-8\" d=\"M 133.5,295.6 L 141.0,292.5\" style=\"fill:none;fill-rule:evenodd;stroke:#FF7F00;stroke-width:2.0px;stroke-linecap:butt;stroke-linejoin:miter;stroke-opacity:1\"/>\n",
       "<path class=\"bond-7 atom-7 atom-8\" d=\"M 141.0,292.5 L 148.5,289.4\" style=\"fill:none;fill-rule:evenodd;stroke:#000000;stroke-width:2.0px;stroke-linecap:butt;stroke-linejoin:miter;stroke-opacity:1\"/>\n",
       "<path class=\"bond-7 atom-7 atom-8\" d=\"M 137.2,298.1 L 142.4,295.9\" style=\"fill:none;fill-rule:evenodd;stroke:#FF7F00;stroke-width:2.0px;stroke-linecap:butt;stroke-linejoin:miter;stroke-opacity:1\"/>\n",
       "<path class=\"bond-7 atom-7 atom-8\" d=\"M 142.4,295.9 L 147.7,293.7\" style=\"fill:none;fill-rule:evenodd;stroke:#000000;stroke-width:2.0px;stroke-linecap:butt;stroke-linejoin:miter;stroke-opacity:1\"/>\n",
       "<path class=\"bond-7 atom-7 atom-8\" d=\"M 134.3,291.2 L 139.6,289.1\" style=\"fill:none;fill-rule:evenodd;stroke:#FF7F00;stroke-width:2.0px;stroke-linecap:butt;stroke-linejoin:miter;stroke-opacity:1\"/>\n",
       "<path class=\"bond-7 atom-7 atom-8\" d=\"M 139.6,289.1 L 144.8,286.9\" style=\"fill:none;fill-rule:evenodd;stroke:#000000;stroke-width:2.0px;stroke-linecap:butt;stroke-linejoin:miter;stroke-opacity:1\"/>\n",
       "<path class=\"bond-8 atom-8 atom-9\" d=\"M 148.5,289.4 L 165.6,282.3\" style=\"fill:none;fill-rule:evenodd;stroke:#000000;stroke-width:2.0px;stroke-linecap:butt;stroke-linejoin:miter;stroke-opacity:1\"/>\n",
       "<path class=\"atom-3\" d=\"M 65.3 288.1 Q 65.3 286.8, 65.9 286.1 Q 66.5 285.4, 67.7 285.4 Q 68.9 285.4, 69.5 286.1 Q 70.1 286.8, 70.1 288.1 Q 70.1 289.4, 69.5 290.1 Q 68.9 290.8, 67.7 290.8 Q 66.5 290.8, 65.9 290.1 Q 65.3 289.4, 65.3 288.1 M 67.7 290.2 Q 68.5 290.2, 68.9 289.7 Q 69.4 289.1, 69.4 288.1 Q 69.4 287.1, 68.9 286.5 Q 68.5 286.0, 67.7 286.0 Q 66.9 286.0, 66.5 286.5 Q 66.0 287.1, 66.0 288.1 Q 66.0 289.2, 66.5 289.7 Q 66.9 290.2, 67.7 290.2 \" fill=\"#FF0000\"/>\n",
       "<path class=\"atom-7\" d=\"M 131.2 293.9 Q 132.1 293.9, 132.6 294.3 Q 133.0 294.7, 133.0 295.4 Q 133.0 296.1, 132.6 296.5 Q 132.1 296.9, 131.2 296.9 L 130.4 296.9 L 130.4 299.1 L 129.7 299.1 L 129.7 293.9 L 131.2 293.9 M 131.2 296.4 Q 131.7 296.4, 132.0 296.1 Q 132.3 295.9, 132.3 295.4 Q 132.3 294.9, 132.0 294.7 Q 131.8 294.4, 131.2 294.4 L 130.4 294.4 L 130.4 296.4 L 131.2 296.4 \" fill=\"#FF7F00\"/>\n",
       "<path class=\"bond-0 atom-0 atom-1\" d=\"M 227.0,293.3 L 243.7,285.3\" style=\"fill:none;fill-rule:evenodd;stroke:#000000;stroke-width:2.0px;stroke-linecap:butt;stroke-linejoin:miter;stroke-opacity:1\"/>\n",
       "<path class=\"bond-1 atom-1 atom-2\" d=\"M 243.7,285.3 L 259.0,295.8\" style=\"fill:none;fill-rule:evenodd;stroke:#000000;stroke-width:2.0px;stroke-linecap:butt;stroke-linejoin:miter;stroke-opacity:1\"/>\n",
       "<path class=\"bond-2 atom-2 atom-3\" d=\"M 259.0,295.8 L 275.7,287.8\" style=\"fill:none;fill-rule:evenodd;stroke:#000000;stroke-width:2.0px;stroke-linecap:butt;stroke-linejoin:miter;stroke-opacity:1\"/>\n",
       "<path class=\"bond-3 atom-3 atom-4\" d=\"M 275.7,287.8 L 291.0,298.3\" style=\"fill:none;fill-rule:evenodd;stroke:#000000;stroke-width:2.0px;stroke-linecap:butt;stroke-linejoin:miter;stroke-opacity:1\"/>\n",
       "<path class=\"bond-4 atom-4 atom-5\" d=\"M 291.0,298.3 L 297.9,295.0\" style=\"fill:none;fill-rule:evenodd;stroke:#000000;stroke-width:2.0px;stroke-linecap:butt;stroke-linejoin:miter;stroke-opacity:1\"/>\n",
       "<path class=\"bond-4 atom-4 atom-5\" d=\"M 297.9,295.0 L 304.8,291.7\" style=\"fill:none;fill-rule:evenodd;stroke:#FF0000;stroke-width:2.0px;stroke-linecap:butt;stroke-linejoin:miter;stroke-opacity:1\"/>\n",
       "<path class=\"bond-5 atom-5 atom-6\" d=\"M 310.6,292.3 L 316.8,296.6\" style=\"fill:none;fill-rule:evenodd;stroke:#FF0000;stroke-width:2.0px;stroke-linecap:butt;stroke-linejoin:miter;stroke-opacity:1\"/>\n",
       "<path class=\"bond-5 atom-5 atom-6\" d=\"M 316.8,296.6 L 323.0,300.8\" style=\"fill:none;fill-rule:evenodd;stroke:#000000;stroke-width:2.0px;stroke-linecap:butt;stroke-linejoin:miter;stroke-opacity:1\"/>\n",
       "<path class=\"bond-6 atom-6 atom-7\" d=\"M 323.8,302.5 L 338.0,295.7\" style=\"fill:none;fill-rule:evenodd;stroke:#000000;stroke-width:2.0px;stroke-linecap:butt;stroke-linejoin:miter;stroke-opacity:1\"/>\n",
       "<path class=\"bond-6 atom-6 atom-7\" d=\"M 322.2,299.1 L 336.4,292.3\" style=\"fill:none;fill-rule:evenodd;stroke:#000000;stroke-width:2.0px;stroke-linecap:butt;stroke-linejoin:miter;stroke-opacity:1\"/>\n",
       "<path class=\"bond-7 atom-7 atom-8\" d=\"M 343.0,293.3 L 348.7,290.6\" style=\"fill:none;fill-rule:evenodd;stroke:#000000;stroke-width:2.0px;stroke-linecap:butt;stroke-linejoin:miter;stroke-opacity:1\"/>\n",
       "<path class=\"bond-7 atom-7 atom-8\" d=\"M 348.7,290.6 L 354.4,287.8\" style=\"fill:none;fill-rule:evenodd;stroke:#FF0000;stroke-width:2.0px;stroke-linecap:butt;stroke-linejoin:miter;stroke-opacity:1\"/>\n",
       "<path class=\"bond-7 atom-7 atom-8\" d=\"M 341.4,290.0 L 347.1,287.2\" style=\"fill:none;fill-rule:evenodd;stroke:#000000;stroke-width:2.0px;stroke-linecap:butt;stroke-linejoin:miter;stroke-opacity:1\"/>\n",
       "<path class=\"bond-7 atom-7 atom-8\" d=\"M 347.1,287.2 L 352.8,284.5\" style=\"fill:none;fill-rule:evenodd;stroke:#FF0000;stroke-width:2.0px;stroke-linecap:butt;stroke-linejoin:miter;stroke-opacity:1\"/>\n",
       "<path class=\"atom-5\" d=\"M 305.3 290.3 Q 305.3 289.1, 305.9 288.4 Q 306.5 287.7, 307.7 287.7 Q 308.9 287.7, 309.5 288.4 Q 310.1 289.1, 310.1 290.3 Q 310.1 291.6, 309.5 292.3 Q 308.8 293.1, 307.7 293.1 Q 306.5 293.1, 305.9 292.3 Q 305.3 291.6, 305.3 290.3 M 307.7 292.5 Q 308.5 292.5, 308.9 291.9 Q 309.4 291.4, 309.4 290.3 Q 309.4 289.3, 308.9 288.8 Q 308.5 288.3, 307.7 288.3 Q 306.9 288.3, 306.5 288.8 Q 306.0 289.3, 306.0 290.3 Q 306.0 291.4, 306.5 291.9 Q 306.9 292.5, 307.7 292.5 \" fill=\"#FF0000\"/>\n",
       "<path class=\"atom-7\" d=\"M 337.7 292.8 Q 337.7 291.5, 338.3 290.9 Q 338.9 290.2, 340.1 290.2 Q 341.2 290.2, 341.7 290.9 L 341.2 291.3 Q 340.8 290.8, 340.1 290.8 Q 339.3 290.8, 338.9 291.3 Q 338.4 291.8, 338.4 292.8 Q 338.4 293.9, 338.9 294.4 Q 339.3 295.0, 340.2 295.0 Q 340.7 295.0, 341.4 294.6 L 341.6 295.2 Q 341.3 295.3, 340.9 295.4 Q 340.5 295.5, 340.0 295.5 Q 338.9 295.5, 338.3 294.8 Q 337.7 294.1, 337.7 292.8 \" fill=\"#000000\"/>\n",
       "<path class=\"atom-8\" d=\"M 354.0 284.9 Q 354.0 283.6, 354.6 282.9 Q 355.3 282.2, 356.4 282.2 Q 357.6 282.2, 358.2 282.9 Q 358.8 283.6, 358.8 284.9 Q 358.8 286.1, 358.2 286.9 Q 357.6 287.6, 356.4 287.6 Q 355.3 287.6, 354.6 286.9 Q 354.0 286.1, 354.0 284.9 M 356.4 287.0 Q 357.2 287.0, 357.7 286.4 Q 358.1 285.9, 358.1 284.9 Q 358.1 283.8, 357.7 283.3 Q 357.2 282.8, 356.4 282.8 Q 355.6 282.8, 355.2 283.3 Q 354.8 283.8, 354.8 284.9 Q 354.8 285.9, 355.2 286.4 Q 355.6 287.0, 356.4 287.0 \" fill=\"#FF0000\"/>\n",
       "</svg>"
      ],
      "text/plain": [
       "<IPython.core.display.SVG object>"
      ]
     },
     "execution_count": 24,
     "metadata": {},
     "output_type": "execute_result"
    }
   ],
   "source": [
    "molecules = [Chem.MolFromSmiles(smi) for smi in smiles_hits]\n",
    "\n",
    "Draw.MolsToGridImage(molecules, subImgSize=(200,200), molsPerRow=3, useSVG=True)"
   ]
  },
  {
   "cell_type": "code",
   "execution_count": 25,
   "id": "448d2fe4",
   "metadata": {},
   "outputs": [],
   "source": [
    "X = mcw.transform(smiles_hits)\n",
    "Y_hits_pred, Y_hits_pred_std = regr.predict(X, return_std=True)"
   ]
  },
  {
   "cell_type": "code",
   "execution_count": 26,
   "id": "ab300ba3",
   "metadata": {},
   "outputs": [
    {
     "name": "stdout",
     "output_type": "stream",
     "text": [
      "['CCCC=CCN=O', 'CC=CCCCC=CC', 'CC(CC=CCC1CC1)CCON=CO', 'C=CCOCCC=P#CC', 'CCCCCOC=C=O']\n",
      "[79.99617519 79.99698761 79.99975295 80.00044751 80.00368751]\n",
      "[4.86714384 4.70374604 4.74379376 4.68723048 4.80034113]\n"
     ]
    }
   ],
   "source": [
    "print(smiles_hits)\n",
    "print(Y_hits_pred)\n",
    "print(Y_hits_pred_std)"
   ]
  },
  {
   "cell_type": "markdown",
   "id": "db780108",
   "metadata": {},
   "source": [
    "Let us now try to design molecules with a RON specification of 120:"
   ]
  },
  {
   "cell_type": "code",
   "execution_count": 27,
   "id": "5b1dfadf",
   "metadata": {},
   "outputs": [],
   "source": [
    "%%capture\n",
    "smiles_hits, Y_hits_pred = library_evolver(smiles, regr, mcw, spec=120., n_hits=5)"
   ]
  },
  {
   "cell_type": "code",
   "execution_count": 28,
   "id": "dfa4575e",
   "metadata": {},
   "outputs": [
    {
     "data": {
      "image/svg+xml": [
       "<svg xmlns=\"http://www.w3.org/2000/svg\" xmlns:rdkit=\"http://www.rdkit.org/xml\" xmlns:xlink=\"http://www.w3.org/1999/xlink\" version=\"1.1\" baseProfile=\"full\" xml:space=\"preserve\" width=\"600px\" height=\"400px\" viewBox=\"0 0 600 400\">\n",
       "<!-- END OF HEADER -->\n",
       "<rect style=\"opacity:1.0;fill:#FFFFFF;stroke:none\" width=\"600.0\" height=\"400.0\" x=\"0.0\" y=\"0.0\"> </rect>\n",
       "<rect style=\"opacity:1.0;fill:#FFFFFF;stroke:none\" width=\"600.0\" height=\"400.0\" x=\"0.0\" y=\"0.0\"> </rect>\n",
       "<rect style=\"opacity:1.0;fill:#FFFFFF;stroke:none\" width=\"600.0\" height=\"400.0\" x=\"0.0\" y=\"0.0\"> </rect>\n",
       "<rect style=\"opacity:1.0;fill:#FFFFFF;stroke:none\" width=\"600.0\" height=\"400.0\" x=\"0.0\" y=\"0.0\"> </rect>\n",
       "<rect style=\"opacity:1.0;fill:#FFFFFF;stroke:none\" width=\"600.0\" height=\"400.0\" x=\"0.0\" y=\"0.0\"> </rect>\n",
       "<rect style=\"opacity:1.0;fill:#FFFFFF;stroke:none\" width=\"600.0\" height=\"400.0\" x=\"0.0\" y=\"0.0\"> </rect>\n",
       "<path class=\"bond-0 atom-0 atom-1\" d=\"M 160.6,135.0 L 160.6,65.0\" style=\"fill:none;fill-rule:evenodd;stroke:#000000;stroke-width:2.0px;stroke-linecap:butt;stroke-linejoin:miter;stroke-opacity:1\"/>\n",
       "<path class=\"bond-4 atom-2 atom-0\" d=\"M 100.0,100.0 L 160.6,135.0\" style=\"fill:none;fill-rule:evenodd;stroke:#000000;stroke-width:2.0px;stroke-linecap:butt;stroke-linejoin:miter;stroke-opacity:1\"/>\n",
       "<path class=\"bond-1 atom-1 atom-2\" d=\"M 160.6,65.0 L 100.0,100.0\" style=\"fill:none;fill-rule:evenodd;stroke:#000000;stroke-width:2.0px;stroke-linecap:butt;stroke-linejoin:miter;stroke-opacity:1\"/>\n",
       "<path class=\"bond-2 atom-2 atom-3\" d=\"M 100.0,100.0 L 39.4,135.0\" style=\"fill:none;fill-rule:evenodd;stroke:#000000;stroke-width:2.0px;stroke-linecap:butt;stroke-linejoin:miter;stroke-opacity:1\"/>\n",
       "<path class=\"bond-5 atom-4 atom-2\" d=\"M 47.5,69.7 L 73.7,84.8\" style=\"fill:none;fill-rule:evenodd;stroke:#FF7F00;stroke-width:2.0px;stroke-linecap:butt;stroke-linejoin:miter;stroke-opacity:1\"/>\n",
       "<path class=\"bond-5 atom-4 atom-2\" d=\"M 73.7,84.8 L 100.0,100.0\" style=\"fill:none;fill-rule:evenodd;stroke:#000000;stroke-width:2.0px;stroke-linecap:butt;stroke-linejoin:miter;stroke-opacity:1\"/>\n",
       "<path class=\"bond-3 atom-3 atom-4\" d=\"M 39.4,135.0 L 39.4,105.8\" style=\"fill:none;fill-rule:evenodd;stroke:#000000;stroke-width:2.0px;stroke-linecap:butt;stroke-linejoin:miter;stroke-opacity:1\"/>\n",
       "<path class=\"bond-3 atom-3 atom-4\" d=\"M 39.4,105.8 L 39.4,76.7\" style=\"fill:none;fill-rule:evenodd;stroke:#FF7F00;stroke-width:2.0px;stroke-linecap:butt;stroke-linejoin:miter;stroke-opacity:1\"/>\n",
       "<path class=\"atom-4\" d=\"M 15.2 55.1 L 17.9 55.1 L 17.9 63.5 L 28.0 63.5 L 28.0 55.1 L 30.7 55.1 L 30.7 74.9 L 28.0 74.9 L 28.0 65.8 L 17.9 65.8 L 17.9 74.9 L 15.2 74.9 L 15.2 55.1 \" fill=\"#FF7F00\"/>\n",
       "<path class=\"atom-4\" d=\"M 38.9 55.1 Q 42.3 55.1, 44.0 56.6 Q 45.7 58.2, 45.7 60.9 Q 45.7 63.7, 44.0 65.2 Q 42.2 66.8, 38.9 66.8 L 35.8 66.8 L 35.8 74.9 L 33.1 74.9 L 33.1 55.1 L 38.9 55.1 M 38.9 64.5 Q 40.8 64.5, 41.9 63.6 Q 42.9 62.7, 42.9 60.9 Q 42.9 59.2, 41.9 58.3 Q 40.9 57.3, 38.9 57.3 L 35.8 57.3 L 35.8 64.5 L 38.9 64.5 \" fill=\"#FF7F00\"/>\n",
       "<path class=\"bond-0 atom-0 atom-1\" d=\"M 359.5,100.0 L 318.4,43.4\" style=\"fill:none;fill-rule:evenodd;stroke:#000000;stroke-width:2.0px;stroke-linecap:butt;stroke-linejoin:miter;stroke-opacity:1\"/>\n",
       "<path class=\"bond-4 atom-4 atom-0\" d=\"M 318.4,156.6 L 359.5,100.0\" style=\"fill:none;fill-rule:evenodd;stroke:#000000;stroke-width:2.0px;stroke-linecap:butt;stroke-linejoin:miter;stroke-opacity:1\"/>\n",
       "<path class=\"bond-1 atom-1 atom-2\" d=\"M 318.4,43.4 L 289.2,52.9\" style=\"fill:none;fill-rule:evenodd;stroke:#000000;stroke-width:2.0px;stroke-linecap:butt;stroke-linejoin:miter;stroke-opacity:1\"/>\n",
       "<path class=\"bond-1 atom-1 atom-2\" d=\"M 289.2,52.9 L 259.9,62.4\" style=\"fill:none;fill-rule:evenodd;stroke:#FF7F00;stroke-width:2.0px;stroke-linecap:butt;stroke-linejoin:miter;stroke-opacity:1\"/>\n",
       "<path class=\"bond-2 atom-2 atom-3\" d=\"M 251.8,76.7 L 251.8,123.6\" style=\"fill:none;fill-rule:evenodd;stroke:#FF7F00;stroke-width:2.0px;stroke-linecap:butt;stroke-linejoin:miter;stroke-opacity:1\"/>\n",
       "<path class=\"bond-2 atom-2 atom-3\" d=\"M 265.8,83.7 L 265.8,116.6\" style=\"fill:none;fill-rule:evenodd;stroke:#FF7F00;stroke-width:2.0px;stroke-linecap:butt;stroke-linejoin:miter;stroke-opacity:1\"/>\n",
       "<path class=\"bond-3 atom-3 atom-4\" d=\"M 259.9,137.6 L 289.2,147.1\" style=\"fill:none;fill-rule:evenodd;stroke:#FF7F00;stroke-width:2.0px;stroke-linecap:butt;stroke-linejoin:miter;stroke-opacity:1\"/>\n",
       "<path class=\"bond-3 atom-3 atom-4\" d=\"M 289.2,147.1 L 318.4,156.6\" style=\"fill:none;fill-rule:evenodd;stroke:#000000;stroke-width:2.0px;stroke-linecap:butt;stroke-linejoin:miter;stroke-opacity:1\"/>\n",
       "<path class=\"atom-2\" d=\"M 251.4 55.1 Q 254.8 55.1, 256.5 56.6 Q 258.2 58.2, 258.2 60.9 Q 258.2 63.7, 256.4 65.2 Q 254.7 66.8, 251.4 66.8 L 248.2 66.8 L 248.2 74.9 L 245.5 74.9 L 245.5 55.1 L 251.4 55.1 M 251.4 64.5 Q 253.3 64.5, 254.3 63.6 Q 255.4 62.7, 255.4 60.9 Q 255.4 59.2, 254.3 58.3 Q 253.3 57.3, 251.4 57.3 L 248.2 57.3 L 248.2 64.5 L 251.4 64.5 \" fill=\"#FF7F00\"/>\n",
       "<path class=\"atom-3\" d=\"M 251.4 125.1 Q 254.8 125.1, 256.5 126.6 Q 258.2 128.1, 258.2 130.9 Q 258.2 133.6, 256.4 135.2 Q 254.7 136.8, 251.4 136.8 L 248.2 136.8 L 248.2 144.9 L 245.5 144.9 L 245.5 125.1 L 251.4 125.1 M 251.4 134.5 Q 253.3 134.5, 254.3 133.6 Q 255.4 132.7, 255.4 130.9 Q 255.4 129.1, 254.3 128.2 Q 253.3 127.3, 251.4 127.3 L 248.2 127.3 L 248.2 134.5 L 251.4 134.5 \" fill=\"#FF7F00\"/>\n",
       "<path class=\"bond-0 atom-0 atom-1\" d=\"M 590.9,170.0 L 530.3,135.0\" style=\"fill:none;fill-rule:evenodd;stroke:#000000;stroke-width:2.0px;stroke-linecap:butt;stroke-linejoin:miter;stroke-opacity:1\"/>\n",
       "<path class=\"bond-1 atom-1 atom-2\" d=\"M 530.3,135.0 L 469.7,170.0\" style=\"fill:none;fill-rule:evenodd;stroke:#000000;stroke-width:2.0px;stroke-linecap:butt;stroke-linejoin:miter;stroke-opacity:1\"/>\n",
       "<path class=\"bond-1 atom-1 atom-2\" d=\"M 514.2,128.1 L 471.8,152.6\" style=\"fill:none;fill-rule:evenodd;stroke:#000000;stroke-width:2.0px;stroke-linecap:butt;stroke-linejoin:miter;stroke-opacity:1\"/>\n",
       "<path class=\"bond-7 atom-6 atom-1\" d=\"M 530.3,65.0 L 530.3,135.0\" style=\"fill:none;fill-rule:evenodd;stroke:#000000;stroke-width:2.0px;stroke-linecap:butt;stroke-linejoin:miter;stroke-opacity:1\"/>\n",
       "<path class=\"bond-2 atom-2 atom-3\" d=\"M 469.7,170.0 L 409.1,135.0\" style=\"fill:none;fill-rule:evenodd;stroke:#000000;stroke-width:2.0px;stroke-linecap:butt;stroke-linejoin:miter;stroke-opacity:1\"/>\n",
       "<path class=\"bond-3 atom-3 atom-4\" d=\"M 409.1,135.0 L 409.1,65.0\" style=\"fill:none;fill-rule:evenodd;stroke:#000000;stroke-width:2.0px;stroke-linecap:butt;stroke-linejoin:miter;stroke-opacity:1\"/>\n",
       "<path class=\"bond-3 atom-3 atom-4\" d=\"M 423.1,124.5 L 423.1,75.5\" style=\"fill:none;fill-rule:evenodd;stroke:#000000;stroke-width:2.0px;stroke-linecap:butt;stroke-linejoin:miter;stroke-opacity:1\"/>\n",
       "<path class=\"bond-4 atom-4 atom-5\" d=\"M 409.1,65.0 L 469.7,30.0\" style=\"fill:none;fill-rule:evenodd;stroke:#000000;stroke-width:2.0px;stroke-linecap:butt;stroke-linejoin:miter;stroke-opacity:1\"/>\n",
       "<path class=\"bond-5 atom-5 atom-6\" d=\"M 469.7,30.0 L 530.3,65.0\" style=\"fill:none;fill-rule:evenodd;stroke:#000000;stroke-width:2.0px;stroke-linecap:butt;stroke-linejoin:miter;stroke-opacity:1\"/>\n",
       "<path class=\"bond-5 atom-5 atom-6\" d=\"M 471.8,47.4 L 514.2,71.9\" style=\"fill:none;fill-rule:evenodd;stroke:#000000;stroke-width:2.0px;stroke-linecap:butt;stroke-linejoin:miter;stroke-opacity:1\"/>\n",
       "<path class=\"bond-6 atom-6 atom-7\" d=\"M 530.3,65.0 L 590.9,30.0\" style=\"fill:none;fill-rule:evenodd;stroke:#000000;stroke-width:2.0px;stroke-linecap:butt;stroke-linejoin:miter;stroke-opacity:1\"/>\n",
       "<path class=\"bond-0 atom-0 atom-1\" d=\"M 159.5,300.0 L 118.4,243.4\" style=\"fill:none;fill-rule:evenodd;stroke:#000000;stroke-width:2.0px;stroke-linecap:butt;stroke-linejoin:miter;stroke-opacity:1\"/>\n",
       "<path class=\"bond-4 atom-4 atom-0\" d=\"M 118.4,356.6 L 159.5,300.0\" style=\"fill:none;fill-rule:evenodd;stroke:#000000;stroke-width:2.0px;stroke-linecap:butt;stroke-linejoin:miter;stroke-opacity:1\"/>\n",
       "<path class=\"bond-1 atom-1 atom-2\" d=\"M 118.4,243.4 L 51.8,265.0\" style=\"fill:none;fill-rule:evenodd;stroke:#000000;stroke-width:2.0px;stroke-linecap:butt;stroke-linejoin:miter;stroke-opacity:1\"/>\n",
       "<path class=\"bond-2 atom-2 atom-3\" d=\"M 51.8,265.0 L 51.8,294.1\" style=\"fill:none;fill-rule:evenodd;stroke:#000000;stroke-width:2.0px;stroke-linecap:butt;stroke-linejoin:miter;stroke-opacity:1\"/>\n",
       "<path class=\"bond-2 atom-2 atom-3\" d=\"M 51.8,294.1 L 51.8,323.2\" style=\"fill:none;fill-rule:evenodd;stroke:#FF0000;stroke-width:2.0px;stroke-linecap:butt;stroke-linejoin:miter;stroke-opacity:1\"/>\n",
       "<path class=\"bond-3 atom-3 atom-4\" d=\"M 62.7,338.5 L 90.5,347.6\" style=\"fill:none;fill-rule:evenodd;stroke:#FF0000;stroke-width:2.0px;stroke-linecap:butt;stroke-linejoin:miter;stroke-opacity:1\"/>\n",
       "<path class=\"bond-3 atom-3 atom-4\" d=\"M 90.5,347.6 L 118.4,356.6\" style=\"fill:none;fill-rule:evenodd;stroke:#000000;stroke-width:2.0px;stroke-linecap:butt;stroke-linejoin:miter;stroke-opacity:1\"/>\n",
       "<path class=\"atom-3\" d=\"M 42.7 335.0 Q 42.7 330.3, 45.1 327.6 Q 47.4 325.0, 51.8 325.0 Q 56.2 325.0, 58.6 327.6 Q 60.9 330.3, 60.9 335.0 Q 60.9 339.9, 58.6 342.6 Q 56.2 345.3, 51.8 345.3 Q 47.5 345.3, 45.1 342.6 Q 42.7 339.9, 42.7 335.0 M 51.8 343.1 Q 54.9 343.1, 56.5 341.1 Q 58.1 339.0, 58.1 335.0 Q 58.1 331.2, 56.5 329.2 Q 54.9 327.2, 51.8 327.2 Q 48.8 327.2, 47.2 329.2 Q 45.5 331.1, 45.5 335.0 Q 45.5 339.0, 47.2 341.1 Q 48.8 343.1, 51.8 343.1 \" fill=\"#FF0000\"/>\n",
       "<path class=\"bond-0 atom-0 atom-1\" d=\"M 349.5,300.0 L 300.0,349.5\" style=\"fill:none;fill-rule:evenodd;stroke:#000000;stroke-width:2.0px;stroke-linecap:butt;stroke-linejoin:miter;stroke-opacity:1\"/>\n",
       "<path class=\"bond-3 atom-3 atom-0\" d=\"M 300.0,250.5 L 349.5,300.0\" style=\"fill:none;fill-rule:evenodd;stroke:#000000;stroke-width:2.0px;stroke-linecap:butt;stroke-linejoin:miter;stroke-opacity:1\"/>\n",
       "<path class=\"bond-1 atom-1 atom-2\" d=\"M 300.0,349.5 L 250.5,300.0\" style=\"fill:none;fill-rule:evenodd;stroke:#000000;stroke-width:2.0px;stroke-linecap:butt;stroke-linejoin:miter;stroke-opacity:1\"/>\n",
       "<path class=\"bond-2 atom-2 atom-3\" d=\"M 250.5,300.0 L 300.0,250.5\" style=\"fill:none;fill-rule:evenodd;stroke:#000000;stroke-width:2.0px;stroke-linecap:butt;stroke-linejoin:miter;stroke-opacity:1\"/>\n",
       "</svg>"
      ],
      "text/plain": [
       "<IPython.core.display.SVG object>"
      ]
     },
     "execution_count": 28,
     "metadata": {},
     "output_type": "execute_result"
    }
   ],
   "source": [
    "molecules = [Chem.MolFromSmiles(smi) for smi in smiles_hits]\n",
    "\n",
    "Draw.MolsToGridImage(molecules, subImgSize=(200,200), molsPerRow=3, useSVG=True)"
   ]
  },
  {
   "cell_type": "code",
   "execution_count": 29,
   "id": "83e1772c",
   "metadata": {},
   "outputs": [],
   "source": [
    "X = mcw.transform(smiles_hits)\n",
    "Y_hits_pred, Y_hits_pred_std = regr.predict(X, return_std=True)"
   ]
  },
  {
   "cell_type": "code",
   "execution_count": 30,
   "id": "7eeec8d7",
   "metadata": {},
   "outputs": [
    {
     "name": "stdout",
     "output_type": "stream",
     "text": [
      "['C1CC12CP2', 'C1CP=PC1', 'CC1=CC=CC=C1C', 'C1CCOC1', 'C1CCC1']\n",
      "[117.23476472 117.4435538  120.75130685 121.26563649 122.38757089]\n",
      "[6.31023113 6.45839418 6.00204726 6.51395099 7.44988898]\n"
     ]
    }
   ],
   "source": [
    "print(smiles_hits)\n",
    "print(Y_hits_pred)\n",
    "print(Y_hits_pred_std)"
   ]
  },
  {
   "cell_type": "markdown",
   "id": "fe732578",
   "metadata": {},
   "source": [
    "### Multi-objective optimization in molecular recommendation"
   ]
  },
  {
   "cell_type": "markdown",
   "id": "aaf01c06",
   "metadata": {},
   "source": [
    "We can also design molecules aiming to meet several specifications simultaneously. \n",
    "\n",
    "In the next example, we will encourage the recommendation of molecules whose property value is predicted with higher confidence and that have a better Synthetic Accessibility (SA) score. The SA score takes values greater than one, with smaller values indicating better synthetic accessibility. \n",
    "\n",
    "We define a custome objective function `f`, which returns a weighted sum of 1) the difference from the desired specification (in this case RON = 40.), 2) the prediction uncertainty, and 3) the SA score. Then we ask the `library_evolver` to try to make it zero, which will minimize the objective function."
   ]
  },
  {
   "cell_type": "code",
   "execution_count": 20,
   "id": "ac6c2256",
   "metadata": {},
   "outputs": [],
   "source": [
    "from rdkit import Chem\n",
    "from rdkit.Chem import RDConfig\n",
    "import os\n",
    "import sys\n",
    "sys.path.append(os.path.join(RDConfig.RDContribDir, 'SA_Score'))\n",
    "import sascorer\n",
    "\n",
    "def SAscore_calc(smi):\n",
    "    return [sascorer.calculateScore(Chem.MolFromSmiles(s)) for s in smi]\n",
    "\n",
    "def F(smi, mcw, setpoint):\n",
    "    X = mcw.transform(smi)\n",
    "    Y_pred, Y_pred_std = regr.predict(X, return_std=True)\n",
    "        \n",
    "    SAScores = SAscore_calc(smi)\n",
    "    SAScores = np.array(SAScores)\n",
    "    \n",
    "    FO = np.abs(Y_pred - setpoint) + 1.*(Y_pred_std) + 2.*SAScores\n",
    "    return FO\n",
    "\n",
    "f = lambda smi: F(smi, mcw, setpoint=120.)"
   ]
  },
  {
   "cell_type": "markdown",
   "id": "9c45c8c2",
   "metadata": {},
   "source": [
    "Note that since the function `f` directly featurizes the SMILES molecules itself using `mcw`, we do not need the featurizer when calling `library_evolver` (`mcw=None`):"
   ]
  },
  {
   "cell_type": "code",
   "execution_count": 21,
   "id": "ff237fe0",
   "metadata": {},
   "outputs": [],
   "source": [
    "%%capture\n",
    "smiles_hits, Y_hits_pred = library_evolver(smiles, f, mcw=None, spec=0., n_hits=5, n_rounds=8)"
   ]
  },
  {
   "cell_type": "code",
   "execution_count": 22,
   "id": "fa4824a6",
   "metadata": {},
   "outputs": [],
   "source": [
    "X = mcw.transform(smiles_hits)\n",
    "Y_hits_pred, Y_hits_pred_std = regr.predict(X, return_std=True)"
   ]
  },
  {
   "cell_type": "code",
   "execution_count": 23,
   "id": "7c4e2f68",
   "metadata": {},
   "outputs": [
    {
     "name": "stdout",
     "output_type": "stream",
     "text": [
      "['CC1=CC=CC=C1C', 'C1CCOC1', 'C1CCC1', 'C1COC1', 'CCOC(C)=O']\n",
      "[120.75130685 121.26563649 122.38757089 116.76669887 116.47693969]\n",
      "[6.00204726 6.51395099 7.44988898 5.93872569 6.00316563]\n",
      "[1.0337432953498862, 2.0262776130575944, 1.0, 1.5461538156987498, 1.7562997790553911]\n"
     ]
    }
   ],
   "source": [
    "print(smiles_hits)\n",
    "print(Y_hits_pred)\n",
    "print(Y_hits_pred_std)\n",
    "print(SAscore_calc(smiles_hits))"
   ]
  },
  {
   "cell_type": "markdown",
   "id": "59dd6310",
   "metadata": {},
   "source": [
    "The point estimates for the RON of these molecules are not as close to the desired specification as in the design example above, but the prediction errors are smaller and the SA scores are low (close to 1)."
   ]
  },
  {
   "cell_type": "code",
   "execution_count": 24,
   "id": "70a750db",
   "metadata": {
    "scrolled": true
   },
   "outputs": [
    {
     "data": {
      "image/svg+xml": [
       "<svg xmlns=\"http://www.w3.org/2000/svg\" xmlns:rdkit=\"http://www.rdkit.org/xml\" xmlns:xlink=\"http://www.w3.org/1999/xlink\" version=\"1.1\" baseProfile=\"full\" xml:space=\"preserve\" width=\"600px\" height=\"400px\" viewBox=\"0 0 600 400\">\n",
       "<!-- END OF HEADER -->\n",
       "<rect style=\"opacity:1.0;fill:#FFFFFF;stroke:none\" width=\"600.0\" height=\"400.0\" x=\"0.0\" y=\"0.0\"> </rect>\n",
       "<rect style=\"opacity:1.0;fill:#FFFFFF;stroke:none\" width=\"600.0\" height=\"400.0\" x=\"0.0\" y=\"0.0\"> </rect>\n",
       "<rect style=\"opacity:1.0;fill:#FFFFFF;stroke:none\" width=\"600.0\" height=\"400.0\" x=\"0.0\" y=\"0.0\"> </rect>\n",
       "<rect style=\"opacity:1.0;fill:#FFFFFF;stroke:none\" width=\"600.0\" height=\"400.0\" x=\"0.0\" y=\"0.0\"> </rect>\n",
       "<rect style=\"opacity:1.0;fill:#FFFFFF;stroke:none\" width=\"600.0\" height=\"400.0\" x=\"0.0\" y=\"0.0\"> </rect>\n",
       "<rect style=\"opacity:1.0;fill:#FFFFFF;stroke:none\" width=\"600.0\" height=\"400.0\" x=\"0.0\" y=\"0.0\"> </rect>\n",
       "<path class=\"bond-0 atom-0 atom-1\" d=\"M 179.6,155.7 L 133.7,129.2\" style=\"fill:none;fill-rule:evenodd;stroke:#000000;stroke-width:2.0px;stroke-linecap:butt;stroke-linejoin:miter;stroke-opacity:1\"/>\n",
       "<path class=\"bond-1 atom-1 atom-2\" d=\"M 133.7,129.2 L 87.7,155.7\" style=\"fill:none;fill-rule:evenodd;stroke:#000000;stroke-width:2.0px;stroke-linecap:butt;stroke-linejoin:miter;stroke-opacity:1\"/>\n",
       "<path class=\"bond-1 atom-1 atom-2\" d=\"M 121.5,124.0 L 89.3,142.5\" style=\"fill:none;fill-rule:evenodd;stroke:#000000;stroke-width:2.0px;stroke-linecap:butt;stroke-linejoin:miter;stroke-opacity:1\"/>\n",
       "<path class=\"bond-7 atom-6 atom-1\" d=\"M 133.7,76.2 L 133.7,129.2\" style=\"fill:none;fill-rule:evenodd;stroke:#000000;stroke-width:2.0px;stroke-linecap:butt;stroke-linejoin:miter;stroke-opacity:1\"/>\n",
       "<path class=\"bond-2 atom-2 atom-3\" d=\"M 87.7,155.7 L 41.8,129.2\" style=\"fill:none;fill-rule:evenodd;stroke:#000000;stroke-width:2.0px;stroke-linecap:butt;stroke-linejoin:miter;stroke-opacity:1\"/>\n",
       "<path class=\"bond-3 atom-3 atom-4\" d=\"M 41.8,129.2 L 41.8,76.2\" style=\"fill:none;fill-rule:evenodd;stroke:#000000;stroke-width:2.0px;stroke-linecap:butt;stroke-linejoin:miter;stroke-opacity:1\"/>\n",
       "<path class=\"bond-3 atom-3 atom-4\" d=\"M 52.4,121.2 L 52.4,84.1\" style=\"fill:none;fill-rule:evenodd;stroke:#000000;stroke-width:2.0px;stroke-linecap:butt;stroke-linejoin:miter;stroke-opacity:1\"/>\n",
       "<path class=\"bond-4 atom-4 atom-5\" d=\"M 41.8,76.2 L 87.7,49.7\" style=\"fill:none;fill-rule:evenodd;stroke:#000000;stroke-width:2.0px;stroke-linecap:butt;stroke-linejoin:miter;stroke-opacity:1\"/>\n",
       "<path class=\"bond-5 atom-5 atom-6\" d=\"M 87.7,49.7 L 133.7,76.2\" style=\"fill:none;fill-rule:evenodd;stroke:#000000;stroke-width:2.0px;stroke-linecap:butt;stroke-linejoin:miter;stroke-opacity:1\"/>\n",
       "<path class=\"bond-5 atom-5 atom-6\" d=\"M 89.3,62.8 L 121.5,81.4\" style=\"fill:none;fill-rule:evenodd;stroke:#000000;stroke-width:2.0px;stroke-linecap:butt;stroke-linejoin:miter;stroke-opacity:1\"/>\n",
       "<path class=\"bond-6 atom-6 atom-7\" d=\"M 133.7,76.2 L 179.6,49.7\" style=\"fill:none;fill-rule:evenodd;stroke:#000000;stroke-width:2.0px;stroke-linecap:butt;stroke-linejoin:miter;stroke-opacity:1\"/>\n",
       "<path class=\"bond-0 atom-0 atom-1\" d=\"M 355.8,102.7 L 324.6,59.8\" style=\"fill:none;fill-rule:evenodd;stroke:#000000;stroke-width:2.0px;stroke-linecap:butt;stroke-linejoin:miter;stroke-opacity:1\"/>\n",
       "<path class=\"bond-4 atom-4 atom-0\" d=\"M 324.6,145.6 L 355.8,102.7\" style=\"fill:none;fill-rule:evenodd;stroke:#000000;stroke-width:2.0px;stroke-linecap:butt;stroke-linejoin:miter;stroke-opacity:1\"/>\n",
       "<path class=\"bond-1 atom-1 atom-2\" d=\"M 324.6,59.8 L 274.2,76.2\" style=\"fill:none;fill-rule:evenodd;stroke:#000000;stroke-width:2.0px;stroke-linecap:butt;stroke-linejoin:miter;stroke-opacity:1\"/>\n",
       "<path class=\"bond-2 atom-2 atom-3\" d=\"M 274.2,76.2 L 274.2,98.2\" style=\"fill:none;fill-rule:evenodd;stroke:#000000;stroke-width:2.0px;stroke-linecap:butt;stroke-linejoin:miter;stroke-opacity:1\"/>\n",
       "<path class=\"bond-2 atom-2 atom-3\" d=\"M 274.2,98.2 L 274.2,120.3\" style=\"fill:none;fill-rule:evenodd;stroke:#FF0000;stroke-width:2.0px;stroke-linecap:butt;stroke-linejoin:miter;stroke-opacity:1\"/>\n",
       "<path class=\"bond-3 atom-3 atom-4\" d=\"M 282.4,131.9 L 303.5,138.7\" style=\"fill:none;fill-rule:evenodd;stroke:#FF0000;stroke-width:2.0px;stroke-linecap:butt;stroke-linejoin:miter;stroke-opacity:1\"/>\n",
       "<path class=\"bond-3 atom-3 atom-4\" d=\"M 303.5,138.7 L 324.6,145.6\" style=\"fill:none;fill-rule:evenodd;stroke:#000000;stroke-width:2.0px;stroke-linecap:butt;stroke-linejoin:miter;stroke-opacity:1\"/>\n",
       "<path class=\"atom-3\" d=\"M 267.3 129.2 Q 267.3 125.6, 269.1 123.6 Q 270.9 121.6, 274.2 121.6 Q 277.5 121.6, 279.3 123.6 Q 281.1 125.6, 281.1 129.2 Q 281.1 132.9, 279.3 135.0 Q 277.5 137.0, 274.2 137.0 Q 270.9 137.0, 269.1 135.0 Q 267.3 132.9, 267.3 129.2 M 274.2 135.3 Q 276.5 135.3, 277.7 133.8 Q 279.0 132.2, 279.0 129.2 Q 279.0 126.3, 277.7 124.8 Q 276.5 123.3, 274.2 123.3 Q 271.9 123.3, 270.7 124.8 Q 269.4 126.3, 269.4 129.2 Q 269.4 132.3, 270.7 133.8 Q 271.9 135.3, 274.2 135.3 \" fill=\"#FF0000\"/>\n",
       "<path class=\"bond-0 atom-0 atom-1\" d=\"M 548.2,102.7 L 510.7,140.2\" style=\"fill:none;fill-rule:evenodd;stroke:#000000;stroke-width:2.0px;stroke-linecap:butt;stroke-linejoin:miter;stroke-opacity:1\"/>\n",
       "<path class=\"bond-3 atom-3 atom-0\" d=\"M 510.7,65.2 L 548.2,102.7\" style=\"fill:none;fill-rule:evenodd;stroke:#000000;stroke-width:2.0px;stroke-linecap:butt;stroke-linejoin:miter;stroke-opacity:1\"/>\n",
       "<path class=\"bond-1 atom-1 atom-2\" d=\"M 510.7,140.2 L 473.2,102.7\" style=\"fill:none;fill-rule:evenodd;stroke:#000000;stroke-width:2.0px;stroke-linecap:butt;stroke-linejoin:miter;stroke-opacity:1\"/>\n",
       "<path class=\"bond-2 atom-2 atom-3\" d=\"M 473.2,102.7 L 510.7,65.2\" style=\"fill:none;fill-rule:evenodd;stroke:#000000;stroke-width:2.0px;stroke-linecap:butt;stroke-linejoin:miter;stroke-opacity:1\"/>\n",
       "<path class=\"bond-0 atom-0 atom-1\" d=\"M 148.2,302.7 L 110.7,340.2\" style=\"fill:none;fill-rule:evenodd;stroke:#000000;stroke-width:2.0px;stroke-linecap:butt;stroke-linejoin:miter;stroke-opacity:1\"/>\n",
       "<path class=\"bond-3 atom-3 atom-0\" d=\"M 110.7,265.2 L 148.2,302.7\" style=\"fill:none;fill-rule:evenodd;stroke:#000000;stroke-width:2.0px;stroke-linecap:butt;stroke-linejoin:miter;stroke-opacity:1\"/>\n",
       "<path class=\"bond-1 atom-1 atom-2\" d=\"M 110.7,340.2 L 96.1,325.5\" style=\"fill:none;fill-rule:evenodd;stroke:#000000;stroke-width:2.0px;stroke-linecap:butt;stroke-linejoin:miter;stroke-opacity:1\"/>\n",
       "<path class=\"bond-1 atom-1 atom-2\" d=\"M 96.1,325.5 L 81.4,310.9\" style=\"fill:none;fill-rule:evenodd;stroke:#FF0000;stroke-width:2.0px;stroke-linecap:butt;stroke-linejoin:miter;stroke-opacity:1\"/>\n",
       "<path class=\"bond-2 atom-2 atom-3\" d=\"M 81.4,294.5 L 96.1,279.8\" style=\"fill:none;fill-rule:evenodd;stroke:#FF0000;stroke-width:2.0px;stroke-linecap:butt;stroke-linejoin:miter;stroke-opacity:1\"/>\n",
       "<path class=\"bond-2 atom-2 atom-3\" d=\"M 96.1,279.8 L 110.7,265.2\" style=\"fill:none;fill-rule:evenodd;stroke:#000000;stroke-width:2.0px;stroke-linecap:butt;stroke-linejoin:miter;stroke-opacity:1\"/>\n",
       "<path class=\"atom-2\" d=\"M 66.3 302.7 Q 66.3 299.1, 68.1 297.1 Q 69.9 295.1, 73.2 295.1 Q 76.5 295.1, 78.3 297.1 Q 80.1 299.1, 80.1 302.7 Q 80.1 306.4, 78.3 308.4 Q 76.5 310.5, 73.2 310.5 Q 69.9 310.5, 68.1 308.4 Q 66.3 306.4, 66.3 302.7 M 73.2 308.8 Q 75.5 308.8, 76.7 307.3 Q 78.0 305.7, 78.0 302.7 Q 78.0 299.8, 76.7 298.3 Q 75.5 296.8, 73.2 296.8 Q 70.9 296.8, 69.7 298.3 Q 68.4 299.7, 68.4 302.7 Q 68.4 305.7, 69.7 307.3 Q 70.9 308.8, 73.2 308.8 \" fill=\"#FF0000\"/>\n",
       "<path class=\"bond-0 atom-0 atom-1\" d=\"M 209.1,310.4 L 258.3,290.7\" style=\"fill:none;fill-rule:evenodd;stroke:#000000;stroke-width:2.0px;stroke-linecap:butt;stroke-linejoin:miter;stroke-opacity:1\"/>\n",
       "<path class=\"bond-1 atom-1 atom-2\" d=\"M 258.3,290.7 L 275.0,303.9\" style=\"fill:none;fill-rule:evenodd;stroke:#000000;stroke-width:2.0px;stroke-linecap:butt;stroke-linejoin:miter;stroke-opacity:1\"/>\n",
       "<path class=\"bond-1 atom-1 atom-2\" d=\"M 275.0,303.9 L 291.8,317.0\" style=\"fill:none;fill-rule:evenodd;stroke:#FF0000;stroke-width:2.0px;stroke-linecap:butt;stroke-linejoin:miter;stroke-opacity:1\"/>\n",
       "<path class=\"bond-2 atom-2 atom-3\" d=\"M 308.2,320.2 L 328.7,311.9\" style=\"fill:none;fill-rule:evenodd;stroke:#FF0000;stroke-width:2.0px;stroke-linecap:butt;stroke-linejoin:miter;stroke-opacity:1\"/>\n",
       "<path class=\"bond-2 atom-2 atom-3\" d=\"M 328.7,311.9 L 349.2,303.7\" style=\"fill:none;fill-rule:evenodd;stroke:#000000;stroke-width:2.0px;stroke-linecap:butt;stroke-linejoin:miter;stroke-opacity:1\"/>\n",
       "<path class=\"bond-3 atom-3 atom-4\" d=\"M 349.2,303.7 L 390.9,336.5\" style=\"fill:none;fill-rule:evenodd;stroke:#000000;stroke-width:2.0px;stroke-linecap:butt;stroke-linejoin:miter;stroke-opacity:1\"/>\n",
       "<path class=\"bond-4 atom-3 atom-5\" d=\"M 354.5,304.5 L 357.6,282.8\" style=\"fill:none;fill-rule:evenodd;stroke:#000000;stroke-width:2.0px;stroke-linecap:butt;stroke-linejoin:miter;stroke-opacity:1\"/>\n",
       "<path class=\"bond-4 atom-3 atom-5\" d=\"M 357.6,282.8 L 360.7,261.1\" style=\"fill:none;fill-rule:evenodd;stroke:#FF0000;stroke-width:2.0px;stroke-linecap:butt;stroke-linejoin:miter;stroke-opacity:1\"/>\n",
       "<path class=\"bond-4 atom-3 atom-5\" d=\"M 344.0,303.0 L 347.1,281.3\" style=\"fill:none;fill-rule:evenodd;stroke:#000000;stroke-width:2.0px;stroke-linecap:butt;stroke-linejoin:miter;stroke-opacity:1\"/>\n",
       "<path class=\"bond-4 atom-3 atom-5\" d=\"M 347.1,281.3 L 350.2,259.6\" style=\"fill:none;fill-rule:evenodd;stroke:#FF0000;stroke-width:2.0px;stroke-linecap:butt;stroke-linejoin:miter;stroke-opacity:1\"/>\n",
       "<path class=\"atom-2\" d=\"M 293.1 323.5 Q 293.1 319.9, 294.9 317.9 Q 296.7 315.9, 300.0 315.9 Q 303.3 315.9, 305.1 317.9 Q 306.9 319.9, 306.9 323.5 Q 306.9 327.1, 305.1 329.2 Q 303.3 331.3, 300.0 331.3 Q 296.7 331.3, 294.9 329.2 Q 293.1 327.2, 293.1 323.5 M 300.0 329.6 Q 302.3 329.6, 303.5 328.1 Q 304.8 326.5, 304.8 323.5 Q 304.8 320.6, 303.5 319.1 Q 302.3 317.6, 300.0 317.6 Q 297.7 317.6, 296.5 319.0 Q 295.2 320.5, 295.2 323.5 Q 295.2 326.5, 296.5 328.1 Q 297.7 329.6, 300.0 329.6 \" fill=\"#FF0000\"/>\n",
       "<path class=\"atom-5\" d=\"M 349.8 251.3 Q 349.8 247.7, 351.6 245.7 Q 353.4 243.6, 356.7 243.6 Q 360.1 243.6, 361.8 245.7 Q 363.6 247.7, 363.6 251.3 Q 363.6 254.9, 361.8 257.0 Q 360.0 259.1, 356.7 259.1 Q 353.4 259.1, 351.6 257.0 Q 349.8 254.9, 349.8 251.3 M 356.7 257.4 Q 359.0 257.4, 360.3 255.8 Q 361.5 254.3, 361.5 251.3 Q 361.5 248.3, 360.3 246.8 Q 359.0 245.3, 356.7 245.3 Q 354.4 245.3, 353.2 246.8 Q 352.0 248.3, 352.0 251.3 Q 352.0 254.3, 353.2 255.8 Q 354.4 257.4, 356.7 257.4 \" fill=\"#FF0000\"/>\n",
       "</svg>"
      ],
      "text/plain": [
       "<IPython.core.display.SVG object>"
      ]
     },
     "execution_count": 24,
     "metadata": {},
     "output_type": "execute_result"
    }
   ],
   "source": [
    "molecules = [Chem.MolFromSmiles(smi) for smi in smiles_hits]\n",
    "\n",
    "Draw.MolsToGridImage(molecules, subImgSize=(200,200), molsPerRow=3, useSVG=True)"
   ]
  },
  {
   "cell_type": "code",
   "execution_count": null,
   "id": "4693160c",
   "metadata": {},
   "outputs": [],
   "source": []
  }
 ],
 "metadata": {
  "kernelspec": {
   "display_name": "Python 3 (ipykernel)",
   "language": "python",
   "name": "python3"
  },
  "language_info": {
   "codemirror_mode": {
    "name": "ipython",
    "version": 3
   },
   "file_extension": ".py",
   "mimetype": "text/x-python",
   "name": "python",
   "nbconvert_exporter": "python",
   "pygments_lexer": "ipython3",
   "version": "3.9.7"
  }
 },
 "nbformat": 4,
 "nbformat_minor": 5
}
