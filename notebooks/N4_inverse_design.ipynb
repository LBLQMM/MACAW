{
 "cells": [
  {
   "cell_type": "markdown",
   "id": "9e32d88e",
   "metadata": {},
   "source": [
    "# Notebook 4 - Inverse design: molecules on specification"
   ]
  },
  {
   "cell_type": "markdown",
   "id": "46f8ff1a",
   "metadata": {},
   "source": [
    "By Vincent Blay, December 2021"
   ]
  },
  {
   "cell_type": "markdown",
   "id": "ea0af0e7",
   "metadata": {},
   "source": [
    "In this notebook we demonstrate two approaches to the generation of new molecules with a desired property specification by leveraging MACAW embeddings. \n",
    "\n",
    "In the first approach we generate a single large library throughout the MACAW embedding space and then retrieve promising molecules using the `hit_finder` functions.\n",
    "\n",
    "In the second approach we generate a series of small libraries using an evolutionary strategy using the `library_evolver` function.\n",
    "\n",
    "In both cases, the user is returned a list of promising SMILES molecules and their predicted property values."
   ]
  },
  {
   "cell_type": "code",
   "execution_count": 1,
   "id": "d3b44194",
   "metadata": {},
   "outputs": [
    {
     "name": "stdout",
     "output_type": "stream",
     "text": [
      "1.0.1\n"
     ]
    }
   ],
   "source": [
    "import numpy as np\n",
    "import pandas as pd\n",
    "\n",
    "#Needed to show molecules\n",
    "from rdkit import Chem\n",
    "from rdkit.Chem import Draw\n",
    "from rdkit.Chem.Draw import IPythonConsole \n",
    "\n",
    "from sklearn_rvm import EMRVR\n",
    "from sklearn.model_selection import GridSearchCV\n",
    "from sklearn.metrics import r2_score\n",
    "\n",
    "import sys\n",
    "import os\n",
    "from rdkit import Chem\n",
    "from rdkit.Chem import RDConfig\n",
    "\n",
    "sys.path.append('../')\n",
    "sys.path.append(os.path.join(RDConfig.RDContribDir, 'SA_Score'))\n",
    "import sascorer\n",
    "\n",
    "import macaw\n",
    "print(macaw.__version__)\n",
    "\n",
    "from macaw import *"
   ]
  },
  {
   "cell_type": "code",
   "execution_count": 2,
   "id": "88a7f9c1",
   "metadata": {},
   "outputs": [],
   "source": [
    "%config InlineBackend.figure_format = 'retina'"
   ]
  },
  {
   "cell_type": "code",
   "execution_count": 3,
   "id": "689bfc49",
   "metadata": {},
   "outputs": [],
   "source": [
    "np.random.seed(123)"
   ]
  },
  {
   "cell_type": "markdown",
   "id": "767b8da9",
   "metadata": {},
   "source": [
    "In this example we will use the RON dataset, so let us load it"
   ]
  },
  {
   "cell_type": "code",
   "execution_count": 4,
   "id": "ce4d4f37",
   "metadata": {},
   "outputs": [],
   "source": [
    "df = pd.read_csv('./data/data_RON.csv')\n",
    "smiles = df.Smiles\n",
    "Y = df.RON"
   ]
  },
  {
   "cell_type": "code",
   "execution_count": 5,
   "id": "ff3ac91e",
   "metadata": {},
   "outputs": [
    {
     "data": {
      "text/plain": [
       "194"
      ]
     },
     "execution_count": 5,
     "metadata": {},
     "output_type": "execute_result"
    }
   ],
   "source": [
    "len(smiles)"
   ]
  },
  {
   "cell_type": "markdown",
   "id": "083d64f1",
   "metadata": {},
   "source": [
    "In this case we are generating new molecules, so we are working with the whole dataset."
   ]
  },
  {
   "cell_type": "markdown",
   "id": "e3ccafed-e14c-45d5-8e5d-7fe709ba752d",
   "metadata": {},
   "source": [
    "Let's generate the MACAM embedder and the RON model trained on the whole data set:"
   ]
  },
  {
   "cell_type": "code",
   "execution_count": 6,
   "id": "8df8ac29-79fc-4341-91ee-c85415e9fc0e",
   "metadata": {
    "tags": []
   },
   "outputs": [
    {
     "name": "stdout",
     "output_type": "stream",
     "text": [
      "Problem type identified as regression\n",
      "morgan2 & tanimoto: 0.368\n",
      "morgan3 & tanimoto: 0.374\n",
      "rdk5 & tanimoto: 0.472\n",
      "rdk7 & tanimoto: 0.505\n",
      "featmorgan2 & tanimoto: 0.395\n",
      "featmorgan3 & tanimoto: 0.398\n",
      "maccs & tanimoto: 0.532\n",
      "avalon & tanimoto: 0.302\n",
      "atompairs & tanimoto: 0.565\n",
      "torsion & tanimoto: 0.331\n",
      "pattern & tanimoto: 0.492\n",
      "secfp6 & tanimoto: 0.328\n",
      "layered & tanimoto: 0.573\n",
      "layered & tanimoto: 0.573\n",
      "layered & cosine: 0.589\n",
      "layered & dice: 0.590\n",
      "layered & sokal: 0.563\n",
      "layered & kulczynski: 0.605\n",
      "layered & mcconnaughey: 0.605\n",
      "layered & braun-blanquet: 0.562\n",
      "layered & rogot-goldberg: 0.591\n",
      "layered & asymmetric: 0.468\n",
      "layered & manhattan: 0.530\n",
      "layered & blay-roger: 0.513\n",
      "Setting recommended combination: layered & kulczynski\n"
     ]
    }
   ],
   "source": [
    "mcw = MACAW_optimus(smiles, Y, verbose=True, n_components=15, n_landmarks=100, random_state=57)\n",
    "X = mcw.transform(smiles)"
   ]
  },
  {
   "cell_type": "code",
   "execution_count": 7,
   "id": "02717bc3-a226-416d-aff6-22b6a95a95db",
   "metadata": {},
   "outputs": [
    {
     "name": "stdout",
     "output_type": "stream",
     "text": [
      "{'gamma': 5, 'kernel': 'rbf'}\n",
      "R^2 = 0.99\n",
      "CPU times: user 1h 38min 35s, sys: 2h 54min 43s, total: 4h 33min 19s\n",
      "Wall time: 2min 28s\n"
     ]
    }
   ],
   "source": [
    "%%time\n",
    "\n",
    "# Optimize hyperparameters\n",
    "param_grid = {\n",
    "    'gamma': [1, 3, 5, 8, 10, 15, 20],\n",
    "    'kernel': ['rbf']\n",
    "}\n",
    "grid = GridSearchCV(EMRVR(), param_grid, cv=5, refit=True)\n",
    "grid.fit(X, Y)\n",
    "print(grid.best_params_)\n",
    "\n",
    "# Retrain the RVR model so to have access to std through .predict function\n",
    "regr = EMRVR(\n",
    "    kernel=grid.best_params_['kernel'], \n",
    "    gamma=grid.best_params_['gamma']\n",
    ")\n",
    "regr.fit(X, Y)\n",
    "\n",
    "# Train set predictions\n",
    "y_pred = regr.predict(X)\n",
    "print(f\"R^2 = {r2_score(y_pred, Y):0.2f}\")\n"
   ]
  },
  {
   "cell_type": "markdown",
   "id": "e14339b0",
   "metadata": {},
   "source": [
    "##  Approach 1. Molecular design by generating and screening a single large library"
   ]
  },
  {
   "cell_type": "markdown",
   "id": "02faa819",
   "metadata": {},
   "source": [
    "The library generation involves computing a noisy probability matrix from which  molecules will be drawn. Molecules will have a length of up to 20 SELFIES tokens. The method only considers robust SELFIES tokens (i.e., those for which there are state-dependent derivation rules implemented)."
   ]
  },
  {
   "cell_type": "code",
   "execution_count": 8,
   "id": "f66d0c35",
   "metadata": {
    "collapsed": true,
    "jupyter": {
     "outputs_hidden": true
    },
    "tags": []
   },
   "outputs": [
    {
     "name": "stdout",
     "output_type": "stream",
     "text": [
      "10000 molecules generated.\n",
      "20000 molecules generated.\n",
      "30000 molecules generated.\n",
      "40000 molecules generated.\n",
      "50000 molecules generated.\n",
      "60000 molecules generated.\n",
      "70000 molecules generated.\n",
      "80000 molecules generated.\n",
      "90000 molecules generated.\n",
      "100000 molecules generated.\n",
      "110000 molecules generated.\n",
      "120000 molecules generated.\n",
      "130000 molecules generated.\n",
      "140000 molecules generated.\n",
      "150000 molecules generated.\n",
      "160000 molecules generated.\n",
      "170000 molecules generated.\n",
      "180000 molecules generated.\n",
      "190000 molecules generated.\n",
      "200000 molecules generated.\n",
      "91061 unique molecules generated.\n"
     ]
    }
   ],
   "source": [
    "smiles_lib = library_maker(smiles, max_len=20, n_gen=200000, algorithm='position', noise_factor=0.5)"
   ]
  },
  {
   "cell_type": "markdown",
   "id": "e2de806c",
   "metadata": {},
   "source": [
    "We first embed the library molecules in the MACAW space:"
   ]
  },
  {
   "cell_type": "code",
   "execution_count": 9,
   "id": "fa022a1e",
   "metadata": {},
   "outputs": [
    {
     "data": {
      "text/plain": [
       "91061"
      ]
     },
     "execution_count": 9,
     "metadata": {},
     "output_type": "execute_result"
    }
   ],
   "source": [
    "len(smiles_lib)"
   ]
  },
  {
   "cell_type": "code",
   "execution_count": 10,
   "id": "3a4d4493",
   "metadata": {},
   "outputs": [
    {
     "name": "stdout",
     "output_type": "stream",
     "text": [
      "50000\n"
     ]
    }
   ],
   "source": [
    "X_lib = mcw.transform(smiles_lib)"
   ]
  },
  {
   "cell_type": "code",
   "execution_count": 11,
   "id": "94059907",
   "metadata": {},
   "outputs": [
    {
     "data": {
      "text/plain": [
       "(91061, 15)"
      ]
     },
     "execution_count": 11,
     "metadata": {},
     "output_type": "execute_result"
    }
   ],
   "source": [
    "X_lib.shape"
   ]
  },
  {
   "cell_type": "markdown",
   "id": "79df933b",
   "metadata": {},
   "source": [
    "And then we find promising molecular designs according to the desired specification (in this example, RON=110). \n",
    "\n",
    "For retrieving molecules from the 20-dimensional MACAW space, we will use our custom V-distance metric (`p=0.5`). If not specified, it will use `p=1` by default (Manhattan distance)."
   ]
  },
  {
   "cell_type": "code",
   "execution_count": 12,
   "id": "5ddba37e",
   "metadata": {},
   "outputs": [
    {
     "name": "stdout",
     "output_type": "stream",
     "text": [
      "['C=C(COC)OPC', 'C=C(COC)OCP', 'COOC(=O)CCO', 'C=C(C)C(O)OCP', 'CC(CP)C(C)(C)C']\n",
      "[109.6602524  109.69774081 110.14718249 110.34096386 110.6941762 ]\n"
     ]
    }
   ],
   "source": [
    "spec = 110. # desired RON design specification\n",
    "\n",
    "idx, Y_hits_pred = hit_finder(X_lib, model=regr, spec=spec, X=X, Y=Y, n_hits=5, k1=5, k2=10, p=0.5, n_rounds=2)\n",
    "smiles_hits = [smiles_lib[i] for i in idx]\n",
    "\n",
    "print(smiles_hits)\n",
    "print(Y_hits_pred)"
   ]
  },
  {
   "cell_type": "markdown",
   "id": "e30d056a",
   "metadata": {},
   "source": [
    "Let us visualize the molecules:"
   ]
  },
  {
   "cell_type": "code",
   "execution_count": 13,
   "id": "4e6ed66d",
   "metadata": {},
   "outputs": [
    {
     "data": {
      "image/svg+xml": [
       "<svg xmlns=\"http://www.w3.org/2000/svg\" xmlns:rdkit=\"http://www.rdkit.org/xml\" xmlns:xlink=\"http://www.w3.org/1999/xlink\" version=\"1.1\" baseProfile=\"full\" xml:space=\"preserve\" width=\"600px\" height=\"400px\" viewBox=\"0 0 600 400\">\n",
       "<!-- END OF HEADER -->\n",
       "<rect style=\"opacity:1.0;fill:#FFFFFF;stroke:none\" width=\"600\" height=\"400\" x=\"0\" y=\"0\"> </rect>\n",
       "<rect style=\"opacity:1.0;fill:#FFFFFF;stroke:none\" width=\"600\" height=\"400\" x=\"0\" y=\"0\"> </rect>\n",
       "<rect style=\"opacity:1.0;fill:#FFFFFF;stroke:none\" width=\"600\" height=\"400\" x=\"0\" y=\"0\"> </rect>\n",
       "<rect style=\"opacity:1.0;fill:#FFFFFF;stroke:none\" width=\"600\" height=\"400\" x=\"0\" y=\"0\"> </rect>\n",
       "<rect style=\"opacity:1.0;fill:#FFFFFF;stroke:none\" width=\"600\" height=\"400\" x=\"0\" y=\"0\"> </rect>\n",
       "<rect style=\"opacity:1.0;fill:#FFFFFF;stroke:none\" width=\"600\" height=\"400\" x=\"0\" y=\"0\"> </rect>\n",
       "<path class=\"bond-0\" d=\"M 90.4624,46.5271 L 90.4624,79.1007\" style=\"fill:none;fill-rule:evenodd;stroke:#000000;stroke-width:2.0px;stroke-linecap:butt;stroke-linejoin:miter;stroke-opacity:1\"/>\n",
       "<path class=\"bond-0\" d=\"M 96.9772,46.5271 L 96.9772,79.1007\" style=\"fill:none;fill-rule:evenodd;stroke:#000000;stroke-width:2.0px;stroke-linecap:butt;stroke-linejoin:miter;stroke-opacity:1\"/>\n",
       "<path class=\"bond-1\" d=\"M 93.7198,79.1007 L 65.5102,95.3876\" style=\"fill:none;fill-rule:evenodd;stroke:#000000;stroke-width:2.0px;stroke-linecap:butt;stroke-linejoin:miter;stroke-opacity:1\"/>\n",
       "<path class=\"bond-4\" d=\"M 93.7198,79.1007 L 105.3,85.7867\" style=\"fill:none;fill-rule:evenodd;stroke:#000000;stroke-width:2.0px;stroke-linecap:butt;stroke-linejoin:miter;stroke-opacity:1\"/>\n",
       "<path class=\"bond-4\" d=\"M 105.3,85.7867 L 116.881,92.4726\" style=\"fill:none;fill-rule:evenodd;stroke:#FF0000;stroke-width:2.0px;stroke-linecap:butt;stroke-linejoin:miter;stroke-opacity:1\"/>\n",
       "<path class=\"bond-2\" d=\"M 65.5102,95.3876 L 65.5102,108.935\" style=\"fill:none;fill-rule:evenodd;stroke:#000000;stroke-width:2.0px;stroke-linecap:butt;stroke-linejoin:miter;stroke-opacity:1\"/>\n",
       "<path class=\"bond-2\" d=\"M 65.5102,108.935 L 65.5102,122.482\" style=\"fill:none;fill-rule:evenodd;stroke:#FF0000;stroke-width:2.0px;stroke-linecap:butt;stroke-linejoin:miter;stroke-opacity:1\"/>\n",
       "<path class=\"bond-3\" d=\"M 60.4612,130.876 L 48.8809,137.562\" style=\"fill:none;fill-rule:evenodd;stroke:#FF0000;stroke-width:2.0px;stroke-linecap:butt;stroke-linejoin:miter;stroke-opacity:1\"/>\n",
       "<path class=\"bond-3\" d=\"M 48.8809,137.562 L 37.3005,144.248\" style=\"fill:none;fill-rule:evenodd;stroke:#000000;stroke-width:2.0px;stroke-linecap:butt;stroke-linejoin:miter;stroke-opacity:1\"/>\n",
       "<path class=\"bond-5\" d=\"M 121.929,101.01 L 121.929,111.842\" style=\"fill:none;fill-rule:evenodd;stroke:#FF0000;stroke-width:2.0px;stroke-linecap:butt;stroke-linejoin:miter;stroke-opacity:1\"/>\n",
       "<path class=\"bond-5\" d=\"M 121.929,111.842 L 121.929,122.675\" style=\"fill:none;fill-rule:evenodd;stroke:#FF7F00;stroke-width:2.0px;stroke-linecap:butt;stroke-linejoin:miter;stroke-opacity:1\"/>\n",
       "<path class=\"bond-6\" d=\"M 125.688,130.132 L 137.914,137.19\" style=\"fill:none;fill-rule:evenodd;stroke:#FF7F00;stroke-width:2.0px;stroke-linecap:butt;stroke-linejoin:miter;stroke-opacity:1\"/>\n",
       "<path class=\"bond-6\" d=\"M 137.914,137.19 L 150.139,144.248\" style=\"fill:none;fill-rule:evenodd;stroke:#000000;stroke-width:2.0px;stroke-linecap:butt;stroke-linejoin:miter;stroke-opacity:1\"/>\n",
       "<path class=\"atom-3\" d=\"M 61.2756 127.987 Q 61.2756 125.772, 62.3701 124.534 Q 63.4645 123.297, 65.5102 123.297 Q 67.5558 123.297, 68.6503 124.534 Q 69.7447 125.772, 69.7447 127.987 Q 69.7447 130.228, 68.6372 131.505 Q 67.5297 132.769, 65.5102 132.769 Q 63.4776 132.769, 62.3701 131.505 Q 61.2756 130.241, 61.2756 127.987 M 65.5102 131.727 Q 66.9173 131.727, 67.6731 130.789 Q 68.4418 129.837, 68.4418 127.987 Q 68.4418 126.176, 67.6731 125.264 Q 66.9173 124.339, 65.5102 124.339 Q 64.103 124.339, 63.3342 125.251 Q 62.5785 126.163, 62.5785 127.987 Q 62.5785 129.851, 63.3342 130.789 Q 64.103 131.727, 65.5102 131.727 \" fill=\"#FF0000\"/>\n",
       "<path class=\"atom-5\" d=\"M 117.695 95.4136 Q 117.695 93.1986, 118.789 91.9608 Q 119.884 90.723, 121.929 90.723 Q 123.975 90.723, 125.07 91.9608 Q 126.164 93.1986, 126.164 95.4136 Q 126.164 97.6547, 125.056 98.9316 Q 123.949 100.195, 121.929 100.195 Q 119.897 100.195, 118.789 98.9316 Q 117.695 97.6677, 117.695 95.4136 M 121.929 99.1531 Q 123.337 99.1531, 124.092 98.215 Q 124.861 97.2638, 124.861 95.4136 Q 124.861 93.6025, 124.092 92.6905 Q 123.337 91.7654, 121.929 91.7654 Q 120.522 91.7654, 119.754 92.6774 Q 118.998 93.5895, 118.998 95.4136 Q 118.998 97.2768, 119.754 98.215 Q 120.522 99.1531, 121.929 99.1531 \" fill=\"#FF0000\"/>\n",
       "<path class=\"atom-6\" d=\"M 110.659 123.349 L 111.91 123.349 L 111.91 127.271 L 116.626 127.271 L 116.626 123.349 L 117.877 123.349 L 117.877 132.574 L 116.626 132.574 L 116.626 128.313 L 111.91 128.313 L 111.91 132.574 L 110.659 132.574 L 110.659 123.349 \" fill=\"#FF7F00\"/>\n",
       "<path class=\"atom-6\" d=\"M 121.708 123.349 Q 123.284 123.349, 124.079 124.065 Q 124.874 124.769, 124.874 126.059 Q 124.874 127.336, 124.053 128.065 Q 123.245 128.782, 121.708 128.782 L 120.236 128.782 L 120.236 132.574 L 118.985 132.574 L 118.985 123.349 L 121.708 123.349 M 121.708 127.74 Q 122.607 127.74, 123.089 127.31 Q 123.571 126.88, 123.571 126.059 Q 123.571 125.238, 123.089 124.821 Q 122.62 124.391, 121.708 124.391 L 120.236 124.391 L 120.236 127.74 L 121.708 127.74 \" fill=\"#FF7F00\"/>\n",
       "<path class=\"bond-0\" d=\"M 290.462,46.5271 L 290.462,79.1007\" style=\"fill:none;fill-rule:evenodd;stroke:#000000;stroke-width:2.0px;stroke-linecap:butt;stroke-linejoin:miter;stroke-opacity:1\"/>\n",
       "<path class=\"bond-0\" d=\"M 296.977,46.5271 L 296.977,79.1007\" style=\"fill:none;fill-rule:evenodd;stroke:#000000;stroke-width:2.0px;stroke-linecap:butt;stroke-linejoin:miter;stroke-opacity:1\"/>\n",
       "<path class=\"bond-1\" d=\"M 293.72,79.1007 L 265.51,95.3876\" style=\"fill:none;fill-rule:evenodd;stroke:#000000;stroke-width:2.0px;stroke-linecap:butt;stroke-linejoin:miter;stroke-opacity:1\"/>\n",
       "<path class=\"bond-4\" d=\"M 293.72,79.1007 L 305.3,85.7867\" style=\"fill:none;fill-rule:evenodd;stroke:#000000;stroke-width:2.0px;stroke-linecap:butt;stroke-linejoin:miter;stroke-opacity:1\"/>\n",
       "<path class=\"bond-4\" d=\"M 305.3,85.7867 L 316.881,92.4726\" style=\"fill:none;fill-rule:evenodd;stroke:#FF0000;stroke-width:2.0px;stroke-linecap:butt;stroke-linejoin:miter;stroke-opacity:1\"/>\n",
       "<path class=\"bond-2\" d=\"M 265.51,95.3876 L 265.51,108.935\" style=\"fill:none;fill-rule:evenodd;stroke:#000000;stroke-width:2.0px;stroke-linecap:butt;stroke-linejoin:miter;stroke-opacity:1\"/>\n",
       "<path class=\"bond-2\" d=\"M 265.51,108.935 L 265.51,122.482\" style=\"fill:none;fill-rule:evenodd;stroke:#FF0000;stroke-width:2.0px;stroke-linecap:butt;stroke-linejoin:miter;stroke-opacity:1\"/>\n",
       "<path class=\"bond-3\" d=\"M 260.461,130.876 L 248.881,137.562\" style=\"fill:none;fill-rule:evenodd;stroke:#FF0000;stroke-width:2.0px;stroke-linecap:butt;stroke-linejoin:miter;stroke-opacity:1\"/>\n",
       "<path class=\"bond-3\" d=\"M 248.881,137.562 L 237.301,144.248\" style=\"fill:none;fill-rule:evenodd;stroke:#000000;stroke-width:2.0px;stroke-linecap:butt;stroke-linejoin:miter;stroke-opacity:1\"/>\n",
       "<path class=\"bond-5\" d=\"M 321.929,101.01 L 321.929,114.486\" style=\"fill:none;fill-rule:evenodd;stroke:#FF0000;stroke-width:2.0px;stroke-linecap:butt;stroke-linejoin:miter;stroke-opacity:1\"/>\n",
       "<path class=\"bond-5\" d=\"M 321.929,114.486 L 321.929,127.961\" style=\"fill:none;fill-rule:evenodd;stroke:#000000;stroke-width:2.0px;stroke-linecap:butt;stroke-linejoin:miter;stroke-opacity:1\"/>\n",
       "<path class=\"bond-6\" d=\"M 321.929,127.961 L 334.155,135.02\" style=\"fill:none;fill-rule:evenodd;stroke:#000000;stroke-width:2.0px;stroke-linecap:butt;stroke-linejoin:miter;stroke-opacity:1\"/>\n",
       "<path class=\"bond-6\" d=\"M 334.155,135.02 L 346.38,142.078\" style=\"fill:none;fill-rule:evenodd;stroke:#FF7F00;stroke-width:2.0px;stroke-linecap:butt;stroke-linejoin:miter;stroke-opacity:1\"/>\n",
       "<path class=\"atom-3\" d=\"M 261.276 127.987 Q 261.276 125.772, 262.37 124.534 Q 263.465 123.297, 265.51 123.297 Q 267.556 123.297, 268.65 124.534 Q 269.745 125.772, 269.745 127.987 Q 269.745 130.228, 268.637 131.505 Q 267.53 132.769, 265.51 132.769 Q 263.478 132.769, 262.37 131.505 Q 261.276 130.241, 261.276 127.987 M 265.51 131.727 Q 266.917 131.727, 267.673 130.789 Q 268.442 129.837, 268.442 127.987 Q 268.442 126.176, 267.673 125.264 Q 266.917 124.339, 265.51 124.339 Q 264.103 124.339, 263.334 125.251 Q 262.579 126.163, 262.579 127.987 Q 262.579 129.851, 263.334 130.789 Q 264.103 131.727, 265.51 131.727 \" fill=\"#FF0000\"/>\n",
       "<path class=\"atom-5\" d=\"M 317.695 95.4136 Q 317.695 93.1986, 318.789 91.9608 Q 319.884 90.723, 321.929 90.723 Q 323.975 90.723, 325.07 91.9608 Q 326.164 93.1986, 326.164 95.4136 Q 326.164 97.6547, 325.056 98.9316 Q 323.949 100.195, 321.929 100.195 Q 319.897 100.195, 318.789 98.9316 Q 317.695 97.6677, 317.695 95.4136 M 321.929 99.1531 Q 323.337 99.1531, 324.092 98.215 Q 324.861 97.2638, 324.861 95.4136 Q 324.861 93.6025, 324.092 92.6905 Q 323.337 91.7654, 321.929 91.7654 Q 320.522 91.7654, 319.754 92.6774 Q 318.998 93.5895, 318.998 95.4136 Q 318.998 97.2768, 319.754 98.215 Q 320.522 99.1531, 321.929 99.1531 \" fill=\"#FF0000\"/>\n",
       "<path class=\"atom-7\" d=\"M 349.918 139.636 Q 351.494 139.636, 352.289 140.352 Q 353.084 141.056, 353.084 142.346 Q 353.084 143.623, 352.263 144.352 Q 351.455 145.069, 349.918 145.069 L 348.445 145.069 L 348.445 148.861 L 347.194 148.861 L 347.194 139.636 L 349.918 139.636 M 349.918 144.027 Q 350.817 144.027, 351.299 143.597 Q 351.781 143.167, 351.781 142.346 Q 351.781 141.525, 351.299 141.108 Q 350.83 140.678, 349.918 140.678 L 348.445 140.678 L 348.445 144.027 L 349.918 144.027 \" fill=\"#FF7F00\"/>\n",
       "<path class=\"atom-7\" d=\"M 354.191 139.636 L 355.442 139.636 L 355.442 143.558 L 360.159 143.558 L 360.159 139.636 L 361.41 139.636 L 361.41 148.861 L 360.159 148.861 L 360.159 144.6 L 355.442 144.6 L 355.442 148.861 L 354.191 148.861 L 354.191 139.636 \" fill=\"#FF7F00\"/>\n",
       "<path class=\"atom-7\" d=\"M 361.857 148.537 Q 362.08 147.961, 362.613 147.643 Q 363.147 147.316, 363.886 147.316 Q 364.806 147.316, 365.322 147.815 Q 365.838 148.313, 365.838 149.199 Q 365.838 150.102, 365.168 150.945 Q 364.505 151.787, 363.129 152.785 L 365.941 152.785 L 365.941 153.473 L 361.84 153.473 L 361.84 152.897 Q 362.975 152.088, 363.645 151.486 Q 364.325 150.885, 364.652 150.343 Q 364.978 149.801, 364.978 149.242 Q 364.978 148.657, 364.686 148.33 Q 364.394 148.004, 363.886 148.004 Q 363.396 148.004, 363.069 148.201 Q 362.742 148.399, 362.51 148.838 L 361.857 148.537 \" fill=\"#FF7F00\"/>\n",
       "<path class=\"bond-0\" d=\"M 409.091,119.818 L 420.671,113.132\" style=\"fill:none;fill-rule:evenodd;stroke:#000000;stroke-width:2.0px;stroke-linecap:butt;stroke-linejoin:miter;stroke-opacity:1\"/>\n",
       "<path class=\"bond-0\" d=\"M 420.671,113.132 L 432.252,106.446\" style=\"fill:none;fill-rule:evenodd;stroke:#FF0000;stroke-width:2.0px;stroke-linecap:butt;stroke-linejoin:miter;stroke-opacity:1\"/>\n",
       "<path class=\"bond-1\" d=\"M 442.349,106.446 L 460.607,116.987\" style=\"fill:none;fill-rule:evenodd;stroke:#FF0000;stroke-width:2.0px;stroke-linecap:butt;stroke-linejoin:miter;stroke-opacity:1\"/>\n",
       "<path class=\"bond-2\" d=\"M 470.559,116.903 L 482.139,110.217\" style=\"fill:none;fill-rule:evenodd;stroke:#FF0000;stroke-width:2.0px;stroke-linecap:butt;stroke-linejoin:miter;stroke-opacity:1\"/>\n",
       "<path class=\"bond-2\" d=\"M 482.139,110.217 L 493.72,103.531\" style=\"fill:none;fill-rule:evenodd;stroke:#000000;stroke-width:2.0px;stroke-linecap:butt;stroke-linejoin:miter;stroke-opacity:1\"/>\n",
       "<path class=\"bond-3\" d=\"M 496.977,103.531 L 496.977,90.0553\" style=\"fill:none;fill-rule:evenodd;stroke:#000000;stroke-width:2.0px;stroke-linecap:butt;stroke-linejoin:miter;stroke-opacity:1\"/>\n",
       "<path class=\"bond-3\" d=\"M 496.977,90.0553 L 496.977,76.5795\" style=\"fill:none;fill-rule:evenodd;stroke:#FF0000;stroke-width:2.0px;stroke-linecap:butt;stroke-linejoin:miter;stroke-opacity:1\"/>\n",
       "<path class=\"bond-3\" d=\"M 490.462,103.531 L 490.462,90.0553\" style=\"fill:none;fill-rule:evenodd;stroke:#000000;stroke-width:2.0px;stroke-linecap:butt;stroke-linejoin:miter;stroke-opacity:1\"/>\n",
       "<path class=\"bond-3\" d=\"M 490.462,90.0553 L 490.462,76.5795\" style=\"fill:none;fill-rule:evenodd;stroke:#FF0000;stroke-width:2.0px;stroke-linecap:butt;stroke-linejoin:miter;stroke-opacity:1\"/>\n",
       "<path class=\"bond-4\" d=\"M 493.72,103.531 L 521.929,119.818\" style=\"fill:none;fill-rule:evenodd;stroke:#000000;stroke-width:2.0px;stroke-linecap:butt;stroke-linejoin:miter;stroke-opacity:1\"/>\n",
       "<path class=\"bond-5\" d=\"M 521.929,119.818 L 550.139,103.531\" style=\"fill:none;fill-rule:evenodd;stroke:#000000;stroke-width:2.0px;stroke-linecap:butt;stroke-linejoin:miter;stroke-opacity:1\"/>\n",
       "<path class=\"bond-6\" d=\"M 550.139,103.531 L 561.719,110.217\" style=\"fill:none;fill-rule:evenodd;stroke:#000000;stroke-width:2.0px;stroke-linecap:butt;stroke-linejoin:miter;stroke-opacity:1\"/>\n",
       "<path class=\"bond-6\" d=\"M 561.719,110.217 L 573.3,116.903\" style=\"fill:none;fill-rule:evenodd;stroke:#FF0000;stroke-width:2.0px;stroke-linecap:butt;stroke-linejoin:miter;stroke-opacity:1\"/>\n",
       "<path class=\"atom-1\" d=\"M 433.066 103.557 Q 433.066 101.342, 434.16 100.104 Q 435.255 98.8664, 437.301 98.8664 Q 439.346 98.8664, 440.441 100.104 Q 441.535 101.342, 441.535 103.557 Q 441.535 105.798, 440.428 107.075 Q 439.32 108.339, 437.301 108.339 Q 435.268 108.339, 434.16 107.075 Q 433.066 105.811, 433.066 103.557 M 437.301 107.297 Q 438.708 107.297, 439.463 106.358 Q 440.232 105.407, 440.232 103.557 Q 440.232 101.746, 439.463 100.834 Q 438.708 99.9088, 437.301 99.9088 Q 435.893 99.9088, 435.125 100.821 Q 434.369 101.733, 434.369 103.557 Q 434.369 105.42, 435.125 106.358 Q 435.893 107.297, 437.301 107.297 \" fill=\"#FF0000\"/>\n",
       "<path class=\"atom-2\" d=\"M 461.276 119.844 Q 461.276 117.629, 462.37 116.391 Q 463.465 115.153, 465.51 115.153 Q 467.556 115.153, 468.65 116.391 Q 469.745 117.629, 469.745 119.844 Q 469.745 122.085, 468.637 123.362 Q 467.53 124.626, 465.51 124.626 Q 463.478 124.626, 462.37 123.362 Q 461.276 122.098, 461.276 119.844 M 465.51 123.583 Q 466.917 123.583, 467.673 122.645 Q 468.442 121.694, 468.442 119.844 Q 468.442 118.033, 467.673 117.121 Q 466.917 116.196, 465.51 116.196 Q 464.103 116.196, 463.334 117.108 Q 462.579 118.02, 462.579 119.844 Q 462.579 121.707, 463.334 122.645 Q 464.103 123.583, 465.51 123.583 \" fill=\"#FF0000\"/>\n",
       "<path class=\"atom-4\" d=\"M 489.485 70.9834 Q 489.485 68.7684, 490.58 67.5306 Q 491.674 66.2928, 493.72 66.2928 Q 495.765 66.2928, 496.86 67.5306 Q 497.954 68.7684, 497.954 70.9834 Q 497.954 73.2244, 496.847 74.5013 Q 495.739 75.7652, 493.72 75.7652 Q 491.687 75.7652, 490.58 74.5013 Q 489.485 73.2375, 489.485 70.9834 M 493.72 74.7228 Q 495.127 74.7228, 495.883 73.7847 Q 496.651 72.8336, 496.651 70.9834 Q 496.651 69.1723, 495.883 68.2602 Q 495.127 67.3351, 493.72 67.3351 Q 492.313 67.3351, 491.544 68.2472 Q 490.788 69.1592, 490.788 70.9834 Q 490.788 72.8466, 491.544 73.7847 Q 492.313 74.7228, 493.72 74.7228 \" fill=\"#FF0000\"/>\n",
       "<path class=\"atom-7\" d=\"M 574.114 119.844 Q 574.114 117.629, 575.209 116.391 Q 576.303 115.153, 578.349 115.153 Q 580.394 115.153, 581.489 116.391 Q 582.583 117.629, 582.583 119.844 Q 582.583 122.085, 581.476 123.362 Q 580.368 124.626, 578.349 124.626 Q 576.316 124.626, 575.209 123.362 Q 574.114 122.098, 574.114 119.844 M 578.349 123.583 Q 579.756 123.583, 580.512 122.645 Q 581.28 121.694, 581.28 119.844 Q 581.28 118.033, 580.512 117.121 Q 579.756 116.196, 578.349 116.196 Q 576.941 116.196, 576.173 117.108 Q 575.417 118.02, 575.417 119.844 Q 575.417 121.707, 576.173 122.645 Q 576.941 123.583, 578.349 123.583 \" fill=\"#FF0000\"/>\n",
       "<path class=\"atom-7\" d=\"M 583.691 115.258 L 584.942 115.258 L 584.942 119.179 L 589.658 119.179 L 589.658 115.258 L 590.909 115.258 L 590.909 124.482 L 589.658 124.482 L 589.658 120.222 L 584.942 120.222 L 584.942 124.482 L 583.691 124.482 L 583.691 115.258 \" fill=\"#FF0000\"/>\n",
       "<path class=\"bond-0\" d=\"M 53.6482,268.412 L 54.9132,300.961\" style=\"fill:none;fill-rule:evenodd;stroke:#000000;stroke-width:2.0px;stroke-linecap:butt;stroke-linejoin:miter;stroke-opacity:1\"/>\n",
       "<path class=\"bond-0\" d=\"M 60.158,268.159 L 61.423,300.708\" style=\"fill:none;fill-rule:evenodd;stroke:#000000;stroke-width:2.0px;stroke-linecap:butt;stroke-linejoin:miter;stroke-opacity:1\"/>\n",
       "<path class=\"bond-1\" d=\"M 58.1681,300.835 L 30.6123,318.205\" style=\"fill:none;fill-rule:evenodd;stroke:#000000;stroke-width:2.0px;stroke-linecap:butt;stroke-linejoin:miter;stroke-opacity:1\"/>\n",
       "<path class=\"bond-2\" d=\"M 58.1681,300.835 L 86.989,316.014\" style=\"fill:none;fill-rule:evenodd;stroke:#000000;stroke-width:2.0px;stroke-linecap:butt;stroke-linejoin:miter;stroke-opacity:1\"/>\n",
       "<path class=\"bond-3\" d=\"M 86.989,316.014 L 87.515,329.549\" style=\"fill:none;fill-rule:evenodd;stroke:#000000;stroke-width:2.0px;stroke-linecap:butt;stroke-linejoin:miter;stroke-opacity:1\"/>\n",
       "<path class=\"bond-3\" d=\"M 87.515,329.549 L 88.041,343.084\" style=\"fill:none;fill-rule:evenodd;stroke:#FF0000;stroke-width:2.0px;stroke-linecap:butt;stroke-linejoin:miter;stroke-opacity:1\"/>\n",
       "<path class=\"bond-4\" d=\"M 86.989,316.014 L 98.2424,308.92\" style=\"fill:none;fill-rule:evenodd;stroke:#000000;stroke-width:2.0px;stroke-linecap:butt;stroke-linejoin:miter;stroke-opacity:1\"/>\n",
       "<path class=\"bond-4\" d=\"M 98.2424,308.92 L 109.496,301.826\" style=\"fill:none;fill-rule:evenodd;stroke:#FF0000;stroke-width:2.0px;stroke-linecap:butt;stroke-linejoin:miter;stroke-opacity:1\"/>\n",
       "<path class=\"bond-5\" d=\"M 119.594,301.303 L 131.48,307.563\" style=\"fill:none;fill-rule:evenodd;stroke:#FF0000;stroke-width:2.0px;stroke-linecap:butt;stroke-linejoin:miter;stroke-opacity:1\"/>\n",
       "<path class=\"bond-5\" d=\"M 131.48,307.563 L 143.366,313.823\" style=\"fill:none;fill-rule:evenodd;stroke:#000000;stroke-width:2.0px;stroke-linecap:butt;stroke-linejoin:miter;stroke-opacity:1\"/>\n",
       "<path class=\"bond-6\" d=\"M 143.366,313.823 L 155.264,306.323\" style=\"fill:none;fill-rule:evenodd;stroke:#000000;stroke-width:2.0px;stroke-linecap:butt;stroke-linejoin:miter;stroke-opacity:1\"/>\n",
       "<path class=\"bond-6\" d=\"M 155.264,306.323 L 167.163,298.822\" style=\"fill:none;fill-rule:evenodd;stroke:#FF7F00;stroke-width:2.0px;stroke-linecap:butt;stroke-linejoin:miter;stroke-opacity:1\"/>\n",
       "<path class=\"atom-4\" d=\"M 84.0194 348.589 Q 84.0194 346.374, 85.1138 345.136 Q 86.2083 343.898, 88.2539 343.898 Q 90.2996 343.898, 91.394 345.136 Q 92.4885 346.374, 92.4885 348.589 Q 92.4885 350.83, 91.381 352.107 Q 90.2735 353.371, 88.2539 353.371 Q 86.2213 353.371, 85.1138 352.107 Q 84.0194 350.843, 84.0194 348.589 M 88.2539 352.328 Q 89.6611 352.328, 90.4168 351.39 Q 91.1856 350.439, 91.1856 348.589 Q 91.1856 346.778, 90.4168 345.866 Q 89.6611 344.941, 88.2539 344.941 Q 86.8467 344.941, 86.078 345.853 Q 85.3223 346.765, 85.3223 348.589 Q 85.3223 350.452, 86.078 351.39 Q 86.8467 352.328, 88.2539 352.328 \" fill=\"#FF0000\"/>\n",
       "<path class=\"atom-4\" d=\"M 93.596 344.003 L 94.8468 344.003 L 94.8468 347.925 L 99.5635 347.925 L 99.5635 344.003 L 100.814 344.003 L 100.814 353.227 L 99.5635 353.227 L 99.5635 348.967 L 94.8468 348.967 L 94.8468 353.227 L 93.596 353.227 L 93.596 344.003 \" fill=\"#FF0000\"/>\n",
       "<path class=\"atom-5\" d=\"M 110.31 298.67 Q 110.31 296.455, 111.405 295.217 Q 112.499 293.979, 114.545 293.979 Q 116.59 293.979, 117.685 295.217 Q 118.779 296.455, 118.779 298.67 Q 118.779 300.911, 117.672 302.188 Q 116.564 303.452, 114.545 303.452 Q 112.512 303.452, 111.405 302.188 Q 110.31 300.924, 110.31 298.67 M 114.545 302.409 Q 115.952 302.409, 116.708 301.471 Q 117.476 300.52, 117.476 298.67 Q 117.476 296.859, 116.708 295.947 Q 115.952 295.022, 114.545 295.022 Q 113.138 295.022, 112.369 295.934 Q 111.613 296.846, 111.613 298.67 Q 111.613 300.533, 112.369 301.471 Q 113.138 302.409, 114.545 302.409 \" fill=\"#FF0000\"/>\n",
       "<path class=\"atom-7\" d=\"M 170.7 291.84 Q 172.277 291.84, 173.071 292.557 Q 173.866 293.261, 173.866 294.55 Q 173.866 295.827, 173.045 296.557 Q 172.237 297.274, 170.7 297.274 L 169.228 297.274 L 169.228 301.065 L 167.977 301.065 L 167.977 291.84 L 170.7 291.84 M 170.7 296.231 Q 171.599 296.231, 172.081 295.801 Q 172.563 295.371, 172.563 294.55 Q 172.563 293.73, 172.081 293.313 Q 171.612 292.883, 170.7 292.883 L 169.228 292.883 L 169.228 296.231 L 170.7 296.231 \" fill=\"#FF7F00\"/>\n",
       "<path class=\"atom-7\" d=\"M 174.974 291.84 L 176.225 291.84 L 176.225 295.762 L 180.941 295.762 L 180.941 291.84 L 182.192 291.84 L 182.192 301.065 L 180.941 301.065 L 180.941 296.805 L 176.225 296.805 L 176.225 301.065 L 174.974 301.065 L 174.974 291.84 \" fill=\"#FF7F00\"/>\n",
       "<path class=\"atom-7\" d=\"M 182.639 300.742 Q 182.863 300.165, 183.396 299.847 Q 183.929 299.52, 184.669 299.52 Q 185.589 299.52, 186.105 300.019 Q 186.621 300.518, 186.621 301.404 Q 186.621 302.307, 185.95 303.149 Q 185.288 303.992, 183.912 304.99 L 186.724 304.99 L 186.724 305.678 L 182.622 305.678 L 182.622 305.101 Q 183.757 304.293, 184.428 303.691 Q 185.107 303.089, 185.434 302.547 Q 185.761 302.006, 185.761 301.447 Q 185.761 300.862, 185.468 300.535 Q 185.176 300.208, 184.669 300.208 Q 184.178 300.208, 183.852 300.406 Q 183.525 300.604, 183.293 301.043 L 182.639 300.742 \" fill=\"#FF7F00\"/>\n",
       "<path class=\"bond-0\" d=\"M 283.583,260.68 L 297.309,290.221\" style=\"fill:none;fill-rule:evenodd;stroke:#000000;stroke-width:2.0px;stroke-linecap:butt;stroke-linejoin:miter;stroke-opacity:1\"/>\n",
       "<path class=\"bond-1\" d=\"M 297.309,290.221 L 329.754,293.105\" style=\"fill:none;fill-rule:evenodd;stroke:#000000;stroke-width:2.0px;stroke-linecap:butt;stroke-linejoin:miter;stroke-opacity:1\"/>\n",
       "<path class=\"bond-3\" d=\"M 297.309,290.221 L 278.588,316.878\" style=\"fill:none;fill-rule:evenodd;stroke:#000000;stroke-width:2.0px;stroke-linecap:butt;stroke-linejoin:miter;stroke-opacity:1\"/>\n",
       "<path class=\"bond-2\" d=\"M 329.754,293.105 L 335.356,305.162\" style=\"fill:none;fill-rule:evenodd;stroke:#000000;stroke-width:2.0px;stroke-linecap:butt;stroke-linejoin:miter;stroke-opacity:1\"/>\n",
       "<path class=\"bond-2\" d=\"M 335.356,305.162 L 340.958,317.219\" style=\"fill:none;fill-rule:evenodd;stroke:#FF7F00;stroke-width:2.0px;stroke-linecap:butt;stroke-linejoin:miter;stroke-opacity:1\"/>\n",
       "<path class=\"bond-4\" d=\"M 278.588,316.878 L 305.245,335.598\" style=\"fill:none;fill-rule:evenodd;stroke:#000000;stroke-width:2.0px;stroke-linecap:butt;stroke-linejoin:miter;stroke-opacity:1\"/>\n",
       "<path class=\"bond-5\" d=\"M 278.588,316.878 L 251.931,298.158\" style=\"fill:none;fill-rule:evenodd;stroke:#000000;stroke-width:2.0px;stroke-linecap:butt;stroke-linejoin:miter;stroke-opacity:1\"/>\n",
       "<path class=\"bond-6\" d=\"M 278.588,316.878 L 259.868,343.535\" style=\"fill:none;fill-rule:evenodd;stroke:#000000;stroke-width:2.0px;stroke-linecap:butt;stroke-linejoin:miter;stroke-opacity:1\"/>\n",
       "<path class=\"atom-3\" d=\"M 343.258 318.033 Q 344.835 318.033, 345.63 318.75 Q 346.424 319.454, 346.424 320.743 Q 346.424 322.02, 345.604 322.75 Q 344.796 323.467, 343.258 323.467 L 341.786 323.467 L 341.786 327.258 L 340.535 327.258 L 340.535 318.033 L 343.258 318.033 M 343.258 322.424 Q 344.157 322.424, 344.639 321.994 Q 345.121 321.564, 345.121 320.743 Q 345.121 319.923, 344.639 319.506 Q 344.17 319.076, 343.258 319.076 L 341.786 319.076 L 341.786 322.424 L 343.258 322.424 \" fill=\"#FF7F00\"/>\n",
       "<path class=\"atom-3\" d=\"M 347.532 318.033 L 348.783 318.033 L 348.783 321.955 L 353.499 321.955 L 353.499 318.033 L 354.75 318.033 L 354.75 327.258 L 353.499 327.258 L 353.499 322.998 L 348.783 322.998 L 348.783 327.258 L 347.532 327.258 L 347.532 318.033 \" fill=\"#FF7F00\"/>\n",
       "<path class=\"atom-3\" d=\"M 355.197 326.935 Q 355.421 326.358, 355.954 326.04 Q 356.487 325.713, 357.227 325.713 Q 358.147 325.713, 358.663 326.212 Q 359.179 326.711, 359.179 327.597 Q 359.179 328.5, 358.508 329.342 Q 357.846 330.185, 356.47 331.183 L 359.282 331.183 L 359.282 331.871 L 355.18 331.871 L 355.18 331.294 Q 356.315 330.486, 356.986 329.884 Q 357.665 329.282, 357.992 328.74 Q 358.319 328.199, 358.319 327.64 Q 358.319 327.055, 358.027 326.728 Q 357.734 326.401, 357.227 326.401 Q 356.737 326.401, 356.41 326.599 Q 356.083 326.797, 355.851 327.235 L 355.197 326.935 \" fill=\"#FF7F00\"/>\n",
       "</svg>"
      ],
      "text/plain": [
       "<IPython.core.display.SVG object>"
      ]
     },
     "execution_count": 13,
     "metadata": {},
     "output_type": "execute_result"
    }
   ],
   "source": [
    "molecules = [Chem.MolFromSmiles(smi) for smi in smiles_hits]\n",
    "\n",
    "Draw.MolsToGridImage(molecules, subImgSize=(200,200), molsPerRow=3, useSVG=True)"
   ]
  },
  {
   "cell_type": "markdown",
   "id": "f32beee5",
   "metadata": {},
   "source": [
    "We can double check that we get the desired property specification for the molecules designed:"
   ]
  },
  {
   "cell_type": "code",
   "execution_count": 14,
   "id": "0bafa2e0",
   "metadata": {},
   "outputs": [
    {
     "name": "stdout",
     "output_type": "stream",
     "text": [
      "[109.6602524  109.69774081 110.14718249 110.34096386 110.6941762 ]\n"
     ]
    }
   ],
   "source": [
    "X_hits = mcw.transform(smiles_hits)\n",
    "Y_hits_pred = regr.predict(X_hits)\n",
    "print(Y_hits_pred)"
   ]
  },
  {
   "cell_type": "markdown",
   "id": "074e3be6",
   "metadata": {},
   "source": [
    "Since MACAW embeddings are smooth, we can also use a gradient-based method to navigate the embedding space and retrieve promising molecules. To this end, we use the function `hit_finder_grad`. If we do not provide the arguments `X` (the MACAW embedding of the molecules) or `Y` (property values for the molecules), we may want to increase the parameter `k1` (number of seed molecules to be used in the search)."
   ]
  },
  {
   "cell_type": "code",
   "execution_count": 15,
   "id": "75025809",
   "metadata": {},
   "outputs": [
    {
     "name": "stdout",
     "output_type": "stream",
     "text": [
      "['C=CC(C)C(C)(C)C', 'C=CC(C)(C)C(C)C(=C)C', 'CCC(C)C(C)(C)P', 'C=C(C)C(C)(C)C', 'C=C(C)COC(=O)CC']\n",
      "[109.71719775 109.73815774 109.78238674 110.08920873 110.15267007]\n"
     ]
    }
   ],
   "source": [
    "idx, Y_hits_pred = hit_finder_grad(X_lib, regr, spec, X=X, n_hits=5, k1=100, k2=5)\n",
    "smiles_hits = [smiles_lib[i] for i in idx]\n",
    "print(smiles_hits)\n",
    "print(Y_hits_pred)"
   ]
  },
  {
   "cell_type": "code",
   "execution_count": 16,
   "id": "2d731566",
   "metadata": {},
   "outputs": [
    {
     "data": {
      "image/svg+xml": [
       "<svg xmlns=\"http://www.w3.org/2000/svg\" xmlns:rdkit=\"http://www.rdkit.org/xml\" xmlns:xlink=\"http://www.w3.org/1999/xlink\" version=\"1.1\" baseProfile=\"full\" xml:space=\"preserve\" width=\"600px\" height=\"400px\" viewBox=\"0 0 600 400\">\n",
       "<!-- END OF HEADER -->\n",
       "<rect style=\"opacity:1.0;fill:#FFFFFF;stroke:none\" width=\"600\" height=\"400\" x=\"0\" y=\"0\"> </rect>\n",
       "<rect style=\"opacity:1.0;fill:#FFFFFF;stroke:none\" width=\"600\" height=\"400\" x=\"0\" y=\"0\"> </rect>\n",
       "<rect style=\"opacity:1.0;fill:#FFFFFF;stroke:none\" width=\"600\" height=\"400\" x=\"0\" y=\"0\"> </rect>\n",
       "<rect style=\"opacity:1.0;fill:#FFFFFF;stroke:none\" width=\"600\" height=\"400\" x=\"0\" y=\"0\"> </rect>\n",
       "<rect style=\"opacity:1.0;fill:#FFFFFF;stroke:none\" width=\"600\" height=\"400\" x=\"0\" y=\"0\"> </rect>\n",
       "<rect style=\"opacity:1.0;fill:#FFFFFF;stroke:none\" width=\"600\" height=\"400\" x=\"0\" y=\"0\"> </rect>\n",
       "<path class=\"bond-0\" d=\"M 146.308,81.0915 L 131.396,113.186\" style=\"fill:none;fill-rule:evenodd;stroke:#000000;stroke-width:2.0px;stroke-linecap:butt;stroke-linejoin:miter;stroke-opacity:1\"/>\n",
       "<path class=\"bond-0\" d=\"M 152.727,84.0739 L 137.815,116.169\" style=\"fill:none;fill-rule:evenodd;stroke:#000000;stroke-width:2.0px;stroke-linecap:butt;stroke-linejoin:miter;stroke-opacity:1\"/>\n",
       "<path class=\"bond-1\" d=\"M 134.605,114.677 L 99.3546,117.81\" style=\"fill:none;fill-rule:evenodd;stroke:#000000;stroke-width:2.0px;stroke-linecap:butt;stroke-linejoin:miter;stroke-opacity:1\"/>\n",
       "<path class=\"bond-2\" d=\"M 99.3546,117.81 L 84.4426,149.905\" style=\"fill:none;fill-rule:evenodd;stroke:#000000;stroke-width:2.0px;stroke-linecap:butt;stroke-linejoin:miter;stroke-opacity:1\"/>\n",
       "<path class=\"bond-3\" d=\"M 99.3546,117.81 L 79.0158,88.849\" style=\"fill:none;fill-rule:evenodd;stroke:#000000;stroke-width:2.0px;stroke-linecap:butt;stroke-linejoin:miter;stroke-opacity:1\"/>\n",
       "<path class=\"bond-4\" d=\"M 79.0158,88.849 L 50.0543,109.188\" style=\"fill:none;fill-rule:evenodd;stroke:#000000;stroke-width:2.0px;stroke-linecap:butt;stroke-linejoin:miter;stroke-opacity:1\"/>\n",
       "<path class=\"bond-5\" d=\"M 79.0158,88.849 L 107.977,68.5102\" style=\"fill:none;fill-rule:evenodd;stroke:#000000;stroke-width:2.0px;stroke-linecap:butt;stroke-linejoin:miter;stroke-opacity:1\"/>\n",
       "<path class=\"bond-6\" d=\"M 79.0158,88.849 L 58.6771,59.8874\" style=\"fill:none;fill-rule:evenodd;stroke:#000000;stroke-width:2.0px;stroke-linecap:butt;stroke-linejoin:miter;stroke-opacity:1\"/>\n",
       "<path class=\"bond-0\" d=\"M 373.345,96.8091 L 343.302,115.513\" style=\"fill:none;fill-rule:evenodd;stroke:#000000;stroke-width:2.0px;stroke-linecap:butt;stroke-linejoin:miter;stroke-opacity:1\"/>\n",
       "<path class=\"bond-0\" d=\"M 377.086,102.818 L 347.043,121.522\" style=\"fill:none;fill-rule:evenodd;stroke:#000000;stroke-width:2.0px;stroke-linecap:butt;stroke-linejoin:miter;stroke-opacity:1\"/>\n",
       "<path class=\"bond-1\" d=\"M 345.172,118.518 L 313.952,101.852\" style=\"fill:none;fill-rule:evenodd;stroke:#000000;stroke-width:2.0px;stroke-linecap:butt;stroke-linejoin:miter;stroke-opacity:1\"/>\n",
       "<path class=\"bond-2\" d=\"M 313.952,101.852 L 330.618,70.6319\" style=\"fill:none;fill-rule:evenodd;stroke:#000000;stroke-width:2.0px;stroke-linecap:butt;stroke-linejoin:miter;stroke-opacity:1\"/>\n",
       "<path class=\"bond-3\" d=\"M 313.952,101.852 L 297.286,133.072\" style=\"fill:none;fill-rule:evenodd;stroke:#000000;stroke-width:2.0px;stroke-linecap:butt;stroke-linejoin:miter;stroke-opacity:1\"/>\n",
       "<path class=\"bond-4\" d=\"M 313.952,101.852 L 282.732,85.1858\" style=\"fill:none;fill-rule:evenodd;stroke:#000000;stroke-width:2.0px;stroke-linecap:butt;stroke-linejoin:miter;stroke-opacity:1\"/>\n",
       "<path class=\"bond-5\" d=\"M 282.732,85.1858 L 281.555,49.8156\" style=\"fill:none;fill-rule:evenodd;stroke:#000000;stroke-width:2.0px;stroke-linecap:butt;stroke-linejoin:miter;stroke-opacity:1\"/>\n",
       "<path class=\"bond-6\" d=\"M 282.732,85.1858 L 252.689,103.89\" style=\"fill:none;fill-rule:evenodd;stroke:#000000;stroke-width:2.0px;stroke-linecap:butt;stroke-linejoin:miter;stroke-opacity:1\"/>\n",
       "<path class=\"bond-7\" d=\"M 249.152,104.008 L 250.329,139.378\" style=\"fill:none;fill-rule:evenodd;stroke:#000000;stroke-width:2.0px;stroke-linecap:butt;stroke-linejoin:miter;stroke-opacity:1\"/>\n",
       "<path class=\"bond-7\" d=\"M 256.226,103.772 L 257.403,139.143\" style=\"fill:none;fill-rule:evenodd;stroke:#000000;stroke-width:2.0px;stroke-linecap:butt;stroke-linejoin:miter;stroke-opacity:1\"/>\n",
       "<path class=\"bond-8\" d=\"M 252.689,103.89 L 221.469,87.2242\" style=\"fill:none;fill-rule:evenodd;stroke:#000000;stroke-width:2.0px;stroke-linecap:butt;stroke-linejoin:miter;stroke-opacity:1\"/>\n",
       "<path class=\"bond-0\" d=\"M 549.517,82.5827 L 534.605,114.677\" style=\"fill:none;fill-rule:evenodd;stroke:#000000;stroke-width:2.0px;stroke-linecap:butt;stroke-linejoin:miter;stroke-opacity:1\"/>\n",
       "<path class=\"bond-1\" d=\"M 534.605,114.677 L 499.355,117.81\" style=\"fill:none;fill-rule:evenodd;stroke:#000000;stroke-width:2.0px;stroke-linecap:butt;stroke-linejoin:miter;stroke-opacity:1\"/>\n",
       "<path class=\"bond-2\" d=\"M 499.355,117.81 L 484.443,149.905\" style=\"fill:none;fill-rule:evenodd;stroke:#000000;stroke-width:2.0px;stroke-linecap:butt;stroke-linejoin:miter;stroke-opacity:1\"/>\n",
       "<path class=\"bond-3\" d=\"M 499.355,117.81 L 479.016,88.849\" style=\"fill:none;fill-rule:evenodd;stroke:#000000;stroke-width:2.0px;stroke-linecap:butt;stroke-linejoin:miter;stroke-opacity:1\"/>\n",
       "<path class=\"bond-4\" d=\"M 479.016,88.849 L 507.977,68.5102\" style=\"fill:none;fill-rule:evenodd;stroke:#000000;stroke-width:2.0px;stroke-linecap:butt;stroke-linejoin:miter;stroke-opacity:1\"/>\n",
       "<path class=\"bond-5\" d=\"M 479.016,88.849 L 450.054,109.188\" style=\"fill:none;fill-rule:evenodd;stroke:#000000;stroke-width:2.0px;stroke-linecap:butt;stroke-linejoin:miter;stroke-opacity:1\"/>\n",
       "<path class=\"bond-6\" d=\"M 479.016,88.849 L 470.888,77.2759\" style=\"fill:none;fill-rule:evenodd;stroke:#000000;stroke-width:2.0px;stroke-linecap:butt;stroke-linejoin:miter;stroke-opacity:1\"/>\n",
       "<path class=\"bond-6\" d=\"M 470.888,77.2759 L 462.761,65.7028\" style=\"fill:none;fill-rule:evenodd;stroke:#FF7F00;stroke-width:2.0px;stroke-linecap:butt;stroke-linejoin:miter;stroke-opacity:1\"/>\n",
       "<path class=\"atom-7\" d=\"M 441.508 54.8762 L 442.867 54.8762 L 442.867 59.1371 L 447.992 59.1371 L 447.992 54.8762 L 449.351 54.8762 L 449.351 64.8986 L 447.992 64.8986 L 447.992 60.2696 L 442.867 60.2696 L 442.867 64.8986 L 441.508 64.8986 L 441.508 54.8762 \" fill=\"#FF7F00\"/>\n",
       "<path class=\"atom-7\" d=\"M 449.837 64.547 Q 450.08 63.921, 450.659 63.5753 Q 451.238 63.2203, 452.042 63.2203 Q 453.041 63.2203, 453.602 63.7622 Q 454.162 64.3041, 454.162 65.2664 Q 454.162 66.2474, 453.434 67.163 Q 452.714 68.0786, 451.219 69.1624 L 454.275 69.1624 L 454.275 69.9098 L 449.818 69.9098 L 449.818 69.2838 Q 451.051 68.4056, 451.78 67.7516 Q 452.518 67.0976, 452.873 66.509 Q 453.228 65.9204, 453.228 65.3131 Q 453.228 64.6778, 452.911 64.3227 Q 452.593 63.9677, 452.042 63.9677 Q 451.509 63.9677, 451.154 64.1826 Q 450.799 64.3975, 450.547 64.874 L 449.837 64.547 \" fill=\"#FF7F00\"/>\n",
       "<path class=\"atom-7\" d=\"M 458.436 54.8762 Q 460.149 54.8762, 461.013 55.6548 Q 461.876 56.4192, 461.876 57.8206 Q 461.876 59.2079, 460.984 60.0007 Q 460.107 60.7792, 458.436 60.7792 L 456.837 60.7792 L 456.837 64.8986 L 455.478 64.8986 L 455.478 54.8762 L 458.436 54.8762 M 458.436 59.6468 Q 459.413 59.6468, 459.937 59.1796 Q 460.461 58.7125, 460.461 57.8206 Q 460.461 56.9288, 459.937 56.4758 Q 459.427 56.0087, 458.436 56.0087 L 456.837 56.0087 L 456.837 59.6468 L 458.436 59.6468 \" fill=\"#FF7F00\"/>\n",
       "<path class=\"bond-0\" d=\"M 54.4731,270.047 L 72.168,300.696\" style=\"fill:none;fill-rule:evenodd;stroke:#000000;stroke-width:2.0px;stroke-linecap:butt;stroke-linejoin:miter;stroke-opacity:1\"/>\n",
       "<path class=\"bond-0\" d=\"M 60.6028,266.508 L 78.2977,297.157\" style=\"fill:none;fill-rule:evenodd;stroke:#000000;stroke-width:2.0px;stroke-linecap:butt;stroke-linejoin:miter;stroke-opacity:1\"/>\n",
       "<path class=\"bond-1\" d=\"M 75.2329,298.926 L 57.538,329.575\" style=\"fill:none;fill-rule:evenodd;stroke:#000000;stroke-width:2.0px;stroke-linecap:butt;stroke-linejoin:miter;stroke-opacity:1\"/>\n",
       "<path class=\"bond-2\" d=\"M 75.2329,298.926 L 110.623,298.926\" style=\"fill:none;fill-rule:evenodd;stroke:#000000;stroke-width:2.0px;stroke-linecap:butt;stroke-linejoin:miter;stroke-opacity:1\"/>\n",
       "<path class=\"bond-3\" d=\"M 110.623,298.926 L 110.623,334.316\" style=\"fill:none;fill-rule:evenodd;stroke:#000000;stroke-width:2.0px;stroke-linecap:butt;stroke-linejoin:miter;stroke-opacity:1\"/>\n",
       "<path class=\"bond-4\" d=\"M 110.623,298.926 L 110.623,263.536\" style=\"fill:none;fill-rule:evenodd;stroke:#000000;stroke-width:2.0px;stroke-linecap:butt;stroke-linejoin:miter;stroke-opacity:1\"/>\n",
       "<path class=\"bond-5\" d=\"M 110.623,298.926 L 146.012,298.926\" style=\"fill:none;fill-rule:evenodd;stroke:#000000;stroke-width:2.0px;stroke-linecap:butt;stroke-linejoin:miter;stroke-opacity:1\"/>\n",
       "<path class=\"bond-0\" d=\"M 206.883,280.66 L 234.536,302.744\" style=\"fill:none;fill-rule:evenodd;stroke:#000000;stroke-width:2.0px;stroke-linecap:butt;stroke-linejoin:miter;stroke-opacity:1\"/>\n",
       "<path class=\"bond-0\" d=\"M 211.299,275.13 L 238.953,297.213\" style=\"fill:none;fill-rule:evenodd;stroke:#000000;stroke-width:2.0px;stroke-linecap:butt;stroke-linejoin:miter;stroke-opacity:1\"/>\n",
       "<path class=\"bond-1\" d=\"M 236.745,299.979 L 231.446,334.97\" style=\"fill:none;fill-rule:evenodd;stroke:#000000;stroke-width:2.0px;stroke-linecap:butt;stroke-linejoin:miter;stroke-opacity:1\"/>\n",
       "<path class=\"bond-2\" d=\"M 236.745,299.979 L 269.697,287.072\" style=\"fill:none;fill-rule:evenodd;stroke:#000000;stroke-width:2.0px;stroke-linecap:butt;stroke-linejoin:miter;stroke-opacity:1\"/>\n",
       "<path class=\"bond-3\" d=\"M 269.697,287.072 L 280.781,295.924\" style=\"fill:none;fill-rule:evenodd;stroke:#000000;stroke-width:2.0px;stroke-linecap:butt;stroke-linejoin:miter;stroke-opacity:1\"/>\n",
       "<path class=\"bond-3\" d=\"M 280.781,295.924 L 291.865,304.775\" style=\"fill:none;fill-rule:evenodd;stroke:#FF0000;stroke-width:2.0px;stroke-linecap:butt;stroke-linejoin:miter;stroke-opacity:1\"/>\n",
       "<path class=\"bond-4\" d=\"M 302.836,307.007 L 316.57,301.628\" style=\"fill:none;fill-rule:evenodd;stroke:#FF0000;stroke-width:2.0px;stroke-linecap:butt;stroke-linejoin:miter;stroke-opacity:1\"/>\n",
       "<path class=\"bond-4\" d=\"M 316.57,301.628 L 330.303,296.249\" style=\"fill:none;fill-rule:evenodd;stroke:#000000;stroke-width:2.0px;stroke-linecap:butt;stroke-linejoin:miter;stroke-opacity:1\"/>\n",
       "<path class=\"bond-5\" d=\"M 333.802,296.779 L 335.989,282.337\" style=\"fill:none;fill-rule:evenodd;stroke:#000000;stroke-width:2.0px;stroke-linecap:butt;stroke-linejoin:miter;stroke-opacity:1\"/>\n",
       "<path class=\"bond-5\" d=\"M 335.989,282.337 L 338.176,267.896\" style=\"fill:none;fill-rule:evenodd;stroke:#FF0000;stroke-width:2.0px;stroke-linecap:butt;stroke-linejoin:miter;stroke-opacity:1\"/>\n",
       "<path class=\"bond-5\" d=\"M 326.804,295.719 L 328.991,281.278\" style=\"fill:none;fill-rule:evenodd;stroke:#000000;stroke-width:2.0px;stroke-linecap:butt;stroke-linejoin:miter;stroke-opacity:1\"/>\n",
       "<path class=\"bond-5\" d=\"M 328.991,281.278 L 331.177,266.836\" style=\"fill:none;fill-rule:evenodd;stroke:#FF0000;stroke-width:2.0px;stroke-linecap:butt;stroke-linejoin:miter;stroke-opacity:1\"/>\n",
       "<path class=\"bond-6\" d=\"M 330.303,296.249 L 357.957,318.333\" style=\"fill:none;fill-rule:evenodd;stroke:#000000;stroke-width:2.0px;stroke-linecap:butt;stroke-linejoin:miter;stroke-opacity:1\"/>\n",
       "<path class=\"bond-7\" d=\"M 357.957,318.333 L 390.909,305.426\" style=\"fill:none;fill-rule:evenodd;stroke:#000000;stroke-width:2.0px;stroke-linecap:butt;stroke-linejoin:miter;stroke-opacity:1\"/>\n",
       "<path class=\"atom-4\" d=\"M 292.75 309.184 Q 292.75 306.778, 293.939 305.433 Q 295.128 304.088, 297.351 304.088 Q 299.573 304.088, 300.762 305.433 Q 301.952 306.778, 301.952 309.184 Q 301.952 311.619, 300.748 313.006 Q 299.545 314.379, 297.351 314.379 Q 295.143 314.379, 293.939 313.006 Q 292.75 311.633, 292.75 309.184 M 297.351 313.247 Q 298.88 313.247, 299.701 312.228 Q 300.536 311.194, 300.536 309.184 Q 300.536 307.216, 299.701 306.226 Q 298.88 305.22, 297.351 305.22 Q 295.822 305.22, 294.987 306.211 Q 294.166 307.202, 294.166 309.184 Q 294.166 311.208, 294.987 312.228 Q 295.822 313.247, 297.351 313.247 \" fill=\"#FF0000\"/>\n",
       "<path class=\"atom-6\" d=\"M 331.001 261.286 Q 331.001 258.88, 332.19 257.535 Q 333.379 256.19, 335.601 256.19 Q 337.824 256.19, 339.013 257.535 Q 340.202 258.88, 340.202 261.286 Q 340.202 263.721, 338.999 265.108 Q 337.796 266.481, 335.601 266.481 Q 333.393 266.481, 332.19 265.108 Q 331.001 263.735, 331.001 261.286 M 335.601 265.349 Q 337.13 265.349, 337.951 264.33 Q 338.786 263.296, 338.786 261.286 Q 338.786 259.319, 337.951 258.328 Q 337.13 257.323, 335.601 257.323 Q 334.073 257.323, 333.237 258.313 Q 332.416 259.304, 332.416 261.286 Q 332.416 263.31, 333.237 264.33 Q 334.073 265.349, 335.601 265.349 \" fill=\"#FF0000\"/>\n",
       "</svg>"
      ],
      "text/plain": [
       "<IPython.core.display.SVG object>"
      ]
     },
     "execution_count": 16,
     "metadata": {},
     "output_type": "execute_result"
    }
   ],
   "source": [
    "molecules = [Chem.MolFromSmiles(smi) for smi in smiles_hits]\n",
    "\n",
    "Draw.MolsToGridImage(molecules, subImgSize=(200,200), molsPerRow=3, useSVG=True)"
   ]
  },
  {
   "cell_type": "markdown",
   "id": "19eb3501",
   "metadata": {},
   "source": [
    "## Approach 2. Molecular design by evolving focused molecular libraries"
   ]
  },
  {
   "cell_type": "markdown",
   "id": "6acc53c4",
   "metadata": {},
   "source": [
    "Let us use MACAW's library evolver to generate molecules with a predicted RON specification of 120. \n",
    "\n",
    "By default, `library_evolver` will evolve 8 generations of molecules. This number can be controlled using the optional argument `n_rounds`. With the optional argument `n_hits` we specify the number of molecules that we want the algorithm to return in its output."
   ]
  },
  {
   "cell_type": "code",
   "execution_count": 32,
   "id": "8589263c",
   "metadata": {},
   "outputs": [],
   "source": [
    "%%capture\n",
    "spec = 120\n",
    "smiles_hits, Y_hits_pred = library_evolver(smiles, regr, mcw, spec=spec, n_hits=5, n_rounds=8)"
   ]
  },
  {
   "cell_type": "code",
   "execution_count": 33,
   "id": "6984fbb7",
   "metadata": {},
   "outputs": [
    {
     "name": "stdout",
     "output_type": "stream",
     "text": [
      "['CC(C)C(C)C(C)(C)C', 'C=COC(C)=O', 'CC(=O)OC', 'COC(C)=O', 'CC1=CC=CC=C1C']\n",
      "[115.80532532 116.03720097 118.3693684  118.3693684  119.51670277]\n"
     ]
    }
   ],
   "source": [
    "print(smiles_hits)\n",
    "print(Y_hits_pred)"
   ]
  },
  {
   "cell_type": "code",
   "execution_count": 34,
   "id": "ba6e24cf",
   "metadata": {},
   "outputs": [
    {
     "data": {
      "image/svg+xml": [
       "<svg xmlns=\"http://www.w3.org/2000/svg\" xmlns:rdkit=\"http://www.rdkit.org/xml\" xmlns:xlink=\"http://www.w3.org/1999/xlink\" version=\"1.1\" baseProfile=\"full\" xml:space=\"preserve\" width=\"600px\" height=\"400px\" viewBox=\"0 0 600 400\">\n",
       "<!-- END OF HEADER -->\n",
       "<rect style=\"opacity:1.0;fill:#FFFFFF;stroke:none\" width=\"600\" height=\"400\" x=\"0\" y=\"0\"> </rect>\n",
       "<rect style=\"opacity:1.0;fill:#FFFFFF;stroke:none\" width=\"600\" height=\"400\" x=\"0\" y=\"0\"> </rect>\n",
       "<rect style=\"opacity:1.0;fill:#FFFFFF;stroke:none\" width=\"600\" height=\"400\" x=\"0\" y=\"0\"> </rect>\n",
       "<rect style=\"opacity:1.0;fill:#FFFFFF;stroke:none\" width=\"600\" height=\"400\" x=\"0\" y=\"0\"> </rect>\n",
       "<rect style=\"opacity:1.0;fill:#FFFFFF;stroke:none\" width=\"600\" height=\"400\" x=\"0\" y=\"0\"> </rect>\n",
       "<rect style=\"opacity:1.0;fill:#FFFFFF;stroke:none\" width=\"600\" height=\"400\" x=\"0\" y=\"0\"> </rect>\n",
       "<path class=\"bond-0\" d=\"M 58.7361,35.6274 L 57.7065,86.7688\" style=\"fill:none;fill-rule:evenodd;stroke:#000000;stroke-width:2.0px;stroke-linecap:butt;stroke-linejoin:miter;stroke-opacity:1\"/>\n",
       "<path class=\"bond-1\" d=\"M 57.7065,86.7688 L 12.902,111.448\" style=\"fill:none;fill-rule:evenodd;stroke:#000000;stroke-width:2.0px;stroke-linecap:butt;stroke-linejoin:miter;stroke-opacity:1\"/>\n",
       "<path class=\"bond-2\" d=\"M 57.7065,86.7688 L 101.481,113.231\" style=\"fill:none;fill-rule:evenodd;stroke:#000000;stroke-width:2.0px;stroke-linecap:butt;stroke-linejoin:miter;stroke-opacity:1\"/>\n",
       "<path class=\"bond-3\" d=\"M 101.481,113.231 L 100.452,164.373\" style=\"fill:none;fill-rule:evenodd;stroke:#000000;stroke-width:2.0px;stroke-linecap:butt;stroke-linejoin:miter;stroke-opacity:1\"/>\n",
       "<path class=\"bond-4\" d=\"M 101.481,113.231 L 146.286,88.5521\" style=\"fill:none;fill-rule:evenodd;stroke:#000000;stroke-width:2.0px;stroke-linecap:butt;stroke-linejoin:miter;stroke-opacity:1\"/>\n",
       "<path class=\"bond-5\" d=\"M 146.286,88.5521 L 170.965,133.357\" style=\"fill:none;fill-rule:evenodd;stroke:#000000;stroke-width:2.0px;stroke-linecap:butt;stroke-linejoin:miter;stroke-opacity:1\"/>\n",
       "<path class=\"bond-6\" d=\"M 146.286,88.5521 L 121.607,43.7476\" style=\"fill:none;fill-rule:evenodd;stroke:#000000;stroke-width:2.0px;stroke-linecap:butt;stroke-linejoin:miter;stroke-opacity:1\"/>\n",
       "<path class=\"bond-7\" d=\"M 146.286,88.5521 L 191.091,63.873\" style=\"fill:none;fill-rule:evenodd;stroke:#000000;stroke-width:2.0px;stroke-linecap:butt;stroke-linejoin:miter;stroke-opacity:1\"/>\n",
       "<path class=\"bond-0\" d=\"M 210.674,105.681 L 258.151,86.6433\" style=\"fill:none;fill-rule:evenodd;stroke:#000000;stroke-width:2.0px;stroke-linecap:butt;stroke-linejoin:miter;stroke-opacity:1\"/>\n",
       "<path class=\"bond-0\" d=\"M 206.867,96.1853 L 254.344,77.1478\" style=\"fill:none;fill-rule:evenodd;stroke:#000000;stroke-width:2.0px;stroke-linecap:butt;stroke-linejoin:miter;stroke-opacity:1\"/>\n",
       "<path class=\"bond-1\" d=\"M 256.247,81.8956 L 272.396,94.5804\" style=\"fill:none;fill-rule:evenodd;stroke:#000000;stroke-width:2.0px;stroke-linecap:butt;stroke-linejoin:miter;stroke-opacity:1\"/>\n",
       "<path class=\"bond-1\" d=\"M 272.396,94.5804 L 288.544,107.265\" style=\"fill:none;fill-rule:evenodd;stroke:#FF0000;stroke-width:2.0px;stroke-linecap:butt;stroke-linejoin:miter;stroke-opacity:1\"/>\n",
       "<path class=\"bond-2\" d=\"M 304.401,110.314 L 324.176,102.385\" style=\"fill:none;fill-rule:evenodd;stroke:#FF0000;stroke-width:2.0px;stroke-linecap:butt;stroke-linejoin:miter;stroke-opacity:1\"/>\n",
       "<path class=\"bond-2\" d=\"M 324.176,102.385 L 343.95,94.4557\" style=\"fill:none;fill-rule:evenodd;stroke:#000000;stroke-width:2.0px;stroke-linecap:butt;stroke-linejoin:miter;stroke-opacity:1\"/>\n",
       "<path class=\"bond-3\" d=\"M 343.95,94.4557 L 384.176,126.053\" style=\"fill:none;fill-rule:evenodd;stroke:#000000;stroke-width:2.0px;stroke-linecap:butt;stroke-linejoin:miter;stroke-opacity:1\"/>\n",
       "<path class=\"bond-4\" d=\"M 349.014,95.1809 L 352.007,74.2777\" style=\"fill:none;fill-rule:evenodd;stroke:#000000;stroke-width:2.0px;stroke-linecap:butt;stroke-linejoin:miter;stroke-opacity:1\"/>\n",
       "<path class=\"bond-4\" d=\"M 352.007,74.2777 L 355.001,53.3746\" style=\"fill:none;fill-rule:evenodd;stroke:#FF0000;stroke-width:2.0px;stroke-linecap:butt;stroke-linejoin:miter;stroke-opacity:1\"/>\n",
       "<path class=\"bond-4\" d=\"M 338.887,93.7306 L 341.88,72.8274\" style=\"fill:none;fill-rule:evenodd;stroke:#000000;stroke-width:2.0px;stroke-linecap:butt;stroke-linejoin:miter;stroke-opacity:1\"/>\n",
       "<path class=\"bond-4\" d=\"M 341.88,72.8274 L 344.874,51.9242\" style=\"fill:none;fill-rule:evenodd;stroke:#FF0000;stroke-width:2.0px;stroke-linecap:butt;stroke-linejoin:miter;stroke-opacity:1\"/>\n",
       "<path class=\"atom-2\" d=\"M 289.823 113.534 Q 289.823 110.056, 291.542 108.112 Q 293.261 106.168, 296.473 106.168 Q 299.685 106.168, 301.404 108.112 Q 303.123 110.056, 303.123 113.534 Q 303.123 117.053, 301.383 119.059 Q 299.644 121.043, 296.473 121.043 Q 293.281 121.043, 291.542 119.059 Q 289.823 117.074, 289.823 113.534 M 296.473 119.406 Q 298.683 119.406, 299.869 117.933 Q 301.077 116.44, 301.077 113.534 Q 301.077 110.69, 299.869 109.258 Q 298.683 107.805, 296.473 107.805 Q 294.263 107.805, 293.056 109.237 Q 291.869 110.67, 291.869 113.534 Q 291.869 116.46, 293.056 117.933 Q 294.263 119.406, 296.473 119.406 \" fill=\"#FF0000\"/>\n",
       "<path class=\"atom-5\" d=\"M 344.552 43.8615 Q 344.552 40.3832, 346.271 38.4394 Q 347.989 36.4957, 351.202 36.4957 Q 354.414 36.4957, 356.133 38.4394 Q 357.851 40.3832, 357.851 43.8615 Q 357.851 47.3808, 356.112 49.3859 Q 354.373 51.3706, 351.202 51.3706 Q 348.01 51.3706, 346.271 49.3859 Q 344.552 47.4012, 344.552 43.8615 M 351.202 49.7337 Q 353.411 49.7337, 354.598 48.2606 Q 355.805 46.7669, 355.805 43.8615 Q 355.805 41.0175, 354.598 39.5852 Q 353.411 38.1325, 351.202 38.1325 Q 348.992 38.1325, 347.785 39.5648 Q 346.598 40.997, 346.598 43.8615 Q 346.598 46.7874, 347.785 48.2606 Q 348.992 49.7337, 351.202 49.7337 \" fill=\"#FF0000\"/>\n",
       "<path class=\"bond-0\" d=\"M 444.785,119.018 L 489.083,93.4419\" style=\"fill:none;fill-rule:evenodd;stroke:#000000;stroke-width:2.0px;stroke-linecap:butt;stroke-linejoin:miter;stroke-opacity:1\"/>\n",
       "<path class=\"bond-1\" d=\"M 494.199,93.4419 L 494.199,72.2804\" style=\"fill:none;fill-rule:evenodd;stroke:#000000;stroke-width:2.0px;stroke-linecap:butt;stroke-linejoin:miter;stroke-opacity:1\"/>\n",
       "<path class=\"bond-1\" d=\"M 494.199,72.2804 L 494.199,51.1189\" style=\"fill:none;fill-rule:evenodd;stroke:#FF0000;stroke-width:2.0px;stroke-linecap:butt;stroke-linejoin:miter;stroke-opacity:1\"/>\n",
       "<path class=\"bond-1\" d=\"M 483.968,93.4419 L 483.968,72.2804\" style=\"fill:none;fill-rule:evenodd;stroke:#000000;stroke-width:2.0px;stroke-linecap:butt;stroke-linejoin:miter;stroke-opacity:1\"/>\n",
       "<path class=\"bond-1\" d=\"M 483.968,72.2804 L 483.968,51.1189\" style=\"fill:none;fill-rule:evenodd;stroke:#FF0000;stroke-width:2.0px;stroke-linecap:butt;stroke-linejoin:miter;stroke-opacity:1\"/>\n",
       "<path class=\"bond-2\" d=\"M 489.083,93.4419 L 507.269,103.941\" style=\"fill:none;fill-rule:evenodd;stroke:#000000;stroke-width:2.0px;stroke-linecap:butt;stroke-linejoin:miter;stroke-opacity:1\"/>\n",
       "<path class=\"bond-2\" d=\"M 507.269,103.941 L 525.454,114.44\" style=\"fill:none;fill-rule:evenodd;stroke:#FF0000;stroke-width:2.0px;stroke-linecap:butt;stroke-linejoin:miter;stroke-opacity:1\"/>\n",
       "<path class=\"bond-3\" d=\"M 541.311,114.44 L 559.496,103.941\" style=\"fill:none;fill-rule:evenodd;stroke:#FF0000;stroke-width:2.0px;stroke-linecap:butt;stroke-linejoin:miter;stroke-opacity:1\"/>\n",
       "<path class=\"bond-3\" d=\"M 559.496,103.941 L 577.681,93.4419\" style=\"fill:none;fill-rule:evenodd;stroke:#000000;stroke-width:2.0px;stroke-linecap:butt;stroke-linejoin:miter;stroke-opacity:1\"/>\n",
       "<path class=\"atom-2\" d=\"M 482.434 42.3311 Q 482.434 38.8528, 484.152 36.909 Q 485.871 34.9652, 489.083 34.9652 Q 492.296 34.9652, 494.014 36.909 Q 495.733 38.8528, 495.733 42.3311 Q 495.733 45.8503, 493.994 47.8555 Q 492.255 49.8402, 489.083 49.8402 Q 485.892 49.8402, 484.152 47.8555 Q 482.434 45.8708, 482.434 42.3311 M 489.083 48.2033 Q 491.293 48.2033, 492.48 46.7301 Q 493.687 45.2365, 493.687 42.3311 Q 493.687 39.487, 492.48 38.0548 Q 491.293 36.6021, 489.083 36.6021 Q 486.874 36.6021, 485.667 38.0343 Q 484.48 39.4666, 484.48 42.3311 Q 484.48 45.257, 485.667 46.7301 Q 486.874 48.2033, 489.083 48.2033 \" fill=\"#FF0000\"/>\n",
       "<path class=\"atom-3\" d=\"M 526.732 119.059 Q 526.732 115.58, 528.451 113.637 Q 530.17 111.693, 533.382 111.693 Q 536.595 111.693, 538.313 113.637 Q 540.032 115.58, 540.032 119.059 Q 540.032 122.578, 538.293 124.583 Q 536.554 126.568, 533.382 126.568 Q 530.19 126.568, 528.451 124.583 Q 526.732 122.598, 526.732 119.059 M 533.382 124.931 Q 535.592 124.931, 536.779 123.458 Q 537.986 121.964, 537.986 119.059 Q 537.986 116.215, 536.779 114.782 Q 535.592 113.33, 533.382 113.33 Q 531.172 113.33, 529.965 114.762 Q 528.779 116.194, 528.779 119.059 Q 528.779 121.985, 529.965 123.458 Q 531.172 124.931, 533.382 124.931 \" fill=\"#FF0000\"/>\n",
       "<path class=\"bond-0\" d=\"M 35.925,293.442 L 54.1101,282.943\" style=\"fill:none;fill-rule:evenodd;stroke:#000000;stroke-width:2.0px;stroke-linecap:butt;stroke-linejoin:miter;stroke-opacity:1\"/>\n",
       "<path class=\"bond-0\" d=\"M 54.1101,282.943 L 72.2952,272.444\" style=\"fill:none;fill-rule:evenodd;stroke:#FF0000;stroke-width:2.0px;stroke-linecap:butt;stroke-linejoin:miter;stroke-opacity:1\"/>\n",
       "<path class=\"bond-1\" d=\"M 88.1522,272.444 L 106.337,282.943\" style=\"fill:none;fill-rule:evenodd;stroke:#FF0000;stroke-width:2.0px;stroke-linecap:butt;stroke-linejoin:miter;stroke-opacity:1\"/>\n",
       "<path class=\"bond-1\" d=\"M 106.337,282.943 L 124.522,293.442\" style=\"fill:none;fill-rule:evenodd;stroke:#000000;stroke-width:2.0px;stroke-linecap:butt;stroke-linejoin:miter;stroke-opacity:1\"/>\n",
       "<path class=\"bond-2\" d=\"M 124.522,293.442 L 168.821,267.866\" style=\"fill:none;fill-rule:evenodd;stroke:#000000;stroke-width:2.0px;stroke-linecap:butt;stroke-linejoin:miter;stroke-opacity:1\"/>\n",
       "<path class=\"bond-3\" d=\"M 119.407,293.442 L 119.407,314.716\" style=\"fill:none;fill-rule:evenodd;stroke:#000000;stroke-width:2.0px;stroke-linecap:butt;stroke-linejoin:miter;stroke-opacity:1\"/>\n",
       "<path class=\"bond-3\" d=\"M 119.407,314.716 L 119.407,335.99\" style=\"fill:none;fill-rule:evenodd;stroke:#FF0000;stroke-width:2.0px;stroke-linecap:butt;stroke-linejoin:miter;stroke-opacity:1\"/>\n",
       "<path class=\"bond-3\" d=\"M 129.638,293.442 L 129.638,314.716\" style=\"fill:none;fill-rule:evenodd;stroke:#000000;stroke-width:2.0px;stroke-linecap:butt;stroke-linejoin:miter;stroke-opacity:1\"/>\n",
       "<path class=\"bond-3\" d=\"M 129.638,314.716 L 129.638,335.99\" style=\"fill:none;fill-rule:evenodd;stroke:#FF0000;stroke-width:2.0px;stroke-linecap:butt;stroke-linejoin:miter;stroke-opacity:1\"/>\n",
       "<path class=\"atom-1\" d=\"M 73.574 267.907 Q 73.574 264.429, 75.2927 262.485 Q 77.0114 260.541, 80.2237 260.541 Q 83.4361 260.541, 85.1548 262.485 Q 86.8734 264.429, 86.8734 267.907 Q 86.8734 271.426, 85.1343 273.431 Q 83.3951 275.416, 80.2237 275.416 Q 77.0318 275.416, 75.2927 273.431 Q 73.574 271.447, 73.574 267.907 M 80.2237 273.779 Q 82.4335 273.779, 83.6202 272.306 Q 84.8274 270.812, 84.8274 267.907 Q 84.8274 265.063, 83.6202 263.631 Q 82.4335 262.178, 80.2237 262.178 Q 78.014 262.178, 76.8068 263.61 Q 75.6201 265.042, 75.6201 267.907 Q 75.6201 270.833, 76.8068 272.306 Q 78.014 273.779, 80.2237 273.779 \" fill=\"#FF0000\"/>\n",
       "<path class=\"atom-4\" d=\"M 117.873 344.635 Q 117.873 341.156, 119.591 339.213 Q 121.31 337.269, 124.522 337.269 Q 127.735 337.269, 129.453 339.213 Q 131.172 341.156, 131.172 344.635 Q 131.172 348.154, 129.433 350.159 Q 127.694 352.144, 124.522 352.144 Q 121.331 352.144, 119.591 350.159 Q 117.873 348.174, 117.873 344.635 M 124.522 350.507 Q 126.732 350.507, 127.919 349.034 Q 129.126 347.54, 129.126 344.635 Q 129.126 341.791, 127.919 340.358 Q 126.732 338.906, 124.522 338.906 Q 122.313 338.906, 121.106 340.338 Q 119.919 341.77, 119.919 344.635 Q 119.919 347.56, 121.106 349.034 Q 122.313 350.507, 124.522 350.507 \" fill=\"#FF0000\"/>\n",
       "<path class=\"bond-0\" d=\"M 373.251,344.594 L 328.952,319.018\" style=\"fill:none;fill-rule:evenodd;stroke:#000000;stroke-width:2.0px;stroke-linecap:butt;stroke-linejoin:miter;stroke-opacity:1\"/>\n",
       "<path class=\"bond-1\" d=\"M 328.952,319.018 L 284.654,344.594\" style=\"fill:none;fill-rule:evenodd;stroke:#000000;stroke-width:2.0px;stroke-linecap:butt;stroke-linejoin:miter;stroke-opacity:1\"/>\n",
       "<path class=\"bond-1\" d=\"M 317.192,313.994 L 286.183,331.898\" style=\"fill:none;fill-rule:evenodd;stroke:#000000;stroke-width:2.0px;stroke-linecap:butt;stroke-linejoin:miter;stroke-opacity:1\"/>\n",
       "<path class=\"bond-7\" d=\"M 328.952,319.018 L 328.952,267.866\" style=\"fill:none;fill-rule:evenodd;stroke:#000000;stroke-width:2.0px;stroke-linecap:butt;stroke-linejoin:miter;stroke-opacity:1\"/>\n",
       "<path class=\"bond-2\" d=\"M 284.654,344.594 L 240.355,319.018\" style=\"fill:none;fill-rule:evenodd;stroke:#000000;stroke-width:2.0px;stroke-linecap:butt;stroke-linejoin:miter;stroke-opacity:1\"/>\n",
       "<path class=\"bond-3\" d=\"M 240.355,319.018 L 240.355,267.866\" style=\"fill:none;fill-rule:evenodd;stroke:#000000;stroke-width:2.0px;stroke-linecap:butt;stroke-linejoin:miter;stroke-opacity:1\"/>\n",
       "<path class=\"bond-3\" d=\"M 250.585,311.345 L 250.585,275.539\" style=\"fill:none;fill-rule:evenodd;stroke:#000000;stroke-width:2.0px;stroke-linecap:butt;stroke-linejoin:miter;stroke-opacity:1\"/>\n",
       "<path class=\"bond-4\" d=\"M 240.355,267.866 L 284.654,242.29\" style=\"fill:none;fill-rule:evenodd;stroke:#000000;stroke-width:2.0px;stroke-linecap:butt;stroke-linejoin:miter;stroke-opacity:1\"/>\n",
       "<path class=\"bond-5\" d=\"M 284.654,242.29 L 328.952,267.866\" style=\"fill:none;fill-rule:evenodd;stroke:#000000;stroke-width:2.0px;stroke-linecap:butt;stroke-linejoin:miter;stroke-opacity:1\"/>\n",
       "<path class=\"bond-5\" d=\"M 286.183,254.986 L 317.192,272.889\" style=\"fill:none;fill-rule:evenodd;stroke:#000000;stroke-width:2.0px;stroke-linecap:butt;stroke-linejoin:miter;stroke-opacity:1\"/>\n",
       "<path class=\"bond-6\" d=\"M 328.952,267.866 L 373.251,242.29\" style=\"fill:none;fill-rule:evenodd;stroke:#000000;stroke-width:2.0px;stroke-linecap:butt;stroke-linejoin:miter;stroke-opacity:1\"/>\n",
       "</svg>"
      ],
      "text/plain": [
       "<IPython.core.display.SVG object>"
      ]
     },
     "execution_count": 34,
     "metadata": {},
     "output_type": "execute_result"
    }
   ],
   "source": [
    "molecules = [Chem.MolFromSmiles(smi) for smi in smiles_hits]\n",
    "\n",
    "Draw.MolsToGridImage(molecules, subImgSize=(200,200), molsPerRow=3, useSVG=True)"
   ]
  },
  {
   "cell_type": "markdown",
   "id": "42477648",
   "metadata": {},
   "source": [
    "Since we are working with a RVR model, we can also estimate the prediction errors:"
   ]
  },
  {
   "cell_type": "code",
   "execution_count": 35,
   "id": "dd6b73fd",
   "metadata": {},
   "outputs": [],
   "source": [
    "X = mcw.transform(smiles_hits)\n",
    "Y_hits_pred, Y_hits_pred_std = regr.predict(X, return_std=True)"
   ]
  },
  {
   "cell_type": "code",
   "execution_count": 36,
   "id": "5bed80b7",
   "metadata": {},
   "outputs": [
    {
     "name": "stdout",
     "output_type": "stream",
     "text": [
      "['CC(C)C(C)C(C)(C)C', 'C=COC(C)=O', 'CC(=O)OC', 'COC(C)=O', 'CC1=CC=CC=C1C']\n",
      "[115.80532532 116.03720097 118.3693684  118.3693684  119.51670277]\n",
      "[3.91928036 3.80202883 4.12764964 4.12764964 4.3686951 ]\n"
     ]
    }
   ],
   "source": [
    "print(smiles_hits)\n",
    "print(Y_hits_pred)\n",
    "print(Y_hits_pred_std)"
   ]
  },
  {
   "cell_type": "markdown",
   "id": "fe732578",
   "metadata": {},
   "source": [
    "### Multi-objective optimization in molecular recommendation"
   ]
  },
  {
   "cell_type": "markdown",
   "id": "aaf01c06",
   "metadata": {},
   "source": [
    "We can also design molecules aiming to meet several specifications simultaneously. \n",
    "\n",
    "In the next example, we will encourage the recommendation of molecules whose property value is predicted with higher confidence and that have a better Synthetic Accessibility (SA) score. The SA score takes values greater than one, with smaller values indicating better synthetic accessibility. \n",
    "\n",
    "We define a custome objective function `f`, which returns a weighted sum of 1) the difference from the desired specification (in this case RON = 40, 80, 120), 2) the prediction uncertainty, and 3) the SA score. Then we ask the `library_evolver` to try to make it zero, which will minimize the objective function."
   ]
  },
  {
   "cell_type": "code",
   "execution_count": 37,
   "id": "ac6c2256",
   "metadata": {},
   "outputs": [],
   "source": [
    "def SAscore_calc(smi):\n",
    "    return [sascorer.calculateScore(Chem.MolFromSmiles(s)) for s in smi]\n",
    "\n",
    "def F(smi, mcw, setpoint):\n",
    "    X = mcw.transform(smi)\n",
    "    Y_pred, Y_pred_std = regr.predict(X, return_std=True)\n",
    "        \n",
    "    SAScores = SAscore_calc(smi)\n",
    "    SAScores = np.array(SAScores)\n",
    "    \n",
    "    FO = np.abs(Y_pred - setpoint) + 1.*(Y_pred_std) + 2.*SAScores\n",
    "    return FO\n"
   ]
  },
  {
   "cell_type": "code",
   "execution_count": 38,
   "id": "ae25ca8f-fb5d-40de-b873-b32931e37c5e",
   "metadata": {},
   "outputs": [],
   "source": [
    "spec = 120"
   ]
  },
  {
   "cell_type": "code",
   "execution_count": 39,
   "id": "23a4f73a-c77e-4452-a686-15fe6820f7be",
   "metadata": {},
   "outputs": [],
   "source": [
    "f = lambda smi: F(smi, mcw, setpoint=spec)"
   ]
  },
  {
   "cell_type": "markdown",
   "id": "9c45c8c2",
   "metadata": {},
   "source": [
    "Note that since the function `f` directly featurizes the SMILES molecules itself using `mcw`, we do not need the featurizer when calling `library_evolver` (`mcw=None`):"
   ]
  },
  {
   "cell_type": "code",
   "execution_count": 40,
   "id": "ff237fe0",
   "metadata": {},
   "outputs": [],
   "source": [
    "%%capture\n",
    "smiles_hits, Y_hits_pred = library_evolver(\n",
    "    smiles, \n",
    "    f, \n",
    "    mcw=None, \n",
    "    spec=0., \n",
    "    n_hits=15, \n",
    "    n_rounds=8\n",
    ")"
   ]
  },
  {
   "cell_type": "code",
   "execution_count": 41,
   "id": "fa4824a6",
   "metadata": {},
   "outputs": [],
   "source": [
    "X = mcw.transform(smiles_hits)\n",
    "Y_hits_pred, Y_hits_pred_std = regr.predict(X, return_std=True)"
   ]
  },
  {
   "cell_type": "code",
   "execution_count": 42,
   "id": "7c4e2f68",
   "metadata": {},
   "outputs": [
    {
     "name": "stdout",
     "output_type": "stream",
     "text": [
      "['CC1=CC=CC=C1C', 'CC(=O)OC', 'COC(C)=O', 'C1CCCCCCNCCCCCC1', 'CCOC(=O)C', 'CCOC(C)=O', 'CCOC(=O)CC', 'CCOC(=O)C=O', 'CCCC(=O)OC', 'CC(C)C(C)C(C)(C)C', 'CC(=O)OCO', 'CC(=O)O', 'CCCC(=O)OC=O', 'NCCC(=O)OC=O', 'CC(=O)OC=O']\n",
      "[119.51670277 118.3693684  118.3693684  116.899806   115.49533374\n",
      " 115.49533374 114.13782669 114.90273064 112.93681188 115.80532532\n",
      " 114.75971526 112.06153864 114.54930431 115.21916843 115.17696364]\n",
      "[4.3686951  4.12764964 4.12764964 4.44223716 3.93240352 3.93240352\n",
      " 3.50960536 3.53323624 3.47074771 3.91928036 3.93556938 3.57758037\n",
      " 3.85801838 3.88747651 3.78728942]\n",
      "[1.0337432953498862, 1.7363164941764762, 1.7363164941764762, 1.9056521907479862, 1.7562997790553911, 1.7562997790553911, 1.7042005096010016, 2.380915894216386, 1.6392543557548471, 2.90390690232074, 2.4985459329015445, 1.5149307387756714, 2.672385253391843, 3.015216022622612, 3.050536702132315]\n"
     ]
    }
   ],
   "source": [
    "print(smiles_hits)\n",
    "print(Y_hits_pred)\n",
    "print(Y_hits_pred_std)\n",
    "print(SAscore_calc(smiles_hits))"
   ]
  },
  {
   "cell_type": "markdown",
   "id": "59dd6310",
   "metadata": {},
   "source": [
    "The point estimates for the RON of these molecules are not as close to the desired specification as in the design example above, but the prediction errors are smaller and the SA scores are low (close to 1)."
   ]
  },
  {
   "cell_type": "code",
   "execution_count": 43,
   "id": "70a750db",
   "metadata": {
    "scrolled": true
   },
   "outputs": [
    {
     "data": {
      "image/svg+xml": [
       "<svg xmlns=\"http://www.w3.org/2000/svg\" xmlns:rdkit=\"http://www.rdkit.org/xml\" xmlns:xlink=\"http://www.w3.org/1999/xlink\" version=\"1.1\" baseProfile=\"full\" xml:space=\"preserve\" width=\"600px\" height=\"1000px\" viewBox=\"0 0 600 1000\">\n",
       "<!-- END OF HEADER -->\n",
       "<rect style=\"opacity:1.0;fill:#FFFFFF;stroke:none\" width=\"600\" height=\"1000\" x=\"0\" y=\"0\"> </rect>\n",
       "<rect style=\"opacity:1.0;fill:#FFFFFF;stroke:none\" width=\"600\" height=\"1000\" x=\"0\" y=\"0\"> </rect>\n",
       "<rect style=\"opacity:1.0;fill:#FFFFFF;stroke:none\" width=\"600\" height=\"1000\" x=\"0\" y=\"0\"> </rect>\n",
       "<rect style=\"opacity:1.0;fill:#FFFFFF;stroke:none\" width=\"600\" height=\"1000\" x=\"0\" y=\"0\"> </rect>\n",
       "<rect style=\"opacity:1.0;fill:#FFFFFF;stroke:none\" width=\"600\" height=\"1000\" x=\"0\" y=\"0\"> </rect>\n",
       "<rect style=\"opacity:1.0;fill:#FFFFFF;stroke:none\" width=\"600\" height=\"1000\" x=\"0\" y=\"0\"> </rect>\n",
       "<rect style=\"opacity:1.0;fill:#FFFFFF;stroke:none\" width=\"600\" height=\"1000\" x=\"0\" y=\"0\"> </rect>\n",
       "<rect style=\"opacity:1.0;fill:#FFFFFF;stroke:none\" width=\"600\" height=\"1000\" x=\"0\" y=\"0\"> </rect>\n",
       "<rect style=\"opacity:1.0;fill:#FFFFFF;stroke:none\" width=\"600\" height=\"1000\" x=\"0\" y=\"0\"> </rect>\n",
       "<rect style=\"opacity:1.0;fill:#FFFFFF;stroke:none\" width=\"600\" height=\"1000\" x=\"0\" y=\"0\"> </rect>\n",
       "<rect style=\"opacity:1.0;fill:#FFFFFF;stroke:none\" width=\"600\" height=\"1000\" x=\"0\" y=\"0\"> </rect>\n",
       "<rect style=\"opacity:1.0;fill:#FFFFFF;stroke:none\" width=\"600\" height=\"1000\" x=\"0\" y=\"0\"> </rect>\n",
       "<rect style=\"opacity:1.0;fill:#FFFFFF;stroke:none\" width=\"600\" height=\"1000\" x=\"0\" y=\"0\"> </rect>\n",
       "<rect style=\"opacity:1.0;fill:#FFFFFF;stroke:none\" width=\"600\" height=\"1000\" x=\"0\" y=\"0\"> </rect>\n",
       "<rect style=\"opacity:1.0;fill:#FFFFFF;stroke:none\" width=\"600\" height=\"1000\" x=\"0\" y=\"0\"> </rect>\n",
       "<rect style=\"opacity:1.0;fill:#FFFFFF;stroke:none\" width=\"600\" height=\"1000\" x=\"0\" y=\"0\"> </rect>\n",
       "<path class=\"bond-0\" d=\"M 146.323,131.2 L 119.303,115.6\" style=\"fill:none;fill-rule:evenodd;stroke:#000000;stroke-width:2.0px;stroke-linecap:butt;stroke-linejoin:miter;stroke-opacity:1\"/>\n",
       "<path class=\"bond-1\" d=\"M 119.303,115.6 L 92.2827,131.2\" style=\"fill:none;fill-rule:evenodd;stroke:#000000;stroke-width:2.0px;stroke-linecap:butt;stroke-linejoin:miter;stroke-opacity:1\"/>\n",
       "<path class=\"bond-1\" d=\"M 112.13,112.536 L 93.2157,123.456\" style=\"fill:none;fill-rule:evenodd;stroke:#000000;stroke-width:2.0px;stroke-linecap:butt;stroke-linejoin:miter;stroke-opacity:1\"/>\n",
       "<path class=\"bond-7\" d=\"M 119.303,115.6 L 119.303,84.3999\" style=\"fill:none;fill-rule:evenodd;stroke:#000000;stroke-width:2.0px;stroke-linecap:butt;stroke-linejoin:miter;stroke-opacity:1\"/>\n",
       "<path class=\"bond-2\" d=\"M 92.2827,131.2 L 65.2626,115.6\" style=\"fill:none;fill-rule:evenodd;stroke:#000000;stroke-width:2.0px;stroke-linecap:butt;stroke-linejoin:miter;stroke-opacity:1\"/>\n",
       "<path class=\"bond-3\" d=\"M 65.2626,115.6 L 65.2626,84.3999\" style=\"fill:none;fill-rule:evenodd;stroke:#000000;stroke-width:2.0px;stroke-linecap:butt;stroke-linejoin:miter;stroke-opacity:1\"/>\n",
       "<path class=\"bond-3\" d=\"M 71.5026,110.92 L 71.5026,89.08\" style=\"fill:none;fill-rule:evenodd;stroke:#000000;stroke-width:2.0px;stroke-linecap:butt;stroke-linejoin:miter;stroke-opacity:1\"/>\n",
       "<path class=\"bond-4\" d=\"M 65.2626,84.3999 L 92.2827,68.7999\" style=\"fill:none;fill-rule:evenodd;stroke:#000000;stroke-width:2.0px;stroke-linecap:butt;stroke-linejoin:miter;stroke-opacity:1\"/>\n",
       "<path class=\"bond-5\" d=\"M 92.2827,68.7999 L 119.303,84.3999\" style=\"fill:none;fill-rule:evenodd;stroke:#000000;stroke-width:2.0px;stroke-linecap:butt;stroke-linejoin:miter;stroke-opacity:1\"/>\n",
       "<path class=\"bond-5\" d=\"M 93.2157,76.5439 L 112.13,87.4639\" style=\"fill:none;fill-rule:evenodd;stroke:#000000;stroke-width:2.0px;stroke-linecap:butt;stroke-linejoin:miter;stroke-opacity:1\"/>\n",
       "<path class=\"bond-6\" d=\"M 119.303,84.3999 L 146.323,68.7999\" style=\"fill:none;fill-rule:evenodd;stroke:#000000;stroke-width:2.0px;stroke-linecap:butt;stroke-linejoin:miter;stroke-opacity:1\"/>\n",
       "<path class=\"bond-0\" d=\"M 267.965,115.6 L 294.985,100\" style=\"fill:none;fill-rule:evenodd;stroke:#000000;stroke-width:2.0px;stroke-linecap:butt;stroke-linejoin:miter;stroke-opacity:1\"/>\n",
       "<path class=\"bond-1\" d=\"M 298.105,100 L 298.105,87.0925\" style=\"fill:none;fill-rule:evenodd;stroke:#000000;stroke-width:2.0px;stroke-linecap:butt;stroke-linejoin:miter;stroke-opacity:1\"/>\n",
       "<path class=\"bond-1\" d=\"M 298.105,87.0925 L 298.105,74.185\" style=\"fill:none;fill-rule:evenodd;stroke:#FF0000;stroke-width:2.0px;stroke-linecap:butt;stroke-linejoin:miter;stroke-opacity:1\"/>\n",
       "<path class=\"bond-1\" d=\"M 291.865,100 L 291.865,87.0925\" style=\"fill:none;fill-rule:evenodd;stroke:#000000;stroke-width:2.0px;stroke-linecap:butt;stroke-linejoin:miter;stroke-opacity:1\"/>\n",
       "<path class=\"bond-1\" d=\"M 291.865,87.0925 L 291.865,74.185\" style=\"fill:none;fill-rule:evenodd;stroke:#FF0000;stroke-width:2.0px;stroke-linecap:butt;stroke-linejoin:miter;stroke-opacity:1\"/>\n",
       "<path class=\"bond-2\" d=\"M 294.985,100 L 306.077,106.404\" style=\"fill:none;fill-rule:evenodd;stroke:#000000;stroke-width:2.0px;stroke-linecap:butt;stroke-linejoin:miter;stroke-opacity:1\"/>\n",
       "<path class=\"bond-2\" d=\"M 306.077,106.404 L 317.169,112.808\" style=\"fill:none;fill-rule:evenodd;stroke:#FF0000;stroke-width:2.0px;stroke-linecap:butt;stroke-linejoin:miter;stroke-opacity:1\"/>\n",
       "<path class=\"bond-3\" d=\"M 326.841,112.808 L 337.933,106.404\" style=\"fill:none;fill-rule:evenodd;stroke:#FF0000;stroke-width:2.0px;stroke-linecap:butt;stroke-linejoin:miter;stroke-opacity:1\"/>\n",
       "<path class=\"bond-3\" d=\"M 337.933,106.404 L 349.025,100\" style=\"fill:none;fill-rule:evenodd;stroke:#000000;stroke-width:2.0px;stroke-linecap:butt;stroke-linejoin:miter;stroke-opacity:1\"/>\n",
       "<path class=\"atom-2\" d=\"M 290.929 68.8248 Q 290.929 66.7032, 291.977 65.5176 Q 293.025 64.332, 294.985 64.332 Q 296.944 64.332, 297.992 65.5176 Q 299.041 66.7032, 299.041 68.8248 Q 299.041 70.9714, 297.98 72.1944 Q 296.919 73.405, 294.985 73.405 Q 293.038 73.405, 291.977 72.1944 Q 290.929 70.9839, 290.929 68.8248 M 294.985 72.4066 Q 296.333 72.4066, 297.056 71.508 Q 297.793 70.597, 297.793 68.8248 Q 297.793 67.0901, 297.056 66.2165 Q 296.333 65.3304, 294.985 65.3304 Q 293.637 65.3304, 292.901 66.204 Q 292.177 67.0776, 292.177 68.8248 Q 292.177 70.6095, 292.901 71.508 Q 293.637 72.4066, 294.985 72.4066 \" fill=\"#FF0000\"/>\n",
       "<path class=\"atom-3\" d=\"M 317.949 115.625 Q 317.949 113.503, 318.997 112.318 Q 320.045 111.132, 322.005 111.132 Q 323.964 111.132, 325.013 112.318 Q 326.061 113.503, 326.061 115.625 Q 326.061 117.772, 325 118.995 Q 323.939 120.205, 322.005 120.205 Q 320.058 120.205, 318.997 118.995 Q 317.949 117.784, 317.949 115.625 M 322.005 119.207 Q 323.353 119.207, 324.076 118.308 Q 324.813 117.397, 324.813 115.625 Q 324.813 113.89, 324.076 113.017 Q 323.353 112.131, 322.005 112.131 Q 320.657 112.131, 319.921 113.004 Q 319.197 113.878, 319.197 115.625 Q 319.197 117.41, 319.921 118.308 Q 320.657 119.207, 322.005 119.207 \" fill=\"#FF0000\"/>\n",
       "<path class=\"bond-0\" d=\"M 462.561,100 L 473.653,93.596\" style=\"fill:none;fill-rule:evenodd;stroke:#000000;stroke-width:2.0px;stroke-linecap:butt;stroke-linejoin:miter;stroke-opacity:1\"/>\n",
       "<path class=\"bond-0\" d=\"M 473.653,93.596 L 484.745,87.192\" style=\"fill:none;fill-rule:evenodd;stroke:#FF0000;stroke-width:2.0px;stroke-linecap:butt;stroke-linejoin:miter;stroke-opacity:1\"/>\n",
       "<path class=\"bond-1\" d=\"M 494.417,87.192 L 505.509,93.596\" style=\"fill:none;fill-rule:evenodd;stroke:#FF0000;stroke-width:2.0px;stroke-linecap:butt;stroke-linejoin:miter;stroke-opacity:1\"/>\n",
       "<path class=\"bond-1\" d=\"M 505.509,93.596 L 516.601,100\" style=\"fill:none;fill-rule:evenodd;stroke:#000000;stroke-width:2.0px;stroke-linecap:butt;stroke-linejoin:miter;stroke-opacity:1\"/>\n",
       "<path class=\"bond-2\" d=\"M 516.601,100 L 543.621,84.3999\" style=\"fill:none;fill-rule:evenodd;stroke:#000000;stroke-width:2.0px;stroke-linecap:butt;stroke-linejoin:miter;stroke-opacity:1\"/>\n",
       "<path class=\"bond-3\" d=\"M 513.481,100 L 513.481,112.976\" style=\"fill:none;fill-rule:evenodd;stroke:#000000;stroke-width:2.0px;stroke-linecap:butt;stroke-linejoin:miter;stroke-opacity:1\"/>\n",
       "<path class=\"bond-3\" d=\"M 513.481,112.976 L 513.481,125.952\" style=\"fill:none;fill-rule:evenodd;stroke:#FF0000;stroke-width:2.0px;stroke-linecap:butt;stroke-linejoin:miter;stroke-opacity:1\"/>\n",
       "<path class=\"bond-3\" d=\"M 519.721,100 L 519.721,112.976\" style=\"fill:none;fill-rule:evenodd;stroke:#000000;stroke-width:2.0px;stroke-linecap:butt;stroke-linejoin:miter;stroke-opacity:1\"/>\n",
       "<path class=\"bond-3\" d=\"M 519.721,112.976 L 519.721,125.952\" style=\"fill:none;fill-rule:evenodd;stroke:#FF0000;stroke-width:2.0px;stroke-linecap:butt;stroke-linejoin:miter;stroke-opacity:1\"/>\n",
       "<path class=\"atom-1\" d=\"M 485.525 84.4249 Q 485.525 82.3033, 486.573 81.1177 Q 487.621 79.9321, 489.581 79.9321 Q 491.54 79.9321, 492.588 81.1177 Q 493.637 82.3033, 493.637 84.4249 Q 493.637 86.5715, 492.576 87.7945 Q 491.515 89.0051, 489.581 89.0051 Q 487.634 89.0051, 486.573 87.7945 Q 485.525 86.5839, 485.525 84.4249 M 489.581 88.0067 Q 490.929 88.0067, 491.652 87.1081 Q 492.389 86.1971, 492.389 84.4249 Q 492.389 82.6902, 491.652 81.8166 Q 490.929 80.9305, 489.581 80.9305 Q 488.233 80.9305, 487.497 81.8041 Q 486.773 82.6777, 486.773 84.4249 Q 486.773 86.2095, 487.497 87.1081 Q 488.233 88.0067, 489.581 88.0067 \" fill=\"#FF0000\"/>\n",
       "<path class=\"atom-4\" d=\"M 512.545 131.225 Q 512.545 129.103, 513.593 127.918 Q 514.641 126.732, 516.601 126.732 Q 518.56 126.732, 519.608 127.918 Q 520.657 129.103, 520.657 131.225 Q 520.657 133.372, 519.596 134.595 Q 518.535 135.805, 516.601 135.805 Q 514.654 135.805, 513.593 134.595 Q 512.545 133.384, 512.545 131.225 M 516.601 134.807 Q 517.949 134.807, 518.672 133.908 Q 519.409 132.997, 519.409 131.225 Q 519.409 129.49, 518.672 128.617 Q 517.949 127.731, 516.601 127.731 Q 515.253 127.731, 514.517 128.604 Q 513.793 129.478, 513.793 131.225 Q 513.793 133.01, 514.517 133.908 Q 515.253 134.807, 516.601 134.807 \" fill=\"#FF0000\"/>\n",
       "<path class=\"bond-0\" d=\"M 175.899,300 L 168.956,330.418\" style=\"fill:none;fill-rule:evenodd;stroke:#000000;stroke-width:2.0px;stroke-linecap:butt;stroke-linejoin:miter;stroke-opacity:1\"/>\n",
       "<path class=\"bond-13\" d=\"M 175.899,300 L 168.956,269.582\" style=\"fill:none;fill-rule:evenodd;stroke:#000000;stroke-width:2.0px;stroke-linecap:butt;stroke-linejoin:miter;stroke-opacity:1\"/>\n",
       "<path class=\"bond-1\" d=\"M 168.956,330.418 L 149.503,354.811\" style=\"fill:none;fill-rule:evenodd;stroke:#000000;stroke-width:2.0px;stroke-linecap:butt;stroke-linejoin:miter;stroke-opacity:1\"/>\n",
       "<path class=\"bond-2\" d=\"M 149.503,354.811 L 121.393,368.348\" style=\"fill:none;fill-rule:evenodd;stroke:#000000;stroke-width:2.0px;stroke-linecap:butt;stroke-linejoin:miter;stroke-opacity:1\"/>\n",
       "<path class=\"bond-3\" d=\"M 121.393,368.348 L 90.1927,368.348\" style=\"fill:none;fill-rule:evenodd;stroke:#000000;stroke-width:2.0px;stroke-linecap:butt;stroke-linejoin:miter;stroke-opacity:1\"/>\n",
       "<path class=\"bond-4\" d=\"M 90.1927,368.348 L 62.0823,354.811\" style=\"fill:none;fill-rule:evenodd;stroke:#000000;stroke-width:2.0px;stroke-linecap:butt;stroke-linejoin:miter;stroke-opacity:1\"/>\n",
       "<path class=\"bond-5\" d=\"M 62.0823,354.811 L 42.6294,330.418\" style=\"fill:none;fill-rule:evenodd;stroke:#000000;stroke-width:2.0px;stroke-linecap:butt;stroke-linejoin:miter;stroke-opacity:1\"/>\n",
       "<path class=\"bond-6\" d=\"M 42.6294,330.418 L 39.7512,317.808\" style=\"fill:none;fill-rule:evenodd;stroke:#000000;stroke-width:2.0px;stroke-linecap:butt;stroke-linejoin:miter;stroke-opacity:1\"/>\n",
       "<path class=\"bond-6\" d=\"M 39.7512,317.808 L 36.8731,305.198\" style=\"fill:none;fill-rule:evenodd;stroke:#0000FF;stroke-width:2.0px;stroke-linecap:butt;stroke-linejoin:miter;stroke-opacity:1\"/>\n",
       "<path class=\"bond-7\" d=\"M 36.8731,294.802 L 39.7512,282.192\" style=\"fill:none;fill-rule:evenodd;stroke:#0000FF;stroke-width:2.0px;stroke-linecap:butt;stroke-linejoin:miter;stroke-opacity:1\"/>\n",
       "<path class=\"bond-7\" d=\"M 39.7512,282.192 L 42.6294,269.582\" style=\"fill:none;fill-rule:evenodd;stroke:#000000;stroke-width:2.0px;stroke-linecap:butt;stroke-linejoin:miter;stroke-opacity:1\"/>\n",
       "<path class=\"bond-8\" d=\"M 42.6294,269.582 L 62.0823,245.189\" style=\"fill:none;fill-rule:evenodd;stroke:#000000;stroke-width:2.0px;stroke-linecap:butt;stroke-linejoin:miter;stroke-opacity:1\"/>\n",
       "<path class=\"bond-9\" d=\"M 62.0823,245.189 L 90.1927,231.652\" style=\"fill:none;fill-rule:evenodd;stroke:#000000;stroke-width:2.0px;stroke-linecap:butt;stroke-linejoin:miter;stroke-opacity:1\"/>\n",
       "<path class=\"bond-10\" d=\"M 90.1927,231.652 L 121.393,231.652\" style=\"fill:none;fill-rule:evenodd;stroke:#000000;stroke-width:2.0px;stroke-linecap:butt;stroke-linejoin:miter;stroke-opacity:1\"/>\n",
       "<path class=\"bond-11\" d=\"M 121.393,231.652 L 149.503,245.189\" style=\"fill:none;fill-rule:evenodd;stroke:#000000;stroke-width:2.0px;stroke-linecap:butt;stroke-linejoin:miter;stroke-opacity:1\"/>\n",
       "<path class=\"bond-12\" d=\"M 149.503,245.189 L 168.956,269.582\" style=\"fill:none;fill-rule:evenodd;stroke:#000000;stroke-width:2.0px;stroke-linecap:butt;stroke-linejoin:miter;stroke-opacity:1\"/>\n",
       "<path class=\"atom-7\" d=\"M 24.386 295.582 L 25.5841 295.582 L 25.5841 299.339 L 30.1018 299.339 L 30.1018 295.582 L 31.2999 295.582 L 31.2999 304.418 L 30.1018 304.418 L 30.1018 300.337 L 25.5841 300.337 L 25.5841 304.418 L 24.386 304.418 L 24.386 295.582 \" fill=\"#0000FF\"/>\n",
       "<path class=\"atom-7\" d=\"M 33.7335 295.582 L 36.6289 300.262 Q 36.916 300.724, 37.3777 301.56 Q 37.8395 302.396, 37.8644 302.446 L 37.8644 295.582 L 39.0376 295.582 L 39.0376 304.418 L 37.827 304.418 L 34.7195 299.301 Q 34.3575 298.702, 33.9707 298.016 Q 33.5963 297.329, 33.4839 297.117 L 33.4839 304.418 L 32.3358 304.418 L 32.3358 295.582 L 33.7335 295.582 \" fill=\"#0000FF\"/>\n",
       "<path class=\"bond-0\" d=\"M 245.997,304.569 L 274.956,292.957\" style=\"fill:none;fill-rule:evenodd;stroke:#000000;stroke-width:2.0px;stroke-linecap:butt;stroke-linejoin:miter;stroke-opacity:1\"/>\n",
       "<path class=\"bond-1\" d=\"M 274.956,292.957 L 284.806,300.694\" style=\"fill:none;fill-rule:evenodd;stroke:#000000;stroke-width:2.0px;stroke-linecap:butt;stroke-linejoin:miter;stroke-opacity:1\"/>\n",
       "<path class=\"bond-1\" d=\"M 284.806,300.694 L 294.656,308.432\" style=\"fill:none;fill-rule:evenodd;stroke:#FF0000;stroke-width:2.0px;stroke-linecap:butt;stroke-linejoin:miter;stroke-opacity:1\"/>\n",
       "<path class=\"bond-2\" d=\"M 304.328,310.291 L 316.389,305.455\" style=\"fill:none;fill-rule:evenodd;stroke:#FF0000;stroke-width:2.0px;stroke-linecap:butt;stroke-linejoin:miter;stroke-opacity:1\"/>\n",
       "<path class=\"bond-2\" d=\"M 316.389,305.455 L 328.451,300.618\" style=\"fill:none;fill-rule:evenodd;stroke:#000000;stroke-width:2.0px;stroke-linecap:butt;stroke-linejoin:miter;stroke-opacity:1\"/>\n",
       "<path class=\"bond-3\" d=\"M 331.539,301.061 L 333.365,288.311\" style=\"fill:none;fill-rule:evenodd;stroke:#000000;stroke-width:2.0px;stroke-linecap:butt;stroke-linejoin:miter;stroke-opacity:1\"/>\n",
       "<path class=\"bond-3\" d=\"M 333.365,288.311 L 335.191,275.561\" style=\"fill:none;fill-rule:evenodd;stroke:#FF0000;stroke-width:2.0px;stroke-linecap:butt;stroke-linejoin:miter;stroke-opacity:1\"/>\n",
       "<path class=\"bond-3\" d=\"M 325.362,300.176 L 327.188,287.426\" style=\"fill:none;fill-rule:evenodd;stroke:#000000;stroke-width:2.0px;stroke-linecap:butt;stroke-linejoin:miter;stroke-opacity:1\"/>\n",
       "<path class=\"bond-3\" d=\"M 327.188,287.426 L 329.014,274.676\" style=\"fill:none;fill-rule:evenodd;stroke:#FF0000;stroke-width:2.0px;stroke-linecap:butt;stroke-linejoin:miter;stroke-opacity:1\"/>\n",
       "<path class=\"bond-4\" d=\"M 328.451,300.618 L 352.986,319.891\" style=\"fill:none;fill-rule:evenodd;stroke:#000000;stroke-width:2.0px;stroke-linecap:butt;stroke-linejoin:miter;stroke-opacity:1\"/>\n",
       "<path class=\"atom-2\" d=\"M 295.436 312.255 Q 295.436 310.134, 296.484 308.948 Q 297.533 307.762, 299.492 307.762 Q 301.451 307.762, 302.5 308.948 Q 303.548 310.134, 303.548 312.255 Q 303.548 314.402, 302.487 315.625 Q 301.426 316.835, 299.492 316.835 Q 297.545 316.835, 296.484 315.625 Q 295.436 314.414, 295.436 312.255 M 299.492 315.837 Q 300.84 315.837, 301.564 314.939 Q 302.3 314.027, 302.3 312.255 Q 302.3 310.521, 301.564 309.647 Q 300.84 308.761, 299.492 308.761 Q 298.144 308.761, 297.408 309.634 Q 296.684 310.508, 296.684 312.255 Q 296.684 314.04, 297.408 314.939 Q 298.144 315.837, 299.492 315.837 \" fill=\"#FF0000\"/>\n",
       "<path class=\"atom-4\" d=\"M 328.818 269.758 Q 328.818 267.637, 329.866 266.451 Q 330.914 265.266, 332.874 265.266 Q 334.833 265.266, 335.882 266.451 Q 336.93 267.637, 336.93 269.758 Q 336.93 271.905, 335.869 273.128 Q 334.808 274.339, 332.874 274.339 Q 330.927 274.339, 329.866 273.128 Q 328.818 271.917, 328.818 269.758 M 332.874 273.34 Q 334.222 273.34, 334.946 272.442 Q 335.682 271.53, 335.682 269.758 Q 335.682 268.024, 334.946 267.15 Q 334.222 266.264, 332.874 266.264 Q 331.526 266.264, 330.79 267.138 Q 330.066 268.011, 330.066 269.758 Q 330.066 271.543, 330.79 272.442 Q 331.526 273.34, 332.874 273.34 \" fill=\"#FF0000\"/>\n",
       "<path class=\"bond-0\" d=\"M 445.997,304.569 L 474.956,292.957\" style=\"fill:none;fill-rule:evenodd;stroke:#000000;stroke-width:2.0px;stroke-linecap:butt;stroke-linejoin:miter;stroke-opacity:1\"/>\n",
       "<path class=\"bond-1\" d=\"M 474.956,292.957 L 484.806,300.694\" style=\"fill:none;fill-rule:evenodd;stroke:#000000;stroke-width:2.0px;stroke-linecap:butt;stroke-linejoin:miter;stroke-opacity:1\"/>\n",
       "<path class=\"bond-1\" d=\"M 484.806,300.694 L 494.656,308.432\" style=\"fill:none;fill-rule:evenodd;stroke:#FF0000;stroke-width:2.0px;stroke-linecap:butt;stroke-linejoin:miter;stroke-opacity:1\"/>\n",
       "<path class=\"bond-2\" d=\"M 504.328,310.291 L 516.389,305.455\" style=\"fill:none;fill-rule:evenodd;stroke:#FF0000;stroke-width:2.0px;stroke-linecap:butt;stroke-linejoin:miter;stroke-opacity:1\"/>\n",
       "<path class=\"bond-2\" d=\"M 516.389,305.455 L 528.451,300.618\" style=\"fill:none;fill-rule:evenodd;stroke:#000000;stroke-width:2.0px;stroke-linecap:butt;stroke-linejoin:miter;stroke-opacity:1\"/>\n",
       "<path class=\"bond-3\" d=\"M 528.451,300.618 L 552.986,319.891\" style=\"fill:none;fill-rule:evenodd;stroke:#000000;stroke-width:2.0px;stroke-linecap:butt;stroke-linejoin:miter;stroke-opacity:1\"/>\n",
       "<path class=\"bond-4\" d=\"M 531.539,301.061 L 533.365,288.311\" style=\"fill:none;fill-rule:evenodd;stroke:#000000;stroke-width:2.0px;stroke-linecap:butt;stroke-linejoin:miter;stroke-opacity:1\"/>\n",
       "<path class=\"bond-4\" d=\"M 533.365,288.311 L 535.191,275.561\" style=\"fill:none;fill-rule:evenodd;stroke:#FF0000;stroke-width:2.0px;stroke-linecap:butt;stroke-linejoin:miter;stroke-opacity:1\"/>\n",
       "<path class=\"bond-4\" d=\"M 525.362,300.176 L 527.188,287.426\" style=\"fill:none;fill-rule:evenodd;stroke:#000000;stroke-width:2.0px;stroke-linecap:butt;stroke-linejoin:miter;stroke-opacity:1\"/>\n",
       "<path class=\"bond-4\" d=\"M 527.188,287.426 L 529.014,274.676\" style=\"fill:none;fill-rule:evenodd;stroke:#FF0000;stroke-width:2.0px;stroke-linecap:butt;stroke-linejoin:miter;stroke-opacity:1\"/>\n",
       "<path class=\"atom-2\" d=\"M 495.436 312.255 Q 495.436 310.134, 496.484 308.948 Q 497.533 307.762, 499.492 307.762 Q 501.451 307.762, 502.5 308.948 Q 503.548 310.134, 503.548 312.255 Q 503.548 314.402, 502.487 315.625 Q 501.426 316.835, 499.492 316.835 Q 497.545 316.835, 496.484 315.625 Q 495.436 314.414, 495.436 312.255 M 499.492 315.837 Q 500.84 315.837, 501.564 314.939 Q 502.3 314.027, 502.3 312.255 Q 502.3 310.521, 501.564 309.647 Q 500.84 308.761, 499.492 308.761 Q 498.144 308.761, 497.408 309.634 Q 496.684 310.508, 496.684 312.255 Q 496.684 314.04, 497.408 314.939 Q 498.144 315.837, 499.492 315.837 \" fill=\"#FF0000\"/>\n",
       "<path class=\"atom-5\" d=\"M 528.818 269.758 Q 528.818 267.637, 529.866 266.451 Q 530.914 265.266, 532.874 265.266 Q 534.833 265.266, 535.882 266.451 Q 536.93 267.637, 536.93 269.758 Q 536.93 271.905, 535.869 273.128 Q 534.808 274.339, 532.874 274.339 Q 530.927 274.339, 529.866 273.128 Q 528.818 271.917, 528.818 269.758 M 532.874 273.34 Q 534.222 273.34, 534.946 272.442 Q 535.682 271.53, 535.682 269.758 Q 535.682 268.024, 534.946 267.15 Q 534.222 266.264, 532.874 266.264 Q 531.526 266.264, 530.79 267.138 Q 530.066 268.011, 530.066 269.758 Q 530.066 271.543, 530.79 272.442 Q 531.526 273.34, 532.874 273.34 \" fill=\"#FF0000\"/>\n",
       "<path class=\"bond-0\" d=\"M 35.3569,506.716 L 63.7358,493.751\" style=\"fill:none;fill-rule:evenodd;stroke:#000000;stroke-width:2.0px;stroke-linecap:butt;stroke-linejoin:miter;stroke-opacity:1\"/>\n",
       "<path class=\"bond-1\" d=\"M 63.7358,493.751 L 74.0265,501.077\" style=\"fill:none;fill-rule:evenodd;stroke:#000000;stroke-width:2.0px;stroke-linecap:butt;stroke-linejoin:miter;stroke-opacity:1\"/>\n",
       "<path class=\"bond-1\" d=\"M 74.0265,501.077 L 84.3172,508.403\" style=\"fill:none;fill-rule:evenodd;stroke:#FF0000;stroke-width:2.0px;stroke-linecap:butt;stroke-linejoin:miter;stroke-opacity:1\"/>\n",
       "<path class=\"bond-2\" d=\"M 93.9892,509.636 L 105.761,504.258\" style=\"fill:none;fill-rule:evenodd;stroke:#FF0000;stroke-width:2.0px;stroke-linecap:butt;stroke-linejoin:miter;stroke-opacity:1\"/>\n",
       "<path class=\"bond-2\" d=\"M 105.761,504.258 L 117.532,498.881\" style=\"fill:none;fill-rule:evenodd;stroke:#000000;stroke-width:2.0px;stroke-linecap:butt;stroke-linejoin:miter;stroke-opacity:1\"/>\n",
       "<path class=\"bond-3\" d=\"M 120.638,499.177 L 121.862,486.34\" style=\"fill:none;fill-rule:evenodd;stroke:#000000;stroke-width:2.0px;stroke-linecap:butt;stroke-linejoin:miter;stroke-opacity:1\"/>\n",
       "<path class=\"bond-3\" d=\"M 121.862,486.34 L 123.086,473.503\" style=\"fill:none;fill-rule:evenodd;stroke:#FF0000;stroke-width:2.0px;stroke-linecap:butt;stroke-linejoin:miter;stroke-opacity:1\"/>\n",
       "<path class=\"bond-3\" d=\"M 114.426,498.585 L 115.65,485.747\" style=\"fill:none;fill-rule:evenodd;stroke:#000000;stroke-width:2.0px;stroke-linecap:butt;stroke-linejoin:miter;stroke-opacity:1\"/>\n",
       "<path class=\"bond-3\" d=\"M 115.65,485.747 L 116.874,472.91\" style=\"fill:none;fill-rule:evenodd;stroke:#FF0000;stroke-width:2.0px;stroke-linecap:butt;stroke-linejoin:miter;stroke-opacity:1\"/>\n",
       "<path class=\"bond-4\" d=\"M 117.532,498.881 L 142.949,516.975\" style=\"fill:none;fill-rule:evenodd;stroke:#000000;stroke-width:2.0px;stroke-linecap:butt;stroke-linejoin:miter;stroke-opacity:1\"/>\n",
       "<path class=\"bond-5\" d=\"M 142.949,516.975 L 171.328,504.01\" style=\"fill:none;fill-rule:evenodd;stroke:#000000;stroke-width:2.0px;stroke-linecap:butt;stroke-linejoin:miter;stroke-opacity:1\"/>\n",
       "<path class=\"atom-2\" d=\"M 85.0972 511.871 Q 85.0972 509.749, 86.1455 508.563 Q 87.1938 507.378, 89.1532 507.378 Q 91.1125 507.378, 92.1609 508.563 Q 93.2092 509.749, 93.2092 511.871 Q 93.2092 514.017, 92.1484 515.24 Q 91.0876 516.451, 89.1532 516.451 Q 87.2063 516.451, 86.1455 515.24 Q 85.0972 514.03, 85.0972 511.871 M 89.1532 515.452 Q 90.501 515.452, 91.2249 514.554 Q 91.9612 513.643, 91.9612 511.871 Q 91.9612 510.136, 91.2249 509.262 Q 90.501 508.376, 89.1532 508.376 Q 87.8053 508.376, 87.069 509.25 Q 86.3452 510.123, 86.3452 511.871 Q 86.3452 513.655, 87.069 514.554 Q 87.8053 515.452, 89.1532 515.452 \" fill=\"#FF0000\"/>\n",
       "<path class=\"atom-4\" d=\"M 116.438 467.846 Q 116.438 465.725, 117.486 464.539 Q 118.534 463.354, 120.494 463.354 Q 122.453 463.354, 123.501 464.539 Q 124.55 465.725, 124.55 467.846 Q 124.55 469.993, 123.489 471.216 Q 122.428 472.427, 120.494 472.427 Q 118.547 472.427, 117.486 471.216 Q 116.438 470.005, 116.438 467.846 M 120.494 471.428 Q 121.841 471.428, 122.565 470.53 Q 123.302 469.619, 123.302 467.846 Q 123.302 466.112, 122.565 465.238 Q 121.841 464.352, 120.494 464.352 Q 119.146 464.352, 118.409 465.226 Q 117.686 466.099, 117.686 467.846 Q 117.686 469.631, 118.409 470.53 Q 119.146 471.428, 120.494 471.428 \" fill=\"#FF0000\"/>\n",
       "<path class=\"bond-0\" d=\"M 235.357,506.716 L 263.736,493.751\" style=\"fill:none;fill-rule:evenodd;stroke:#000000;stroke-width:2.0px;stroke-linecap:butt;stroke-linejoin:miter;stroke-opacity:1\"/>\n",
       "<path class=\"bond-1\" d=\"M 263.736,493.751 L 274.026,501.077\" style=\"fill:none;fill-rule:evenodd;stroke:#000000;stroke-width:2.0px;stroke-linecap:butt;stroke-linejoin:miter;stroke-opacity:1\"/>\n",
       "<path class=\"bond-1\" d=\"M 274.026,501.077 L 284.317,508.403\" style=\"fill:none;fill-rule:evenodd;stroke:#FF0000;stroke-width:2.0px;stroke-linecap:butt;stroke-linejoin:miter;stroke-opacity:1\"/>\n",
       "<path class=\"bond-2\" d=\"M 293.989,509.636 L 305.761,504.258\" style=\"fill:none;fill-rule:evenodd;stroke:#FF0000;stroke-width:2.0px;stroke-linecap:butt;stroke-linejoin:miter;stroke-opacity:1\"/>\n",
       "<path class=\"bond-2\" d=\"M 305.761,504.258 L 317.532,498.881\" style=\"fill:none;fill-rule:evenodd;stroke:#000000;stroke-width:2.0px;stroke-linecap:butt;stroke-linejoin:miter;stroke-opacity:1\"/>\n",
       "<path class=\"bond-3\" d=\"M 320.638,499.177 L 321.862,486.34\" style=\"fill:none;fill-rule:evenodd;stroke:#000000;stroke-width:2.0px;stroke-linecap:butt;stroke-linejoin:miter;stroke-opacity:1\"/>\n",
       "<path class=\"bond-3\" d=\"M 321.862,486.34 L 323.086,473.503\" style=\"fill:none;fill-rule:evenodd;stroke:#FF0000;stroke-width:2.0px;stroke-linecap:butt;stroke-linejoin:miter;stroke-opacity:1\"/>\n",
       "<path class=\"bond-3\" d=\"M 314.426,498.585 L 315.65,485.747\" style=\"fill:none;fill-rule:evenodd;stroke:#000000;stroke-width:2.0px;stroke-linecap:butt;stroke-linejoin:miter;stroke-opacity:1\"/>\n",
       "<path class=\"bond-3\" d=\"M 315.65,485.747 L 316.874,472.91\" style=\"fill:none;fill-rule:evenodd;stroke:#FF0000;stroke-width:2.0px;stroke-linecap:butt;stroke-linejoin:miter;stroke-opacity:1\"/>\n",
       "<path class=\"bond-4\" d=\"M 317.532,498.881 L 342.949,516.975\" style=\"fill:none;fill-rule:evenodd;stroke:#000000;stroke-width:2.0px;stroke-linecap:butt;stroke-linejoin:miter;stroke-opacity:1\"/>\n",
       "<path class=\"bond-5\" d=\"M 344.246,519.813 L 356.017,514.435\" style=\"fill:none;fill-rule:evenodd;stroke:#000000;stroke-width:2.0px;stroke-linecap:butt;stroke-linejoin:miter;stroke-opacity:1\"/>\n",
       "<path class=\"bond-5\" d=\"M 356.017,514.435 L 367.789,509.057\" style=\"fill:none;fill-rule:evenodd;stroke:#FF0000;stroke-width:2.0px;stroke-linecap:butt;stroke-linejoin:miter;stroke-opacity:1\"/>\n",
       "<path class=\"bond-5\" d=\"M 341.653,514.137 L 353.424,508.759\" style=\"fill:none;fill-rule:evenodd;stroke:#000000;stroke-width:2.0px;stroke-linecap:butt;stroke-linejoin:miter;stroke-opacity:1\"/>\n",
       "<path class=\"bond-5\" d=\"M 353.424,508.759 L 365.196,503.382\" style=\"fill:none;fill-rule:evenodd;stroke:#FF0000;stroke-width:2.0px;stroke-linecap:butt;stroke-linejoin:miter;stroke-opacity:1\"/>\n",
       "<path class=\"atom-2\" d=\"M 285.097 511.871 Q 285.097 509.749, 286.145 508.563 Q 287.194 507.378, 289.153 507.378 Q 291.113 507.378, 292.161 508.563 Q 293.209 509.749, 293.209 511.871 Q 293.209 514.017, 292.148 515.24 Q 291.088 516.451, 289.153 516.451 Q 287.206 516.451, 286.145 515.24 Q 285.097 514.03, 285.097 511.871 M 289.153 515.452 Q 290.501 515.452, 291.225 514.554 Q 291.961 513.643, 291.961 511.871 Q 291.961 510.136, 291.225 509.262 Q 290.501 508.376, 289.153 508.376 Q 287.805 508.376, 287.069 509.25 Q 286.345 510.123, 286.345 511.871 Q 286.345 513.655, 287.069 514.554 Q 287.805 515.452, 289.153 515.452 \" fill=\"#FF0000\"/>\n",
       "<path class=\"atom-4\" d=\"M 316.438 467.846 Q 316.438 465.725, 317.486 464.539 Q 318.534 463.354, 320.494 463.354 Q 322.453 463.354, 323.501 464.539 Q 324.55 465.725, 324.55 467.846 Q 324.55 469.993, 323.489 471.216 Q 322.428 472.427, 320.494 472.427 Q 318.547 472.427, 317.486 471.216 Q 316.438 470.005, 316.438 467.846 M 320.494 471.428 Q 321.841 471.428, 322.565 470.53 Q 323.302 469.619, 323.302 467.846 Q 323.302 466.112, 322.565 465.238 Q 321.841 464.352, 320.494 464.352 Q 319.146 464.352, 318.409 465.226 Q 317.686 466.099, 317.686 467.846 Q 317.686 469.631, 318.409 470.53 Q 319.146 471.428, 320.494 471.428 \" fill=\"#FF0000\"/>\n",
       "<path class=\"atom-6\" d=\"M 367.272 504.035 Q 367.272 501.913, 368.321 500.728 Q 369.369 499.542, 371.328 499.542 Q 373.288 499.542, 374.336 500.728 Q 375.384 501.913, 375.384 504.035 Q 375.384 506.182, 374.323 507.405 Q 373.263 508.615, 371.328 508.615 Q 369.381 508.615, 368.321 507.405 Q 367.272 506.194, 367.272 504.035 M 371.328 507.617 Q 372.676 507.617, 373.4 506.718 Q 374.136 505.807, 374.136 504.035 Q 374.136 502.3, 373.4 501.427 Q 372.676 500.541, 371.328 500.541 Q 369.98 500.541, 369.244 501.414 Q 368.52 502.288, 368.52 504.035 Q 368.52 505.82, 369.244 506.718 Q 369.98 507.617, 371.328 507.617 \" fill=\"#FF0000\"/>\n",
       "<path class=\"bond-0\" d=\"M 435.357,506.716 L 463.736,493.751\" style=\"fill:none;fill-rule:evenodd;stroke:#000000;stroke-width:2.0px;stroke-linecap:butt;stroke-linejoin:miter;stroke-opacity:1\"/>\n",
       "<path class=\"bond-1\" d=\"M 463.736,493.751 L 489.153,511.846\" style=\"fill:none;fill-rule:evenodd;stroke:#000000;stroke-width:2.0px;stroke-linecap:butt;stroke-linejoin:miter;stroke-opacity:1\"/>\n",
       "<path class=\"bond-2\" d=\"M 489.153,511.846 L 517.532,498.881\" style=\"fill:none;fill-rule:evenodd;stroke:#000000;stroke-width:2.0px;stroke-linecap:butt;stroke-linejoin:miter;stroke-opacity:1\"/>\n",
       "<path class=\"bond-3\" d=\"M 520.638,499.177 L 521.862,486.34\" style=\"fill:none;fill-rule:evenodd;stroke:#000000;stroke-width:2.0px;stroke-linecap:butt;stroke-linejoin:miter;stroke-opacity:1\"/>\n",
       "<path class=\"bond-3\" d=\"M 521.862,486.34 L 523.086,473.503\" style=\"fill:none;fill-rule:evenodd;stroke:#FF0000;stroke-width:2.0px;stroke-linecap:butt;stroke-linejoin:miter;stroke-opacity:1\"/>\n",
       "<path class=\"bond-3\" d=\"M 514.426,498.585 L 515.65,485.747\" style=\"fill:none;fill-rule:evenodd;stroke:#000000;stroke-width:2.0px;stroke-linecap:butt;stroke-linejoin:miter;stroke-opacity:1\"/>\n",
       "<path class=\"bond-3\" d=\"M 515.65,485.747 L 516.874,472.91\" style=\"fill:none;fill-rule:evenodd;stroke:#FF0000;stroke-width:2.0px;stroke-linecap:butt;stroke-linejoin:miter;stroke-opacity:1\"/>\n",
       "<path class=\"bond-4\" d=\"M 517.532,498.881 L 527.823,506.206\" style=\"fill:none;fill-rule:evenodd;stroke:#000000;stroke-width:2.0px;stroke-linecap:butt;stroke-linejoin:miter;stroke-opacity:1\"/>\n",
       "<path class=\"bond-4\" d=\"M 527.823,506.206 L 538.113,513.532\" style=\"fill:none;fill-rule:evenodd;stroke:#FF0000;stroke-width:2.0px;stroke-linecap:butt;stroke-linejoin:miter;stroke-opacity:1\"/>\n",
       "<path class=\"bond-5\" d=\"M 547.785,514.766 L 559.557,509.388\" style=\"fill:none;fill-rule:evenodd;stroke:#FF0000;stroke-width:2.0px;stroke-linecap:butt;stroke-linejoin:miter;stroke-opacity:1\"/>\n",
       "<path class=\"bond-5\" d=\"M 559.557,509.388 L 571.328,504.01\" style=\"fill:none;fill-rule:evenodd;stroke:#000000;stroke-width:2.0px;stroke-linecap:butt;stroke-linejoin:miter;stroke-opacity:1\"/>\n",
       "<path class=\"atom-4\" d=\"M 516.438 467.846 Q 516.438 465.725, 517.486 464.539 Q 518.534 463.354, 520.494 463.354 Q 522.453 463.354, 523.501 464.539 Q 524.55 465.725, 524.55 467.846 Q 524.55 469.993, 523.489 471.216 Q 522.428 472.427, 520.494 472.427 Q 518.547 472.427, 517.486 471.216 Q 516.438 470.005, 516.438 467.846 M 520.494 471.428 Q 521.841 471.428, 522.565 470.53 Q 523.302 469.619, 523.302 467.846 Q 523.302 466.112, 522.565 465.238 Q 521.841 464.352, 520.494 464.352 Q 519.146 464.352, 518.409 465.226 Q 517.686 466.099, 517.686 467.846 Q 517.686 469.631, 518.409 470.53 Q 519.146 471.428, 520.494 471.428 \" fill=\"#FF0000\"/>\n",
       "<path class=\"atom-5\" d=\"M 538.893 517 Q 538.893 514.878, 539.942 513.693 Q 540.99 512.507, 542.949 512.507 Q 544.909 512.507, 545.957 513.693 Q 547.005 514.878, 547.005 517 Q 547.005 519.147, 545.945 520.37 Q 544.884 521.58, 542.949 521.58 Q 541.003 521.58, 539.942 520.37 Q 538.893 519.159, 538.893 517 M 542.949 520.582 Q 544.297 520.582, 545.021 519.683 Q 545.757 518.772, 545.757 517 Q 545.757 515.265, 545.021 514.392 Q 544.297 513.506, 542.949 513.506 Q 541.602 513.506, 540.865 514.379 Q 540.141 515.253, 540.141 517 Q 540.141 518.785, 540.865 519.683 Q 541.602 520.582, 542.949 520.582 \" fill=\"#FF0000\"/>\n",
       "<path class=\"bond-0\" d=\"M 76.4742,664.736 L 75.8463,695.93\" style=\"fill:none;fill-rule:evenodd;stroke:#000000;stroke-width:2.0px;stroke-linecap:butt;stroke-linejoin:miter;stroke-opacity:1\"/>\n",
       "<path class=\"bond-1\" d=\"M 75.8463,695.93 L 48.5176,710.983\" style=\"fill:none;fill-rule:evenodd;stroke:#000000;stroke-width:2.0px;stroke-linecap:butt;stroke-linejoin:miter;stroke-opacity:1\"/>\n",
       "<path class=\"bond-2\" d=\"M 75.8463,695.93 L 102.547,712.07\" style=\"fill:none;fill-rule:evenodd;stroke:#000000;stroke-width:2.0px;stroke-linecap:butt;stroke-linejoin:miter;stroke-opacity:1\"/>\n",
       "<path class=\"bond-3\" d=\"M 102.547,712.07 L 101.919,743.264\" style=\"fill:none;fill-rule:evenodd;stroke:#000000;stroke-width:2.0px;stroke-linecap:butt;stroke-linejoin:miter;stroke-opacity:1\"/>\n",
       "<path class=\"bond-4\" d=\"M 102.547,712.07 L 129.876,697.017\" style=\"fill:none;fill-rule:evenodd;stroke:#000000;stroke-width:2.0px;stroke-linecap:butt;stroke-linejoin:miter;stroke-opacity:1\"/>\n",
       "<path class=\"bond-5\" d=\"M 129.876,697.017 L 144.929,724.346\" style=\"fill:none;fill-rule:evenodd;stroke:#000000;stroke-width:2.0px;stroke-linecap:butt;stroke-linejoin:miter;stroke-opacity:1\"/>\n",
       "<path class=\"bond-6\" d=\"M 129.876,697.017 L 114.822,669.689\" style=\"fill:none;fill-rule:evenodd;stroke:#000000;stroke-width:2.0px;stroke-linecap:butt;stroke-linejoin:miter;stroke-opacity:1\"/>\n",
       "<path class=\"bond-7\" d=\"M 129.876,697.017 L 157.204,681.964\" style=\"fill:none;fill-rule:evenodd;stroke:#000000;stroke-width:2.0px;stroke-linecap:butt;stroke-linejoin:miter;stroke-opacity:1\"/>\n",
       "<path class=\"bond-0\" d=\"M 352.986,680.109 L 328.451,699.382\" style=\"fill:none;fill-rule:evenodd;stroke:#000000;stroke-width:2.0px;stroke-linecap:butt;stroke-linejoin:miter;stroke-opacity:1\"/>\n",
       "<path class=\"bond-1\" d=\"M 325.362,699.824 L 327.198,712.643\" style=\"fill:none;fill-rule:evenodd;stroke:#000000;stroke-width:2.0px;stroke-linecap:butt;stroke-linejoin:miter;stroke-opacity:1\"/>\n",
       "<path class=\"bond-1\" d=\"M 327.198,712.643 L 329.034,725.461\" style=\"fill:none;fill-rule:evenodd;stroke:#FF0000;stroke-width:2.0px;stroke-linecap:butt;stroke-linejoin:miter;stroke-opacity:1\"/>\n",
       "<path class=\"bond-1\" d=\"M 331.539,698.939 L 333.375,711.758\" style=\"fill:none;fill-rule:evenodd;stroke:#000000;stroke-width:2.0px;stroke-linecap:butt;stroke-linejoin:miter;stroke-opacity:1\"/>\n",
       "<path class=\"bond-1\" d=\"M 333.375,711.758 L 335.211,724.576\" style=\"fill:none;fill-rule:evenodd;stroke:#FF0000;stroke-width:2.0px;stroke-linecap:butt;stroke-linejoin:miter;stroke-opacity:1\"/>\n",
       "<path class=\"bond-2\" d=\"M 328.451,699.382 L 316.389,694.545\" style=\"fill:none;fill-rule:evenodd;stroke:#000000;stroke-width:2.0px;stroke-linecap:butt;stroke-linejoin:miter;stroke-opacity:1\"/>\n",
       "<path class=\"bond-2\" d=\"M 316.389,694.545 L 304.328,689.709\" style=\"fill:none;fill-rule:evenodd;stroke:#FF0000;stroke-width:2.0px;stroke-linecap:butt;stroke-linejoin:miter;stroke-opacity:1\"/>\n",
       "<path class=\"bond-3\" d=\"M 294.656,691.568 L 284.806,699.306\" style=\"fill:none;fill-rule:evenodd;stroke:#FF0000;stroke-width:2.0px;stroke-linecap:butt;stroke-linejoin:miter;stroke-opacity:1\"/>\n",
       "<path class=\"bond-3\" d=\"M 284.806,699.306 L 274.956,707.043\" style=\"fill:none;fill-rule:evenodd;stroke:#000000;stroke-width:2.0px;stroke-linecap:butt;stroke-linejoin:miter;stroke-opacity:1\"/>\n",
       "<path class=\"bond-4\" d=\"M 274.956,707.043 L 262.895,702.206\" style=\"fill:none;fill-rule:evenodd;stroke:#000000;stroke-width:2.0px;stroke-linecap:butt;stroke-linejoin:miter;stroke-opacity:1\"/>\n",
       "<path class=\"bond-4\" d=\"M 262.895,702.206 L 250.833,697.37\" style=\"fill:none;fill-rule:evenodd;stroke:#FF0000;stroke-width:2.0px;stroke-linecap:butt;stroke-linejoin:miter;stroke-opacity:1\"/>\n",
       "<path class=\"atom-2\" d=\"M 328.818 730.292 Q 328.818 728.17, 329.866 726.984 Q 330.914 725.799, 332.874 725.799 Q 334.833 725.799, 335.882 726.984 Q 336.93 728.17, 336.93 730.292 Q 336.93 732.438, 335.869 733.661 Q 334.808 734.872, 332.874 734.872 Q 330.927 734.872, 329.866 733.661 Q 328.818 732.451, 328.818 730.292 M 332.874 733.873 Q 334.222 733.873, 334.946 732.975 Q 335.682 732.064, 335.682 730.292 Q 335.682 728.557, 334.946 727.683 Q 334.222 726.797, 332.874 726.797 Q 331.526 726.797, 330.79 727.671 Q 330.066 728.544, 330.066 730.292 Q 330.066 732.076, 330.79 732.975 Q 331.526 733.873, 332.874 733.873 \" fill=\"#FF0000\"/>\n",
       "<path class=\"atom-3\" d=\"M 295.436 687.795 Q 295.436 685.673, 296.484 684.487 Q 297.533 683.302, 299.492 683.302 Q 301.451 683.302, 302.5 684.487 Q 303.548 685.673, 303.548 687.795 Q 303.548 689.941, 302.487 691.164 Q 301.426 692.375, 299.492 692.375 Q 297.545 692.375, 296.484 691.164 Q 295.436 689.954, 295.436 687.795 M 299.492 691.376 Q 300.84 691.376, 301.564 690.478 Q 302.3 689.567, 302.3 687.795 Q 302.3 686.06, 301.564 685.186 Q 300.84 684.3, 299.492 684.3 Q 298.144 684.3, 297.408 685.174 Q 296.684 686.047, 296.684 687.795 Q 296.684 689.579, 297.408 690.478 Q 298.144 691.376, 299.492 691.376 \" fill=\"#FF0000\"/>\n",
       "<path class=\"atom-5\" d=\"M 234.404 691.063 L 235.602 691.063 L 235.602 694.819 L 240.119 694.819 L 240.119 691.063 L 241.317 691.063 L 241.317 699.899 L 240.119 699.899 L 240.119 695.818 L 235.602 695.818 L 235.602 699.899 L 234.404 699.899 L 234.404 691.063 \" fill=\"#FF0000\"/>\n",
       "<path class=\"atom-5\" d=\"M 241.941 695.456 Q 241.941 693.334, 242.99 692.149 Q 244.038 690.963, 245.997 690.963 Q 247.957 690.963, 249.005 692.149 Q 250.053 693.334, 250.053 695.456 Q 250.053 697.602, 248.993 698.825 Q 247.932 700.036, 245.997 700.036 Q 244.051 700.036, 242.99 698.825 Q 241.941 697.615, 241.941 695.456 M 245.997 699.038 Q 247.345 699.038, 248.069 698.139 Q 248.805 697.228, 248.805 695.456 Q 248.805 693.721, 248.069 692.847 Q 247.345 691.961, 245.997 691.961 Q 244.65 691.961, 243.913 692.835 Q 243.189 693.709, 243.189 695.456 Q 243.189 697.24, 243.913 698.139 Q 244.65 699.038, 245.997 699.038 \" fill=\"#FF0000\"/>\n",
       "<path class=\"bond-0\" d=\"M 478.773,715.6 L 505.793,700\" style=\"fill:none;fill-rule:evenodd;stroke:#000000;stroke-width:2.0px;stroke-linecap:butt;stroke-linejoin:miter;stroke-opacity:1\"/>\n",
       "<path class=\"bond-1\" d=\"M 508.913,700 L 508.913,687.093\" style=\"fill:none;fill-rule:evenodd;stroke:#000000;stroke-width:2.0px;stroke-linecap:butt;stroke-linejoin:miter;stroke-opacity:1\"/>\n",
       "<path class=\"bond-1\" d=\"M 508.913,687.093 L 508.913,674.185\" style=\"fill:none;fill-rule:evenodd;stroke:#FF0000;stroke-width:2.0px;stroke-linecap:butt;stroke-linejoin:miter;stroke-opacity:1\"/>\n",
       "<path class=\"bond-1\" d=\"M 502.673,700 L 502.673,687.093\" style=\"fill:none;fill-rule:evenodd;stroke:#000000;stroke-width:2.0px;stroke-linecap:butt;stroke-linejoin:miter;stroke-opacity:1\"/>\n",
       "<path class=\"bond-1\" d=\"M 502.673,687.093 L 502.673,674.185\" style=\"fill:none;fill-rule:evenodd;stroke:#FF0000;stroke-width:2.0px;stroke-linecap:butt;stroke-linejoin:miter;stroke-opacity:1\"/>\n",
       "<path class=\"bond-2\" d=\"M 505.793,700 L 516.885,706.404\" style=\"fill:none;fill-rule:evenodd;stroke:#000000;stroke-width:2.0px;stroke-linecap:butt;stroke-linejoin:miter;stroke-opacity:1\"/>\n",
       "<path class=\"bond-2\" d=\"M 516.885,706.404 L 527.977,712.808\" style=\"fill:none;fill-rule:evenodd;stroke:#FF0000;stroke-width:2.0px;stroke-linecap:butt;stroke-linejoin:miter;stroke-opacity:1\"/>\n",
       "<path class=\"atom-2\" d=\"M 501.737 668.825 Q 501.737 666.703, 502.785 665.518 Q 503.833 664.332, 505.793 664.332 Q 507.752 664.332, 508.8 665.518 Q 509.849 666.703, 509.849 668.825 Q 509.849 670.971, 508.788 672.194 Q 507.727 673.405, 505.793 673.405 Q 503.846 673.405, 502.785 672.194 Q 501.737 670.984, 501.737 668.825 M 505.793 672.407 Q 507.141 672.407, 507.864 671.508 Q 508.601 670.597, 508.601 668.825 Q 508.601 667.09, 507.864 666.216 Q 507.141 665.33, 505.793 665.33 Q 504.445 665.33, 503.709 666.204 Q 502.985 667.078, 502.985 668.825 Q 502.985 670.609, 503.709 671.508 Q 504.445 672.407, 505.793 672.407 \" fill=\"#FF0000\"/>\n",
       "<path class=\"atom-3\" d=\"M 528.757 715.625 Q 528.757 713.503, 529.805 712.318 Q 530.853 711.132, 532.813 711.132 Q 534.772 711.132, 535.821 712.318 Q 536.869 713.503, 536.869 715.625 Q 536.869 717.772, 535.808 718.995 Q 534.747 720.205, 532.813 720.205 Q 530.866 720.205, 529.805 718.995 Q 528.757 717.784, 528.757 715.625 M 532.813 719.207 Q 534.161 719.207, 534.885 718.308 Q 535.621 717.397, 535.621 715.625 Q 535.621 713.89, 534.885 713.017 Q 534.161 712.131, 532.813 712.131 Q 531.465 712.131, 530.729 713.004 Q 530.005 713.878, 530.005 715.625 Q 530.005 717.41, 530.729 718.308 Q 531.465 719.207, 532.813 719.207 \" fill=\"#FF0000\"/>\n",
       "<path class=\"atom-3\" d=\"M 537.93 711.232 L 539.128 711.232 L 539.128 714.989 L 543.646 714.989 L 543.646 711.232 L 544.844 711.232 L 544.844 720.068 L 543.646 720.068 L 543.646 715.987 L 539.128 715.987 L 539.128 720.068 L 537.93 720.068 L 537.93 711.232 \" fill=\"#FF0000\"/>\n",
       "<path class=\"bond-0\" d=\"M 24.7324,911.7 L 51.7525,896.1\" style=\"fill:none;fill-rule:evenodd;stroke:#000000;stroke-width:2.0px;stroke-linecap:butt;stroke-linejoin:miter;stroke-opacity:1\"/>\n",
       "<path class=\"bond-1\" d=\"M 51.7525,896.1 L 78.7726,911.7\" style=\"fill:none;fill-rule:evenodd;stroke:#000000;stroke-width:2.0px;stroke-linecap:butt;stroke-linejoin:miter;stroke-opacity:1\"/>\n",
       "<path class=\"bond-2\" d=\"M 78.7726,911.7 L 105.793,896.1\" style=\"fill:none;fill-rule:evenodd;stroke:#000000;stroke-width:2.0px;stroke-linecap:butt;stroke-linejoin:miter;stroke-opacity:1\"/>\n",
       "<path class=\"bond-3\" d=\"M 108.913,896.1 L 108.913,883.192\" style=\"fill:none;fill-rule:evenodd;stroke:#000000;stroke-width:2.0px;stroke-linecap:butt;stroke-linejoin:miter;stroke-opacity:1\"/>\n",
       "<path class=\"bond-3\" d=\"M 108.913,883.192 L 108.913,870.285\" style=\"fill:none;fill-rule:evenodd;stroke:#FF0000;stroke-width:2.0px;stroke-linecap:butt;stroke-linejoin:miter;stroke-opacity:1\"/>\n",
       "<path class=\"bond-3\" d=\"M 102.673,896.1 L 102.673,883.192\" style=\"fill:none;fill-rule:evenodd;stroke:#000000;stroke-width:2.0px;stroke-linecap:butt;stroke-linejoin:miter;stroke-opacity:1\"/>\n",
       "<path class=\"bond-3\" d=\"M 102.673,883.192 L 102.673,870.285\" style=\"fill:none;fill-rule:evenodd;stroke:#FF0000;stroke-width:2.0px;stroke-linecap:butt;stroke-linejoin:miter;stroke-opacity:1\"/>\n",
       "<path class=\"bond-4\" d=\"M 105.793,896.1 L 116.885,902.504\" style=\"fill:none;fill-rule:evenodd;stroke:#000000;stroke-width:2.0px;stroke-linecap:butt;stroke-linejoin:miter;stroke-opacity:1\"/>\n",
       "<path class=\"bond-4\" d=\"M 116.885,902.504 L 127.977,908.908\" style=\"fill:none;fill-rule:evenodd;stroke:#FF0000;stroke-width:2.0px;stroke-linecap:butt;stroke-linejoin:miter;stroke-opacity:1\"/>\n",
       "<path class=\"bond-5\" d=\"M 137.649,908.908 L 148.741,902.504\" style=\"fill:none;fill-rule:evenodd;stroke:#FF0000;stroke-width:2.0px;stroke-linecap:butt;stroke-linejoin:miter;stroke-opacity:1\"/>\n",
       "<path class=\"bond-5\" d=\"M 148.741,902.504 L 159.833,896.1\" style=\"fill:none;fill-rule:evenodd;stroke:#000000;stroke-width:2.0px;stroke-linecap:butt;stroke-linejoin:miter;stroke-opacity:1\"/>\n",
       "<path class=\"bond-6\" d=\"M 158.273,898.802 L 169.365,905.206\" style=\"fill:none;fill-rule:evenodd;stroke:#000000;stroke-width:2.0px;stroke-linecap:butt;stroke-linejoin:miter;stroke-opacity:1\"/>\n",
       "<path class=\"bond-6\" d=\"M 169.365,905.206 L 180.457,911.61\" style=\"fill:none;fill-rule:evenodd;stroke:#FF0000;stroke-width:2.0px;stroke-linecap:butt;stroke-linejoin:miter;stroke-opacity:1\"/>\n",
       "<path class=\"bond-6\" d=\"M 161.393,893.398 L 172.485,899.802\" style=\"fill:none;fill-rule:evenodd;stroke:#000000;stroke-width:2.0px;stroke-linecap:butt;stroke-linejoin:miter;stroke-opacity:1\"/>\n",
       "<path class=\"bond-6\" d=\"M 172.485,899.802 L 183.577,906.206\" style=\"fill:none;fill-rule:evenodd;stroke:#FF0000;stroke-width:2.0px;stroke-linecap:butt;stroke-linejoin:miter;stroke-opacity:1\"/>\n",
       "<path class=\"atom-4\" d=\"M 101.737 864.925 Q 101.737 862.803, 102.785 861.618 Q 103.833 860.432, 105.793 860.432 Q 107.752 860.432, 108.8 861.618 Q 109.849 862.803, 109.849 864.925 Q 109.849 867.071, 108.788 868.294 Q 107.727 869.505, 105.793 869.505 Q 103.846 869.505, 102.785 868.294 Q 101.737 867.084, 101.737 864.925 M 105.793 868.507 Q 107.141 868.507, 107.864 867.608 Q 108.601 866.697, 108.601 864.925 Q 108.601 863.19, 107.864 862.316 Q 107.141 861.43, 105.793 861.43 Q 104.445 861.43, 103.709 862.304 Q 102.985 863.178, 102.985 864.925 Q 102.985 866.709, 103.709 867.608 Q 104.445 868.507, 105.793 868.507 \" fill=\"#FF0000\"/>\n",
       "<path class=\"atom-5\" d=\"M 128.757 911.725 Q 128.757 909.603, 129.805 908.418 Q 130.853 907.232, 132.813 907.232 Q 134.772 907.232, 135.821 908.418 Q 136.869 909.603, 136.869 911.725 Q 136.869 913.872, 135.808 915.095 Q 134.747 916.305, 132.813 916.305 Q 130.866 916.305, 129.805 915.095 Q 128.757 913.884, 128.757 911.725 M 132.813 915.307 Q 134.161 915.307, 134.885 914.408 Q 135.621 913.497, 135.621 911.725 Q 135.621 909.99, 134.885 909.117 Q 134.161 908.231, 132.813 908.231 Q 131.465 908.231, 130.729 909.104 Q 130.005 909.978, 130.005 911.725 Q 130.005 913.51, 130.729 914.408 Q 131.465 915.307, 132.813 915.307 \" fill=\"#FF0000\"/>\n",
       "<path class=\"atom-7\" d=\"M 182.797 911.725 Q 182.797 909.603, 183.845 908.418 Q 184.894 907.232, 186.853 907.232 Q 188.812 907.232, 189.861 908.418 Q 190.909 909.603, 190.909 911.725 Q 190.909 913.872, 189.848 915.095 Q 188.787 916.305, 186.853 916.305 Q 184.906 916.305, 183.845 915.095 Q 182.797 913.884, 182.797 911.725 M 186.853 915.307 Q 188.201 915.307, 188.925 914.408 Q 189.661 913.497, 189.661 911.725 Q 189.661 909.99, 188.925 909.117 Q 188.201 908.231, 186.853 908.231 Q 185.505 908.231, 184.769 909.104 Q 184.045 909.978, 184.045 911.725 Q 184.045 913.51, 184.769 914.408 Q 185.505 915.307, 186.853 915.307 \" fill=\"#FF0000\"/>\n",
       "<path class=\"bond-0\" d=\"M 228.863,890.685 L 240.308,897.292\" style=\"fill:none;fill-rule:evenodd;stroke:#0000FF;stroke-width:2.0px;stroke-linecap:butt;stroke-linejoin:miter;stroke-opacity:1\"/>\n",
       "<path class=\"bond-0\" d=\"M 240.308,897.292 L 251.753,903.9\" style=\"fill:none;fill-rule:evenodd;stroke:#000000;stroke-width:2.0px;stroke-linecap:butt;stroke-linejoin:miter;stroke-opacity:1\"/>\n",
       "<path class=\"bond-1\" d=\"M 251.753,903.9 L 278.773,888.3\" style=\"fill:none;fill-rule:evenodd;stroke:#000000;stroke-width:2.0px;stroke-linecap:butt;stroke-linejoin:miter;stroke-opacity:1\"/>\n",
       "<path class=\"bond-2\" d=\"M 278.773,888.3 L 305.793,903.9\" style=\"fill:none;fill-rule:evenodd;stroke:#000000;stroke-width:2.0px;stroke-linecap:butt;stroke-linejoin:miter;stroke-opacity:1\"/>\n",
       "<path class=\"bond-3\" d=\"M 302.673,903.9 L 302.673,916.876\" style=\"fill:none;fill-rule:evenodd;stroke:#000000;stroke-width:2.0px;stroke-linecap:butt;stroke-linejoin:miter;stroke-opacity:1\"/>\n",
       "<path class=\"bond-3\" d=\"M 302.673,916.876 L 302.673,929.852\" style=\"fill:none;fill-rule:evenodd;stroke:#FF0000;stroke-width:2.0px;stroke-linecap:butt;stroke-linejoin:miter;stroke-opacity:1\"/>\n",
       "<path class=\"bond-3\" d=\"M 308.913,903.9 L 308.913,916.876\" style=\"fill:none;fill-rule:evenodd;stroke:#000000;stroke-width:2.0px;stroke-linecap:butt;stroke-linejoin:miter;stroke-opacity:1\"/>\n",
       "<path class=\"bond-3\" d=\"M 308.913,916.876 L 308.913,929.852\" style=\"fill:none;fill-rule:evenodd;stroke:#FF0000;stroke-width:2.0px;stroke-linecap:butt;stroke-linejoin:miter;stroke-opacity:1\"/>\n",
       "<path class=\"bond-4\" d=\"M 305.793,903.9 L 316.885,897.496\" style=\"fill:none;fill-rule:evenodd;stroke:#000000;stroke-width:2.0px;stroke-linecap:butt;stroke-linejoin:miter;stroke-opacity:1\"/>\n",
       "<path class=\"bond-4\" d=\"M 316.885,897.496 L 327.977,891.092\" style=\"fill:none;fill-rule:evenodd;stroke:#FF0000;stroke-width:2.0px;stroke-linecap:butt;stroke-linejoin:miter;stroke-opacity:1\"/>\n",
       "<path class=\"bond-5\" d=\"M 337.649,891.092 L 348.741,897.496\" style=\"fill:none;fill-rule:evenodd;stroke:#FF0000;stroke-width:2.0px;stroke-linecap:butt;stroke-linejoin:miter;stroke-opacity:1\"/>\n",
       "<path class=\"bond-5\" d=\"M 348.741,897.496 L 359.833,903.9\" style=\"fill:none;fill-rule:evenodd;stroke:#000000;stroke-width:2.0px;stroke-linecap:butt;stroke-linejoin:miter;stroke-opacity:1\"/>\n",
       "<path class=\"bond-6\" d=\"M 361.393,906.602 L 372.485,900.198\" style=\"fill:none;fill-rule:evenodd;stroke:#000000;stroke-width:2.0px;stroke-linecap:butt;stroke-linejoin:miter;stroke-opacity:1\"/>\n",
       "<path class=\"bond-6\" d=\"M 372.485,900.198 L 383.577,893.794\" style=\"fill:none;fill-rule:evenodd;stroke:#FF0000;stroke-width:2.0px;stroke-linecap:butt;stroke-linejoin:miter;stroke-opacity:1\"/>\n",
       "<path class=\"bond-6\" d=\"M 358.273,901.198 L 369.365,894.794\" style=\"fill:none;fill-rule:evenodd;stroke:#000000;stroke-width:2.0px;stroke-linecap:butt;stroke-linejoin:miter;stroke-opacity:1\"/>\n",
       "<path class=\"bond-6\" d=\"M 369.365,894.794 L 380.457,888.39\" style=\"fill:none;fill-rule:evenodd;stroke:#FF0000;stroke-width:2.0px;stroke-linecap:butt;stroke-linejoin:miter;stroke-opacity:1\"/>\n",
       "<path class=\"atom-0\" d=\"M 209.091 883.882 L 210.289 883.882 L 210.289 887.639 L 214.807 887.639 L 214.807 883.882 L 216.005 883.882 L 216.005 892.718 L 214.807 892.718 L 214.807 888.637 L 210.289 888.637 L 210.289 892.718 L 209.091 892.718 L 209.091 883.882 \" fill=\"#0000FF\"/>\n",
       "<path class=\"atom-0\" d=\"M 216.433 892.408 Q 216.647 891.856, 217.158 891.551 Q 217.669 891.238, 218.377 891.238 Q 219.258 891.238, 219.753 891.716 Q 220.247 892.194, 220.247 893.042 Q 220.247 893.907, 219.604 894.714 Q 218.97 895.521, 217.652 896.477 L 220.346 896.477 L 220.346 897.136 L 216.417 897.136 L 216.417 896.584 Q 217.504 895.81, 218.146 895.233 Q 218.797 894.657, 219.11 894.138 Q 219.423 893.619, 219.423 893.083 Q 219.423 892.523, 219.143 892.21 Q 218.863 891.897, 218.377 891.897 Q 217.908 891.897, 217.595 892.087 Q 217.282 892.276, 217.059 892.696 L 216.433 892.408 \" fill=\"#0000FF\"/>\n",
       "<path class=\"atom-0\" d=\"M 222.779 883.882 L 225.675 888.562 Q 225.962 889.024, 226.423 889.86 Q 226.885 890.696, 226.91 890.746 L 226.91 883.882 L 228.083 883.882 L 228.083 892.718 L 226.873 892.718 L 223.765 887.601 Q 223.403 887.002, 223.016 886.316 Q 222.642 885.629, 222.53 885.417 L 222.53 892.718 L 221.382 892.718 L 221.382 883.882 L 222.779 883.882 \" fill=\"#0000FF\"/>\n",
       "<path class=\"atom-4\" d=\"M 301.737 935.125 Q 301.737 933.004, 302.785 931.818 Q 303.833 930.632, 305.793 930.632 Q 307.752 930.632, 308.8 931.818 Q 309.849 933.004, 309.849 935.125 Q 309.849 937.272, 308.788 938.495 Q 307.727 939.705, 305.793 939.705 Q 303.846 939.705, 302.785 938.495 Q 301.737 937.284, 301.737 935.125 M 305.793 938.707 Q 307.141 938.707, 307.864 937.808 Q 308.601 936.897, 308.601 935.125 Q 308.601 933.39, 307.864 932.517 Q 307.141 931.631, 305.793 931.631 Q 304.445 931.631, 303.709 932.504 Q 302.985 933.378, 302.985 935.125 Q 302.985 936.91, 303.709 937.808 Q 304.445 938.707, 305.793 938.707 \" fill=\"#FF0000\"/>\n",
       "<path class=\"atom-5\" d=\"M 328.757 888.325 Q 328.757 886.203, 329.805 885.018 Q 330.853 883.832, 332.813 883.832 Q 334.772 883.832, 335.821 885.018 Q 336.869 886.203, 336.869 888.325 Q 336.869 890.471, 335.808 891.695 Q 334.747 892.905, 332.813 892.905 Q 330.866 892.905, 329.805 891.695 Q 328.757 890.484, 328.757 888.325 M 332.813 891.907 Q 334.161 891.907, 334.885 891.008 Q 335.621 890.097, 335.621 888.325 Q 335.621 886.59, 334.885 885.717 Q 334.161 884.83, 332.813 884.83 Q 331.465 884.83, 330.729 885.704 Q 330.005 886.578, 330.005 888.325 Q 330.005 890.11, 330.729 891.008 Q 331.465 891.907, 332.813 891.907 \" fill=\"#FF0000\"/>\n",
       "<path class=\"atom-7\" d=\"M 382.797 888.325 Q 382.797 886.203, 383.845 885.018 Q 384.894 883.832, 386.853 883.832 Q 388.812 883.832, 389.861 885.018 Q 390.909 886.203, 390.909 888.325 Q 390.909 890.471, 389.848 891.695 Q 388.787 892.905, 386.853 892.905 Q 384.906 892.905, 383.845 891.695 Q 382.797 890.484, 382.797 888.325 M 386.853 891.907 Q 388.201 891.907, 388.925 891.008 Q 389.661 890.097, 389.661 888.325 Q 389.661 886.59, 388.925 885.717 Q 388.201 884.83, 386.853 884.83 Q 385.505 884.83, 384.769 885.704 Q 384.045 886.578, 384.045 888.325 Q 384.045 890.11, 384.769 891.008 Q 385.505 891.907, 386.853 891.907 \" fill=\"#FF0000\"/>\n",
       "<path class=\"bond-0\" d=\"M 552.986,880.109 L 528.451,899.382\" style=\"fill:none;fill-rule:evenodd;stroke:#000000;stroke-width:2.0px;stroke-linecap:butt;stroke-linejoin:miter;stroke-opacity:1\"/>\n",
       "<path class=\"bond-1\" d=\"M 525.362,899.824 L 527.198,912.643\" style=\"fill:none;fill-rule:evenodd;stroke:#000000;stroke-width:2.0px;stroke-linecap:butt;stroke-linejoin:miter;stroke-opacity:1\"/>\n",
       "<path class=\"bond-1\" d=\"M 527.198,912.643 L 529.034,925.461\" style=\"fill:none;fill-rule:evenodd;stroke:#FF0000;stroke-width:2.0px;stroke-linecap:butt;stroke-linejoin:miter;stroke-opacity:1\"/>\n",
       "<path class=\"bond-1\" d=\"M 531.539,898.939 L 533.375,911.758\" style=\"fill:none;fill-rule:evenodd;stroke:#000000;stroke-width:2.0px;stroke-linecap:butt;stroke-linejoin:miter;stroke-opacity:1\"/>\n",
       "<path class=\"bond-1\" d=\"M 533.375,911.758 L 535.211,924.576\" style=\"fill:none;fill-rule:evenodd;stroke:#FF0000;stroke-width:2.0px;stroke-linecap:butt;stroke-linejoin:miter;stroke-opacity:1\"/>\n",
       "<path class=\"bond-2\" d=\"M 528.451,899.382 L 516.389,894.545\" style=\"fill:none;fill-rule:evenodd;stroke:#000000;stroke-width:2.0px;stroke-linecap:butt;stroke-linejoin:miter;stroke-opacity:1\"/>\n",
       "<path class=\"bond-2\" d=\"M 516.389,894.545 L 504.328,889.709\" style=\"fill:none;fill-rule:evenodd;stroke:#FF0000;stroke-width:2.0px;stroke-linecap:butt;stroke-linejoin:miter;stroke-opacity:1\"/>\n",
       "<path class=\"bond-3\" d=\"M 494.656,891.568 L 484.806,899.306\" style=\"fill:none;fill-rule:evenodd;stroke:#FF0000;stroke-width:2.0px;stroke-linecap:butt;stroke-linejoin:miter;stroke-opacity:1\"/>\n",
       "<path class=\"bond-3\" d=\"M 484.806,899.306 L 474.956,907.043\" style=\"fill:none;fill-rule:evenodd;stroke:#000000;stroke-width:2.0px;stroke-linecap:butt;stroke-linejoin:miter;stroke-opacity:1\"/>\n",
       "<path class=\"bond-4\" d=\"M 476.117,904.147 L 464.056,899.31\" style=\"fill:none;fill-rule:evenodd;stroke:#000000;stroke-width:2.0px;stroke-linecap:butt;stroke-linejoin:miter;stroke-opacity:1\"/>\n",
       "<path class=\"bond-4\" d=\"M 464.056,899.31 L 451.995,894.474\" style=\"fill:none;fill-rule:evenodd;stroke:#FF0000;stroke-width:2.0px;stroke-linecap:butt;stroke-linejoin:miter;stroke-opacity:1\"/>\n",
       "<path class=\"bond-4\" d=\"M 473.795,909.939 L 461.734,905.102\" style=\"fill:none;fill-rule:evenodd;stroke:#000000;stroke-width:2.0px;stroke-linecap:butt;stroke-linejoin:miter;stroke-opacity:1\"/>\n",
       "<path class=\"bond-4\" d=\"M 461.734,905.102 L 449.672,900.266\" style=\"fill:none;fill-rule:evenodd;stroke:#FF0000;stroke-width:2.0px;stroke-linecap:butt;stroke-linejoin:miter;stroke-opacity:1\"/>\n",
       "<path class=\"atom-2\" d=\"M 528.818 930.292 Q 528.818 928.17, 529.866 926.984 Q 530.914 925.799, 532.874 925.799 Q 534.833 925.799, 535.882 926.984 Q 536.93 928.17, 536.93 930.292 Q 536.93 932.438, 535.869 933.661 Q 534.808 934.872, 532.874 934.872 Q 530.927 934.872, 529.866 933.661 Q 528.818 932.451, 528.818 930.292 M 532.874 933.873 Q 534.222 933.873, 534.946 932.975 Q 535.682 932.064, 535.682 930.292 Q 535.682 928.557, 534.946 927.683 Q 534.222 926.797, 532.874 926.797 Q 531.526 926.797, 530.79 927.671 Q 530.066 928.544, 530.066 930.292 Q 530.066 932.076, 530.79 932.975 Q 531.526 933.873, 532.874 933.873 \" fill=\"#FF0000\"/>\n",
       "<path class=\"atom-3\" d=\"M 495.436 887.795 Q 495.436 885.673, 496.484 884.487 Q 497.533 883.302, 499.492 883.302 Q 501.451 883.302, 502.5 884.487 Q 503.548 885.673, 503.548 887.795 Q 503.548 889.941, 502.487 891.164 Q 501.426 892.375, 499.492 892.375 Q 497.545 892.375, 496.484 891.164 Q 495.436 889.954, 495.436 887.795 M 499.492 891.376 Q 500.84 891.376, 501.564 890.478 Q 502.3 889.567, 502.3 887.795 Q 502.3 886.06, 501.564 885.186 Q 500.84 884.3, 499.492 884.3 Q 498.144 884.3, 497.408 885.174 Q 496.684 886.047, 496.684 887.795 Q 496.684 889.579, 497.408 890.478 Q 498.144 891.376, 499.492 891.376 \" fill=\"#FF0000\"/>\n",
       "<path class=\"atom-5\" d=\"M 441.941 895.456 Q 441.941 893.334, 442.99 892.149 Q 444.038 890.963, 445.997 890.963 Q 447.957 890.963, 449.005 892.149 Q 450.053 893.334, 450.053 895.456 Q 450.053 897.602, 448.993 898.825 Q 447.932 900.036, 445.997 900.036 Q 444.051 900.036, 442.99 898.825 Q 441.941 897.615, 441.941 895.456 M 445.997 899.038 Q 447.345 899.038, 448.069 898.139 Q 448.805 897.228, 448.805 895.456 Q 448.805 893.721, 448.069 892.847 Q 447.345 891.961, 445.997 891.961 Q 444.65 891.961, 443.913 892.835 Q 443.189 893.709, 443.189 895.456 Q 443.189 897.24, 443.913 898.139 Q 444.65 899.038, 445.997 899.038 \" fill=\"#FF0000\"/>\n",
       "</svg>"
      ],
      "text/plain": [
       "<IPython.core.display.SVG object>"
      ]
     },
     "execution_count": 43,
     "metadata": {},
     "output_type": "execute_result"
    }
   ],
   "source": [
    "molecules = [Chem.MolFromSmiles(smi) for smi in smiles_hits]\n",
    "\n",
    "Draw.MolsToGridImage(molecules, subImgSize=(200,200), molsPerRow=3, useSVG=True)"
   ]
  },
  {
   "cell_type": "markdown",
   "id": "0d5f2ac4",
   "metadata": {},
   "source": [
    "Let us now try to design molecules with a RON design specification of 80:"
   ]
  },
  {
   "cell_type": "code",
   "execution_count": 44,
   "id": "b83f8278-8d88-4344-b544-5387da264df8",
   "metadata": {},
   "outputs": [],
   "source": [
    "spec = 80\n",
    "f = lambda smi: F(smi, mcw, setpoint=spec)"
   ]
  },
  {
   "cell_type": "code",
   "execution_count": 45,
   "id": "2d35b812-b525-480f-ab0a-626ee7067958",
   "metadata": {},
   "outputs": [],
   "source": [
    "%%capture\n",
    "smiles_hits, Y_hits_pred = library_evolver(\n",
    "    smiles, \n",
    "    f, \n",
    "    mcw=None, \n",
    "    spec=0., \n",
    "    n_hits=15, \n",
    "    n_rounds=8\n",
    ")"
   ]
  },
  {
   "cell_type": "code",
   "execution_count": 46,
   "id": "084b3f14-1174-4b2b-a5df-85ada1f97e7f",
   "metadata": {},
   "outputs": [],
   "source": [
    "X = mcw.transform(smiles_hits)\n",
    "Y_hits_pred, Y_hits_pred_std = regr.predict(X, return_std=True)"
   ]
  },
  {
   "cell_type": "code",
   "execution_count": 47,
   "id": "42e7d9fb-f3f5-45d3-b8f7-82bc2794b9d4",
   "metadata": {
    "collapsed": true,
    "jupyter": {
     "outputs_hidden": true
    },
    "tags": []
   },
   "outputs": [
    {
     "name": "stdout",
     "output_type": "stream",
     "text": [
      "['CCCCCC(C)=O', 'COCCCCCCCC(C)(C)CCCCCOC', 'CC(C)C1CCCC1', 'CCCNCCC(C)=O', 'CCCCCCOCCC(C)=O', 'CCCCCCCCCCCOCCCCOOCCCC', 'C=COCCCCCCCCCCCCOCCNCCCCCCC', 'CCOCCNCCCCCC=CCCCCCCCCCCCO', 'CCCCCCCCC(C)(C)CCCC', 'CCCCCCCCCC(C)(C)CC', 'CCCCCCNCCCCCCCCCCCCCCCCCCOCCO', 'CCCCCCCCC(C)(C)CC', 'C=C(C)N(C)CCCCCCCCCCOC', 'CCCCCCCCC(C)(C)CCC', 'CCCCCC(C)(C)CCCC']\n",
      "[79.45809235 80.20870038 80.90784416 79.57250691 80.67912342 79.52638991\n",
      " 80.08202726 80.23759534 80.56071208 80.56071208 79.3112282  80.56071208\n",
      " 80.29884924 80.56071208 80.56071208]\n",
      "[3.50628522 3.47115958 3.35388465 3.49507998 3.49835705 3.40729484\n",
      " 3.36418814 3.297586   3.71482301 3.71482301 3.41749572 3.71482301\n",
      " 3.48921963 3.71482301 3.71482301]\n",
      "[1.6529918467984377, 2.124963799045675, 1.8341579806645694, 2.0512356995332492, 1.9242660369323126, 2.1149448468668073, 2.3698438619332958, 2.341330055986969, 2.0067402482598276, 2.008963986501854, 2.1007725197877587, 2.0195206291297065, 2.265723537650704, 2.0357927314411253, 2.0406506960232225]\n"
     ]
    }
   ],
   "source": [
    "print(smiles_hits)\n",
    "print(Y_hits_pred)\n",
    "print(Y_hits_pred_std)\n",
    "print(SAscore_calc(smiles_hits))"
   ]
  },
  {
   "cell_type": "code",
   "execution_count": 48,
   "id": "f9eca84d-6197-4edf-a297-9067e75739d2",
   "metadata": {
    "scrolled": true
   },
   "outputs": [
    {
     "data": {
      "image/svg+xml": [
       "<svg xmlns=\"http://www.w3.org/2000/svg\" xmlns:rdkit=\"http://www.rdkit.org/xml\" xmlns:xlink=\"http://www.w3.org/1999/xlink\" version=\"1.1\" baseProfile=\"full\" xml:space=\"preserve\" width=\"600px\" height=\"1000px\" viewBox=\"0 0 600 1000\">\n",
       "<!-- END OF HEADER -->\n",
       "<rect style=\"opacity:1.0;fill:#FFFFFF;stroke:none\" width=\"600\" height=\"1000\" x=\"0\" y=\"0\"> </rect>\n",
       "<rect style=\"opacity:1.0;fill:#FFFFFF;stroke:none\" width=\"600\" height=\"1000\" x=\"0\" y=\"0\"> </rect>\n",
       "<rect style=\"opacity:1.0;fill:#FFFFFF;stroke:none\" width=\"600\" height=\"1000\" x=\"0\" y=\"0\"> </rect>\n",
       "<rect style=\"opacity:1.0;fill:#FFFFFF;stroke:none\" width=\"600\" height=\"1000\" x=\"0\" y=\"0\"> </rect>\n",
       "<rect style=\"opacity:1.0;fill:#FFFFFF;stroke:none\" width=\"600\" height=\"1000\" x=\"0\" y=\"0\"> </rect>\n",
       "<rect style=\"opacity:1.0;fill:#FFFFFF;stroke:none\" width=\"600\" height=\"1000\" x=\"0\" y=\"0\"> </rect>\n",
       "<rect style=\"opacity:1.0;fill:#FFFFFF;stroke:none\" width=\"600\" height=\"1000\" x=\"0\" y=\"0\"> </rect>\n",
       "<rect style=\"opacity:1.0;fill:#FFFFFF;stroke:none\" width=\"600\" height=\"1000\" x=\"0\" y=\"0\"> </rect>\n",
       "<rect style=\"opacity:1.0;fill:#FFFFFF;stroke:none\" width=\"600\" height=\"1000\" x=\"0\" y=\"0\"> </rect>\n",
       "<rect style=\"opacity:1.0;fill:#FFFFFF;stroke:none\" width=\"600\" height=\"1000\" x=\"0\" y=\"0\"> </rect>\n",
       "<rect style=\"opacity:1.0;fill:#FFFFFF;stroke:none\" width=\"600\" height=\"1000\" x=\"0\" y=\"0\"> </rect>\n",
       "<rect style=\"opacity:1.0;fill:#FFFFFF;stroke:none\" width=\"600\" height=\"1000\" x=\"0\" y=\"0\"> </rect>\n",
       "<rect style=\"opacity:1.0;fill:#FFFFFF;stroke:none\" width=\"600\" height=\"1000\" x=\"0\" y=\"0\"> </rect>\n",
       "<rect style=\"opacity:1.0;fill:#FFFFFF;stroke:none\" width=\"600\" height=\"1000\" x=\"0\" y=\"0\"> </rect>\n",
       "<rect style=\"opacity:1.0;fill:#FFFFFF;stroke:none\" width=\"600\" height=\"1000\" x=\"0\" y=\"0\"> </rect>\n",
       "<rect style=\"opacity:1.0;fill:#FFFFFF;stroke:none\" width=\"600\" height=\"1000\" x=\"0\" y=\"0\"> </rect>\n",
       "<path class=\"bond-0\" d=\"M 76.7177,99.1539 L 83.3211,96.0858\" style=\"fill:none;fill-rule:evenodd;stroke:#000000;stroke-width:2.0px;stroke-linecap:butt;stroke-linejoin:miter;stroke-opacity:1\"/>\n",
       "<path class=\"bond-1\" d=\"M 83.3211,96.0858 L 89.2799,100.27\" style=\"fill:none;fill-rule:evenodd;stroke:#000000;stroke-width:2.0px;stroke-linecap:butt;stroke-linejoin:miter;stroke-opacity:1\"/>\n",
       "<path class=\"bond-2\" d=\"M 89.2799,100.27 L 95.8833,97.2023\" style=\"fill:none;fill-rule:evenodd;stroke:#000000;stroke-width:2.0px;stroke-linecap:butt;stroke-linejoin:miter;stroke-opacity:1\"/>\n",
       "<path class=\"bond-3\" d=\"M 95.8833,97.2023 L 101.842,101.387\" style=\"fill:none;fill-rule:evenodd;stroke:#000000;stroke-width:2.0px;stroke-linecap:butt;stroke-linejoin:miter;stroke-opacity:1\"/>\n",
       "<path class=\"bond-4\" d=\"M 101.842,101.387 L 108.446,98.3188\" style=\"fill:none;fill-rule:evenodd;stroke:#000000;stroke-width:2.0px;stroke-linecap:butt;stroke-linejoin:miter;stroke-opacity:1\"/>\n",
       "<path class=\"bond-5\" d=\"M 108.446,98.3188 L 114.404,102.504\" style=\"fill:none;fill-rule:evenodd;stroke:#000000;stroke-width:2.0px;stroke-linecap:butt;stroke-linejoin:miter;stroke-opacity:1\"/>\n",
       "<path class=\"bond-6\" d=\"M 109.171,98.3833 L 109.387,95.9549\" style=\"fill:none;fill-rule:evenodd;stroke:#000000;stroke-width:2.0px;stroke-linecap:butt;stroke-linejoin:miter;stroke-opacity:1\"/>\n",
       "<path class=\"bond-6\" d=\"M 109.387,95.9549 L 109.603,93.5265\" style=\"fill:none;fill-rule:evenodd;stroke:#FF0000;stroke-width:2.0px;stroke-linecap:butt;stroke-linejoin:miter;stroke-opacity:1\"/>\n",
       "<path class=\"bond-6\" d=\"M 107.72,98.2544 L 107.936,95.826\" style=\"fill:none;fill-rule:evenodd;stroke:#000000;stroke-width:2.0px;stroke-linecap:butt;stroke-linejoin:miter;stroke-opacity:1\"/>\n",
       "<path class=\"bond-6\" d=\"M 107.936,95.826 L 108.152,93.3976\" style=\"fill:none;fill-rule:evenodd;stroke:#FF0000;stroke-width:2.0px;stroke-linecap:butt;stroke-linejoin:miter;stroke-opacity:1\"/>\n",
       "<path class=\"atom-7\" d=\"M 107.14 91.078 Q 107.14 90.058, 107.644 89.488 Q 108.148 88.918, 109.09 88.918 Q 110.032 88.918, 110.536 89.488 Q 111.04 90.058, 111.04 91.078 Q 111.04 92.11, 110.53 92.698 Q 110.02 93.28, 109.09 93.28 Q 108.154 93.28, 107.644 92.698 Q 107.14 92.116, 107.14 91.078 M 109.09 92.8 Q 109.738 92.8, 110.086 92.368 Q 110.44 91.93, 110.44 91.078 Q 110.44 90.244, 110.086 89.824 Q 109.738 89.398, 109.09 89.398 Q 108.442 89.398, 108.088 89.818 Q 107.74 90.238, 107.74 91.078 Q 107.74 91.936, 108.088 92.368 Q 108.442 92.8, 109.09 92.8 \" fill=\"#FF0000\"/>\n",
       "<path class=\"bond-0\" d=\"M 249.994,89.1191 L 252.544,88.8191\" style=\"fill:none;fill-rule:evenodd;stroke:#000000;stroke-width:2.0px;stroke-linecap:butt;stroke-linejoin:miter;stroke-opacity:1\"/>\n",
       "<path class=\"bond-0\" d=\"M 252.544,88.8191 L 255.093,88.5191\" style=\"fill:none;fill-rule:evenodd;stroke:#FF0000;stroke-width:2.0px;stroke-linecap:butt;stroke-linejoin:miter;stroke-opacity:1\"/>\n",
       "<path class=\"bond-1\" d=\"M 259.012,90.6643 L 260.295,92.3849\" style=\"fill:none;fill-rule:evenodd;stroke:#FF0000;stroke-width:2.0px;stroke-linecap:butt;stroke-linejoin:miter;stroke-opacity:1\"/>\n",
       "<path class=\"bond-1\" d=\"M 260.295,92.3849 L 261.578,94.1055\" style=\"fill:none;fill-rule:evenodd;stroke:#000000;stroke-width:2.0px;stroke-linecap:butt;stroke-linejoin:miter;stroke-opacity:1\"/>\n",
       "<path class=\"bond-2\" d=\"M 261.578,94.1055 L 268.81,93.2547\" style=\"fill:none;fill-rule:evenodd;stroke:#000000;stroke-width:2.0px;stroke-linecap:butt;stroke-linejoin:miter;stroke-opacity:1\"/>\n",
       "<path class=\"bond-3\" d=\"M 268.81,93.2547 L 273.162,99.092\" style=\"fill:none;fill-rule:evenodd;stroke:#000000;stroke-width:2.0px;stroke-linecap:butt;stroke-linejoin:miter;stroke-opacity:1\"/>\n",
       "<path class=\"bond-4\" d=\"M 273.162,99.092 L 280.394,98.2411\" style=\"fill:none;fill-rule:evenodd;stroke:#000000;stroke-width:2.0px;stroke-linecap:butt;stroke-linejoin:miter;stroke-opacity:1\"/>\n",
       "<path class=\"bond-5\" d=\"M 280.394,98.2411 L 284.746,104.078\" style=\"fill:none;fill-rule:evenodd;stroke:#000000;stroke-width:2.0px;stroke-linecap:butt;stroke-linejoin:miter;stroke-opacity:1\"/>\n",
       "<path class=\"bond-6\" d=\"M 284.746,104.078 L 291.978,103.228\" style=\"fill:none;fill-rule:evenodd;stroke:#000000;stroke-width:2.0px;stroke-linecap:butt;stroke-linejoin:miter;stroke-opacity:1\"/>\n",
       "<path class=\"bond-7\" d=\"M 291.978,103.228 L 296.33,109.065\" style=\"fill:none;fill-rule:evenodd;stroke:#000000;stroke-width:2.0px;stroke-linecap:butt;stroke-linejoin:miter;stroke-opacity:1\"/>\n",
       "<path class=\"bond-8\" d=\"M 296.33,109.065 L 303.562,108.214\" style=\"fill:none;fill-rule:evenodd;stroke:#000000;stroke-width:2.0px;stroke-linecap:butt;stroke-linejoin:miter;stroke-opacity:1\"/>\n",
       "<path class=\"bond-9\" d=\"M 303.562,108.214 L 302.711,100.982\" style=\"fill:none;fill-rule:evenodd;stroke:#000000;stroke-width:2.0px;stroke-linecap:butt;stroke-linejoin:miter;stroke-opacity:1\"/>\n",
       "<path class=\"bond-10\" d=\"M 303.562,108.214 L 304.413,115.445\" style=\"fill:none;fill-rule:evenodd;stroke:#000000;stroke-width:2.0px;stroke-linecap:butt;stroke-linejoin:miter;stroke-opacity:1\"/>\n",
       "<path class=\"bond-11\" d=\"M 303.562,108.214 L 310.793,107.363\" style=\"fill:none;fill-rule:evenodd;stroke:#000000;stroke-width:2.0px;stroke-linecap:butt;stroke-linejoin:miter;stroke-opacity:1\"/>\n",
       "<path class=\"bond-12\" d=\"M 310.793,107.363 L 313.672,100.675\" style=\"fill:none;fill-rule:evenodd;stroke:#000000;stroke-width:2.0px;stroke-linecap:butt;stroke-linejoin:miter;stroke-opacity:1\"/>\n",
       "<path class=\"bond-13\" d=\"M 313.672,100.675 L 320.904,99.8242\" style=\"fill:none;fill-rule:evenodd;stroke:#000000;stroke-width:2.0px;stroke-linecap:butt;stroke-linejoin:miter;stroke-opacity:1\"/>\n",
       "<path class=\"bond-14\" d=\"M 320.904,99.8242 L 323.783,93.1361\" style=\"fill:none;fill-rule:evenodd;stroke:#000000;stroke-width:2.0px;stroke-linecap:butt;stroke-linejoin:miter;stroke-opacity:1\"/>\n",
       "<path class=\"bond-15\" d=\"M 323.783,93.1361 L 331.014,92.2853\" style=\"fill:none;fill-rule:evenodd;stroke:#000000;stroke-width:2.0px;stroke-linecap:butt;stroke-linejoin:miter;stroke-opacity:1\"/>\n",
       "<path class=\"bond-16\" d=\"M 331.014,92.2853 L 331.938,90.1393\" style=\"fill:none;fill-rule:evenodd;stroke:#000000;stroke-width:2.0px;stroke-linecap:butt;stroke-linejoin:miter;stroke-opacity:1\"/>\n",
       "<path class=\"bond-16\" d=\"M 331.938,90.1393 L 332.862,87.9933\" style=\"fill:none;fill-rule:evenodd;stroke:#FF0000;stroke-width:2.0px;stroke-linecap:butt;stroke-linejoin:miter;stroke-opacity:1\"/>\n",
       "<path class=\"bond-17\" d=\"M 336.025,85.3464 L 338.575,85.0464\" style=\"fill:none;fill-rule:evenodd;stroke:#FF0000;stroke-width:2.0px;stroke-linecap:butt;stroke-linejoin:miter;stroke-opacity:1\"/>\n",
       "<path class=\"bond-17\" d=\"M 338.575,85.0464 L 341.125,84.7464\" style=\"fill:none;fill-rule:evenodd;stroke:#000000;stroke-width:2.0px;stroke-linecap:butt;stroke-linejoin:miter;stroke-opacity:1\"/>\n",
       "<path class=\"atom-1\" d=\"M 255.276 88.2803 Q 255.276 87.2603, 255.78 86.6903 Q 256.284 86.1203, 257.226 86.1203 Q 258.168 86.1203, 258.672 86.6903 Q 259.176 87.2603, 259.176 88.2803 Q 259.176 89.3123, 258.666 89.9003 Q 258.156 90.4823, 257.226 90.4823 Q 256.29 90.4823, 255.78 89.9003 Q 255.276 89.3183, 255.276 88.2803 M 257.226 90.0023 Q 257.874 90.0023, 258.222 89.5703 Q 258.576 89.1323, 258.576 88.2803 Q 258.576 87.4463, 258.222 87.0263 Q 257.874 86.6003, 257.226 86.6003 Q 256.578 86.6003, 256.224 87.0203 Q 255.876 87.4403, 255.876 88.2803 Q 255.876 89.1383, 256.224 89.5703 Q 256.578 90.0023, 257.226 90.0023 \" fill=\"#FF0000\"/>\n",
       "<path class=\"atom-17\" d=\"M 331.943 85.6092 Q 331.943 84.5892, 332.447 84.0192 Q 332.951 83.4492, 333.893 83.4492 Q 334.835 83.4492, 335.339 84.0192 Q 335.843 84.5892, 335.843 85.6092 Q 335.843 86.6412, 335.333 87.2292 Q 334.823 87.8112, 333.893 87.8112 Q 332.957 87.8112, 332.447 87.2292 Q 331.943 86.6472, 331.943 85.6092 M 333.893 87.3312 Q 334.541 87.3312, 334.889 86.8992 Q 335.243 86.4612, 335.243 85.6092 Q 335.243 84.7752, 334.889 84.3552 Q 334.541 83.9292, 333.893 83.9292 Q 333.245 83.9292, 332.891 84.3492 Q 332.543 84.7692, 332.543 85.6092 Q 332.543 86.4672, 332.891 86.8992 Q 333.245 87.3312, 333.893 87.3312 \" fill=\"#FF0000\"/>\n",
       "<path class=\"bond-0\" d=\"M 508.526,104.554 L 504.885,98.2485\" style=\"fill:none;fill-rule:evenodd;stroke:#000000;stroke-width:2.0px;stroke-linecap:butt;stroke-linejoin:miter;stroke-opacity:1\"/>\n",
       "<path class=\"bond-1\" d=\"M 504.885,98.2485 L 508.526,91.9426\" style=\"fill:none;fill-rule:evenodd;stroke:#000000;stroke-width:2.0px;stroke-linecap:butt;stroke-linejoin:miter;stroke-opacity:1\"/>\n",
       "<path class=\"bond-2\" d=\"M 504.885,98.2485 L 497.604,98.2485\" style=\"fill:none;fill-rule:evenodd;stroke:#000000;stroke-width:2.0px;stroke-linecap:butt;stroke-linejoin:miter;stroke-opacity:1\"/>\n",
       "<path class=\"bond-3\" d=\"M 497.604,98.2485 L 493.324,92.3577\" style=\"fill:none;fill-rule:evenodd;stroke:#000000;stroke-width:2.0px;stroke-linecap:butt;stroke-linejoin:miter;stroke-opacity:1\"/>\n",
       "<path class=\"bond-7\" d=\"M 497.604,98.2485 L 493.324,104.139\" style=\"fill:none;fill-rule:evenodd;stroke:#000000;stroke-width:2.0px;stroke-linecap:butt;stroke-linejoin:miter;stroke-opacity:1\"/>\n",
       "<path class=\"bond-4\" d=\"M 493.324,92.3577 L 486.399,94.6078\" style=\"fill:none;fill-rule:evenodd;stroke:#000000;stroke-width:2.0px;stroke-linecap:butt;stroke-linejoin:miter;stroke-opacity:1\"/>\n",
       "<path class=\"bond-5\" d=\"M 486.399,94.6078 L 486.399,101.889\" style=\"fill:none;fill-rule:evenodd;stroke:#000000;stroke-width:2.0px;stroke-linecap:butt;stroke-linejoin:miter;stroke-opacity:1\"/>\n",
       "<path class=\"bond-6\" d=\"M 486.399,101.889 L 493.324,104.139\" style=\"fill:none;fill-rule:evenodd;stroke:#000000;stroke-width:2.0px;stroke-linecap:butt;stroke-linejoin:miter;stroke-opacity:1\"/>\n",
       "<path class=\"bond-0\" d=\"M 121.134,296.358 L 115,300.281\" style=\"fill:none;fill-rule:evenodd;stroke:#000000;stroke-width:2.0px;stroke-linecap:butt;stroke-linejoin:miter;stroke-opacity:1\"/>\n",
       "<path class=\"bond-1\" d=\"M 115,300.281 L 108.535,296.931\" style=\"fill:none;fill-rule:evenodd;stroke:#000000;stroke-width:2.0px;stroke-linecap:butt;stroke-linejoin:miter;stroke-opacity:1\"/>\n",
       "<path class=\"bond-2\" d=\"M 108.535,296.931 L 106.365,298.319\" style=\"fill:none;fill-rule:evenodd;stroke:#000000;stroke-width:2.0px;stroke-linecap:butt;stroke-linejoin:miter;stroke-opacity:1\"/>\n",
       "<path class=\"bond-2\" d=\"M 106.365,298.319 L 104.194,299.707\" style=\"fill:none;fill-rule:evenodd;stroke:#0000FF;stroke-width:2.0px;stroke-linecap:butt;stroke-linejoin:miter;stroke-opacity:1\"/>\n",
       "<path class=\"bond-3\" d=\"M 100.608,299.925 L 98.2723,298.715\" style=\"fill:none;fill-rule:evenodd;stroke:#0000FF;stroke-width:2.0px;stroke-linecap:butt;stroke-linejoin:miter;stroke-opacity:1\"/>\n",
       "<path class=\"bond-3\" d=\"M 98.2723,298.715 L 95.9364,297.504\" style=\"fill:none;fill-rule:evenodd;stroke:#000000;stroke-width:2.0px;stroke-linecap:butt;stroke-linejoin:miter;stroke-opacity:1\"/>\n",
       "<path class=\"bond-4\" d=\"M 95.9364,297.504 L 89.8025,301.427\" style=\"fill:none;fill-rule:evenodd;stroke:#000000;stroke-width:2.0px;stroke-linecap:butt;stroke-linejoin:miter;stroke-opacity:1\"/>\n",
       "<path class=\"bond-5\" d=\"M 89.8025,301.427 L 83.3377,298.077\" style=\"fill:none;fill-rule:evenodd;stroke:#000000;stroke-width:2.0px;stroke-linecap:butt;stroke-linejoin:miter;stroke-opacity:1\"/>\n",
       "<path class=\"bond-6\" d=\"M 83.3377,298.077 L 77.2038,302\" style=\"fill:none;fill-rule:evenodd;stroke:#000000;stroke-width:2.0px;stroke-linecap:butt;stroke-linejoin:miter;stroke-opacity:1\"/>\n",
       "<path class=\"bond-7\" d=\"M 84.0651,298.044 L 83.9542,295.605\" style=\"fill:none;fill-rule:evenodd;stroke:#000000;stroke-width:2.0px;stroke-linecap:butt;stroke-linejoin:miter;stroke-opacity:1\"/>\n",
       "<path class=\"bond-7\" d=\"M 83.9542,295.605 L 83.8432,293.166\" style=\"fill:none;fill-rule:evenodd;stroke:#FF0000;stroke-width:2.0px;stroke-linecap:butt;stroke-linejoin:miter;stroke-opacity:1\"/>\n",
       "<path class=\"bond-7\" d=\"M 82.6103,298.11 L 82.4994,295.671\" style=\"fill:none;fill-rule:evenodd;stroke:#000000;stroke-width:2.0px;stroke-linecap:butt;stroke-linejoin:miter;stroke-opacity:1\"/>\n",
       "<path class=\"bond-7\" d=\"M 82.4994,295.671 L 82.3885,293.232\" style=\"fill:none;fill-rule:evenodd;stroke:#FF0000;stroke-width:2.0px;stroke-linecap:butt;stroke-linejoin:miter;stroke-opacity:1\"/>\n",
       "<path class=\"atom-3\" d=\"M 101.462 298.73 L 102.854 300.98 Q 102.992 301.202, 103.214 301.604 Q 103.436 302.006, 103.448 302.03 L 103.448 298.73 L 104.012 298.73 L 104.012 302.978 L 103.43 302.978 L 101.936 300.518 Q 101.762 300.23, 101.576 299.9 Q 101.396 299.57, 101.342 299.468 L 101.342 302.978 L 100.79 302.978 L 100.79 298.73 L 101.462 298.73 \" fill=\"#0000FF\"/>\n",
       "<path class=\"atom-3\" d=\"M 100.739 303.403 L 101.315 303.403 L 101.315 305.209 L 103.487 305.209 L 103.487 303.403 L 104.063 303.403 L 104.063 307.651 L 103.487 307.651 L 103.487 305.689 L 101.315 305.689 L 101.315 307.651 L 100.739 307.651 L 100.739 303.403 \" fill=\"#0000FF\"/>\n",
       "<path class=\"atom-8\" d=\"M 81.0569 290.815 Q 81.0569 289.795, 81.5609 289.225 Q 82.0649 288.655, 83.0069 288.655 Q 83.9489 288.655, 84.4529 289.225 Q 84.9569 289.795, 84.9569 290.815 Q 84.9569 291.847, 84.4469 292.435 Q 83.9369 293.017, 83.0069 293.017 Q 82.0709 293.017, 81.5609 292.435 Q 81.0569 291.853, 81.0569 290.815 M 83.0069 292.537 Q 83.6549 292.537, 84.0029 292.105 Q 84.3569 291.667, 84.3569 290.815 Q 84.3569 289.981, 84.0029 289.561 Q 83.6549 289.135, 83.0069 289.135 Q 82.3589 289.135, 82.0049 289.555 Q 81.6569 289.975, 81.6569 290.815 Q 81.6569 291.673, 82.0049 292.105 Q 82.3589 292.537, 83.0069 292.537 \" fill=\"#FF0000\"/>\n",
       "<path class=\"bond-0\" d=\"M 263.667,299.189 L 270.128,295.83\" style=\"fill:none;fill-rule:evenodd;stroke:#000000;stroke-width:2.0px;stroke-linecap:butt;stroke-linejoin:miter;stroke-opacity:1\"/>\n",
       "<path class=\"bond-1\" d=\"M 270.128,295.83 L 276.267,299.746\" style=\"fill:none;fill-rule:evenodd;stroke:#000000;stroke-width:2.0px;stroke-linecap:butt;stroke-linejoin:miter;stroke-opacity:1\"/>\n",
       "<path class=\"bond-2\" d=\"M 276.267,299.746 L 282.727,296.387\" style=\"fill:none;fill-rule:evenodd;stroke:#000000;stroke-width:2.0px;stroke-linecap:butt;stroke-linejoin:miter;stroke-opacity:1\"/>\n",
       "<path class=\"bond-3\" d=\"M 282.727,296.387 L 288.866,300.302\" style=\"fill:none;fill-rule:evenodd;stroke:#000000;stroke-width:2.0px;stroke-linecap:butt;stroke-linejoin:miter;stroke-opacity:1\"/>\n",
       "<path class=\"bond-4\" d=\"M 288.866,300.302 L 295.327,296.943\" style=\"fill:none;fill-rule:evenodd;stroke:#000000;stroke-width:2.0px;stroke-linecap:butt;stroke-linejoin:miter;stroke-opacity:1\"/>\n",
       "<path class=\"bond-5\" d=\"M 295.327,296.943 L 297.33,298.221\" style=\"fill:none;fill-rule:evenodd;stroke:#000000;stroke-width:2.0px;stroke-linecap:butt;stroke-linejoin:miter;stroke-opacity:1\"/>\n",
       "<path class=\"bond-5\" d=\"M 297.33,298.221 L 299.334,299.499\" style=\"fill:none;fill-rule:evenodd;stroke:#FF0000;stroke-width:2.0px;stroke-linecap:butt;stroke-linejoin:miter;stroke-opacity:1\"/>\n",
       "<path class=\"bond-6\" d=\"M 303.598,299.75 L 305.762,298.625\" style=\"fill:none;fill-rule:evenodd;stroke:#FF0000;stroke-width:2.0px;stroke-linecap:butt;stroke-linejoin:miter;stroke-opacity:1\"/>\n",
       "<path class=\"bond-6\" d=\"M 305.762,298.625 L 307.926,297.5\" style=\"fill:none;fill-rule:evenodd;stroke:#000000;stroke-width:2.0px;stroke-linecap:butt;stroke-linejoin:miter;stroke-opacity:1\"/>\n",
       "<path class=\"bond-7\" d=\"M 307.926,297.5 L 314.065,301.415\" style=\"fill:none;fill-rule:evenodd;stroke:#000000;stroke-width:2.0px;stroke-linecap:butt;stroke-linejoin:miter;stroke-opacity:1\"/>\n",
       "<path class=\"bond-8\" d=\"M 314.065,301.415 L 320.526,298.056\" style=\"fill:none;fill-rule:evenodd;stroke:#000000;stroke-width:2.0px;stroke-linecap:butt;stroke-linejoin:miter;stroke-opacity:1\"/>\n",
       "<path class=\"bond-9\" d=\"M 320.526,298.056 L 326.665,301.972\" style=\"fill:none;fill-rule:evenodd;stroke:#000000;stroke-width:2.0px;stroke-linecap:butt;stroke-linejoin:miter;stroke-opacity:1\"/>\n",
       "<path class=\"bond-10\" d=\"M 321.253,298.088 L 321.361,295.649\" style=\"fill:none;fill-rule:evenodd;stroke:#000000;stroke-width:2.0px;stroke-linecap:butt;stroke-linejoin:miter;stroke-opacity:1\"/>\n",
       "<path class=\"bond-10\" d=\"M 321.361,295.649 L 321.468,293.21\" style=\"fill:none;fill-rule:evenodd;stroke:#FF0000;stroke-width:2.0px;stroke-linecap:butt;stroke-linejoin:miter;stroke-opacity:1\"/>\n",
       "<path class=\"bond-10\" d=\"M 319.798,298.024 L 319.906,295.585\" style=\"fill:none;fill-rule:evenodd;stroke:#000000;stroke-width:2.0px;stroke-linecap:butt;stroke-linejoin:miter;stroke-opacity:1\"/>\n",
       "<path class=\"bond-10\" d=\"M 319.906,295.585 L 320.014,293.146\" style=\"fill:none;fill-rule:evenodd;stroke:#FF0000;stroke-width:2.0px;stroke-linecap:butt;stroke-linejoin:miter;stroke-opacity:1\"/>\n",
       "<path class=\"atom-6\" d=\"M 299.516 300.871 Q 299.516 299.851, 300.02 299.281 Q 300.524 298.711, 301.466 298.711 Q 302.408 298.711, 302.912 299.281 Q 303.416 299.851, 303.416 300.871 Q 303.416 301.903, 302.906 302.491 Q 302.396 303.073, 301.466 303.073 Q 300.53 303.073, 300.02 302.491 Q 299.516 301.909, 299.516 300.871 M 301.466 302.593 Q 302.114 302.593, 302.462 302.161 Q 302.816 301.723, 302.816 300.871 Q 302.816 300.037, 302.462 299.617 Q 302.114 299.191, 301.466 299.191 Q 300.818 299.191, 300.464 299.611 Q 300.116 300.031, 300.116 300.871 Q 300.116 301.729, 300.464 302.161 Q 300.818 302.593, 301.466 302.593 \" fill=\"#FF0000\"/>\n",
       "<path class=\"atom-11\" d=\"M 318.897 290.794 Q 318.897 289.774, 319.401 289.204 Q 319.905 288.634, 320.847 288.634 Q 321.789 288.634, 322.293 289.204 Q 322.797 289.774, 322.797 290.794 Q 322.797 291.826, 322.287 292.414 Q 321.777 292.996, 320.847 292.996 Q 319.911 292.996, 319.401 292.414 Q 318.897 291.832, 318.897 290.794 M 320.847 292.516 Q 321.495 292.516, 321.843 292.084 Q 322.197 291.646, 322.197 290.794 Q 322.197 289.96, 321.843 289.54 Q 321.495 289.114, 320.847 289.114 Q 320.199 289.114, 319.845 289.534 Q 319.497 289.954, 319.497 290.794 Q 319.497 291.652, 319.845 292.084 Q 320.199 292.516, 320.847 292.516 \" fill=\"#FF0000\"/>\n",
       "<path class=\"bond-0\" d=\"M 431.155,299.831 L 437.474,296.213\" style=\"fill:none;fill-rule:evenodd;stroke:#000000;stroke-width:2.0px;stroke-linecap:butt;stroke-linejoin:miter;stroke-opacity:1\"/>\n",
       "<path class=\"bond-1\" d=\"M 437.474,296.213 L 443.767,299.876\" style=\"fill:none;fill-rule:evenodd;stroke:#000000;stroke-width:2.0px;stroke-linecap:butt;stroke-linejoin:miter;stroke-opacity:1\"/>\n",
       "<path class=\"bond-2\" d=\"M 443.767,299.876 L 450.086,296.258\" style=\"fill:none;fill-rule:evenodd;stroke:#000000;stroke-width:2.0px;stroke-linecap:butt;stroke-linejoin:miter;stroke-opacity:1\"/>\n",
       "<path class=\"bond-3\" d=\"M 450.086,296.258 L 456.379,299.922\" style=\"fill:none;fill-rule:evenodd;stroke:#000000;stroke-width:2.0px;stroke-linecap:butt;stroke-linejoin:miter;stroke-opacity:1\"/>\n",
       "<path class=\"bond-4\" d=\"M 456.379,299.922 L 462.698,296.304\" style=\"fill:none;fill-rule:evenodd;stroke:#000000;stroke-width:2.0px;stroke-linecap:butt;stroke-linejoin:miter;stroke-opacity:1\"/>\n",
       "<path class=\"bond-5\" d=\"M 462.698,296.304 L 468.99,299.967\" style=\"fill:none;fill-rule:evenodd;stroke:#000000;stroke-width:2.0px;stroke-linecap:butt;stroke-linejoin:miter;stroke-opacity:1\"/>\n",
       "<path class=\"bond-6\" d=\"M 468.99,299.967 L 475.309,296.349\" style=\"fill:none;fill-rule:evenodd;stroke:#000000;stroke-width:2.0px;stroke-linecap:butt;stroke-linejoin:miter;stroke-opacity:1\"/>\n",
       "<path class=\"bond-7\" d=\"M 475.309,296.349 L 481.602,300.012\" style=\"fill:none;fill-rule:evenodd;stroke:#000000;stroke-width:2.0px;stroke-linecap:butt;stroke-linejoin:miter;stroke-opacity:1\"/>\n",
       "<path class=\"bond-8\" d=\"M 481.602,300.012 L 487.921,296.394\" style=\"fill:none;fill-rule:evenodd;stroke:#000000;stroke-width:2.0px;stroke-linecap:butt;stroke-linejoin:miter;stroke-opacity:1\"/>\n",
       "<path class=\"bond-9\" d=\"M 487.921,296.394 L 494.214,300.057\" style=\"fill:none;fill-rule:evenodd;stroke:#000000;stroke-width:2.0px;stroke-linecap:butt;stroke-linejoin:miter;stroke-opacity:1\"/>\n",
       "<path class=\"bond-10\" d=\"M 494.214,300.057 L 496.307,298.859\" style=\"fill:none;fill-rule:evenodd;stroke:#000000;stroke-width:2.0px;stroke-linecap:butt;stroke-linejoin:miter;stroke-opacity:1\"/>\n",
       "<path class=\"bond-10\" d=\"M 496.307,298.859 L 498.4,297.66\" style=\"fill:none;fill-rule:evenodd;stroke:#FF0000;stroke-width:2.0px;stroke-linecap:butt;stroke-linejoin:miter;stroke-opacity:1\"/>\n",
       "<path class=\"bond-11\" d=\"M 502.665,297.681 L 504.745,298.892\" style=\"fill:none;fill-rule:evenodd;stroke:#FF0000;stroke-width:2.0px;stroke-linecap:butt;stroke-linejoin:miter;stroke-opacity:1\"/>\n",
       "<path class=\"bond-11\" d=\"M 504.745,298.892 L 506.825,300.103\" style=\"fill:none;fill-rule:evenodd;stroke:#000000;stroke-width:2.0px;stroke-linecap:butt;stroke-linejoin:miter;stroke-opacity:1\"/>\n",
       "<path class=\"bond-12\" d=\"M 506.825,300.103 L 513.144,296.485\" style=\"fill:none;fill-rule:evenodd;stroke:#000000;stroke-width:2.0px;stroke-linecap:butt;stroke-linejoin:miter;stroke-opacity:1\"/>\n",
       "<path class=\"bond-13\" d=\"M 513.144,296.485 L 519.437,300.148\" style=\"fill:none;fill-rule:evenodd;stroke:#000000;stroke-width:2.0px;stroke-linecap:butt;stroke-linejoin:miter;stroke-opacity:1\"/>\n",
       "<path class=\"bond-14\" d=\"M 519.437,300.148 L 525.756,296.53\" style=\"fill:none;fill-rule:evenodd;stroke:#000000;stroke-width:2.0px;stroke-linecap:butt;stroke-linejoin:miter;stroke-opacity:1\"/>\n",
       "<path class=\"bond-15\" d=\"M 525.756,296.53 L 527.836,297.741\" style=\"fill:none;fill-rule:evenodd;stroke:#000000;stroke-width:2.0px;stroke-linecap:butt;stroke-linejoin:miter;stroke-opacity:1\"/>\n",
       "<path class=\"bond-15\" d=\"M 527.836,297.741 L 529.917,298.952\" style=\"fill:none;fill-rule:evenodd;stroke:#FF0000;stroke-width:2.0px;stroke-linecap:butt;stroke-linejoin:miter;stroke-opacity:1\"/>\n",
       "<path class=\"bond-16\" d=\"M 534.181,298.973 L 536.297,297.761\" style=\"fill:none;fill-rule:evenodd;stroke:#FF0000;stroke-width:2.0px;stroke-linecap:butt;stroke-linejoin:miter;stroke-opacity:1\"/>\n",
       "<path class=\"bond-17\" d=\"M 540.499,297.817 L 542.58,299.028\" style=\"fill:none;fill-rule:evenodd;stroke:#FF0000;stroke-width:2.0px;stroke-linecap:butt;stroke-linejoin:miter;stroke-opacity:1\"/>\n",
       "<path class=\"bond-17\" d=\"M 542.58,299.028 L 544.66,300.239\" style=\"fill:none;fill-rule:evenodd;stroke:#000000;stroke-width:2.0px;stroke-linecap:butt;stroke-linejoin:miter;stroke-opacity:1\"/>\n",
       "<path class=\"bond-18\" d=\"M 544.66,300.239 L 550.979,296.621\" style=\"fill:none;fill-rule:evenodd;stroke:#000000;stroke-width:2.0px;stroke-linecap:butt;stroke-linejoin:miter;stroke-opacity:1\"/>\n",
       "<path class=\"bond-19\" d=\"M 550.979,296.621 L 557.272,300.284\" style=\"fill:none;fill-rule:evenodd;stroke:#000000;stroke-width:2.0px;stroke-linecap:butt;stroke-linejoin:miter;stroke-opacity:1\"/>\n",
       "<path class=\"bond-20\" d=\"M 557.272,300.284 L 563.591,296.666\" style=\"fill:none;fill-rule:evenodd;stroke:#000000;stroke-width:2.0px;stroke-linecap:butt;stroke-linejoin:miter;stroke-opacity:1\"/>\n",
       "<path class=\"atom-11\" d=\"M 498.582 296.451 Q 498.582 295.431, 499.086 294.861 Q 499.59 294.291, 500.532 294.291 Q 501.474 294.291, 501.978 294.861 Q 502.482 295.431, 502.482 296.451 Q 502.482 297.483, 501.972 298.071 Q 501.462 298.653, 500.532 298.653 Q 499.596 298.653, 499.086 298.071 Q 498.582 297.489, 498.582 296.451 M 500.532 298.173 Q 501.18 298.173, 501.528 297.741 Q 501.882 297.303, 501.882 296.451 Q 501.882 295.617, 501.528 295.197 Q 501.18 294.771, 500.532 294.771 Q 499.884 294.771, 499.53 295.191 Q 499.182 295.611, 499.182 296.451 Q 499.182 297.309, 499.53 297.741 Q 499.884 298.173, 500.532 298.173 \" fill=\"#FF0000\"/>\n",
       "<path class=\"atom-16\" d=\"M 530.099 300.205 Q 530.099 299.185, 530.603 298.615 Q 531.107 298.045, 532.049 298.045 Q 532.991 298.045, 533.495 298.615 Q 533.999 299.185, 533.999 300.205 Q 533.999 301.237, 533.489 301.825 Q 532.979 302.407, 532.049 302.407 Q 531.113 302.407, 530.603 301.825 Q 530.099 301.243, 530.099 300.205 M 532.049 301.927 Q 532.697 301.927, 533.045 301.495 Q 533.399 301.057, 533.399 300.205 Q 533.399 299.371, 533.045 298.951 Q 532.697 298.525, 532.049 298.525 Q 531.401 298.525, 531.047 298.945 Q 530.699 299.365, 530.699 300.205 Q 530.699 301.063, 531.047 301.495 Q 531.401 301.927, 532.049 301.927 \" fill=\"#FF0000\"/>\n",
       "<path class=\"atom-17\" d=\"M 536.417 296.587 Q 536.417 295.567, 536.921 294.997 Q 537.425 294.427, 538.367 294.427 Q 539.309 294.427, 539.813 294.997 Q 540.317 295.567, 540.317 296.587 Q 540.317 297.619, 539.807 298.207 Q 539.297 298.789, 538.367 298.789 Q 537.431 298.789, 536.921 298.207 Q 536.417 297.625, 536.417 296.587 M 538.367 298.309 Q 539.015 298.309, 539.363 297.877 Q 539.717 297.439, 539.717 296.587 Q 539.717 295.753, 539.363 295.333 Q 539.015 294.907, 538.367 294.907 Q 537.719 294.907, 537.365 295.327 Q 537.017 295.747, 537.017 296.587 Q 537.017 297.445, 537.365 297.877 Q 537.719 298.309, 538.367 298.309 \" fill=\"#FF0000\"/>\n",
       "<path class=\"bond-0\" d=\"M 18.9077,500.498 L 25.2229,496.873\" style=\"fill:none;fill-rule:evenodd;stroke:#000000;stroke-width:2.0px;stroke-linecap:butt;stroke-linejoin:miter;stroke-opacity:1\"/>\n",
       "<path class=\"bond-0\" d=\"M 18.1828,499.235 L 24.498,495.61\" style=\"fill:none;fill-rule:evenodd;stroke:#000000;stroke-width:2.0px;stroke-linecap:butt;stroke-linejoin:miter;stroke-opacity:1\"/>\n",
       "<path class=\"bond-1\" d=\"M 24.8605,496.242 L 26.9427,497.451\" style=\"fill:none;fill-rule:evenodd;stroke:#000000;stroke-width:2.0px;stroke-linecap:butt;stroke-linejoin:miter;stroke-opacity:1\"/>\n",
       "<path class=\"bond-1\" d=\"M 26.9427,497.451 L 29.0249,498.66\" style=\"fill:none;fill-rule:evenodd;stroke:#FF0000;stroke-width:2.0px;stroke-linecap:butt;stroke-linejoin:miter;stroke-opacity:1\"/>\n",
       "<path class=\"bond-2\" d=\"M 33.289,498.675 L 35.3806,497.475\" style=\"fill:none;fill-rule:evenodd;stroke:#FF0000;stroke-width:2.0px;stroke-linecap:butt;stroke-linejoin:miter;stroke-opacity:1\"/>\n",
       "<path class=\"bond-2\" d=\"M 35.3806,497.475 L 37.4722,496.274\" style=\"fill:none;fill-rule:evenodd;stroke:#000000;stroke-width:2.0px;stroke-linecap:butt;stroke-linejoin:miter;stroke-opacity:1\"/>\n",
       "<path class=\"bond-3\" d=\"M 37.4722,496.274 L 43.7687,499.931\" style=\"fill:none;fill-rule:evenodd;stroke:#000000;stroke-width:2.0px;stroke-linecap:butt;stroke-linejoin:miter;stroke-opacity:1\"/>\n",
       "<path class=\"bond-4\" d=\"M 43.7687,499.931 L 50.0839,496.307\" style=\"fill:none;fill-rule:evenodd;stroke:#000000;stroke-width:2.0px;stroke-linecap:butt;stroke-linejoin:miter;stroke-opacity:1\"/>\n",
       "<path class=\"bond-5\" d=\"M 50.0839,496.307 L 56.3804,499.963\" style=\"fill:none;fill-rule:evenodd;stroke:#000000;stroke-width:2.0px;stroke-linecap:butt;stroke-linejoin:miter;stroke-opacity:1\"/>\n",
       "<path class=\"bond-6\" d=\"M 56.3804,499.963 L 62.6956,496.339\" style=\"fill:none;fill-rule:evenodd;stroke:#000000;stroke-width:2.0px;stroke-linecap:butt;stroke-linejoin:miter;stroke-opacity:1\"/>\n",
       "<path class=\"bond-7\" d=\"M 62.6956,496.339 L 68.9921,499.996\" style=\"fill:none;fill-rule:evenodd;stroke:#000000;stroke-width:2.0px;stroke-linecap:butt;stroke-linejoin:miter;stroke-opacity:1\"/>\n",
       "<path class=\"bond-8\" d=\"M 68.9921,499.996 L 75.3073,496.371\" style=\"fill:none;fill-rule:evenodd;stroke:#000000;stroke-width:2.0px;stroke-linecap:butt;stroke-linejoin:miter;stroke-opacity:1\"/>\n",
       "<path class=\"bond-9\" d=\"M 75.3073,496.371 L 81.6038,500.028\" style=\"fill:none;fill-rule:evenodd;stroke:#000000;stroke-width:2.0px;stroke-linecap:butt;stroke-linejoin:miter;stroke-opacity:1\"/>\n",
       "<path class=\"bond-10\" d=\"M 81.6038,500.028 L 87.919,496.404\" style=\"fill:none;fill-rule:evenodd;stroke:#000000;stroke-width:2.0px;stroke-linecap:butt;stroke-linejoin:miter;stroke-opacity:1\"/>\n",
       "<path class=\"bond-11\" d=\"M 87.919,496.404 L 94.2154,500.061\" style=\"fill:none;fill-rule:evenodd;stroke:#000000;stroke-width:2.0px;stroke-linecap:butt;stroke-linejoin:miter;stroke-opacity:1\"/>\n",
       "<path class=\"bond-12\" d=\"M 94.2154,500.061 L 100.531,496.436\" style=\"fill:none;fill-rule:evenodd;stroke:#000000;stroke-width:2.0px;stroke-linecap:butt;stroke-linejoin:miter;stroke-opacity:1\"/>\n",
       "<path class=\"bond-13\" d=\"M 100.531,496.436 L 106.827,500.093\" style=\"fill:none;fill-rule:evenodd;stroke:#000000;stroke-width:2.0px;stroke-linecap:butt;stroke-linejoin:miter;stroke-opacity:1\"/>\n",
       "<path class=\"bond-14\" d=\"M 106.827,500.093 L 108.919,498.893\" style=\"fill:none;fill-rule:evenodd;stroke:#000000;stroke-width:2.0px;stroke-linecap:butt;stroke-linejoin:miter;stroke-opacity:1\"/>\n",
       "<path class=\"bond-14\" d=\"M 108.919,498.893 L 111.01,497.692\" style=\"fill:none;fill-rule:evenodd;stroke:#FF0000;stroke-width:2.0px;stroke-linecap:butt;stroke-linejoin:miter;stroke-opacity:1\"/>\n",
       "<path class=\"bond-15\" d=\"M 115.274,497.707 L 117.357,498.916\" style=\"fill:none;fill-rule:evenodd;stroke:#FF0000;stroke-width:2.0px;stroke-linecap:butt;stroke-linejoin:miter;stroke-opacity:1\"/>\n",
       "<path class=\"bond-15\" d=\"M 117.357,498.916 L 119.439,500.126\" style=\"fill:none;fill-rule:evenodd;stroke:#000000;stroke-width:2.0px;stroke-linecap:butt;stroke-linejoin:miter;stroke-opacity:1\"/>\n",
       "<path class=\"bond-16\" d=\"M 119.439,500.126 L 125.754,496.501\" style=\"fill:none;fill-rule:evenodd;stroke:#000000;stroke-width:2.0px;stroke-linecap:butt;stroke-linejoin:miter;stroke-opacity:1\"/>\n",
       "<path class=\"bond-17\" d=\"M 125.754,496.501 L 128.006,497.809\" style=\"fill:none;fill-rule:evenodd;stroke:#000000;stroke-width:2.0px;stroke-linecap:butt;stroke-linejoin:miter;stroke-opacity:1\"/>\n",
       "<path class=\"bond-17\" d=\"M 128.006,497.809 L 130.257,499.117\" style=\"fill:none;fill-rule:evenodd;stroke:#0000FF;stroke-width:2.0px;stroke-linecap:butt;stroke-linejoin:miter;stroke-opacity:1\"/>\n",
       "<path class=\"bond-18\" d=\"M 133.844,499.129 L 136.105,497.831\" style=\"fill:none;fill-rule:evenodd;stroke:#0000FF;stroke-width:2.0px;stroke-linecap:butt;stroke-linejoin:miter;stroke-opacity:1\"/>\n",
       "<path class=\"bond-18\" d=\"M 136.105,497.831 L 138.366,496.533\" style=\"fill:none;fill-rule:evenodd;stroke:#000000;stroke-width:2.0px;stroke-linecap:butt;stroke-linejoin:miter;stroke-opacity:1\"/>\n",
       "<path class=\"bond-19\" d=\"M 138.366,496.533 L 144.662,500.19\" style=\"fill:none;fill-rule:evenodd;stroke:#000000;stroke-width:2.0px;stroke-linecap:butt;stroke-linejoin:miter;stroke-opacity:1\"/>\n",
       "<path class=\"bond-20\" d=\"M 144.662,500.19 L 150.977,496.566\" style=\"fill:none;fill-rule:evenodd;stroke:#000000;stroke-width:2.0px;stroke-linecap:butt;stroke-linejoin:miter;stroke-opacity:1\"/>\n",
       "<path class=\"bond-21\" d=\"M 150.977,496.566 L 157.274,500.223\" style=\"fill:none;fill-rule:evenodd;stroke:#000000;stroke-width:2.0px;stroke-linecap:butt;stroke-linejoin:miter;stroke-opacity:1\"/>\n",
       "<path class=\"bond-22\" d=\"M 157.274,500.223 L 163.589,496.598\" style=\"fill:none;fill-rule:evenodd;stroke:#000000;stroke-width:2.0px;stroke-linecap:butt;stroke-linejoin:miter;stroke-opacity:1\"/>\n",
       "<path class=\"bond-23\" d=\"M 163.589,496.598 L 169.886,500.255\" style=\"fill:none;fill-rule:evenodd;stroke:#000000;stroke-width:2.0px;stroke-linecap:butt;stroke-linejoin:miter;stroke-opacity:1\"/>\n",
       "<path class=\"bond-24\" d=\"M 169.886,500.255 L 176.201,496.631\" style=\"fill:none;fill-rule:evenodd;stroke:#000000;stroke-width:2.0px;stroke-linecap:butt;stroke-linejoin:miter;stroke-opacity:1\"/>\n",
       "<path class=\"atom-2\" d=\"M 29.207 499.911 Q 29.207 498.891, 29.711 498.321 Q 30.215 497.751, 31.157 497.751 Q 32.099 497.751, 32.603 498.321 Q 33.107 498.891, 33.107 499.911 Q 33.107 500.943, 32.597 501.531 Q 32.087 502.113, 31.157 502.113 Q 30.221 502.113, 29.711 501.531 Q 29.207 500.949, 29.207 499.911 M 31.157 501.633 Q 31.805 501.633, 32.153 501.201 Q 32.507 500.763, 32.507 499.911 Q 32.507 499.077, 32.153 498.657 Q 31.805 498.231, 31.157 498.231 Q 30.509 498.231, 30.155 498.651 Q 29.807 499.071, 29.807 499.911 Q 29.807 500.769, 30.155 501.201 Q 30.509 501.633, 31.157 501.633 \" fill=\"#FF0000\"/>\n",
       "<path class=\"atom-15\" d=\"M 111.192 496.481 Q 111.192 495.461, 111.696 494.891 Q 112.2 494.321, 113.142 494.321 Q 114.084 494.321, 114.588 494.891 Q 115.092 495.461, 115.092 496.481 Q 115.092 497.513, 114.582 498.101 Q 114.072 498.683, 113.142 498.683 Q 112.206 498.683, 111.696 498.101 Q 111.192 497.519, 111.192 496.481 M 113.142 498.203 Q 113.79 498.203, 114.138 497.771 Q 114.492 497.333, 114.492 496.481 Q 114.492 495.647, 114.138 495.227 Q 113.79 494.801, 113.142 494.801 Q 112.494 494.801, 112.14 495.221 Q 111.792 495.641, 111.792 496.481 Q 111.792 497.339, 112.14 497.771 Q 112.494 498.203, 113.142 498.203 \" fill=\"#FF0000\"/>\n",
       "<path class=\"atom-18\" d=\"M 131.112 498.034 L 132.504 500.284 Q 132.642 500.506, 132.864 500.908 Q 133.086 501.31, 133.098 501.334 L 133.098 498.034 L 133.662 498.034 L 133.662 502.282 L 133.08 502.282 L 131.586 499.822 Q 131.412 499.534, 131.226 499.204 Q 131.046 498.874, 130.992 498.772 L 130.992 502.282 L 130.44 502.282 L 130.44 498.034 L 131.112 498.034 \" fill=\"#0000FF\"/>\n",
       "<path class=\"atom-18\" d=\"M 130.389 502.707 L 130.965 502.707 L 130.965 504.513 L 133.137 504.513 L 133.137 502.707 L 133.713 502.707 L 133.713 506.955 L 133.137 506.955 L 133.137 504.993 L 130.965 504.993 L 130.965 506.955 L 130.389 506.955 L 130.389 502.707 \" fill=\"#0000FF\"/>\n",
       "<path class=\"bond-0\" d=\"M 221.703,499.996 L 228.009,496.355\" style=\"fill:none;fill-rule:evenodd;stroke:#000000;stroke-width:2.0px;stroke-linecap:butt;stroke-linejoin:miter;stroke-opacity:1\"/>\n",
       "<path class=\"bond-1\" d=\"M 228.009,496.355 L 230.095,497.56\" style=\"fill:none;fill-rule:evenodd;stroke:#000000;stroke-width:2.0px;stroke-linecap:butt;stroke-linejoin:miter;stroke-opacity:1\"/>\n",
       "<path class=\"bond-1\" d=\"M 230.095,497.56 L 232.182,498.765\" style=\"fill:none;fill-rule:evenodd;stroke:#FF0000;stroke-width:2.0px;stroke-linecap:butt;stroke-linejoin:miter;stroke-opacity:1\"/>\n",
       "<path class=\"bond-2\" d=\"M 236.446,498.765 L 238.533,497.56\" style=\"fill:none;fill-rule:evenodd;stroke:#FF0000;stroke-width:2.0px;stroke-linecap:butt;stroke-linejoin:miter;stroke-opacity:1\"/>\n",
       "<path class=\"bond-2\" d=\"M 238.533,497.56 L 240.62,496.355\" style=\"fill:none;fill-rule:evenodd;stroke:#000000;stroke-width:2.0px;stroke-linecap:butt;stroke-linejoin:miter;stroke-opacity:1\"/>\n",
       "<path class=\"bond-3\" d=\"M 240.62,496.355 L 246.926,499.996\" style=\"fill:none;fill-rule:evenodd;stroke:#000000;stroke-width:2.0px;stroke-linecap:butt;stroke-linejoin:miter;stroke-opacity:1\"/>\n",
       "<path class=\"bond-4\" d=\"M 246.926,499.996 L 249.183,498.693\" style=\"fill:none;fill-rule:evenodd;stroke:#000000;stroke-width:2.0px;stroke-linecap:butt;stroke-linejoin:miter;stroke-opacity:1\"/>\n",
       "<path class=\"bond-4\" d=\"M 249.183,498.693 L 251.439,497.391\" style=\"fill:none;fill-rule:evenodd;stroke:#0000FF;stroke-width:2.0px;stroke-linecap:butt;stroke-linejoin:miter;stroke-opacity:1\"/>\n",
       "<path class=\"bond-5\" d=\"M 255.025,497.391 L 257.281,498.693\" style=\"fill:none;fill-rule:evenodd;stroke:#0000FF;stroke-width:2.0px;stroke-linecap:butt;stroke-linejoin:miter;stroke-opacity:1\"/>\n",
       "<path class=\"bond-5\" d=\"M 257.281,498.693 L 259.538,499.996\" style=\"fill:none;fill-rule:evenodd;stroke:#000000;stroke-width:2.0px;stroke-linecap:butt;stroke-linejoin:miter;stroke-opacity:1\"/>\n",
       "<path class=\"bond-6\" d=\"M 259.538,499.996 L 265.844,496.355\" style=\"fill:none;fill-rule:evenodd;stroke:#000000;stroke-width:2.0px;stroke-linecap:butt;stroke-linejoin:miter;stroke-opacity:1\"/>\n",
       "<path class=\"bond-7\" d=\"M 265.844,496.355 L 272.15,499.996\" style=\"fill:none;fill-rule:evenodd;stroke:#000000;stroke-width:2.0px;stroke-linecap:butt;stroke-linejoin:miter;stroke-opacity:1\"/>\n",
       "<path class=\"bond-8\" d=\"M 272.15,499.996 L 278.455,496.355\" style=\"fill:none;fill-rule:evenodd;stroke:#000000;stroke-width:2.0px;stroke-linecap:butt;stroke-linejoin:miter;stroke-opacity:1\"/>\n",
       "<path class=\"bond-9\" d=\"M 278.455,496.355 L 284.761,499.996\" style=\"fill:none;fill-rule:evenodd;stroke:#000000;stroke-width:2.0px;stroke-linecap:butt;stroke-linejoin:miter;stroke-opacity:1\"/>\n",
       "<path class=\"bond-10\" d=\"M 284.761,499.996 L 291.067,496.355\" style=\"fill:none;fill-rule:evenodd;stroke:#000000;stroke-width:2.0px;stroke-linecap:butt;stroke-linejoin:miter;stroke-opacity:1\"/>\n",
       "<path class=\"bond-11\" d=\"M 291.067,496.355 L 297.373,499.996\" style=\"fill:none;fill-rule:evenodd;stroke:#000000;stroke-width:2.0px;stroke-linecap:butt;stroke-linejoin:miter;stroke-opacity:1\"/>\n",
       "<path class=\"bond-11\" d=\"M 291.285,498.163 L 295.699,500.711\" style=\"fill:none;fill-rule:evenodd;stroke:#000000;stroke-width:2.0px;stroke-linecap:butt;stroke-linejoin:miter;stroke-opacity:1\"/>\n",
       "<path class=\"bond-12\" d=\"M 297.373,499.996 L 303.679,496.355\" style=\"fill:none;fill-rule:evenodd;stroke:#000000;stroke-width:2.0px;stroke-linecap:butt;stroke-linejoin:miter;stroke-opacity:1\"/>\n",
       "<path class=\"bond-13\" d=\"M 303.679,496.355 L 309.985,499.996\" style=\"fill:none;fill-rule:evenodd;stroke:#000000;stroke-width:2.0px;stroke-linecap:butt;stroke-linejoin:miter;stroke-opacity:1\"/>\n",
       "<path class=\"bond-14\" d=\"M 309.985,499.996 L 316.291,496.355\" style=\"fill:none;fill-rule:evenodd;stroke:#000000;stroke-width:2.0px;stroke-linecap:butt;stroke-linejoin:miter;stroke-opacity:1\"/>\n",
       "<path class=\"bond-15\" d=\"M 316.291,496.355 L 322.597,499.996\" style=\"fill:none;fill-rule:evenodd;stroke:#000000;stroke-width:2.0px;stroke-linecap:butt;stroke-linejoin:miter;stroke-opacity:1\"/>\n",
       "<path class=\"bond-16\" d=\"M 322.597,499.996 L 328.902,496.355\" style=\"fill:none;fill-rule:evenodd;stroke:#000000;stroke-width:2.0px;stroke-linecap:butt;stroke-linejoin:miter;stroke-opacity:1\"/>\n",
       "<path class=\"bond-17\" d=\"M 328.902,496.355 L 335.208,499.996\" style=\"fill:none;fill-rule:evenodd;stroke:#000000;stroke-width:2.0px;stroke-linecap:butt;stroke-linejoin:miter;stroke-opacity:1\"/>\n",
       "<path class=\"bond-18\" d=\"M 335.208,499.996 L 341.514,496.355\" style=\"fill:none;fill-rule:evenodd;stroke:#000000;stroke-width:2.0px;stroke-linecap:butt;stroke-linejoin:miter;stroke-opacity:1\"/>\n",
       "<path class=\"bond-19\" d=\"M 341.514,496.355 L 347.82,499.996\" style=\"fill:none;fill-rule:evenodd;stroke:#000000;stroke-width:2.0px;stroke-linecap:butt;stroke-linejoin:miter;stroke-opacity:1\"/>\n",
       "<path class=\"bond-20\" d=\"M 347.82,499.996 L 354.126,496.355\" style=\"fill:none;fill-rule:evenodd;stroke:#000000;stroke-width:2.0px;stroke-linecap:butt;stroke-linejoin:miter;stroke-opacity:1\"/>\n",
       "<path class=\"bond-21\" d=\"M 354.126,496.355 L 360.432,499.996\" style=\"fill:none;fill-rule:evenodd;stroke:#000000;stroke-width:2.0px;stroke-linecap:butt;stroke-linejoin:miter;stroke-opacity:1\"/>\n",
       "<path class=\"bond-22\" d=\"M 360.432,499.996 L 366.738,496.355\" style=\"fill:none;fill-rule:evenodd;stroke:#000000;stroke-width:2.0px;stroke-linecap:butt;stroke-linejoin:miter;stroke-opacity:1\"/>\n",
       "<path class=\"bond-23\" d=\"M 366.738,496.355 L 368.824,497.56\" style=\"fill:none;fill-rule:evenodd;stroke:#000000;stroke-width:2.0px;stroke-linecap:butt;stroke-linejoin:miter;stroke-opacity:1\"/>\n",
       "<path class=\"bond-23\" d=\"M 368.824,497.56 L 370.911,498.765\" style=\"fill:none;fill-rule:evenodd;stroke:#FF0000;stroke-width:2.0px;stroke-linecap:butt;stroke-linejoin:miter;stroke-opacity:1\"/>\n",
       "<path class=\"atom-2\" d=\"M 232.364 500.008 Q 232.364 498.988, 232.868 498.418 Q 233.372 497.848, 234.314 497.848 Q 235.256 497.848, 235.76 498.418 Q 236.264 498.988, 236.264 500.008 Q 236.264 501.04, 235.754 501.628 Q 235.244 502.21, 234.314 502.21 Q 233.378 502.21, 232.868 501.628 Q 232.364 501.046, 232.364 500.008 M 234.314 501.73 Q 234.962 501.73, 235.31 501.298 Q 235.664 500.86, 235.664 500.008 Q 235.664 499.174, 235.31 498.754 Q 234.962 498.328, 234.314 498.328 Q 233.666 498.328, 233.312 498.748 Q 232.964 499.168, 232.964 500.008 Q 232.964 500.866, 233.312 501.298 Q 233.666 501.73, 234.314 501.73 \" fill=\"#FF0000\"/>\n",
       "<path class=\"atom-5\" d=\"M 252.293 494.231 L 253.685 496.481 Q 253.823 496.703, 254.045 497.105 Q 254.267 497.507, 254.279 497.531 L 254.279 494.231 L 254.843 494.231 L 254.843 498.479 L 254.261 498.479 L 252.767 496.019 Q 252.593 495.731, 252.407 495.401 Q 252.227 495.071, 252.173 494.969 L 252.173 498.479 L 251.621 498.479 L 251.621 494.231 L 252.293 494.231 \" fill=\"#0000FF\"/>\n",
       "<path class=\"atom-5\" d=\"M 251.57 489.559 L 252.146 489.559 L 252.146 491.365 L 254.318 491.365 L 254.318 489.559 L 254.894 489.559 L 254.894 493.807 L 254.318 493.807 L 254.318 491.845 L 252.146 491.845 L 252.146 493.807 L 251.57 493.807 L 251.57 489.559 \" fill=\"#0000FF\"/>\n",
       "<path class=\"atom-24\" d=\"M 371.093 500.008 Q 371.093 498.988, 371.597 498.418 Q 372.101 497.848, 373.043 497.848 Q 373.985 497.848, 374.489 498.418 Q 374.993 498.988, 374.993 500.008 Q 374.993 501.04, 374.483 501.628 Q 373.973 502.21, 373.043 502.21 Q 372.107 502.21, 371.597 501.628 Q 371.093 501.046, 371.093 500.008 M 373.043 501.73 Q 373.691 501.73, 374.039 501.298 Q 374.393 500.86, 374.393 500.008 Q 374.393 499.174, 374.039 498.754 Q 373.691 498.328, 373.043 498.328 Q 372.395 498.328, 372.041 498.748 Q 371.693 499.168, 371.693 500.008 Q 371.693 500.866, 372.041 501.298 Q 372.395 501.73, 373.043 501.73 \" fill=\"#FF0000\"/>\n",
       "<path class=\"atom-24\" d=\"M 375.503 497.896 L 376.079 497.896 L 376.079 499.702 L 378.251 499.702 L 378.251 497.896 L 378.827 497.896 L 378.827 502.144 L 378.251 502.144 L 378.251 500.182 L 376.079 500.182 L 376.079 502.144 L 375.503 502.144 L 375.503 497.896 \" fill=\"#FF0000\"/>\n",
       "<path class=\"bond-0\" d=\"M 534.744,491.859 L 529.451,496.859\" style=\"fill:none;fill-rule:evenodd;stroke:#000000;stroke-width:2.0px;stroke-linecap:butt;stroke-linejoin:miter;stroke-opacity:1\"/>\n",
       "<path class=\"bond-1\" d=\"M 529.451,496.859 L 522.474,494.776\" style=\"fill:none;fill-rule:evenodd;stroke:#000000;stroke-width:2.0px;stroke-linecap:butt;stroke-linejoin:miter;stroke-opacity:1\"/>\n",
       "<path class=\"bond-2\" d=\"M 522.474,494.776 L 517.181,499.776\" style=\"fill:none;fill-rule:evenodd;stroke:#000000;stroke-width:2.0px;stroke-linecap:butt;stroke-linejoin:miter;stroke-opacity:1\"/>\n",
       "<path class=\"bond-3\" d=\"M 517.181,499.776 L 510.204,497.693\" style=\"fill:none;fill-rule:evenodd;stroke:#000000;stroke-width:2.0px;stroke-linecap:butt;stroke-linejoin:miter;stroke-opacity:1\"/>\n",
       "<path class=\"bond-4\" d=\"M 510.204,497.693 L 504.911,502.693\" style=\"fill:none;fill-rule:evenodd;stroke:#000000;stroke-width:2.0px;stroke-linecap:butt;stroke-linejoin:miter;stroke-opacity:1\"/>\n",
       "<path class=\"bond-5\" d=\"M 504.911,502.693 L 497.934,500.61\" style=\"fill:none;fill-rule:evenodd;stroke:#000000;stroke-width:2.0px;stroke-linecap:butt;stroke-linejoin:miter;stroke-opacity:1\"/>\n",
       "<path class=\"bond-6\" d=\"M 497.934,500.61 L 492.642,505.61\" style=\"fill:none;fill-rule:evenodd;stroke:#000000;stroke-width:2.0px;stroke-linecap:butt;stroke-linejoin:miter;stroke-opacity:1\"/>\n",
       "<path class=\"bond-7\" d=\"M 492.642,505.61 L 485.665,503.527\" style=\"fill:none;fill-rule:evenodd;stroke:#000000;stroke-width:2.0px;stroke-linecap:butt;stroke-linejoin:miter;stroke-opacity:1\"/>\n",
       "<path class=\"bond-8\" d=\"M 485.665,503.527 L 483.581,510.504\" style=\"fill:none;fill-rule:evenodd;stroke:#000000;stroke-width:2.0px;stroke-linecap:butt;stroke-linejoin:miter;stroke-opacity:1\"/>\n",
       "<path class=\"bond-9\" d=\"M 485.665,503.527 L 487.748,496.55\" style=\"fill:none;fill-rule:evenodd;stroke:#000000;stroke-width:2.0px;stroke-linecap:butt;stroke-linejoin:miter;stroke-opacity:1\"/>\n",
       "<path class=\"bond-10\" d=\"M 485.665,503.527 L 478.688,501.443\" style=\"fill:none;fill-rule:evenodd;stroke:#000000;stroke-width:2.0px;stroke-linecap:butt;stroke-linejoin:miter;stroke-opacity:1\"/>\n",
       "<path class=\"bond-11\" d=\"M 478.688,501.443 L 477.004,494.359\" style=\"fill:none;fill-rule:evenodd;stroke:#000000;stroke-width:2.0px;stroke-linecap:butt;stroke-linejoin:miter;stroke-opacity:1\"/>\n",
       "<path class=\"bond-12\" d=\"M 477.004,494.359 L 470.027,492.276\" style=\"fill:none;fill-rule:evenodd;stroke:#000000;stroke-width:2.0px;stroke-linecap:butt;stroke-linejoin:miter;stroke-opacity:1\"/>\n",
       "<path class=\"bond-13\" d=\"M 470.027,492.276 L 468.342,485.192\" style=\"fill:none;fill-rule:evenodd;stroke:#000000;stroke-width:2.0px;stroke-linecap:butt;stroke-linejoin:miter;stroke-opacity:1\"/>\n",
       "<path class=\"bond-0\" d=\"M 59.8358,698.184 L 66.4492,695.137\" style=\"fill:none;fill-rule:evenodd;stroke:#000000;stroke-width:2.0px;stroke-linecap:butt;stroke-linejoin:miter;stroke-opacity:1\"/>\n",
       "<path class=\"bond-1\" d=\"M 66.4492,695.137 L 72.3943,699.341\" style=\"fill:none;fill-rule:evenodd;stroke:#000000;stroke-width:2.0px;stroke-linecap:butt;stroke-linejoin:miter;stroke-opacity:1\"/>\n",
       "<path class=\"bond-2\" d=\"M 72.3943,699.341 L 79.0077,696.295\" style=\"fill:none;fill-rule:evenodd;stroke:#000000;stroke-width:2.0px;stroke-linecap:butt;stroke-linejoin:miter;stroke-opacity:1\"/>\n",
       "<path class=\"bond-3\" d=\"M 79.0077,696.295 L 84.9528,700.499\" style=\"fill:none;fill-rule:evenodd;stroke:#000000;stroke-width:2.0px;stroke-linecap:butt;stroke-linejoin:miter;stroke-opacity:1\"/>\n",
       "<path class=\"bond-4\" d=\"M 84.9528,700.499 L 91.5662,697.452\" style=\"fill:none;fill-rule:evenodd;stroke:#000000;stroke-width:2.0px;stroke-linecap:butt;stroke-linejoin:miter;stroke-opacity:1\"/>\n",
       "<path class=\"bond-5\" d=\"M 91.5662,697.452 L 97.5113,701.656\" style=\"fill:none;fill-rule:evenodd;stroke:#000000;stroke-width:2.0px;stroke-linecap:butt;stroke-linejoin:miter;stroke-opacity:1\"/>\n",
       "<path class=\"bond-6\" d=\"M 97.5113,701.656 L 104.125,698.61\" style=\"fill:none;fill-rule:evenodd;stroke:#000000;stroke-width:2.0px;stroke-linecap:butt;stroke-linejoin:miter;stroke-opacity:1\"/>\n",
       "<path class=\"bond-7\" d=\"M 104.125,698.61 L 110.07,702.814\" style=\"fill:none;fill-rule:evenodd;stroke:#000000;stroke-width:2.0px;stroke-linecap:butt;stroke-linejoin:miter;stroke-opacity:1\"/>\n",
       "<path class=\"bond-8\" d=\"M 110.07,702.814 L 116.683,699.767\" style=\"fill:none;fill-rule:evenodd;stroke:#000000;stroke-width:2.0px;stroke-linecap:butt;stroke-linejoin:miter;stroke-opacity:1\"/>\n",
       "<path class=\"bond-9\" d=\"M 116.683,699.767 L 119.73,706.38\" style=\"fill:none;fill-rule:evenodd;stroke:#000000;stroke-width:2.0px;stroke-linecap:butt;stroke-linejoin:miter;stroke-opacity:1\"/>\n",
       "<path class=\"bond-10\" d=\"M 116.683,699.767 L 113.637,693.154\" style=\"fill:none;fill-rule:evenodd;stroke:#000000;stroke-width:2.0px;stroke-linecap:butt;stroke-linejoin:miter;stroke-opacity:1\"/>\n",
       "<path class=\"bond-11\" d=\"M 116.683,699.767 L 123.297,696.72\" style=\"fill:none;fill-rule:evenodd;stroke:#000000;stroke-width:2.0px;stroke-linecap:butt;stroke-linejoin:miter;stroke-opacity:1\"/>\n",
       "<path class=\"bond-12\" d=\"M 123.297,696.72 L 123.965,689.47\" style=\"fill:none;fill-rule:evenodd;stroke:#000000;stroke-width:2.0px;stroke-linecap:butt;stroke-linejoin:miter;stroke-opacity:1\"/>\n",
       "<path class=\"bond-0\" d=\"M 209.091,700.006 L 215.397,696.365\" style=\"fill:none;fill-rule:evenodd;stroke:#000000;stroke-width:2.0px;stroke-linecap:butt;stroke-linejoin:miter;stroke-opacity:1\"/>\n",
       "<path class=\"bond-1\" d=\"M 215.397,696.365 L 221.703,700.006\" style=\"fill:none;fill-rule:evenodd;stroke:#000000;stroke-width:2.0px;stroke-linecap:butt;stroke-linejoin:miter;stroke-opacity:1\"/>\n",
       "<path class=\"bond-2\" d=\"M 221.703,700.006 L 228.009,696.365\" style=\"fill:none;fill-rule:evenodd;stroke:#000000;stroke-width:2.0px;stroke-linecap:butt;stroke-linejoin:miter;stroke-opacity:1\"/>\n",
       "<path class=\"bond-3\" d=\"M 228.009,696.365 L 234.314,700.006\" style=\"fill:none;fill-rule:evenodd;stroke:#000000;stroke-width:2.0px;stroke-linecap:butt;stroke-linejoin:miter;stroke-opacity:1\"/>\n",
       "<path class=\"bond-4\" d=\"M 234.314,700.006 L 240.62,696.365\" style=\"fill:none;fill-rule:evenodd;stroke:#000000;stroke-width:2.0px;stroke-linecap:butt;stroke-linejoin:miter;stroke-opacity:1\"/>\n",
       "<path class=\"bond-5\" d=\"M 240.62,696.365 L 242.877,697.668\" style=\"fill:none;fill-rule:evenodd;stroke:#000000;stroke-width:2.0px;stroke-linecap:butt;stroke-linejoin:miter;stroke-opacity:1\"/>\n",
       "<path class=\"bond-5\" d=\"M 242.877,697.668 L 245.133,698.971\" style=\"fill:none;fill-rule:evenodd;stroke:#0000FF;stroke-width:2.0px;stroke-linecap:butt;stroke-linejoin:miter;stroke-opacity:1\"/>\n",
       "<path class=\"bond-6\" d=\"M 248.719,698.971 L 250.976,697.668\" style=\"fill:none;fill-rule:evenodd;stroke:#0000FF;stroke-width:2.0px;stroke-linecap:butt;stroke-linejoin:miter;stroke-opacity:1\"/>\n",
       "<path class=\"bond-6\" d=\"M 250.976,697.668 L 253.232,696.365\" style=\"fill:none;fill-rule:evenodd;stroke:#000000;stroke-width:2.0px;stroke-linecap:butt;stroke-linejoin:miter;stroke-opacity:1\"/>\n",
       "<path class=\"bond-7\" d=\"M 253.232,696.365 L 259.538,700.006\" style=\"fill:none;fill-rule:evenodd;stroke:#000000;stroke-width:2.0px;stroke-linecap:butt;stroke-linejoin:miter;stroke-opacity:1\"/>\n",
       "<path class=\"bond-8\" d=\"M 259.538,700.006 L 265.844,696.365\" style=\"fill:none;fill-rule:evenodd;stroke:#000000;stroke-width:2.0px;stroke-linecap:butt;stroke-linejoin:miter;stroke-opacity:1\"/>\n",
       "<path class=\"bond-9\" d=\"M 265.844,696.365 L 272.15,700.006\" style=\"fill:none;fill-rule:evenodd;stroke:#000000;stroke-width:2.0px;stroke-linecap:butt;stroke-linejoin:miter;stroke-opacity:1\"/>\n",
       "<path class=\"bond-10\" d=\"M 272.15,700.006 L 278.455,696.365\" style=\"fill:none;fill-rule:evenodd;stroke:#000000;stroke-width:2.0px;stroke-linecap:butt;stroke-linejoin:miter;stroke-opacity:1\"/>\n",
       "<path class=\"bond-11\" d=\"M 278.455,696.365 L 284.761,700.006\" style=\"fill:none;fill-rule:evenodd;stroke:#000000;stroke-width:2.0px;stroke-linecap:butt;stroke-linejoin:miter;stroke-opacity:1\"/>\n",
       "<path class=\"bond-12\" d=\"M 284.761,700.006 L 291.067,696.365\" style=\"fill:none;fill-rule:evenodd;stroke:#000000;stroke-width:2.0px;stroke-linecap:butt;stroke-linejoin:miter;stroke-opacity:1\"/>\n",
       "<path class=\"bond-13\" d=\"M 291.067,696.365 L 297.373,700.006\" style=\"fill:none;fill-rule:evenodd;stroke:#000000;stroke-width:2.0px;stroke-linecap:butt;stroke-linejoin:miter;stroke-opacity:1\"/>\n",
       "<path class=\"bond-14\" d=\"M 297.373,700.006 L 303.679,696.365\" style=\"fill:none;fill-rule:evenodd;stroke:#000000;stroke-width:2.0px;stroke-linecap:butt;stroke-linejoin:miter;stroke-opacity:1\"/>\n",
       "<path class=\"bond-15\" d=\"M 303.679,696.365 L 309.985,700.006\" style=\"fill:none;fill-rule:evenodd;stroke:#000000;stroke-width:2.0px;stroke-linecap:butt;stroke-linejoin:miter;stroke-opacity:1\"/>\n",
       "<path class=\"bond-16\" d=\"M 309.985,700.006 L 316.291,696.365\" style=\"fill:none;fill-rule:evenodd;stroke:#000000;stroke-width:2.0px;stroke-linecap:butt;stroke-linejoin:miter;stroke-opacity:1\"/>\n",
       "<path class=\"bond-17\" d=\"M 316.291,696.365 L 322.597,700.006\" style=\"fill:none;fill-rule:evenodd;stroke:#000000;stroke-width:2.0px;stroke-linecap:butt;stroke-linejoin:miter;stroke-opacity:1\"/>\n",
       "<path class=\"bond-18\" d=\"M 322.597,700.006 L 328.902,696.365\" style=\"fill:none;fill-rule:evenodd;stroke:#000000;stroke-width:2.0px;stroke-linecap:butt;stroke-linejoin:miter;stroke-opacity:1\"/>\n",
       "<path class=\"bond-19\" d=\"M 328.902,696.365 L 335.208,700.006\" style=\"fill:none;fill-rule:evenodd;stroke:#000000;stroke-width:2.0px;stroke-linecap:butt;stroke-linejoin:miter;stroke-opacity:1\"/>\n",
       "<path class=\"bond-20\" d=\"M 335.208,700.006 L 341.514,696.365\" style=\"fill:none;fill-rule:evenodd;stroke:#000000;stroke-width:2.0px;stroke-linecap:butt;stroke-linejoin:miter;stroke-opacity:1\"/>\n",
       "<path class=\"bond-21\" d=\"M 341.514,696.365 L 347.82,700.006\" style=\"fill:none;fill-rule:evenodd;stroke:#000000;stroke-width:2.0px;stroke-linecap:butt;stroke-linejoin:miter;stroke-opacity:1\"/>\n",
       "<path class=\"bond-22\" d=\"M 347.82,700.006 L 354.126,696.365\" style=\"fill:none;fill-rule:evenodd;stroke:#000000;stroke-width:2.0px;stroke-linecap:butt;stroke-linejoin:miter;stroke-opacity:1\"/>\n",
       "<path class=\"bond-23\" d=\"M 354.126,696.365 L 360.432,700.006\" style=\"fill:none;fill-rule:evenodd;stroke:#000000;stroke-width:2.0px;stroke-linecap:butt;stroke-linejoin:miter;stroke-opacity:1\"/>\n",
       "<path class=\"bond-24\" d=\"M 360.432,700.006 L 362.519,698.801\" style=\"fill:none;fill-rule:evenodd;stroke:#000000;stroke-width:2.0px;stroke-linecap:butt;stroke-linejoin:miter;stroke-opacity:1\"/>\n",
       "<path class=\"bond-24\" d=\"M 362.519,698.801 L 364.606,697.596\" style=\"fill:none;fill-rule:evenodd;stroke:#FF0000;stroke-width:2.0px;stroke-linecap:butt;stroke-linejoin:miter;stroke-opacity:1\"/>\n",
       "<path class=\"bond-25\" d=\"M 368.87,697.596 L 370.957,698.801\" style=\"fill:none;fill-rule:evenodd;stroke:#FF0000;stroke-width:2.0px;stroke-linecap:butt;stroke-linejoin:miter;stroke-opacity:1\"/>\n",
       "<path class=\"bond-25\" d=\"M 370.957,698.801 L 373.043,700.006\" style=\"fill:none;fill-rule:evenodd;stroke:#000000;stroke-width:2.0px;stroke-linecap:butt;stroke-linejoin:miter;stroke-opacity:1\"/>\n",
       "<path class=\"bond-26\" d=\"M 373.043,700.006 L 379.349,696.365\" style=\"fill:none;fill-rule:evenodd;stroke:#000000;stroke-width:2.0px;stroke-linecap:butt;stroke-linejoin:miter;stroke-opacity:1\"/>\n",
       "<path class=\"bond-27\" d=\"M 379.349,696.365 L 381.436,697.57\" style=\"fill:none;fill-rule:evenodd;stroke:#000000;stroke-width:2.0px;stroke-linecap:butt;stroke-linejoin:miter;stroke-opacity:1\"/>\n",
       "<path class=\"bond-27\" d=\"M 381.436,697.57 L 383.523,698.775\" style=\"fill:none;fill-rule:evenodd;stroke:#FF0000;stroke-width:2.0px;stroke-linecap:butt;stroke-linejoin:miter;stroke-opacity:1\"/>\n",
       "<path class=\"atom-6\" d=\"M 245.987 697.882 L 247.379 700.132 Q 247.517 700.354, 247.739 700.756 Q 247.961 701.158, 247.973 701.182 L 247.973 697.882 L 248.537 697.882 L 248.537 702.13 L 247.955 702.13 L 246.461 699.67 Q 246.287 699.382, 246.101 699.052 Q 245.921 698.722, 245.867 698.62 L 245.867 702.13 L 245.315 702.13 L 245.315 697.882 L 245.987 697.882 \" fill=\"#0000FF\"/>\n",
       "<path class=\"atom-6\" d=\"M 245.264 702.555 L 245.84 702.555 L 245.84 704.361 L 248.012 704.361 L 248.012 702.555 L 248.588 702.555 L 248.588 706.803 L 248.012 706.803 L 248.012 704.841 L 245.84 704.841 L 245.84 706.803 L 245.264 706.803 L 245.264 702.555 \" fill=\"#0000FF\"/>\n",
       "<path class=\"atom-25\" d=\"M 364.788 696.377 Q 364.788 695.357, 365.292 694.787 Q 365.796 694.217, 366.738 694.217 Q 367.68 694.217, 368.184 694.787 Q 368.688 695.357, 368.688 696.377 Q 368.688 697.409, 368.178 697.997 Q 367.668 698.579, 366.738 698.579 Q 365.802 698.579, 365.292 697.997 Q 364.788 697.415, 364.788 696.377 M 366.738 698.099 Q 367.386 698.099, 367.734 697.667 Q 368.088 697.229, 368.088 696.377 Q 368.088 695.543, 367.734 695.123 Q 367.386 694.697, 366.738 694.697 Q 366.09 694.697, 365.736 695.117 Q 365.388 695.537, 365.388 696.377 Q 365.388 697.235, 365.736 697.667 Q 366.09 698.099, 366.738 698.099 \" fill=\"#FF0000\"/>\n",
       "<path class=\"atom-28\" d=\"M 383.705 700.018 Q 383.705 698.998, 384.209 698.428 Q 384.713 697.858, 385.655 697.858 Q 386.597 697.858, 387.101 698.428 Q 387.605 698.998, 387.605 700.018 Q 387.605 701.05, 387.095 701.638 Q 386.585 702.22, 385.655 702.22 Q 384.719 702.22, 384.209 701.638 Q 383.705 701.056, 383.705 700.018 M 385.655 701.74 Q 386.303 701.74, 386.651 701.308 Q 387.005 700.87, 387.005 700.018 Q 387.005 699.184, 386.651 698.764 Q 386.303 698.338, 385.655 698.338 Q 385.007 698.338, 384.653 698.758 Q 384.305 699.178, 384.305 700.018 Q 384.305 700.876, 384.653 701.308 Q 385.007 701.74, 385.655 701.74 \" fill=\"#FF0000\"/>\n",
       "<path class=\"atom-28\" d=\"M 388.115 697.906 L 388.691 697.906 L 388.691 699.712 L 390.863 699.712 L 390.863 697.906 L 391.439 697.906 L 391.439 702.154 L 390.863 702.154 L 390.863 700.192 L 388.691 700.192 L 388.691 702.154 L 388.115 702.154 L 388.115 697.906 \" fill=\"#FF0000\"/>\n",
       "<path class=\"bond-0\" d=\"M 531.183,695.112 L 525.24,699.32\" style=\"fill:none;fill-rule:evenodd;stroke:#000000;stroke-width:2.0px;stroke-linecap:butt;stroke-linejoin:miter;stroke-opacity:1\"/>\n",
       "<path class=\"bond-1\" d=\"M 525.24,699.32 L 518.625,696.277\" style=\"fill:none;fill-rule:evenodd;stroke:#000000;stroke-width:2.0px;stroke-linecap:butt;stroke-linejoin:miter;stroke-opacity:1\"/>\n",
       "<path class=\"bond-2\" d=\"M 518.625,696.277 L 512.682,700.485\" style=\"fill:none;fill-rule:evenodd;stroke:#000000;stroke-width:2.0px;stroke-linecap:butt;stroke-linejoin:miter;stroke-opacity:1\"/>\n",
       "<path class=\"bond-3\" d=\"M 512.682,700.485 L 506.067,697.442\" style=\"fill:none;fill-rule:evenodd;stroke:#000000;stroke-width:2.0px;stroke-linecap:butt;stroke-linejoin:miter;stroke-opacity:1\"/>\n",
       "<path class=\"bond-4\" d=\"M 506.067,697.442 L 500.124,701.65\" style=\"fill:none;fill-rule:evenodd;stroke:#000000;stroke-width:2.0px;stroke-linecap:butt;stroke-linejoin:miter;stroke-opacity:1\"/>\n",
       "<path class=\"bond-5\" d=\"M 500.124,701.65 L 493.509,698.607\" style=\"fill:none;fill-rule:evenodd;stroke:#000000;stroke-width:2.0px;stroke-linecap:butt;stroke-linejoin:miter;stroke-opacity:1\"/>\n",
       "<path class=\"bond-6\" d=\"M 493.509,698.607 L 487.566,702.814\" style=\"fill:none;fill-rule:evenodd;stroke:#000000;stroke-width:2.0px;stroke-linecap:butt;stroke-linejoin:miter;stroke-opacity:1\"/>\n",
       "<path class=\"bond-7\" d=\"M 487.566,702.814 L 480.951,699.772\" style=\"fill:none;fill-rule:evenodd;stroke:#000000;stroke-width:2.0px;stroke-linecap:butt;stroke-linejoin:miter;stroke-opacity:1\"/>\n",
       "<path class=\"bond-8\" d=\"M 480.951,699.772 L 477.909,706.387\" style=\"fill:none;fill-rule:evenodd;stroke:#000000;stroke-width:2.0px;stroke-linecap:butt;stroke-linejoin:miter;stroke-opacity:1\"/>\n",
       "<path class=\"bond-9\" d=\"M 480.951,699.772 L 483.994,693.156\" style=\"fill:none;fill-rule:evenodd;stroke:#000000;stroke-width:2.0px;stroke-linecap:butt;stroke-linejoin:miter;stroke-opacity:1\"/>\n",
       "<path class=\"bond-10\" d=\"M 480.951,699.772 L 474.336,696.729\" style=\"fill:none;fill-rule:evenodd;stroke:#000000;stroke-width:2.0px;stroke-linecap:butt;stroke-linejoin:miter;stroke-opacity:1\"/>\n",
       "<path class=\"bond-11\" d=\"M 474.336,696.729 L 473.664,689.479\" style=\"fill:none;fill-rule:evenodd;stroke:#000000;stroke-width:2.0px;stroke-linecap:butt;stroke-linejoin:miter;stroke-opacity:1\"/>\n",
       "<path class=\"bond-0\" d=\"M 62.8447,889.211 L 62.8808,896.492\" style=\"fill:none;fill-rule:evenodd;stroke:#000000;stroke-width:2.0px;stroke-linecap:butt;stroke-linejoin:miter;stroke-opacity:1\"/>\n",
       "<path class=\"bond-0\" d=\"M 64.301,889.204 L 64.3371,896.485\" style=\"fill:none;fill-rule:evenodd;stroke:#000000;stroke-width:2.0px;stroke-linecap:butt;stroke-linejoin:miter;stroke-opacity:1\"/>\n",
       "<path class=\"bond-1\" d=\"M 63.609,896.489 L 57.3212,900.161\" style=\"fill:none;fill-rule:evenodd;stroke:#000000;stroke-width:2.0px;stroke-linecap:butt;stroke-linejoin:miter;stroke-opacity:1\"/>\n",
       "<path class=\"bond-2\" d=\"M 63.609,896.489 L 65.8744,897.782\" style=\"fill:none;fill-rule:evenodd;stroke:#000000;stroke-width:2.0px;stroke-linecap:butt;stroke-linejoin:miter;stroke-opacity:1\"/>\n",
       "<path class=\"bond-2\" d=\"M 65.8744,897.782 L 68.1398,899.075\" style=\"fill:none;fill-rule:evenodd;stroke:#0000FF;stroke-width:2.0px;stroke-linecap:butt;stroke-linejoin:miter;stroke-opacity:1\"/>\n",
       "<path class=\"bond-3\" d=\"M 69.9443,902.404 L 69.9566,904.892\" style=\"fill:none;fill-rule:evenodd;stroke:#0000FF;stroke-width:2.0px;stroke-linecap:butt;stroke-linejoin:miter;stroke-opacity:1\"/>\n",
       "<path class=\"bond-3\" d=\"M 69.9566,904.892 L 69.969,907.379\" style=\"fill:none;fill-rule:evenodd;stroke:#000000;stroke-width:2.0px;stroke-linecap:butt;stroke-linejoin:miter;stroke-opacity:1\"/>\n",
       "<path class=\"bond-4\" d=\"M 71.7259,899.051 L 73.9732,897.738\" style=\"fill:none;fill-rule:evenodd;stroke:#0000FF;stroke-width:2.0px;stroke-linecap:butt;stroke-linejoin:miter;stroke-opacity:1\"/>\n",
       "<path class=\"bond-4\" d=\"M 73.9732,897.738 L 76.2205,896.426\" style=\"fill:none;fill-rule:evenodd;stroke:#000000;stroke-width:2.0px;stroke-linecap:butt;stroke-linejoin:miter;stroke-opacity:1\"/>\n",
       "<path class=\"bond-5\" d=\"M 76.2205,896.426 L 82.5444,900.035\" style=\"fill:none;fill-rule:evenodd;stroke:#000000;stroke-width:2.0px;stroke-linecap:butt;stroke-linejoin:miter;stroke-opacity:1\"/>\n",
       "<path class=\"bond-6\" d=\"M 82.5444,900.035 L 88.8321,896.363\" style=\"fill:none;fill-rule:evenodd;stroke:#000000;stroke-width:2.0px;stroke-linecap:butt;stroke-linejoin:miter;stroke-opacity:1\"/>\n",
       "<path class=\"bond-7\" d=\"M 88.8321,896.363 L 95.156,899.973\" style=\"fill:none;fill-rule:evenodd;stroke:#000000;stroke-width:2.0px;stroke-linecap:butt;stroke-linejoin:miter;stroke-opacity:1\"/>\n",
       "<path class=\"bond-8\" d=\"M 95.156,899.973 L 101.444,896.301\" style=\"fill:none;fill-rule:evenodd;stroke:#000000;stroke-width:2.0px;stroke-linecap:butt;stroke-linejoin:miter;stroke-opacity:1\"/>\n",
       "<path class=\"bond-9\" d=\"M 101.444,896.301 L 107.768,899.91\" style=\"fill:none;fill-rule:evenodd;stroke:#000000;stroke-width:2.0px;stroke-linecap:butt;stroke-linejoin:miter;stroke-opacity:1\"/>\n",
       "<path class=\"bond-10\" d=\"M 107.768,899.91 L 114.055,896.238\" style=\"fill:none;fill-rule:evenodd;stroke:#000000;stroke-width:2.0px;stroke-linecap:butt;stroke-linejoin:miter;stroke-opacity:1\"/>\n",
       "<path class=\"bond-11\" d=\"M 114.055,896.238 L 120.379,899.848\" style=\"fill:none;fill-rule:evenodd;stroke:#000000;stroke-width:2.0px;stroke-linecap:butt;stroke-linejoin:miter;stroke-opacity:1\"/>\n",
       "<path class=\"bond-12\" d=\"M 120.379,899.848 L 126.667,896.176\" style=\"fill:none;fill-rule:evenodd;stroke:#000000;stroke-width:2.0px;stroke-linecap:butt;stroke-linejoin:miter;stroke-opacity:1\"/>\n",
       "<path class=\"bond-13\" d=\"M 126.667,896.176 L 132.991,899.785\" style=\"fill:none;fill-rule:evenodd;stroke:#000000;stroke-width:2.0px;stroke-linecap:butt;stroke-linejoin:miter;stroke-opacity:1\"/>\n",
       "<path class=\"bond-14\" d=\"M 132.991,899.785 L 135.069,898.572\" style=\"fill:none;fill-rule:evenodd;stroke:#000000;stroke-width:2.0px;stroke-linecap:butt;stroke-linejoin:miter;stroke-opacity:1\"/>\n",
       "<path class=\"bond-14\" d=\"M 135.069,898.572 L 137.146,897.358\" style=\"fill:none;fill-rule:evenodd;stroke:#FF0000;stroke-width:2.0px;stroke-linecap:butt;stroke-linejoin:miter;stroke-opacity:1\"/>\n",
       "<path class=\"bond-15\" d=\"M 141.41,897.33 L 143.506,898.526\" style=\"fill:none;fill-rule:evenodd;stroke:#FF0000;stroke-width:2.0px;stroke-linecap:butt;stroke-linejoin:miter;stroke-opacity:1\"/>\n",
       "<path class=\"bond-15\" d=\"M 143.506,898.526 L 145.602,899.722\" style=\"fill:none;fill-rule:evenodd;stroke:#000000;stroke-width:2.0px;stroke-linecap:butt;stroke-linejoin:miter;stroke-opacity:1\"/>\n",
       "<path class=\"atom-3\" d=\"M 68.9938 897.974 L 70.3858 900.224 Q 70.5238 900.446, 70.7458 900.848 Q 70.9678 901.25, 70.9798 901.274 L 70.9798 897.974 L 71.5438 897.974 L 71.5438 902.222 L 70.9618 902.222 L 69.4678 899.762 Q 69.2938 899.474, 69.1078 899.144 Q 68.9278 898.814, 68.8738 898.712 L 68.8738 902.222 L 68.3218 902.222 L 68.3218 897.974 L 68.9938 897.974 \" fill=\"#0000FF\"/>\n",
       "<path class=\"atom-15\" d=\"M 137.328 896.125 Q 137.328 895.105, 137.832 894.535 Q 138.336 893.965, 139.278 893.965 Q 140.22 893.965, 140.724 894.535 Q 141.228 895.105, 141.228 896.125 Q 141.228 897.157, 140.718 897.745 Q 140.208 898.327, 139.278 898.327 Q 138.342 898.327, 137.832 897.745 Q 137.328 897.163, 137.328 896.125 M 139.278 897.847 Q 139.926 897.847, 140.274 897.415 Q 140.628 896.977, 140.628 896.125 Q 140.628 895.291, 140.274 894.871 Q 139.926 894.445, 139.278 894.445 Q 138.63 894.445, 138.276 894.865 Q 137.928 895.285, 137.928 896.125 Q 137.928 896.983, 138.276 897.415 Q 138.63 897.847, 139.278 897.847 \" fill=\"#FF0000\"/>\n",
       "<path class=\"bond-0\" d=\"M 333.131,893.681 L 327.467,898.257\" style=\"fill:none;fill-rule:evenodd;stroke:#000000;stroke-width:2.0px;stroke-linecap:butt;stroke-linejoin:miter;stroke-opacity:1\"/>\n",
       "<path class=\"bond-1\" d=\"M 327.467,898.257 L 320.672,895.639\" style=\"fill:none;fill-rule:evenodd;stroke:#000000;stroke-width:2.0px;stroke-linecap:butt;stroke-linejoin:miter;stroke-opacity:1\"/>\n",
       "<path class=\"bond-2\" d=\"M 320.672,895.639 L 315.008,900.215\" style=\"fill:none;fill-rule:evenodd;stroke:#000000;stroke-width:2.0px;stroke-linecap:butt;stroke-linejoin:miter;stroke-opacity:1\"/>\n",
       "<path class=\"bond-3\" d=\"M 315.008,900.215 L 308.214,897.598\" style=\"fill:none;fill-rule:evenodd;stroke:#000000;stroke-width:2.0px;stroke-linecap:butt;stroke-linejoin:miter;stroke-opacity:1\"/>\n",
       "<path class=\"bond-4\" d=\"M 308.214,897.598 L 302.549,902.173\" style=\"fill:none;fill-rule:evenodd;stroke:#000000;stroke-width:2.0px;stroke-linecap:butt;stroke-linejoin:miter;stroke-opacity:1\"/>\n",
       "<path class=\"bond-5\" d=\"M 302.549,902.173 L 295.755,899.556\" style=\"fill:none;fill-rule:evenodd;stroke:#000000;stroke-width:2.0px;stroke-linecap:butt;stroke-linejoin:miter;stroke-opacity:1\"/>\n",
       "<path class=\"bond-6\" d=\"M 295.755,899.556 L 290.091,904.131\" style=\"fill:none;fill-rule:evenodd;stroke:#000000;stroke-width:2.0px;stroke-linecap:butt;stroke-linejoin:miter;stroke-opacity:1\"/>\n",
       "<path class=\"bond-7\" d=\"M 290.091,904.131 L 283.296,901.514\" style=\"fill:none;fill-rule:evenodd;stroke:#000000;stroke-width:2.0px;stroke-linecap:butt;stroke-linejoin:miter;stroke-opacity:1\"/>\n",
       "<path class=\"bond-8\" d=\"M 283.296,901.514 L 280.678,908.309\" style=\"fill:none;fill-rule:evenodd;stroke:#000000;stroke-width:2.0px;stroke-linecap:butt;stroke-linejoin:miter;stroke-opacity:1\"/>\n",
       "<path class=\"bond-9\" d=\"M 283.296,901.514 L 285.913,894.719\" style=\"fill:none;fill-rule:evenodd;stroke:#000000;stroke-width:2.0px;stroke-linecap:butt;stroke-linejoin:miter;stroke-opacity:1\"/>\n",
       "<path class=\"bond-10\" d=\"M 283.296,901.514 L 276.501,898.896\" style=\"fill:none;fill-rule:evenodd;stroke:#000000;stroke-width:2.0px;stroke-linecap:butt;stroke-linejoin:miter;stroke-opacity:1\"/>\n",
       "<path class=\"bond-11\" d=\"M 276.501,898.896 L 275.371,891.703\" style=\"fill:none;fill-rule:evenodd;stroke:#000000;stroke-width:2.0px;stroke-linecap:butt;stroke-linejoin:miter;stroke-opacity:1\"/>\n",
       "<path class=\"bond-12\" d=\"M 275.371,891.703 L 268.576,889.086\" style=\"fill:none;fill-rule:evenodd;stroke:#000000;stroke-width:2.0px;stroke-linecap:butt;stroke-linejoin:miter;stroke-opacity:1\"/>\n",
       "<path class=\"bond-0\" d=\"M 470.117,893.348 L 477.368,892.687\" style=\"fill:none;fill-rule:evenodd;stroke:#000000;stroke-width:2.0px;stroke-linecap:butt;stroke-linejoin:miter;stroke-opacity:1\"/>\n",
       "<path class=\"bond-1\" d=\"M 477.368,892.687 L 481.566,898.636\" style=\"fill:none;fill-rule:evenodd;stroke:#000000;stroke-width:2.0px;stroke-linecap:butt;stroke-linejoin:miter;stroke-opacity:1\"/>\n",
       "<path class=\"bond-2\" d=\"M 481.566,898.636 L 488.818,897.974\" style=\"fill:none;fill-rule:evenodd;stroke:#000000;stroke-width:2.0px;stroke-linecap:butt;stroke-linejoin:miter;stroke-opacity:1\"/>\n",
       "<path class=\"bond-3\" d=\"M 488.818,897.974 L 493.016,903.923\" style=\"fill:none;fill-rule:evenodd;stroke:#000000;stroke-width:2.0px;stroke-linecap:butt;stroke-linejoin:miter;stroke-opacity:1\"/>\n",
       "<path class=\"bond-4\" d=\"M 493.016,903.923 L 500.268,903.261\" style=\"fill:none;fill-rule:evenodd;stroke:#000000;stroke-width:2.0px;stroke-linecap:butt;stroke-linejoin:miter;stroke-opacity:1\"/>\n",
       "<path class=\"bond-5\" d=\"M 500.268,903.261 L 500.929,910.512\" style=\"fill:none;fill-rule:evenodd;stroke:#000000;stroke-width:2.0px;stroke-linecap:butt;stroke-linejoin:miter;stroke-opacity:1\"/>\n",
       "<path class=\"bond-6\" d=\"M 500.268,903.261 L 499.606,896.01\" style=\"fill:none;fill-rule:evenodd;stroke:#000000;stroke-width:2.0px;stroke-linecap:butt;stroke-linejoin:miter;stroke-opacity:1\"/>\n",
       "<path class=\"bond-7\" d=\"M 500.268,903.261 L 507.519,902.599\" style=\"fill:none;fill-rule:evenodd;stroke:#000000;stroke-width:2.0px;stroke-linecap:butt;stroke-linejoin:miter;stroke-opacity:1\"/>\n",
       "<path class=\"bond-8\" d=\"M 507.519,902.599 L 510.571,895.989\" style=\"fill:none;fill-rule:evenodd;stroke:#000000;stroke-width:2.0px;stroke-linecap:butt;stroke-linejoin:miter;stroke-opacity:1\"/>\n",
       "<path class=\"bond-9\" d=\"M 510.571,895.989 L 517.823,895.327\" style=\"fill:none;fill-rule:evenodd;stroke:#000000;stroke-width:2.0px;stroke-linecap:butt;stroke-linejoin:miter;stroke-opacity:1\"/>\n",
       "<path class=\"bond-10\" d=\"M 517.823,895.327 L 520.875,888.716\" style=\"fill:none;fill-rule:evenodd;stroke:#000000;stroke-width:2.0px;stroke-linecap:butt;stroke-linejoin:miter;stroke-opacity:1\"/>\n",
       "</svg>"
      ],
      "text/plain": [
       "<IPython.core.display.SVG object>"
      ]
     },
     "execution_count": 48,
     "metadata": {},
     "output_type": "execute_result"
    }
   ],
   "source": [
    "molecules = [Chem.MolFromSmiles(smi) for smi in smiles_hits]\n",
    "\n",
    "Draw.MolsToGridImage(molecules, subImgSize=(200,200), molsPerRow=3, useSVG=True)"
   ]
  },
  {
   "cell_type": "markdown",
   "id": "8f983071-1149-445c-a58b-6b19e65614a2",
   "metadata": {},
   "source": [
    "Let us now try to design molecules with a RON design specification of 40:"
   ]
  },
  {
   "cell_type": "code",
   "execution_count": 49,
   "id": "e108b0e1-56dd-49fb-b8a2-244c5f60f318",
   "metadata": {},
   "outputs": [],
   "source": [
    "spec = 40\n",
    "f = lambda smi: F(smi, mcw, setpoint=spec)"
   ]
  },
  {
   "cell_type": "code",
   "execution_count": 50,
   "id": "a1e774a0-2650-4b4d-a41e-654c737f64b5",
   "metadata": {},
   "outputs": [],
   "source": [
    "%%capture\n",
    "smiles_hits, Y_hits_pred = library_evolver(\n",
    "    smiles, \n",
    "    f, \n",
    "    mcw=None, \n",
    "    spec=0., \n",
    "    n_hits=15, \n",
    "    n_rounds=8\n",
    ")"
   ]
  },
  {
   "cell_type": "code",
   "execution_count": 51,
   "id": "46fbb76a-f459-47b0-b46e-6c191d254b7c",
   "metadata": {},
   "outputs": [],
   "source": [
    "X = mcw.transform(smiles_hits)\n",
    "Y_hits_pred, Y_hits_pred_std = regr.predict(X, return_std=True)"
   ]
  },
  {
   "cell_type": "code",
   "execution_count": 52,
   "id": "ee660232-2ef5-4d65-ac45-66b0eeb6df90",
   "metadata": {
    "tags": []
   },
   "outputs": [
    {
     "name": "stdout",
     "output_type": "stream",
     "text": [
      "['C1CCCCCC1', 'CCCCCCCCCCCCCCCCCCCCCCOP', 'CCCCCCCCCCCCCCCCCCCCCCCO', 'CCCCCCCCCCCCCCCCCCCCCO', 'CCC(C)CCC1CCCCCC1', 'CCCCCCC(C)CCOCCCCCCC=O', 'CCOCCC(C)CCCCCCCC=O', 'CCCCCC(C)C1CC1', 'CCCC(C)CCCCOCCC=O', 'CCCCCC=COCC(C)CCCCCCCCC', 'CCCOCCCCC(C)CCC=O', 'COCCOCCCC(C)CCC=O', 'CC=CCCCCCCC(C)CCCCCCO', 'COCCC(C)CCCCCCCCCOCCCC=O', 'CCCC(C)CCCCOCCCC=O']\n",
      "[39.21779861 39.71992898 37.87587836 37.87587836 40.20445621 39.96314923\n",
      " 39.96314923 40.91560691 39.99254415 40.1615945  40.17723795 40.17591007\n",
      " 39.72129073 39.64087149 40.35209478]\n",
      "[4.44652785 3.81443794 3.90976346 3.90976346 4.10660066 3.79155614\n",
      " 3.79155614 3.66184346 3.82234884 3.68071741 3.80296292 3.76151172\n",
      " 3.94101556 3.7911819  3.82252718]\n",
      "[1.0, 2.335994756109219, 1.4785622348488765, 1.4843430407966771, 2.3920347128200774, 2.6968520144438752, 2.7251500078061515, 2.3989416683641043, 2.838950520516823, 2.8620520646913636, 2.8068487453688924, 2.8666818814635686, 2.727212614558331, 2.7815813067361415, 2.778586739173825]\n"
     ]
    }
   ],
   "source": [
    "print(smiles_hits)\n",
    "print(Y_hits_pred)\n",
    "print(Y_hits_pred_std)\n",
    "print(SAscore_calc(smiles_hits))"
   ]
  },
  {
   "cell_type": "code",
   "execution_count": 53,
   "id": "32f47aa5-cc4a-45df-81ca-43ae91d27ed3",
   "metadata": {
    "scrolled": true
   },
   "outputs": [
    {
     "data": {
      "image/svg+xml": [
       "<svg xmlns=\"http://www.w3.org/2000/svg\" xmlns:rdkit=\"http://www.rdkit.org/xml\" xmlns:xlink=\"http://www.w3.org/1999/xlink\" version=\"1.1\" baseProfile=\"full\" xml:space=\"preserve\" width=\"600px\" height=\"1000px\" viewBox=\"0 0 600 1000\">\n",
       "<!-- END OF HEADER -->\n",
       "<rect style=\"opacity:1.0;fill:#FFFFFF;stroke:none\" width=\"600\" height=\"1000\" x=\"0\" y=\"0\"> </rect>\n",
       "<rect style=\"opacity:1.0;fill:#FFFFFF;stroke:none\" width=\"600\" height=\"1000\" x=\"0\" y=\"0\"> </rect>\n",
       "<rect style=\"opacity:1.0;fill:#FFFFFF;stroke:none\" width=\"600\" height=\"1000\" x=\"0\" y=\"0\"> </rect>\n",
       "<rect style=\"opacity:1.0;fill:#FFFFFF;stroke:none\" width=\"600\" height=\"1000\" x=\"0\" y=\"0\"> </rect>\n",
       "<rect style=\"opacity:1.0;fill:#FFFFFF;stroke:none\" width=\"600\" height=\"1000\" x=\"0\" y=\"0\"> </rect>\n",
       "<rect style=\"opacity:1.0;fill:#FFFFFF;stroke:none\" width=\"600\" height=\"1000\" x=\"0\" y=\"0\"> </rect>\n",
       "<rect style=\"opacity:1.0;fill:#FFFFFF;stroke:none\" width=\"600\" height=\"1000\" x=\"0\" y=\"0\"> </rect>\n",
       "<rect style=\"opacity:1.0;fill:#FFFFFF;stroke:none\" width=\"600\" height=\"1000\" x=\"0\" y=\"0\"> </rect>\n",
       "<rect style=\"opacity:1.0;fill:#FFFFFF;stroke:none\" width=\"600\" height=\"1000\" x=\"0\" y=\"0\"> </rect>\n",
       "<rect style=\"opacity:1.0;fill:#FFFFFF;stroke:none\" width=\"600\" height=\"1000\" x=\"0\" y=\"0\"> </rect>\n",
       "<rect style=\"opacity:1.0;fill:#FFFFFF;stroke:none\" width=\"600\" height=\"1000\" x=\"0\" y=\"0\"> </rect>\n",
       "<rect style=\"opacity:1.0;fill:#FFFFFF;stroke:none\" width=\"600\" height=\"1000\" x=\"0\" y=\"0\"> </rect>\n",
       "<rect style=\"opacity:1.0;fill:#FFFFFF;stroke:none\" width=\"600\" height=\"1000\" x=\"0\" y=\"0\"> </rect>\n",
       "<rect style=\"opacity:1.0;fill:#FFFFFF;stroke:none\" width=\"600\" height=\"1000\" x=\"0\" y=\"0\"> </rect>\n",
       "<rect style=\"opacity:1.0;fill:#FFFFFF;stroke:none\" width=\"600\" height=\"1000\" x=\"0\" y=\"0\"> </rect>\n",
       "<rect style=\"opacity:1.0;fill:#FFFFFF;stroke:none\" width=\"600\" height=\"1000\" x=\"0\" y=\"0\"> </rect>\n",
       "<path class=\"bond-0\" d=\"M 106.833,98.4167 L 103.016,90.492\" style=\"fill:none;fill-rule:evenodd;stroke:#000000;stroke-width:2.0px;stroke-linecap:butt;stroke-linejoin:miter;stroke-opacity:1\"/>\n",
       "<path class=\"bond-6\" d=\"M 106.833,98.4167 L 103.016,106.341\" style=\"fill:none;fill-rule:evenodd;stroke:#000000;stroke-width:2.0px;stroke-linecap:butt;stroke-linejoin:miter;stroke-opacity:1\"/>\n",
       "<path class=\"bond-1\" d=\"M 103.016,90.492 L 94.441,88.5348\" style=\"fill:none;fill-rule:evenodd;stroke:#000000;stroke-width:2.0px;stroke-linecap:butt;stroke-linejoin:miter;stroke-opacity:1\"/>\n",
       "<path class=\"bond-2\" d=\"M 94.441,88.5348 L 87.5643,94.0189\" style=\"fill:none;fill-rule:evenodd;stroke:#000000;stroke-width:2.0px;stroke-linecap:butt;stroke-linejoin:miter;stroke-opacity:1\"/>\n",
       "<path class=\"bond-3\" d=\"M 87.5643,94.0189 L 87.5643,102.815\" style=\"fill:none;fill-rule:evenodd;stroke:#000000;stroke-width:2.0px;stroke-linecap:butt;stroke-linejoin:miter;stroke-opacity:1\"/>\n",
       "<path class=\"bond-4\" d=\"M 87.5643,102.815 L 94.441,108.299\" style=\"fill:none;fill-rule:evenodd;stroke:#000000;stroke-width:2.0px;stroke-linecap:butt;stroke-linejoin:miter;stroke-opacity:1\"/>\n",
       "<path class=\"bond-5\" d=\"M 94.441,108.299 L 103.016,106.341\" style=\"fill:none;fill-rule:evenodd;stroke:#000000;stroke-width:2.0px;stroke-linecap:butt;stroke-linejoin:miter;stroke-opacity:1\"/>\n",
       "<path class=\"bond-0\" d=\"M 209.091,100.351 L 216.721,95.9765\" style=\"fill:none;fill-rule:evenodd;stroke:#000000;stroke-width:2.0px;stroke-linecap:butt;stroke-linejoin:miter;stroke-opacity:1\"/>\n",
       "<path class=\"bond-1\" d=\"M 216.721,95.9765 L 224.326,100.397\" style=\"fill:none;fill-rule:evenodd;stroke:#000000;stroke-width:2.0px;stroke-linecap:butt;stroke-linejoin:miter;stroke-opacity:1\"/>\n",
       "<path class=\"bond-2\" d=\"M 224.326,100.397 L 231.956,96.0224\" style=\"fill:none;fill-rule:evenodd;stroke:#000000;stroke-width:2.0px;stroke-linecap:butt;stroke-linejoin:miter;stroke-opacity:1\"/>\n",
       "<path class=\"bond-3\" d=\"M 231.956,96.0224 L 239.56,100.443\" style=\"fill:none;fill-rule:evenodd;stroke:#000000;stroke-width:2.0px;stroke-linecap:butt;stroke-linejoin:miter;stroke-opacity:1\"/>\n",
       "<path class=\"bond-4\" d=\"M 239.56,100.443 L 247.191,96.0684\" style=\"fill:none;fill-rule:evenodd;stroke:#000000;stroke-width:2.0px;stroke-linecap:butt;stroke-linejoin:miter;stroke-opacity:1\"/>\n",
       "<path class=\"bond-5\" d=\"M 247.191,96.0684 L 254.795,100.489\" style=\"fill:none;fill-rule:evenodd;stroke:#000000;stroke-width:2.0px;stroke-linecap:butt;stroke-linejoin:miter;stroke-opacity:1\"/>\n",
       "<path class=\"bond-6\" d=\"M 254.795,100.489 L 262.425,96.1144\" style=\"fill:none;fill-rule:evenodd;stroke:#000000;stroke-width:2.0px;stroke-linecap:butt;stroke-linejoin:miter;stroke-opacity:1\"/>\n",
       "<path class=\"bond-7\" d=\"M 262.425,96.1144 L 270.029,100.535\" style=\"fill:none;fill-rule:evenodd;stroke:#000000;stroke-width:2.0px;stroke-linecap:butt;stroke-linejoin:miter;stroke-opacity:1\"/>\n",
       "<path class=\"bond-8\" d=\"M 270.029,100.535 L 277.66,96.1603\" style=\"fill:none;fill-rule:evenodd;stroke:#000000;stroke-width:2.0px;stroke-linecap:butt;stroke-linejoin:miter;stroke-opacity:1\"/>\n",
       "<path class=\"bond-9\" d=\"M 277.66,96.1603 L 285.264,100.581\" style=\"fill:none;fill-rule:evenodd;stroke:#000000;stroke-width:2.0px;stroke-linecap:butt;stroke-linejoin:miter;stroke-opacity:1\"/>\n",
       "<path class=\"bond-10\" d=\"M 285.264,100.581 L 292.895,96.2063\" style=\"fill:none;fill-rule:evenodd;stroke:#000000;stroke-width:2.0px;stroke-linecap:butt;stroke-linejoin:miter;stroke-opacity:1\"/>\n",
       "<path class=\"bond-11\" d=\"M 292.895,96.2063 L 300.499,100.627\" style=\"fill:none;fill-rule:evenodd;stroke:#000000;stroke-width:2.0px;stroke-linecap:butt;stroke-linejoin:miter;stroke-opacity:1\"/>\n",
       "<path class=\"bond-12\" d=\"M 300.499,100.627 L 308.129,96.2523\" style=\"fill:none;fill-rule:evenodd;stroke:#000000;stroke-width:2.0px;stroke-linecap:butt;stroke-linejoin:miter;stroke-opacity:1\"/>\n",
       "<path class=\"bond-13\" d=\"M 308.129,96.2523 L 315.733,100.673\" style=\"fill:none;fill-rule:evenodd;stroke:#000000;stroke-width:2.0px;stroke-linecap:butt;stroke-linejoin:miter;stroke-opacity:1\"/>\n",
       "<path class=\"bond-14\" d=\"M 315.733,100.673 L 323.364,96.2982\" style=\"fill:none;fill-rule:evenodd;stroke:#000000;stroke-width:2.0px;stroke-linecap:butt;stroke-linejoin:miter;stroke-opacity:1\"/>\n",
       "<path class=\"bond-15\" d=\"M 323.364,96.2982 L 330.968,100.719\" style=\"fill:none;fill-rule:evenodd;stroke:#000000;stroke-width:2.0px;stroke-linecap:butt;stroke-linejoin:miter;stroke-opacity:1\"/>\n",
       "<path class=\"bond-16\" d=\"M 330.968,100.719 L 338.598,96.3442\" style=\"fill:none;fill-rule:evenodd;stroke:#000000;stroke-width:2.0px;stroke-linecap:butt;stroke-linejoin:miter;stroke-opacity:1\"/>\n",
       "<path class=\"bond-17\" d=\"M 338.598,96.3442 L 346.202,100.765\" style=\"fill:none;fill-rule:evenodd;stroke:#000000;stroke-width:2.0px;stroke-linecap:butt;stroke-linejoin:miter;stroke-opacity:1\"/>\n",
       "<path class=\"bond-18\" d=\"M 346.202,100.765 L 353.833,96.3902\" style=\"fill:none;fill-rule:evenodd;stroke:#000000;stroke-width:2.0px;stroke-linecap:butt;stroke-linejoin:miter;stroke-opacity:1\"/>\n",
       "<path class=\"bond-19\" d=\"M 353.833,96.3902 L 361.437,100.811\" style=\"fill:none;fill-rule:evenodd;stroke:#000000;stroke-width:2.0px;stroke-linecap:butt;stroke-linejoin:miter;stroke-opacity:1\"/>\n",
       "<path class=\"bond-20\" d=\"M 361.437,100.811 L 369.068,96.4362\" style=\"fill:none;fill-rule:evenodd;stroke:#000000;stroke-width:2.0px;stroke-linecap:butt;stroke-linejoin:miter;stroke-opacity:1\"/>\n",
       "<path class=\"bond-21\" d=\"M 369.068,96.4362 L 371.785,98.0158\" style=\"fill:none;fill-rule:evenodd;stroke:#000000;stroke-width:2.0px;stroke-linecap:butt;stroke-linejoin:miter;stroke-opacity:1\"/>\n",
       "<path class=\"bond-21\" d=\"M 371.785,98.0158 L 374.502,99.5955\" style=\"fill:none;fill-rule:evenodd;stroke:#FF0000;stroke-width:2.0px;stroke-linecap:butt;stroke-linejoin:miter;stroke-opacity:1\"/>\n",
       "<path class=\"bond-22\" d=\"M 378.841,99.6129 L 380.815,98.4814\" style=\"fill:none;fill-rule:evenodd;stroke:#FF0000;stroke-width:2.0px;stroke-linecap:butt;stroke-linejoin:miter;stroke-opacity:1\"/>\n",
       "<path class=\"bond-22\" d=\"M 380.815,98.4814 L 382.789,97.3498\" style=\"fill:none;fill-rule:evenodd;stroke:#FF7F00;stroke-width:2.0px;stroke-linecap:butt;stroke-linejoin:miter;stroke-opacity:1\"/>\n",
       "<path class=\"atom-22\" d=\"M 374.722 100.869 Q 374.722 99.849, 375.226 99.279 Q 375.73 98.709, 376.672 98.709 Q 377.614 98.709, 378.118 99.279 Q 378.622 99.849, 378.622 100.869 Q 378.622 101.901, 378.112 102.489 Q 377.602 103.071, 376.672 103.071 Q 375.736 103.071, 375.226 102.489 Q 374.722 101.907, 374.722 100.869 M 376.672 102.591 Q 377.32 102.591, 377.668 102.159 Q 378.022 101.721, 378.022 100.869 Q 378.022 100.035, 377.668 99.615 Q 377.32 99.189, 376.672 99.189 Q 376.024 99.189, 375.67 99.609 Q 375.322 100.029, 375.322 100.869 Q 375.322 101.727, 375.67 102.159 Q 376.024 102.591, 376.672 102.591 \" fill=\"#FF0000\"/>\n",
       "<path class=\"atom-23\" d=\"M 384.2 94.3581 Q 384.926 94.3581, 385.292 94.6881 Q 385.658 95.0121, 385.658 95.6061 Q 385.658 96.1941, 385.28 96.5301 Q 384.908 96.8601, 384.2 96.8601 L 383.522 96.8601 L 383.522 98.6061 L 382.946 98.6061 L 382.946 94.3581 L 384.2 94.3581 M 384.2 96.3801 Q 384.614 96.3801, 384.836 96.1821 Q 385.058 95.9841, 385.058 95.6061 Q 385.058 95.2281, 384.836 95.0361 Q 384.62 94.8381, 384.2 94.8381 L 383.522 94.8381 L 383.522 96.3801 L 384.2 96.3801 \" fill=\"#FF7F00\"/>\n",
       "<path class=\"atom-23\" d=\"M 386.168 94.3581 L 386.744 94.3581 L 386.744 96.1641 L 388.916 96.1641 L 388.916 94.3581 L 389.492 94.3581 L 389.492 98.6061 L 388.916 98.6061 L 388.916 96.6441 L 386.744 96.6441 L 386.744 98.6061 L 386.168 98.6061 L 386.168 94.3581 \" fill=\"#FF7F00\"/>\n",
       "<path class=\"atom-23\" d=\"M 389.698 98.4571 Q 389.801 98.1918, 390.047 98.0452 Q 390.292 97.8948, 390.633 97.8948 Q 391.056 97.8948, 391.294 98.1244 Q 391.532 98.3541, 391.532 98.762 Q 391.532 99.1778, 391.223 99.5659 Q 390.918 99.954, 390.284 100.413 L 391.579 100.413 L 391.579 100.73 L 389.69 100.73 L 389.69 100.465 Q 390.213 100.093, 390.522 99.8154 Q 390.835 99.5382, 390.985 99.2887 Q 391.136 99.0392, 391.136 98.7818 Q 391.136 98.5125, 391.001 98.362 Q 390.866 98.2116, 390.633 98.2116 Q 390.407 98.2116, 390.256 98.3026 Q 390.106 98.3937, 389.999 98.5957 L 389.698 98.4571 \" fill=\"#FF7F00\"/>\n",
       "<path class=\"bond-0\" d=\"M 409.091,100.351 L 416.721,95.9765\" style=\"fill:none;fill-rule:evenodd;stroke:#000000;stroke-width:2.0px;stroke-linecap:butt;stroke-linejoin:miter;stroke-opacity:1\"/>\n",
       "<path class=\"bond-1\" d=\"M 416.721,95.9765 L 424.326,100.397\" style=\"fill:none;fill-rule:evenodd;stroke:#000000;stroke-width:2.0px;stroke-linecap:butt;stroke-linejoin:miter;stroke-opacity:1\"/>\n",
       "<path class=\"bond-2\" d=\"M 424.326,100.397 L 431.956,96.0224\" style=\"fill:none;fill-rule:evenodd;stroke:#000000;stroke-width:2.0px;stroke-linecap:butt;stroke-linejoin:miter;stroke-opacity:1\"/>\n",
       "<path class=\"bond-3\" d=\"M 431.956,96.0224 L 439.56,100.443\" style=\"fill:none;fill-rule:evenodd;stroke:#000000;stroke-width:2.0px;stroke-linecap:butt;stroke-linejoin:miter;stroke-opacity:1\"/>\n",
       "<path class=\"bond-4\" d=\"M 439.56,100.443 L 447.191,96.0684\" style=\"fill:none;fill-rule:evenodd;stroke:#000000;stroke-width:2.0px;stroke-linecap:butt;stroke-linejoin:miter;stroke-opacity:1\"/>\n",
       "<path class=\"bond-5\" d=\"M 447.191,96.0684 L 454.795,100.489\" style=\"fill:none;fill-rule:evenodd;stroke:#000000;stroke-width:2.0px;stroke-linecap:butt;stroke-linejoin:miter;stroke-opacity:1\"/>\n",
       "<path class=\"bond-6\" d=\"M 454.795,100.489 L 462.425,96.1144\" style=\"fill:none;fill-rule:evenodd;stroke:#000000;stroke-width:2.0px;stroke-linecap:butt;stroke-linejoin:miter;stroke-opacity:1\"/>\n",
       "<path class=\"bond-7\" d=\"M 462.425,96.1144 L 470.029,100.535\" style=\"fill:none;fill-rule:evenodd;stroke:#000000;stroke-width:2.0px;stroke-linecap:butt;stroke-linejoin:miter;stroke-opacity:1\"/>\n",
       "<path class=\"bond-8\" d=\"M 470.029,100.535 L 477.66,96.1603\" style=\"fill:none;fill-rule:evenodd;stroke:#000000;stroke-width:2.0px;stroke-linecap:butt;stroke-linejoin:miter;stroke-opacity:1\"/>\n",
       "<path class=\"bond-9\" d=\"M 477.66,96.1603 L 485.264,100.581\" style=\"fill:none;fill-rule:evenodd;stroke:#000000;stroke-width:2.0px;stroke-linecap:butt;stroke-linejoin:miter;stroke-opacity:1\"/>\n",
       "<path class=\"bond-10\" d=\"M 485.264,100.581 L 492.895,96.2063\" style=\"fill:none;fill-rule:evenodd;stroke:#000000;stroke-width:2.0px;stroke-linecap:butt;stroke-linejoin:miter;stroke-opacity:1\"/>\n",
       "<path class=\"bond-11\" d=\"M 492.895,96.2063 L 500.499,100.627\" style=\"fill:none;fill-rule:evenodd;stroke:#000000;stroke-width:2.0px;stroke-linecap:butt;stroke-linejoin:miter;stroke-opacity:1\"/>\n",
       "<path class=\"bond-12\" d=\"M 500.499,100.627 L 508.129,96.2523\" style=\"fill:none;fill-rule:evenodd;stroke:#000000;stroke-width:2.0px;stroke-linecap:butt;stroke-linejoin:miter;stroke-opacity:1\"/>\n",
       "<path class=\"bond-13\" d=\"M 508.129,96.2523 L 515.733,100.673\" style=\"fill:none;fill-rule:evenodd;stroke:#000000;stroke-width:2.0px;stroke-linecap:butt;stroke-linejoin:miter;stroke-opacity:1\"/>\n",
       "<path class=\"bond-14\" d=\"M 515.733,100.673 L 523.364,96.2982\" style=\"fill:none;fill-rule:evenodd;stroke:#000000;stroke-width:2.0px;stroke-linecap:butt;stroke-linejoin:miter;stroke-opacity:1\"/>\n",
       "<path class=\"bond-15\" d=\"M 523.364,96.2982 L 530.968,100.719\" style=\"fill:none;fill-rule:evenodd;stroke:#000000;stroke-width:2.0px;stroke-linecap:butt;stroke-linejoin:miter;stroke-opacity:1\"/>\n",
       "<path class=\"bond-16\" d=\"M 530.968,100.719 L 538.598,96.3442\" style=\"fill:none;fill-rule:evenodd;stroke:#000000;stroke-width:2.0px;stroke-linecap:butt;stroke-linejoin:miter;stroke-opacity:1\"/>\n",
       "<path class=\"bond-17\" d=\"M 538.598,96.3442 L 546.202,100.765\" style=\"fill:none;fill-rule:evenodd;stroke:#000000;stroke-width:2.0px;stroke-linecap:butt;stroke-linejoin:miter;stroke-opacity:1\"/>\n",
       "<path class=\"bond-18\" d=\"M 546.202,100.765 L 553.833,96.3902\" style=\"fill:none;fill-rule:evenodd;stroke:#000000;stroke-width:2.0px;stroke-linecap:butt;stroke-linejoin:miter;stroke-opacity:1\"/>\n",
       "<path class=\"bond-19\" d=\"M 553.833,96.3902 L 561.437,100.811\" style=\"fill:none;fill-rule:evenodd;stroke:#000000;stroke-width:2.0px;stroke-linecap:butt;stroke-linejoin:miter;stroke-opacity:1\"/>\n",
       "<path class=\"bond-20\" d=\"M 561.437,100.811 L 569.068,96.4362\" style=\"fill:none;fill-rule:evenodd;stroke:#000000;stroke-width:2.0px;stroke-linecap:butt;stroke-linejoin:miter;stroke-opacity:1\"/>\n",
       "<path class=\"bond-21\" d=\"M 569.068,96.4362 L 576.672,100.857\" style=\"fill:none;fill-rule:evenodd;stroke:#000000;stroke-width:2.0px;stroke-linecap:butt;stroke-linejoin:miter;stroke-opacity:1\"/>\n",
       "<path class=\"bond-22\" d=\"M 576.672,100.857 L 579.402,99.2916\" style=\"fill:none;fill-rule:evenodd;stroke:#000000;stroke-width:2.0px;stroke-linecap:butt;stroke-linejoin:miter;stroke-opacity:1\"/>\n",
       "<path class=\"bond-22\" d=\"M 579.402,99.2916 L 582.132,97.7262\" style=\"fill:none;fill-rule:evenodd;stroke:#FF0000;stroke-width:2.0px;stroke-linecap:butt;stroke-linejoin:miter;stroke-opacity:1\"/>\n",
       "<path class=\"atom-23\" d=\"M 582.352 96.4941 Q 582.352 95.4741, 582.856 94.9041 Q 583.36 94.3341, 584.302 94.3341 Q 585.244 94.3341, 585.748 94.9041 Q 586.252 95.4741, 586.252 96.4941 Q 586.252 97.5261, 585.742 98.1141 Q 585.232 98.6961, 584.302 98.6961 Q 583.366 98.6961, 582.856 98.1141 Q 582.352 97.5321, 582.352 96.4941 M 584.302 98.2161 Q 584.95 98.2161, 585.298 97.7841 Q 585.652 97.3461, 585.652 96.4941 Q 585.652 95.6601, 585.298 95.2401 Q 584.95 94.8141, 584.302 94.8141 Q 583.654 94.8141, 583.3 95.2341 Q 582.952 95.6541, 582.952 96.4941 Q 582.952 97.3521, 583.3 97.7841 Q 583.654 98.2161, 584.302 98.2161 \" fill=\"#FF0000\"/>\n",
       "<path class=\"atom-23\" d=\"M 586.762 94.3821 L 587.338 94.3821 L 587.338 96.1881 L 589.51 96.1881 L 589.51 94.3821 L 590.086 94.3821 L 590.086 98.6301 L 589.51 98.6301 L 589.51 96.6681 L 587.338 96.6681 L 587.338 98.6301 L 586.762 98.6301 L 586.762 94.3821 \" fill=\"#FF0000\"/>\n",
       "<path class=\"bond-0\" d=\"M 16.7071,300.328 L 24.3402,295.958\" style=\"fill:none;fill-rule:evenodd;stroke:#000000;stroke-width:2.0px;stroke-linecap:butt;stroke-linejoin:miter;stroke-opacity:1\"/>\n",
       "<path class=\"bond-1\" d=\"M 24.3402,295.958 L 31.9417,300.383\" style=\"fill:none;fill-rule:evenodd;stroke:#000000;stroke-width:2.0px;stroke-linecap:butt;stroke-linejoin:miter;stroke-opacity:1\"/>\n",
       "<path class=\"bond-2\" d=\"M 31.9417,300.383 L 39.5748,296.013\" style=\"fill:none;fill-rule:evenodd;stroke:#000000;stroke-width:2.0px;stroke-linecap:butt;stroke-linejoin:miter;stroke-opacity:1\"/>\n",
       "<path class=\"bond-3\" d=\"M 39.5748,296.013 L 47.1763,300.438\" style=\"fill:none;fill-rule:evenodd;stroke:#000000;stroke-width:2.0px;stroke-linecap:butt;stroke-linejoin:miter;stroke-opacity:1\"/>\n",
       "<path class=\"bond-4\" d=\"M 47.1763,300.438 L 54.8093,296.067\" style=\"fill:none;fill-rule:evenodd;stroke:#000000;stroke-width:2.0px;stroke-linecap:butt;stroke-linejoin:miter;stroke-opacity:1\"/>\n",
       "<path class=\"bond-5\" d=\"M 54.8093,296.067 L 62.4108,300.492\" style=\"fill:none;fill-rule:evenodd;stroke:#000000;stroke-width:2.0px;stroke-linecap:butt;stroke-linejoin:miter;stroke-opacity:1\"/>\n",
       "<path class=\"bond-6\" d=\"M 62.4108,300.492 L 70.0439,296.122\" style=\"fill:none;fill-rule:evenodd;stroke:#000000;stroke-width:2.0px;stroke-linecap:butt;stroke-linejoin:miter;stroke-opacity:1\"/>\n",
       "<path class=\"bond-7\" d=\"M 70.0439,296.122 L 77.6454,300.547\" style=\"fill:none;fill-rule:evenodd;stroke:#000000;stroke-width:2.0px;stroke-linecap:butt;stroke-linejoin:miter;stroke-opacity:1\"/>\n",
       "<path class=\"bond-8\" d=\"M 77.6454,300.547 L 85.2785,296.177\" style=\"fill:none;fill-rule:evenodd;stroke:#000000;stroke-width:2.0px;stroke-linecap:butt;stroke-linejoin:miter;stroke-opacity:1\"/>\n",
       "<path class=\"bond-9\" d=\"M 85.2785,296.177 L 92.88,300.602\" style=\"fill:none;fill-rule:evenodd;stroke:#000000;stroke-width:2.0px;stroke-linecap:butt;stroke-linejoin:miter;stroke-opacity:1\"/>\n",
       "<path class=\"bond-10\" d=\"M 92.88,300.602 L 100.513,296.231\" style=\"fill:none;fill-rule:evenodd;stroke:#000000;stroke-width:2.0px;stroke-linecap:butt;stroke-linejoin:miter;stroke-opacity:1\"/>\n",
       "<path class=\"bond-11\" d=\"M 100.513,296.231 L 108.115,300.657\" style=\"fill:none;fill-rule:evenodd;stroke:#000000;stroke-width:2.0px;stroke-linecap:butt;stroke-linejoin:miter;stroke-opacity:1\"/>\n",
       "<path class=\"bond-12\" d=\"M 108.115,300.657 L 115.748,296.286\" style=\"fill:none;fill-rule:evenodd;stroke:#000000;stroke-width:2.0px;stroke-linecap:butt;stroke-linejoin:miter;stroke-opacity:1\"/>\n",
       "<path class=\"bond-13\" d=\"M 115.748,296.286 L 123.349,300.711\" style=\"fill:none;fill-rule:evenodd;stroke:#000000;stroke-width:2.0px;stroke-linecap:butt;stroke-linejoin:miter;stroke-opacity:1\"/>\n",
       "<path class=\"bond-14\" d=\"M 123.349,300.711 L 130.982,296.341\" style=\"fill:none;fill-rule:evenodd;stroke:#000000;stroke-width:2.0px;stroke-linecap:butt;stroke-linejoin:miter;stroke-opacity:1\"/>\n",
       "<path class=\"bond-15\" d=\"M 130.982,296.341 L 138.584,300.766\" style=\"fill:none;fill-rule:evenodd;stroke:#000000;stroke-width:2.0px;stroke-linecap:butt;stroke-linejoin:miter;stroke-opacity:1\"/>\n",
       "<path class=\"bond-16\" d=\"M 138.584,300.766 L 146.217,296.396\" style=\"fill:none;fill-rule:evenodd;stroke:#000000;stroke-width:2.0px;stroke-linecap:butt;stroke-linejoin:miter;stroke-opacity:1\"/>\n",
       "<path class=\"bond-17\" d=\"M 146.217,296.396 L 153.818,300.821\" style=\"fill:none;fill-rule:evenodd;stroke:#000000;stroke-width:2.0px;stroke-linecap:butt;stroke-linejoin:miter;stroke-opacity:1\"/>\n",
       "<path class=\"bond-18\" d=\"M 153.818,300.821 L 161.451,296.45\" style=\"fill:none;fill-rule:evenodd;stroke:#000000;stroke-width:2.0px;stroke-linecap:butt;stroke-linejoin:miter;stroke-opacity:1\"/>\n",
       "<path class=\"bond-19\" d=\"M 161.451,296.45 L 169.053,300.876\" style=\"fill:none;fill-rule:evenodd;stroke:#000000;stroke-width:2.0px;stroke-linecap:butt;stroke-linejoin:miter;stroke-opacity:1\"/>\n",
       "<path class=\"bond-20\" d=\"M 169.053,300.876 L 171.784,299.312\" style=\"fill:none;fill-rule:evenodd;stroke:#000000;stroke-width:2.0px;stroke-linecap:butt;stroke-linejoin:miter;stroke-opacity:1\"/>\n",
       "<path class=\"bond-20\" d=\"M 171.784,299.312 L 174.516,297.748\" style=\"fill:none;fill-rule:evenodd;stroke:#FF0000;stroke-width:2.0px;stroke-linecap:butt;stroke-linejoin:miter;stroke-opacity:1\"/>\n",
       "<path class=\"atom-21\" d=\"M 174.736 296.517 Q 174.736 295.497, 175.24 294.927 Q 175.744 294.357, 176.686 294.357 Q 177.628 294.357, 178.132 294.927 Q 178.636 295.497, 178.636 296.517 Q 178.636 297.549, 178.126 298.137 Q 177.616 298.719, 176.686 298.719 Q 175.75 298.719, 175.24 298.137 Q 174.736 297.555, 174.736 296.517 M 176.686 298.239 Q 177.334 298.239, 177.682 297.807 Q 178.036 297.369, 178.036 296.517 Q 178.036 295.683, 177.682 295.263 Q 177.334 294.837, 176.686 294.837 Q 176.038 294.837, 175.684 295.257 Q 175.336 295.677, 175.336 296.517 Q 175.336 297.375, 175.684 297.807 Q 176.038 298.239, 176.686 298.239 \" fill=\"#FF0000\"/>\n",
       "<path class=\"atom-21\" d=\"M 179.146 294.405 L 179.722 294.405 L 179.722 296.211 L 181.894 296.211 L 181.894 294.405 L 182.47 294.405 L 182.47 298.653 L 181.894 298.653 L 181.894 296.691 L 179.722 296.691 L 179.722 298.653 L 179.146 298.653 L 179.146 294.405 \" fill=\"#FF0000\"/>\n",
       "<path class=\"bond-0\" d=\"M 266.866,305.154 L 275.569,303.88\" style=\"fill:none;fill-rule:evenodd;stroke:#000000;stroke-width:2.0px;stroke-linecap:butt;stroke-linejoin:miter;stroke-opacity:1\"/>\n",
       "<path class=\"bond-1\" d=\"M 275.569,303.88 L 278.817,295.705\" style=\"fill:none;fill-rule:evenodd;stroke:#000000;stroke-width:2.0px;stroke-linecap:butt;stroke-linejoin:miter;stroke-opacity:1\"/>\n",
       "<path class=\"bond-2\" d=\"M 278.817,295.705 L 273.361,288.806\" style=\"fill:none;fill-rule:evenodd;stroke:#000000;stroke-width:2.0px;stroke-linecap:butt;stroke-linejoin:miter;stroke-opacity:1\"/>\n",
       "<path class=\"bond-3\" d=\"M 278.817,295.705 L 287.52,294.431\" style=\"fill:none;fill-rule:evenodd;stroke:#000000;stroke-width:2.0px;stroke-linecap:butt;stroke-linejoin:miter;stroke-opacity:1\"/>\n",
       "<path class=\"bond-4\" d=\"M 287.52,294.431 L 292.975,301.331\" style=\"fill:none;fill-rule:evenodd;stroke:#000000;stroke-width:2.0px;stroke-linecap:butt;stroke-linejoin:miter;stroke-opacity:1\"/>\n",
       "<path class=\"bond-5\" d=\"M 292.975,301.331 L 301.678,300.056\" style=\"fill:none;fill-rule:evenodd;stroke:#000000;stroke-width:2.0px;stroke-linecap:butt;stroke-linejoin:miter;stroke-opacity:1\"/>\n",
       "<path class=\"bond-6\" d=\"M 301.678,300.056 L 306.602,307.344\" style=\"fill:none;fill-rule:evenodd;stroke:#000000;stroke-width:2.0px;stroke-linecap:butt;stroke-linejoin:miter;stroke-opacity:1\"/>\n",
       "<path class=\"bond-12\" d=\"M 301.678,300.056 L 304.305,291.662\" style=\"fill:none;fill-rule:evenodd;stroke:#000000;stroke-width:2.0px;stroke-linecap:butt;stroke-linejoin:miter;stroke-opacity:1\"/>\n",
       "<path class=\"bond-7\" d=\"M 306.602,307.344 L 315.37,308.038\" style=\"fill:none;fill-rule:evenodd;stroke:#000000;stroke-width:2.0px;stroke-linecap:butt;stroke-linejoin:miter;stroke-opacity:1\"/>\n",
       "<path class=\"bond-8\" d=\"M 315.37,308.038 L 321.38,301.615\" style=\"fill:none;fill-rule:evenodd;stroke:#000000;stroke-width:2.0px;stroke-linecap:butt;stroke-linejoin:miter;stroke-opacity:1\"/>\n",
       "<path class=\"bond-9\" d=\"M 321.38,301.615 L 320.105,292.912\" style=\"fill:none;fill-rule:evenodd;stroke:#000000;stroke-width:2.0px;stroke-linecap:butt;stroke-linejoin:miter;stroke-opacity:1\"/>\n",
       "<path class=\"bond-10\" d=\"M 320.105,292.912 L 312.507,288.483\" style=\"fill:none;fill-rule:evenodd;stroke:#000000;stroke-width:2.0px;stroke-linecap:butt;stroke-linejoin:miter;stroke-opacity:1\"/>\n",
       "<path class=\"bond-11\" d=\"M 312.507,288.483 L 304.305,291.662\" style=\"fill:none;fill-rule:evenodd;stroke:#000000;stroke-width:2.0px;stroke-linecap:butt;stroke-linejoin:miter;stroke-opacity:1\"/>\n",
       "<path class=\"bond-0\" d=\"M 546.944,276.943 L 545.066,285.536\" style=\"fill:none;fill-rule:evenodd;stroke:#000000;stroke-width:2.0px;stroke-linecap:butt;stroke-linejoin:miter;stroke-opacity:1\"/>\n",
       "<path class=\"bond-1\" d=\"M 545.066,285.536 L 536.685,288.205\" style=\"fill:none;fill-rule:evenodd;stroke:#000000;stroke-width:2.0px;stroke-linecap:butt;stroke-linejoin:miter;stroke-opacity:1\"/>\n",
       "<path class=\"bond-2\" d=\"M 536.685,288.205 L 534.806,296.798\" style=\"fill:none;fill-rule:evenodd;stroke:#000000;stroke-width:2.0px;stroke-linecap:butt;stroke-linejoin:miter;stroke-opacity:1\"/>\n",
       "<path class=\"bond-3\" d=\"M 534.806,296.798 L 526.425,299.467\" style=\"fill:none;fill-rule:evenodd;stroke:#000000;stroke-width:2.0px;stroke-linecap:butt;stroke-linejoin:miter;stroke-opacity:1\"/>\n",
       "<path class=\"bond-4\" d=\"M 526.425,299.467 L 524.546,308.06\" style=\"fill:none;fill-rule:evenodd;stroke:#000000;stroke-width:2.0px;stroke-linecap:butt;stroke-linejoin:miter;stroke-opacity:1\"/>\n",
       "<path class=\"bond-5\" d=\"M 524.546,308.06 L 516.165,310.729\" style=\"fill:none;fill-rule:evenodd;stroke:#000000;stroke-width:2.0px;stroke-linecap:butt;stroke-linejoin:miter;stroke-opacity:1\"/>\n",
       "<path class=\"bond-6\" d=\"M 516.165,310.729 L 514.286,319.322\" style=\"fill:none;fill-rule:evenodd;stroke:#000000;stroke-width:2.0px;stroke-linecap:butt;stroke-linejoin:miter;stroke-opacity:1\"/>\n",
       "<path class=\"bond-7\" d=\"M 516.165,310.729 L 509.663,304.806\" style=\"fill:none;fill-rule:evenodd;stroke:#000000;stroke-width:2.0px;stroke-linecap:butt;stroke-linejoin:miter;stroke-opacity:1\"/>\n",
       "<path class=\"bond-8\" d=\"M 509.663,304.806 L 501.282,307.475\" style=\"fill:none;fill-rule:evenodd;stroke:#000000;stroke-width:2.0px;stroke-linecap:butt;stroke-linejoin:miter;stroke-opacity:1\"/>\n",
       "<path class=\"bond-9\" d=\"M 501.282,307.475 L 499.116,305.502\" style=\"fill:none;fill-rule:evenodd;stroke:#000000;stroke-width:2.0px;stroke-linecap:butt;stroke-linejoin:miter;stroke-opacity:1\"/>\n",
       "<path class=\"bond-9\" d=\"M 499.116,305.502 L 496.95,303.528\" style=\"fill:none;fill-rule:evenodd;stroke:#FF0000;stroke-width:2.0px;stroke-linecap:butt;stroke-linejoin:miter;stroke-opacity:1\"/>\n",
       "<path class=\"bond-10\" d=\"M 492.61,302.243 L 489.505,303.232\" style=\"fill:none;fill-rule:evenodd;stroke:#FF0000;stroke-width:2.0px;stroke-linecap:butt;stroke-linejoin:miter;stroke-opacity:1\"/>\n",
       "<path class=\"bond-10\" d=\"M 489.505,303.232 L 486.399,304.221\" style=\"fill:none;fill-rule:evenodd;stroke:#000000;stroke-width:2.0px;stroke-linecap:butt;stroke-linejoin:miter;stroke-opacity:1\"/>\n",
       "<path class=\"bond-11\" d=\"M 486.399,304.221 L 479.897,298.298\" style=\"fill:none;fill-rule:evenodd;stroke:#000000;stroke-width:2.0px;stroke-linecap:butt;stroke-linejoin:miter;stroke-opacity:1\"/>\n",
       "<path class=\"bond-12\" d=\"M 479.897,298.298 L 471.516,300.967\" style=\"fill:none;fill-rule:evenodd;stroke:#000000;stroke-width:2.0px;stroke-linecap:butt;stroke-linejoin:miter;stroke-opacity:1\"/>\n",
       "<path class=\"bond-13\" d=\"M 471.516,300.967 L 465.014,295.043\" style=\"fill:none;fill-rule:evenodd;stroke:#000000;stroke-width:2.0px;stroke-linecap:butt;stroke-linejoin:miter;stroke-opacity:1\"/>\n",
       "<path class=\"bond-14\" d=\"M 465.014,295.043 L 456.633,297.713\" style=\"fill:none;fill-rule:evenodd;stroke:#000000;stroke-width:2.0px;stroke-linecap:butt;stroke-linejoin:miter;stroke-opacity:1\"/>\n",
       "<path class=\"bond-15\" d=\"M 456.633,297.713 L 450.131,291.789\" style=\"fill:none;fill-rule:evenodd;stroke:#000000;stroke-width:2.0px;stroke-linecap:butt;stroke-linejoin:miter;stroke-opacity:1\"/>\n",
       "<path class=\"bond-16\" d=\"M 450.131,291.789 L 441.75,294.458\" style=\"fill:none;fill-rule:evenodd;stroke:#000000;stroke-width:2.0px;stroke-linecap:butt;stroke-linejoin:miter;stroke-opacity:1\"/>\n",
       "<path class=\"bond-17\" d=\"M 442.342,293.808 L 440.176,291.835\" style=\"fill:none;fill-rule:evenodd;stroke:#000000;stroke-width:2.0px;stroke-linecap:butt;stroke-linejoin:miter;stroke-opacity:1\"/>\n",
       "<path class=\"bond-17\" d=\"M 440.176,291.835 L 438.01,289.862\" style=\"fill:none;fill-rule:evenodd;stroke:#FF0000;stroke-width:2.0px;stroke-linecap:butt;stroke-linejoin:miter;stroke-opacity:1\"/>\n",
       "<path class=\"bond-17\" d=\"M 441.157,295.109 L 438.991,293.135\" style=\"fill:none;fill-rule:evenodd;stroke:#000000;stroke-width:2.0px;stroke-linecap:butt;stroke-linejoin:miter;stroke-opacity:1\"/>\n",
       "<path class=\"bond-17\" d=\"M 438.991,293.135 L 436.825,291.162\" style=\"fill:none;fill-rule:evenodd;stroke:#FF0000;stroke-width:2.0px;stroke-linecap:butt;stroke-linejoin:miter;stroke-opacity:1\"/>\n",
       "<path class=\"atom-10\" d=\"M 492.83 301.564 Q 492.83 300.544, 493.334 299.974 Q 493.838 299.404, 494.78 299.404 Q 495.722 299.404, 496.226 299.974 Q 496.73 300.544, 496.73 301.564 Q 496.73 302.596, 496.22 303.184 Q 495.71 303.766, 494.78 303.766 Q 493.844 303.766, 493.334 303.184 Q 492.83 302.602, 492.83 301.564 M 494.78 303.286 Q 495.428 303.286, 495.776 302.854 Q 496.13 302.416, 496.13 301.564 Q 496.13 300.73, 495.776 300.31 Q 495.428 299.884, 494.78 299.884 Q 494.132 299.884, 493.778 300.304 Q 493.43 300.724, 493.43 301.564 Q 493.43 302.422, 493.778 302.854 Q 494.132 303.286, 494.78 303.286 \" fill=\"#FF0000\"/>\n",
       "<path class=\"atom-18\" d=\"M 433.298 288.547 Q 433.298 287.527, 433.802 286.957 Q 434.306 286.387, 435.248 286.387 Q 436.19 286.387, 436.694 286.957 Q 437.198 287.527, 437.198 288.547 Q 437.198 289.579, 436.688 290.167 Q 436.178 290.749, 435.248 290.749 Q 434.312 290.749, 433.802 290.167 Q 433.298 289.585, 433.298 288.547 M 435.248 290.269 Q 435.896 290.269, 436.244 289.837 Q 436.598 289.399, 436.598 288.547 Q 436.598 287.713, 436.244 287.293 Q 435.896 286.867, 435.248 286.867 Q 434.6 286.867, 434.246 287.287 Q 433.898 287.707, 433.898 288.547 Q 433.898 289.405, 434.246 289.837 Q 434.6 290.269, 435.248 290.269 \" fill=\"#FF0000\"/>\n",
       "<path class=\"bond-0\" d=\"M 52.5957,482.942 L 60.9529,485.684\" style=\"fill:none;fill-rule:evenodd;stroke:#000000;stroke-width:2.0px;stroke-linecap:butt;stroke-linejoin:miter;stroke-opacity:1\"/>\n",
       "<path class=\"bond-1\" d=\"M 60.9529,485.684 L 61.6066,488.805\" style=\"fill:none;fill-rule:evenodd;stroke:#000000;stroke-width:2.0px;stroke-linecap:butt;stroke-linejoin:miter;stroke-opacity:1\"/>\n",
       "<path class=\"bond-1\" d=\"M 61.6066,488.805 L 62.2603,491.925\" style=\"fill:none;fill-rule:evenodd;stroke:#FF0000;stroke-width:2.0px;stroke-linecap:butt;stroke-linejoin:miter;stroke-opacity:1\"/>\n",
       "<path class=\"bond-2\" d=\"M 64.9262,495.005 L 68.0199,496.021\" style=\"fill:none;fill-rule:evenodd;stroke:#FF0000;stroke-width:2.0px;stroke-linecap:butt;stroke-linejoin:miter;stroke-opacity:1\"/>\n",
       "<path class=\"bond-2\" d=\"M 68.0199,496.021 L 71.1136,497.036\" style=\"fill:none;fill-rule:evenodd;stroke:#000000;stroke-width:2.0px;stroke-linecap:butt;stroke-linejoin:miter;stroke-opacity:1\"/>\n",
       "<path class=\"bond-3\" d=\"M 71.1136,497.036 L 72.917,505.645\" style=\"fill:none;fill-rule:evenodd;stroke:#000000;stroke-width:2.0px;stroke-linecap:butt;stroke-linejoin:miter;stroke-opacity:1\"/>\n",
       "<path class=\"bond-4\" d=\"M 72.917,505.645 L 81.2742,508.387\" style=\"fill:none;fill-rule:evenodd;stroke:#000000;stroke-width:2.0px;stroke-linecap:butt;stroke-linejoin:miter;stroke-opacity:1\"/>\n",
       "<path class=\"bond-5\" d=\"M 81.2742,508.387 L 83.0776,516.996\" style=\"fill:none;fill-rule:evenodd;stroke:#000000;stroke-width:2.0px;stroke-linecap:butt;stroke-linejoin:miter;stroke-opacity:1\"/>\n",
       "<path class=\"bond-6\" d=\"M 81.2742,508.387 L 87.828,502.521\" style=\"fill:none;fill-rule:evenodd;stroke:#000000;stroke-width:2.0px;stroke-linecap:butt;stroke-linejoin:miter;stroke-opacity:1\"/>\n",
       "<path class=\"bond-7\" d=\"M 87.828,502.521 L 96.1852,505.264\" style=\"fill:none;fill-rule:evenodd;stroke:#000000;stroke-width:2.0px;stroke-linecap:butt;stroke-linejoin:miter;stroke-opacity:1\"/>\n",
       "<path class=\"bond-8\" d=\"M 96.1852,505.264 L 102.739,499.398\" style=\"fill:none;fill-rule:evenodd;stroke:#000000;stroke-width:2.0px;stroke-linecap:butt;stroke-linejoin:miter;stroke-opacity:1\"/>\n",
       "<path class=\"bond-9\" d=\"M 102.739,499.398 L 111.096,502.14\" style=\"fill:none;fill-rule:evenodd;stroke:#000000;stroke-width:2.0px;stroke-linecap:butt;stroke-linejoin:miter;stroke-opacity:1\"/>\n",
       "<path class=\"bond-10\" d=\"M 111.096,502.14 L 117.65,496.274\" style=\"fill:none;fill-rule:evenodd;stroke:#000000;stroke-width:2.0px;stroke-linecap:butt;stroke-linejoin:miter;stroke-opacity:1\"/>\n",
       "<path class=\"bond-11\" d=\"M 117.65,496.274 L 126.007,499.017\" style=\"fill:none;fill-rule:evenodd;stroke:#000000;stroke-width:2.0px;stroke-linecap:butt;stroke-linejoin:miter;stroke-opacity:1\"/>\n",
       "<path class=\"bond-12\" d=\"M 126.007,499.017 L 132.561,493.15\" style=\"fill:none;fill-rule:evenodd;stroke:#000000;stroke-width:2.0px;stroke-linecap:butt;stroke-linejoin:miter;stroke-opacity:1\"/>\n",
       "<path class=\"bond-13\" d=\"M 132.561,493.15 L 140.918,495.893\" style=\"fill:none;fill-rule:evenodd;stroke:#000000;stroke-width:2.0px;stroke-linecap:butt;stroke-linejoin:miter;stroke-opacity:1\"/>\n",
       "<path class=\"bond-14\" d=\"M 141.505,496.548 L 143.697,494.586\" style=\"fill:none;fill-rule:evenodd;stroke:#000000;stroke-width:2.0px;stroke-linecap:butt;stroke-linejoin:miter;stroke-opacity:1\"/>\n",
       "<path class=\"bond-14\" d=\"M 143.697,494.586 L 145.889,492.624\" style=\"fill:none;fill-rule:evenodd;stroke:#FF0000;stroke-width:2.0px;stroke-linecap:butt;stroke-linejoin:miter;stroke-opacity:1\"/>\n",
       "<path class=\"bond-14\" d=\"M 140.332,495.238 L 142.524,493.276\" style=\"fill:none;fill-rule:evenodd;stroke:#000000;stroke-width:2.0px;stroke-linecap:butt;stroke-linejoin:miter;stroke-opacity:1\"/>\n",
       "<path class=\"bond-14\" d=\"M 142.524,493.276 L 144.716,491.314\" style=\"fill:none;fill-rule:evenodd;stroke:#FF0000;stroke-width:2.0px;stroke-linecap:butt;stroke-linejoin:miter;stroke-opacity:1\"/>\n",
       "<path class=\"atom-2\" d=\"M 60.8064 494.305 Q 60.8064 493.285, 61.3104 492.715 Q 61.8144 492.145, 62.7564 492.145 Q 63.6984 492.145, 64.2024 492.715 Q 64.7064 493.285, 64.7064 494.305 Q 64.7064 495.337, 64.1964 495.925 Q 63.6864 496.507, 62.7564 496.507 Q 61.8204 496.507, 61.3104 495.925 Q 60.8064 495.343, 60.8064 494.305 M 62.7564 496.027 Q 63.4044 496.027, 63.7524 495.595 Q 64.1064 495.157, 64.1064 494.305 Q 64.1064 493.471, 63.7524 493.051 Q 63.4044 492.625, 62.7564 492.625 Q 62.1084 492.625, 61.7544 493.045 Q 61.4064 493.465, 61.4064 494.305 Q 61.4064 495.163, 61.7544 495.595 Q 62.1084 496.027, 62.7564 496.027 \" fill=\"#FF0000\"/>\n",
       "<path class=\"atom-15\" d=\"M 145.522 490.039 Q 145.522 489.019, 146.026 488.449 Q 146.53 487.879, 147.472 487.879 Q 148.414 487.879, 148.918 488.449 Q 149.422 489.019, 149.422 490.039 Q 149.422 491.071, 148.912 491.659 Q 148.402 492.241, 147.472 492.241 Q 146.536 492.241, 146.026 491.659 Q 145.522 491.077, 145.522 490.039 M 147.472 491.761 Q 148.12 491.761, 148.468 491.329 Q 148.822 490.891, 148.822 490.039 Q 148.822 489.205, 148.468 488.785 Q 148.12 488.359, 147.472 488.359 Q 146.824 488.359, 146.47 488.779 Q 146.122 489.199, 146.122 490.039 Q 146.122 490.897, 146.47 491.329 Q 146.824 491.761, 147.472 491.761 \" fill=\"#FF0000\"/>\n",
       "<path class=\"bond-0\" d=\"M 326.824,494.972 L 319.445,499.759\" style=\"fill:none;fill-rule:evenodd;stroke:#000000;stroke-width:2.0px;stroke-linecap:butt;stroke-linejoin:miter;stroke-opacity:1\"/>\n",
       "<path class=\"bond-1\" d=\"M 319.445,499.759 L 311.609,495.762\" style=\"fill:none;fill-rule:evenodd;stroke:#000000;stroke-width:2.0px;stroke-linecap:butt;stroke-linejoin:miter;stroke-opacity:1\"/>\n",
       "<path class=\"bond-2\" d=\"M 311.609,495.762 L 304.231,500.549\" style=\"fill:none;fill-rule:evenodd;stroke:#000000;stroke-width:2.0px;stroke-linecap:butt;stroke-linejoin:miter;stroke-opacity:1\"/>\n",
       "<path class=\"bond-3\" d=\"M 304.231,500.549 L 296.395,496.553\" style=\"fill:none;fill-rule:evenodd;stroke:#000000;stroke-width:2.0px;stroke-linecap:butt;stroke-linejoin:miter;stroke-opacity:1\"/>\n",
       "<path class=\"bond-4\" d=\"M 296.395,496.553 L 289.016,501.34\" style=\"fill:none;fill-rule:evenodd;stroke:#000000;stroke-width:2.0px;stroke-linecap:butt;stroke-linejoin:miter;stroke-opacity:1\"/>\n",
       "<path class=\"bond-5\" d=\"M 289.016,501.34 L 289.473,510.124\" style=\"fill:none;fill-rule:evenodd;stroke:#000000;stroke-width:2.0px;stroke-linecap:butt;stroke-linejoin:miter;stroke-opacity:1\"/>\n",
       "<path class=\"bond-6\" d=\"M 289.016,501.34 L 281.181,497.343\" style=\"fill:none;fill-rule:evenodd;stroke:#000000;stroke-width:2.0px;stroke-linecap:butt;stroke-linejoin:miter;stroke-opacity:1\"/>\n",
       "<path class=\"bond-7\" d=\"M 281.181,497.343 L 276.394,489.965\" style=\"fill:none;fill-rule:evenodd;stroke:#000000;stroke-width:2.0px;stroke-linecap:butt;stroke-linejoin:miter;stroke-opacity:1\"/>\n",
       "<path class=\"bond-9\" d=\"M 281.181,497.343 L 272.397,497.8\" style=\"fill:none;fill-rule:evenodd;stroke:#000000;stroke-width:2.0px;stroke-linecap:butt;stroke-linejoin:miter;stroke-opacity:1\"/>\n",
       "<path class=\"bond-8\" d=\"M 276.394,489.965 L 272.397,497.8\" style=\"fill:none;fill-rule:evenodd;stroke:#000000;stroke-width:2.0px;stroke-linecap:butt;stroke-linejoin:miter;stroke-opacity:1\"/>\n",
       "<path class=\"bond-0\" d=\"M 458.28,486.864 L 466.179,490.734\" style=\"fill:none;fill-rule:evenodd;stroke:#000000;stroke-width:2.0px;stroke-linecap:butt;stroke-linejoin:miter;stroke-opacity:1\"/>\n",
       "<path class=\"bond-1\" d=\"M 466.179,490.734 L 466.776,499.51\" style=\"fill:none;fill-rule:evenodd;stroke:#000000;stroke-width:2.0px;stroke-linecap:butt;stroke-linejoin:miter;stroke-opacity:1\"/>\n",
       "<path class=\"bond-2\" d=\"M 466.776,499.51 L 474.675,503.38\" style=\"fill:none;fill-rule:evenodd;stroke:#000000;stroke-width:2.0px;stroke-linecap:butt;stroke-linejoin:miter;stroke-opacity:1\"/>\n",
       "<path class=\"bond-3\" d=\"M 474.675,503.38 L 475.273,512.155\" style=\"fill:none;fill-rule:evenodd;stroke:#000000;stroke-width:2.0px;stroke-linecap:butt;stroke-linejoin:miter;stroke-opacity:1\"/>\n",
       "<path class=\"bond-4\" d=\"M 474.675,503.38 L 481.976,498.475\" style=\"fill:none;fill-rule:evenodd;stroke:#000000;stroke-width:2.0px;stroke-linecap:butt;stroke-linejoin:miter;stroke-opacity:1\"/>\n",
       "<path class=\"bond-5\" d=\"M 481.976,498.475 L 489.874,502.345\" style=\"fill:none;fill-rule:evenodd;stroke:#000000;stroke-width:2.0px;stroke-linecap:butt;stroke-linejoin:miter;stroke-opacity:1\"/>\n",
       "<path class=\"bond-6\" d=\"M 489.874,502.345 L 497.175,497.44\" style=\"fill:none;fill-rule:evenodd;stroke:#000000;stroke-width:2.0px;stroke-linecap:butt;stroke-linejoin:miter;stroke-opacity:1\"/>\n",
       "<path class=\"bond-7\" d=\"M 497.175,497.44 L 505.074,501.31\" style=\"fill:none;fill-rule:evenodd;stroke:#000000;stroke-width:2.0px;stroke-linecap:butt;stroke-linejoin:miter;stroke-opacity:1\"/>\n",
       "<path class=\"bond-8\" d=\"M 505.074,501.31 L 507.639,499.586\" style=\"fill:none;fill-rule:evenodd;stroke:#000000;stroke-width:2.0px;stroke-linecap:butt;stroke-linejoin:miter;stroke-opacity:1\"/>\n",
       "<path class=\"bond-8\" d=\"M 507.639,499.586 L 510.205,497.862\" style=\"fill:none;fill-rule:evenodd;stroke:#FF0000;stroke-width:2.0px;stroke-linecap:butt;stroke-linejoin:miter;stroke-opacity:1\"/>\n",
       "<path class=\"bond-9\" d=\"M 514.545,497.468 L 517.409,498.871\" style=\"fill:none;fill-rule:evenodd;stroke:#FF0000;stroke-width:2.0px;stroke-linecap:butt;stroke-linejoin:miter;stroke-opacity:1\"/>\n",
       "<path class=\"bond-9\" d=\"M 517.409,498.871 L 520.273,500.275\" style=\"fill:none;fill-rule:evenodd;stroke:#000000;stroke-width:2.0px;stroke-linecap:butt;stroke-linejoin:miter;stroke-opacity:1\"/>\n",
       "<path class=\"bond-10\" d=\"M 520.273,500.275 L 527.574,495.369\" style=\"fill:none;fill-rule:evenodd;stroke:#000000;stroke-width:2.0px;stroke-linecap:butt;stroke-linejoin:miter;stroke-opacity:1\"/>\n",
       "<path class=\"bond-11\" d=\"M 527.574,495.369 L 535.473,499.24\" style=\"fill:none;fill-rule:evenodd;stroke:#000000;stroke-width:2.0px;stroke-linecap:butt;stroke-linejoin:miter;stroke-opacity:1\"/>\n",
       "<path class=\"bond-12\" d=\"M 535.963,499.97 L 538.529,498.246\" style=\"fill:none;fill-rule:evenodd;stroke:#000000;stroke-width:2.0px;stroke-linecap:butt;stroke-linejoin:miter;stroke-opacity:1\"/>\n",
       "<path class=\"bond-12\" d=\"M 538.529,498.246 L 541.094,496.522\" style=\"fill:none;fill-rule:evenodd;stroke:#FF0000;stroke-width:2.0px;stroke-linecap:butt;stroke-linejoin:miter;stroke-opacity:1\"/>\n",
       "<path class=\"bond-12\" d=\"M 534.982,498.509 L 537.548,496.786\" style=\"fill:none;fill-rule:evenodd;stroke:#000000;stroke-width:2.0px;stroke-linecap:butt;stroke-linejoin:miter;stroke-opacity:1\"/>\n",
       "<path class=\"bond-12\" d=\"M 537.548,496.786 L 540.113,495.062\" style=\"fill:none;fill-rule:evenodd;stroke:#FF0000;stroke-width:2.0px;stroke-linecap:butt;stroke-linejoin:miter;stroke-opacity:1\"/>\n",
       "<path class=\"atom-9\" d=\"M 510.425 496.416 Q 510.425 495.396, 510.929 494.826 Q 511.433 494.256, 512.375 494.256 Q 513.317 494.256, 513.821 494.826 Q 514.325 495.396, 514.325 496.416 Q 514.325 497.448, 513.815 498.036 Q 513.305 498.618, 512.375 498.618 Q 511.439 498.618, 510.929 498.036 Q 510.425 497.454, 510.425 496.416 M 512.375 498.138 Q 513.023 498.138, 513.371 497.706 Q 513.725 497.268, 513.725 496.416 Q 513.725 495.582, 513.371 495.162 Q 513.023 494.736, 512.375 494.736 Q 511.727 494.736, 511.373 495.156 Q 511.025 495.576, 511.025 496.416 Q 511.025 497.274, 511.373 497.706 Q 511.727 498.138, 512.375 498.138 \" fill=\"#FF0000\"/>\n",
       "<path class=\"atom-13\" d=\"M 540.824 494.346 Q 540.824 493.326, 541.328 492.756 Q 541.832 492.186, 542.774 492.186 Q 543.716 492.186, 544.22 492.756 Q 544.724 493.326, 544.724 494.346 Q 544.724 495.378, 544.214 495.966 Q 543.704 496.548, 542.774 496.548 Q 541.838 496.548, 541.328 495.966 Q 540.824 495.384, 540.824 494.346 M 542.774 496.068 Q 543.422 496.068, 543.77 495.636 Q 544.124 495.198, 544.124 494.346 Q 544.124 493.512, 543.77 493.092 Q 543.422 492.666, 542.774 492.666 Q 542.126 492.666, 541.772 493.086 Q 541.424 493.506, 541.424 494.346 Q 541.424 495.204, 541.772 495.636 Q 542.126 496.068, 542.774 496.068 \" fill=\"#FF0000\"/>\n",
       "<path class=\"bond-0\" d=\"M 36.7632,681.703 L 45.5481,682.141\" style=\"fill:none;fill-rule:evenodd;stroke:#000000;stroke-width:2.0px;stroke-linecap:butt;stroke-linejoin:miter;stroke-opacity:1\"/>\n",
       "<path class=\"bond-1\" d=\"M 45.5481,682.141 L 49.5615,689.967\" style=\"fill:none;fill-rule:evenodd;stroke:#000000;stroke-width:2.0px;stroke-linecap:butt;stroke-linejoin:miter;stroke-opacity:1\"/>\n",
       "<path class=\"bond-2\" d=\"M 49.5615,689.967 L 58.3464,690.405\" style=\"fill:none;fill-rule:evenodd;stroke:#000000;stroke-width:2.0px;stroke-linecap:butt;stroke-linejoin:miter;stroke-opacity:1\"/>\n",
       "<path class=\"bond-3\" d=\"M 58.3464,690.405 L 62.3598,698.232\" style=\"fill:none;fill-rule:evenodd;stroke:#000000;stroke-width:2.0px;stroke-linecap:butt;stroke-linejoin:miter;stroke-opacity:1\"/>\n",
       "<path class=\"bond-4\" d=\"M 62.3598,698.232 L 71.1447,698.669\" style=\"fill:none;fill-rule:evenodd;stroke:#000000;stroke-width:2.0px;stroke-linecap:butt;stroke-linejoin:miter;stroke-opacity:1\"/>\n",
       "<path class=\"bond-5\" d=\"M 71.1447,698.669 L 75.1581,706.496\" style=\"fill:none;fill-rule:evenodd;stroke:#000000;stroke-width:2.0px;stroke-linecap:butt;stroke-linejoin:miter;stroke-opacity:1\"/>\n",
       "<path class=\"bond-5\" d=\"M 70.1813,700.646 L 72.9907,706.125\" style=\"fill:none;fill-rule:evenodd;stroke:#000000;stroke-width:2.0px;stroke-linecap:butt;stroke-linejoin:miter;stroke-opacity:1\"/>\n",
       "<path class=\"bond-6\" d=\"M 75.1581,706.496 L 78.4656,706.661\" style=\"fill:none;fill-rule:evenodd;stroke:#000000;stroke-width:2.0px;stroke-linecap:butt;stroke-linejoin:miter;stroke-opacity:1\"/>\n",
       "<path class=\"bond-6\" d=\"M 78.4656,706.661 L 81.7731,706.825\" style=\"fill:none;fill-rule:evenodd;stroke:#FF0000;stroke-width:2.0px;stroke-linecap:butt;stroke-linejoin:miter;stroke-opacity:1\"/>\n",
       "<path class=\"bond-7\" d=\"M 85.191,709.367 L 86.5737,712.064\" style=\"fill:none;fill-rule:evenodd;stroke:#FF0000;stroke-width:2.0px;stroke-linecap:butt;stroke-linejoin:miter;stroke-opacity:1\"/>\n",
       "<path class=\"bond-7\" d=\"M 86.5737,712.064 L 87.9564,714.76\" style=\"fill:none;fill-rule:evenodd;stroke:#000000;stroke-width:2.0px;stroke-linecap:butt;stroke-linejoin:miter;stroke-opacity:1\"/>\n",
       "<path class=\"bond-8\" d=\"M 87.9564,714.76 L 96.7412,715.198\" style=\"fill:none;fill-rule:evenodd;stroke:#000000;stroke-width:2.0px;stroke-linecap:butt;stroke-linejoin:miter;stroke-opacity:1\"/>\n",
       "<path class=\"bond-9\" d=\"M 96.7412,715.198 L 100.755,723.025\" style=\"fill:none;fill-rule:evenodd;stroke:#000000;stroke-width:2.0px;stroke-linecap:butt;stroke-linejoin:miter;stroke-opacity:1\"/>\n",
       "<path class=\"bond-10\" d=\"M 96.7412,715.198 L 101.513,707.809\" style=\"fill:none;fill-rule:evenodd;stroke:#000000;stroke-width:2.0px;stroke-linecap:butt;stroke-linejoin:miter;stroke-opacity:1\"/>\n",
       "<path class=\"bond-11\" d=\"M 101.513,707.809 L 110.297,708.246\" style=\"fill:none;fill-rule:evenodd;stroke:#000000;stroke-width:2.0px;stroke-linecap:butt;stroke-linejoin:miter;stroke-opacity:1\"/>\n",
       "<path class=\"bond-12\" d=\"M 110.297,708.246 L 115.069,700.857\" style=\"fill:none;fill-rule:evenodd;stroke:#000000;stroke-width:2.0px;stroke-linecap:butt;stroke-linejoin:miter;stroke-opacity:1\"/>\n",
       "<path class=\"bond-13\" d=\"M 115.069,700.857 L 123.854,701.295\" style=\"fill:none;fill-rule:evenodd;stroke:#000000;stroke-width:2.0px;stroke-linecap:butt;stroke-linejoin:miter;stroke-opacity:1\"/>\n",
       "<path class=\"bond-14\" d=\"M 123.854,701.295 L 128.625,693.906\" style=\"fill:none;fill-rule:evenodd;stroke:#000000;stroke-width:2.0px;stroke-linecap:butt;stroke-linejoin:miter;stroke-opacity:1\"/>\n",
       "<path class=\"bond-15\" d=\"M 128.625,693.906 L 137.41,694.343\" style=\"fill:none;fill-rule:evenodd;stroke:#000000;stroke-width:2.0px;stroke-linecap:butt;stroke-linejoin:miter;stroke-opacity:1\"/>\n",
       "<path class=\"bond-16\" d=\"M 137.41,694.343 L 142.181,686.954\" style=\"fill:none;fill-rule:evenodd;stroke:#000000;stroke-width:2.0px;stroke-linecap:butt;stroke-linejoin:miter;stroke-opacity:1\"/>\n",
       "<path class=\"bond-17\" d=\"M 142.181,686.954 L 150.966,687.392\" style=\"fill:none;fill-rule:evenodd;stroke:#000000;stroke-width:2.0px;stroke-linecap:butt;stroke-linejoin:miter;stroke-opacity:1\"/>\n",
       "<path class=\"bond-18\" d=\"M 150.966,687.392 L 155.738,680.003\" style=\"fill:none;fill-rule:evenodd;stroke:#000000;stroke-width:2.0px;stroke-linecap:butt;stroke-linejoin:miter;stroke-opacity:1\"/>\n",
       "<path class=\"atom-7\" d=\"M 81.9929 706.946 Q 81.9929 705.926, 82.4969 705.356 Q 83.0009 704.786, 83.9429 704.786 Q 84.8849 704.786, 85.3889 705.356 Q 85.8929 705.926, 85.8929 706.946 Q 85.8929 707.978, 85.3829 708.566 Q 84.8729 709.148, 83.9429 709.148 Q 83.0069 709.148, 82.4969 708.566 Q 81.9929 707.984, 81.9929 706.946 M 83.9429 708.668 Q 84.5909 708.668, 84.9389 708.236 Q 85.2929 707.798, 85.2929 706.946 Q 85.2929 706.112, 84.9389 705.692 Q 84.5909 705.266, 83.9429 705.266 Q 83.2949 705.266, 82.9409 705.686 Q 82.5929 706.106, 82.5929 706.946 Q 82.5929 707.804, 82.9409 708.236 Q 83.2949 708.668, 83.9429 708.668 \" fill=\"#FF0000\"/>\n",
       "<path class=\"bond-0\" d=\"M 340.164,690.363 L 333.942,696.58\" style=\"fill:none;fill-rule:evenodd;stroke:#000000;stroke-width:2.0px;stroke-linecap:butt;stroke-linejoin:miter;stroke-opacity:1\"/>\n",
       "<path class=\"bond-1\" d=\"M 333.942,696.58 L 325.447,694.301\" style=\"fill:none;fill-rule:evenodd;stroke:#000000;stroke-width:2.0px;stroke-linecap:butt;stroke-linejoin:miter;stroke-opacity:1\"/>\n",
       "<path class=\"bond-2\" d=\"M 325.447,694.301 L 323.421,696.325\" style=\"fill:none;fill-rule:evenodd;stroke:#000000;stroke-width:2.0px;stroke-linecap:butt;stroke-linejoin:miter;stroke-opacity:1\"/>\n",
       "<path class=\"bond-2\" d=\"M 323.421,696.325 L 321.395,698.35\" style=\"fill:none;fill-rule:evenodd;stroke:#FF0000;stroke-width:2.0px;stroke-linecap:butt;stroke-linejoin:miter;stroke-opacity:1\"/>\n",
       "<path class=\"bond-3\" d=\"M 317.055,699.936 L 313.893,699.087\" style=\"fill:none;fill-rule:evenodd;stroke:#FF0000;stroke-width:2.0px;stroke-linecap:butt;stroke-linejoin:miter;stroke-opacity:1\"/>\n",
       "<path class=\"bond-3\" d=\"M 313.893,699.087 L 310.73,698.239\" style=\"fill:none;fill-rule:evenodd;stroke:#000000;stroke-width:2.0px;stroke-linecap:butt;stroke-linejoin:miter;stroke-opacity:1\"/>\n",
       "<path class=\"bond-4\" d=\"M 310.73,698.239 L 304.508,704.456\" style=\"fill:none;fill-rule:evenodd;stroke:#000000;stroke-width:2.0px;stroke-linecap:butt;stroke-linejoin:miter;stroke-opacity:1\"/>\n",
       "<path class=\"bond-5\" d=\"M 304.508,704.456 L 296.013,702.177\" style=\"fill:none;fill-rule:evenodd;stroke:#000000;stroke-width:2.0px;stroke-linecap:butt;stroke-linejoin:miter;stroke-opacity:1\"/>\n",
       "<path class=\"bond-6\" d=\"M 296.013,702.177 L 289.791,708.394\" style=\"fill:none;fill-rule:evenodd;stroke:#000000;stroke-width:2.0px;stroke-linecap:butt;stroke-linejoin:miter;stroke-opacity:1\"/>\n",
       "<path class=\"bond-7\" d=\"M 289.791,708.394 L 281.296,706.115\" style=\"fill:none;fill-rule:evenodd;stroke:#000000;stroke-width:2.0px;stroke-linecap:butt;stroke-linejoin:miter;stroke-opacity:1\"/>\n",
       "<path class=\"bond-8\" d=\"M 281.296,706.115 L 275.074,712.332\" style=\"fill:none;fill-rule:evenodd;stroke:#000000;stroke-width:2.0px;stroke-linecap:butt;stroke-linejoin:miter;stroke-opacity:1\"/>\n",
       "<path class=\"bond-9\" d=\"M 281.296,706.115 L 279.022,697.618\" style=\"fill:none;fill-rule:evenodd;stroke:#000000;stroke-width:2.0px;stroke-linecap:butt;stroke-linejoin:miter;stroke-opacity:1\"/>\n",
       "<path class=\"bond-10\" d=\"M 279.022,697.618 L 270.527,695.338\" style=\"fill:none;fill-rule:evenodd;stroke:#000000;stroke-width:2.0px;stroke-linecap:butt;stroke-linejoin:miter;stroke-opacity:1\"/>\n",
       "<path class=\"bond-11\" d=\"M 270.527,695.338 L 268.254,686.841\" style=\"fill:none;fill-rule:evenodd;stroke:#000000;stroke-width:2.0px;stroke-linecap:butt;stroke-linejoin:miter;stroke-opacity:1\"/>\n",
       "<path class=\"bond-12\" d=\"M 268.482,685.992 L 265.319,685.143\" style=\"fill:none;fill-rule:evenodd;stroke:#000000;stroke-width:2.0px;stroke-linecap:butt;stroke-linejoin:miter;stroke-opacity:1\"/>\n",
       "<path class=\"bond-12\" d=\"M 265.319,685.143 L 262.156,684.295\" style=\"fill:none;fill-rule:evenodd;stroke:#FF0000;stroke-width:2.0px;stroke-linecap:butt;stroke-linejoin:miter;stroke-opacity:1\"/>\n",
       "<path class=\"bond-12\" d=\"M 268.026,687.691 L 264.863,686.842\" style=\"fill:none;fill-rule:evenodd;stroke:#000000;stroke-width:2.0px;stroke-linecap:butt;stroke-linejoin:miter;stroke-opacity:1\"/>\n",
       "<path class=\"bond-12\" d=\"M 264.863,686.842 L 261.7,685.994\" style=\"fill:none;fill-rule:evenodd;stroke:#FF0000;stroke-width:2.0px;stroke-linecap:butt;stroke-linejoin:miter;stroke-opacity:1\"/>\n",
       "<path class=\"atom-3\" d=\"M 317.275 700.53 Q 317.275 699.51, 317.779 698.94 Q 318.283 698.37, 319.225 698.37 Q 320.167 698.37, 320.671 698.94 Q 321.175 699.51, 321.175 700.53 Q 321.175 701.562, 320.665 702.15 Q 320.155 702.732, 319.225 702.732 Q 318.289 702.732, 317.779 702.15 Q 317.275 701.568, 317.275 700.53 M 319.225 702.252 Q 319.873 702.252, 320.221 701.82 Q 320.575 701.382, 320.575 700.53 Q 320.575 699.696, 320.221 699.276 Q 319.873 698.85, 319.225 698.85 Q 318.577 698.85, 318.223 699.27 Q 317.875 699.69, 317.875 700.53 Q 317.875 701.388, 318.223 701.82 Q 318.577 702.252, 319.225 702.252 \" fill=\"#FF0000\"/>\n",
       "<path class=\"atom-13\" d=\"M 257.808 684.574 Q 257.808 683.554, 258.312 682.984 Q 258.816 682.414, 259.758 682.414 Q 260.7 682.414, 261.204 682.984 Q 261.708 683.554, 261.708 684.574 Q 261.708 685.606, 261.198 686.194 Q 260.688 686.776, 259.758 686.776 Q 258.822 686.776, 258.312 686.194 Q 257.808 685.612, 257.808 684.574 M 259.758 686.296 Q 260.406 686.296, 260.754 685.864 Q 261.108 685.426, 261.108 684.574 Q 261.108 683.74, 260.754 683.32 Q 260.406 682.894, 259.758 682.894 Q 259.11 682.894, 258.756 683.314 Q 258.408 683.734, 258.408 684.574 Q 258.408 685.432, 258.756 685.864 Q 259.11 686.296, 259.758 686.296 \" fill=\"#FF0000\"/>\n",
       "<path class=\"bond-0\" d=\"M 540.164,690.363 L 538.138,692.387\" style=\"fill:none;fill-rule:evenodd;stroke:#000000;stroke-width:2.0px;stroke-linecap:butt;stroke-linejoin:miter;stroke-opacity:1\"/>\n",
       "<path class=\"bond-0\" d=\"M 538.138,692.387 L 536.112,694.412\" style=\"fill:none;fill-rule:evenodd;stroke:#FF0000;stroke-width:2.0px;stroke-linecap:butt;stroke-linejoin:miter;stroke-opacity:1\"/>\n",
       "<path class=\"bond-1\" d=\"M 531.772,695.998 L 528.609,695.149\" style=\"fill:none;fill-rule:evenodd;stroke:#FF0000;stroke-width:2.0px;stroke-linecap:butt;stroke-linejoin:miter;stroke-opacity:1\"/>\n",
       "<path class=\"bond-1\" d=\"M 528.609,695.149 L 525.447,694.301\" style=\"fill:none;fill-rule:evenodd;stroke:#000000;stroke-width:2.0px;stroke-linecap:butt;stroke-linejoin:miter;stroke-opacity:1\"/>\n",
       "<path class=\"bond-2\" d=\"M 525.447,694.301 L 519.225,700.518\" style=\"fill:none;fill-rule:evenodd;stroke:#000000;stroke-width:2.0px;stroke-linecap:butt;stroke-linejoin:miter;stroke-opacity:1\"/>\n",
       "<path class=\"bond-3\" d=\"M 519.225,700.518 L 516.062,699.67\" style=\"fill:none;fill-rule:evenodd;stroke:#000000;stroke-width:2.0px;stroke-linecap:butt;stroke-linejoin:miter;stroke-opacity:1\"/>\n",
       "<path class=\"bond-3\" d=\"M 516.062,699.67 L 512.9,698.821\" style=\"fill:none;fill-rule:evenodd;stroke:#FF0000;stroke-width:2.0px;stroke-linecap:butt;stroke-linejoin:miter;stroke-opacity:1\"/>\n",
       "<path class=\"bond-4\" d=\"M 508.56,700.407 L 506.534,702.432\" style=\"fill:none;fill-rule:evenodd;stroke:#FF0000;stroke-width:2.0px;stroke-linecap:butt;stroke-linejoin:miter;stroke-opacity:1\"/>\n",
       "<path class=\"bond-4\" d=\"M 506.534,702.432 L 504.508,704.456\" style=\"fill:none;fill-rule:evenodd;stroke:#000000;stroke-width:2.0px;stroke-linecap:butt;stroke-linejoin:miter;stroke-opacity:1\"/>\n",
       "<path class=\"bond-5\" d=\"M 504.508,704.456 L 496.013,702.177\" style=\"fill:none;fill-rule:evenodd;stroke:#000000;stroke-width:2.0px;stroke-linecap:butt;stroke-linejoin:miter;stroke-opacity:1\"/>\n",
       "<path class=\"bond-6\" d=\"M 496.013,702.177 L 489.791,708.394\" style=\"fill:none;fill-rule:evenodd;stroke:#000000;stroke-width:2.0px;stroke-linecap:butt;stroke-linejoin:miter;stroke-opacity:1\"/>\n",
       "<path class=\"bond-7\" d=\"M 489.791,708.394 L 481.296,706.115\" style=\"fill:none;fill-rule:evenodd;stroke:#000000;stroke-width:2.0px;stroke-linecap:butt;stroke-linejoin:miter;stroke-opacity:1\"/>\n",
       "<path class=\"bond-8\" d=\"M 481.296,706.115 L 475.074,712.332\" style=\"fill:none;fill-rule:evenodd;stroke:#000000;stroke-width:2.0px;stroke-linecap:butt;stroke-linejoin:miter;stroke-opacity:1\"/>\n",
       "<path class=\"bond-9\" d=\"M 481.296,706.115 L 479.022,697.618\" style=\"fill:none;fill-rule:evenodd;stroke:#000000;stroke-width:2.0px;stroke-linecap:butt;stroke-linejoin:miter;stroke-opacity:1\"/>\n",
       "<path class=\"bond-10\" d=\"M 479.022,697.618 L 470.527,695.338\" style=\"fill:none;fill-rule:evenodd;stroke:#000000;stroke-width:2.0px;stroke-linecap:butt;stroke-linejoin:miter;stroke-opacity:1\"/>\n",
       "<path class=\"bond-11\" d=\"M 470.527,695.338 L 468.254,686.841\" style=\"fill:none;fill-rule:evenodd;stroke:#000000;stroke-width:2.0px;stroke-linecap:butt;stroke-linejoin:miter;stroke-opacity:1\"/>\n",
       "<path class=\"bond-12\" d=\"M 468.482,685.992 L 465.319,685.143\" style=\"fill:none;fill-rule:evenodd;stroke:#000000;stroke-width:2.0px;stroke-linecap:butt;stroke-linejoin:miter;stroke-opacity:1\"/>\n",
       "<path class=\"bond-12\" d=\"M 465.319,685.143 L 462.156,684.295\" style=\"fill:none;fill-rule:evenodd;stroke:#FF0000;stroke-width:2.0px;stroke-linecap:butt;stroke-linejoin:miter;stroke-opacity:1\"/>\n",
       "<path class=\"bond-12\" d=\"M 468.026,687.691 L 464.863,686.842\" style=\"fill:none;fill-rule:evenodd;stroke:#000000;stroke-width:2.0px;stroke-linecap:butt;stroke-linejoin:miter;stroke-opacity:1\"/>\n",
       "<path class=\"bond-12\" d=\"M 464.863,686.842 L 461.7,685.994\" style=\"fill:none;fill-rule:evenodd;stroke:#FF0000;stroke-width:2.0px;stroke-linecap:butt;stroke-linejoin:miter;stroke-opacity:1\"/>\n",
       "<path class=\"atom-1\" d=\"M 531.992 696.592 Q 531.992 695.572, 532.496 695.002 Q 533 694.432, 533.942 694.432 Q 534.884 694.432, 535.388 695.002 Q 535.892 695.572, 535.892 696.592 Q 535.892 697.624, 535.382 698.212 Q 534.872 698.794, 533.942 698.794 Q 533.006 698.794, 532.496 698.212 Q 531.992 697.63, 531.992 696.592 M 533.942 698.314 Q 534.59 698.314, 534.938 697.882 Q 535.292 697.444, 535.292 696.592 Q 535.292 695.758, 534.938 695.338 Q 534.59 694.912, 533.942 694.912 Q 533.294 694.912, 532.94 695.332 Q 532.592 695.752, 532.592 696.592 Q 532.592 697.45, 532.94 697.882 Q 533.294 698.314, 533.942 698.314 \" fill=\"#FF0000\"/>\n",
       "<path class=\"atom-4\" d=\"M 508.78 698.251 Q 508.78 697.231, 509.284 696.661 Q 509.788 696.091, 510.73 696.091 Q 511.672 696.091, 512.176 696.661 Q 512.68 697.231, 512.68 698.251 Q 512.68 699.283, 512.17 699.871 Q 511.66 700.453, 510.73 700.453 Q 509.794 700.453, 509.284 699.871 Q 508.78 699.289, 508.78 698.251 M 510.73 699.973 Q 511.378 699.973, 511.726 699.541 Q 512.08 699.103, 512.08 698.251 Q 512.08 697.417, 511.726 696.997 Q 511.378 696.571, 510.73 696.571 Q 510.082 696.571, 509.728 696.991 Q 509.38 697.411, 509.38 698.251 Q 509.38 699.109, 509.728 699.541 Q 510.082 699.973, 510.73 699.973 \" fill=\"#FF0000\"/>\n",
       "<path class=\"atom-13\" d=\"M 457.808 684.574 Q 457.808 683.554, 458.312 682.984 Q 458.816 682.414, 459.758 682.414 Q 460.7 682.414, 461.204 682.984 Q 461.708 683.554, 461.708 684.574 Q 461.708 685.606, 461.198 686.194 Q 460.688 686.776, 459.758 686.776 Q 458.822 686.776, 458.312 686.194 Q 457.808 685.612, 457.808 684.574 M 459.758 686.296 Q 460.406 686.296, 460.754 685.864 Q 461.108 685.426, 461.108 684.574 Q 461.108 683.74, 460.754 683.32 Q 460.406 682.894, 459.758 682.894 Q 459.11 682.894, 458.756 683.314 Q 458.408 683.734, 458.408 684.574 Q 458.408 685.432, 458.756 685.864 Q 459.11 686.296, 459.758 686.296 \" fill=\"#FF0000\"/>\n",
       "<path class=\"bond-0\" d=\"M 41.2639,886.543 L 50.0388,885.938\" style=\"fill:none;fill-rule:evenodd;stroke:#000000;stroke-width:2.0px;stroke-linecap:butt;stroke-linejoin:miter;stroke-opacity:1\"/>\n",
       "<path class=\"bond-1\" d=\"M 50.0388,885.938 L 54.9502,893.235\" style=\"fill:none;fill-rule:evenodd;stroke:#000000;stroke-width:2.0px;stroke-linecap:butt;stroke-linejoin:miter;stroke-opacity:1\"/>\n",
       "<path class=\"bond-1\" d=\"M 49.3162,888.015 L 52.7541,893.123\" style=\"fill:none;fill-rule:evenodd;stroke:#000000;stroke-width:2.0px;stroke-linecap:butt;stroke-linejoin:miter;stroke-opacity:1\"/>\n",
       "<path class=\"bond-2\" d=\"M 54.9502,893.235 L 63.7251,892.63\" style=\"fill:none;fill-rule:evenodd;stroke:#000000;stroke-width:2.0px;stroke-linecap:butt;stroke-linejoin:miter;stroke-opacity:1\"/>\n",
       "<path class=\"bond-3\" d=\"M 63.7251,892.63 L 68.6364,899.927\" style=\"fill:none;fill-rule:evenodd;stroke:#000000;stroke-width:2.0px;stroke-linecap:butt;stroke-linejoin:miter;stroke-opacity:1\"/>\n",
       "<path class=\"bond-4\" d=\"M 68.6364,899.927 L 77.4114,899.322\" style=\"fill:none;fill-rule:evenodd;stroke:#000000;stroke-width:2.0px;stroke-linecap:butt;stroke-linejoin:miter;stroke-opacity:1\"/>\n",
       "<path class=\"bond-5\" d=\"M 77.4114,899.322 L 82.3227,906.619\" style=\"fill:none;fill-rule:evenodd;stroke:#000000;stroke-width:2.0px;stroke-linecap:butt;stroke-linejoin:miter;stroke-opacity:1\"/>\n",
       "<path class=\"bond-6\" d=\"M 82.3227,906.619 L 91.0976,906.014\" style=\"fill:none;fill-rule:evenodd;stroke:#000000;stroke-width:2.0px;stroke-linecap:butt;stroke-linejoin:miter;stroke-opacity:1\"/>\n",
       "<path class=\"bond-7\" d=\"M 91.0976,906.014 L 96.009,913.311\" style=\"fill:none;fill-rule:evenodd;stroke:#000000;stroke-width:2.0px;stroke-linecap:butt;stroke-linejoin:miter;stroke-opacity:1\"/>\n",
       "<path class=\"bond-8\" d=\"M 96.009,913.311 L 104.784,912.706\" style=\"fill:none;fill-rule:evenodd;stroke:#000000;stroke-width:2.0px;stroke-linecap:butt;stroke-linejoin:miter;stroke-opacity:1\"/>\n",
       "<path class=\"bond-9\" d=\"M 104.784,912.706 L 109.695,920.003\" style=\"fill:none;fill-rule:evenodd;stroke:#000000;stroke-width:2.0px;stroke-linecap:butt;stroke-linejoin:miter;stroke-opacity:1\"/>\n",
       "<path class=\"bond-10\" d=\"M 104.784,912.706 L 108.647,904.804\" style=\"fill:none;fill-rule:evenodd;stroke:#000000;stroke-width:2.0px;stroke-linecap:butt;stroke-linejoin:miter;stroke-opacity:1\"/>\n",
       "<path class=\"bond-11\" d=\"M 108.647,904.804 L 117.422,904.199\" style=\"fill:none;fill-rule:evenodd;stroke:#000000;stroke-width:2.0px;stroke-linecap:butt;stroke-linejoin:miter;stroke-opacity:1\"/>\n",
       "<path class=\"bond-12\" d=\"M 117.422,904.199 L 121.286,896.297\" style=\"fill:none;fill-rule:evenodd;stroke:#000000;stroke-width:2.0px;stroke-linecap:butt;stroke-linejoin:miter;stroke-opacity:1\"/>\n",
       "<path class=\"bond-13\" d=\"M 121.286,896.297 L 130.061,895.692\" style=\"fill:none;fill-rule:evenodd;stroke:#000000;stroke-width:2.0px;stroke-linecap:butt;stroke-linejoin:miter;stroke-opacity:1\"/>\n",
       "<path class=\"bond-14\" d=\"M 130.061,895.692 L 133.924,887.791\" style=\"fill:none;fill-rule:evenodd;stroke:#000000;stroke-width:2.0px;stroke-linecap:butt;stroke-linejoin:miter;stroke-opacity:1\"/>\n",
       "<path class=\"bond-15\" d=\"M 133.924,887.791 L 142.699,887.186\" style=\"fill:none;fill-rule:evenodd;stroke:#000000;stroke-width:2.0px;stroke-linecap:butt;stroke-linejoin:miter;stroke-opacity:1\"/>\n",
       "<path class=\"bond-16\" d=\"M 142.699,887.186 L 144.036,884.452\" style=\"fill:none;fill-rule:evenodd;stroke:#000000;stroke-width:2.0px;stroke-linecap:butt;stroke-linejoin:miter;stroke-opacity:1\"/>\n",
       "<path class=\"bond-16\" d=\"M 144.036,884.452 L 145.373,881.718\" style=\"fill:none;fill-rule:evenodd;stroke:#FF0000;stroke-width:2.0px;stroke-linecap:butt;stroke-linejoin:miter;stroke-opacity:1\"/>\n",
       "<path class=\"atom-17\" d=\"M 144.613 879.296 Q 144.613 878.276, 145.117 877.706 Q 145.621 877.136, 146.563 877.136 Q 147.505 877.136, 148.009 877.706 Q 148.513 878.276, 148.513 879.296 Q 148.513 880.328, 148.003 880.916 Q 147.493 881.498, 146.563 881.498 Q 145.627 881.498, 145.117 880.916 Q 144.613 880.334, 144.613 879.296 M 146.563 881.018 Q 147.211 881.018, 147.559 880.586 Q 147.913 880.148, 147.913 879.296 Q 147.913 878.462, 147.559 878.042 Q 147.211 877.616, 146.563 877.616 Q 145.915 877.616, 145.561 878.036 Q 145.213 878.456, 145.213 879.296 Q 145.213 880.154, 145.561 880.586 Q 145.915 881.018, 146.563 881.018 \" fill=\"#FF0000\"/>\n",
       "<path class=\"atom-17\" d=\"M 149.023 877.184 L 149.599 877.184 L 149.599 878.99 L 151.771 878.99 L 151.771 877.184 L 152.347 877.184 L 152.347 881.432 L 151.771 881.432 L 151.771 879.47 L 149.599 879.47 L 149.599 881.432 L 149.023 881.432 L 149.023 877.184 \" fill=\"#FF0000\"/>\n",
       "<path class=\"bond-0\" d=\"M 354.591,879.897 L 354.385,883.102\" style=\"fill:none;fill-rule:evenodd;stroke:#000000;stroke-width:2.0px;stroke-linecap:butt;stroke-linejoin:miter;stroke-opacity:1\"/>\n",
       "<path class=\"bond-0\" d=\"M 354.385,883.102 L 354.179,886.306\" style=\"fill:none;fill-rule:evenodd;stroke:#FF0000;stroke-width:2.0px;stroke-linecap:butt;stroke-linejoin:miter;stroke-opacity:1\"/>\n",
       "<path class=\"bond-1\" d=\"M 351.856,889.748 L 348.999,891.161\" style=\"fill:none;fill-rule:evenodd;stroke:#FF0000;stroke-width:2.0px;stroke-linecap:butt;stroke-linejoin:miter;stroke-opacity:1\"/>\n",
       "<path class=\"bond-1\" d=\"M 348.999,891.161 L 346.142,892.574\" style=\"fill:none;fill-rule:evenodd;stroke:#000000;stroke-width:2.0px;stroke-linecap:butt;stroke-linejoin:miter;stroke-opacity:1\"/>\n",
       "<path class=\"bond-2\" d=\"M 346.142,892.574 L 345.578,901.352\" style=\"fill:none;fill-rule:evenodd;stroke:#000000;stroke-width:2.0px;stroke-linecap:butt;stroke-linejoin:miter;stroke-opacity:1\"/>\n",
       "<path class=\"bond-3\" d=\"M 345.578,901.352 L 337.694,905.251\" style=\"fill:none;fill-rule:evenodd;stroke:#000000;stroke-width:2.0px;stroke-linecap:butt;stroke-linejoin:miter;stroke-opacity:1\"/>\n",
       "<path class=\"bond-4\" d=\"M 337.694,905.251 L 337.129,914.029\" style=\"fill:none;fill-rule:evenodd;stroke:#000000;stroke-width:2.0px;stroke-linecap:butt;stroke-linejoin:miter;stroke-opacity:1\"/>\n",
       "<path class=\"bond-5\" d=\"M 337.694,905.251 L 330.374,900.374\" style=\"fill:none;fill-rule:evenodd;stroke:#000000;stroke-width:2.0px;stroke-linecap:butt;stroke-linejoin:miter;stroke-opacity:1\"/>\n",
       "<path class=\"bond-6\" d=\"M 330.374,900.374 L 322.49,904.273\" style=\"fill:none;fill-rule:evenodd;stroke:#000000;stroke-width:2.0px;stroke-linecap:butt;stroke-linejoin:miter;stroke-opacity:1\"/>\n",
       "<path class=\"bond-7\" d=\"M 322.49,904.273 L 315.171,899.395\" style=\"fill:none;fill-rule:evenodd;stroke:#000000;stroke-width:2.0px;stroke-linecap:butt;stroke-linejoin:miter;stroke-opacity:1\"/>\n",
       "<path class=\"bond-8\" d=\"M 315.171,899.395 L 307.287,903.295\" style=\"fill:none;fill-rule:evenodd;stroke:#000000;stroke-width:2.0px;stroke-linecap:butt;stroke-linejoin:miter;stroke-opacity:1\"/>\n",
       "<path class=\"bond-9\" d=\"M 307.287,903.295 L 299.968,898.417\" style=\"fill:none;fill-rule:evenodd;stroke:#000000;stroke-width:2.0px;stroke-linecap:butt;stroke-linejoin:miter;stroke-opacity:1\"/>\n",
       "<path class=\"bond-10\" d=\"M 299.968,898.417 L 292.084,902.317\" style=\"fill:none;fill-rule:evenodd;stroke:#000000;stroke-width:2.0px;stroke-linecap:butt;stroke-linejoin:miter;stroke-opacity:1\"/>\n",
       "<path class=\"bond-11\" d=\"M 292.084,902.317 L 284.765,897.439\" style=\"fill:none;fill-rule:evenodd;stroke:#000000;stroke-width:2.0px;stroke-linecap:butt;stroke-linejoin:miter;stroke-opacity:1\"/>\n",
       "<path class=\"bond-12\" d=\"M 284.765,897.439 L 276.881,901.339\" style=\"fill:none;fill-rule:evenodd;stroke:#000000;stroke-width:2.0px;stroke-linecap:butt;stroke-linejoin:miter;stroke-opacity:1\"/>\n",
       "<path class=\"bond-13\" d=\"M 276.881,901.339 L 269.561,896.461\" style=\"fill:none;fill-rule:evenodd;stroke:#000000;stroke-width:2.0px;stroke-linecap:butt;stroke-linejoin:miter;stroke-opacity:1\"/>\n",
       "<path class=\"bond-14\" d=\"M 269.561,896.461 L 266.704,897.874\" style=\"fill:none;fill-rule:evenodd;stroke:#000000;stroke-width:2.0px;stroke-linecap:butt;stroke-linejoin:miter;stroke-opacity:1\"/>\n",
       "<path class=\"bond-14\" d=\"M 266.704,897.874 L 263.847,899.288\" style=\"fill:none;fill-rule:evenodd;stroke:#FF0000;stroke-width:2.0px;stroke-linecap:butt;stroke-linejoin:miter;stroke-opacity:1\"/>\n",
       "<path class=\"bond-15\" d=\"M 259.507,898.915 L 256.933,897.199\" style=\"fill:none;fill-rule:evenodd;stroke:#FF0000;stroke-width:2.0px;stroke-linecap:butt;stroke-linejoin:miter;stroke-opacity:1\"/>\n",
       "<path class=\"bond-15\" d=\"M 256.933,897.199 L 254.358,895.483\" style=\"fill:none;fill-rule:evenodd;stroke:#000000;stroke-width:2.0px;stroke-linecap:butt;stroke-linejoin:miter;stroke-opacity:1\"/>\n",
       "<path class=\"bond-16\" d=\"M 254.358,895.483 L 246.474,899.383\" style=\"fill:none;fill-rule:evenodd;stroke:#000000;stroke-width:2.0px;stroke-linecap:butt;stroke-linejoin:miter;stroke-opacity:1\"/>\n",
       "<path class=\"bond-17\" d=\"M 246.474,899.383 L 239.155,894.505\" style=\"fill:none;fill-rule:evenodd;stroke:#000000;stroke-width:2.0px;stroke-linecap:butt;stroke-linejoin:miter;stroke-opacity:1\"/>\n",
       "<path class=\"bond-18\" d=\"M 239.155,894.505 L 231.271,898.405\" style=\"fill:none;fill-rule:evenodd;stroke:#000000;stroke-width:2.0px;stroke-linecap:butt;stroke-linejoin:miter;stroke-opacity:1\"/>\n",
       "<path class=\"bond-19\" d=\"M 231.759,897.673 L 229.184,895.957\" style=\"fill:none;fill-rule:evenodd;stroke:#000000;stroke-width:2.0px;stroke-linecap:butt;stroke-linejoin:miter;stroke-opacity:1\"/>\n",
       "<path class=\"bond-19\" d=\"M 229.184,895.957 L 226.609,894.241\" style=\"fill:none;fill-rule:evenodd;stroke:#FF0000;stroke-width:2.0px;stroke-linecap:butt;stroke-linejoin:miter;stroke-opacity:1\"/>\n",
       "<path class=\"bond-19\" d=\"M 230.783,899.137 L 228.208,897.421\" style=\"fill:none;fill-rule:evenodd;stroke:#000000;stroke-width:2.0px;stroke-linecap:butt;stroke-linejoin:miter;stroke-opacity:1\"/>\n",
       "<path class=\"bond-19\" d=\"M 228.208,897.421 L 225.634,895.705\" style=\"fill:none;fill-rule:evenodd;stroke:#FF0000;stroke-width:2.0px;stroke-linecap:butt;stroke-linejoin:miter;stroke-opacity:1\"/>\n",
       "<path class=\"atom-1\" d=\"M 352.076 888.686 Q 352.076 887.666, 352.58 887.096 Q 353.084 886.526, 354.026 886.526 Q 354.968 886.526, 355.472 887.096 Q 355.976 887.666, 355.976 888.686 Q 355.976 889.718, 355.466 890.306 Q 354.956 890.888, 354.026 890.888 Q 353.09 890.888, 352.58 890.306 Q 352.076 889.724, 352.076 888.686 M 354.026 890.408 Q 354.674 890.408, 355.022 889.976 Q 355.376 889.538, 355.376 888.686 Q 355.376 887.852, 355.022 887.432 Q 354.674 887.006, 354.026 887.006 Q 353.378 887.006, 353.024 887.426 Q 352.676 887.846, 352.676 888.686 Q 352.676 889.544, 353.024 889.976 Q 353.378 890.408, 354.026 890.408 \" fill=\"#FF0000\"/>\n",
       "<path class=\"atom-15\" d=\"M 259.727 900.373 Q 259.727 899.353, 260.231 898.783 Q 260.735 898.213, 261.677 898.213 Q 262.619 898.213, 263.123 898.783 Q 263.627 899.353, 263.627 900.373 Q 263.627 901.405, 263.117 901.993 Q 262.607 902.575, 261.677 902.575 Q 260.741 902.575, 260.231 901.993 Q 259.727 901.411, 259.727 900.373 M 261.677 902.095 Q 262.325 902.095, 262.673 901.663 Q 263.027 901.225, 263.027 900.373 Q 263.027 899.539, 262.673 899.119 Q 262.325 898.693, 261.677 898.693 Q 261.029 898.693, 260.675 899.113 Q 260.327 899.533, 260.327 900.373 Q 260.327 901.231, 260.675 901.663 Q 261.029 902.095, 261.677 902.095 \" fill=\"#FF0000\"/>\n",
       "<path class=\"atom-20\" d=\"M 222.002 893.539 Q 222.002 892.519, 222.506 891.949 Q 223.01 891.379, 223.952 891.379 Q 224.894 891.379, 225.398 891.949 Q 225.902 892.519, 225.902 893.539 Q 225.902 894.571, 225.392 895.159 Q 224.882 895.741, 223.952 895.741 Q 223.016 895.741, 222.506 895.159 Q 222.002 894.577, 222.002 893.539 M 223.952 895.261 Q 224.6 895.261, 224.948 894.829 Q 225.302 894.391, 225.302 893.539 Q 225.302 892.705, 224.948 892.285 Q 224.6 891.859, 223.952 891.859 Q 223.304 891.859, 222.95 892.279 Q 222.602 892.699, 222.602 893.539 Q 222.602 894.397, 222.95 894.829 Q 223.304 895.261, 223.952 895.261 \" fill=\"#FF0000\"/>\n",
       "<path class=\"bond-0\" d=\"M 454.692,886.841 L 462.587,890.719\" style=\"fill:none;fill-rule:evenodd;stroke:#000000;stroke-width:2.0px;stroke-linecap:butt;stroke-linejoin:miter;stroke-opacity:1\"/>\n",
       "<path class=\"bond-1\" d=\"M 462.587,890.719 L 463.177,899.495\" style=\"fill:none;fill-rule:evenodd;stroke:#000000;stroke-width:2.0px;stroke-linecap:butt;stroke-linejoin:miter;stroke-opacity:1\"/>\n",
       "<path class=\"bond-2\" d=\"M 463.177,899.495 L 471.072,903.372\" style=\"fill:none;fill-rule:evenodd;stroke:#000000;stroke-width:2.0px;stroke-linecap:butt;stroke-linejoin:miter;stroke-opacity:1\"/>\n",
       "<path class=\"bond-3\" d=\"M 471.072,903.372 L 471.662,912.148\" style=\"fill:none;fill-rule:evenodd;stroke:#000000;stroke-width:2.0px;stroke-linecap:butt;stroke-linejoin:miter;stroke-opacity:1\"/>\n",
       "<path class=\"bond-4\" d=\"M 471.072,903.372 L 478.377,898.473\" style=\"fill:none;fill-rule:evenodd;stroke:#000000;stroke-width:2.0px;stroke-linecap:butt;stroke-linejoin:miter;stroke-opacity:1\"/>\n",
       "<path class=\"bond-5\" d=\"M 478.377,898.473 L 486.273,902.35\" style=\"fill:none;fill-rule:evenodd;stroke:#000000;stroke-width:2.0px;stroke-linecap:butt;stroke-linejoin:miter;stroke-opacity:1\"/>\n",
       "<path class=\"bond-6\" d=\"M 486.273,902.35 L 493.578,897.451\" style=\"fill:none;fill-rule:evenodd;stroke:#000000;stroke-width:2.0px;stroke-linecap:butt;stroke-linejoin:miter;stroke-opacity:1\"/>\n",
       "<path class=\"bond-7\" d=\"M 493.578,897.451 L 501.473,901.328\" style=\"fill:none;fill-rule:evenodd;stroke:#000000;stroke-width:2.0px;stroke-linecap:butt;stroke-linejoin:miter;stroke-opacity:1\"/>\n",
       "<path class=\"bond-8\" d=\"M 501.473,901.328 L 504.041,899.606\" style=\"fill:none;fill-rule:evenodd;stroke:#000000;stroke-width:2.0px;stroke-linecap:butt;stroke-linejoin:miter;stroke-opacity:1\"/>\n",
       "<path class=\"bond-8\" d=\"M 504.041,899.606 L 506.608,897.884\" style=\"fill:none;fill-rule:evenodd;stroke:#FF0000;stroke-width:2.0px;stroke-linecap:butt;stroke-linejoin:miter;stroke-opacity:1\"/>\n",
       "<path class=\"bond-9\" d=\"M 510.948,897.495 L 513.811,898.901\" style=\"fill:none;fill-rule:evenodd;stroke:#FF0000;stroke-width:2.0px;stroke-linecap:butt;stroke-linejoin:miter;stroke-opacity:1\"/>\n",
       "<path class=\"bond-9\" d=\"M 513.811,898.901 L 516.673,900.306\" style=\"fill:none;fill-rule:evenodd;stroke:#000000;stroke-width:2.0px;stroke-linecap:butt;stroke-linejoin:miter;stroke-opacity:1\"/>\n",
       "<path class=\"bond-10\" d=\"M 516.673,900.306 L 523.979,895.407\" style=\"fill:none;fill-rule:evenodd;stroke:#000000;stroke-width:2.0px;stroke-linecap:butt;stroke-linejoin:miter;stroke-opacity:1\"/>\n",
       "<path class=\"bond-11\" d=\"M 523.979,895.407 L 531.874,899.284\" style=\"fill:none;fill-rule:evenodd;stroke:#000000;stroke-width:2.0px;stroke-linecap:butt;stroke-linejoin:miter;stroke-opacity:1\"/>\n",
       "<path class=\"bond-12\" d=\"M 531.874,899.284 L 539.179,894.386\" style=\"fill:none;fill-rule:evenodd;stroke:#000000;stroke-width:2.0px;stroke-linecap:butt;stroke-linejoin:miter;stroke-opacity:1\"/>\n",
       "<path class=\"bond-13\" d=\"M 538.791,895.175 L 541.654,896.581\" style=\"fill:none;fill-rule:evenodd;stroke:#000000;stroke-width:2.0px;stroke-linecap:butt;stroke-linejoin:miter;stroke-opacity:1\"/>\n",
       "<path class=\"bond-13\" d=\"M 541.654,896.581 L 544.516,897.987\" style=\"fill:none;fill-rule:evenodd;stroke:#FF0000;stroke-width:2.0px;stroke-linecap:butt;stroke-linejoin:miter;stroke-opacity:1\"/>\n",
       "<path class=\"bond-13\" d=\"M 539.567,893.596 L 542.429,895.002\" style=\"fill:none;fill-rule:evenodd;stroke:#000000;stroke-width:2.0px;stroke-linecap:butt;stroke-linejoin:miter;stroke-opacity:1\"/>\n",
       "<path class=\"bond-13\" d=\"M 542.429,895.002 L 545.292,896.408\" style=\"fill:none;fill-rule:evenodd;stroke:#FF0000;stroke-width:2.0px;stroke-linecap:butt;stroke-linejoin:miter;stroke-opacity:1\"/>\n",
       "<path class=\"atom-9\" d=\"M 506.828 896.441 Q 506.828 895.421, 507.332 894.851 Q 507.836 894.281, 508.778 894.281 Q 509.72 894.281, 510.224 894.851 Q 510.728 895.421, 510.728 896.441 Q 510.728 897.473, 510.218 898.061 Q 509.708 898.643, 508.778 898.643 Q 507.842 898.643, 507.332 898.061 Q 506.828 897.479, 506.828 896.441 M 508.778 898.163 Q 509.426 898.163, 509.774 897.731 Q 510.128 897.293, 510.128 896.441 Q 510.128 895.607, 509.774 895.187 Q 509.426 894.761, 508.778 894.761 Q 508.13 894.761, 507.776 895.181 Q 507.428 895.601, 507.428 896.441 Q 507.428 897.299, 507.776 897.731 Q 508.13 898.163, 508.778 898.163 \" fill=\"#FF0000\"/>\n",
       "<path class=\"atom-14\" d=\"M 545.124 898.275 Q 545.124 897.255, 545.628 896.685 Q 546.132 896.115, 547.074 896.115 Q 548.016 896.115, 548.52 896.685 Q 549.024 897.255, 549.024 898.275 Q 549.024 899.307, 548.514 899.895 Q 548.004 900.477, 547.074 900.477 Q 546.138 900.477, 545.628 899.895 Q 545.124 899.313, 545.124 898.275 M 547.074 899.997 Q 547.722 899.997, 548.07 899.565 Q 548.424 899.127, 548.424 898.275 Q 548.424 897.441, 548.07 897.021 Q 547.722 896.595, 547.074 896.595 Q 546.426 896.595, 546.072 897.015 Q 545.724 897.435, 545.724 898.275 Q 545.724 899.133, 546.072 899.565 Q 546.426 899.997, 547.074 899.997 \" fill=\"#FF0000\"/>\n",
       "</svg>"
      ],
      "text/plain": [
       "<IPython.core.display.SVG object>"
      ]
     },
     "execution_count": 53,
     "metadata": {},
     "output_type": "execute_result"
    }
   ],
   "source": [
    "molecules = [Chem.MolFromSmiles(smi) for smi in smiles_hits]\n",
    "\n",
    "Draw.MolsToGridImage(molecules, subImgSize=(200,200), molsPerRow=3, useSVG=True)"
   ]
  },
  {
   "cell_type": "code",
   "execution_count": null,
   "id": "fc9776e5-0f5d-4e40-8c6d-0efa14dda5c3",
   "metadata": {},
   "outputs": [],
   "source": []
  }
 ],
 "metadata": {
  "kernelspec": {
   "display_name": "RPReactor 3.8",
   "language": "python",
   "name": "rpreactor_3.8"
  },
  "language_info": {
   "codemirror_mode": {
    "name": "ipython",
    "version": 3
   },
   "file_extension": ".py",
   "mimetype": "text/x-python",
   "name": "python",
   "nbconvert_exporter": "python",
   "pygments_lexer": "ipython3",
   "version": "3.8.12"
  }
 },
 "nbformat": 4,
 "nbformat_minor": 5
}
